{
  "nbformat": 4,
  "nbformat_minor": 0,
  "metadata": {
    "colab": {
      "name": "titme_data.ipynb",
      "provenance": [],
      "collapsed_sections": [],
      "mount_file_id": "1wMgK3mz5F-EJGKYv5RE-R7NNonmtlSE6",
      "authorship_tag": "ABX9TyOwD+hkS+o2Y5tRCucO3P3s"
    },
    "kernelspec": {
      "name": "python3",
      "display_name": "Python 3"
    },
    "language_info": {
      "name": "python"
    }
  },
  "cells": [
    {
      "cell_type": "markdown",
      "source": [
        "# 시계열 데이터 다루기"
      ],
      "metadata": {
        "id": "bGGqdqRjWCUk"
      }
    },
    {
      "cell_type": "code",
      "execution_count": 1,
      "metadata": {
        "id": "HtOYDWc6VcPN"
      },
      "outputs": [],
      "source": [
        "from pandas_datareader import data"
      ]
    },
    {
      "cell_type": "code",
      "source": [
        "!pip install yfinance"
      ],
      "metadata": {
        "colab": {
          "base_uri": "https://localhost:8080/"
        },
        "id": "kxbLlQ4OWLRr",
        "outputId": "d6a067fb-6431-45da-f57a-34a327557d73"
      },
      "execution_count": 2,
      "outputs": [
        {
          "output_type": "stream",
          "name": "stdout",
          "text": [
            "Collecting yfinance\n",
            "  Downloading yfinance-0.1.67-py2.py3-none-any.whl (25 kB)\n",
            "Requirement already satisfied: pandas>=0.24 in /usr/local/lib/python3.7/dist-packages (from yfinance) (1.1.5)\n",
            "Requirement already satisfied: numpy>=1.15 in /usr/local/lib/python3.7/dist-packages (from yfinance) (1.19.5)\n",
            "Collecting lxml>=4.5.1\n",
            "  Downloading lxml-4.7.0-cp37-cp37m-manylinux_2_17_x86_64.manylinux2014_x86_64.manylinux_2_24_x86_64.whl (6.3 MB)\n",
            "\u001b[K     |████████████████████████████████| 6.3 MB 42.2 MB/s \n",
            "\u001b[?25hRequirement already satisfied: multitasking>=0.0.7 in /usr/local/lib/python3.7/dist-packages (from yfinance) (0.0.10)\n",
            "Requirement already satisfied: requests>=2.20 in /usr/local/lib/python3.7/dist-packages (from yfinance) (2.23.0)\n",
            "Requirement already satisfied: python-dateutil>=2.7.3 in /usr/local/lib/python3.7/dist-packages (from pandas>=0.24->yfinance) (2.8.2)\n",
            "Requirement already satisfied: pytz>=2017.2 in /usr/local/lib/python3.7/dist-packages (from pandas>=0.24->yfinance) (2018.9)\n",
            "Requirement already satisfied: six>=1.5 in /usr/local/lib/python3.7/dist-packages (from python-dateutil>=2.7.3->pandas>=0.24->yfinance) (1.15.0)\n",
            "Requirement already satisfied: certifi>=2017.4.17 in /usr/local/lib/python3.7/dist-packages (from requests>=2.20->yfinance) (2021.10.8)\n",
            "Requirement already satisfied: chardet<4,>=3.0.2 in /usr/local/lib/python3.7/dist-packages (from requests>=2.20->yfinance) (3.0.4)\n",
            "Requirement already satisfied: idna<3,>=2.5 in /usr/local/lib/python3.7/dist-packages (from requests>=2.20->yfinance) (2.10)\n",
            "Requirement already satisfied: urllib3!=1.25.0,!=1.25.1,<1.26,>=1.21.1 in /usr/local/lib/python3.7/dist-packages (from requests>=2.20->yfinance) (1.24.3)\n",
            "Installing collected packages: lxml, yfinance\n",
            "  Attempting uninstall: lxml\n",
            "    Found existing installation: lxml 4.2.6\n",
            "    Uninstalling lxml-4.2.6:\n",
            "      Successfully uninstalled lxml-4.2.6\n",
            "Successfully installed lxml-4.7.0 yfinance-0.1.67\n"
          ]
        }
      ]
    },
    {
      "cell_type": "code",
      "source": [
        "import yfinance as yf"
      ],
      "metadata": {
        "id": "NNiNaBYRWIq6"
      },
      "execution_count": 3,
      "outputs": []
    },
    {
      "cell_type": "markdown",
      "source": [
        "오픈소스인 야후 증권을 통한 시계열 데이터\n",
        "\n",
        "* 시계열 데이터 : 시간의 흐름에 따른 데이터 (주기 필요)"
      ],
      "metadata": {
        "id": "QcBjQWuPZVsr"
      }
    },
    {
      "cell_type": "code",
      "source": [
        "# 야후 증권 데이터 요청\n",
        "yf.pdr_override()"
      ],
      "metadata": {
        "id": "A4KKWnGuZeuZ"
      },
      "execution_count": 4,
      "outputs": []
    },
    {
      "cell_type": "markdown",
      "source": [
        "### 증권 데이터 요청 시 필요한 차원\n",
        "\n",
        "1. 종목코드 : KIA(종목명) / '000270.KS'\n",
        "2. 요청 시작일 : '2021-1-1'\n",
        "3. 요청 종료일 : '2021-12-10'"
      ],
      "metadata": {
        "id": "aw7_WckEZqeZ"
      }
    },
    {
      "cell_type": "code",
      "source": [
        "start_date = '2017-1-1'\n",
        "end_date = '2017-6-30'\n",
        "\n",
        "# 증권 데이터 요청 : pandas_datareader.get_data_yahoo('종목코드', '시작일', '종료일')\n",
        "KIA = data.get_data_yahoo('000270.KS', start_date, end_date)"
      ],
      "metadata": {
        "colab": {
          "base_uri": "https://localhost:8080/"
        },
        "id": "21RWpj37ZnBZ",
        "outputId": "be518708-9dc4-411c-d0f4-5cb9b6ff4c02"
      },
      "execution_count": 5,
      "outputs": [
        {
          "output_type": "stream",
          "name": "stdout",
          "text": [
            "\r[*********************100%***********************]  1 of 1 completed\n"
          ]
        }
      ]
    },
    {
      "cell_type": "code",
      "source": [
        "print(KIA.shape)\n",
        "KIA.head()"
      ],
      "metadata": {
        "colab": {
          "base_uri": "https://localhost:8080/",
          "height": 256
        },
        "id": "TzowGiPja76i",
        "outputId": "1ff82e9a-cba8-4fd1-fcfe-acdfd144132f"
      },
      "execution_count": 6,
      "outputs": [
        {
          "output_type": "stream",
          "name": "stdout",
          "text": [
            "(122, 6)\n"
          ]
        },
        {
          "output_type": "execute_result",
          "data": {
            "text/html": [
              "<div>\n",
              "<style scoped>\n",
              "    .dataframe tbody tr th:only-of-type {\n",
              "        vertical-align: middle;\n",
              "    }\n",
              "\n",
              "    .dataframe tbody tr th {\n",
              "        vertical-align: top;\n",
              "    }\n",
              "\n",
              "    .dataframe thead th {\n",
              "        text-align: right;\n",
              "    }\n",
              "</style>\n",
              "<table border=\"1\" class=\"dataframe\">\n",
              "  <thead>\n",
              "    <tr style=\"text-align: right;\">\n",
              "      <th></th>\n",
              "      <th>Open</th>\n",
              "      <th>High</th>\n",
              "      <th>Low</th>\n",
              "      <th>Close</th>\n",
              "      <th>Adj Close</th>\n",
              "      <th>Volume</th>\n",
              "    </tr>\n",
              "    <tr>\n",
              "      <th>Date</th>\n",
              "      <th></th>\n",
              "      <th></th>\n",
              "      <th></th>\n",
              "      <th></th>\n",
              "      <th></th>\n",
              "      <th></th>\n",
              "    </tr>\n",
              "  </thead>\n",
              "  <tbody>\n",
              "    <tr>\n",
              "      <th>2017-01-02</th>\n",
              "      <td>39000.0</td>\n",
              "      <td>39600.0</td>\n",
              "      <td>38850.0</td>\n",
              "      <td>39500.0</td>\n",
              "      <td>35970.964844</td>\n",
              "      <td>436193</td>\n",
              "    </tr>\n",
              "    <tr>\n",
              "      <th>2017-01-03</th>\n",
              "      <td>39650.0</td>\n",
              "      <td>40900.0</td>\n",
              "      <td>39650.0</td>\n",
              "      <td>40750.0</td>\n",
              "      <td>37109.285156</td>\n",
              "      <td>1158874</td>\n",
              "    </tr>\n",
              "    <tr>\n",
              "      <th>2017-01-04</th>\n",
              "      <td>40900.0</td>\n",
              "      <td>41450.0</td>\n",
              "      <td>40550.0</td>\n",
              "      <td>41300.0</td>\n",
              "      <td>37610.148438</td>\n",
              "      <td>1159086</td>\n",
              "    </tr>\n",
              "    <tr>\n",
              "      <th>2017-01-05</th>\n",
              "      <td>41300.0</td>\n",
              "      <td>41350.0</td>\n",
              "      <td>40750.0</td>\n",
              "      <td>41100.0</td>\n",
              "      <td>37428.019531</td>\n",
              "      <td>1116473</td>\n",
              "    </tr>\n",
              "    <tr>\n",
              "      <th>2017-01-06</th>\n",
              "      <td>40700.0</td>\n",
              "      <td>40850.0</td>\n",
              "      <td>40550.0</td>\n",
              "      <td>40750.0</td>\n",
              "      <td>37109.285156</td>\n",
              "      <td>888652</td>\n",
              "    </tr>\n",
              "  </tbody>\n",
              "</table>\n",
              "</div>"
            ],
            "text/plain": [
              "               Open     High      Low    Close     Adj Close   Volume\n",
              "Date                                                                 \n",
              "2017-01-02  39000.0  39600.0  38850.0  39500.0  35970.964844   436193\n",
              "2017-01-03  39650.0  40900.0  39650.0  40750.0  37109.285156  1158874\n",
              "2017-01-04  40900.0  41450.0  40550.0  41300.0  37610.148438  1159086\n",
              "2017-01-05  41300.0  41350.0  40750.0  41100.0  37428.019531  1116473\n",
              "2017-01-06  40700.0  40850.0  40550.0  40750.0  37109.285156   888652"
            ]
          },
          "metadata": {},
          "execution_count": 6
        }
      ]
    },
    {
      "cell_type": "markdown",
      "source": [
        "* Open : 장 시각자격\n",
        "* High : 장중 상한가\n",
        "* Low : 장중 하한가\n",
        "* Close : 장 마감가격"
      ],
      "metadata": {
        "id": "LngQW9jZa9jS"
      }
    },
    {
      "cell_type": "code",
      "source": [
        "KIA['Close'].plot(figsize=(12, 6), grid=True)"
      ],
      "metadata": {
        "colab": {
          "base_uri": "https://localhost:8080/",
          "height": 393
        },
        "id": "jkScY2C2a9SZ",
        "outputId": "29c083ae-0759-477d-bd32-84b306beda95"
      },
      "execution_count": 7,
      "outputs": [
        {
          "output_type": "execute_result",
          "data": {
            "text/plain": [
              "<matplotlib.axes._subplots.AxesSubplot at 0x7fd1201e0810>"
            ]
          },
          "metadata": {},
          "execution_count": 7
        },
        {
          "output_type": "display_data",
          "data": {
            "image/png": "[encoded data removed]",
            "text/plain": [
              "<Figure size 864x432 with 1 Axes>"
            ]
          },
          "metadata": {
            "needs_background": "light"
          }
        }
      ]
    },
    {
      "cell_type": "code",
      "source": [
        "KIA_trunc = KIA[:'2017-4-30']\n",
        "KIA_trunc"
      ],
      "metadata": {
        "colab": {
          "base_uri": "https://localhost:8080/",
          "height": 455
        },
        "id": "dkDIoI-OcXzB",
        "outputId": "0349fbb6-476c-4da5-fb4c-aac654e06a8d"
      },
      "execution_count": 8,
      "outputs": [
        {
          "output_type": "execute_result",
          "data": {
            "text/html": [
              "<div>\n",
              "<style scoped>\n",
              "    .dataframe tbody tr th:only-of-type {\n",
              "        vertical-align: middle;\n",
              "    }\n",
              "\n",
              "    .dataframe tbody tr th {\n",
              "        vertical-align: top;\n",
              "    }\n",
              "\n",
              "    .dataframe thead th {\n",
              "        text-align: right;\n",
              "    }\n",
              "</style>\n",
              "<table border=\"1\" class=\"dataframe\">\n",
              "  <thead>\n",
              "    <tr style=\"text-align: right;\">\n",
              "      <th></th>\n",
              "      <th>Open</th>\n",
              "      <th>High</th>\n",
              "      <th>Low</th>\n",
              "      <th>Close</th>\n",
              "      <th>Adj Close</th>\n",
              "      <th>Volume</th>\n",
              "    </tr>\n",
              "    <tr>\n",
              "      <th>Date</th>\n",
              "      <th></th>\n",
              "      <th></th>\n",
              "      <th></th>\n",
              "      <th></th>\n",
              "      <th></th>\n",
              "      <th></th>\n",
              "    </tr>\n",
              "  </thead>\n",
              "  <tbody>\n",
              "    <tr>\n",
              "      <th>2017-01-02</th>\n",
              "      <td>39000.0</td>\n",
              "      <td>39600.0</td>\n",
              "      <td>38850.0</td>\n",
              "      <td>39500.0</td>\n",
              "      <td>35970.964844</td>\n",
              "      <td>436193</td>\n",
              "    </tr>\n",
              "    <tr>\n",
              "      <th>2017-01-03</th>\n",
              "      <td>39650.0</td>\n",
              "      <td>40900.0</td>\n",
              "      <td>39650.0</td>\n",
              "      <td>40750.0</td>\n",
              "      <td>37109.285156</td>\n",
              "      <td>1158874</td>\n",
              "    </tr>\n",
              "    <tr>\n",
              "      <th>2017-01-04</th>\n",
              "      <td>40900.0</td>\n",
              "      <td>41450.0</td>\n",
              "      <td>40550.0</td>\n",
              "      <td>41300.0</td>\n",
              "      <td>37610.148438</td>\n",
              "      <td>1159086</td>\n",
              "    </tr>\n",
              "    <tr>\n",
              "      <th>2017-01-05</th>\n",
              "      <td>41300.0</td>\n",
              "      <td>41350.0</td>\n",
              "      <td>40750.0</td>\n",
              "      <td>41100.0</td>\n",
              "      <td>37428.019531</td>\n",
              "      <td>1116473</td>\n",
              "    </tr>\n",
              "    <tr>\n",
              "      <th>2017-01-06</th>\n",
              "      <td>40700.0</td>\n",
              "      <td>40850.0</td>\n",
              "      <td>40550.0</td>\n",
              "      <td>40750.0</td>\n",
              "      <td>37109.285156</td>\n",
              "      <td>888652</td>\n",
              "    </tr>\n",
              "    <tr>\n",
              "      <th>...</th>\n",
              "      <td>...</td>\n",
              "      <td>...</td>\n",
              "      <td>...</td>\n",
              "      <td>...</td>\n",
              "      <td>...</td>\n",
              "      <td>...</td>\n",
              "    </tr>\n",
              "    <tr>\n",
              "      <th>2017-04-24</th>\n",
              "      <td>34850.0</td>\n",
              "      <td>35200.0</td>\n",
              "      <td>34600.0</td>\n",
              "      <td>35200.0</td>\n",
              "      <td>32055.140625</td>\n",
              "      <td>586018</td>\n",
              "    </tr>\n",
              "    <tr>\n",
              "      <th>2017-04-25</th>\n",
              "      <td>35200.0</td>\n",
              "      <td>35400.0</td>\n",
              "      <td>35050.0</td>\n",
              "      <td>35200.0</td>\n",
              "      <td>32055.140625</td>\n",
              "      <td>919240</td>\n",
              "    </tr>\n",
              "    <tr>\n",
              "      <th>2017-04-26</th>\n",
              "      <td>35450.0</td>\n",
              "      <td>36150.0</td>\n",
              "      <td>35300.0</td>\n",
              "      <td>35900.0</td>\n",
              "      <td>32692.597656</td>\n",
              "      <td>1506801</td>\n",
              "    </tr>\n",
              "    <tr>\n",
              "      <th>2017-04-27</th>\n",
              "      <td>36000.0</td>\n",
              "      <td>36200.0</td>\n",
              "      <td>35000.0</td>\n",
              "      <td>35000.0</td>\n",
              "      <td>31873.007812</td>\n",
              "      <td>1762837</td>\n",
              "    </tr>\n",
              "    <tr>\n",
              "      <th>2017-04-28</th>\n",
              "      <td>34950.0</td>\n",
              "      <td>35000.0</td>\n",
              "      <td>34700.0</td>\n",
              "      <td>34850.0</td>\n",
              "      <td>31736.408203</td>\n",
              "      <td>930840</td>\n",
              "    </tr>\n",
              "  </tbody>\n",
              "</table>\n",
              "<p>82 rows × 6 columns</p>\n",
              "</div>"
            ],
            "text/plain": [
              "               Open     High      Low    Close     Adj Close   Volume\n",
              "Date                                                                 \n",
              "2017-01-02  39000.0  39600.0  38850.0  39500.0  35970.964844   436193\n",
              "2017-01-03  39650.0  40900.0  39650.0  40750.0  37109.285156  1158874\n",
              "2017-01-04  40900.0  41450.0  40550.0  41300.0  37610.148438  1159086\n",
              "2017-01-05  41300.0  41350.0  40750.0  41100.0  37428.019531  1116473\n",
              "2017-01-06  40700.0  40850.0  40550.0  40750.0  37109.285156   888652\n",
              "...             ...      ...      ...      ...           ...      ...\n",
              "2017-04-24  34850.0  35200.0  34600.0  35200.0  32055.140625   586018\n",
              "2017-04-25  35200.0  35400.0  35050.0  35200.0  32055.140625   919240\n",
              "2017-04-26  35450.0  36150.0  35300.0  35900.0  32692.597656  1506801\n",
              "2017-04-27  36000.0  36200.0  35000.0  35000.0  31873.007812  1762837\n",
              "2017-04-28  34950.0  35000.0  34700.0  34850.0  31736.408203   930840\n",
              "\n",
              "[82 rows x 6 columns]"
            ]
          },
          "metadata": {},
          "execution_count": 8
        }
      ]
    },
    {
      "cell_type": "code",
      "source": [
        "# 웹 트래픽 : 08. PinkWink Web Traffinc.csv\n",
        "import pandas as pd\n",
        "web = pd.read_csv('./08. PinkWink Web Traffic.csv',\n",
        "                  encoding=\"utf-8\",\n",
        "                  thousands=',',\n",
        "                  names=['data', 'hit'],\n",
        "                  index_col=0)\n",
        "web.head(3)"
      ],
      "metadata": {
        "colab": {
          "base_uri": "https://localhost:8080/",
          "height": 175
        },
        "id": "CvbQ5dDidFCp",
        "outputId": "cc9f0770-6cb9-4547-ad17-9bb2e225b519"
      },
      "execution_count": 9,
      "outputs": [
        {
          "output_type": "execute_result",
          "data": {
            "text/html": [
              "<div>\n",
              "<style scoped>\n",
              "    .dataframe tbody tr th:only-of-type {\n",
              "        vertical-align: middle;\n",
              "    }\n",
              "\n",
              "    .dataframe tbody tr th {\n",
              "        vertical-align: top;\n",
              "    }\n",
              "\n",
              "    .dataframe thead th {\n",
              "        text-align: right;\n",
              "    }\n",
              "</style>\n",
              "<table border=\"1\" class=\"dataframe\">\n",
              "  <thead>\n",
              "    <tr style=\"text-align: right;\">\n",
              "      <th></th>\n",
              "      <th>hit</th>\n",
              "    </tr>\n",
              "    <tr>\n",
              "      <th>data</th>\n",
              "      <th></th>\n",
              "    </tr>\n",
              "  </thead>\n",
              "  <tbody>\n",
              "    <tr>\n",
              "      <th>16. 7. 1.</th>\n",
              "      <td>766.0</td>\n",
              "    </tr>\n",
              "    <tr>\n",
              "      <th>16. 7. 2.</th>\n",
              "      <td>377.0</td>\n",
              "    </tr>\n",
              "    <tr>\n",
              "      <th>16. 7. 3.</th>\n",
              "      <td>427.0</td>\n",
              "    </tr>\n",
              "  </tbody>\n",
              "</table>\n",
              "</div>"
            ],
            "text/plain": [
              "             hit\n",
              "data            \n",
              "16. 7. 1.  766.0\n",
              "16. 7. 2.  377.0\n",
              "16. 7. 3.  427.0"
            ]
          },
          "metadata": {},
          "execution_count": 9
        }
      ]
    },
    {
      "cell_type": "code",
      "source": [
        "web.isnull().sum()"
      ],
      "metadata": {
        "colab": {
          "base_uri": "https://localhost:8080/"
        },
        "id": "srcrLtvyeANC",
        "outputId": "2ce507d7-6c42-445f-e4a6-be7fbed313a9"
      },
      "execution_count": 10,
      "outputs": [
        {
          "output_type": "execute_result",
          "data": {
            "text/plain": [
              "hit    1\n",
              "dtype: int64"
            ]
          },
          "metadata": {},
          "execution_count": 10
        }
      ]
    },
    {
      "cell_type": "code",
      "source": [
        "web_not_null = web[web['hit'].notnull()]"
      ],
      "metadata": {
        "id": "dMn_3Wobd2Yp"
      },
      "execution_count": 11,
      "outputs": []
    },
    {
      "cell_type": "code",
      "source": [
        "web_not_null['hit'].plot(figsize=(12, 6), grid=True)"
      ],
      "metadata": {
        "colab": {
          "base_uri": "https://localhost:8080/",
          "height": 406
        },
        "id": "PtZDPOw4eD9A",
        "outputId": "f1c5ac6f-0f73-45cd-ef21-60a103c03507"
      },
      "execution_count": 12,
      "outputs": [
        {
          "output_type": "execute_result",
          "data": {
            "text/plain": [
              "<matplotlib.axes._subplots.AxesSubplot at 0x7fd11fcbedd0>"
            ]
          },
          "metadata": {},
          "execution_count": 12
        },
        {
          "output_type": "display_data",
          "data": {
            "image/png": "[encoded data removed]",
            "text/plain": [
              "<Figure size 864x432 with 1 Axes>"
            ]
          },
          "metadata": {
            "needs_background": "light"
          }
        }
      ]
    },
    {
      "cell_type": "markdown",
      "source": [
        "* 회귀 : 데이터가 주기성을 이용하여 한 바퀴돌아, 제자리로 돌아오는 것\n",
        "* 모델 : 1차, 2차, 3차, 15차 등 다항식으로 표현하고 그 결과 값을 이용하여 결정\n",
        "* 다항식 : 1개 이상의 단항식을 대수의 합으로 연결한 식\n",
        "* 단항식 : 숫자 또는 몇 개의 문자의 곱으로 이루어짐 "
      ],
      "metadata": {
        "id": "h0rl5Y7ffBC5"
      }
    },
    {
      "cell_type": "code",
      "source": [
        "# Numpy의 ployfit을 이용한 회귀 분석\n",
        "# 주기성 파악\n",
        "import numpy as np\n",
        "\n",
        "# 1. 시간축 설정\n",
        "time = np.arange(len(web_not_null))\n",
        "time"
      ],
      "metadata": {
        "colab": {
          "base_uri": "https://localhost:8080/"
        },
        "id": "itpJz7leexkR",
        "outputId": "a8bfa174-93d4-4632-895b-61ffde5289eb"
      },
      "execution_count": 13,
      "outputs": [
        {
          "output_type": "execute_result",
          "data": {
            "text/plain": [
              "array([  0,   1,   2,   3,   4,   5,   6,   7,   8,   9,  10,  11,  12,\n",
              "        13,  14,  15,  16,  17,  18,  19,  20,  21,  22,  23,  24,  25,\n",
              "        26,  27,  28,  29,  30,  31,  32,  33,  34,  35,  36,  37,  38,\n",
              "        39,  40,  41,  42,  43,  44,  45,  46,  47,  48,  49,  50,  51,\n",
              "        52,  53,  54,  55,  56,  57,  58,  59,  60,  61,  62,  63,  64,\n",
              "        65,  66,  67,  68,  69,  70,  71,  72,  73,  74,  75,  76,  77,\n",
              "        78,  79,  80,  81,  82,  83,  84,  85,  86,  87,  88,  89,  90,\n",
              "        91,  92,  93,  94,  95,  96,  97,  98,  99, 100, 101, 102, 103,\n",
              "       104, 105, 106, 107, 108, 109, 110, 111, 112, 113, 114, 115, 116,\n",
              "       117, 118, 119, 120, 121, 122, 123, 124, 125, 126, 127, 128, 129,\n",
              "       130, 131, 132, 133, 134, 135, 136, 137, 138, 139, 140, 141, 142,\n",
              "       143, 144, 145, 146, 147, 148, 149, 150, 151, 152, 153, 154, 155,\n",
              "       156, 157, 158, 159, 160, 161, 162, 163, 164, 165, 166, 167, 168,\n",
              "       169, 170, 171, 172, 173, 174, 175, 176, 177, 178, 179, 180, 181,\n",
              "       182, 183, 184, 185, 186, 187, 188, 189, 190, 191, 192, 193, 194,\n",
              "       195, 196, 197, 198, 199, 200, 201, 202, 203, 204, 205, 206, 207,\n",
              "       208, 209, 210, 211, 212, 213, 214, 215, 216, 217, 218, 219, 220,\n",
              "       221, 222, 223, 224, 225, 226, 227, 228, 229, 230, 231, 232, 233,\n",
              "       234, 235, 236, 237, 238, 239, 240, 241, 242, 243, 244, 245, 246,\n",
              "       247, 248, 249, 250, 251, 252, 253, 254, 255, 256, 257, 258, 259,\n",
              "       260, 261, 262, 263, 264, 265, 266, 267, 268, 269, 270, 271, 272,\n",
              "       273, 274, 275, 276, 277, 278, 279, 280, 281, 282, 283, 284, 285,\n",
              "       286, 287, 288, 289, 290, 291, 292, 293, 294, 295, 296, 297, 298,\n",
              "       299, 300, 301, 302, 303, 304, 305, 306, 307, 308, 309, 310, 311,\n",
              "       312, 313, 314, 315, 316, 317, 318, 319, 320, 321, 322, 323, 324,\n",
              "       325, 326, 327, 328, 329, 330, 331, 332, 333, 334, 335, 336, 337,\n",
              "       338, 339, 340, 341, 342, 343, 344, 345, 346, 347, 348, 349, 350,\n",
              "       351, 352, 353, 354, 355, 356, 357, 358, 359, 360, 361, 362, 363,\n",
              "       364])"
            ]
          },
          "metadata": {},
          "execution_count": 13
        }
      ]
    },
    {
      "cell_type": "code",
      "source": [
        "# 2. 웹 트래픽 데이터 추출\n",
        "traffic = web_not_null['hit'].values\n",
        "traffic"
      ],
      "metadata": {
        "colab": {
          "base_uri": "https://localhost:8080/"
        },
        "id": "ZcfnmBfGgkvQ",
        "outputId": "4c966373-5b4b-48b8-8b86-ec076eecd736"
      },
      "execution_count": 14,
      "outputs": [
        {
          "output_type": "execute_result",
          "data": {
            "text/plain": [
              "array([ 766.,  377.,  427.,  902.,  850.,  876.,  868.,  785.,  417.,\n",
              "        550.,  818.,  981.,  877.,  833.,  737.,  393.,  489.,  817.,\n",
              "        989.,  908.,  835.,  782.,  408.,  429.,  808.,  808.,  765.,\n",
              "        742.,  742.,  344.,  408.,  823.,  781.,  745.,  719.,  629.,\n",
              "        386.,  382.,  795.,  799.,  850.,  717.,  595.,  335.,  346.,\n",
              "        433.,  759.,  829.,  716.,  659.,  375.,  386.,  727.,  812.,\n",
              "        723.,  736.,  613.,  337.,  391.,  704.,  757.,  788.,  823.,\n",
              "        721.,  401.,  463.,  948.,  993., 1034.,  877.,  808.,  508.,\n",
              "        669.,  899.,  732.,  352.,  312.,  369.,  522.,  655., 1170.,\n",
              "       1207., 1178., 1126.,  929.,  623.,  799., 1307., 1331., 1455.,\n",
              "       1342., 1090.,  749.,  797., 1117., 1665., 1579., 1461., 1188.,\n",
              "        849., 1364., 1648., 1637., 1601., 1499., 1159.,  902., 1066.,\n",
              "       1594., 1568., 1453., 1433., 1265.,  772.,  932., 1439., 1448.,\n",
              "       1367., 1313.,  895.,  680.,  872., 1464., 1476., 1520., 1464.,\n",
              "       1239.,  734.,  993., 1673., 1736., 1562., 1440., 1228.,  710.,\n",
              "        950., 1618., 1673., 1615., 1563., 1318.,  789., 1069., 1741.,\n",
              "       1745., 1774., 1596., 1343.,  861., 1102., 1728., 1861., 2107.,\n",
              "       2022., 1748., 1233., 1264., 1750., 1941., 1580., 1653., 1476.,\n",
              "       1054., 1088., 1618., 1753., 1697., 1634., 1389.,  956.,  876.,\n",
              "       1410., 1316., 1202., 1026.,  855.,  386.,  379.,  953.,  979.,\n",
              "       1027.,  933.,  688.,  380.,  378., 1013., 1066., 1149., 1200.,\n",
              "       1071.,  491.,  655., 1238., 1208., 1135., 1152., 1011.,  547.,\n",
              "        513., 1171., 1180., 1114., 1068., 1050.,  498.,  506., 1148.,\n",
              "       1088., 1025.,  789.,  405.,  316.,  354.,  530., 1083., 1060.,\n",
              "       1076., 1003.,  555.,  588., 1170., 1173., 1177., 1159.,  994.,\n",
              "        617.,  587., 1139., 1250., 1192., 1101.,  987.,  614.,  645.,\n",
              "       1254., 1227., 1217., 1139., 1002.,  613.,  619., 1213., 1146.,\n",
              "        677., 1190., 1082.,  628.,  723., 1343., 1563., 2243., 1972.,\n",
              "       1398.,  883., 1036., 1883., 1804., 1966., 1958., 1660.,  984.,\n",
              "       1635., 2372., 2182., 2147., 2045., 1626., 1136., 1375., 2338.,\n",
              "       2352., 2218., 1958., 1669., 1088., 1420., 2281., 2317., 2290.,\n",
              "       2156., 2172., 1191., 1565., 2336., 2374., 2210., 2019., 1892.,\n",
              "       1286., 1332., 2187., 2266., 2060., 2065., 1600., 1060., 1241.,\n",
              "       1941., 1898., 1873., 1736., 1450.,  816., 1050., 1518., 1420.,\n",
              "       1047., 1282.,  836.,  861., 1152., 1643., 1381., 1985., 1992.,\n",
              "       1581., 1095., 1269., 2000., 2109., 1987., 1819., 1403., 1038.,\n",
              "       1282., 2012., 2122., 2027., 1913., 1515., 1231., 1461., 2315.,\n",
              "       2320., 2294., 2118., 1883., 1433., 1637., 2158., 1860., 2477.,\n",
              "       2172., 1958., 1427., 1558., 2164., 2183., 2051., 1975., 1734.,\n",
              "       1155., 1237., 1915., 1817., 1558., 1472., 1244.,  746.,  746.,\n",
              "       1309., 1436., 1387., 1328., 1193.])"
            ]
          },
          "metadata": {},
          "execution_count": 14
        }
      ]
    },
    {
      "cell_type": "markdown",
      "source": [
        "3. 추출된 데이터를 이용한 간단한 모델 작성"
      ],
      "metadata": {
        "id": "IvfJVViZhjpg"
      }
    },
    {
      "cell_type": "code",
      "source": [
        "# 모델의 적합성 확인을 위한 사용자 정의 함수\n",
        "fx = np.linspace(0, time[-1], 1000)\n",
        "\n",
        "def error(f, x, y):\n",
        "    return np.sqrt(np.mean((f(x)-y)**2))"
      ],
      "metadata": {
        "id": "KMNTmnU-g39o"
      },
      "execution_count": 15,
      "outputs": []
    },
    {
      "cell_type": "code",
      "source": [
        "# 1차 다항식\n",
        "fp1 = np.polyfit(time, traffic, 1)\n",
        "f1 = np.poly1d(fp1)\n",
        "print(fp1)\n",
        "f1"
      ],
      "metadata": {
        "colab": {
          "base_uri": "https://localhost:8080/"
        },
        "id": "Dkn1AMh-glaX",
        "outputId": "dcc869ee-27bd-4440-aa24-1a3677f07569"
      },
      "execution_count": 16,
      "outputs": [
        {
          "output_type": "stream",
          "name": "stdout",
          "text": [
            "[  2.94751137 678.39950595]\n"
          ]
        },
        {
          "output_type": "execute_result",
          "data": {
            "text/plain": [
              "poly1d([  2.94751137, 678.39950595])"
            ]
          },
          "metadata": {},
          "execution_count": 16
        }
      ]
    },
    {
      "cell_type": "code",
      "source": [
        "# 2차 다항식\n",
        "fp2 = np.polyfit(time, traffic, 2)\n",
        "f2 = np.poly1d(fp2)\n",
        "print(fp2)\n",
        "f2"
      ],
      "metadata": {
        "colab": {
          "base_uri": "https://localhost:8080/"
        },
        "id": "WbDIOBOTiMzY",
        "outputId": "0b56e83a-2349-4165-aec0-a9cf5c6ee08d"
      },
      "execution_count": 17,
      "outputs": [
        {
          "output_type": "stream",
          "name": "stdout",
          "text": [
            "[-1.42164283e-03  3.46498936e+00  6.47092087e+02]\n"
          ]
        },
        {
          "output_type": "execute_result",
          "data": {
            "text/plain": [
              "poly1d([-1.42164283e-03,  3.46498936e+00,  6.47092087e+02])"
            ]
          },
          "metadata": {},
          "execution_count": 17
        }
      ]
    },
    {
      "cell_type": "code",
      "source": [
        "# 3차 다항식\n",
        "fp3 = np.polyfit(time, traffic, 3)\n",
        "f3 = np.poly1d(fp3)\n",
        "print(fp3)\n",
        "f3"
      ],
      "metadata": {
        "colab": {
          "base_uri": "https://localhost:8080/"
        },
        "id": "KLYrJx-giNDv",
        "outputId": "6ad330bc-87f9-44ca-faf4-0b4b93b2e3f8"
      },
      "execution_count": 18,
      "outputs": [
        {
          "output_type": "stream",
          "name": "stdout",
          "text": [
            "[ 3.34072153e-05 -1.96619824e-02  6.11714142e+00  5.67195752e+02]\n"
          ]
        },
        {
          "output_type": "execute_result",
          "data": {
            "text/plain": [
              "poly1d([ 3.34072153e-05, -1.96619824e-02,  6.11714142e+00,  5.67195752e+02])"
            ]
          },
          "metadata": {},
          "execution_count": 18
        }
      ]
    },
    {
      "cell_type": "code",
      "source": [
        "# 15차 다항식\n",
        "fp15 = np.polyfit(time, traffic, 15)\n",
        "f15 = np.poly1d(fp15)\n",
        "print(fp15)\n",
        "f15"
      ],
      "metadata": {
        "colab": {
          "base_uri": "https://localhost:8080/"
        },
        "id": "GEdUmIGTiNT3",
        "outputId": "9bbd23d5-7eb5-4190-ee5e-16e1be0a6725"
      },
      "execution_count": 19,
      "outputs": [
        {
          "output_type": "stream",
          "name": "stdout",
          "text": [
            "[ 2.37543910e-29 -6.18484005e-26  7.30049484e-23 -5.16078535e-20\n",
            "  2.42917980e-17 -8.00161734e-15  1.88604319e-12 -3.19727279e-10\n",
            "  3.86604977e-08 -3.26711234e-06  1.87093529e-04 -7.04466696e-03\n",
            "  1.76802632e-01 -3.15304719e+00  3.27804790e+01  6.17394489e+02]\n"
          ]
        },
        {
          "output_type": "execute_result",
          "data": {
            "text/plain": [
              "poly1d([ 2.37543910e-29, -6.18484005e-26,  7.30049484e-23, -5.16078535e-20,\n",
              "        2.42917980e-17, -8.00161734e-15,  1.88604319e-12, -3.19727279e-10,\n",
              "        3.86604977e-08, -3.26711234e-06,  1.87093529e-04, -7.04466696e-03,\n",
              "        1.76802632e-01, -3.15304719e+00,  3.27804790e+01,  6.17394489e+02])"
            ]
          },
          "metadata": {},
          "execution_count": 19
        }
      ]
    },
    {
      "cell_type": "code",
      "source": [
        "print(error(f1, time, traffic))"
      ],
      "metadata": {
        "colab": {
          "base_uri": "https://localhost:8080/"
        },
        "id": "0ZFMkfxRi3zv",
        "outputId": "a3eade38-4ab2-429f-b491-3ac7a346a84e"
      },
      "execution_count": 20,
      "outputs": [
        {
          "output_type": "stream",
          "name": "stdout",
          "text": [
            "430.8597308110963\n"
          ]
        }
      ]
    },
    {
      "cell_type": "code",
      "source": [
        "print(error(f2, time, traffic))"
      ],
      "metadata": {
        "colab": {
          "base_uri": "https://localhost:8080/"
        },
        "id": "SR_PCNpTjAmI",
        "outputId": "3802c0cc-c85e-48e2-d2bf-36969cbe95f0"
      },
      "execution_count": 21,
      "outputs": [
        {
          "output_type": "stream",
          "name": "stdout",
          "text": [
            "430.62841018946943\n"
          ]
        }
      ]
    },
    {
      "cell_type": "code",
      "source": [
        "print(error(f3, time, traffic))"
      ],
      "metadata": {
        "colab": {
          "base_uri": "https://localhost:8080/"
        },
        "id": "-YNZ0o9QjA34",
        "outputId": "f7bbf8b5-cbb4-4bb1-a225-f2415e116c2e"
      },
      "execution_count": 22,
      "outputs": [
        {
          "output_type": "stream",
          "name": "stdout",
          "text": [
            "429.53280466762925\n"
          ]
        }
      ]
    },
    {
      "cell_type": "code",
      "source": [
        "print(error(f15, time, traffic))"
      ],
      "metadata": {
        "colab": {
          "base_uri": "https://localhost:8080/"
        },
        "id": "xwriH6YxjBMf",
        "outputId": "5674655a-6fca-45e5-8b70-62b3b9d02fa4"
      },
      "execution_count": 23,
      "outputs": [
        {
          "output_type": "stream",
          "name": "stdout",
          "text": [
            "330.4777304836984\n"
          ]
        }
      ]
    },
    {
      "cell_type": "code",
      "source": [
        "import matplotlib.pyplot as plt\n",
        "\n",
        "plt.figure(figsize=(10, 6))\n",
        "plt.scatter(time, traffic, s=10)\n",
        "\n",
        "plt.plot(fx, f1(fx), lw=4, label='f1')\n",
        "plt.plot(fx, f2(fx), lw=4, label='f2')\n",
        "plt.plot(fx, f3(fx), lw=4, label='f3')\n",
        "plt.plot(fx, f15(fx), lw=4, label='f15')\n",
        "\n",
        "plt.legend(loc=2)\n",
        "plt.show()"
      ],
      "metadata": {
        "colab": {
          "base_uri": "https://localhost:8080/",
          "height": 374
        },
        "id": "5CJbyAiCjacn",
        "outputId": "ee195840-0812-499e-d33d-4cb7d62222eb"
      },
      "execution_count": 24,
      "outputs": [
        {
          "output_type": "display_data",
          "data": {
            "image/png": "[encoded data removed]",
            "text/plain": [
              "<Figure size 720x432 with 1 Axes>"
            ]
          },
          "metadata": {
            "needs_background": "light"
          }
        }
      ]
    },
    {
      "cell_type": "markdown",
      "source": [
        "1차, 2차, 3차는 별 차이가 없음 -> 1차를 사용\n",
        "\n",
        "15차의 경우 과적합(overfitting)일 가능성이 높음 -> 모델 부적합\n",
        "\n",
        "* overfitting이란.\n",
        "    * 학습 데이터를 과하게 학습하는 것.\n",
        "    * 일반적으로 학습 데이터는 실제 데이터의 일부이기 때문에, 학습 데이터에 대해 오차가 감소할 수 있지만, 실제 데이터에 대해서는 오차가 증가할 수 있다.\n",
        "\n",
        "학습 데이터는 실제 데이터의 일부분이기 때문에 실제 데이터를 모두 수집하기 어렵고, 실제 데이터를 수집한다하더라도 모든 데이터를 학습시키기 위한 시간이 측정 불가능한 수준으로 증가할 수 있다.\n",
        "\n",
        "따라서 학습 데이터만 가지고는 실제 데이터의 오차가 증가하는 시점을 예측하는 것은 매우 어렵다."
      ],
      "metadata": {
        "id": "hEcY5UnilaPP"
      }
    }
  ]
}