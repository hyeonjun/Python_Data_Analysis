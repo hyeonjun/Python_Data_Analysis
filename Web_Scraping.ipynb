{
  "nbformat": 4,
  "nbformat_minor": 0,
  "metadata": {
    "colab": {
      "name": "Web_Scraping.ipynb",
      "provenance": [],
      "mount_file_id": "1vdyiD2WTa41U6sBEYv2752upDouCSLB6",
      "authorship_tag": "ABX9TyOkU7k2EK5HYPwgj8z1KK8M",
      "include_colab_link": true
    },
    "kernelspec": {
      "name": "python3",
      "display_name": "Python 3"
    },
    "language_info": {
      "name": "python"
    }
  },
  "cells": [
    {
      "cell_type": "markdown",
      "metadata": {
        "id": "view-in-github",
        "colab_type": "text"
      },
      "source": [
        "<a href=\"https://colab.research.google.com/github/hyeonjun/Python_Data_Analysis/blob/main/Web_Scraping.ipynb\" target=\"_parent\"><img src=\"https://colab.research.google.com/assets/colab-badge.svg\" alt=\"Open In Colab\"/></a>"
      ]
    },
    {
      "cell_type": "markdown",
      "source": [
        "* webbrowser :  웹 페이지 접속, open() / open_new() 단, 전달값은 http~\n",
        "* requests : html 소스 읽기, get() 단 전달값은 http~\n",
        "* bs4의 BeautifulSoup : html 소스로부터 필요 데이터 검색, 추출. BeautifulSoup 클래스의 생성자에게 html 소수와 'lxml'과 같은 분석 형식 전달"
      ],
      "metadata": {
        "id": "uTdfEO8DS6Cu"
      }
    },
    {
      "cell_type": "code",
      "execution_count": 1,
      "metadata": {
        "id": "YGd4lTDXSijm"
      },
      "outputs": [],
      "source": [
        "import webbrowser\n",
        "\n",
        "url = 'www.naver.com'"
      ]
    },
    {
      "cell_type": "code",
      "source": [
        "webbrowser.open(url)\n",
        "webbrowser.open_new(url) # 새 창으로 접속(새 탭)"
      ],
      "metadata": {
        "colab": {
          "base_uri": "https://localhost:8080/"
        },
        "id": "Nwtequj-TfK1",
        "outputId": "1f992c45-6633-44c0-b3de-5a81825ef27c"
      },
      "execution_count": 2,
      "outputs": [
        {
          "output_type": "execute_result",
          "data": {
            "text/plain": [
              "False"
            ]
          },
          "metadata": {},
          "execution_count": 2
        }
      ]
    },
    {
      "cell_type": "code",
      "source": [
        "# https://search.naver.com/search.naver?where=nexearch&sm=top_hty&fbm=0&ie=utf8&query=%ED%8C%8C%EC%9D%B4%EC%8D%AC\n",
        "# 검색주소: https://search.naver.com/search.naver?\n",
        "# 검색어 : query=\n",
        "naver_search_url = 'https://search.naver.com/search.naver?query='\n",
        "search_word = '파이썬'\n",
        "webbrowser.open_new(naver_search_url+search_word)"
      ],
      "metadata": {
        "colab": {
          "base_uri": "https://localhost:8080/"
        },
        "id": "agxd1bUTUJP2",
        "outputId": "ff2a9b82-f7fc-428f-99d5-7fd4776cdc6b"
      },
      "execution_count": 3,
      "outputs": [
        {
          "output_type": "execute_result",
          "data": {
            "text/plain": [
              "False"
            ]
          },
          "metadata": {},
          "execution_count": 3
        }
      ]
    },
    {
      "cell_type": "code",
      "source": [
        "# html 페이지 소스 요청 : request의 get()\n",
        "import requests"
      ],
      "metadata": {
        "id": "ZSMJxaECXt98"
      },
      "execution_count": 4,
      "outputs": []
    },
    {
      "cell_type": "code",
      "source": [
        "r = requests.get('http://www.naver.com')\n",
        "r"
      ],
      "metadata": {
        "colab": {
          "base_uri": "https://localhost:8080/"
        },
        "id": "Ml8mIT4_Ye6k",
        "outputId": "12fd14ab-84e0-46a5-f1f9-68c6b4a629d5"
      },
      "execution_count": 5,
      "outputs": [
        {
          "output_type": "execute_result",
          "data": {
            "text/plain": [
              "<Response [200]>"
            ]
          },
          "metadata": {},
          "execution_count": 5
        }
      ]
    },
    {
      "cell_type": "code",
      "source": [
        "r.text[:100]"
      ],
      "metadata": {
        "colab": {
          "base_uri": "https://localhost:8080/",
          "height": 35
        },
        "id": "TYrhGhpwZCF8",
        "outputId": "d67585ff-7c1d-46a8-8183-28834f1d2e09"
      },
      "execution_count": 6,
      "outputs": [
        {
          "output_type": "execute_result",
          "data": {
            "application/vnd.google.colaboratory.intrinsic+json": {
              "type": "string"
            },
            "text/plain": [
              "'\\n<!doctype html>                          <html lang=\"ko\" data-dark=\"false\"> <head> <meta charset=\"u'"
            ]
          },
          "metadata": {},
          "execution_count": 6
        }
      ]
    },
    {
      "cell_type": "code",
      "source": [
        "r = requests.get('http://www.naver.com').text\n",
        "r"
      ],
      "metadata": {
        "colab": {
          "base_uri": "https://localhost:8080/",
          "height": 127
        },
        "id": "PcAEN78FaOiD",
        "outputId": "d54f40c0-a70f-4d7f-beb7-8bdad02dc92a"
      },
      "execution_count": 7,
      "outputs": [
        {
          "output_type": "execute_result",
          "data": {
            "application/vnd.google.colaboratory.intrinsic+json": {
              "type": "string"
            },
            "text/plain": [
              "'\\n<!doctype html>                          <html lang=\"ko\" data-dark=\"false\"> <head> <meta charset=\"utf-8\"> <title>NAVER</title> <meta http-equiv=\"X-UA-Compatible\" content=\"IE=edge\"> <meta name=\"viewport\" content=\"width=1190\"> <meta name=\"apple-mobile-web-app-title\" content=\"NAVER\"/> <meta name=\"robots\" content=\"index,nofollow\"/> <meta name=\"description\" content=\"네이버 메인에서 다양한 정보와 유용한 컨텐츠를 만나 보세요\"/> <meta property=\"og:title\" content=\"네이버\"> <meta property=\"og:url\" content=\"https://www.naver.com/\"> <meta property=\"og:image\" content=\"https://s.pstatic.net/static/www/mobile/edit/2016/0705/mobile_212852414260.png\"> <meta property=\"og:description\" content=\"네이버 메인에서 다양한 정보와 유용한 컨텐츠를 만나 보세요\"/> <meta name=\"twitter:card\" content=\"summary\"> <meta name=\"twitter:title\" content=\"\"> <meta name=\"twitter:url\" content=\"https://www.naver.com/\"> <meta name=\"twitter:image\" content=\"https://s.pstatic.net/static/www/mobile/edit/2016/0705/mobile_212852414260.png\"> <meta name=\"twitter:description\" content=\"네이버 메인에서 다양한 정보와 유용한 컨텐츠를 만나 보세요\"/>  <link rel=\"stylesheet\" href=\"https://pm.pstatic.net/dist/css/nmain.20211209.css\"> <link rel=\"stylesheet\" href=\"https://ssl.pstatic.net/sstatic/search/pc/css/sp_autocomplete_210318.css\"> <link rel=\"shortcut icon\" type=\"image/x-icon\" href=\"/favicon.ico?1\"/>  <link rel=\"apple-touch-icon\" sizes=\"114x114\" href=\"https://s.pstatic.net/static/www/u/2014/0328/mma_204243574.png\"/> <link rel=\"apple-touch-icon\" href=\"https://s.pstatic.net/static/www/u/2014/0328/mma_20432863.png\"/> <script>window.nmain=window.nmain||{},window.nmain.supportFlicking=!1;var nsc=\"navertop.v4\",ua=navigator.userAgent,useIeJSFlag=\"1\";window.nmain.isIE=\"0\"===useIeJSFlag,document.getElementsByTagName(\"html\")[0].setAttribute(\"data-useragent\",ua),window.nmain.isIE&&(Object.create=function(n){function t(){}return t.prototype=n,new t})</script> <script>var darkmode= false;window.naver_corp_da=window.naver_corp_da||{main:{}},window.naver_corp_da.main=window.naver_corp_da.main||{},window.naver_corp_da.main.darkmode=darkmode,window.gladsdk=window.gladsdk||{cmd:[]},window.gladsdk.cmd.push((function(){window.gladsdk.setHostMeta(\"theme\",darkmode?\"dark\":\"light\")}));var customParam={nrefreshx:0};document.cookie.search(\"PM_CK_nrefreshx=1\")>=0&&(customParam.calp=1,customParam.nrefreshx=1),window.ndpsdk=window.ndpsdk||{cmd:[],polyfill:{cmd:[]}}</script>  <script async src=\"https://ssl.pstatic.net/tveta/libs/glad/prod/gfp-core.js\"></script> <script async src=\"https://ssl.pstatic.net/tveta/libs/ndpsdk/prod/ndp-loader.js\"></script>  <script> window.nmain.gv = {  isLogin: false,\\nuseId: null,   daInfo: {\"ANIMAL\":{\"menu\":\"ANIMAL\",\"childMenu\":\"\",\"adType\":\"singleDom\",\"multiDomAdUrl\":\"\",\"multiDomUnit\":\"\",\"infoList\":[{\"adposId\":\"1000161\",\"singleDomAdUrl\":\"https://siape.veta.naver.com/fxshow\",\"param\":{\"da_dom_id\":\"p_main_animal_1\",\"tb\":\"ANIMAL_1\",\"unit\":\"SU10567\",\"calp\":\"-\"},\"type\":{\"position\":\"abs\",\"positionIndex\":4,\"subject\":\"contents\"},\"dom\":null},{\"adposId\":\"1000162\",\"singleDomAdUrl\":\"https://siape.veta.naver.com/fxshow\",\"param\":{\"da_dom_id\":\"p_main_animal_2\",\"tb\":\"ANIMAL_1\",\"unit\":\"SU10568\",\"calp\":\"-\"},\"type\":{\"position\":\"abs\",\"positionIndex\":8,\"subject\":\"contents\"},\"dom\":null}]},\"BEAUTY\":{\"menu\":\"BEAUTY\",\"childMenu\":\"\",\"adType\":\"singleDom\",\"multiDomAdUrl\":\"\",\"multiDomUnit\":\"\",\"infoList\":[{\"adposId\":\"1000163\",\"singleDomAdUrl\":\"https://siape.veta.naver.com/fxshow\",\"param\":{\"da_dom_id\":\"p_main_beauty_1\",\"tb\":\"BEAUTY_1\",\"unit\":\"SU10595\",\"calp\":\"-\"},\"type\":{\"position\":\"abs\",\"positionIndex\":4,\"subject\":\"contents\"},\"dom\":null},{\"adposId\":\"1000164\",\"singleDomAdUrl\":\"https://siape.veta.naver.com/fxshow\",\"param\":{\"da_dom_id\":\"p_main_beauty_2\",\"tb\":\"BEAUTY_1\",\"unit\":\"SU10596\",\"calp\":\"-\"},\"type\":{\"position\":\"abs\",\"positionIndex\":8,\"subject\":\"contents\"},\"dom\":null}]},\"BUSINESS\":{\"menu\":\"BUSINESS\",\"childMenu\":\"\",\"adType\":\"singleDom\",\"multiDomAdUrl\":\"\",\"multiDomUnit\":\"\",\"infoList\":[{\"adposId\":\"1000165\",\"singleDomAdUrl\":\"https://siape.veta.naver.com/fxshow\",\"param\":{\"da_dom_id\":\"p_main_business_1\",\"tb\":\"BUSINESS_1\",\"unit\":\"SU10577\",\"calp\":\"-\"},\"type\":{\"position\":\"abs\",\"positionIndex\":4,\"subject\":\"contents\"},\"dom\":null},{\"adposId\":\"1000166\",\"singleDomAdUrl\":\"https://siape.veta.naver.com/fxshow\",\"param\":{\"da_dom_id\":\"p_main_business_2\",\"tb\":\"BUSINESS_1\",\"unit\":\"SU10578\",\"calp\":\"-\"},\"type\":{\"position\":\"abs\",\"positionIndex\":8,\"subject\":\"contents\"},\"dom\":null}]},\"CARGAME\":{\"menu\":\"CARGAME\",\"childMenu\":\"\",\"adType\":\"singleDom\",\"multiDomAdUrl\":\"\",\"multiDomUnit\":\"\",\"infoList\":[{\"adposId\":\"1000167\",\"singleDomAdUrl\":\"https://siape.veta.naver.com/fxshow\",\"param\":{\"da_dom_id\":\"p_main_cargame_1\",\"tb\":\"CARGAME_1\",\"unit\":\"SU10587\",\"calp\":\"-\"},\"type\":{\"position\":\"abs\",\"positionIndex\":4,\"subject\":\"contents\"},\"dom\":null},{\"adposId\":\"1000168\",\"singleDomAdUrl\":\"https://siape.veta.naver.com/fxshow\",\"param\":{\"da_dom_id\":\"p_main_cargame_2\",\"tb\":\"CARGAME_1\",\"unit\":\"SU10588\",\"calp\":\"-\"},\"type\":{\"position\":\"abs\",\"positionIndex\":8,\"subject\":\"contents\"},\"dom\":null}]},\"CHINA\":{\"menu\":\"CHINA\",\"childMenu\":\"\",\"adType\":\"singleDom\",\"multiDomAdUrl\":\"\",\"multiDomUnit\":\"\",\"infoList\":[{\"adposId\":\"1000169\",\"singleDomAdUrl\":\"https://siape.veta.naver.com/fxshow\",\"param\":{\"da_dom_id\":\"p_main_china_1\",\"tb\":\"CHINA_1\",\"unit\":\"SU10591\",\"calp\":\"-\"},\"type\":{\"position\":\"abs\",\"positionIndex\":4,\"subject\":\"contents\"},\"dom\":null},{\"adposId\":\"1000170\",\"singleDomAdUrl\":\"https://siape.veta.naver.com/fxshow\",\"param\":{\"da_dom_id\":\"p_main_china_2\",\"tb\":\"CHINA_1\",\"unit\":\"SU10592\",\"calp\":\"-\"},\"type\":{\"position\":\"abs\",\"positionIndex\":8,\"subject\":\"contents\"},\"dom\":null}]},\"DESIGN\":{\"menu\":\"DESIGN\",\"childMenu\":\"\",\"adType\":\"singleDom\",\"multiDomAdUrl\":\"\",\"multiDomUnit\":\"\",\"infoList\":[{\"adposId\":\"1000171\",\"singleDomAdUrl\":\"https://siape.veta.naver.com/fxshow\",\"param\":{\"da_dom_id\":\"p_main_design_1\",\"tb\":\"DESIGN_1\",\"unit\":\"SU10569\",\"calp\":\"-\"},\"type\":{\"position\":\"abs\",\"positionIndex\":4,\"subject\":\"contents\"},\"dom\":null},{\"adposId\":\"1000172\",\"singleDomAdUrl\":\"https://siape.veta.naver.com/fxshow\",\"param\":{\"da_dom_id\":\"p_main_design_2\",\"tb\":\"DESIGN_1\",\"unit\":\"SU10570\",\"calp\":\"-\"},\"type\":{\"position\":\"abs\",\"positionIndex\":8,\"subject\":\"contents\"},\"dom\":null}]},\"FARM\":{\"menu\":\"FARM\",\"childMenu\":\"\",\"adType\":\"singleDom\",\"multiDomAdUrl\":\"\",\"multiDomUnit\":\"\",\"infoList\":[{\"adposId\":\"1000173\",\"singleDomAdUrl\":\"https://siape.veta.naver.com/fxshow\",\"param\":{\"da_dom_id\":\"p_main_farm_1\",\"tb\":\"FARM_1\",\"unit\":\"SU10561\",\"calp\":\"-\"},\"type\":{\"position\":\"abs\",\"positionIndex\":4,\"subject\":\"contents\"},\"dom\":null},{\"adposId\":\"1000174\",\"singleDomAdUrl\":\"https://siape.veta.naver.com/fxshow\",\"param\":{\"da_dom_id\":\"p_main_farm_2\",\"tb\":\"FARM_1\",\"unit\":\"SU10562\",\"calp\":\"-\"},\"type\":{\"position\":\"abs\",\"positionIndex\":8,\"subject\":\"contents\"},\"dom\":null}]},\"FINANCE\":{\"menu\":\"FINANCE\",\"childMenu\":\"\",\"adType\":\"singleDom\",\"multiDomAdUrl\":\"\",\"multiDomUnit\":\"\",\"infoList\":[{\"adposId\":\"1000175\",\"singleDomAdUrl\":\"https://siape.veta.naver.com/fxshow\",\"param\":{\"da_dom_id\":\"p_main_finance_1\",\"tb\":\"FINANCE_1\",\"unit\":\"SU10563\",\"calp\":\"-\"},\"type\":{\"position\":\"abs\",\"positionIndex\":4,\"subject\":\"contents\"},\"dom\":null},{\"adposId\":\"1000176\",\"singleDomAdUrl\":\"https://siape.veta.naver.com/fxshow\",\"param\":{\"da_dom_id\":\"p_main_finance_2\",\"tb\":\"FINANCE_1\",\"unit\":\"SU10564\",\"calp\":\"-\"},\"type\":{\"position\":\"abs\",\"positionIndex\":8,\"subject\":\"contents\"},\"dom\":null}]},\"ITTECH\":{\"menu\":\"ITTECH\",\"childMenu\":\"\",\"adType\":\"singleDom\",\"multiDomAdUrl\":\"\",\"multiDomUnit\":\"\",\"infoList\":[{\"adposId\":\"1000177\",\"singleDomAdUrl\":\"https://siape.veta.naver.com/fxshow\",\"param\":{\"da_dom_id\":\"p_main_ittech_1\",\"tb\":\"ITTECH_1\",\"unit\":\"SU10593\",\"calp\":\"-\"},\"type\":{\"position\":\"abs\",\"positionIndex\":4,\"subject\":\"contents\"},\"dom\":null},{\"adposId\":\"1000178\",\"singleDomAdUrl\":\"https://siape.veta.naver.com/fxshow\",\"param\":{\"da_dom_id\":\"p_main_ittech_2\",\"tb\":\"ITTECH_1\",\"unit\":\"SU10594\",\"calp\":\"-\"},\"type\":{\"position\":\"abs\",\"positionIndex\":8,\"subject\":\"contents\"},\"dom\":null}]},\"JOB\":{\"menu\":\"JOB\",\"childMenu\":\"\",\"adType\":\"singleDom\",\"multiDomAdUrl\":\"\",\"multiDomUnit\":\"\",\"infoList\":[{\"adposId\":\"1000179\",\"singleDomAdUrl\":\"https://siape.veta.naver.com/fxshow\",\"param\":{\"da_dom_id\":\"p_main_job_1\",\"tb\":\"JOB_1\",\"unit\":\"SU10589\",\"calp\":\"-\"},\"type\":{\"position\":\"abs\",\"positionIndex\":4,\"subject\":\"contents\"},\"dom\":null},{\"adposId\":\"1000180\",\"singleDomAdUrl\":\"https://siape.veta.naver.com/fxshow\",\"param\":{\"da_dom_id\":\"p_main_job_2\",\"tb\":\"JOB_1\",\"unit\":\"SU10590\",\"calp\":\"-\"},\"type\":{\"position\":\"abs\",\"positionIndex\":8,\"subject\":\"contents\"},\"dom\":null}]},\"LAW\":{\"menu\":\"LAW\",\"childMenu\":\"\",\"adType\":\"singleDom\",\"multiDomAdUrl\":\"\",\"multiDomUnit\":\"\",\"infoList\":[{\"adposId\":\"1000181\",\"singleDomAdUrl\":\"https://siape.veta.naver.com/fxshow\",\"param\":{\"da_dom_id\":\"p_main_law_1\",\"tb\":\"LAW_1\",\"unit\":\"SU10573\",\"calp\":\"-\"},\"type\":{\"position\":\"abs\",\"positionIndex\":4,\"subject\":\"contents\"},\"dom\":null},{\"adposId\":\"1000182\",\"singleDomAdUrl\":\"https://siape.veta.naver.com/fxshow\",\"param\":{\"da_dom_id\":\"p_main_law_2\",\"tb\":\"LAW_1\",\"unit\":\"SU10574\",\"calp\":\"-\"},\"type\":{\"position\":\"abs\",\"positionIndex\":8,\"subject\":\"contents\"},\"dom\":null}]},\"LIVING\":{\"menu\":\"LIVING\",\"childMenu\":\"\",\"adType\":\"singleDom\",\"multiDomAdUrl\":\"\",\"multiDomUnit\":\"\",\"infoList\":[{\"adposId\":\"1000183\",\"singleDomAdUrl\":\"https://siape.veta.naver.com/fxshow\",\"param\":{\"da_dom_id\":\"p_main_living_1\",\"tb\":\"LIVING_1\",\"unit\":\"SU10597\",\"calp\":\"-\"},\"type\":{\"position\":\"abs\",\"positionIndex\":4,\"subject\":\"contents\"},\"dom\":null},{\"adposId\":\"1000184\",\"singleDomAdUrl\":\"https://siape.veta.naver.com/fxshow\",\"param\":{\"da_dom_id\":\"p_main_living_2\",\"tb\":\"LIVING_1\",\"unit\":\"SU10606\",\"calp\":\"-\"},\"type\":{\"position\":\"abs\",\"positionIndex\":8,\"subject\":\"contents\"},\"dom\":null}]},\"LIVINGHOME\":{\"menu\":\"LIVINGHOME\",\"childMenu\":\"\",\"adType\":\"singleDom\",\"multiDomAdUrl\":\"\",\"multiDomUnit\":\"\",\"infoList\":[{\"adposId\":\"1000185\",\"singleDomAdUrl\":\"https://siape.veta.naver.com/fxshow\",\"param\":{\"da_dom_id\":\"p_main_livinghome_1\",\"tb\":\"LIVINGHOME_1\",\"unit\":\"SU10571\",\"calp\":\"-\"},\"type\":{\"position\":\"abs\",\"positionIndex\":4,\"subject\":\"contents\"},\"dom\":null},{\"adposId\":\"1000186\",\"singleDomAdUrl\":\"https://siape.veta.naver.com/fxshow\",\"param\":{\"da_dom_id\":\"p_main_livinghome_2\",\"tb\":\"LIVINGHOME_1\",\"unit\":\"SU10572\",\"calp\":\"-\"},\"type\":{\"position\":\"abs\",\"positionIndex\":8,\"subject\":\"contents\"},\"dom\":null}]},\"MOMKIDS\":{\"menu\":\"MOMKIDS\",\"childMenu\":\"\",\"adType\":\"singleDom\",\"multiDomAdUrl\":\"\",\"multiDomUnit\":\"\",\"infoList\":[{\"adposId\":\"1000187\",\"singleDomAdUrl\":\"https://siape.veta.naver.com/fxshow\",\"param\":{\"da_dom_id\":\"p_main_momkids_1\",\"tb\":\"MOMKIDS_1\",\"unit\":\"SU10575\",\"calp\":\"-\"},\"type\":{\"position\":\"abs\",\"positionIndex\":4,\"subject\":\"contents\"},\"dom\":null},{\"adposId\":\"1000188\",\"singleDomAdUrl\":\"https://siape.veta.naver.com/fxshow\",\"param\":{\"da_dom_id\":\"p_main_momkids_2\",\"tb\":\"MOMKIDS_1\",\"unit\":\"SU10576\",\"calp\":\"-\"},\"type\":{\"position\":\"abs\",\"positionIndex\":8,\"subject\":\"contents\"},\"dom\":null}]},\"MOVIE\":{\"menu\":\"MOVIE\",\"childMenu\":\"\",\"adType\":\"singleDom\",\"multiDomAdUrl\":\"\",\"multiDomUnit\":\"\",\"infoList\":[{\"adposId\":\"1000189\",\"singleDomAdUrl\":\"https://siape.veta.naver.com/fxshow\",\"param\":{\"da_dom_id\":\"p_main_movie_1\",\"tb\":\"MOVIE_1\",\"unit\":\"SU10585\",\"calp\":\"-\"},\"type\":{\"position\":\"abs\",\"positionIndex\":4,\"subject\":\"contents\"},\"dom\":null},{\"adposId\":\"1000190\",\"singleDomAdUrl\":\"https://siape.veta.naver.com/fxshow\",\"param\":{\"da_dom_id\":\"p_main_movie_2\",\"tb\":\"MOVIE_1\",\"unit\":\"SU10586\",\"calp\":\"-\"},\"type\":{\"position\":\"abs\",\"positionIndex\":8,\"subject\":\"contents\"},\"dom\":null}]},\"SCHOOL\":{\"menu\":\"SCHOOL\",\"childMenu\":\"\",\"adType\":\"singleDom\",\"multiDomAdUrl\":\"\",\"multiDomUnit\":\"\",\"infoList\":[{\"adposId\":\"1000191\",\"singleDomAdUrl\":\"https://siape.veta.naver.com/fxshow\",\"param\":{\"da_dom_id\":\"p_main_school_1\",\"tb\":\"SCHOOL_1\",\"unit\":\"SU10579\",\"calp\":\"-\"},\"type\":{\"position\":\"abs\",\"positionIndex\":4,\"subject\":\"contents\"},\"dom\":null},{\"adposId\":\"1000192\",\"singleDomAdUrl\":\"https://siape.veta.naver.com/fxshow\",\"param\":{\"da_dom_id\":\"p_main_school_2\",\"tb\":\"SCHOOL_1\",\"unit\":\"SU10580\",\"calp\":\"-\"},\"type\":{\"position\":\"abs\",\"positionIndex\":8,\"subject\":\"contents\"},\"dom\":null}]},\"SHOW\":{\"menu\":\"SHOW\",\"childMenu\":\"\",\"adType\":\"singleDom\",\"multiDomAdUrl\":\"\",\"multiDomUnit\":\"\",\"infoList\":[{\"adposId\":\"1000193\",\"singleDomAdUrl\":\"https://siape.veta.naver.com/fxshow\",\"param\":{\"da_dom_id\":\"p_main_show_1\",\"tb\":\"SHOW_1\",\"unit\":\"SU10565\",\"calp\":\"-\"},\"type\":{\"position\":\"abs\",\"positionIndex\":4,\"subject\":\"contents\"},\"dom\":null},{\"adposId\":\"1000194\",\"singleDomAdUrl\":\"https://siape.veta.naver.com/fxshow\",\"param\":{\"da_dom_id\":\"p_main_show_2\",\"tb\":\"SHOW_1\",\"unit\":\"SU10566\",\"calp\":\"-\"},\"type\":{\"position\":\"abs\",\"positionIndex\":8,\"subject\":\"contents\"},\"dom\":null}]},\"TRAVEL\":{\"menu\":\"TRAVEL\",\"childMenu\":\"\",\"adType\":\"singleDom\",\"multiDomAdUrl\":\"\",\"multiDomUnit\":\"\",\"infoList\":[{\"adposId\":\"1000195\",\"singleDomAdUrl\":\"https://siape.veta.naver.com/fxshow\",\"param\":{\"da_dom_id\":\"p_main_travel_1\",\"tb\":\"TRAVEL_1\",\"unit\":\"SU10581\",\"calp\":\"-\"},\"type\":{\"position\":\"abs\",\"positionIndex\":4,\"subject\":\"contents\"},\"dom\":null},{\"adposId\":\"1000196\",\"singleDomAdUrl\":\"https://siape.veta.naver.com/fxshow\",\"param\":{\"da_dom_id\":\"p_main_travel_2\",\"tb\":\"TRAVEL_1\",\"unit\":\"SU10582\",\"calp\":\"-\"},\"type\":{\"position\":\"abs\",\"positionIndex\":8,\"subject\":\"contents\"},\"dom\":null}]},\"WEDDING\":{\"menu\":\"WEDDING\",\"childMenu\":\"\",\"adType\":\"singleDom\",\"multiDomAdUrl\":\"\",\"multiDomUnit\":\"\",\"infoList\":[{\"adposId\":\"1000197\",\"singleDomAdUrl\":\"https://siape.veta.naver.com/fxshow\",\"param\":{\"da_dom_id\":\"p_main_wedding_1\",\"tb\":\"WEDDING_1\",\"unit\":\"SU10583\",\"calp\":\"-\"},\"type\":{\"position\":\"abs\",\"positionIndex\":4,\"subject\":\"contents\"},\"dom\":null},{\"adposId\":\"1000198\",\"singleDomAdUrl\":\"https://siape.veta.naver.com/fxshow\",\"param\":{\"da_dom_id\":\"p_main_wedding_2\",\"tb\":\"WEDDING_1\",\"unit\":\"SU10584\",\"calp\":\"-\"},\"type\":{\"position\":\"abs\",\"positionIndex\":8,\"subject\":\"contents\"},\"dom\":null}]}},\\nsvt: 20211214231026,\\n}; </script> <script> window.nmain.newsstand = {\\nrcode: \\'(none)\\',\\nnewsCastSubsInfo: \\'\\',\\nnewsStandSubsInfo: \\'\\'\\n};\\nwindow.etc = {  };\\nwindow.svr = \"<!--cvweb003-->\"; </script> <script src=\"https://ssl.pstatic.net/tveta/libs/assets/js/pc/main/min/pc.veta.core.min.js\" defer=\"defer\"></script>   <script src=\"https://pm.pstatic.net/dist/js/external.1ea95b3a.js?o=www\" type=\"text/javascript\" crossorigin=\"anonymous\" defer=\"defer\"></script> <script src=\"https://pm.pstatic.net/dist/js/preload.bf1039de.js?o=www\" type=\"text/javascript\" crossorigin=\"anonymous\" defer=\"defer\"></script> <script src=\"https://pm.pstatic.net/dist/js/polyfill.a11848e4.js?o=www\" type=\"text/javascript\" crossorigin=\"anonymous\" defer=\"defer\"></script>  <script src=\"https://pm.pstatic.net/dist/js/vendors~more~nmain~notice~search~sidebar_notice.9d4659e9.js?o=www\" type=\"text/javascript\" crossorigin=\"anonymous\" defer=\"defer\"></script>   <script src=\"https://pm.pstatic.net/dist/js/search.4ce049d9.js?o=www\" type=\"text/javascript\" crossorigin=\"anonymous\" defer=\"defer\"></script>  <script src=\"https://pm.pstatic.net/dist/js/vendors~more~nmain~sidebar_notice.e4b40232.js?o=www\" type=\"text/javascript\" crossorigin=\"anonymous\" defer=\"defer\"></script> <script src=\"https://pm.pstatic.net/dist/js/nmain.9da39954.js?o=www\" type=\"text/javascript\" crossorigin=\"anonymous\" defer=\"defer\"></script> <style>:root{color-scheme:light}#_nx_kbd .setkorhelp a{display:none}</style> </head> <body> <div id=\"u_skip\"> <a href=\"#newsstand\"><span>뉴스스탠드 바로가기</span></a> <a href=\"#themecast\"><span>주제별캐스트 바로가기</span></a> <a href=\"#timesquare\"><span>타임스퀘어 바로가기</span></a> <a href=\"#shopcast\"><span>쇼핑캐스트 바로가기</span></a> <a href=\"#account\"><span>로그인 바로가기</span></a> </div> <div id=\"wrap\">         <style>._1syGnXOL{padding-right:18px;font-size:14px;line-height:0;letter-spacing:-.25px;color:#000}._1syGnXOL span,._1syGnXOL strong{line-height:49px}._1syGnXOL:before{display:inline-block;content:\"\";vertical-align:top;background-image:url(https://static-whale.pstatic.net/main/sprite-20210713@2x.png);background-repeat:no-repeat;background-size:116px 112px;width:18px;height:18px;margin:16px 8px 0 0;background-position:-98px 0}[data-useragent*=\"MSIE 8\"] ._1syGnXOL:before{background-image:url(https://static-whale.pstatic.net/main/sprite-20210713.png)}._1syGnXOL._3dsvmZg2:before{background-position:-47px -85px}._1syGnXOL._1NBFx1WK:before{width:20px;height:20px;margin:15px 8px 0 0;background-position:-21px -89px}._1syGnXOL._2mcQEKCd:before{width:22px;height:22px;margin:14px 7px 0 0;background-position:-47px -63px}._1syGnXOL._36slsKuJ:before{width:21px;height:49px;margin:0 14px 0 0;background-position:0 -63px}._1syGnXOL._3di88A4c{padding-right:12px;font-size:17px}._1syGnXOL._3di88A4c:before{content:none}._1syGnXOL ._19K4X1CD{text-decoration:underline}._2aeXMlrb{display:inline-block;position:relative;font-size:12px;height:49px;width:78px;text-decoration:none;color:#fff;font-weight:700;letter-spacing:-.5px;vertical-align:top}._2aeXMlrb span{text-align:center;margin:9px 0;height:31px;display:block;line-height:31px;border-radius:15px}._2aeXMlrb span:before{display:inline-block;content:\"\";vertical-align:top;background-image:url(https://static-whale.pstatic.net/main/sprite-20210713@2x.png);background-repeat:no-repeat;background-size:116px 112px}[data-useragent*=\"MSIE 8\"] ._2aeXMlrb span:before{background-image:url(https://static-whale.pstatic.net/main/sprite-20210713.png)}._2aeXMlrb.BMgpjddw{font-size:11px;width:94px}._2aeXMlrb.BMgpjddw span:before{margin:9px 3px 0 0;width:17px;height:13px;background-position:-89px -63px}._3h-N8T9V{position:absolute;top:0;left:0;right:0;bottom:0;background:rgba(0,0,0,0)}._1KncATpM{display:inline-block;content:\"\";vertical-align:top;background-image:url(https://static-whale.pstatic.net/main/sprite-20210713@2x.png);background-repeat:no-repeat;background-size:116px 112px;margin-top:14px;float:left;width:98px;height:21px;background-position:0 -21px}[data-useragent*=\"MSIE 8\"] ._1KncATpM{background-image:url(https://static-whale.pstatic.net/main/sprite-20210713.png)}._1KncATpM._2v3uxv2x{background-position:0 0}._1KncATpM._1yl_Ow6o{background-position:0 -42px}._20PYt6lT{font-size:11px;height:49px;cursor:pointer;position:absolute;top:0;right:0;color:#666;opacity:.7}._20PYt6lT:after{width:15px;height:15px;margin-left:4px;background-position:-98px -33px;display:inline-block;content:\"\";vertical-align:top;background-image:url(https://static-whale.pstatic.net/main/sprite-20210713@2x.png);background-repeat:no-repeat;background-size:116px 112px}[data-useragent*=\"MSIE 8\"] ._20PYt6lT:after{background-image:url(https://static-whale.pstatic.net/main/sprite-20210713.png)}._20PYt6lT._39oMCV2N:after{background-position:-98px -18px}._20PYt6lT._3wm5EzmJ{color:#fff}._20PYt6lT._3wm5EzmJ:after{background-position:-65px -85px}._1hiMWemA{height:49px}._1hiMWemA .tY_u8r23{position:relative;width:1130px;margin:0 auto}._1hiMWemA .tY_u8r23 a{text-decoration:none}._1hiMWemA._23U_6TM_{position:relative}._1hiMWemA._23U_6TM_:after{position:absolute;z-index:1;content:\"\";display:block;width:100%;height:1px;bottom:0;background-color:rgba(0,0,0,.050980392156862744)}\\n</style>\\n<div id=\"NM_TOP_BANNER\" data-clk-prefix=\"top\" class=\"_1hiMWemA\" style=\"background-color: #f3f1ff\">\\n<div class=\"tY_u8r23\">\\n<a class=\"_3h-N8T9V\" href=\"https://whale.naver.com/banner/details/darkmode?=main&wpid=RydDy7\"\\ndata-clk=\"dropbanner1a\"></a><i class=\"_1KncATpM\"><span class=\"blind\">NAVER whale</span></i><img\\nsrc=\"https://static-whale.pstatic.net/main/img_darkmode@2x.png\"\\nwidth=\"303\"\\nheight=\"49\"\\nalt=\"\"\\nstyle=\"padding-left: 48px\"\\n/><span\\nclass=\"_1syGnXOL _3di88A4c\"\\ndata-clk=\"dropbanner1a\"\\nstyle=\"padding-right: 10px; color: black; padding-left: 8px\"\\n><span>여러분의 눈은 소중하니까, </span><strong>지금 바로 다크 모드를 켜세요!</strong></span><a\\nhref=\"https://installer-whale.pstatic.net/downloads/banner/RydDy7/WhaleSetup.exe\" class=\"_2aeXMlrb\"\\nid=\"NM_whale_download_btn\"\\ndata-clk=\"dropdownload1a\"><span style=\"background-color: #7c56d5\">다운로드</span></a><button\\ntype=\"button\"\\ndata-ui-cookie-exp-days=\"3\"\\ndata-ui-cookie-key=\"NM_TOP_PROMOTION\"\\ndata-ui-cookie-value=\"1\"\\ndata-ui-hide-target=\"#NM_TOP_BANNER\"\\ndata-clk=\"dropclose1a\"\\nclass=\"_20PYt6lT _39oMCV2N\"\\n>\\n3일 동안 보지 않기\\n</button>\\n</div>\\n</div>\\n  <div id=\"header\" role=\"banner\">\\n\\n\\n\\n\\n\\n\\n\\n\\n<div class=\"special_bg\">\\n<div class=\"group_flex\">\\n<div class=\"logo_area\">\\n<h1 class=\"logo_default\">\\n<a href=\"/\" class=\"logo_naver\" data-clk=\"top.logo\"\\n><span class=\"blind\">네이버</span></a\\n>\\n</h1>\\n</div>\\n<div class=\"service_area\">\\n<a id=\"NM_set_home_btn\" href=\"https://help.naver.com/support/welcomePage/guide.help\" class=\"link_set\" data-clk=\"top.mkhome\">네이버를 시작페이지로</a>\\n<i class=\"sa_bar\"></i>\\n<a href=\"https://jr.naver.com\" class=\"link_jrnaver\" data-clk=\"top.jrnaver\"><i class=\"ico_jrnaver\"></i><span class=\"blind\">쥬니어네이버</span></a>\\n<a href=\"https://happybean.naver.com\" class=\"link_happybin\" data-clk=\"top.happybean\"><i class=\"ico_happybin\"></i><span class=\"blind\">해피빈</span></a>\\n</div>\\n\\n<div id=\"search\" class=\"search_area\" data-clk-prefix=\"sch\">\\n<form id=\"sform\" name=\"sform\" action=\"https://search.naver.com/search.naver\" method=\"get\" role=\"search\">\\n<fieldset>\\n<legend class=\"blind\">검색</legend>\\n<select id=\"where\" name=\"where\" title=\"검색 범위 선택\" class=\"blind\">\\n<option value=\"nexearch\" selected=\"selected\">통합검색</option><option value=\"post\">블로그</option><option value=\"cafeblog\">카페</option><option value=\"cafe\">- 카페명</option><option value=\"article\">- 카페글</option><option value=\"kin\">지식iN</option><option value=\"news\">뉴스</option><option value=\"web\">사이트</option><option value=\"category\">- 카테고리</option><option value=\"site\">- 사이트</option><option value=\"movie\">영화</option><option value=\"webkr\">웹문서</option><option value=\"dic\">사전</option><option value=\"100\">- 백과사전</option><option value=\"endic\">- 영어사전</option><option value=\"eedic\">- 영영사전</option><option value=\"krdic\">- 국어사전</option><option value=\"jpdic\">- 일본어사전</option><option value=\"hanja\">- 한자사전</option><option value=\"terms\">- 용어사전</option><option value=\"book\">책</option><option value=\"music\">음악</option><option value=\"doc\">전문자료</option><option value=\"shop\">쇼핑</option><option value=\"local\">지역</option><option value=\"video\">동영상</option><option value=\"image\">이미지</option><option value=\"mypc\">내PC</option><optgroup label=\"스마트 파인더\"><option value=\"movie\">영화</option><option value=\"auto\">자동차</option><option value=\"game\">게임</option><option value=\"health\">건강</option><option value=\"people\">인물</option></optgroup><optgroup label=\"네이버 랩\"><option>긍정부정검색</option></optgroup>\\n</select>\\n<input type=\"hidden\" id=\"sm\" name=\"sm\" value=\"top_hty\" />\\n<input type=\"hidden\" id=\"fbm\" name=\"fbm\" value=\"0\" />\\n<input type=\"hidden\" id=\"acr\" name=\"acr\" value=\"\" disabled=\"disabled\" />\\n<input type=\"hidden\" id=\"acq\" name=\"acq\" value=\"\" disabled=\"disabled\" />\\n<input type=\"hidden\" id=\"qdt\" name=\"qdt\" value=\"\" disabled=\"disabled\" />\\n<input type=\"hidden\" id=\"ie\" name=\"ie\" value=\"utf8\" />\\n<input type=\"hidden\" id=\"acir\" name=\"acir\" value=\"\" disabled=\"disabled\" />\\n<input type=\"hidden\" id=\"os\" name=\"os\" value=\"\" disabled=\"disabled\" />\\n<input type=\"hidden\" id=\"bid\" name=\"bid\" value=\"\" disabled=\"disabled\" />\\n<input type=\"hidden\" id=\"pkid\" name=\"pkid\" value=\"\" disabled=\"disabled\" />\\n<input type=\"hidden\" id=\"eid\" name=\"eid\" value=\"\" disabled=\"disabled\" />\\n<input type=\"hidden\" id=\"mra\" name=\"mra\" value=\"\" disabled=\"disabled\" />\\n\\n\\n\\n<div class=\"green_window\" style=\\'\\'>\\n<!-- [AU] data-atcmp-element 에 해당하는 attribute를 추가해주세요. -->\\n<input id=\"query\" name=\"query\" type=\"text\" title=\"검색어 입력\" maxlength=\"255\" class=\"input_text\" tabindex=\"1\" accesskey=\"s\" style=\"ime-mode:active;\" autocomplete=\"off\"  placeholder=\"검색어를 입력해 주세요.\" onclick=\"document.getElementById(\\'fbm\\').value=1;\" value=\"\" data-atcmp-element>\\n</div>\\n<button id=\"search_btn\" type=\"submit\" title=\"검색\" tabindex=\"3\" class=\"btn_submit\" onclick=\"window.nclick(this,\\'sch.action\\',\\'\\',\\'\\',event);\" style=\\'\\'>\\n<span class=\"blind\">검색</span>\\n<span class=\"ico_search_submit\"></span>\\n</button>\\n</fieldset>\\n</form>\\n<!-- 한글입력기 -->\\n<a href=\"#\" id=\"ke_kbd_btn\" role=\"button\" class=\"btn_keyboard\" onclick=\"return false;\"><span class=\"blind\">한글 입력기</span><span class=\"ico_keyboard\"></span></a>\\n<div id=\"_nx_kbd\" style=\"display:none;\"></div>\\n<div class=\"autocomplete\">\\n<!-- 자동완성 열린 경우 fold 클래스 추가, 딤드인 경우 dim 추가 -->\\n<a href=\"#\" role=\"button\" id=\"nautocomplete\" tabindex=\"2\" class=\"btn_arw _btn_arw fold\" aria-pressed=\"false\" data-atcmp-element><span class=\"blind\">자동완성 레이어</span><span class=\"ico_arr\"></span></a>\\n</div>\\n<!-- 자동완성레이어 -->\\n<div id=\"autoFrame\" class=\"reatcmp\" style=\"display: none;\">\\n<!-- [AU] data-atcmp-element attribute를 추가해주세요. -->\\n<div class=\"ly_atcmp\" data-atcmp-element>\\n<div class=\"api_atcmp_wrap\">\\n<!-- 최근검색어 -->\\n<!-- [AU] _recent_layer 클래스를 추가해주세요. -->\\n<div class=\"atcmp_fixer _recent_layer\" style=\"display:none;\">\\n<!-- [AU] _recent_header 클래스를 추가해주세요. -->\\n<div class=\"atcmp_header _recent_header\">\\n<strong class=\"tit\">최근검색어</strong>\\n<div class=\"option\">\\n<!-- [AU] _delAll 클래스를 추가해주세요. -->\\n<a role=\"button\" href=\"#\" class=\"item _delAll\" aria-pressed=\"false\">전체삭제</a>\\n</div>\\n</div>\\n<div class=\"atcmp_container\">\\n<!-- [AU] _recent 클래스를 추가해주세요. -->\\n<ul class=\"kwd_lst _recent\">\\n<!-- 최근검색어 템플릿 -->\\n<!-- [AU] _item 클래스를 추가해주세요. -->\\n<!-- [AU] data-template-type=\"history\" data-keyword=\"@in_txt@\" attribute를 추가해주세요. -->\\n<li class=\"item _item\" data-rank=\"@rank@\" data-template-type=\"history\" data-keyword=\"@in_txt@\">\\n<a href=\"#\" class=\"kwd\">\\n<span class=\"fix\"><span class=\"common_ico_kwd\"><i class=\"imsc ico_search\"></i></span><span>@txt@</span></span>\\n</a>\\n<span class=\"etc\">\\n<em class=\"date\">@date@.</em>\\n<!-- [AU] _del 클래스를 추가해주세요. -->\\n<a href=\"#\" role=\"button\" class=\"bt_item _del\" aria-pressed=\"false\"><i class=\"imsc ico_del\">삭제</i></a>\\n</span>\\n</li>\\n</ul>\\n<!-- [D] 검색어 저장 꺼진 경우 atcmp_fixer에 type_off 추가 -->\\n<!-- [AU] _offMsg 클래스를 추가해주세요. -->\\n<div class=\"kwd_info kwd_off _offMsg\" style=\"display: none;\">검색어 저장 기능이 꺼져 있습니다.<br><span class=\"kwd_dsc\">설정이 초기화 된다면 <a href=\"https://help.naver.com/support/alias/search/word/word_29.naver\" class=\"kwd_help\" data-clk=\"sly.help\" target=\"_blank\">도움말</a>을 확인해주세요.</span></div>\\n<!-- [D] 검색어 내역 없는 경우 atcmp_fixer에 type_off 추가 -->\\n<!-- [AU] _recentNone 클래스를 추가해주세요. -->\\n<div class=\"kwd_info kwd_none _recentNone\" style=\"display: none;\">최근 검색어 내역이 없습니다.<br><span class=\"kwd_dsc\">설정이 초기화 된다면 <a href=\"https://help.naver.com/support/alias/search/word/word_29.naver\" class=\"kwd_help\" data-clk=\"sly.help\" target=\"_blank\">도움말</a>을 확인해주세요.</span></div>\\n</div>\\n<div class=\"atcmp_footer\">\\n<span class=\"side_opt_area\">\\n<span class=\"opt_item\"><a href=\"https://help.naver.com/support/service/main.help?serviceNo=605&amp;categoryNo=1991\" data-clk=\"sly.help\" target=\"_blank\">도움말</a></span>\\n</span>\\n<span class=\"rside_opt_area\">\\n<span class=\"opt_item\">\\n<!-- [AU] _keywordOnOff 클래스를 추가해주세요. -->\\n<a href=\"#\" class=\"close _keywordOnOff\">자동저장 끄기</a>\\n</span>\\n</span>\\n</div>\\n</div>\\n<!-- 자동완성 -->\\n<!-- [AU] _atcmp_layer 클래스를 추가해주세요. -->\\n<div class=\"atcmp_fixer _atcmp_layer\" style=\"display:none;\">\\n<!-- [AU] _words 클래스를 추가해주세요. -->\\n<div class=\"atcmp_container _words\">\\n<!-- 정답형 템플릿 : 로또당첨번호 -->\\n<!-- [AU] _answer 클래스를 추가해주세요. -->\\n<!-- [AU] data-template-type=\"answer_3\" data-code=\"@code@\" data-keyword=\"@1@\" attribute를 추가해주세요. -->\\n<div class=\"atcmp_correct type_lotto _answer\" data-template-type=\"answer_3\" data-code=\"@code@\" data-keyword=\"@1@\">\\n<a href=\"#\" class=\"link_item\">\\n<span class=\"common_ico_kwd\"><i class=\"imsc ico_search\"></i></span>\\n<div class=\"dsc_area\">\\n<span class=\"tit\">@5@회차 당첨번호</span>\\n<span class=\"dsc\">\\n<span class=\"item\">추첨 @13@.</span><span class=\"item\">지급기한 1년</span>\\n</span>\\n</div>\\n<span class=\"etc_area\">\\n<span class=\"etc lotto\">\\n<em class=\"n@6@\">@6@</em><em class=\"n@7@\">@7@</em><em class=\"n@8@\">@8@</em><em class=\"n@9@\">@9@</em><em class=\"n@10@\">@10@</em><em class=\"n@11@\">@11@</em><em class=\"imsc_bf bonus n@12@\">@12@</em>\\n</span>\\n</span>\\n</a>\\n</div>\\n<!-- 정답형 템플릿 : 환율 -->\\n<!-- [AU] _answer 클래스를 추가해주세요. -->\\n<!-- [AU] data-template-type=\"answer_9\" data-code=\"@code@\" data-keyword=\"@1@\" attribute를 추가해주세요. -->\\n<div class=\"atcmp_correct type_exchange _answer\" data-template-type=\"answer_9\" data-code=\"@code@\" data-keyword=\"@1@\">\\n<!-- [D] 상승 up, 하락 down 추가 -->\\n<a href=\"#\" class=\"link_item @11@\">\\n<!-- [D] 국가별 class 가나다순\\nZAR 남아프리카 공화국\\nNPR 네팔\\nNOK 노르웨이\\nNZD 뉴질랜드\\nTWD 대만\\nDKK 덴마크\\nRUB 러시아\\nMOP 마카오\\nMYR 말레이시아\\nMXN 멕시코\\nMNT 몽골\\nUSD 미국\\nBHD 바레인\\nBDT 방글라데시\\nVND 베트남\\nBRL 브라질\\nSAR 사우디아라비아\\nSEK 스웨덴\\nCHF 스위스\\nSGD 싱가포르\\nAED 아랍에미리트\\nGBP 영국\\nEUR 유럽연합\\nILS 이스라엘\\nEGP 이집트\\nINR 인도\\nIDR 인도네시아\\nJPY 일본\\nCNY 중국\\nCZK 체코\\nCLP 칠레\\nKZT 카자흐스탄\\nQAR 카타르\\nCAD 캐나다\\nKWD 쿠웨이트\\nTHB 태국\\nTRY 터키\\nPKR 파키스탄\\nPLN 폴란드\\nPHP 필리핀\\nHUF 헝가리\\nAUD 호주\\nHKD 홍콩\\n-->\\n<span class=\"common_ico_kwd\"><i class=\"imsc ico @12@\">@14@</i></span>\\n<div class=\"dsc_area\">\\n<span class=\"tit\">@txt@<span class=\"sub\">@currency@</span></span>\\n<span class=\"dsc\">\\n<span class=\"item\"><i class=\"imsc ico_arr\"></i>@8@(@9@%)</span>\\n</span>\\n</div>\\n<span class=\"etc_area\">\\n<span class=\"etc\"><em class=\"num\">@6@</em>원</span>\\n</span>\\n</a>\\n</div>\\n<!-- 정답형 템플릿 : 날씨(국내11, 해외12) -->\\n<!-- [AU] _answer 클래스를 추가해주세요. -->\\n<!-- [AU] data-template-type=\"answer_11\" data-code=\"@code@\" data-keyword=\"@1@\" attribute를 추가해주세요. -->\\n<div class=\"atcmp_correct type_weather _answer\" data-template-type=\"answer_11\" data-code=\"@code@\" data-keyword=\"@1@\">\\n<!-- [D] 상승 up, 하락 down 추가 -->\\n<a href=\"#\" class=\"link_item @12@\">\\n<span class=\"common_ico_kwd\"><i class=\"imsc ico_search\"></i></span>\\n<div class=\"dsc_area\">\\n<span class=\"tit\">@txt@</span>\\n<span class=\"dsc\">\\n<span class=\"item\">@7@, @message@</span>\\n</span>\\n</div>\\n<span class=\"etc_area\">\\n<span class=\"etc\">\\n<!-- [D] 날씨별 class\\nico1 맑음(낮)\\nico2 맑음(밤)\\nico3 구름조금(낮)\\nico4 구름조금(밤)\\nico5 구름많음(낮)\\nico6 구름많음(밤)\\nico7 흐림\\nico8 약한비\\nico9 비\\nico10 강한비\\nico11 약한눈\\nico12 눈\\nico13 강한눈\\nico14 진눈깨비\\nico15 소나기\\nico16 안개\\nico17 소낙눈\\nico18 번개뇌우\\nico19 우박\\nico20 황사\\nico21 비또는눈\\nico22 가끔비\\nico23 가끔눈\\nico24 가끔비또는눈\\nico25 흐린후갬\\nico26 뇌우후갬\\nico27 비후갬\\nico28 눈후갬\\nico29 흐려져비\\nico30 흐려져눈\\n-->\\n<span class=\"ico_weather\"><i class=\"imsc ico ico@iconNo@\">@7@</i></span>\\n<em class=\"degree\">@8@<sup class=\"celsius\">°</sup></em>\\n</span>\\n</span>\\n</a>\\n</div>\\n<!-- 정답형 템플릿 : 사이트 바로가기 -->\\n<!-- [AU] _answer 클래스를 추가해주세요. -->\\n<!-- [AU] data-template-type=\"answer_17\" data-code=\"@code@\" data-keyword=\"@1@\" attribute를 추가해주세요. -->\\n<div class=\"atcmp_correct type_site _answer\" data-template-type=\"answer_17\" data-code=\"@code@\" data-keyword=\"@1@\">\\n<a href=\"@5@\" class=\"link_item\" target=\"_blank\">\\n<span class=\"common_ico_kwd\"><i class=\"imsc ico_url\"></i></span>\\n<div class=\"dsc_area\">\\n<span class=\"tit\">@txt@</span>\\n<span class=\"dsc\">\\n<span class=\"item\">@5@</span>\\n</span>\\n</div>\\n<span class=\"etc_area\">\\n<span class=\"etc\">바로가기</span>\\n</span>\\n</a>\\n</div>\\n<!-- [AU] _kwd_list 클래스를 추가해주세요. -->\\n<ul class=\"kwd_lst _kwd_list\">\\n<!-- [AU] 자동완성 검색어 템플릿 -->\\n<!-- [AU] _item 클래스를 추가해주세요. -->\\n<!-- [AU] data-rank=\"@rank@\" data-template-type=\"suggestion\" data-keyword=\"@in_txt@\" attribute를 추가해주세요. -->\\n<li class=\"item _item\" data-rank=\"@rank@\" data-template-type=\"suggestion\" data-keyword=\"@in_txt@\">\\n<a href=\"#\" class=\"kwd\">\\n<span class=\"fix\"><span class=\"common_ico_kwd\"><i class=\"imsc ico_search\"></i></span>@txt@</span>\\n</a>\\n<span class=\"etc\">\\n<a href=\"#\" role=\"button\" class=\"bt_item _add\" aria-pressed=\"false\"><i class=\"imsc ico_insert\">추가</i></a>\\n</span>\\n</li>\\n<!-- [AU] 최근검색어 템플릿 -->\\n<!-- [AU] _item 클래스를 추가해주세요. -->\\n<!-- [AU] data-rank=\"@rank@\" data-template-type=\"history\" data-keyword=\"@in_txt@\" attribute를 추가해주세요. -->\\n<li class=\"item has_correct _item\" data-rank=\"@rank@\" data-template-type=\"history\" data-keyword=\"@in_txt@\">\\n<a href=\"#\" class=\"kwd\">\\n<span class=\"fix\"><span class=\"common_ico_kwd\"><i class=\"imsc ico_search\"></i></span>@txt@</span>\\n</a>\\n<span class=\"etc\">\\n<!-- 최근검색어 있으면 날짜 표시 -->\\n<em class=\"date\">@date@.</em>\\n<a href=\"#\" role=\"button\" class=\"bt_item _add\" aria-pressed=\"false\"><i class=\"imsc ico_insert\">추가</i></a>\\n</span>\\n</li>\\n</ul>\\n<!-- [AU] 문맥검색 템플릿 -->\\n<!-- [AU] _item 클래스를 추가해주세요. -->\\n<!-- [AU] data-rank=\"@rank@\" data-template-type=\"intend\" data-keyword=\"@transQuery@\" attribute를 추가해주세요. -->\\n<li class=\"item has_correct _item\" data-rank=\"@rank@\" data-intend-rank=\"@intendRank@\" data-template-type=\"intend\" data-keyword=\"@transQuery@\">\\n<a href=\"#\" class=\"kwd\">\\n<span class=\"fix\"><span class=\"common_ico_kwd\"><i class=\"imsc ico_search\"></i></span>@query@ <span class=\"context\">@intend@</span></span>\\n</a>\\n<span class=\"etc\">\\n<a href=\"#\" role=\"button\" class=\"bt_item _add\" aria-pressed=\"false\"><i class=\"imsc ico_insert\">추가</i></a>\\n</span>\\n</li>\\n<!-- [D] 선거안내문구 -->\\n<!-- [AU] _alert 클래스를 추가해주세요. -->\\n<div class=\"atcmp_alert _alert\">\\n<div class=\"dsc_election\">\\n<p class=\"dsc\">\\n<i class=\"imsc ico_election\"></i><span class=\"_alert_passage\"></span>\\n</p>\\n<span class=\"dsc_inner\">\\n<!-- [AU] _alert_passage2 클래스를 추가해주세요. -->\\n<span class=\"_alert_passage2\"></span>\\n<!-- [AU] _alert_link 클래스를 추가해주세요. -->\\n<a href=\"#\" class=\"link _alert_link\" target=\"_blank\">자세히보기</a>\\n</span>\\n</div>\\n</div>\\n<!-- [AU] _plus 클래스를 추가해주세요. -->\\n<div class=\"atcmp_plus _plus\">\\n<div class=\"dsc_plus\">\\n<a href=\"https://help.naver.com/support/alias/search/word/word_16.naver\" class=\"link_dsc\" data-clk=\"sug.cxhelp\" target=\"_blank\">관심사를 반영한 컨텍스트 자동완성<i class=\"imsc ico_help\">도움말</i></a>\\n</div>\\n<div class=\"switch\">\\n<!-- [D] 선택시 aria-pressed=\"ture/false\" -->\\n<!-- [AU] _plus_btn 클래스를 추가해주세요. -->\\n<a role=\"button\" href=\"#\" class=\"bt_switch active _plus_btn\" aria-pressed=\"false\"><i class=\"imsc ico_option\">컨텍스트 자동완성</i></a>\\n</div>\\n<!-- [AU] _plus_layer 클래스를 추가해주세요. -->\\n<div class=\"layer_plus _plus_layer\">\\n<strong class=\"tit\">컨텍스트 자동완성</strong>\\n<!-- [AU] _plus_layer_isloggedin 클래스를 추가해주세요. -->\\n<!-- [AU] style=\"display:none\" 추가해주세요. -->\\n<div class=\"_plus_layer_isloggedin\" style=\"display:none\">\\n<p class=\"dsc\">ON/OFF 설정은<br>해당기기(브라우저)에 저장됩니다.</p>\\n<div class=\"btn_area\">\\n<a href=\"https://help.naver.com/support/alias/search/word/word_16.naver\" class=\"btn btn_view\" data-clk=\"sug.cxlink\" target=\"_blank\">자세히</a>\\n</div>\\n</div>\\n<!-- [AU] _plus_layer_isnotloggedin 클래스를 추가해주세요. -->\\n<!-- [AU] style=\"display:none\" 추가해주세요. -->\\n<div class=\"_plus_layer_isnotloggedin\" style=\"display:none\">\\n<p class=\"dsc\"><em class=\"txt\">동일한 시간대/연령/남녀별</em> 사용자 그룹의<br>관심사에 맞춰 자동완성을 제공합니다.</p>\\n<div class=\"btn_area\">\\n<a href=\"https://nid.naver.com/nidlogin.login\" class=\"btn btn_login\" data-clk=\"sug.cxlogin\">로그인</a>\\n<a href=\"https://help.naver.com/support/alias/search/word/word_16.naver\" class=\"btn btn_view\" data-clk=\"sug.cxlink\" target=\"_blank\">자세히</a>\\n</div>\\n</div>\\n<!-- [AU] _plus_layer_close 클래스를 추가해주세요. -->\\n<a href=\"#\" role=\"button\" class=\"btn_close _plus_layer_close\"><i class=\"imsc ico_close\">컨텍스트 자동완성 레이어 닫기</i></a>\\n</div>\\n</div>\\n</div>\\n<div class=\"atcmp_footer\">\\n<span class=\"side_opt_area\">\\n<span class=\"opt_item\"><a href=\"https://help.naver.com/support/service/main.help?serviceNo=605&categoryNo=1987\" data-clk=\"sug.help\" target=\"_blank\">도움말</a></span>\\n<span class=\"opt_item\"><a href=\"https://help.naver.com/support/contents/contents.help?serviceNo=605&categoryNo=18215\" class=\"report\" data-clk=\"sug.report\" target=\"_blank\">신고</a></span>\\n</span>\\n<span class=\"rside_opt_area\">\\n<span class=\"opt_item\">\\n<!-- [AU] _suggestOnOff 클래스를 추가해주세요. -->\\n<a href=\"#\" class=\"close _suggestOnOff\">자동완성 끄기</a>\\n</span>\\n</span>\\n</div>\\n</div>\\n</div>\\n</div>\\n</div>\\n</div>\\n\\n</div>\\n</div>\\n\\n<!--EMPTY-->\\n<div id=\"gnb\">\\n<div id=\"NM_FAVORITE\" class=\"gnb_inner\">\\n<div class=\"group_nav\">\\n<ul class=\"list_nav type_fix\">\\n<li class=\"nav_item\">\\n<a href=\"https://mail.naver.com/\" class=\"nav\" data-clk=\"svc.mail\"><i class=\"ico_mail\"></i>메일</a>\\n</li>\\n<li class=\"nav_item\"><a href=\"https://section.cafe.naver.com/\" class=\"nav\" data-clk=\"svc.cafe\">카페</a></li>\\n<li class=\"nav_item\"><a href=\"https://section.blog.naver.com/\" class=\"nav\" data-clk=\"svc.blog\">블로그</a></li>\\n<li class=\"nav_item\"><a href=\"https://kin.naver.com/\" class=\"nav\" data-clk=\"svc.kin\">지식iN</a></li>\\n<li class=\"nav_item\"><a href=\"https://shopping.naver.com/\" class=\"nav shop\" data-clk=\"svc.shopping\"><span class=\"blind\">쇼핑</span></a></li>\\n<li class=\"nav_item\"><a href=\"https://shoppinglive.naver.com/home\" class=\"nav shoplive\"\\ndata-clk=\"svc.shoppinglive\"><span class=\"blind\">쇼핑LIVE</span></a></li>\\n<li class=\"nav_item\"><a href=\"https://order.pay.naver.com/home\" class=\"nav\" data-clk=\"svc.pay\">Pay</a></li>\\n<li class=\"nav_item\">\\n<a href=\"https://tv.naver.com/\" class=\"nav\" data-clk=\"svc.tvcast\"><i class=\"ico_tv\"></i>TV</a>\\n</li>\\n</ul>\\n<ul\\nclass=\"list_nav NM_FAVORITE_LIST\"\\n>\\n<li class=\"nav_item\"><a href=\"https://dict.naver.com/\" class=\"nav\" data-clk=\"svc.dic\">사전</a></li>\\n<li class=\"nav_item\"><a href=\"https://news.naver.com/\" class=\"nav\" data-clk=\"svc.news\">뉴스</a></li>\\n<li class=\"nav_item\"><a href=\"https://finance.naver.com/\" class=\"nav\" data-clk=\"svc.stock\">증권</a></li>\\n<li class=\"nav_item\"><a href=\"https://land.naver.com/\" class=\"nav\" data-clk=\"svc.land\">부동산</a></li>\\n<li class=\"nav_item\"><a href=\"https://map.naver.com/\" class=\"nav\" data-clk=\"svc.map\">지도</a></li>\\n<li class=\"nav_item\"><a href=\"https://vibe.naver.com/\" class=\"nav\" data-clk=\"svc.vibe\">VIBE</a></li>\\n<li class=\"nav_item\"><a href=\"https://book.naver.com/\" class=\"nav\" data-clk=\"svc.book\">책</a></li>\\n<li class=\"nav_item\"><a href=\"https://comic.naver.com/\" class=\"nav\" data-clk=\"svc.webtoon\">웹툰</a></li>\\n\\n</ul>\\n<ul class=\"list_nav type_empty\" style=\"display: none;\"></ul>\\n<a href=\"#\" role=\"button\" class=\"btn_more\" data-clk=\"svc.more\">더보기</a>\\n<div class=\"ly_btn_area\">\\n<a href=\"more.html\" class=\"btn NM_FAVORITE_ALL\" data-clk=\"map.svcmore\">서비스 전체보기</a>\\n<a href=\"#\" role=\"button\" class=\"btn btn_set\" data-clk=\"map.edit\">메뉴설정</a>\\n<a href=\"#\" role=\"button\" class=\"btn btn_reset\" data-clk=\"edt.reset\">초기화</a>\\n<a href=\"#\" role=\"button\" class=\"btn btn_save\" data-clk=\"edt.save\">저장</a>\\n</div>\\n</div>\\n<div id=\"NM_WEATHER\" class=\"group_weather\">\\n<div>\\n<a data-clk=\"squ.weat\" href=\"https://weather.naver.com/today/WDJPN00047\" class=\"weather_area ico_w01\">\\n<div class=\"current_box\">\\n<strong class=\"current\" aria-label=\"현재기온\">5.0°</strong><strong class=\"state\">맑음(낮)</strong>\\n</div>\\n<div class=\"degree_box\">\\n<span class=\"min\" aria-label=\"최저기온\">7.0°</span><span class=\"max\" aria-label=\"최고기온\">7.0°</span>\\n</div>\\n<span class=\"location\">도쿄</span>\\n</a>\\n</div>\\n</div>\\n</div>\\n<div class=\"ly_service\">\\n<div class=\"group_service NM_FAVORITE_ALL_LY\"></div>\\n<div class=\"group_service NM_FAVORITE_EDIT_LY\" style=\"display: none;\"></div>\\n</div>\\n</div>\\n</div>\\n <div id=\"container\" role=\"main\"> <div style=\"position:relative;width:1130px;margin:0 auto;z-index:11\"> <div id=\"da_top\"></div> <div id=\"da_expwide\"></div> </div> <div id=\"NM_INT_LEFT\" class=\"column_left\"> <div id=\"veta_top\"> <div id=\"veta_top_inner\" style=\"height:135px\">  <script>gladsdk.cmd.push((function(){gladsdk.defineAdSlot({adUnitId:\"p_main_timeboard\",adSlotElementId:\"veta_top_inner\",customParam:customParam}),gladsdk.displayAd(\"veta_top_inner\")}))</script>  </div> <span class=\"veta_bd_t\"></span> <span class=\"veta_bd_b\"></span> <span class=\"veta_bd_l\"></span> <span class=\"veta_bd_r\"></span> </div> <div id=\"newsstand\" class=\"sc_newscast\"> <h2 class=\"blind\">뉴스스탠드</h2> <div id=\"NM_NEWSSTAND_HEADER\" class=\"group_issue\" data-clk-prefix=\"ncy\"> <div class=\"issue_area\"> <div id=\"NM_ONELINE_NAME\" class=\"link_media\">조선일보</div>\\n<div id=\"NM_ONELINE_ROLLING\" class=\"list_issue\" data-nm-ui=\"rolling\">\\n\\t\\n\\t\\t<div data-office-name=\"조선일보\" data-office-id=\"023\" data-sort-order=\"0\">\\n\\t\\t\\t<a href=\"https://news.naver.com/main/read.naver?mode&#x3D;LSD&amp;mid&#x3D;shm&amp;sid1&#x3D;101&amp;oid&#x3D;023&amp;aid&#x3D;0003659597\" class=\"issue\" data-clk=\"quickarticle\">중국 가상화폐 거래, 15일부터 막힌다··· 글로벌 시장 ‘폭풍전야’</a>\\n\\t\\t</div>\\n\\t\\n\\t\\t<div data-office-name=\"KBS\" data-office-id=\"056\" data-sort-order=\"1\">\\n\\t\\t\\t<a href=\"https://news.naver.com/main/read.naver?mode&#x3D;LSD&amp;mid&#x3D;shm&amp;sid1&#x3D;102&amp;oid&#x3D;056&amp;aid&#x3D;0011175593\" class=\"issue\" data-clk=\"quickarticle\">제주 마라도 해역에 규모 4.9 지진…“전역에서 진동 감지”</a>\\n\\t\\t</div>\\n\\t\\n\\t\\t<div data-office-name=\"YTN\" data-office-id=\"052\" data-sort-order=\"2\">\\n\\t\\t\\t<a href=\"https://news.naver.com/main/read.naver?mode&#x3D;LSD&amp;mid&#x3D;shm&amp;sid1&#x3D;103&amp;oid&#x3D;052&amp;aid&#x3D;0001677129\" class=\"issue\" data-clk=\"quickarticle\">제주 부근 해역서 규모 4.9 지진...역대 11위 강도</a>\\n\\t\\t</div>\\n\\t\\n\\t\\t<div data-office-name=\"서울경제\" data-office-id=\"011\" data-sort-order=\"3\">\\n\\t\\t\\t<a href=\"https://news.naver.com/main/read.naver?mode&#x3D;LSD&amp;mid&#x3D;shm&amp;sid1&#x3D;103&amp;oid&#x3D;011&amp;aid&#x3D;0003996855\" class=\"issue\" data-clk=\"quickarticle\">코로나 2년 사투에 &#x27;번아웃&#x27;···의료진이 떠난다</a>\\n\\t\\t</div>\\n\\t\\n\\t\\t<div data-office-name=\"아시아경제\" data-office-id=\"277\" data-sort-order=\"4\">\\n\\t\\t\\t<a href=\"https://news.naver.com/main/read.naver?mode&#x3D;LSD&amp;mid&#x3D;shm&amp;sid1&#x3D;104&amp;oid&#x3D;277&amp;aid&#x3D;0005014737\" class=\"issue\" data-clk=\"quickarticle\">&#x27;3억5000만원&#x27; 고액 연봉에도 &quot;출근 못하겠다&quot; 속출…&#x27;수당의 늪&#x27;에 빠진 美 미화원</a>\\n\\t\\t</div>\\n\\t\\n\\t\\t<div data-office-name=\"중앙일보\" data-office-id=\"025\" data-sort-order=\"5\">\\n\\t\\t\\t<a href=\"https://news.naver.com/main/read.naver?mode&#x3D;LSD&amp;mid&#x3D;shm&amp;sid1&#x3D;102&amp;oid&#x3D;025&amp;aid&#x3D;0003158779\" class=\"issue\" data-clk=\"quickarticle\">제주 지진 전조? 20분전 뜬 &#x27;지진운&#x27;에 발칵…전문가 의견은 [팩트체크]</a>\\n\\t\\t</div>\\n\\t\\n\\t\\t<div data-office-name=\"JTBC\" data-office-id=\"437\" data-sort-order=\"6\">\\n\\t\\t\\t<a href=\"https://news.naver.com/main/read.naver?mode&#x3D;LSD&amp;mid&#x3D;shm&amp;sid1&#x3D;102&amp;oid&#x3D;437&amp;aid&#x3D;0000283586\" class=\"issue\" data-clk=\"quickarticle\">&quot;지진해일 가능성 없어…일본과 연관성은 조사 필요&quot;</a>\\n\\t\\t</div>\\n\\t\\n\\t\\t<div data-office-name=\"SBS\" data-office-id=\"055\" data-sort-order=\"7\">\\n\\t\\t\\t<a href=\"https://news.naver.com/main/read.naver?mode&#x3D;LSD&amp;mid&#x3D;shm&amp;sid1&#x3D;102&amp;oid&#x3D;055&amp;aid&#x3D;0000939736\" class=\"issue\" data-clk=\"quickarticle\">섬 전체가 흔들렸다…&#x27;규모 4.9&#x27; 지진 제주 강타</a>\\n\\t\\t</div>\\n\\t\\n\\t\\t<div data-office-name=\"매일경제\" data-office-id=\"009\" data-sort-order=\"8\">\\n\\t\\t\\t<a href=\"https://news.naver.com/main/read.naver?mode&#x3D;LSD&amp;mid&#x3D;shm&amp;sid1&#x3D;101&amp;oid&#x3D;009&amp;aid&#x3D;0004893770\" class=\"issue\" data-clk=\"quickarticle\">&quot;집콕 2년간 바꿀거 다 바꿨다&quot;…가전 내년 찬바람 [2022년 경제대전망]</a>\\n\\t\\t</div>\\n\\t\\n\\t\\t<div data-office-name=\"국민일보\" data-office-id=\"005\" data-sort-order=\"9\">\\n\\t\\t\\t<a href=\"https://news.naver.com/main/read.naver?mode&#x3D;LSD&amp;mid&#x3D;shm&amp;sid1&#x3D;102&amp;oid&#x3D;005&amp;aid&#x3D;0001491409\" class=\"issue\" data-clk=\"quickarticle\">‘청소년 방역패스’ 법정 간다… 학부모단체 철회 소송</a>\\n\\t\\t</div>\\n\\t\\n\\t\\t<div data-office-name=\"한국경제\" data-office-id=\"015\" data-sort-order=\"10\">\\n\\t\\t\\t<a href=\"https://news.naver.com/main/read.naver?mode&#x3D;LSD&amp;mid&#x3D;shm&amp;sid1&#x3D;102&amp;oid&#x3D;015&amp;aid&#x3D;0004640564\" class=\"issue\" data-clk=\"quickarticle\">&quot;이게 한국이라고?&quot;…병상 없어 車에서 대기하다 숨졌다</a>\\n\\t\\t</div>\\n\\t\\n\\t\\t<div data-office-name=\"MBC\" data-office-id=\"214\" data-sort-order=\"11\">\\n\\t\\t\\t<a href=\"https://news.naver.com/main/read.naver?mode&#x3D;LSD&amp;mid&#x3D;shm&amp;sid1&#x3D;102&amp;oid&#x3D;214&amp;aid&#x3D;0001166016\" class=\"issue\" data-clk=\"quickarticle\">제주 서귀포 앞바다 규모 4.9 지진‥남해도 &#x27;흔들&#x27;</a>\\n\\t\\t</div>\\n\\t\\n\\t\\t<div data-office-name=\"한겨레\" data-office-id=\"028\" data-sort-order=\"12\">\\n\\t\\t\\t<a href=\"https://news.naver.com/main/read.naver?mode&#x3D;LSD&amp;mid&#x3D;shm&amp;sid1&#x3D;102&amp;oid&#x3D;028&amp;aid&#x3D;0002571682\" class=\"issue\" data-clk=\"quickarticle\">제주 서귀포 해역 규모 4.9 지진…“팔십 평생 이런 경험은 처음”</a>\\n\\t\\t</div>\\n\\t\\n\\t\\t<div data-office-name=\"헤럴드경제\" data-office-id=\"016\" data-sort-order=\"13\">\\n\\t\\t\\t<a href=\"https://news.naver.com/main/read.naver?mode&#x3D;LSD&amp;mid&#x3D;shm&amp;sid1&#x3D;105&amp;oid&#x3D;016&amp;aid&#x3D;0001924682\" class=\"issue\" data-clk=\"quickarticle\">“대세라더니, 반토막 났다” 사람들 울린 ‘이 주식’ 뭐길래</a>\\n\\t\\t</div>\\n\\t\\n\\t\\t<div data-office-name=\"한국일보\" data-office-id=\"469\" data-sort-order=\"14\">\\n\\t\\t\\t<a href=\"https://news.naver.com/main/read.naver?mode&#x3D;LSD&amp;mid&#x3D;shm&amp;sid1&#x3D;100&amp;oid&#x3D;469&amp;aid&#x3D;0000646772\" class=\"issue\" data-clk=\"quickarticle\">[단독] 정부, &#x27;위드 코로나&#x27; 일시멈춤 가닥... &quot;사적모임 4, 5명 추가 제한&quot;</a>\\n\\t\\t</div>\\n\\t\\n\\t\\t<div data-office-name=\"동아일보\" data-office-id=\"020\" data-sort-order=\"15\">\\n\\t\\t\\t<a href=\"https://news.naver.com/main/read.naver?mode&#x3D;LSD&amp;mid&#x3D;shm&amp;sid1&#x3D;102&amp;oid&#x3D;020&amp;aid&#x3D;0003399651\" class=\"issue\" data-clk=\"quickarticle\">제주 섬 통째로 흔들…“건물 좌우로 움직여” 공포에 떤 주민들</a>\\n\\t\\t</div>\\n\\t\\n\\t\\t<div data-office-name=\"파이낸셜뉴스\" data-office-id=\"014\" data-sort-order=\"16\">\\n\\t\\t\\t<a href=\"https://news.naver.com/main/read.naver?mode&#x3D;LSD&amp;mid&#x3D;shm&amp;sid1&#x3D;102&amp;oid&#x3D;014&amp;aid&#x3D;0004755694\" class=\"issue\" data-clk=\"quickarticle\">병상 대기자 1500명 육박… 대전·충북엔 남은 침대가 없다 [위중증 900명 돌파]</a>\\n\\t\\t</div>\\n\\t\\n\\t\\t<div data-office-name=\"경향신문\" data-office-id=\"032\" data-sort-order=\"17\">\\n\\t\\t\\t<a href=\"https://news.naver.com/main/read.naver?mode&#x3D;LSD&amp;mid&#x3D;shm&amp;sid1&#x3D;103&amp;oid&#x3D;032&amp;aid&#x3D;0003116369\" class=\"issue\" data-clk=\"quickarticle\">친환경 바람 타고 내년에도 신형 전기차 ‘쌩쌩’</a>\\n\\t\\t</div>\\n\\t\\n\\t\\t<div data-office-name=\"이데일리\" data-office-id=\"018\" data-sort-order=\"18\">\\n\\t\\t\\t<a href=\"https://news.naver.com/main/read.naver?mode&#x3D;LSD&amp;mid&#x3D;shm&amp;sid1&#x3D;102&amp;oid&#x3D;018&amp;aid&#x3D;0005106670\" class=\"issue\" data-clk=\"quickarticle\">“또 흔들릴라”…잠 못 이루는 제주</a>\\n\\t\\t</div>\\n\\t\\n\\t\\t<div data-office-name=\"뉴스1\" data-office-id=\"421\" data-sort-order=\"19\">\\n\\t\\t\\t<a href=\"https://news.naver.com/main/read.naver?mode&#x3D;LSD&amp;mid&#x3D;shm&amp;sid1&#x3D;103&amp;oid&#x3D;421&amp;aid&#x3D;0005784410\" class=\"issue\" data-clk=\"quickarticle\">기상청 &quot;여진, 상당히 긴 기간 발생 가능성…각별히 주의&quot;(종합)</a>\\n\\t\\t</div>\\n\\t\\n\\t\\t<div data-office-name=\"데일리안\" data-office-id=\"119\" data-sort-order=\"20\">\\n\\t\\t\\t<a href=\"https://news.naver.com/main/read.naver?mode&#x3D;LSD&amp;mid&#x3D;shm&amp;sid1&#x3D;100&amp;oid&#x3D;119&amp;aid&#x3D;0002557243\" class=\"issue\" data-clk=\"quickarticle\">윤석열, &#x27;2시간 20분&#x27; 열띤 토론…고발사주·김건희 의혹 단호히 부인</a>\\n\\t\\t</div>\\n\\t\\n\\t\\t<div data-office-name=\"MBN\" data-office-id=\"057\" data-sort-order=\"21\">\\n\\t\\t\\t<a href=\"https://news.naver.com/main/read.naver?mode&#x3D;LSD&amp;mid&#x3D;shm&amp;sid1&#x3D;102&amp;oid&#x3D;057&amp;aid&#x3D;0001628350\" class=\"issue\" data-clk=\"quickarticle\">제주 관광객도 깜짝 놀랐다…&quot;전쟁 나는 줄 알았어요&quot;</a>\\n\\t\\t</div>\\n\\t\\n\\t\\t<div data-office-name=\"머니투데이\" data-office-id=\"008\" data-sort-order=\"22\">\\n\\t\\t\\t<a href=\"https://news.naver.com/main/read.naver?mode&#x3D;LSD&amp;mid&#x3D;shm&amp;sid1&#x3D;102&amp;oid&#x3D;008&amp;aid&#x3D;0004683369\" class=\"issue\" data-clk=\"quickarticle\">&quot;확인 받고 대피하라니…&quot; 제주 지진에 재택치료·자가격리자 &#x27;불안&#x27;</a>\\n\\t\\t</div>\\n\\t\\n\\t\\t<div data-office-name=\"서울신문\" data-office-id=\"081\" data-sort-order=\"23\">\\n\\t\\t\\t<a href=\"https://news.naver.com/main/read.naver?mode&#x3D;LSD&amp;mid&#x3D;shm&amp;sid1&#x3D;102&amp;oid&#x3D;081&amp;aid&#x3D;0003237578\" class=\"issue\" data-clk=\"quickarticle\">“창문 깨지고 난간 뒤틀려” 제주 발칵 뒤집은 지진…“여진 1년 이어질 수도”(종합)</a>\\n\\t\\t</div>\\n\\t\\n\\t\\t<div data-office-name=\"연합뉴스TV\" data-office-id=\"422\" data-sort-order=\"24\">\\n\\t\\t\\t<a href=\"https://news.naver.com/main/read.naver?mode&#x3D;LSD&amp;mid&#x3D;shm&amp;sid1&#x3D;102&amp;oid&#x3D;422&amp;aid&#x3D;0000518618\" class=\"issue\" data-clk=\"quickarticle\">제주 지진 서울에서도 흔들림…인명피해 없어</a>\\n\\t\\t</div>\\n\\t\\n\\t\\t<div data-office-name=\"조선비즈\" data-office-id=\"366\" data-sort-order=\"25\">\\n\\t\\t\\t<a href=\"https://news.naver.com/main/read.naver?mode&#x3D;LSD&amp;mid&#x3D;shm&amp;sid1&#x3D;100&amp;oid&#x3D;366&amp;aid&#x3D;0000780415\" class=\"issue\" data-clk=\"quickarticle\">文대통령, 시드니에서 호주 총리와 친교 만찬…동포 지원 당부</a>\\n\\t\\t</div>\\n\\t\\n\\t\\t<div data-office-name=\"한국경제TV\" data-office-id=\"215\" data-sort-order=\"26\">\\n\\t\\t\\t<a href=\"https://news.naver.com/main/read.naver?mode&#x3D;LSD&amp;mid&#x3D;shm&amp;sid1&#x3D;102&amp;oid&#x3D;215&amp;aid&#x3D;0001003528\" class=\"issue\" data-clk=\"quickarticle\">제주도가 흔들렸다...&quot;4.9 지진에 섬 전체가 진동&quot;</a>\\n\\t\\t</div>\\n\\t\\n\\t\\t<div data-office-name=\"세계일보\" data-office-id=\"022\" data-sort-order=\"27\">\\n\\t\\t\\t<a href=\"https://news.naver.com/main/read.naver?mode&#x3D;LSD&amp;mid&#x3D;shm&amp;sid1&#x3D;102&amp;oid&#x3D;022&amp;aid&#x3D;0003647931\" class=\"issue\" data-clk=\"quickarticle\">건물 흔들리고 일부 도로 균열… 주민들 “놀라서 뛰쳐 나왔다”</a>\\n\\t\\t</div>\\n\\t\\n\\t\\t<div data-office-name=\"노컷뉴스\" data-office-id=\"079\" data-sort-order=\"28\">\\n\\t\\t\\t<a href=\"https://news.naver.com/main/read.naver?mode&#x3D;LSD&amp;mid&#x3D;shm&amp;sid1&#x3D;154&amp;oid&#x3D;079&amp;aid&#x3D;0003586031\" class=\"issue\" data-clk=\"quickarticle\">김건희 경력 &quot;거짓&quot; 의혹 일파만파…게임협회 전직 사무국장 &#x27;폭로&#x27;</a>\\n\\t\\t</div>\\n\\t\\n\\t\\t<div data-office-name=\"오마이뉴스\" data-office-id=\"047\" data-sort-order=\"29\">\\n\\t\\t\\t<a href=\"https://news.naver.com/main/read.naver?mode&#x3D;LSD&amp;mid&#x3D;shm&amp;sid1&#x3D;100&amp;oid&#x3D;047&amp;aid&#x3D;0002335871\" class=\"issue\" data-clk=\"quickarticle\">&quot;쥴리-조남욱 회장, 한 집안 식구 같은 느낌... 스스럼 없이 대해&quot;</a>\\n\\t\\t</div>\\n\\t\\n\\t\\t<div data-office-name=\"TV조선\" data-office-id=\"448\" data-sort-order=\"30\">\\n\\t\\t\\t<a href=\"https://news.naver.com/main/read.naver?mode&#x3D;LSD&amp;mid&#x3D;shm&amp;sid1&#x3D;102&amp;oid&#x3D;448&amp;aid&#x3D;0000346426\" class=\"issue\" data-clk=\"quickarticle\">현장선 &quot;살 가능성 높은 사람에 병상 배정…이미 의료붕괴&quot;</a>\\n\\t\\t</div>\\n\\t\\n\\t\\t<div data-office-name=\"뉴시스\" data-office-id=\"003\" data-sort-order=\"31\">\\n\\t\\t\\t<a href=\"https://news.naver.com/main/read.naver?mode&#x3D;LSD&amp;mid&#x3D;shm&amp;sid1&#x3D;102&amp;oid&#x3D;003&amp;aid&#x3D;0010889477\" class=\"issue\" data-clk=\"quickarticle\">제주도 흔들, 전국이 깜짝…&quot;지진 느꼈다&quot; 169건 접수(종합2보)</a>\\n\\t\\t</div>\\n\\t\\n\\t\\t<div data-office-name=\"채널A\" data-office-id=\"449\" data-sort-order=\"32\">\\n\\t\\t\\t<a href=\"https://news.naver.com/main/read.naver?mode&#x3D;LSD&amp;mid&#x3D;shm&amp;sid1&#x3D;102&amp;oid&#x3D;449&amp;aid&#x3D;0000219331\" class=\"issue\" data-clk=\"quickarticle\">일손 부족한데…‘QR 담당’ 알바 구하기도 힘들다</a>\\n\\t\\t</div>\\n\\t\\n\\t\\t<div data-office-name=\"문화일보\" data-office-id=\"021\" data-sort-order=\"33\">\\n\\t\\t\\t<a href=\"https://news.naver.com/main/read.naver?mode&#x3D;LSD&amp;mid&#x3D;shm&amp;sid1&#x3D;100&amp;oid&#x3D;021&amp;aid&#x3D;0002496026\" class=\"issue\" data-clk=\"quickarticle\">尹 “무능·부패로부터 국민 보호… 정권교체가 그 첫걸음 될 것”</a>\\n\\t\\t</div>\\n\\t\\n\\t\\t<div data-office-name=\"디지털타임스\" data-office-id=\"029\" data-sort-order=\"34\">\\n\\t\\t\\t<a href=\"https://news.naver.com/main/read.naver?mode&#x3D;LSD&amp;mid&#x3D;shm&amp;sid1&#x3D;102&amp;oid&#x3D;029&amp;aid&#x3D;0002711000\" class=\"issue\" data-clk=\"quickarticle\">[기획] 절반이상 확찐 3040, 코로나 블루로 운다</a>\\n\\t\\t</div>\\n\\t\\n\\t\\t<div data-office-name=\"전자신문\" data-office-id=\"030\" data-sort-order=\"35\">\\n\\t\\t\\t<a href=\"https://news.naver.com/main/read.naver?mode&#x3D;LSD&amp;mid&#x3D;shm&amp;sid1&#x3D;104&amp;oid&#x3D;030&amp;aid&#x3D;0002987763\" class=\"issue\" data-clk=\"quickarticle\">내일 개봉 ‘스파이더맨: 노 웨이 홈’…멀티버스 열리다</a>\\n\\t\\t</div>\\n\\t\\n\\t\\t<div data-office-name=\"미디어오늘\" data-office-id=\"006\" data-sort-order=\"36\">\\n\\t\\t\\t<a href=\"https://news.naver.com/main/read.naver?mode&#x3D;LSD&amp;mid&#x3D;shm&amp;sid1&#x3D;102&amp;oid&#x3D;006&amp;aid&#x3D;0000110928\" class=\"issue\" data-clk=\"quickarticle\">&quot;공영방송, 구체적 공적책무 평가로 수신료 받아야&quot;</a>\\n\\t\\t</div>\\n\\t\\n\\t\\t<div data-office-name=\"SBS Biz\" data-office-id=\"374\" data-sort-order=\"37\">\\n\\t\\t\\t<a href=\"https://news.naver.com/main/read.naver?mode&#x3D;LSD&amp;mid&#x3D;shm&amp;sid1&#x3D;101&amp;oid&#x3D;374&amp;aid&#x3D;0000267866\" class=\"issue\" data-clk=\"quickarticle\">OK저축은행, ‘연 2% 이자’ 준다더니 갑자기 발뺌?</a>\\n\\t\\t</div>\\n\\t\\n\\t\\t<div data-office-name=\"부산일보\" data-office-id=\"082\" data-sort-order=\"38\">\\n\\t\\t\\t<a href=\"https://news.naver.com/main/read.naver?mode&#x3D;LSD&amp;mid&#x3D;shm&amp;sid1&#x3D;102&amp;oid&#x3D;082&amp;aid&#x3D;0001131968\" class=\"issue\" data-clk=\"quickarticle\">위기의 ‘위드 코로나’ 다음 주 다시 ‘빗장’</a>\\n\\t\\t</div>\\n\\t\\n\\t\\t<div data-office-name=\"프레시안\" data-office-id=\"002\" data-sort-order=\"39\">\\n\\t\\t\\t<a href=\"https://news.naver.com/main/read.naver?mode&#x3D;LSD&amp;mid&#x3D;shm&amp;sid1&#x3D;104&amp;oid&#x3D;002&amp;aid&#x3D;0002223044\" class=\"issue\" data-clk=\"quickarticle\">&#x27;온가족이 총 들고 스마일~&#x27; 美 극우 의원들이 성탄절을 기념하는 방식</a>\\n\\t\\t</div>\\n\\t\\n\\t\\t<div data-office-name=\"지디넷코리아\" data-office-id=\"092\" data-sort-order=\"40\">\\n\\t\\t\\t<a href=\"https://news.naver.com/main/read.naver?mode&#x3D;LSD&amp;mid&#x3D;shm&amp;sid1&#x3D;105&amp;oid&#x3D;092&amp;aid&#x3D;0002242132\" class=\"issue\" data-clk=\"quickarticle\">&#x27;130년 통신&#x27; KT, 비통신 6대사업으로 매출 50% 잡는다</a>\\n\\t\\t</div>\\n\\t\\n\\t\\t<div data-office-name=\"매일신문\" data-office-id=\"088\" data-sort-order=\"41\">\\n\\t\\t\\t<a href=\"https://news.naver.com/main/read.naver?mode&#x3D;LSD&amp;mid&#x3D;shm&amp;sid1&#x3D;102&amp;oid&#x3D;088&amp;aid&#x3D;0000735821\" class=\"issue\" data-clk=\"quickarticle\">&#x27;어제보다 869명 많아…&#x27; 14일 오후 9시까지 전국서 5803명 확진</a>\\n\\t\\t</div>\\n\\t\\n\\t\\t<div data-office-name=\"아이뉴스24\" data-office-id=\"031\" data-sort-order=\"42\">\\n\\t\\t\\t<a href=\"https://news.naver.com/main/read.naver?mode&#x3D;LSD&amp;mid&#x3D;shm&amp;sid1&#x3D;105&amp;oid&#x3D;031&amp;aid&#x3D;0000642391\" class=\"issue\" data-clk=\"quickarticle\">배달 플랫폼 20여개 업체 일제히 과태료…업계 &#x27;당황&#x27; [IT돋보기]</a>\\n\\t\\t</div>\\n\\t\\n\\t\\t<div data-office-name=\"블로터\" data-office-id=\"293\" data-sort-order=\"43\">\\n\\t\\t\\t<a href=\"https://news.naver.com/main/read.naver?mode&#x3D;LSD&amp;mid&#x3D;shm&amp;sid1&#x3D;105&amp;oid&#x3D;293&amp;aid&#x3D;0000037299\" class=\"issue\" data-clk=\"quickarticle\">매그나칩반도체 인수하려던 中자본, 韓美견제에 MA 철회</a>\\n\\t\\t</div>\\n\\t\\n\\t\\t<div data-office-name=\"디지털데일리\" data-office-id=\"138\" data-sort-order=\"44\">\\n\\t\\t\\t<a href=\"https://news.naver.com/main/read.naver?mode&#x3D;LSD&amp;mid&#x3D;shm&amp;sid1&#x3D;105&amp;oid&#x3D;138&amp;aid&#x3D;0002115334\" class=\"issue\" data-clk=\"quickarticle\">[DD 퇴근길] 영업이익률 90%, 세금 1조 내는 회사는 어디?</a>\\n\\t\\t</div>\\n\\t\\n\\t\\t<div data-office-name=\"강원일보\" data-office-id=\"087\" data-sort-order=\"45\">\\n\\t\\t\\t<a href=\"https://news.naver.com/main/read.naver?mode&#x3D;LSD&amp;mid&#x3D;shm&amp;sid1&#x3D;100&amp;oid&#x3D;087&amp;aid&#x3D;0000872891\" class=\"issue\" data-clk=\"quickarticle\">김부겸·유은혜·정은경, 내일 학부모 간담회 열고 &#x27;청소년 방역패스&#x27; 설득</a>\\n\\t\\t</div>\\n\\t\\n\\t\\t<div data-office-name=\"더팩트\" data-office-id=\"629\" data-sort-order=\"46\">\\n\\t\\t\\t<a href=\"https://news.naver.com/main/read.naver?mode&#x3D;LSD&amp;mid&#x3D;shm&amp;sid1&#x3D;102&amp;oid&#x3D;629&amp;aid&#x3D;0000121639\" class=\"issue\" data-clk=\"quickarticle\">[단독] &quot;한라산이 흔들리는데…포털 뉴스 접속 오류&quot; 제주 4.9 강진에 혼 빠진 도민들</a>\\n\\t\\t</div>\\n\\t\\n\\t\\t<div data-office-name=\"시사저널\" data-office-id=\"586\" data-sort-order=\"47\">\\n\\t\\t\\t<a href=\"https://news.naver.com/main/read.naver?mode&#x3D;LSD&amp;mid&#x3D;shm&amp;sid1&#x3D;154&amp;oid&#x3D;586&amp;aid&#x3D;0000032425\" class=\"issue\" data-clk=\"quickarticle\">이재명 &quot;즉각 거리두기 강화해야&quot; 긴급성명</a>\\n\\t\\t</div>\\n\\t\\n\\t\\t<div data-office-name=\"헬스조선\" data-office-id=\"346\" data-sort-order=\"48\">\\n\\t\\t\\t<a href=\"https://news.naver.com/main/read.naver?mode&#x3D;LSD&amp;mid&#x3D;shm&amp;sid1&#x3D;103&amp;oid&#x3D;346&amp;aid&#x3D;0000046707\" class=\"issue\" data-clk=\"quickarticle\">남은 술 버리기 아깝다면 &#x27;여기&#x27; 쓰세요</a>\\n\\t\\t</div>\\n\\t\\n\\t\\t<div data-office-name=\"뉴스타파\" data-office-id=\"607\" data-sort-order=\"49\">\\n\\t\\t\\t<a href=\"https://news.naver.com/main/read.naver?mode&#x3D;LSD&amp;mid&#x3D;shm&amp;sid1&#x3D;102&amp;oid&#x3D;607&amp;aid&#x3D;0000000962\" class=\"issue\" data-clk=\"quickarticle\">[12·12 특별기획] 일본 외무성의 &#x27;전두환 파일&#x27; 최초 공개</a>\\n\\t\\t</div>\\n\\t\\n\\t\\t<div data-office-name=\"한겨레21\" data-office-id=\"036\" data-sort-order=\"50\">\\n\\t\\t\\t<a href=\"https://news.naver.com/main/read.naver?mode&#x3D;LSD&amp;mid&#x3D;shm&amp;sid1&#x3D;102&amp;oid&#x3D;036&amp;aid&#x3D;0000045789\" class=\"issue\" data-clk=\"quickarticle\">위드코로나, 너무 늦거나 가혹하거나</a>\\n\\t\\t</div>\\n\\t\\n\\t\\t<div data-office-name=\"매경이코노미\" data-office-id=\"024\" data-sort-order=\"51\">\\n\\t\\t\\t<a href=\"https://news.naver.com/main/read.naver?mode&#x3D;LSD&amp;mid&#x3D;shm&amp;sid1&#x3D;101&amp;oid&#x3D;024&amp;aid&#x3D;0000072087\" class=\"issue\" data-clk=\"quickarticle\">연말 장세에 빈번한 개별 종목 ‘돌발 급락’ 왜 그럴까</a>\\n\\t\\t</div>\\n\\t\\n\\t\\t<div data-office-name=\"시사IN\" data-office-id=\"308\" data-sort-order=\"52\">\\n\\t\\t\\t<a href=\"https://news.naver.com/main/read.naver?mode&#x3D;LSD&amp;mid&#x3D;shm&amp;sid1&#x3D;102&amp;oid&#x3D;308&amp;aid&#x3D;0000029904\" class=\"issue\" data-clk=\"quickarticle\">윤우진 ‘봐줬던’ 그 검찰 봐주지 말라</a>\\n\\t\\t</div>\\n\\t\\n\\t\\t<div data-office-name=\"조세일보\" data-office-id=\"123\" data-sort-order=\"53\">\\n\\t\\t\\t<a href=\"https://news.naver.com/main/read.naver?mode&#x3D;LSD&amp;mid&#x3D;shm&amp;sid1&#x3D;101&amp;oid&#x3D;123&amp;aid&#x3D;0002262127\" class=\"issue\" data-clk=\"quickarticle\">중앙·지방재정 집행률 80% 넘겨…연말까지 83조 더 푼다</a>\\n\\t\\t</div>\\n\\t\\n\\t\\t<div data-office-name=\"머니S\" data-office-id=\"417\" data-sort-order=\"54\">\\n\\t\\t\\t<a href=\"https://news.naver.com/main/read.naver?mode&#x3D;LSD&amp;mid&#x3D;shm&amp;sid1&#x3D;102&amp;oid&#x3D;417&amp;aid&#x3D;0000764517\" class=\"issue\" data-clk=\"quickarticle\">제주 해역 규모 4.9 지진, 여진 5건 발생… 기상청 &quot;3.0 이하로 계속 발생 가능&quot;(종합2보)</a>\\n\\t\\t</div>\\n\\t\\n\\t\\t<div data-office-name=\"이코노미스트\" data-office-id=\"243\" data-sort-order=\"55\">\\n\\t\\t\\t<a href=\"https://news.naver.com/main/read.naver?mode&#x3D;LSD&amp;mid&#x3D;shm&amp;sid1&#x3D;101&amp;oid&#x3D;243&amp;aid&#x3D;0000019969\" class=\"issue\" data-clk=\"quickarticle\">미 금리인상 시계 얼마나 빨라지나…최악 시나리오는 &#x27;1분기 시그널&#x27;</a>\\n\\t\\t</div>\\n\\t\\n\\t\\t<div data-office-name=\"주간조선\" data-office-id=\"053\" data-sort-order=\"56\">\\n\\t\\t\\t<a href=\"https://news.naver.com/main/read.naver?mode&#x3D;LSD&amp;mid&#x3D;shm&amp;sid1&#x3D;100&amp;oid&#x3D;053&amp;aid&#x3D;0000030163\" class=\"issue\" data-clk=\"quickarticle\">이재명 향한 호남의 ‘밀당’… 尹 ‘20% 미션’ 가능할까?</a>\\n\\t\\t</div>\\n\\t\\n\\t\\t<div data-office-name=\"한경비즈니스\" data-office-id=\"050\" data-sort-order=\"57\">\\n\\t\\t\\t<a href=\"https://news.naver.com/main/read.naver?mode&#x3D;LSD&amp;mid&#x3D;shm&amp;sid1&#x3D;101&amp;oid&#x3D;050&amp;aid&#x3D;0000059329\" class=\"issue\" data-clk=\"quickarticle\">2021년을 빛낸 ‘베스트 변호사’…14개 부문 16명 선정</a>\\n\\t\\t</div>\\n\\t\\n\\t\\t<div data-office-name=\"코메디닷컴\" data-office-id=\"296\" data-sort-order=\"58\">\\n\\t\\t\\t<a href=\"https://news.naver.com/main/read.naver?mode&#x3D;LSD&amp;mid&#x3D;shm&amp;sid1&#x3D;103&amp;oid&#x3D;296&amp;aid&#x3D;0000053205\" class=\"issue\" data-clk=\"quickarticle\">규칙적인 ○○, 암과 싸우는 강력한 무기</a>\\n\\t\\t</div>\\n\\t\\n\\t\\t<div data-office-name=\"코리아헤럴드\" data-office-id=\"044\" data-sort-order=\"59\">\\n\\t\\t\\t<a href=\"https://news.naver.com/main/read.naver?mode&#x3D;LSD&amp;mid&#x3D;shm&amp;sid1&#x3D;104&amp;oid&#x3D;044&amp;aid&#x3D;0000233060\" class=\"issue\" data-clk=\"quickarticle\">Despite record deaths, Korea hesitates to reimpose restrictions</a>\\n\\t\\t</div>\\n\\t\\n\\t\\t<div data-office-name=\"신동아\" data-office-id=\"262\" data-sort-order=\"60\">\\n\\t\\t\\t<a href=\"https://news.naver.com/main/read.naver?mode&#x3D;LSD&amp;mid&#x3D;shm&amp;sid1&#x3D;102&amp;oid&#x3D;262&amp;aid&#x3D;0000015033\" class=\"issue\" data-clk=\"quickarticle\">김용인 경우회장 “섬김과 겸손 리더십으로 150만 ‘警友’ 심부름꾼 될 터”</a>\\n\\t\\t</div>\\n\\t\\n\\t\\t<div data-office-name=\"주간동아\" data-office-id=\"037\" data-sort-order=\"61\">\\n\\t\\t\\t<a href=\"https://news.naver.com/main/read.naver?mode&#x3D;LSD&amp;mid&#x3D;shm&amp;sid1&#x3D;101&amp;oid&#x3D;037&amp;aid&#x3D;0000030080\" class=\"issue\" data-clk=\"quickarticle\">싸이월드 부활, 사진 17억 장  ‘추억 마케팅’ 역부족</a>\\n\\t\\t</div>\\n\\t\\n\\t\\t<div data-office-name=\"동아사이언스\" data-office-id=\"584\" data-sort-order=\"62\">\\n\\t\\t\\t<a href=\"https://news.naver.com/main/read.naver?mode&#x3D;LSD&amp;mid&#x3D;shm&amp;sid1&#x3D;105&amp;oid&#x3D;584&amp;aid&#x3D;0000017101\" class=\"issue\" data-clk=\"quickarticle\">제주 인근서 규모 4.9 지진 전남북까지 &#x27;흔들&#x27;…&quot;규모 3 여진 가능성&quot;(종합)</a>\\n\\t\\t</div>\\n\\t\\n\\t\\t<div data-office-name=\"여성신문\" data-office-id=\"310\" data-sort-order=\"63\">\\n\\t\\t\\t<a href=\"https://news.naver.com/main/read.naver?mode&#x3D;LSD&amp;mid&#x3D;shm&amp;sid1&#x3D;102&amp;oid&#x3D;310&amp;aid&#x3D;0000092621\" class=\"issue\" data-clk=\"quickarticle\">83년생 혼인비율 67%... 기혼여성 4명 중 1명 출산 후 경력단절</a>\\n\\t\\t</div>\\n\\t\\n\\t\\t<div data-office-name=\"월간산\" data-office-id=\"094\" data-sort-order=\"64\">\\n\\t\\t\\t<a href=\"https://news.naver.com/main/read.naver?mode&#x3D;LSD&amp;mid&#x3D;shm&amp;sid1&#x3D;103&amp;oid&#x3D;094&amp;aid&#x3D;0000009608\" class=\"issue\" data-clk=\"quickarticle\">[아웃도어 브랜드 스토리 코베아] 대한민국 캠핑문화를 디자인하다</a>\\n\\t\\t</div>\\n\\t\\n\\t\\t<div data-office-name=\"기자협회보\" data-office-id=\"127\" data-sort-order=\"65\">\\n\\t\\t\\t<a href=\"https://news.naver.com/main/read.naver?mode&#x3D;LSD&amp;mid&#x3D;shm&amp;sid1&#x3D;102&amp;oid&#x3D;127&amp;aid&#x3D;0000031923\" class=\"issue\" data-clk=\"quickarticle\">중도일보, 언론 사유화 논란에 사과문 게재</a>\\n\\t\\t</div>\\n\\t\\n\\t\\t<div data-office-name=\"일다\" data-office-id=\"007\" data-sort-order=\"66\">\\n\\t\\t\\t<a href=\"https://news.naver.com/main/read.naver?mode&#x3D;LSD&amp;mid&#x3D;shm&amp;sid1&#x3D;102&amp;oid&#x3D;007&amp;aid&#x3D;0000006968\" class=\"issue\" data-clk=\"quickarticle\">‘가난을 낙인찍는 사회’ 쪽방촌 주민들의 목소리</a>\\n\\t\\t</div>\\n\\t\\n\\t\\t<div data-office-name=\"비즈니스워치\" data-office-id=\"648\" data-sort-order=\"67\">\\n\\t\\t\\t<a href=\"https://news.naver.com/main/read.naver?mode&#x3D;LSD&amp;mid&#x3D;shm&amp;sid1&#x3D;101&amp;oid&#x3D;648&amp;aid&#x3D;0000005302\" class=\"issue\" data-clk=\"quickarticle\">조단위 이익 두나무…&#x27;다음은 하이브 JV·메타버스 정조준&#x27;</a>\\n\\t\\t</div>\\n\\t\\n\\t\\t<div data-office-name=\"코리아중앙데일리\" data-office-id=\"640\" data-sort-order=\"68\">\\n\\t\\t\\t<a href=\"https://news.naver.com/main/read.naver?mode&#x3D;LSD&amp;mid&#x3D;shm&amp;sid1&#x3D;102&amp;oid&#x3D;640&amp;aid&#x3D;0000019217\" class=\"issue\" data-clk=\"quickarticle\">Covid deaths, critical cases hit new highs</a>\\n\\t\\t</div>\\n\\t\\n\\t\\t<div data-office-name=\"주간경향\" data-office-id=\"033\" data-sort-order=\"69\">\\n\\t\\t\\t<a href=\"https://news.naver.com/main/read.naver?mode&#x3D;LSD&amp;mid&#x3D;shm&amp;sid1&#x3D;102&amp;oid&#x3D;033&amp;aid&#x3D;0000043395\" class=\"issue\" data-clk=\"quickarticle\">[렌즈로 본 세상]수심 깊어진 노량진수산시장</a>\\n\\t\\t</div>\\n\\t\\n</div>\\n </div> <div class=\"direct_area\"> <a href=\"http://news.naver.com/\" class=\"link_news\" data-clk=\"newshome\">뉴스홈</a>\\n<a href=\"http://entertain.naver.com/home\" class=\"link_direct\" data-clk=\"entertainment\">연예</a>\\n<a href=\"http://sports.news.naver.com/\" class=\"link_direct\" data-clk=\"sports\">스포츠</a>\\n<a href=\"http://news.naver.com/main/main.nhn?mode=LSD&mid=shm&sid1=101\" class=\"link_direct\" data-clk=\"economy\">경제</a> </div> </div>        <div id=\"NM_NEWSSTAND_TITLE\" class=\"group_title\" data-clk-prefix=\"nsd\"> <a href=\"http://newsstand.naver.com/\" class=\"link_newsstand\" data-clk=\"title\" target=\"_blank\">뉴스스탠드</a> <div id=\"NM_NEWSSTAND_data_buttons\" class=\"sort_area\">  <a href=\"#\" role=\"button\" data-type=\"my\" data-clk=\"my\" class=\"btn_sort\">구독한 언론사</a> <a href=\"#\" role=\"button\" data-type=\"all\" data-clk=\"all\" class=\"btn_sort sort_on\">전체언론사</a>  </div> <div id=\"NM_NEWSSTAND_view_buttons\" class=\"set_area\">  <a href=\"#\" role=\"button\" data-type=\"list\" data-clk=\"articleview\" class=\"btn_set\"> <i class=\"ico_list\"><span class=\"blind\">리스트형</span></i></a> <a href=\"#\" role=\"button\" data-type=\"thumb\" data-clk=\"pressview\" class=\"btn_set set_on\"> <i class=\"ico_tile\"><span class=\"blind\">썸네일형</span></i></a>  <a href=\"http://newsstand.naver.com/config.html\" class=\"btn_set\" data-clk=\"set\" target=\"_blank\"> <i class=\"ico_set\"><span class=\"blind\">설정</span></i></a> </div> </div> <div id=\"NM_NEWSSTAND_VIEW_CONTAINER\" style=\"position:relative\"> <div id=\"NM_NEWSSTAND_DEFAULT_LIST\" class=\"group_news\" style=\"display:none\" data-clk-prefix=\"nsd_all\"> <a href=\"#\" role=\"button\" class=\"pm_btn_prev_l _NM_NEWSSTAND_LIST_prev_btn\" data-clk-custom=\"prev\"><i class=\"ico_btn\"><span class=\"blind\">이전</span></i></a> <a href=\"#\" role=\"button\" class=\"pm_btn_next_l _NM_NEWSSTAND_LIST_next_btn\" data-clk-custom=\"next\"><i class=\"ico_btn\"><span class=\"blind\">다음</span></i></a> <div class=\"list_view\"> <div class=\"option_area\"> <div class=\"list_option_wrap\"> <ul class=\"list_option\"> <li class=\"option_item\" data-cateid=\"ct2\"><a href=\"#\" class=\"option\" data-clk=\"daei\">종합/경제</a></li> <li class=\"option_item\" data-cateid=\"ct3\"><a href=\"#\" class=\"option\" data-clk=\"dtvcom\">방송/통신</a></li> <li class=\"option_item\" data-cateid=\"ct4\"><a href=\"#\" class=\"option\" data-clk=\"dit\">IT</a></li> <li class=\"option_item\" data-cateid=\"ct5\"><a href=\"#\" class=\"option\" data-clk=\"deng\">영자지</a></li> <li class=\"option_item\" data-cateid=\"ct6\"><a href=\"#\" class=\"option\" data-clk=\"dsporent\">스포츠/연예</a></li> <li class=\"option_item\" data-cateid=\"ct7\"><a href=\"#\" class=\"option\" data-clk=\"dmagtec\">매거진/전문지</a></li> <li class=\"option_item\" data-cateid=\"ct8\"><a href=\"#\" class=\"option\" data-clk=\"dloc\">지역</a></li> </ul> </div> </div> <div class=\"_NM_NEWSSTAND_ARTICLE_CONTAINER\" data-clk-sub=\"*a\"></div> </div> <div class=\"ly_popup NM_NEWSSTAND_POPUP NM_NEWSSTAND_invalid\" style=\"display:none\" data-clk-sub=\"*a\"> <a href=\"#\" role=\"button\" class=\"btn_close NM_NEWSSTAND_POPUP_CLOSE\"><i class=\"ico_close\"></i><span class=\"blind\">닫기</span></a> <p class=\"popup_msg\">해당 언론사 사정으로 접근이 제한됩니다.</p> <div class=\"popup_btn\"> <a href=\"#\" role=\"button\" class=\"btn_confirm NM_NEWSSTAND_POPUP_CLOSE\">확인</a> </div> </div> <div class=\"ly_popup NM_NEWSSTAND_POPUP NM_NEWSSTAND_undescribe_confirm\" style=\"display:none\" data-clk-sub=\"*a\"> <a href=\"#\" role=\"button\" class=\"btn_close NM_NEWSSTAND_POPUP_CLOSE\" data-clk=\"usclose\"><i class=\"ico_close\"></i><span class=\"blind\">닫기</span></a> <p class=\"popup_msg\"><strong class=\"NM_NEWSSTAND_POPUP_PNAME\"></strong>을(를)<br>구독해지 하시겠습니까?</p> <div class=\"popup_btn\"> <a href=\"#\" role=\"button\" class=\"btn_confirm NM_NEWSSTAND_POPUP_CONFIRM\" data-clk=\"usdone\">확인</a> <a href=\"#\" role=\"button\" class=\"btn_confirm NM_NEWSSTAND_POPUP_CLOSE\" data-clk=\"uscancel\">취소</a> </div> </div> <div class=\"ly_toast NM_NEWSSTAND_TOAST\" style=\"display:none\"> <p class=\"toast_msg\">구독한 언론사에 추가되었습니다.</p> </div> </div>   <div id=\"NM_NEWSSTAND_DEFAULT_THUMB\" class=\"group_news\" style=\"display:block\" data-clk-prefix=\"nsd_all\"> <a href=\"#\" role=\"button\" class=\"pm_btn_prev_l _NM_UI_PAGE_PREV\" data-clk-custom=\"prev\"><i class=\"ico_btn\"><span class=\"blind\">이전</span></i></a> <a href=\"#\" role=\"button\" class=\"pm_btn_next_l _NM_UI_PAGE_NEXT\" data-clk-custom=\"next\"><i class=\"ico_btn\"><span class=\"blind\">다음</span></i></a> <div class=\"_NM_UI_PAGE_CONTAINER\" style=\"height:100%;overflow:hidden\" data-clk-sub=\"*p\">   <div style=\"width: 750px; float: left;\">\\n<div class=\"tile_view\">\\n<div class=\"frame_area\">\\n<i class=\"line to_right1\"></i>\\n<i class=\"line to_right2\"></i>\\n<i class=\"line to_right3\"></i>\\n<i class=\"line to_bottom1\"></i>\\n<i class=\"line to_bottom2\"></i>\\n<i class=\"line to_bottom3\"></i>\\n<i class=\"line to_bottom4\"></i>\\n<i class=\"line to_bottom5\"></i>\\n</div>\\n<div class=\"thumb_area\">\\n<div\\nclass=\"thumb_box _NM_NEWSSTAND_THUMB _NM_NEWSSTAND_THUMB_press_valid\"\\ndata-pid=\"002\"\\n>\\n<a href=\"#\" class=\"thumb\">\\n<img\\nsrc=\"https://s.pstatic.net/static/newsstand/2020/logo/light/0604/002.png\"\\nheight=\"20\"\\nalt=\"프레시안\"\\nclass=\"news_logo\"\\n/>\\n<span class=\"thumb_dim\"></span\\n></a>\\n<div class=\"popup_wrap\">\\n<a\\nhref=\"#\"\\nrole=\"button\"\\nclass=\"btn_popup _NM_NEWSSTAND_THUMB_subscribe_press\"\\ndata-pid=\"002\"\\ndata-clk=\"sub\"\\n>구독</a\\n>\\n<a\\nhref=\"#\"\\nrole=\"button\"\\nclass=\"btn_popup _NM_NEWSSTAND_THUMB_unsubscribe_press\"\\ndata-pid=\"002\"\\ndata-clk=\"unsub\"\\n>해지</a\\n>\\n<a\\nhref=\"http://newsstand.naver.com/?list=&pcode=002\"\\ntarget=\"_blank\"\\nclass=\"btn_popup\"\\ndata-clk=\"logo\"\\ndata-pid=\"002\"\\n>기사보기</a\\n>\\n</div>\\n</div>\\n<div\\nclass=\"thumb_box _NM_NEWSSTAND_THUMB _NM_NEWSSTAND_THUMB_press_valid\"\\ndata-pid=\"073\"\\n>\\n<a href=\"#\" class=\"thumb\">\\n<img\\nsrc=\"https://s.pstatic.net/static/newsstand/up/2020/0708/nsd94830278.png\"\\nheight=\"20\"\\nalt=\"스포츠서울\"\\nclass=\"news_logo\"\\n/>\\n<span class=\"thumb_dim\"></span\\n></a>\\n<div class=\"popup_wrap\">\\n<a\\nhref=\"#\"\\nrole=\"button\"\\nclass=\"btn_popup _NM_NEWSSTAND_THUMB_subscribe_press\"\\ndata-pid=\"073\"\\ndata-clk=\"sub\"\\n>구독</a\\n>\\n<a\\nhref=\"#\"\\nrole=\"button\"\\nclass=\"btn_popup _NM_NEWSSTAND_THUMB_unsubscribe_press\"\\ndata-pid=\"073\"\\ndata-clk=\"unsub\"\\n>해지</a\\n>\\n<a\\nhref=\"http://newsstand.naver.com/?list=&pcode=073\"\\ntarget=\"_blank\"\\nclass=\"btn_popup\"\\ndata-clk=\"logo\"\\ndata-pid=\"073\"\\n>기사보기</a\\n>\\n</div>\\n</div>\\n<div\\nclass=\"thumb_box _NM_NEWSSTAND_THUMB _NM_NEWSSTAND_THUMB_press_valid\"\\ndata-pid=\"422\"\\n>\\n<a href=\"#\" class=\"thumb\">\\n<img\\nsrc=\"https://s.pstatic.net/static/newsstand/2020/logo/light/0604/422.png\"\\nheight=\"20\"\\nalt=\"연합뉴스TV\"\\nclass=\"news_logo\"\\n/>\\n<span class=\"thumb_dim\"></span\\n></a>\\n<div class=\"popup_wrap\">\\n<a\\nhref=\"#\"\\nrole=\"button\"\\nclass=\"btn_popup _NM_NEWSSTAND_THUMB_subscribe_press\"\\ndata-pid=\"422\"\\ndata-clk=\"sub\"\\n>구독</a\\n>\\n<a\\nhref=\"#\"\\nrole=\"button\"\\nclass=\"btn_popup _NM_NEWSSTAND_THUMB_unsubscribe_press\"\\ndata-pid=\"422\"\\ndata-clk=\"unsub\"\\n>해지</a\\n>\\n<a\\nhref=\"http://newsstand.naver.com/?list=&pcode=422\"\\ntarget=\"_blank\"\\nclass=\"btn_popup\"\\ndata-clk=\"logo\"\\ndata-pid=\"422\"\\n>기사보기</a\\n>\\n</div>\\n</div>\\n<div\\nclass=\"thumb_box _NM_NEWSSTAND_THUMB _NM_NEWSSTAND_THUMB_press_valid\"\\ndata-pid=\"215\"\\n>\\n<a href=\"#\" class=\"thumb\">\\n<img\\nsrc=\"https://s.pstatic.net/static/newsstand/2020/logo/light/0604/215.png\"\\nheight=\"20\"\\nalt=\"한국경제TV\"\\nclass=\"news_logo\"\\n/>\\n<span class=\"thumb_dim\"></span\\n></a>\\n<div class=\"popup_wrap\">\\n<a\\nhref=\"#\"\\nrole=\"button\"\\nclass=\"btn_popup _NM_NEWSSTAND_THUMB_subscribe_press\"\\ndata-pid=\"215\"\\ndata-clk=\"sub\"\\n>구독</a\\n>\\n<a\\nhref=\"#\"\\nrole=\"button\"\\nclass=\"btn_popup _NM_NEWSSTAND_THUMB_unsubscribe_press\"\\ndata-pid=\"215\"\\ndata-clk=\"unsub\"\\n>해지</a\\n>\\n<a\\nhref=\"http://newsstand.naver.com/?list=&pcode=215\"\\ntarget=\"_blank\"\\nclass=\"btn_popup\"\\ndata-clk=\"logo\"\\ndata-pid=\"215\"\\n>기사보기</a\\n>\\n</div>\\n</div>\\n<div\\nclass=\"thumb_box _NM_NEWSSTAND_THUMB _NM_NEWSSTAND_THUMB_press_valid\"\\ndata-pid=\"018\"\\n>\\n<a href=\"#\" class=\"thumb\">\\n<img\\nsrc=\"https://s.pstatic.net/static/newsstand/2020/logo/light/0604/018.png\"\\nheight=\"20\"\\nalt=\"이데일리\"\\nclass=\"news_logo\"\\n/>\\n<span class=\"thumb_dim\"></span\\n></a>\\n<div class=\"popup_wrap\">\\n<a\\nhref=\"#\"\\nrole=\"button\"\\nclass=\"btn_popup _NM_NEWSSTAND_THUMB_subscribe_press\"\\ndata-pid=\"018\"\\ndata-clk=\"sub\"\\n>구독</a\\n>\\n<a\\nhref=\"#\"\\nrole=\"button\"\\nclass=\"btn_popup _NM_NEWSSTAND_THUMB_unsubscribe_press\"\\ndata-pid=\"018\"\\ndata-clk=\"unsub\"\\n>해지</a\\n>\\n<a\\nhref=\"http://newsstand.naver.com/?list=&pcode=018\"\\ntarget=\"_blank\"\\nclass=\"btn_popup\"\\ndata-clk=\"logo\"\\ndata-pid=\"018\"\\n>기사보기</a\\n>\\n</div>\\n</div>\\n<div\\nclass=\"thumb_box _NM_NEWSSTAND_THUMB _NM_NEWSSTAND_THUMB_press_valid\"\\ndata-pid=\"011\"\\n>\\n<a href=\"#\" class=\"thumb\">\\n<img\\nsrc=\"https://s.pstatic.net/static/newsstand/2020/logo/light/0604/011.png\"\\nheight=\"20\"\\nalt=\"서울경제\"\\nclass=\"news_logo\"\\n/>\\n<span class=\"thumb_dim\"></span\\n></a>\\n<div class=\"popup_wrap\">\\n<a\\nhref=\"#\"\\nrole=\"button\"\\nclass=\"btn_popup _NM_NEWSSTAND_THUMB_subscribe_press\"\\ndata-pid=\"011\"\\ndata-clk=\"sub\"\\n>구독</a\\n>\\n<a\\nhref=\"#\"\\nrole=\"button\"\\nclass=\"btn_popup _NM_NEWSSTAND_THUMB_unsubscribe_press\"\\ndata-pid=\"011\"\\ndata-clk=\"unsub\"\\n>해지</a\\n>\\n<a\\nhref=\"http://newsstand.naver.com/?list=&pcode=011\"\\ntarget=\"_blank\"\\nclass=\"btn_popup\"\\ndata-clk=\"logo\"\\ndata-pid=\"011\"\\n>기사보기</a\\n>\\n</div>\\n</div>\\n<div\\nclass=\"thumb_box _NM_NEWSSTAND_THUMB _NM_NEWSSTAND_THUMB_press_valid\"\\ndata-pid=\"003\"\\n>\\n<a href=\"#\" class=\"thumb\">\\n<img\\nsrc=\"https://s.pstatic.net/static/newsstand/2020/logo/light/0604/003.png\"\\nheight=\"20\"\\nalt=\"뉴시스\"\\nclass=\"news_logo\"\\n/>\\n<span class=\"thumb_dim\"></span\\n></a>\\n<div class=\"popup_wrap\">\\n<a\\nhref=\"#\"\\nrole=\"button\"\\nclass=\"btn_popup _NM_NEWSSTAND_THUMB_subscribe_press\"\\ndata-pid=\"003\"\\ndata-clk=\"sub\"\\n>구독</a\\n>\\n<a\\nhref=\"#\"\\nrole=\"button\"\\nclass=\"btn_popup _NM_NEWSSTAND_THUMB_unsubscribe_press\"\\ndata-pid=\"003\"\\ndata-clk=\"unsub\"\\n>해지</a\\n>\\n<a\\nhref=\"http://newsstand.naver.com/?list=&pcode=003\"\\ntarget=\"_blank\"\\nclass=\"btn_popup\"\\ndata-clk=\"logo\"\\ndata-pid=\"003\"\\n>기사보기</a\\n>\\n</div>\\n</div>\\n<div\\nclass=\"thumb_box _NM_NEWSSTAND_THUMB _NM_NEWSSTAND_THUMB_press_valid\"\\ndata-pid=\"056\"\\n>\\n<a href=\"#\" class=\"thumb\">\\n<img\\nsrc=\"https://s.pstatic.net/static/newsstand/2020/logo/light/0604/056.png\"\\nheight=\"20\"\\nalt=\"KBS\"\\nclass=\"news_logo\"\\n/>\\n<span class=\"thumb_dim\"></span\\n></a>\\n<div class=\"popup_wrap\">\\n<a\\nhref=\"#\"\\nrole=\"button\"\\nclass=\"btn_popup _NM_NEWSSTAND_THUMB_subscribe_press\"\\ndata-pid=\"056\"\\ndata-clk=\"sub\"\\n>구독</a\\n>\\n<a\\nhref=\"#\"\\nrole=\"button\"\\nclass=\"btn_popup _NM_NEWSSTAND_THUMB_unsubscribe_press\"\\ndata-pid=\"056\"\\ndata-clk=\"unsub\"\\n>해지</a\\n>\\n<a\\nhref=\"http://newsstand.naver.com/?list=&pcode=056\"\\ntarget=\"_blank\"\\nclass=\"btn_popup\"\\ndata-clk=\"logo\"\\ndata-pid=\"056\"\\n>기사보기</a\\n>\\n</div>\\n</div>\\n<div\\nclass=\"thumb_box _NM_NEWSSTAND_THUMB _NM_NEWSSTAND_THUMB_press_valid\"\\ndata-pid=\"014\"\\n>\\n<a href=\"#\" class=\"thumb\">\\n<img\\nsrc=\"https://s.pstatic.net/static/newsstand/2020/logo/light/0604/014.png\"\\nheight=\"20\"\\nalt=\"파이낸셜뉴스\"\\nclass=\"news_logo\"\\n/>\\n<span class=\"thumb_dim\"></span\\n></a>\\n<div class=\"popup_wrap\">\\n<a\\nhref=\"#\"\\nrole=\"button\"\\nclass=\"btn_popup _NM_NEWSSTAND_THUMB_subscribe_press\"\\ndata-pid=\"014\"\\ndata-clk=\"sub\"\\n>구독</a\\n>\\n<a\\nhref=\"#\"\\nrole=\"button\"\\nclass=\"btn_popup _NM_NEWSSTAND_THUMB_unsubscribe_press\"\\ndata-pid=\"014\"\\ndata-clk=\"unsub\"\\n>해지</a\\n>\\n<a\\nhref=\"http://newsstand.naver.com/?list=&pcode=014\"\\ntarget=\"_blank\"\\nclass=\"btn_popup\"\\ndata-clk=\"logo\"\\ndata-pid=\"014\"\\n>기사보기</a\\n>\\n</div>\\n</div>\\n<div\\nclass=\"thumb_box _NM_NEWSSTAND_THUMB _NM_NEWSSTAND_THUMB_press_valid\"\\ndata-pid=\"376\"\\n>\\n<a href=\"#\" class=\"thumb\">\\n<img\\nsrc=\"https://s.pstatic.net/static/newsstand/2020/logo/light/0604/376.png\"\\nheight=\"20\"\\nalt=\"지지통신\"\\nclass=\"news_logo\"\\n/>\\n<span class=\"thumb_dim\"></span\\n></a>\\n<div class=\"popup_wrap\">\\n<a\\nhref=\"#\"\\nrole=\"button\"\\nclass=\"btn_popup _NM_NEWSSTAND_THUMB_subscribe_press\"\\ndata-pid=\"376\"\\ndata-clk=\"sub\"\\n>구독</a\\n>\\n<a\\nhref=\"#\"\\nrole=\"button\"\\nclass=\"btn_popup _NM_NEWSSTAND_THUMB_unsubscribe_press\"\\ndata-pid=\"376\"\\ndata-clk=\"unsub\"\\n>해지</a\\n>\\n<a\\nhref=\"http://newsstand.naver.com/?list=&pcode=376\"\\ntarget=\"_blank\"\\nclass=\"btn_popup\"\\ndata-clk=\"logo\"\\ndata-pid=\"376\"\\n>기사보기</a\\n>\\n</div>\\n</div>\\n<div\\nclass=\"thumb_box _NM_NEWSSTAND_THUMB _NM_NEWSSTAND_THUMB_press_valid\"\\ndata-pid=\"044\"\\n>\\n<a href=\"#\" class=\"thumb\">\\n<img\\nsrc=\"https://s.pstatic.net/static/newsstand/2020/logo/light/0604/044.png\"\\nheight=\"20\"\\nalt=\"코리아헤럴드\"\\nclass=\"news_logo\"\\n/>\\n<span class=\"thumb_dim\"></span\\n></a>\\n<div class=\"popup_wrap\">\\n<a\\nhref=\"#\"\\nrole=\"button\"\\nclass=\"btn_popup _NM_NEWSSTAND_THUMB_subscribe_press\"\\ndata-pid=\"044\"\\ndata-clk=\"sub\"\\n>구독</a\\n>\\n<a\\nhref=\"#\"\\nrole=\"button\"\\nclass=\"btn_popup _NM_NEWSSTAND_THUMB_unsubscribe_press\"\\ndata-pid=\"044\"\\ndata-clk=\"unsub\"\\n>해지</a\\n>\\n<a\\nhref=\"http://newsstand.naver.com/?list=&pcode=044\"\\ntarget=\"_blank\"\\nclass=\"btn_popup\"\\ndata-clk=\"logo\"\\ndata-pid=\"044\"\\n>기사보기</a\\n>\\n</div>\\n</div>\\n<div\\nclass=\"thumb_box _NM_NEWSSTAND_THUMB _NM_NEWSSTAND_THUMB_press_valid\"\\ndata-pid=\"076\"\\n>\\n<a href=\"#\" class=\"thumb\">\\n<img\\nsrc=\"https://s.pstatic.net/static/newsstand/2020/logo/light/0604/076.png\"\\nheight=\"20\"\\nalt=\"스포츠조선\"\\nclass=\"news_logo\"\\n/>\\n<span class=\"thumb_dim\"></span\\n></a>\\n<div class=\"popup_wrap\">\\n<a\\nhref=\"#\"\\nrole=\"button\"\\nclass=\"btn_popup _NM_NEWSSTAND_THUMB_subscribe_press\"\\ndata-pid=\"076\"\\ndata-clk=\"sub\"\\n>구독</a\\n>\\n<a\\nhref=\"#\"\\nrole=\"button\"\\nclass=\"btn_popup _NM_NEWSSTAND_THUMB_unsubscribe_press\"\\ndata-pid=\"076\"\\ndata-clk=\"unsub\"\\n>해지</a\\n>\\n<a\\nhref=\"http://newsstand.naver.com/?list=&pcode=076\"\\ntarget=\"_blank\"\\nclass=\"btn_popup\"\\ndata-clk=\"logo\"\\ndata-pid=\"076\"\\n>기사보기</a\\n>\\n</div>\\n</div>\\n<div\\nclass=\"thumb_box _NM_NEWSSTAND_THUMB _NM_NEWSSTAND_THUMB_press_valid\"\\ndata-pid=\"930\"\\n>\\n<a href=\"#\" class=\"thumb\">\\n<img\\nsrc=\"https://s.pstatic.net/static/newsstand/2020/logo/light/0604/930.png\"\\nheight=\"20\"\\nalt=\"뉴스타파\"\\nclass=\"news_logo\"\\n/>\\n<span class=\"thumb_dim\"></span\\n></a>\\n<div class=\"popup_wrap\">\\n<a\\nhref=\"#\"\\nrole=\"button\"\\nclass=\"btn_popup _NM_NEWSSTAND_THUMB_subscribe_press\"\\ndata-pid=\"930\"\\ndata-clk=\"sub\"\\n>구독</a\\n>\\n<a\\nhref=\"#\"\\nrole=\"button\"\\nclass=\"btn_popup _NM_NEWSSTAND_THUMB_unsubscribe_press\"\\ndata-pid=\"930\"\\ndata-clk=\"unsub\"\\n>해지</a\\n>\\n<a\\nhref=\"http://newsstand.naver.com/?list=&pcode=930\"\\ntarget=\"_blank\"\\nclass=\"btn_popup\"\\ndata-clk=\"logo\"\\ndata-pid=\"930\"\\n>기사보기</a\\n>\\n</div>\\n</div>\\n<div\\nclass=\"thumb_box _NM_NEWSSTAND_THUMB _NM_NEWSSTAND_THUMB_press_valid\"\\ndata-pid=\"308\"\\n>\\n<a href=\"#\" class=\"thumb\">\\n<img\\nsrc=\"https://s.pstatic.net/static/newsstand/2020/logo/light/0604/308.png\"\\nheight=\"20\"\\nalt=\"시사인\"\\nclass=\"news_logo\"\\n/>\\n<span class=\"thumb_dim\"></span\\n></a>\\n<div class=\"popup_wrap\">\\n<a\\nhref=\"#\"\\nrole=\"button\"\\nclass=\"btn_popup _NM_NEWSSTAND_THUMB_subscribe_press\"\\ndata-pid=\"308\"\\ndata-clk=\"sub\"\\n>구독</a\\n>\\n<a\\nhref=\"#\"\\nrole=\"button\"\\nclass=\"btn_popup _NM_NEWSSTAND_THUMB_unsubscribe_press\"\\ndata-pid=\"308\"\\ndata-clk=\"unsub\"\\n>해지</a\\n>\\n<a\\nhref=\"http://newsstand.naver.com/?list=&pcode=308\"\\ntarget=\"_blank\"\\nclass=\"btn_popup\"\\ndata-clk=\"logo\"\\ndata-pid=\"308\"\\n>기사보기</a\\n>\\n</div>\\n</div>\\n<div\\nclass=\"thumb_box _NM_NEWSSTAND_THUMB _NM_NEWSSTAND_THUMB_press_valid\"\\ndata-pid=\"008\"\\n>\\n<a href=\"#\" class=\"thumb\">\\n<img\\nsrc=\"https://s.pstatic.net/static/newsstand/2020/logo/light/0604/008.png\"\\nheight=\"20\"\\nalt=\"머니투데이\"\\nclass=\"news_logo\"\\n/>\\n<span class=\"thumb_dim\"></span\\n></a>\\n<div class=\"popup_wrap\">\\n<a\\nhref=\"#\"\\nrole=\"button\"\\nclass=\"btn_popup _NM_NEWSSTAND_THUMB_subscribe_press\"\\ndata-pid=\"008\"\\ndata-clk=\"sub\"\\n>구독</a\\n>\\n<a\\nhref=\"#\"\\nrole=\"button\"\\nclass=\"btn_popup _NM_NEWSSTAND_THUMB_unsubscribe_press\"\\ndata-pid=\"008\"\\ndata-clk=\"unsub\"\\n>해지</a\\n>\\n<a\\nhref=\"http://newsstand.naver.com/?list=&pcode=008\"\\ntarget=\"_blank\"\\nclass=\"btn_popup\"\\ndata-clk=\"logo\"\\ndata-pid=\"008\"\\n>기사보기</a\\n>\\n</div>\\n</div>\\n<div\\nclass=\"thumb_box _NM_NEWSSTAND_THUMB _NM_NEWSSTAND_THUMB_press_valid\"\\ndata-pid=\"335\"\\n>\\n<a href=\"#\" class=\"thumb\">\\n<img\\nsrc=\"https://s.pstatic.net/static/newsstand/2020/logo/light/0604/335.png\"\\nheight=\"20\"\\nalt=\"강원도민일보\"\\nclass=\"news_logo\"\\n/>\\n<span class=\"thumb_dim\"></span\\n></a>\\n<div class=\"popup_wrap\">\\n<a\\nhref=\"#\"\\nrole=\"button\"\\nclass=\"btn_popup _NM_NEWSSTAND_THUMB_subscribe_press\"\\ndata-pid=\"335\"\\ndata-clk=\"sub\"\\n>구독</a\\n>\\n<a\\nhref=\"#\"\\nrole=\"button\"\\nclass=\"btn_popup _NM_NEWSSTAND_THUMB_unsubscribe_press\"\\ndata-pid=\"335\"\\ndata-clk=\"unsub\"\\n>해지</a\\n>\\n<a\\nhref=\"http://newsstand.naver.com/?list=&pcode=335\"\\ntarget=\"_blank\"\\nclass=\"btn_popup\"\\ndata-clk=\"logo\"\\ndata-pid=\"335\"\\n>기사보기</a\\n>\\n</div>\\n</div>\\n<div\\nclass=\"thumb_box _NM_NEWSSTAND_THUMB _NM_NEWSSTAND_THUMB_press_valid\"\\ndata-pid=\"337\"\\n>\\n<a href=\"#\" class=\"thumb\">\\n<img\\nsrc=\"https://s.pstatic.net/static/newsstand/2020/logo/light/0604/337.png\"\\nheight=\"20\"\\nalt=\"경북일보\"\\nclass=\"news_logo\"\\n/>\\n<span class=\"thumb_dim\"></span\\n></a>\\n<div class=\"popup_wrap\">\\n<a\\nhref=\"#\"\\nrole=\"button\"\\nclass=\"btn_popup _NM_NEWSSTAND_THUMB_subscribe_press\"\\ndata-pid=\"337\"\\ndata-clk=\"sub\"\\n>구독</a\\n>\\n<a\\nhref=\"#\"\\nrole=\"button\"\\nclass=\"btn_popup _NM_NEWSSTAND_THUMB_unsubscribe_press\"\\ndata-pid=\"337\"\\ndata-clk=\"unsub\"\\n>해지</a\\n>\\n<a\\nhref=\"http://newsstand.naver.com/?list=&pcode=337\"\\ntarget=\"_blank\"\\nclass=\"btn_popup\"\\ndata-clk=\"logo\"\\ndata-pid=\"337\"\\n>기사보기</a\\n>\\n</div>\\n</div>\\n<div\\nclass=\"thumb_box _NM_NEWSSTAND_THUMB _NM_NEWSSTAND_THUMB_press_valid\"\\ndata-pid=\"907\"\\n>\\n<a href=\"#\" class=\"thumb\">\\n<img\\nsrc=\"https://s.pstatic.net/static/newsstand/2020/logo/light/0604/907.png\"\\nheight=\"20\"\\nalt=\"경북매일신문\"\\nclass=\"news_logo\"\\n/>\\n<span class=\"thumb_dim\"></span\\n></a>\\n<div class=\"popup_wrap\">\\n<a\\nhref=\"#\"\\nrole=\"button\"\\nclass=\"btn_popup _NM_NEWSSTAND_THUMB_subscribe_press\"\\ndata-pid=\"907\"\\ndata-clk=\"sub\"\\n>구독</a\\n>\\n<a\\nhref=\"#\"\\nrole=\"button\"\\nclass=\"btn_popup _NM_NEWSSTAND_THUMB_unsubscribe_press\"\\ndata-pid=\"907\"\\ndata-clk=\"unsub\"\\n>해지</a\\n>\\n<a\\nhref=\"http://newsstand.naver.com/?list=&pcode=907\"\\ntarget=\"_blank\"\\nclass=\"btn_popup\"\\ndata-clk=\"logo\"\\ndata-pid=\"907\"\\n>기사보기</a\\n>\\n</div>\\n</div>\\n<div\\nclass=\"thumb_box _NM_NEWSSTAND_THUMB _NM_NEWSSTAND_THUMB_press_valid\"\\ndata-pid=\"973\"\\n>\\n<a href=\"#\" class=\"thumb\">\\n<img\\nsrc=\"https://s.pstatic.net/static/newsstand/2020/logo/light/0604/973.png\"\\nheight=\"20\"\\nalt=\"비즈한국\"\\nclass=\"news_logo\"\\n/>\\n<span class=\"thumb_dim\"></span\\n></a>\\n<div class=\"popup_wrap\">\\n<a\\nhref=\"#\"\\nrole=\"button\"\\nclass=\"btn_popup _NM_NEWSSTAND_THUMB_subscribe_press\"\\ndata-pid=\"973\"\\ndata-clk=\"sub\"\\n>구독</a\\n>\\n<a\\nhref=\"#\"\\nrole=\"button\"\\nclass=\"btn_popup _NM_NEWSSTAND_THUMB_unsubscribe_press\"\\ndata-pid=\"973\"\\ndata-clk=\"unsub\"\\n>해지</a\\n>\\n<a\\nhref=\"http://newsstand.naver.com/?list=&pcode=973\"\\ntarget=\"_blank\"\\nclass=\"btn_popup\"\\ndata-clk=\"logo\"\\ndata-pid=\"973\"\\n>기사보기</a\\n>\\n</div>\\n</div>\\n<div\\nclass=\"thumb_box _NM_NEWSSTAND_THUMB _NM_NEWSSTAND_THUMB_press_valid\"\\ndata-pid=\"974\"\\n>\\n<a href=\"#\" class=\"thumb\">\\n<img\\nsrc=\"https://s.pstatic.net/static/newsstand/2020/logo/light/0604/974.png\"\\nheight=\"20\"\\nalt=\"BBS NEWS\"\\nclass=\"news_logo\"\\n/>\\n<span class=\"thumb_dim\"></span\\n></a>\\n<div class=\"popup_wrap\">\\n<a\\nhref=\"#\"\\nrole=\"button\"\\nclass=\"btn_popup _NM_NEWSSTAND_THUMB_subscribe_press\"\\ndata-pid=\"974\"\\ndata-clk=\"sub\"\\n>구독</a\\n>\\n<a\\nhref=\"#\"\\nrole=\"button\"\\nclass=\"btn_popup _NM_NEWSSTAND_THUMB_unsubscribe_press\"\\ndata-pid=\"974\"\\ndata-clk=\"unsub\"\\n>해지</a\\n>\\n<a\\nhref=\"http://newsstand.naver.com/?list=&pcode=974\"\\ntarget=\"_blank\"\\nclass=\"btn_popup\"\\ndata-clk=\"logo\"\\ndata-pid=\"974\"\\n>기사보기</a\\n>\\n</div>\\n</div>\\n<div\\nclass=\"thumb_box _NM_NEWSSTAND_THUMB _NM_NEWSSTAND_THUMB_press_valid\"\\ndata-pid=\"965\"\\n>\\n<a href=\"#\" class=\"thumb\">\\n<img\\nsrc=\"https://s.pstatic.net/static/newsstand/2020/logo/light/0604/965.png\"\\nheight=\"20\"\\nalt=\"전기신문\"\\nclass=\"news_logo\"\\n/>\\n<span class=\"thumb_dim\"></span\\n></a>\\n<div class=\"popup_wrap\">\\n<a\\nhref=\"#\"\\nrole=\"button\"\\nclass=\"btn_popup _NM_NEWSSTAND_THUMB_subscribe_press\"\\ndata-pid=\"965\"\\ndata-clk=\"sub\"\\n>구독</a\\n>\\n<a\\nhref=\"#\"\\nrole=\"button\"\\nclass=\"btn_popup _NM_NEWSSTAND_THUMB_unsubscribe_press\"\\ndata-pid=\"965\"\\ndata-clk=\"unsub\"\\n>해지</a\\n>\\n<a\\nhref=\"http://newsstand.naver.com/?list=&pcode=965\"\\ntarget=\"_blank\"\\nclass=\"btn_popup\"\\ndata-clk=\"logo\"\\ndata-pid=\"965\"\\n>기사보기</a\\n>\\n</div>\\n</div>\\n<div\\nclass=\"thumb_box _NM_NEWSSTAND_THUMB _NM_NEWSSTAND_THUMB_press_valid\"\\ndata-pid=\"994\"\\n>\\n<a href=\"#\" class=\"thumb\">\\n<img\\nsrc=\"https://s.pstatic.net/static/newsstand/up/2021/1112/nsd102040597.png\"\\nheight=\"20\"\\nalt=\"AI타임스\"\\nclass=\"news_logo\"\\n/>\\n<span class=\"thumb_dim\"></span\\n></a>\\n<div class=\"popup_wrap\">\\n<a\\nhref=\"#\"\\nrole=\"button\"\\nclass=\"btn_popup _NM_NEWSSTAND_THUMB_subscribe_press\"\\ndata-pid=\"994\"\\ndata-clk=\"sub\"\\n>구독</a\\n>\\n<a\\nhref=\"#\"\\nrole=\"button\"\\nclass=\"btn_popup _NM_NEWSSTAND_THUMB_unsubscribe_press\"\\ndata-pid=\"994\"\\ndata-clk=\"unsub\"\\n>해지</a\\n>\\n<a\\nhref=\"http://newsstand.naver.com/?list=&pcode=994\"\\ntarget=\"_blank\"\\nclass=\"btn_popup\"\\ndata-clk=\"logo\"\\ndata-pid=\"994\"\\n>기사보기</a\\n>\\n</div>\\n</div>\\n<div\\nclass=\"thumb_box _NM_NEWSSTAND_THUMB _NM_NEWSSTAND_THUMB_press_valid\"\\ndata-pid=\"362\"\\n>\\n<a href=\"#\" class=\"thumb\">\\n<img\\nsrc=\"https://s.pstatic.net/static/newsstand/2020/logo/light/0604/362.png\"\\nheight=\"20\"\\nalt=\"자동차생활\"\\nclass=\"news_logo\"\\n/>\\n<span class=\"thumb_dim\"></span\\n></a>\\n<div class=\"popup_wrap\">\\n<a\\nhref=\"#\"\\nrole=\"button\"\\nclass=\"btn_popup _NM_NEWSSTAND_THUMB_subscribe_press\"\\ndata-pid=\"362\"\\ndata-clk=\"sub\"\\n>구독</a\\n>\\n<a\\nhref=\"#\"\\nrole=\"button\"\\nclass=\"btn_popup _NM_NEWSSTAND_THUMB_unsubscribe_press\"\\ndata-pid=\"362\"\\ndata-clk=\"unsub\"\\n>해지</a\\n>\\n<a\\nhref=\"http://newsstand.naver.com/?list=&pcode=362\"\\ntarget=\"_blank\"\\nclass=\"btn_popup\"\\ndata-clk=\"logo\"\\ndata-pid=\"362\"\\n>기사보기</a\\n>\\n</div>\\n</div>\\n<div\\nclass=\"thumb_box _NM_NEWSSTAND_THUMB _NM_NEWSSTAND_THUMB_press_valid\"\\ndata-pid=\"967\"\\n>\\n<a href=\"#\" class=\"thumb\">\\n<img\\nsrc=\"https://s.pstatic.net/static/newsstand/2020/logo/light/0604/967.png\"\\nheight=\"20\"\\nalt=\"코리아쉬핑가제트\"\\nclass=\"news_logo\"\\n/>\\n<span class=\"thumb_dim\"></span\\n></a>\\n<div class=\"popup_wrap\">\\n<a\\nhref=\"#\"\\nrole=\"button\"\\nclass=\"btn_popup _NM_NEWSSTAND_THUMB_subscribe_press\"\\ndata-pid=\"967\"\\ndata-clk=\"sub\"\\n>구독</a\\n>\\n<a\\nhref=\"#\"\\nrole=\"button\"\\nclass=\"btn_popup _NM_NEWSSTAND_THUMB_unsubscribe_press\"\\ndata-pid=\"967\"\\ndata-clk=\"unsub\"\\n>해지</a\\n>\\n<a\\nhref=\"http://newsstand.naver.com/?list=&pcode=967\"\\ntarget=\"_blank\"\\nclass=\"btn_popup\"\\ndata-clk=\"logo\"\\ndata-pid=\"967\"\\n>기사보기</a\\n>\\n</div>\\n</div>\\n</div>\\n</div>\\n</div>\\n  </div> <div class=\"ly_popup NM_NEWSSTAND_POPUP NM_NEWSSTAND_invalid\" style=\"display:none\"> <a href=\"#\" role=\"button\" class=\"btn_close NM_NEWSSTAND_POPUP_CLOSE\"><i class=\"ico_close\"></i><span class=\"blind\">닫기</span></a> <p class=\"popup_msg\">해당 언론사 사정으로 접근이 제한됩니다.</p> <div class=\"popup_btn\"> <a href=\"#\" role=\"button\" class=\"btn_confirm NM_NEWSSTAND_POPUP_CLOSE\">확인</a> </div> </div> <div class=\"ly_popup NM_NEWSSTAND_POPUP NM_NEWSSTAND_undescribe_confirm\" style=\"display:none\" data-clk-sub=\"*a\"> <a href=\"#\" role=\"button\" class=\"btn_close NM_NEWSSTAND_POPUP_CLOSE\" data-clk=\"usclose\"><i class=\"ico_close\"></i><span class=\"blind\">닫기</span></a> <p class=\"popup_msg\"><strong class=\"NM_NEWSSTAND_POPUP_PNAME\"></strong>을(를)<br/>구독해지 하시겠습니까?</p> <div class=\"popup_btn\"> <a href=\"#\" role=\"button\" class=\"btn_confirm NM_NEWSSTAND_POPUP_CONFIRM\" data-clk=\"usdone\">확인</a> <a href=\"#\" role=\"button\" class=\"btn_confirm NM_NEWSSTAND_POPUP_CLOSE\" data-clk=\"uscancel\">취소</a> </div> </div> <div class=\"ly_toast NM_NEWSSTAND_TOAST\" style=\"display:none\"> <p class=\"toast_msg\">구독한 언론사에 추가되었습니다.</p> </div> </div> <div id=\"NM_NEWSSTAND_MY_LIST\" class=\"group_news\" style=\"display:none\" data-clk-prefix=\"nsd_myn\"> <a href=\"#\" role=\"button\" class=\"pm_btn_prev_l _NM_NEWSSTAND_LIST_prev_btn\" data-clk-custom=\"prev\"><i class=\"ico_btn\"></i><span class=\"blind\">이전</span></a> <a href=\"#\" role=\"button\" class=\"pm_btn_next_l _NM_NEWSSTAND_LIST_next_btn\" data-clk-custom=\"next\"><i class=\"ico_btn\"></i><span class=\"blind\">다음</span><span class=\"blind\">다음</span></a> <div class=\"list_view\"> <div class=\"option_area\"> <div class=\"list_option_wrap\"> <ul class=\"list_option _NM_NEWSSTAND_MY_presslist\"> <!-- nvpaperlist:empty --> </ul> </div> </div> <div class=\"_NM_NEWSSTAND_ARTICLE_CONTAINER\" data-clk-sub=\"*a\">  </div> </div> <div class=\"ly_popup NM_NEWSSTAND_POPUP NM_NEWSSTAND_invalid\" style=\"display:none\"> <a href=\"#\" role=\"button\" class=\"btn_close NM_NEWSSTAND_POPUP_CLOSE\"><i class=\"ico_close\"></i><span class=\"blind\">닫기</span></a> <p class=\"popup_msg\">해당 언론사 사정으로 접근이 일시 제한됩니다.</p> <div class=\"popup_btn\"> <a href=\"#\" role=\"button\" class=\"btn_confirm NM_NEWSSTAND_POPUP_CLOSE\">확인</a> </div> </div> <div class=\"ly_popup NM_NEWSSTAND_POPUP NM_NEWSSTAND_undescribe_confirm\" style=\"display:none\" data-clk-sub=\"*a\"> <a href=\"#\" role=\"button\" class=\"btn_close NM_NEWSSTAND_POPUP_CLOSE\" data-clk=\"usclose\"><i class=\"ico_close\"></i><span class=\"blind\">닫기</span></a> <p class=\"popup_msg\"><strong class=\"NM_NEWSSTAND_POPUP_PNAME\"></strong>을(를)<br>구독해지 하시겠습니까?</p> <div class=\"popup_btn\"> <a href=\"#\" role=\"button\" class=\"btn_confirm NM_NEWSSTAND_POPUP_CONFIRM\" data-clk=\"usdone\">확인</a> <a href=\"#\" role=\"button\" class=\"btn_confirm NM_NEWSSTAND_POPUP_CLOSE\" data-clk=\"uscancel\">취소</a> </div> </div> </div> <div id=\"NM_NEWSSTAND_MY_THUMB\" class=\"group_news\" style=\"display:none\" data-clk-prefix=\"nsd_myn\"> <a href=\"#\" role=\"button\" class=\"pm_btn_prev_l _NM_UI_PAGE_PREV\" data-clk-custom=\"prev\"><i class=\"ico_btn\"><span class=\"blind\">이전</span></i></a> <a href=\"#\" role=\"button\" class=\"pm_btn_next_l _NM_UI_PAGE_NEXT\" data-clk-custom=\"next\"><i class=\"ico_btn\"><span class=\"blind\">다음</span></i></a> <div class=\"_NM_UI_PAGE_CONTAINER\" data-clk-sub=\"*p\"></div> <div class=\"ly_popup NM_NEWSSTAND_POPUP NM_NEWSSTAND_invalid\" style=\"display:none\"> <a href=\"#\" role=\"button\" class=\"btn_close NM_NEWSSTAND_POPUP_CLOSE\"><i class=\"ico_close\"></i><span class=\"blind\">닫기</span></a> <p class=\"popup_msg\">해당 언론사 사정으로 접근이 제한됩니다.</p> <div class=\"popup_btn\"> <a href=\"#\" role=\"button\" class=\"btn_confirm NM_NEWSSTAND_POPUP_CLOSE\">확인</a> </div> </div> <div class=\"ly_popup NM_NEWSSTAND_POPUP NM_NEWSSTAND_undescribe_confirm\" style=\"display:none\" data-clk-sub=\"*a\"> <a href=\"#\" role=\"button\" class=\"btn_close NM_NEWSSTAND_POPUP_CLOSE\" data-clk=\"usclose\"><i class=\"ico_close\"></i><span class=\"blind\">닫기</span></a> <p class=\"popup_msg\"><strong class=\"NM_NEWSSTAND_POPUP_PNAME\"></strong>을(를)<br>구독해지 하시겠습니까?</p> <div class=\"popup_btn\"> <a href=\"#\" role=\"button\" class=\"btn_confirm NM_NEWSSTAND_POPUP_CONFIRM\" data-clk=\"usdone\">확인</a> <a href=\"#\" role=\"button\" class=\"btn_confirm NM_NEWSSTAND_POPUP_CLOSE\" data-clk=\"uscancel\">취소</a> </div> </div> </div> <div id=\"NM_NEWSSTAND_MY_EMPTY\" class=\"group_news\" style=\"display:none\"> <div class=\"error_view\"> <div class=\"error_area\"> <strong class=\"error_msg\">구독한 언론사가 없습니다.</strong> <p class=\"dsc_msg\">언론사 구독 설정에서 관심있는 언론사를 구독하시면<br>언론사가 직접 편집한 뉴스들을 네이버 홈에서 바로 보실 수 있습니다.</p> <a href=\"http://newsstand.naver.com/config.html\" class=\"link_redirect\" target=\"_blank\">언론사 구독 설정하기</a> </div> </div> </div> </div> </div> <!-- EMPTY --> <div id=\"NM_THEMECAST_CONTENTS_CONTAINER\"> <div id=\"themecast\" class=\"sc_themecast id_beauty\" >\\n\\t<h2 class=\"blind\">주제별 캐스트</h2>\\n\\t<div class=\"theme_head\">\\n\\t\\t<div class=\"group_title\">\\n\\t<div class=\"title_area\">\\n\\t\\t<strong class=\"title\">오늘 읽을만한 글</strong><span class=\"dsc\">주제별로 분류된 다양한 글 모음</span>\\n\\t</div>\\n\\t<div class=\"info_area\">\\n\\t\\t\\n\\t\\t\\t<span class=\"info\"><strong class=\"new\">1,766</strong> 개의 글</span>\\n\\t\\t\\n\\t\\t<a id=\"NM_THEME_EDIT_SET\" href=\"#\" role=\"button\" class=\"btn_set\" data-clk=\"tca.like\">관심주제 설정</a>\\n\\t</div>\\n</div>\\n<div id=\"NM_THEME_CATE_GROUPS\" class=\"group_category\" data-demo-key=\"default\">\\n\\t<div class=\"main_category\">\\n\\t\\t<a href=\"#\" role=\"button\" class=\"pm_btn_prev NM_THEME_PREV\" data-clk=\"tct.prev\" style=\"display: none;\">\\n\\t\\t\\t<i class=\"ico_btn\"><span class=\"blind\">이전</span></i>\\n\\t\\t</a>\\n\\t\\t<a href=\"#\" role=\"button\" class=\"pm_btn_next NM_THEME_NEXT\" data-clk=\"tct.next\" style=\"display: none;\">\\n\\t\\t\\t<i class=\"ico_btn\"><span class=\"blind\">다음</span></i>\\n\\t\\t</a>\\n\\t\\t<div id=\"NM_THEME_CATE_FLICK\" class=\"_NM_UI_PAGE_CONTAINER\" style=\"height: 49px; overflow: hidden;\">\\n\\t\\t\\t\\n\\t\\t\\t\\t<div style=\"width: 750px;\">\\n\\t\\t\\t\\t\\t<ul class=\"list_category\" role=\"tablist\">\\n\\t\\t\\t\\t\\t\\t\\n\\t\\t\\t\\t\\t\\t\\t<li class=\"category_item\" role=\"presentation\">\\n\\t\\t\\t\\t\\t\\t\\t\\t\\n\\t\\t\\t\\t\\t\\t\\t\\t\\n\\t\\t\\t\\t\\t\\t\\t\\t<a href=\"#\" role=\"tab\" class=\"_NM_THEME_CATE tab id_enter\"\\n\\t\\t\\t\\t\\t\\t\\t\\t   aria-selected=\"false\"\\n\\t\\t\\t\\t\\t\\t\\t\\t   data-clk=\"tct.tvc\" data-panel-code=\"ENTER\">엔터</a>\\n\\t\\t\\t\\t\\t\\t\\t</li>\\n\\t\\t\\t\\t\\t\\t\\n\\t\\t\\t\\t\\t\\t\\t<li class=\"category_item\" role=\"presentation\">\\n\\t\\t\\t\\t\\t\\t\\t\\t\\n\\t\\t\\t\\t\\t\\t\\t\\t\\n\\t\\t\\t\\t\\t\\t\\t\\t<a href=\"#\" role=\"tab\" class=\"_NM_THEME_CATE tab id_sports\"\\n\\t\\t\\t\\t\\t\\t\\t\\t   aria-selected=\"false\"\\n\\t\\t\\t\\t\\t\\t\\t\\t   data-clk=\"tct.spo\" data-panel-code=\"SPORTS\">스포츠</a>\\n\\t\\t\\t\\t\\t\\t\\t</li>\\n\\t\\t\\t\\t\\t\\t\\n\\t\\t\\t\\t\\t\\t\\t<li class=\"category_item\" role=\"presentation\">\\n\\t\\t\\t\\t\\t\\t\\t\\t\\n\\t\\t\\t\\t\\t\\t\\t\\t\\n\\t\\t\\t\\t\\t\\t\\t\\t<a href=\"#\" role=\"tab\" class=\"_NM_THEME_CATE tab id_cargame\"\\n\\t\\t\\t\\t\\t\\t\\t\\t   aria-selected=\"false\"\\n\\t\\t\\t\\t\\t\\t\\t\\t   data-clk=\"tct.aut\" data-panel-code=\"CARGAME\">자동차</a>\\n\\t\\t\\t\\t\\t\\t\\t</li>\\n\\t\\t\\t\\t\\t\\t\\n\\t\\t\\t\\t\\t\\t\\t<li class=\"category_item\" role=\"presentation\">\\n\\t\\t\\t\\t\\t\\t\\t\\t\\n\\t\\t\\t\\t\\t\\t\\t\\t\\n\\t\\t\\t\\t\\t\\t\\t\\t<a href=\"#\" role=\"tab\" class=\"_NM_THEME_CATE tab id_bboom\"\\n\\t\\t\\t\\t\\t\\t\\t\\t   aria-selected=\"false\"\\n\\t\\t\\t\\t\\t\\t\\t\\t   data-clk=\"tct.web\" data-panel-code=\"BBOOM\">웹툰</a>\\n\\t\\t\\t\\t\\t\\t\\t</li>\\n\\t\\t\\t\\t\\t\\t\\n\\t\\t\\t\\t\\t\\t\\t<li class=\"category_item\" role=\"presentation\">\\n\\t\\t\\t\\t\\t\\t\\t\\t\\n\\t\\t\\t\\t\\t\\t\\t\\t\\n\\t\\t\\t\\t\\t\\t\\t\\t<a href=\"#\" role=\"tab\" class=\"_NM_THEME_CATE tab id_finance\"\\n\\t\\t\\t\\t\\t\\t\\t\\t   aria-selected=\"false\"\\n\\t\\t\\t\\t\\t\\t\\t\\t   data-clk=\"tct.fin\" data-panel-code=\"FINANCE\">경제M</a>\\n\\t\\t\\t\\t\\t\\t\\t</li>\\n\\t\\t\\t\\t\\t\\t\\n\\t\\t\\t\\t\\t\\t\\t<li class=\"category_item\" role=\"presentation\">\\n\\t\\t\\t\\t\\t\\t\\t\\t\\n\\t\\t\\t\\t\\t\\t\\t\\t\\n\\t\\t\\t\\t\\t\\t\\t\\t<a href=\"#\" role=\"tab\" class=\"_NM_THEME_CATE tab id_living\"\\n\\t\\t\\t\\t\\t\\t\\t\\t   aria-selected=\"false\"\\n\\t\\t\\t\\t\\t\\t\\t\\t   data-clk=\"tct.fod\" data-panel-code=\"LIVING\">레시피</a>\\n\\t\\t\\t\\t\\t\\t\\t</li>\\n\\t\\t\\t\\t\\t\\t\\n\\t\\t\\t\\t\\t\\t\\t<li class=\"category_item\" role=\"presentation\">\\n\\t\\t\\t\\t\\t\\t\\t\\t\\n\\t\\t\\t\\t\\t\\t\\t\\t\\n\\t\\t\\t\\t\\t\\t\\t\\t<a href=\"#\" role=\"tab\" class=\"_NM_THEME_CATE tab id_gameapp\"\\n\\t\\t\\t\\t\\t\\t\\t\\t   aria-selected=\"false\"\\n\\t\\t\\t\\t\\t\\t\\t\\t   data-clk=\"tct.gam\" data-panel-code=\"GAMEAPP\">게임</a>\\n\\t\\t\\t\\t\\t\\t\\t</li>\\n\\t\\t\\t\\t\\t\\t\\n\\t\\t\\t\\t\\t\\t\\t<li class=\"category_item\" role=\"presentation\">\\n\\t\\t\\t\\t\\t\\t\\t\\t\\n\\t\\t\\t\\t\\t\\t\\t\\t\\n\\t\\t\\t\\t\\t\\t\\t\\t<a href=\"#\" role=\"tab\" class=\"_NM_THEME_CATE tab id_movie\"\\n\\t\\t\\t\\t\\t\\t\\t\\t   aria-selected=\"false\"\\n\\t\\t\\t\\t\\t\\t\\t\\t   data-clk=\"tct.mov\" data-panel-code=\"MOVIE\">영화</a>\\n\\t\\t\\t\\t\\t\\t\\t</li>\\n\\t\\t\\t\\t\\t\\t\\n\\t\\t\\t\\t\\t</ul>\\n\\t\\t\\t\\t</div>\\n\\t\\t\\t\\n\\t\\t\\t\\t<div style=\"width: 750px;\">\\n\\t\\t\\t\\t\\t<ul class=\"list_category\" role=\"tablist\">\\n\\t\\t\\t\\t\\t\\t\\n\\t\\t\\t\\t\\t\\t\\t<li class=\"category_item\" role=\"presentation\">\\n\\t\\t\\t\\t\\t\\t\\t\\t\\n\\t\\t\\t\\t\\t\\t\\t\\t\\n\\t\\t\\t\\t\\t\\t\\t\\t<a href=\"#\" role=\"tab\" class=\"_NM_THEME_CATE tab id_job\"\\n\\t\\t\\t\\t\\t\\t\\t\\t   aria-selected=\"false\"\\n\\t\\t\\t\\t\\t\\t\\t\\t   data-clk=\"tct.job\" data-panel-code=\"JOB\">JOB&amp;</a>\\n\\t\\t\\t\\t\\t\\t\\t</li>\\n\\t\\t\\t\\t\\t\\t\\n\\t\\t\\t\\t\\t\\t\\t<li class=\"category_item\" role=\"presentation\">\\n\\t\\t\\t\\t\\t\\t\\t\\t\\n\\t\\t\\t\\t\\t\\t\\t\\t\\n\\t\\t\\t\\t\\t\\t\\t\\t<a href=\"#\" role=\"tab\" class=\"_NM_THEME_CATE tab id_ittech\"\\n\\t\\t\\t\\t\\t\\t\\t\\t   aria-selected=\"false\"\\n\\t\\t\\t\\t\\t\\t\\t\\t   data-clk=\"tct.tec\" data-panel-code=\"ITTECH\">테크</a>\\n\\t\\t\\t\\t\\t\\t\\t</li>\\n\\t\\t\\t\\t\\t\\t\\n\\t\\t\\t\\t\\t\\t\\t<li class=\"category_item\" role=\"presentation\">\\n\\t\\t\\t\\t\\t\\t\\t\\t\\n\\t\\t\\t\\t\\t\\t\\t\\t\\n\\t\\t\\t\\t\\t\\t\\t\\t<a href=\"#\" role=\"tab\" class=\"_NM_THEME_CATE tab id_travel\"\\n\\t\\t\\t\\t\\t\\t\\t\\t   aria-selected=\"false\"\\n\\t\\t\\t\\t\\t\\t\\t\\t   data-clk=\"tct.tra\" data-panel-code=\"TRAVEL\">여행+</a>\\n\\t\\t\\t\\t\\t\\t\\t</li>\\n\\t\\t\\t\\t\\t\\t\\n\\t\\t\\t\\t\\t\\t\\t<li class=\"category_item\" role=\"presentation\">\\n\\t\\t\\t\\t\\t\\t\\t\\t\\n\\t\\t\\t\\t\\t\\t\\t\\t\\n\\t\\t\\t\\t\\t\\t\\t\\t<a href=\"#\" role=\"tab\" class=\"_NM_THEME_CATE tab id_science\"\\n\\t\\t\\t\\t\\t\\t\\t\\t   aria-selected=\"false\"\\n\\t\\t\\t\\t\\t\\t\\t\\t   data-clk=\"tct.sci\" data-panel-code=\"SCIENCE\">과학</a>\\n\\t\\t\\t\\t\\t\\t\\t</li>\\n\\t\\t\\t\\t\\t\\t\\n\\t\\t\\t\\t\\t\\t\\t<li class=\"category_item\" role=\"presentation\">\\n\\t\\t\\t\\t\\t\\t\\t\\t\\n\\t\\t\\t\\t\\t\\t\\t\\t\\n\\t\\t\\t\\t\\t\\t\\t\\t<a href=\"#\" role=\"tab\" class=\"_NM_THEME_CATE tab id_livinghome\"\\n\\t\\t\\t\\t\\t\\t\\t\\t   aria-selected=\"false\"\\n\\t\\t\\t\\t\\t\\t\\t\\t   data-clk=\"tct.lif\" data-panel-code=\"LIVINGHOME\">리빙</a>\\n\\t\\t\\t\\t\\t\\t\\t</li>\\n\\t\\t\\t\\t\\t\\t\\n\\t\\t\\t\\t\\t\\t\\t<li class=\"category_item\" role=\"presentation\">\\n\\t\\t\\t\\t\\t\\t\\t\\t\\n\\t\\t\\t\\t\\t\\t\\t\\t\\n\\t\\t\\t\\t\\t\\t\\t\\t<a href=\"#\" role=\"tab\" class=\"_NM_THEME_CATE tab id_health\"\\n\\t\\t\\t\\t\\t\\t\\t\\t   aria-selected=\"false\"\\n\\t\\t\\t\\t\\t\\t\\t\\t   data-clk=\"tct.hea\" data-panel-code=\"HEALTH\">건강</a>\\n\\t\\t\\t\\t\\t\\t\\t</li>\\n\\t\\t\\t\\t\\t\\t\\n\\t\\t\\t\\t\\t\\t\\t<li class=\"category_item\" role=\"presentation\">\\n\\t\\t\\t\\t\\t\\t\\t\\t\\n\\t\\t\\t\\t\\t\\t\\t\\t\\n\\t\\t\\t\\t\\t\\t\\t\\t<a href=\"#\" role=\"tab\" class=\"_NM_THEME_CATE tab id_business\"\\n\\t\\t\\t\\t\\t\\t\\t\\t   aria-selected=\"false\"\\n\\t\\t\\t\\t\\t\\t\\t\\t   data-clk=\"tct.bsn\" data-panel-code=\"BUSINESS\">비즈니스</a>\\n\\t\\t\\t\\t\\t\\t\\t</li>\\n\\t\\t\\t\\t\\t\\t\\n\\t\\t\\t\\t\\t\\t\\t<li class=\"category_item\" role=\"presentation\">\\n\\t\\t\\t\\t\\t\\t\\t\\t\\n\\t\\t\\t\\t\\t\\t\\t\\t\\n\\t\\t\\t\\t\\t\\t\\t\\t<a href=\"#\" role=\"tab\" class=\"_NM_THEME_CATE tab id_wedding\"\\n\\t\\t\\t\\t\\t\\t\\t\\t   aria-selected=\"false\"\\n\\t\\t\\t\\t\\t\\t\\t\\t   data-clk=\"tct.wed\" data-panel-code=\"WEDDING\">연애·결혼</a>\\n\\t\\t\\t\\t\\t\\t\\t</li>\\n\\t\\t\\t\\t\\t\\t\\n\\t\\t\\t\\t\\t</ul>\\n\\t\\t\\t\\t</div>\\n\\t\\t\\t\\n\\t\\t\\t\\t<div style=\"width: 750px;\">\\n\\t\\t\\t\\t\\t<ul class=\"list_category\" role=\"tablist\">\\n\\t\\t\\t\\t\\t\\t\\n\\t\\t\\t\\t\\t\\t\\t<li class=\"category_item\" role=\"presentation\">\\n\\t\\t\\t\\t\\t\\t\\t\\t\\n\\t\\t\\t\\t\\t\\t\\t\\t\\n\\t\\t\\t\\t\\t\\t\\t\\t<a href=\"#\" role=\"tab\" class=\"_NM_THEME_CATE tab id_culture\"\\n\\t\\t\\t\\t\\t\\t\\t\\t   aria-selected=\"false\"\\n\\t\\t\\t\\t\\t\\t\\t\\t   data-clk=\"tct.bok\" data-panel-code=\"CULTURE\">책방</a>\\n\\t\\t\\t\\t\\t\\t\\t</li>\\n\\t\\t\\t\\t\\t\\t\\n\\t\\t\\t\\t\\t\\t\\t<li class=\"category_item\" role=\"presentation\">\\n\\t\\t\\t\\t\\t\\t\\t\\t\\n\\t\\t\\t\\t\\t\\t\\t\\t\\n\\t\\t\\t\\t\\t\\t\\t\\t<a href=\"#\" role=\"tab\" class=\"_NM_THEME_CATE tab id_momkids\"\\n\\t\\t\\t\\t\\t\\t\\t\\t   aria-selected=\"false\"\\n\\t\\t\\t\\t\\t\\t\\t\\t   data-clk=\"tct.mom\" data-panel-code=\"MOMKIDS\">부모i</a>\\n\\t\\t\\t\\t\\t\\t\\t</li>\\n\\t\\t\\t\\t\\t\\t\\n\\t\\t\\t\\t\\t\\t\\t<li class=\"category_item\" role=\"presentation\">\\n\\t\\t\\t\\t\\t\\t\\t\\t\\n\\t\\t\\t\\t\\t\\t\\t\\t\\n\\t\\t\\t\\t\\t\\t\\t\\t<a href=\"#\" role=\"tab\" class=\"_NM_THEME_CATE tab id_law\"\\n\\t\\t\\t\\t\\t\\t\\t\\t   aria-selected=\"false\"\\n\\t\\t\\t\\t\\t\\t\\t\\t   data-clk=\"tct.law\" data-panel-code=\"LAW\">법률</a>\\n\\t\\t\\t\\t\\t\\t\\t</li>\\n\\t\\t\\t\\t\\t\\t\\n\\t\\t\\t\\t\\t\\t\\t<li class=\"category_item\" role=\"presentation\">\\n\\t\\t\\t\\t\\t\\t\\t\\t\\n\\t\\t\\t\\t\\t\\t\\t\\t\\n\\t\\t\\t\\t\\t\\t\\t\\t<a href=\"#\" role=\"tab\" class=\"_NM_THEME_CATE tab id_beauty\"\\n\\t\\t\\t\\t\\t\\t\\t\\t   aria-selected=\"true\"\\n\\t\\t\\t\\t\\t\\t\\t\\t   data-clk=\"tct.bty\" data-panel-code=\"BEAUTY\">패션뷰티</a>\\n\\t\\t\\t\\t\\t\\t\\t</li>\\n\\t\\t\\t\\t\\t\\t\\n\\t\\t\\t\\t\\t\\t\\t<li class=\"category_item\" role=\"presentation\">\\n\\t\\t\\t\\t\\t\\t\\t\\t\\n\\t\\t\\t\\t\\t\\t\\t\\t\\n\\t\\t\\t\\t\\t\\t\\t\\t<a href=\"#\" role=\"tab\" class=\"_NM_THEME_CATE tab id_animal\"\\n\\t\\t\\t\\t\\t\\t\\t\\t   aria-selected=\"false\"\\n\\t\\t\\t\\t\\t\\t\\t\\t   data-clk=\"tct.ani\" data-panel-code=\"ANIMAL\">동물공감</a>\\n\\t\\t\\t\\t\\t\\t\\t</li>\\n\\t\\t\\t\\t\\t\\t\\n\\t\\t\\t\\t\\t\\t\\t<li class=\"category_item\" role=\"presentation\">\\n\\t\\t\\t\\t\\t\\t\\t\\t\\n\\t\\t\\t\\t\\t\\t\\t\\t\\n\\t\\t\\t\\t\\t\\t\\t\\t<a href=\"#\" role=\"tab\" class=\"_NM_THEME_CATE tab id_design\"\\n\\t\\t\\t\\t\\t\\t\\t\\t   aria-selected=\"false\"\\n\\t\\t\\t\\t\\t\\t\\t\\t   data-clk=\"tct.des\" data-panel-code=\"DESIGN\">디자인</a>\\n\\t\\t\\t\\t\\t\\t\\t</li>\\n\\t\\t\\t\\t\\t\\t\\n\\t\\t\\t\\t\\t\\t\\t<li class=\"category_item\" role=\"presentation\">\\n\\t\\t\\t\\t\\t\\t\\t\\t\\n\\t\\t\\t\\t\\t\\t\\t\\t\\n\\t\\t\\t\\t\\t\\t\\t\\t<a href=\"#\" role=\"tab\" class=\"_NM_THEME_CATE tab id_china\"\\n\\t\\t\\t\\t\\t\\t\\t\\t   aria-selected=\"false\"\\n\\t\\t\\t\\t\\t\\t\\t\\t   data-clk=\"tct.chn\" data-panel-code=\"CHINA\">중국</a>\\n\\t\\t\\t\\t\\t\\t\\t</li>\\n\\t\\t\\t\\t\\t\\t\\n\\t\\t\\t\\t\\t\\t\\t<li class=\"category_item\" role=\"presentation\">\\n\\t\\t\\t\\t\\t\\t\\t\\t\\n\\t\\t\\t\\t\\t\\t\\t\\t\\n\\t\\t\\t\\t\\t\\t\\t\\t<a href=\"#\" role=\"tab\" class=\"_NM_THEME_CATE tab id_farm\"\\n\\t\\t\\t\\t\\t\\t\\t\\t   aria-selected=\"false\"\\n\\t\\t\\t\\t\\t\\t\\t\\t   data-clk=\"tct.far\" data-panel-code=\"FARM\">FARM</a>\\n\\t\\t\\t\\t\\t\\t\\t</li>\\n\\t\\t\\t\\t\\t\\t\\n\\t\\t\\t\\t\\t</ul>\\n\\t\\t\\t\\t</div>\\n\\t\\t\\t\\n\\t\\t\\t\\t<div style=\"width: 750px;\">\\n\\t\\t\\t\\t\\t<ul class=\"list_category\" role=\"tablist\">\\n\\t\\t\\t\\t\\t\\t\\n\\t\\t\\t\\t\\t\\t\\t<li class=\"category_item\" role=\"presentation\">\\n\\t\\t\\t\\t\\t\\t\\t\\t\\n\\t\\t\\t\\t\\t\\t\\t\\t\\n\\t\\t\\t\\t\\t\\t\\t\\t<a href=\"#\" role=\"tab\" class=\"_NM_THEME_CATE tab id_show\"\\n\\t\\t\\t\\t\\t\\t\\t\\t   aria-selected=\"false\"\\n\\t\\t\\t\\t\\t\\t\\t\\t   data-clk=\"tct.sow\" data-panel-code=\"SHOW\">공연전시</a>\\n\\t\\t\\t\\t\\t\\t\\t</li>\\n\\t\\t\\t\\t\\t\\t\\n\\t\\t\\t\\t\\t\\t\\t<li class=\"category_item\" role=\"presentation\">\\n\\t\\t\\t\\t\\t\\t\\t\\t\\n\\t\\t\\t\\t\\t\\t\\t\\t\\n\\t\\t\\t\\t\\t\\t\\t\\t<a href=\"#\" role=\"tab\" class=\"_NM_THEME_CATE tab id_with\"\\n\\t\\t\\t\\t\\t\\t\\t\\t   aria-selected=\"false\"\\n\\t\\t\\t\\t\\t\\t\\t\\t   data-clk=\"tct.pub\" data-panel-code=\"WITH\">함께N</a>\\n\\t\\t\\t\\t\\t\\t\\t</li>\\n\\t\\t\\t\\t\\t\\t\\n\\t\\t\\t\\t\\t</ul>\\n\\t\\t\\t\\t</div>\\n\\t\\t\\t\\n\\t\\t</div>\\n\\t</div>\\n</div>\\n\\n\\t</div>\\n\\t<div id=\"NM_THEME_CONTAINER\" class=\"theme_cont\" data-panel-code=\"BEAUTY\" data-parent-code=\"\">\\n\\t\\t<div class=\"group_topstory\" data-block-id=\"61b721740606b1666eec7cb7\" data-block-code=\"PC-THEME-BEAUTY-EDIT-AREA\" data-block-type=\"BLOCKS\" data-template-code=\"PC-THEMECAST-EDIT-AREA\"\\n\\n\\t data-da=\"margin-top\"\\n\\t >\\n\\n\\t<div class=\"topstory_inner\" data-block-id=\"61b72099eb80da674338144f\" data-block-code=\"PC-THEME-BEAUTY-EDIT-AREA-ITEM\" data-block-type=\"A-MATERIAL\" data-template-code=\"IMAGE1\"\\n\\n\\t >\\n\\n\\t\\n\\t\\t<div class=\"topstory_view \">\\n\\n\\t\\t\\t\\n\\t\\t\\t\\n\\t\\t\\t<a href=\"https://shopping.naver.com/luxury/cosmetic/story/2002410767\" class=\"topstory_thumb\"\\n\\t\\t\\t   data-clk=\"tcc_bty.editbigimg1\"\\n\\t\\t\\t   target=\"_blank\">\\n\\t\\t\\t\\t<img src=\"https://s.pstatic.net/static/www/mobile/edit/20211213/mobile_192822267979.jpg\" data-src=\"https://s.pstatic.net/static/www/mobile/edit/20211213/mobile_192822267979.jpg\" alt=\"바비 브라운과 함께하는 홀리데이 역대급 혜택\" width=\"364\" height=\"180\">\\n\\n\\t\\t\\t\\t\\n\\t\\t\\t\\t\\t<span class=\"thumb_bd\"></span>\\n\\t\\t\\t\\t\\n\\t\\t\\t</a>\\n\\t\\t\\t<a href=\"https://shopping.naver.com/luxury/cosmetic/story/2002410767\" class=\"topstory_info\"\\n\\t\\t\\t   data-clk=\"tcc_bty.editbigtxt1\"\\n\\t\\t\\t   target=\"_blank\">\\n\\t\\t\\t\\t\\n\\t\\t\\t\\t\\t<em class=\"theme_category\">[LUXURY HOLIDAY WEEK] 오늘 단 하루</em>\\n\\t\\t\\t\\t\\n\\n\\t\\t\\t\\t<strong class=\"title  \">바비 브라운과 함께하는 홀리데이 역대급 혜택</strong>\\n\\t\\t\\t\\t\\n\\t\\t\\t\\t\\t<p class=\"desc\">롱웨어 크림 섀도 스틱 구매 시 베어펀치를 드립니다 <br>특별 추가한 모든 쿠폰 적용 시 최대 28% 할인 가능</p>\\n\\t\\t\\t\\t\\n\\n\\t\\t\\t\\t\\n\\t\\t\\t\\t\\t<div class=\"source_area\">\\n\\t\\t\\t\\t\\t\\t<span class=\"source\"><span class=\"source_inner\">바비 브라운</span></span>\\n\\t\\t\\t\\t\\t</div>\\n\\t\\t\\t\\t\\n\\t\\t\\t</a>\\n\\t\\t\\t\\n\\t\\t</div>\\n\\t\\n</div><div class=\"topstory_inner\" data-block-id=\"61b72169eb80da6743381451\" data-block-code=\"PC-THEME-BEAUTY-EDIT-AREA-ITEM\" data-block-type=\"A-MATERIAL\" data-template-code=\"IMAGE1\"\\n\\n\\t >\\n\\n\\t\\n\\t\\t<div class=\"topstory_view \">\\n\\n\\t\\t\\t\\n\\t\\t\\t\\n\\t\\t\\t<a href=\"https://shopping.naver.com/luxury/cosmetic/plans/557469\" class=\"topstory_thumb\"\\n\\t\\t\\t   data-clk=\"tcc_bty.editbigimg2\"\\n\\t\\t\\t   target=\"_blank\">\\n\\t\\t\\t\\t<img src=\"https://s.pstatic.net/static/www/mobile/edit/20211210/mobile_201825369175.jpg\" data-src=\"https://s.pstatic.net/static/www/mobile/edit/20211210/mobile_201825369175.jpg\" alt=\"에스티 로더부터 크리니크까지, 스케줄 체크 필수\" width=\"364\" height=\"180\">\\n\\n\\t\\t\\t\\t\\n\\t\\t\\t\\t\\t<span class=\"thumb_bd\"></span>\\n\\t\\t\\t\\t\\n\\t\\t\\t</a>\\n\\t\\t\\t<a href=\"https://shopping.naver.com/luxury/cosmetic/plans/557469\" class=\"topstory_info\"\\n\\t\\t\\t   data-clk=\"tcc_bty.editbigtxt2\"\\n\\t\\t\\t   target=\"_blank\">\\n\\t\\t\\t\\t\\n\\t\\t\\t\\t\\t<em class=\"theme_category\">[LUXURY WEEK] 매일 바뀌는 혜택</em>\\n\\t\\t\\t\\t\\n\\n\\t\\t\\t\\t<strong class=\"title  \">에스티 로더부터 크리니크까지, 스케줄 체크 필수</strong>\\n\\t\\t\\t\\t\\n\\t\\t\\t\\t\\t<p class=\"desc\">기간 내 전 브랜드에서 사용 가능한 3% 할인 쿠폰 제공 <br>스토어찜 + 소식 받기 완료 후 추가 최대 10% 세일</p>\\n\\t\\t\\t\\t\\n\\n\\t\\t\\t\\t\\n\\t\\t\\t\\t\\t<div class=\"source_area\">\\n\\t\\t\\t\\t\\t\\t<span class=\"source\"><span class=\"source_inner\">네이버 럭셔리관</span></span>\\n\\t\\t\\t\\t\\t</div>\\n\\t\\t\\t\\t\\n\\t\\t\\t</a>\\n\\t\\t\\t\\n\\t\\t</div>\\n\\t\\n</div>\\n</div>\\n<div class=\"group_theme\" data-block-id=\"\" data-block-code=\"PC-THEME-BEAUTY-MOBILE-RANKING-DEFAULT-0\" data-block-type=\"MATERIALS\" data-template-code=\"MOBILE-RANKING-LIST\"\\n\\n\\t data-da=\"container\"\\n\\t data-index=\"\"\\n     data-page=\"1\"\\n\\t >\\n\\n\\t<div class=\"list_theme_wrap\">\\n\\t\\t<ul class=\"list_theme\">\\n\\t\\t\\t\\n\\t\\t\\t\\t<li class=\"theme_item\" data-gdid=\"61b31898127e006243cfaccb\" data-da-position=\"true\">\\n\\t\\t\\t\\t\\t<a href=\"https://blog.naver.com/youmen2as/222589587567\" class=\"theme_thumb\" data-clk=\"tcc_bty.list1cont1\" target=\"_blank\">\\n\\t\\t\\t\\t\\t\\t<img src=\"https://s.pstatic.net/dthumb.phinf/?src&#x3D;%22https%3A%2F%2Fs.pstatic.net%2Fshop.phinf%2F20211210_237%2F16391267628796yiJF_JPEG%2FDFN.jpg%3Ftype%3Df342_264%22&amp;type&#x3D;nf340_228\" data-src=\"https://s.pstatic.net/dthumb.phinf/?src&#x3D;%22https%3A%2F%2Fs.pstatic.net%2Fshop.phinf%2F20211210_237%2F16391267628796yiJF_JPEG%2FDFN.jpg%3Ftype%3Df342_264%22&amp;type&#x3D;nf340_228\" alt=\"이니스프리 한정판 에디션 후기\" width=\"170\" height=\"114\">\\n\\t\\t\\t\\t\\t\\t<span class=\"thumb_bd\"></span>\\n\\t\\t\\t\\t\\t</a>\\n\\t\\t\\t\\t\\t<a href=\"https://blog.naver.com/youmen2as/222589587567\" class=\"theme_info\" data-clk=\"tcc_bty.list1cont1\" target=\"_blank\">\\n\\t\\t\\t\\t\\t\\t<em class=\"theme_category\"> 패션뷰티</em>\\n\\t\\t\\t\\t\\t\\t<strong class=\"title elss\">이니스프리 한정판 에디션 후기</strong>\\n                        <p class=\"desc\">이니스프리 2021 그린 홀리데이 기프트 에디션 2021 이니스프리 그린 홀리데이 보러가기 &gt; - 꺄악😍 안녕하세요 뷰스타 쥬쥬예요~ 오늘은 또 제 영혼 세 스푼을 담은 정성가득 포스팅을 가져왔습니당🤗💖 오늘의 포스팅은 올해로 벌써 12번째를 맞은 이니스프리 #그린홀리데이 캠페인✨ 벌써 두번째 만남인 스티븐 해링턴 (Steven Harrington)과</p>\\n\\t\\t\\t\\t\\t\\t<div class=\"source_box\">\\n\\t\\t\\t\\t\\t\\t\\t<span class=\"date\">6일 전</span>\\n\\t\\t\\t\\t\\t\\t\\t<span class=\"source\">\\n                                \\n                                <span class=\"source_inner\">쥬쥬</span>\\n                            </span>\\n\\t\\t\\t\\t\\t\\t</div>\\n\\t\\t\\t\\t\\t</a>\\n\\t\\t\\t\\t</li>\\n\\t\\t\\t\\n\\t\\t\\t\\t<li class=\"theme_item\" data-gdid=\"61b31539127e006243cfac7a\" data-da-position=\"true\">\\n\\t\\t\\t\\t\\t<a href=\"https://blog.naver.com/0226orange/222588227260\" class=\"theme_thumb\" data-clk=\"tcc_bty.list1cont2\" target=\"_blank\">\\n\\t\\t\\t\\t\\t\\t<img src=\"https://s.pstatic.net/dthumb.phinf/?src&#x3D;%22https%3A%2F%2Fs.pstatic.net%2Fshop.phinf%2F20211210_286%2F1639126198249B1S7F_JPEG%2FASA.jpg%3Ftype%3Df342_264%22&amp;type&#x3D;nf340_228\" data-src=\"https://s.pstatic.net/dthumb.phinf/?src&#x3D;%22https%3A%2F%2Fs.pstatic.net%2Fshop.phinf%2F20211210_286%2F1639126198249B1S7F_JPEG%2FASA.jpg%3Ftype%3Df342_264%22&amp;type&#x3D;nf340_228\" alt=\"그린 홀리데이와 함께하세요\" width=\"170\" height=\"114\">\\n\\t\\t\\t\\t\\t\\t<span class=\"thumb_bd\"></span>\\n\\t\\t\\t\\t\\t</a>\\n\\t\\t\\t\\t\\t<a href=\"https://blog.naver.com/0226orange/222588227260\" class=\"theme_info\" data-clk=\"tcc_bty.list1cont2\" target=\"_blank\">\\n\\t\\t\\t\\t\\t\\t<em class=\"theme_category\"> 패션뷰티</em>\\n\\t\\t\\t\\t\\t\\t<strong class=\"title elss\">그린 홀리데이와 함께하세요</strong>\\n                        <p class=\"desc\">연말을 보내는 기분은 저마다 조금씩 다르겠지만 저는 연말 특유의 분위기랄까.. 마음 한 켠이 말랑말랑해지면서 설렘이 채워지는 것 같은 그 느낌을 참 좋아해요. 반짝반짝 예쁘게 장식된 크리스마스 트리를 구경하거나 한 해 동안 고마웠던 분들께 드릴 #연말선물 을 열심히 고민하거나 최선을 다해 살아온 나를 위해 갖고 싶었던 물건을 큰 맘 먹고 구입하거나- 전부 </p>\\n\\t\\t\\t\\t\\t\\t<div class=\"source_box\">\\n\\t\\t\\t\\t\\t\\t\\t<span class=\"date\">1주일 전</span>\\n\\t\\t\\t\\t\\t\\t\\t<span class=\"source\">\\n                                \\n                                <span class=\"source_inner\">금귤</span>\\n                            </span>\\n\\t\\t\\t\\t\\t\\t</div>\\n\\t\\t\\t\\t\\t</a>\\n\\t\\t\\t\\t</li>\\n\\t\\t\\t\\n\\t\\t\\t\\t<li class=\"theme_item\" data-gdid=\"61ada49b20ad686255d1355f\" data-da-position=\"true\">\\n\\t\\t\\t\\t\\t<a href=\"https://m.blog.naver.com/mamelyoo/222568474888\" class=\"theme_thumb\" data-clk=\"tcc_bty.list1cont3\" target=\"_blank\">\\n\\t\\t\\t\\t\\t\\t<img src=\"https://s.pstatic.net/dthumb.phinf/?src&#x3D;%22https%3A%2F%2Fs.pstatic.net%2Fshop.phinf%2F20211206_92%2F1638769841158TiyjF_JPEG%2F1-3.jpg%3Ftype%3Df342_342%22&amp;type&#x3D;nf340_228\" data-src=\"https://s.pstatic.net/dthumb.phinf/?src&#x3D;%22https%3A%2F%2Fs.pstatic.net%2Fshop.phinf%2F20211206_92%2F1638769841158TiyjF_JPEG%2F1-3.jpg%3Ftype%3Df342_342%22&amp;type&#x3D;nf340_228\" alt=\"스탈릿 글리터 세트\" width=\"170\" height=\"114\">\\n\\t\\t\\t\\t\\t\\t<span class=\"thumb_bd\"></span>\\n\\t\\t\\t\\t\\t</a>\\n\\t\\t\\t\\t\\t<a href=\"https://m.blog.naver.com/mamelyoo/222568474888\" class=\"theme_info\" data-clk=\"tcc_bty.list1cont3\" target=\"_blank\">\\n\\t\\t\\t\\t\\t\\t<em class=\"theme_category\"> 패션뷰티</em>\\n\\t\\t\\t\\t\\t\\t<strong class=\"title elss\">스탈릿 글리터 세트</strong>\\n                        <p class=\"desc\">벌써 올해의 끝자락이 다가왔어요 ! 한해를 마무리 지어야 한다는건 아쉽지만 저는 매년 연말이 올때 쯤이면 마음이 마구마구 들뜬답니다. 왜냐 , 연말시즌을 맞이해 블링블링 반짝임이 가득한 신상템들이 속속 등장하기 때문이죠 예에 - ☆ 오늘도 찬란한 빛을 가득 담은 NEW 글리터 섀도우 추천 템을 잔뜩데리고왔으니 심장 단단히 부여잡고 보시길바래요 ( 심장아픔주</p>\\n\\t\\t\\t\\t\\t\\t<div class=\"source_box\">\\n\\t\\t\\t\\t\\t\\t\\t<span class=\"date\">4주일 전</span>\\n\\t\\t\\t\\t\\t\\t\\t<span class=\"source\">\\n                                \\n                                <span class=\"source_inner\">마멜유</span>\\n                            </span>\\n\\t\\t\\t\\t\\t\\t</div>\\n\\t\\t\\t\\t\\t</a>\\n\\t\\t\\t\\t</li>\\n\\t\\t\\t\\n\\t\\t\\t\\t<li class=\"theme_item\" data-gdid=\"70dca590-4b69-4de6-b402-7eb89b9ebc94\" data-da-position=\"true\">\\n\\t\\t\\t\\t\\t<a href=\"https://post.naver.com/viewer/postView.naver?volumeNo&#x3D;32868131&amp;memberNo&#x3D;42690419\" class=\"theme_thumb\" data-clk=\"tcc_bty.list1cont4\" target=\"_blank\">\\n\\t\\t\\t\\t\\t\\t<img src=\"https://s.pstatic.net/dthumb.phinf/?src&#x3D;%22https%3A%2F%2Fs.pstatic.net%2Fshop.phinf%2F20211203_199%2F1638526456971yL9LF_JPEG%2FDFB.jpg%3Ftype%3Df342_264%22&amp;type&#x3D;nf340_228\" data-src=\"https://s.pstatic.net/dthumb.phinf/?src&#x3D;%22https%3A%2F%2Fs.pstatic.net%2Fshop.phinf%2F20211203_199%2F1638526456971yL9LF_JPEG%2FDFB.jpg%3Ftype%3Df342_264%22&amp;type&#x3D;nf340_228\" alt=\"퀼팅 재킷 스타일링 참고서\" width=\"170\" height=\"114\">\\n\\t\\t\\t\\t\\t\\t<span class=\"thumb_bd\"></span>\\n\\t\\t\\t\\t\\t</a>\\n\\t\\t\\t\\t\\t<a href=\"https://post.naver.com/viewer/postView.naver?volumeNo&#x3D;32868131&amp;memberNo&#x3D;42690419\" class=\"theme_info\" data-clk=\"tcc_bty.list1cont4\" target=\"_blank\">\\n\\t\\t\\t\\t\\t\\t<em class=\"theme_category\"> 패션뷰티</em>\\n\\t\\t\\t\\t\\t\\t<strong class=\"title elss\">퀼팅 재킷 스타일링 참고서</strong>\\n                        <p class=\"desc\">[갓잇코리아 / 박민아 기자] 올 한해 트렌드였던 &#x27;뉴트로&#x27;. 90년대에서 2000년대까지 유행했던 아이템들이 다시 유행하며 유행은 돌고돈다는 말을 증명했다. 다가오는 겨울 유행하는 &#x27;퀼팅 자켓&#x27;과 &#x27;떡볶이 코트&#x27; 역시 다시 돌아온 추억의 아이템으로, 올 겨울 트렌드의 중심에 있다. 트렌디한 퀼팅 자켓 스타일링을 모아봤다.퀼팅 자켓이란?퀼팅 자켓이란 누빔 </p>\\n\\t\\t\\t\\t\\t\\t<div class=\"source_box\">\\n\\t\\t\\t\\t\\t\\t\\t<span class=\"date\">1주일 전</span>\\n\\t\\t\\t\\t\\t\\t\\t<span class=\"source\">\\n                                \\n                                <span class=\"source_inner\">갓잇코리아</span>\\n                            </span>\\n\\t\\t\\t\\t\\t\\t</div>\\n\\t\\t\\t\\t\\t</a>\\n\\t\\t\\t\\t</li>\\n\\t\\t\\t\\n\\t\\t</ul>\\n\\t</div>\\n</div>\\n<div class=\"group_theme\" data-block-id=\"\" data-block-code=\"PC-THEME-BEAUTY-MOBILE-RANKING-VIDEO-0\" data-block-type=\"MATERIALS\" data-template-code=\"MOBILE-RANKING-VIDEO-LIST\"\\n\\n\\t data-index=\"\"\\n\\t data-page=\"1\"\\n\\t >\\n\\n\\t<div class=\"media_view_wrap type_column\">\\n\\t\\t<div class=\"media_view\">\\n\\t\\t\\t\\n\\t\\t\\t\\t<a href=\"https://tv.naver.com/v/23566406\" class=\"media_area\" data-gdid=\"57974d05-c7c2-4964-bdaf-56ff47022eb7\" data-clk=\"tcc_bty.video1cont1\" target=\"_blank\">\\n\\t\\t\\t\\t\\t<div class=\"media_thumb\">\\n\\t\\t\\t\\t\\t\\t<img src=\"https://s.pstatic.net/dthumb.phinf/?src&#x3D;%22https%3A%2F%2Fs.pstatic.net%2Fshop.phinf%2F20211203_229%2F1638526462481OS5t8_JPEG%2F1637286819699.jpg%3Ftype%3Df342_264%22&amp;type&#x3D;nf464_260\" data-src=\"https://s.pstatic.net/dthumb.phinf/?src&#x3D;%22https%3A%2F%2Fs.pstatic.net%2Fshop.phinf%2F20211203_229%2F1638526462481OS5t8_JPEG%2F1637286819699.jpg%3Ftype%3Df342_264%22&amp;type&#x3D;nf464_260\" alt=\"명품 안 부러운 인생 코트 10\" width=\"232\" height=\"130\">\\n\\t\\t\\t\\t\\t\\t<span class=\"thumb_dim\"></span>\\n\\t\\t\\t\\t\\t\\t<span class=\"thumb_bd\"></span>\\n\\t\\t\\t\\t\\t\\t<i class=\"pm_ico_play\"><span class=\"blind\">재생</span></i>\\n\\t\\t\\t\\t\\t\\t<span class=\"theme_runtime\"><span class=\"runtime_bg\">재생시간</span><em class=\"time\">15:52</em></span>\\n\\t\\t\\t\\t\\t</div>\\n\\t\\t\\t\\t\\t<div class=\"media_info\">\\n\\t\\t\\t\\t\\t\\t<div class=\"info_box\">\\n\\t\\t\\t\\t\\t\\t\\t<strong class=\"title\">명품 안 부러운 인생 코트 10</strong>\\n\\t\\t\\t\\t\\t\\t\\t<div class=\"source_wrap\">\\n\\t\\t\\t\\t\\t\\t\\t\\t<span class=\"date\">4주일 전</span>\\n\\t\\t\\t\\t\\t\\t\\t\\t<span class=\"source\">\\n                                    \\n                                    <span class=\"source_inner\">옆집언니 최실장</span>\\n                                </span>\\n\\t\\t\\t\\t\\t\\t\\t</div>\\n\\t\\t\\t\\t\\t\\t</div>\\n\\t\\t\\t\\t\\t</div>\\n\\t\\t\\t\\t</a>\\n\\t\\t\\t\\n\\t\\t\\t\\t<a href=\"https://tv.naver.com/v/23566132\" class=\"media_area\" data-gdid=\"4d667eb3-f14a-4bca-adc3-2e8dfcfcc5bb\" data-clk=\"tcc_bty.video1cont2\" target=\"_blank\">\\n\\t\\t\\t\\t\\t<div class=\"media_thumb\">\\n\\t\\t\\t\\t\\t\\t<img src=\"https://s.pstatic.net/dthumb.phinf/?src&#x3D;%22https%3A%2F%2Fs.pstatic.net%2Fshop.phinf%2F20211201_44%2F163835376209215hR1_JPEG%2F1637286758465.jpg%3Ftype%3Df342_264%22&amp;type&#x3D;nf464_260\" data-src=\"https://s.pstatic.net/dthumb.phinf/?src&#x3D;%22https%3A%2F%2Fs.pstatic.net%2Fshop.phinf%2F20211201_44%2F163835376209215hR1_JPEG%2F1637286758465.jpg%3Ftype%3Df342_264%22&amp;type&#x3D;nf464_260\" alt=\"예쁜 옷 고를 때 보는 포인트\" width=\"232\" height=\"130\">\\n\\t\\t\\t\\t\\t\\t<span class=\"thumb_dim\"></span>\\n\\t\\t\\t\\t\\t\\t<span class=\"thumb_bd\"></span>\\n\\t\\t\\t\\t\\t\\t<i class=\"pm_ico_play\"><span class=\"blind\">재생</span></i>\\n\\t\\t\\t\\t\\t\\t<span class=\"theme_runtime\"><span class=\"runtime_bg\">재생시간</span><em class=\"time\">11:51</em></span>\\n\\t\\t\\t\\t\\t</div>\\n\\t\\t\\t\\t\\t<div class=\"media_info\">\\n\\t\\t\\t\\t\\t\\t<div class=\"info_box\">\\n\\t\\t\\t\\t\\t\\t\\t<strong class=\"title\">예쁜 옷 고를 때 보는 포인트</strong>\\n\\t\\t\\t\\t\\t\\t\\t<div class=\"source_wrap\">\\n\\t\\t\\t\\t\\t\\t\\t\\t<span class=\"date\">4주일 전</span>\\n\\t\\t\\t\\t\\t\\t\\t\\t<span class=\"source\">\\n                                    \\n                                    <span class=\"source_inner\">옆집언니 최실장</span>\\n                                </span>\\n\\t\\t\\t\\t\\t\\t\\t</div>\\n\\t\\t\\t\\t\\t\\t</div>\\n\\t\\t\\t\\t\\t</div>\\n\\t\\t\\t\\t</a>\\n\\t\\t\\t\\n\\t\\t\\t\\t<a href=\"https://tv.naver.com/v/23761064\" class=\"media_area\" data-gdid=\"e2c1aab2-ac06-43f4-86e7-3ad233be0b64\" data-clk=\"tcc_bty.video1cont3\" target=\"_blank\">\\n\\t\\t\\t\\t\\t<div class=\"media_thumb\">\\n\\t\\t\\t\\t\\t\\t<img src=\"https://s.pstatic.net/dthumb.phinf/?src&#x3D;%22https%3A%2F%2Fs.pstatic.net%2Fshop.phinf%2F20211130_206%2F1638256315842XcePG_JPEG%2F1637910133166.jpg%3Ftype%3Df342_264%22&amp;type&#x3D;nf464_260\" data-src=\"https://s.pstatic.net/dthumb.phinf/?src&#x3D;%22https%3A%2F%2Fs.pstatic.net%2Fshop.phinf%2F20211130_206%2F1638256315842XcePG_JPEG%2F1637910133166.jpg%3Ftype%3Df342_264%22&amp;type&#x3D;nf464_260\" alt=\"채정안의 한겨울 아우터 추천\" width=\"232\" height=\"130\">\\n\\t\\t\\t\\t\\t\\t<span class=\"thumb_dim\"></span>\\n\\t\\t\\t\\t\\t\\t<span class=\"thumb_bd\"></span>\\n\\t\\t\\t\\t\\t\\t<i class=\"pm_ico_play\"><span class=\"blind\">재생</span></i>\\n\\t\\t\\t\\t\\t\\t<span class=\"theme_runtime\"><span class=\"runtime_bg\">재생시간</span><em class=\"time\">08:38</em></span>\\n\\t\\t\\t\\t\\t</div>\\n\\t\\t\\t\\t\\t<div class=\"media_info\">\\n\\t\\t\\t\\t\\t\\t<div class=\"info_box\">\\n\\t\\t\\t\\t\\t\\t\\t<strong class=\"title\">채정안의 한겨울 아우터 추천</strong>\\n\\t\\t\\t\\t\\t\\t\\t<div class=\"source_wrap\">\\n\\t\\t\\t\\t\\t\\t\\t\\t<span class=\"date\">2주일 전</span>\\n\\t\\t\\t\\t\\t\\t\\t\\t<span class=\"source\">\\n                                    \\n                                    <span class=\"source_inner\">채정안TV</span>\\n                                </span>\\n\\t\\t\\t\\t\\t\\t\\t</div>\\n\\t\\t\\t\\t\\t\\t</div>\\n\\t\\t\\t\\t\\t</div>\\n\\t\\t\\t\\t</a>\\n\\t\\t\\t\\n\\t\\t</div>\\n\\t</div>\\n</div>\\n<div class=\"group_theme\" data-block-id=\"\" data-block-code=\"PC-THEME-BEAUTY-MOBILE-RANKING-DEFAULT-1\" data-block-type=\"MATERIALS\" data-template-code=\"MOBILE-RANKING-LIST\"\\n\\n\\t data-da=\"container\"\\n\\t data-index=\"\"\\n     data-page=\"1\"\\n\\t >\\n\\n\\t<div class=\"list_theme_wrap\">\\n\\t\\t<ul class=\"list_theme\">\\n\\t\\t\\t\\n\\t\\t\\t\\t<li class=\"theme_item\" data-gdid=\"61a439d6e9b5e9d3b5d58b92\" data-da-position=\"true\">\\n\\t\\t\\t\\t\\t<a href=\"https://m.blog.naver.com/hyundorina/222555036815\" class=\"theme_thumb\" data-clk=\"tcc_bty.list2cont1\" target=\"_blank\">\\n\\t\\t\\t\\t\\t\\t<img src=\"https://s.pstatic.net/dthumb.phinf/?src&#x3D;%22https%3A%2F%2Fs.pstatic.net%2Fshop.phinf%2F20211129_90%2F1638166733891wbWzI_JPEG%2F1-2.jpg%3Ftype%3Df342_342%22&amp;type&#x3D;nf340_228\" data-src=\"https://s.pstatic.net/dthumb.phinf/?src&#x3D;%22https%3A%2F%2Fs.pstatic.net%2Fshop.phinf%2F20211129_90%2F1638166733891wbWzI_JPEG%2F1-2.jpg%3Ftype%3Df342_342%22&amp;type&#x3D;nf340_228\" alt=\"루즈 디올 꾸뛰르 립밤\" width=\"170\" height=\"114\">\\n\\t\\t\\t\\t\\t\\t<span class=\"thumb_bd\"></span>\\n\\t\\t\\t\\t\\t</a>\\n\\t\\t\\t\\t\\t<a href=\"https://m.blog.naver.com/hyundorina/222555036815\" class=\"theme_info\" data-clk=\"tcc_bty.list2cont1\" target=\"_blank\">\\n\\t\\t\\t\\t\\t\\t<em class=\"theme_category\"> 패션뷰티</em>\\n\\t\\t\\t\\t\\t\\t<strong class=\"title elss\">루즈 디올 꾸뛰르 립밤</strong>\\n                        <p class=\"desc\">본 포스팅은 &#x27;디올&#x27;로부터 제품과 소정의 원고료를 제공받은 후 솔직하게 작성된 제품 후기입니다. 안녕하세요 여러분 리사입니다. 디올 뷰티하면 가장 먼저 떠오르는 아이코닉한 제품, 바로 &#x27;루즈 디올&#x27; 이죠! :) 2021년 9월, 크리스챤 디올 뷰티가 새롭게 런칭한 디올 하우스의 감성을 담은 &#x27;루즈 디올&#x27;을 재해석한 NEW 루즈 디올 꾸뛰르 립...</p>\\n\\t\\t\\t\\t\\t\\t<div class=\"source_box\">\\n\\t\\t\\t\\t\\t\\t\\t<span class=\"date\">1개월 전</span>\\n\\t\\t\\t\\t\\t\\t\\t<span class=\"source\">\\n                                \\n                                <span class=\"source_inner\">Lisa</span>\\n                            </span>\\n\\t\\t\\t\\t\\t\\t</div>\\n\\t\\t\\t\\t\\t</a>\\n\\t\\t\\t\\t</li>\\n\\t\\t\\t\\n\\t\\t\\t\\t<li class=\"theme_item\" data-gdid=\"61a439d6e9b5e9d3b5d58b93\" data-da-position=\"true\">\\n\\t\\t\\t\\t\\t<a href=\"https://m.blog.naver.com/yangeunb/222544989675\" class=\"theme_thumb\" data-clk=\"tcc_bty.list2cont2\" target=\"_blank\">\\n\\t\\t\\t\\t\\t\\t<img src=\"https://s.pstatic.net/dthumb.phinf/?src&#x3D;%22https%3A%2F%2Fs.pstatic.net%2Fshop.phinf%2F20211129_255%2F1638166737465q0Btu_JPEG%2F1-3.jpg%3Ftype%3Df342_342%22&amp;type&#x3D;nf340_228\" data-src=\"https://s.pstatic.net/dthumb.phinf/?src&#x3D;%22https%3A%2F%2Fs.pstatic.net%2Fshop.phinf%2F20211129_255%2F1638166737465q0Btu_JPEG%2F1-3.jpg%3Ftype%3Df342_342%22&amp;type&#x3D;nf340_228\" alt=\"리르 립 슬리핑 마스크\" width=\"170\" height=\"114\">\\n\\t\\t\\t\\t\\t\\t<span class=\"thumb_bd\"></span>\\n\\t\\t\\t\\t\\t</a>\\n\\t\\t\\t\\t\\t<a href=\"https://m.blog.naver.com/yangeunb/222544989675\" class=\"theme_info\" data-clk=\"tcc_bty.list2cont2\" target=\"_blank\">\\n\\t\\t\\t\\t\\t\\t<em class=\"theme_category\"> 패션뷰티</em>\\n\\t\\t\\t\\t\\t\\t<strong class=\"title elss\">리르 립 슬리핑 마스크</strong>\\n                        <p class=\"desc\">안녕하세요 여러분 은비에요 / 이제 곧 11월인데,, 날씨가 추워지다보니 입술이 엄청 건조해지고 각질이 잘 일어나더라구요 그래서 요즘 #립밤 을 잠들기전에 꼭 꼭 사용해주고 있는데요 리르 #립마스크 가 요즘 제가 잠들기전 발라주는 립밤인데 영양감도 좋고 보습도 확실하구 무엇보다도 바르고 난 후에 각질이 싹 잠재워져서 #입술각질제거 효과까지 있어서 만족스럽더</p>\\n\\t\\t\\t\\t\\t\\t<div class=\"source_box\">\\n\\t\\t\\t\\t\\t\\t\\t<span class=\"date\">1개월 전</span>\\n\\t\\t\\t\\t\\t\\t\\t<span class=\"source\">\\n                                \\n                                <span class=\"source_inner\">은비</span>\\n                            </span>\\n\\t\\t\\t\\t\\t\\t</div>\\n\\t\\t\\t\\t\\t</a>\\n\\t\\t\\t\\t</li>\\n\\t\\t\\t\\n\\t\\t\\t\\t<li class=\"theme_item\" data-gdid=\"61a439d6e9b5e9d3b5d58b94\" data-da-position=\"true\">\\n\\t\\t\\t\\t\\t<a href=\"https://m.blog.naver.com/phj3000kr/222569717948\" class=\"theme_thumb\" data-clk=\"tcc_bty.list2cont3\" target=\"_blank\">\\n\\t\\t\\t\\t\\t\\t<img src=\"https://s.pstatic.net/dthumb.phinf/?src&#x3D;%22https%3A%2F%2Fs.pstatic.net%2Fshop.phinf%2F20211129_78%2F1638166739689C51nh_JPEG%2F1-4.jpg%3Ftype%3Df342_342%22&amp;type&#x3D;nf340_228\" data-src=\"https://s.pstatic.net/dthumb.phinf/?src&#x3D;%22https%3A%2F%2Fs.pstatic.net%2Fshop.phinf%2F20211129_78%2F1638166739689C51nh_JPEG%2F1-4.jpg%3Ftype%3Df342_342%22&amp;type&#x3D;nf340_228\" alt=\"블랙루즈 파운데이션\" width=\"170\" height=\"114\">\\n\\t\\t\\t\\t\\t\\t<span class=\"thumb_bd\"></span>\\n\\t\\t\\t\\t\\t</a>\\n\\t\\t\\t\\t\\t<a href=\"https://m.blog.naver.com/phj3000kr/222569717948\" class=\"theme_info\" data-clk=\"tcc_bty.list2cont3\" target=\"_blank\">\\n\\t\\t\\t\\t\\t\\t<em class=\"theme_category\"> 패션뷰티</em>\\n\\t\\t\\t\\t\\t\\t<strong class=\"title elss\">블랙루즈 파운데이션</strong>\\n                        <p class=\"desc\">안녕하세요, 박하입니다! 오늘은 블랙루즈에서 새로 출시된 파운데이션 리뷰를 가지고 왔어요. 매끈하고 보송한 피부결을 만들어주는 블랙루즈 라이스 스킨웨어 파운데이션을 지금부터 보여드릴게요 :) 블랙루즈 라이스 스킨웨어 파운데이션 F01 맑은아침햇쌀 F02 무르익은보리 (30ml / 27,000원) 블랙루즈 라이스 스킨웨어 파운데이션은 품질 좋은 여주 쌀이 들</p>\\n\\t\\t\\t\\t\\t\\t<div class=\"source_box\">\\n\\t\\t\\t\\t\\t\\t\\t<span class=\"date\">4주일 전</span>\\n\\t\\t\\t\\t\\t\\t\\t<span class=\"source\">\\n                                \\n                                <span class=\"source_inner\">박하</span>\\n                            </span>\\n\\t\\t\\t\\t\\t\\t</div>\\n\\t\\t\\t\\t\\t</a>\\n\\t\\t\\t\\t</li>\\n\\t\\t\\t\\n\\t\\t\\t\\t<li class=\"theme_item\" data-gdid=\"61a9ed60127e006243cea983\" data-da-position=\"true\">\\n\\t\\t\\t\\t\\t<a href=\"https://post.naver.com/viewer/postView.naver?volumeNo&#x3D;32878629&amp;memberNo&#x3D;32392747\" class=\"theme_thumb\" data-clk=\"tcc_bty.list2cont4\" target=\"_blank\">\\n\\t\\t\\t\\t\\t\\t<img src=\"https://s.pstatic.net/dthumb.phinf/?src&#x3D;%22https%3A%2F%2Fs.pstatic.net%2Fshop.phinf%2F20211203_86%2F16385262154333fWOK_JPEG%2FERG.jpg%3Ftype%3Df342_264%22&amp;type&#x3D;nf340_228\" data-src=\"https://s.pstatic.net/dthumb.phinf/?src&#x3D;%22https%3A%2F%2Fs.pstatic.net%2Fshop.phinf%2F20211203_86%2F16385262154333fWOK_JPEG%2FERG.jpg%3Ftype%3Df342_264%22&amp;type&#x3D;nf340_228\" alt=\"셀럽들의 같은 옷 다른 느낌\" width=\"170\" height=\"114\">\\n\\t\\t\\t\\t\\t\\t<span class=\"thumb_bd\"></span>\\n\\t\\t\\t\\t\\t</a>\\n\\t\\t\\t\\t\\t<a href=\"https://post.naver.com/viewer/postView.naver?volumeNo&#x3D;32878629&amp;memberNo&#x3D;32392747\" class=\"theme_info\" data-clk=\"tcc_bty.list2cont4\" target=\"_blank\">\\n\\t\\t\\t\\t\\t\\t<em class=\"theme_category\"> 패션뷰티</em>\\n\\t\\t\\t\\t\\t\\t<strong class=\"title elss\">셀럽들의 같은 옷 다른 느낌</strong>\\n                        <p class=\"desc\">이제 날씨가 제법 추워져서 옷을 껴입어야 할 때가 왔어! 마지막 계절을 마무리한다는 설렘도 있지만 겨울은 너무도 춥다구ㅠㅠㅜ 그래서 준비한 찬바람이 불 때 추천하고 싶은 셀럽들의 같은 옷 다른 느낌 아이템이야!!먼저 예쁜 니트부터 소개할게 모모랜드 혜빈이 입은 아가일 패턴의 니트야 살짝 오버핏된 니트가 짧은 스커트와 참 잘어울리는 것 같아너무 귀여운 예나!</p>\\n\\t\\t\\t\\t\\t\\t<div class=\"source_box\">\\n\\t\\t\\t\\t\\t\\t\\t<span class=\"date\">1주일 전</span>\\n\\t\\t\\t\\t\\t\\t\\t<span class=\"source\">\\n                                \\n                                <span class=\"source_inner\">어쩌다패피</span>\\n                            </span>\\n\\t\\t\\t\\t\\t\\t</div>\\n\\t\\t\\t\\t\\t</a>\\n\\t\\t\\t\\t</li>\\n\\t\\t\\t\\n\\t\\t</ul>\\n\\t</div>\\n</div>\\n<div class=\"group_theme\" data-block-id=\"\" data-block-code=\"PC-THEME-BEAUTY-MOBILE-RANKING-VIDEO-1\" data-block-type=\"MATERIALS\" data-template-code=\"MOBILE-RANKING-VIDEO-LIST\"\\n\\n\\t data-index=\"\"\\n\\t data-page=\"1\"\\n\\t >\\n\\n\\t<div class=\"media_view_wrap type_column\">\\n\\t\\t<div class=\"media_view\">\\n\\t\\t\\t\\n\\t\\t\\t\\t<a href=\"https://tv.naver.com/v/23466853\" class=\"media_area\" data-gdid=\"c8858ec0-32ed-4314-acc2-2efce316d15a\" data-clk=\"tcc_bty.video2cont1\" target=\"_blank\">\\n\\t\\t\\t\\t\\t<div class=\"media_thumb\">\\n\\t\\t\\t\\t\\t\\t<img src=\"https://s.pstatic.net/dthumb.phinf/?src&#x3D;%22https%3A%2F%2Fs.pstatic.net%2Fshop.phinf%2F20211112_203%2F1636710914109mSA0U_JPEG%2F1636601393876.jpg%3Ftype%3Df342_264%22&amp;type&#x3D;nf464_260\" data-src=\"https://s.pstatic.net/dthumb.phinf/?src&#x3D;%22https%3A%2F%2Fs.pstatic.net%2Fshop.phinf%2F20211112_203%2F1636710914109mSA0U_JPEG%2F1636601393876.jpg%3Ftype%3Df342_264%22&amp;type&#x3D;nf464_260\" alt=\"피지 제거, 세정력 꼼꼼 비교\" width=\"232\" height=\"130\">\\n\\t\\t\\t\\t\\t\\t<span class=\"thumb_dim\"></span>\\n\\t\\t\\t\\t\\t\\t<span class=\"thumb_bd\"></span>\\n\\t\\t\\t\\t\\t\\t<i class=\"pm_ico_play\"><span class=\"blind\">재생</span></i>\\n\\t\\t\\t\\t\\t\\t<span class=\"theme_runtime\"><span class=\"runtime_bg\">재생시간</span><em class=\"time\">20:53</em></span>\\n\\t\\t\\t\\t\\t</div>\\n\\t\\t\\t\\t\\t<div class=\"media_info\">\\n\\t\\t\\t\\t\\t\\t<div class=\"info_box\">\\n\\t\\t\\t\\t\\t\\t\\t<strong class=\"title\">피지 제거, 세정력 꼼꼼 비교</strong>\\n\\t\\t\\t\\t\\t\\t\\t<div class=\"source_wrap\">\\n\\t\\t\\t\\t\\t\\t\\t\\t<span class=\"date\">1개월 전</span>\\n\\t\\t\\t\\t\\t\\t\\t\\t<span class=\"source\">\\n                                    \\n                                    <span class=\"source_inner\">디렉터파이</span>\\n                                </span>\\n\\t\\t\\t\\t\\t\\t\\t</div>\\n\\t\\t\\t\\t\\t\\t</div>\\n\\t\\t\\t\\t\\t</div>\\n\\t\\t\\t\\t</a>\\n\\t\\t\\t\\n\\t\\t\\t\\t<a href=\"https://tv.naver.com/v/23408593\" class=\"media_area\" data-gdid=\"8a20aa20-336a-4dcb-9fe3-df40f9b14dbc\" data-clk=\"tcc_bty.video2cont2\" target=\"_blank\">\\n\\t\\t\\t\\t\\t<div class=\"media_thumb\">\\n\\t\\t\\t\\t\\t\\t<img src=\"https://s.pstatic.net/dthumb.phinf/?src&#x3D;%22https%3A%2F%2Fs.pstatic.net%2Fshop.phinf%2F20211112_258%2F1636710644861Nv3bA_JPEG%2F1636358456340.jpg%3Ftype%3Df342_264%22&amp;type&#x3D;nf464_260\" data-src=\"https://s.pstatic.net/dthumb.phinf/?src&#x3D;%22https%3A%2F%2Fs.pstatic.net%2Fshop.phinf%2F20211112_258%2F1636710644861Nv3bA_JPEG%2F1636358456340.jpg%3Ftype%3Df342_264%22&amp;type&#x3D;nf464_260\" alt=\"채정안의 바디케어 꿀조합은?\" width=\"232\" height=\"130\">\\n\\t\\t\\t\\t\\t\\t<span class=\"thumb_dim\"></span>\\n\\t\\t\\t\\t\\t\\t<span class=\"thumb_bd\"></span>\\n\\t\\t\\t\\t\\t\\t<i class=\"pm_ico_play\"><span class=\"blind\">재생</span></i>\\n\\t\\t\\t\\t\\t\\t<span class=\"theme_runtime\"><span class=\"runtime_bg\">재생시간</span><em class=\"time\">08:39</em></span>\\n\\t\\t\\t\\t\\t</div>\\n\\t\\t\\t\\t\\t<div class=\"media_info\">\\n\\t\\t\\t\\t\\t\\t<div class=\"info_box\">\\n\\t\\t\\t\\t\\t\\t\\t<strong class=\"title\">채정안의 바디케어 꿀조합은?</strong>\\n\\t\\t\\t\\t\\t\\t\\t<div class=\"source_wrap\">\\n\\t\\t\\t\\t\\t\\t\\t\\t<span class=\"date\">1개월 전</span>\\n\\t\\t\\t\\t\\t\\t\\t\\t<span class=\"source\">\\n                                    \\n                                    <span class=\"source_inner\">채정안TV</span>\\n                                </span>\\n\\t\\t\\t\\t\\t\\t\\t</div>\\n\\t\\t\\t\\t\\t\\t</div>\\n\\t\\t\\t\\t\\t</div>\\n\\t\\t\\t\\t</a>\\n\\t\\t\\t\\n\\t\\t\\t\\t<a href=\"https://tv.naver.com/v/23274518\" class=\"media_area\" data-gdid=\"6183b3ecf61e58e7b39ba758\" data-clk=\"tcc_bty.video2cont3\" target=\"_blank\">\\n\\t\\t\\t\\t\\t<div class=\"media_thumb\">\\n\\t\\t\\t\\t\\t\\t<img src=\"https://s.pstatic.net/dthumb.phinf/?src&#x3D;%22https%3A%2F%2Fs.pstatic.net%2Fshop.phinf%2F20211105_59%2F1636102836897JDiWN_JPEG%2F1635742520424.jpg%3Ftype%3Df342_264%22&amp;type&#x3D;nf464_260\" data-src=\"https://s.pstatic.net/dthumb.phinf/?src&#x3D;%22https%3A%2F%2Fs.pstatic.net%2Fshop.phinf%2F20211105_59%2F1636102836897JDiWN_JPEG%2F1635742520424.jpg%3Ftype%3Df342_264%22&amp;type&#x3D;nf464_260\" alt=\"여배우의 마사지 비법 대공개\" width=\"232\" height=\"130\">\\n\\t\\t\\t\\t\\t\\t<span class=\"thumb_dim\"></span>\\n\\t\\t\\t\\t\\t\\t<span class=\"thumb_bd\"></span>\\n\\t\\t\\t\\t\\t\\t<i class=\"pm_ico_play\"><span class=\"blind\">재생</span></i>\\n\\t\\t\\t\\t\\t\\t<span class=\"theme_runtime\"><span class=\"runtime_bg\">재생시간</span><em class=\"time\">07:56</em></span>\\n\\t\\t\\t\\t\\t</div>\\n\\t\\t\\t\\t\\t<div class=\"media_info\">\\n\\t\\t\\t\\t\\t\\t<div class=\"info_box\">\\n\\t\\t\\t\\t\\t\\t\\t<strong class=\"title\">여배우의 마사지 비법 대공개</strong>\\n\\t\\t\\t\\t\\t\\t\\t<div class=\"source_wrap\">\\n\\t\\t\\t\\t\\t\\t\\t\\t<span class=\"date\">1개월 전</span>\\n\\t\\t\\t\\t\\t\\t\\t\\t<span class=\"source\">\\n                                    \\n                                    <span class=\"source_inner\">채정안TV</span>\\n                                </span>\\n\\t\\t\\t\\t\\t\\t\\t</div>\\n\\t\\t\\t\\t\\t\\t</div>\\n\\t\\t\\t\\t\\t</div>\\n\\t\\t\\t\\t</a>\\n\\t\\t\\t\\n\\t\\t</div>\\n\\t</div>\\n</div>\\n<div class=\"group_theme\" data-block-id=\"\" data-block-code=\"PC-THEME-BEAUTY-MOBILE-RANKING-DEFAULT-2\" data-block-type=\"MATERIALS\" data-template-code=\"MOBILE-RANKING-LIST\"\\n\\n\\t data-da=\"container\"\\n\\t data-index=\"\"\\n     data-page=\"2\"\\n\\t style=\"display:none\">\\n\\n\\t<div class=\"list_theme_wrap\">\\n\\t\\t<ul class=\"list_theme\">\\n\\t\\t\\t\\n\\t\\t\\t\\t<li class=\"theme_item\" data-gdid=\"61a087eee9b5e9d3b5d56386\" data-da-position=\"true\">\\n\\t\\t\\t\\t\\t<a href=\"https://m.blog.naver.com/lqud/222568457346\" class=\"theme_thumb\" data-clk=\"tcc_bty.list3cont1\" target=\"_blank\">\\n\\t\\t\\t\\t\\t\\t<img  data-src=\"https://s.pstatic.net/dthumb.phinf/?src&#x3D;%22https%3A%2F%2Fs.pstatic.net%2Fshop.phinf%2F20211129_98%2F1638156013184oudmO_JPEG%2F1-1.jpg%3Ftype%3Df342_342%22&amp;type&#x3D;nf340_228\" alt=\"레미유 섀도 팔레트\" width=\"170\" height=\"114\">\\n\\t\\t\\t\\t\\t\\t<span class=\"thumb_bd\"></span>\\n\\t\\t\\t\\t\\t</a>\\n\\t\\t\\t\\t\\t<a href=\"https://m.blog.naver.com/lqud/222568457346\" class=\"theme_info\" data-clk=\"tcc_bty.list3cont1\" target=\"_blank\">\\n\\t\\t\\t\\t\\t\\t<em class=\"theme_category\"> 패션뷰티</em>\\n\\t\\t\\t\\t\\t\\t<strong class=\"title elss\">레미유 섀도 팔레트</strong>\\n                        <p class=\"desc\">레미유 아이딜릭 섀도우 팔레트 BR01 코지브라운 / BR02 클래시브라운 7.8g 21,000원 ▶ 14,700원(출시기념 30% 할인 + 패브릭 파우치 증정) 전 아이메이크업할 때 보통 2~3가지 혹은 많아야 4가지 컬러를 사용하는데 맨날 쓰는 색만 쓰다 보니 몸집도 크고 불필요한 색상이 많은 팔레트보다는 미니멀하게 몇 가지 컬러에 집중한 섀도우 팔레트</p>\\n\\t\\t\\t\\t\\t\\t<div class=\"source_box\">\\n\\t\\t\\t\\t\\t\\t\\t<span class=\"date\">4주일 전</span>\\n\\t\\t\\t\\t\\t\\t\\t<span class=\"source\">\\n                                \\n                                <span class=\"source_inner\">제제</span>\\n                            </span>\\n\\t\\t\\t\\t\\t\\t</div>\\n\\t\\t\\t\\t\\t</a>\\n\\t\\t\\t\\t</li>\\n\\t\\t\\t\\n\\t\\t\\t\\t<li class=\"theme_item\" data-gdid=\"aed56704-efa2-4109-b512-b50cc2ba5590\" data-da-position=\"true\">\\n\\t\\t\\t\\t\\t<a href=\"https://post.naver.com/viewer/postView.naver?volumeNo&#x3D;32859069&amp;memberNo&#x3D;44303069\" class=\"theme_thumb\" data-clk=\"tcc_bty.list3cont2\" target=\"_blank\">\\n\\t\\t\\t\\t\\t\\t<img  data-src=\"https://s.pstatic.net/dthumb.phinf/?src&#x3D;%22https%3A%2F%2Fs.pstatic.net%2Fshop.phinf%2F20211202_240%2F1638440370712E8wlI_JPEG%2F4.jpg%3Ftype%3Df342_264%22&amp;type&#x3D;nf340_228\" alt=\"선미, 효민이 선택한 아우터는\" width=\"170\" height=\"114\">\\n\\t\\t\\t\\t\\t\\t<span class=\"thumb_bd\"></span>\\n\\t\\t\\t\\t\\t</a>\\n\\t\\t\\t\\t\\t<a href=\"https://post.naver.com/viewer/postView.naver?volumeNo&#x3D;32859069&amp;memberNo&#x3D;44303069\" class=\"theme_info\" data-clk=\"tcc_bty.list3cont2\" target=\"_blank\">\\n\\t\\t\\t\\t\\t\\t<em class=\"theme_category\"> 패션뷰티</em>\\n\\t\\t\\t\\t\\t\\t<strong class=\"title elss\">선미, 효민이 선택한 아우터는</strong>\\n                        <p class=\"desc\">BRAVO my BEAUTY❤ 매서운 겨울 추위를 한층 더 스타일리시하게맞이하고 싶다면? 요즘 핫 한 셀럽들이 선택한겨울 아우터 스타일링을 체크해 보는 게 좋아. 최근 대세로 떠오른 깔깔이 패딩부터명불허전 무스탕까지! 보온성은 물론, 스타일까지 챙길 수 있는겨울 아우터 스타일링에 대해바로 알아보도록 하자  평소 트렌디한 패션 감각으로 유명한패셔니스타 효민이</p>\\n\\t\\t\\t\\t\\t\\t<div class=\"source_box\">\\n\\t\\t\\t\\t\\t\\t\\t<span class=\"date\">1주일 전</span>\\n\\t\\t\\t\\t\\t\\t\\t<span class=\"source\">\\n                                \\n                                <span class=\"source_inner\">뷰라보 라이프</span>\\n                            </span>\\n\\t\\t\\t\\t\\t\\t</div>\\n\\t\\t\\t\\t\\t</a>\\n\\t\\t\\t\\t</li>\\n\\t\\t\\t\\n\\t\\t\\t\\t<li class=\"theme_item\" data-gdid=\"56dd199e-edd6-4c15-a33e-0b958cbea734\" data-da-position=\"true\">\\n\\t\\t\\t\\t\\t<a href=\"https://post.naver.com/viewer/postView.naver?volumeNo&#x3D;32870621&amp;memberNo&#x3D;35404784\" class=\"theme_thumb\" data-clk=\"tcc_bty.list3cont3\" target=\"_blank\">\\n\\t\\t\\t\\t\\t\\t<img  data-src=\"https://s.pstatic.net/dthumb.phinf/?src&#x3D;%22https%3A%2F%2Fs.pstatic.net%2Fshop.phinf%2F20211202_30%2F1638440390121DjAps_JPEG%2FJH.jpg%3Ftype%3Df342_264%22&amp;type&#x3D;nf340_228\" alt=\"수면 잠옷 / 파자마 추천해 줄게\" width=\"170\" height=\"114\">\\n\\t\\t\\t\\t\\t\\t<span class=\"thumb_bd\"></span>\\n\\t\\t\\t\\t\\t</a>\\n\\t\\t\\t\\t\\t<a href=\"https://post.naver.com/viewer/postView.naver?volumeNo&#x3D;32870621&amp;memberNo&#x3D;35404784\" class=\"theme_info\" data-clk=\"tcc_bty.list3cont3\" target=\"_blank\">\\n\\t\\t\\t\\t\\t\\t<em class=\"theme_category\"> 패션뷰티</em>\\n\\t\\t\\t\\t\\t\\t<strong class=\"title elss\">수면 잠옷 / 파자마 추천해 줄게</strong>\\n                        <p class=\"desc\">집순이들 드루와♥ 잠옷 러버픽! 수면잠옷, 파자마 추천 [에블린, 울랄라파자마, 도로시와] 집에 있는 시간이 늘며 요즘 데일리룩 보다 가장 많이 입게 되는 잠옷★ 한 달 쇼핑 지출 잠옷에 다 쏟아붓는 집순이 &amp; 잠옷 러버들이 추천하는 #수면잠옷 #커플잠옷 가지고 왔으니 집에서도 스타일리시해지는 집순이들의 겨울잠옷 타입별 오늘 함께 골라봐</p>\\n\\t\\t\\t\\t\\t\\t<div class=\"source_box\">\\n\\t\\t\\t\\t\\t\\t\\t<span class=\"date\">1주일 전</span>\\n\\t\\t\\t\\t\\t\\t\\t<span class=\"source\">\\n                                \\n                                <span class=\"source_inner\">걸스픽</span>\\n                            </span>\\n\\t\\t\\t\\t\\t\\t</div>\\n\\t\\t\\t\\t\\t</a>\\n\\t\\t\\t\\t</li>\\n\\t\\t\\t\\n\\t\\t\\t\\t<li class=\"theme_item\" data-gdid=\"bd23d08f-da22-41b7-9046-875d65f084af\" data-da-position=\"true\">\\n\\t\\t\\t\\t\\t<a href=\"https://blog.naver.com/sesamesalt_/222573384498\" class=\"theme_thumb\" data-clk=\"tcc_bty.list3cont4\" target=\"_blank\">\\n\\t\\t\\t\\t\\t\\t<img  data-src=\"https://s.pstatic.net/dthumb.phinf/?src&#x3D;%22https%3A%2F%2Fs.pstatic.net%2Fshop.phinf%2F20211202_111%2F1638440092162pTkCv_JPEG%2Ftk.jpg%3Ftype%3Df342_264%22&amp;type&#x3D;nf340_228\" alt=\"프리메라 페이셜 마일드 필링\" width=\"170\" height=\"114\">\\n\\t\\t\\t\\t\\t\\t<span class=\"thumb_bd\"></span>\\n\\t\\t\\t\\t\\t</a>\\n\\t\\t\\t\\t\\t<a href=\"https://blog.naver.com/sesamesalt_/222573384498\" class=\"theme_info\" data-clk=\"tcc_bty.list3cont4\" target=\"_blank\">\\n\\t\\t\\t\\t\\t\\t<em class=\"theme_category\"> 패션뷰티</em>\\n\\t\\t\\t\\t\\t\\t<strong class=\"title elss\">프리메라 페이셜 마일드 필링</strong>\\n                        <p class=\"desc\">날씨가 추워지면서 피부건조함이 극에 달한것 같아요 ㅠ-ㅠ 건조함은 바로 각질비상사태로 이어지는데요?! 이럴때일수록 피부 속 묵은 각질과 노폐물을 제거해줘야하는데 순하게 마일들 필링할 수 있는 프리메라 제품 소개해드리려고 합니다. 프리메라 페이셜 마일드 필링 부드러운 각질관리와 함께 매끄러운 피부결로 개선해 주는 필링이라 피부가 푸석푸석하고 스킨케어를 듬뿍.</p>\\n\\t\\t\\t\\t\\t\\t<div class=\"source_box\">\\n\\t\\t\\t\\t\\t\\t\\t<span class=\"date\">3주일 전</span>\\n\\t\\t\\t\\t\\t\\t\\t<span class=\"source\">\\n                                \\n                                <span class=\"source_inner\">쎄써미솔트</span>\\n                            </span>\\n\\t\\t\\t\\t\\t\\t</div>\\n\\t\\t\\t\\t\\t</a>\\n\\t\\t\\t\\t</li>\\n\\t\\t\\t\\n\\t\\t\\t\\t<li class=\"theme_item\" data-gdid=\"9b920ee2-f24c-4b67-9f22-e00cfa8dd270\" data-da-position=\"true\">\\n\\t\\t\\t\\t\\t<a href=\"https://post.naver.com/viewer/postView.naver?volumeNo&#x3D;32861471&amp;memberNo&#x3D;38665980\" class=\"theme_thumb\" data-clk=\"tcc_bty.list3cont5\" target=\"_blank\">\\n\\t\\t\\t\\t\\t\\t<img  data-src=\"https://s.pstatic.net/dthumb.phinf/?src&#x3D;%22https%3A%2F%2Fs.pstatic.net%2Fshop.phinf%2F20211201_126%2F1638353766876hrLJA_JPEG%2F2.jpg%3Ftype%3Df342_264%22&amp;type&#x3D;nf340_228\" alt=\"지금 필요한 HOT 슈즈 추천 6\" width=\"170\" height=\"114\">\\n\\t\\t\\t\\t\\t\\t<span class=\"thumb_bd\"></span>\\n\\t\\t\\t\\t\\t</a>\\n\\t\\t\\t\\t\\t<a href=\"https://post.naver.com/viewer/postView.naver?volumeNo&#x3D;32861471&amp;memberNo&#x3D;38665980\" class=\"theme_info\" data-clk=\"tcc_bty.list3cont5\" target=\"_blank\">\\n\\t\\t\\t\\t\\t\\t<em class=\"theme_category\"> 패션뷰티</em>\\n\\t\\t\\t\\t\\t\\t<strong class=\"title elss\">지금 필요한 HOT 슈즈 추천 6</strong>\\n                        <p class=\"desc\">슬슬 겨울을 함께할 포근한 슈즈를 준비해야 할 때! 각자의 성향과 라이프스타일에 따라 세 가지 타입별 추천템을 준비했습니다. 운동화 끈을 묶는 것조차 번거로운 귀차니스트부터 손과 발이 차가운 수족냉증인(人)은 물론, 아무리 추워도 패션은 포기할 수 없는 패션 피플까지. 가히 취향 적중률 100%를 예상하는 성향별 겨울 슈즈 추천템을 지금 바로 확인해볼까요?</p>\\n\\t\\t\\t\\t\\t\\t<div class=\"source_box\">\\n\\t\\t\\t\\t\\t\\t\\t<span class=\"date\">1주일 전</span>\\n\\t\\t\\t\\t\\t\\t\\t<span class=\"source\">\\n                                \\n                                <span class=\"source_inner\">우신사</span>\\n                            </span>\\n\\t\\t\\t\\t\\t\\t</div>\\n\\t\\t\\t\\t\\t</a>\\n\\t\\t\\t\\t</li>\\n\\t\\t\\t\\n\\t\\t</ul>\\n\\t</div>\\n</div>\\n<div class=\"group_theme\" data-block-id=\"\" data-block-code=\"PC-THEME-BEAUTY-MOBILE-RANKING-VIDEO-2\" data-block-type=\"MATERIALS\" data-template-code=\"MOBILE-RANKING-VIDEO-LIST\"\\n\\n\\t data-index=\"\"\\n\\t data-page=\"2\"\\n\\t style=\"display:none\">\\n\\n\\t<div class=\"media_view_wrap type_column\">\\n\\t\\t<div class=\"media_view\">\\n\\t\\t\\t\\n\\t\\t\\t\\t<a href=\"https://tv.naver.com/v/22384831\" class=\"media_area\" data-gdid=\"1242e6be-702e-4b82-a198-41cf61b97ea6\" data-clk=\"tcc_bty.video3cont1\" target=\"_blank\">\\n\\t\\t\\t\\t\\t<div class=\"media_thumb\">\\n\\t\\t\\t\\t\\t\\t<img  data-src=\"https://s.pstatic.net/dthumb.phinf/?src&#x3D;%22https%3A%2F%2Fs.pstatic.net%2Fshop.phinf%2F20211007_295%2F1633596470719RyEAp_JPEG%2F1632979602172.jpg%3Ftype%3Df342_264%22&amp;type&#x3D;nf464_260\" alt=\"워커부터 로퍼, 첼시부츠까지\" width=\"232\" height=\"130\">\\n\\t\\t\\t\\t\\t\\t<span class=\"thumb_dim\"></span>\\n\\t\\t\\t\\t\\t\\t<span class=\"thumb_bd\"></span>\\n\\t\\t\\t\\t\\t\\t<i class=\"pm_ico_play\"><span class=\"blind\">재생</span></i>\\n\\t\\t\\t\\t\\t\\t<span class=\"theme_runtime\"><span class=\"runtime_bg\">재생시간</span><em class=\"time\">11:01</em></span>\\n\\t\\t\\t\\t\\t</div>\\n\\t\\t\\t\\t\\t<div class=\"media_info\">\\n\\t\\t\\t\\t\\t\\t<div class=\"info_box\">\\n\\t\\t\\t\\t\\t\\t\\t<strong class=\"title\">워커부터 로퍼, 첼시부츠까지</strong>\\n\\t\\t\\t\\t\\t\\t\\t<div class=\"source_wrap\">\\n\\t\\t\\t\\t\\t\\t\\t\\t<span class=\"date\">3개월 전</span>\\n\\t\\t\\t\\t\\t\\t\\t\\t<span class=\"source\">\\n                                    \\n                                    <span class=\"source_inner\">옆집언니 최실장</span>\\n                                </span>\\n\\t\\t\\t\\t\\t\\t\\t</div>\\n\\t\\t\\t\\t\\t\\t</div>\\n\\t\\t\\t\\t\\t</div>\\n\\t\\t\\t\\t</a>\\n\\t\\t\\t\\n\\t\\t\\t\\t<a href=\"https://tv.naver.com/v/22820633\" class=\"media_area\" data-gdid=\"42b9dd65-46d9-4ca9-b012-b03b17f4a5cf\" data-clk=\"tcc_bty.video3cont2\" target=\"_blank\">\\n\\t\\t\\t\\t\\t<div class=\"media_thumb\">\\n\\t\\t\\t\\t\\t\\t<img  data-src=\"https://s.pstatic.net/dthumb.phinf/?src&#x3D;%22https%3A%2F%2Fs.pstatic.net%2Fshop.phinf%2F20211007_74%2F1633596157560ltzvx_JPEG%2F1633513266503.jpg%3Ftype%3Df342_264%22&amp;type&#x3D;nf464_260\" alt=\"스우파 스타일 메이크업 도전\" width=\"232\" height=\"130\">\\n\\t\\t\\t\\t\\t\\t<span class=\"thumb_dim\"></span>\\n\\t\\t\\t\\t\\t\\t<span class=\"thumb_bd\"></span>\\n\\t\\t\\t\\t\\t\\t<i class=\"pm_ico_play\"><span class=\"blind\">재생</span></i>\\n\\t\\t\\t\\t\\t\\t<span class=\"theme_runtime\"><span class=\"runtime_bg\">재생시간</span><em class=\"time\">08:44</em></span>\\n\\t\\t\\t\\t\\t</div>\\n\\t\\t\\t\\t\\t<div class=\"media_info\">\\n\\t\\t\\t\\t\\t\\t<div class=\"info_box\">\\n\\t\\t\\t\\t\\t\\t\\t<strong class=\"title\">스우파 스타일 메이크업 도전</strong>\\n\\t\\t\\t\\t\\t\\t\\t<div class=\"source_wrap\">\\n\\t\\t\\t\\t\\t\\t\\t\\t<span class=\"date\">2개월 전</span>\\n\\t\\t\\t\\t\\t\\t\\t\\t<span class=\"source\">\\n                                    \\n                                    <span class=\"source_inner\">백지수의 미미백</span>\\n                                </span>\\n\\t\\t\\t\\t\\t\\t\\t</div>\\n\\t\\t\\t\\t\\t\\t</div>\\n\\t\\t\\t\\t\\t</div>\\n\\t\\t\\t\\t</a>\\n\\t\\t\\t\\n\\t\\t\\t\\t<a href=\"https://tv.naver.com/v/22666153\" class=\"media_area\" data-gdid=\"1d320090-d12f-4ac5-a65f-bdaf164eaf43\" data-clk=\"tcc_bty.video3cont3\" target=\"_blank\">\\n\\t\\t\\t\\t\\t<div class=\"media_thumb\">\\n\\t\\t\\t\\t\\t\\t<img  data-src=\"https://s.pstatic.net/dthumb.phinf/?src&#x3D;%22https%3A%2F%2Fs.pstatic.net%2Fshop.phinf%2F20211005_180%2F1633421677693sh9bC_JPEG%2F1632979687664.jpg%3Ftype%3Df342_264%22&amp;type&#x3D;nf464_260\" alt=\"딱 하나만 제대로 사야한다면\" width=\"232\" height=\"130\">\\n\\t\\t\\t\\t\\t\\t<span class=\"thumb_dim\"></span>\\n\\t\\t\\t\\t\\t\\t<span class=\"thumb_bd\"></span>\\n\\t\\t\\t\\t\\t\\t<i class=\"pm_ico_play\"><span class=\"blind\">재생</span></i>\\n\\t\\t\\t\\t\\t\\t<span class=\"theme_runtime\"><span class=\"runtime_bg\">재생시간</span><em class=\"time\">10:31</em></span>\\n\\t\\t\\t\\t\\t</div>\\n\\t\\t\\t\\t\\t<div class=\"media_info\">\\n\\t\\t\\t\\t\\t\\t<div class=\"info_box\">\\n\\t\\t\\t\\t\\t\\t\\t<strong class=\"title\">딱 하나만 제대로 사야한다면</strong>\\n\\t\\t\\t\\t\\t\\t\\t<div class=\"source_wrap\">\\n\\t\\t\\t\\t\\t\\t\\t\\t<span class=\"date\">2개월 전</span>\\n\\t\\t\\t\\t\\t\\t\\t\\t<span class=\"source\">\\n                                    \\n                                    <span class=\"source_inner\">옆집언니 최실장</span>\\n                                </span>\\n\\t\\t\\t\\t\\t\\t\\t</div>\\n\\t\\t\\t\\t\\t\\t</div>\\n\\t\\t\\t\\t\\t</div>\\n\\t\\t\\t\\t</a>\\n\\t\\t\\t\\n\\t\\t</div>\\n\\t</div>\\n</div>\\n<div class=\"group_theme\" data-block-id=\"\" data-block-code=\"PC-THEME-BEAUTY-MOBILE-RANKING-DEFAULT-3\" data-block-type=\"MATERIALS\" data-template-code=\"MOBILE-RANKING-LIST\"\\n\\n\\t data-da=\"container\"\\n\\t data-index=\"\"\\n     data-page=\"2\"\\n\\t style=\"display:none\">\\n\\n\\t<div class=\"list_theme_wrap\">\\n\\t\\t<ul class=\"list_theme\">\\n\\t\\t\\t\\n\\t\\t\\t\\t<li class=\"theme_item\" data-gdid=\"61a74cdd127e006243ce5c20\" data-da-position=\"true\">\\n\\t\\t\\t\\t\\t<a href=\"https://blog.naver.com/dvd671/222569882147\" class=\"theme_thumb\" data-clk=\"tcc_bty.list4cont1\" target=\"_blank\">\\n\\t\\t\\t\\t\\t\\t<img  data-src=\"https://s.pstatic.net/dthumb.phinf/?src&#x3D;%22https%3A%2F%2Fs.pstatic.net%2Fshop.phinf%2F20211201_290%2F1638354035316xBrh8_JPEG%2F3.jpg%3Ftype%3Df342_264%22&amp;type&#x3D;nf340_228\" alt=\"한율 달빛 유자 수면팩 써봐\" width=\"170\" height=\"114\">\\n\\t\\t\\t\\t\\t\\t<span class=\"thumb_bd\"></span>\\n\\t\\t\\t\\t\\t</a>\\n\\t\\t\\t\\t\\t<a href=\"https://blog.naver.com/dvd671/222569882147\" class=\"theme_info\" data-clk=\"tcc_bty.list4cont1\" target=\"_blank\">\\n\\t\\t\\t\\t\\t\\t<em class=\"theme_category\"> 패션뷰티</em>\\n\\t\\t\\t\\t\\t\\t<strong class=\"title elss\">한율 달빛 유자 수면팩 써봐</strong>\\n                        <p class=\"desc\">안녕하세요 아모레퍼시픽 슈가로즈 입니다 오늘은 자기 전 사용하면 다음날 아침까지 촉촉하게~ 화장 잘 먹는 꿀피부 만들어 주는 나이트케어 필수템, #한율달빛유자수면팩60ml 들고왔어요 나이트케어 어떻게 하고 계신가요? 봄 여름 가을 겨울 상관 없이 자기 전 어떻게 스킨케어를 하느냐가 다음날 아침 피부 컨디션에도 어느정도 영향을 미치는 것 같더라고요 물론, 꿀</p>\\n\\t\\t\\t\\t\\t\\t<div class=\"source_box\">\\n\\t\\t\\t\\t\\t\\t\\t<span class=\"date\">4주일 전</span>\\n\\t\\t\\t\\t\\t\\t\\t<span class=\"source\">\\n                                \\n                                <span class=\"source_inner\">뷰스타 슈가로즈</span>\\n                            </span>\\n\\t\\t\\t\\t\\t\\t</div>\\n\\t\\t\\t\\t\\t</a>\\n\\t\\t\\t\\t</li>\\n\\t\\t\\t\\n\\t\\t\\t\\t<li class=\"theme_item\" data-gdid=\"619de9fee9b5e9d3b5d5001b\" data-da-position=\"true\">\\n\\t\\t\\t\\t\\t<a href=\"https://m.blog.naver.com/a_kim33/222539591687\" class=\"theme_thumb\" data-clk=\"tcc_bty.list4cont2\" target=\"_blank\">\\n\\t\\t\\t\\t\\t\\t<img  data-src=\"https://s.pstatic.net/dthumb.phinf/?src&#x3D;%22https%3A%2F%2Fs.pstatic.net%2Fshop.phinf%2F20211125_248%2F1637825094078fHInE_JPEG%2F%25BA%25E41_1124.jpg%3Ftype%3Df342_342%22&amp;type&#x3D;nf340_228\" alt=\"세잔느 아이섀도\" width=\"170\" height=\"114\">\\n\\t\\t\\t\\t\\t\\t<span class=\"thumb_bd\"></span>\\n\\t\\t\\t\\t\\t</a>\\n\\t\\t\\t\\t\\t<a href=\"https://m.blog.naver.com/a_kim33/222539591687\" class=\"theme_info\" data-clk=\"tcc_bty.list4cont2\" target=\"_blank\">\\n\\t\\t\\t\\t\\t\\t<em class=\"theme_category\"> 패션뷰티</em>\\n\\t\\t\\t\\t\\t\\t<strong class=\"title elss\">세잔느 아이섀도</strong>\\n                        <p class=\"desc\">안녕하세요, 아킴입니다 :) 갑자기 조용히.. 잠적을 감췄던.. 아니 사실 늘 곁에 있었지만 홍보가 약했던 게 아닌가 싶어요... ^^ 수채화 색조 하면 세잔느, 세잔느 하면 수채화 색조죠. 특유의 그 맑은 느낌 때문에... 물귀신에 홀린 듯 저도 사 모았었는데요 ㅋㅋ 가을, 가을인의 마음을 저격한 신상이 나오게 되었습니다.. (두둥!) 제품력도 좋아서 하</p>\\n\\t\\t\\t\\t\\t\\t<div class=\"source_box\">\\n\\t\\t\\t\\t\\t\\t\\t<span class=\"date\">1개월 전</span>\\n\\t\\t\\t\\t\\t\\t\\t<span class=\"source\">\\n                                \\n                                <span class=\"source_inner\">아킴</span>\\n                            </span>\\n\\t\\t\\t\\t\\t\\t</div>\\n\\t\\t\\t\\t\\t</a>\\n\\t\\t\\t\\t</li>\\n\\t\\t\\t\\n\\t\\t\\t\\t<li class=\"theme_item\" data-gdid=\"17fb8e19-2ac5-4706-a16a-99160f634b7e\" data-da-position=\"true\">\\n\\t\\t\\t\\t\\t<a href=\"https://post.naver.com/viewer/postView.naver?volumeNo&#x3D;32811656&amp;memberNo&#x3D;34329665\" class=\"theme_thumb\" data-clk=\"tcc_bty.list4cont3\" target=\"_blank\">\\n\\t\\t\\t\\t\\t\\t<img  data-src=\"https://s.pstatic.net/dthumb.phinf/?src&#x3D;%22https%3A%2F%2Fs.pstatic.net%2Fshop.phinf%2F20211130_182%2F163825632124293HY8_JPEG%2Ferh.jpg%3Ftype%3Df342_264%22&amp;type&#x3D;nf340_228\" alt=\"무드를 완성해 줄 액세서리. zip\" width=\"170\" height=\"114\">\\n\\t\\t\\t\\t\\t\\t<span class=\"thumb_bd\"></span>\\n\\t\\t\\t\\t\\t</a>\\n\\t\\t\\t\\t\\t<a href=\"https://post.naver.com/viewer/postView.naver?volumeNo&#x3D;32811656&amp;memberNo&#x3D;34329665\" class=\"theme_info\" data-clk=\"tcc_bty.list4cont3\" target=\"_blank\">\\n\\t\\t\\t\\t\\t\\t<em class=\"theme_category\"> 패션뷰티</em>\\n\\t\\t\\t\\t\\t\\t<strong class=\"title elss\">무드를 완성해 줄 액세서리. zip</strong>\\n                        <p class=\"desc\">어그부츠부터비니, 목도리까지-오늘은따뜻하고 스타일리시한겨울 코디를 위한액세서리들을 살펴보았어요 :)함께 보실까요? 포근한 겨울 무드어그부츠 한때 겨울 유행템으로큰 인기를 끌었던어그부츠.한동안 인기가 사라지는 듯했으나최근 숏패딩, 후리스와 매치하기 좋은핫 아이템으로다시 유행하기 시작했는데요~포근한 겨울 무드 연출에 제격인어그부츠를 살펴볼게요! 가장 기본 스타</p>\\n\\t\\t\\t\\t\\t\\t<div class=\"source_box\">\\n\\t\\t\\t\\t\\t\\t\\t<span class=\"date\">2주일 전</span>\\n\\t\\t\\t\\t\\t\\t\\t<span class=\"source\">\\n                                \\n                                <span class=\"source_inner\">마고의 패션뷰티</span>\\n                            </span>\\n\\t\\t\\t\\t\\t\\t</div>\\n\\t\\t\\t\\t\\t</a>\\n\\t\\t\\t\\t</li>\\n\\t\\t\\t\\n\\t\\t\\t\\t<li class=\"theme_item\" data-gdid=\"4531a8f9-04d5-4d11-98c9-752c077c88bf\" data-da-position=\"true\">\\n\\t\\t\\t\\t\\t<a href=\"https://blog.naver.com/cubbobbo/222553011556\" class=\"theme_thumb\" data-clk=\"tcc_bty.list4cont4\" target=\"_blank\">\\n\\t\\t\\t\\t\\t\\t<img  data-src=\"https://s.pstatic.net/dthumb.phinf/?src&#x3D;%22https%3A%2F%2Fs.pstatic.net%2Fshop.phinf%2F20211130_143%2F1638256650724UevfH_JPEG%2F45.jpg%3Ftype%3Df342_264%22&amp;type&#x3D;nf340_228\" alt=\"라네즈 피토알렉신 기초 세트\" width=\"170\" height=\"114\">\\n\\t\\t\\t\\t\\t\\t<span class=\"thumb_bd\"></span>\\n\\t\\t\\t\\t\\t</a>\\n\\t\\t\\t\\t\\t<a href=\"https://blog.naver.com/cubbobbo/222553011556\" class=\"theme_info\" data-clk=\"tcc_bty.list4cont4\" target=\"_blank\">\\n\\t\\t\\t\\t\\t\\t<em class=\"theme_category\"> 패션뷰티</em>\\n\\t\\t\\t\\t\\t\\t<strong class=\"title elss\">라네즈 피토알렉신 기초 세트</strong>\\n                        <p class=\"desc\">안녕하세요 뷰스타 쉬늉입니다 :) 평소 저는 피부가 좋다는 소리를 듣곤 하는데요 하지만 이것은 당사자가 아니기에 할 수 있는 말.. 속에서 어찌나 당기는지 특히 겨울이 다가오는 가을이라 그런지 유독 더 당김이 심한 것 같아요 마스-크를 쓰고 다니기 때문에 노 파운데이션 메이크업을 하고 있지만 10월이 넘어가니 여기저기 결혼식 소식이 많이 들리더라고요 그럴 </p>\\n\\t\\t\\t\\t\\t\\t<div class=\"source_box\">\\n\\t\\t\\t\\t\\t\\t\\t<span class=\"date\">1개월 전</span>\\n\\t\\t\\t\\t\\t\\t\\t<span class=\"source\">\\n                                \\n                                <span class=\"source_inner\">쉬늉은 건성피부</span>\\n                            </span>\\n\\t\\t\\t\\t\\t\\t</div>\\n\\t\\t\\t\\t\\t</a>\\n\\t\\t\\t\\t</li>\\n\\t\\t\\t\\n\\t\\t\\t\\t<li class=\"theme_item\" data-gdid=\"6195a9381d1c634ee2782d47\" data-da-position=\"true\">\\n\\t\\t\\t\\t\\t<a href=\"https://m.blog.naver.com/dlrmawh77/222554601326\" class=\"theme_thumb\" data-clk=\"tcc_bty.list4cont5\" target=\"_blank\">\\n\\t\\t\\t\\t\\t\\t<img  data-src=\"https://s.pstatic.net/dthumb.phinf/?src&#x3D;%22https%3A%2F%2Fs.pstatic.net%2Fshop.phinf%2F20211123_250%2F1637634971048ODw7i_JPEG%2F%25BC%25F6_04.jpg%3Ftype%3Df342_342%22&amp;type&#x3D;nf340_228\" alt=\"헤라 센슈얼 파우더 매트\" width=\"170\" height=\"114\">\\n\\t\\t\\t\\t\\t\\t<span class=\"thumb_bd\"></span>\\n\\t\\t\\t\\t\\t</a>\\n\\t\\t\\t\\t\\t<a href=\"https://m.blog.naver.com/dlrmawh77/222554601326\" class=\"theme_info\" data-clk=\"tcc_bty.list4cont5\" target=\"_blank\">\\n\\t\\t\\t\\t\\t\\t<em class=\"theme_category\"> 패션뷰티</em>\\n\\t\\t\\t\\t\\t\\t<strong class=\"title elss\">헤라 센슈얼 파우더 매트</strong>\\n                        <p class=\"desc\">안녕하세요 여러분 해찌입니다 ❤ 이제 점점 날씨가 제법 추워졌더라구요! 저는 각질이 많이 없는 편이기도하고, 입술이 건조하지 않는 편이라 4계절내내 매트립을 즐겨 바르는데요:) 이외에 매트립을 꺼려하시는 분들이 꽤나 많으셔서 제가 그런분들을 위해 건조함없이 매트립을 즐길 수 있는 헤라 센슈얼 파우더 매트 보여드릴께요 ꔷ̑◡ꔷ̑ 헤라 센슈얼 파우더 매트 &quot; </p>\\n\\t\\t\\t\\t\\t\\t<div class=\"source_box\">\\n\\t\\t\\t\\t\\t\\t\\t<span class=\"date\">1개월 전</span>\\n\\t\\t\\t\\t\\t\\t\\t<span class=\"source\">\\n                                \\n                                <span class=\"source_inner\">hazzi motd</span>\\n                            </span>\\n\\t\\t\\t\\t\\t\\t</div>\\n\\t\\t\\t\\t\\t</a>\\n\\t\\t\\t\\t</li>\\n\\t\\t\\t\\n\\t\\t</ul>\\n\\t</div>\\n</div>\\n<div class=\"group_theme\" data-block-id=\"\" data-block-code=\"PC-THEME-BEAUTY-MOBILE-RANKING-VIDEO-3\" data-block-type=\"MATERIALS\" data-template-code=\"MOBILE-RANKING-VIDEO-LIST\"\\n\\n\\t data-index=\"\"\\n\\t data-page=\"2\"\\n\\t style=\"display:none\">\\n\\n\\t<div class=\"media_view_wrap type_column\">\\n\\t\\t<div class=\"media_view\">\\n\\t\\t\\t\\n\\t\\t\\t\\t<a href=\"https://tv.naver.com/v/22576204\" class=\"media_area\" data-gdid=\"6e5aa017-6f2f-46eb-9c47-6c2df549a3c3\" data-clk=\"tcc_bty.video4cont1\" target=\"_blank\">\\n\\t\\t\\t\\t\\t<div class=\"media_thumb\">\\n\\t\\t\\t\\t\\t\\t<img  data-src=\"https://s.pstatic.net/dthumb.phinf/?src&#x3D;%22https%3A%2F%2Fs.pstatic.net%2Fshop.phinf%2F20211005_76%2F1633420418481JOT5v_JPEG%2F1632381010451.jpg%3Ftype%3Df342_264%22&amp;type&#x3D;nf464_260\" alt=\"갓성비 탄력 앰플 &amp; 크림 추천\" width=\"232\" height=\"130\">\\n\\t\\t\\t\\t\\t\\t<span class=\"thumb_dim\"></span>\\n\\t\\t\\t\\t\\t\\t<span class=\"thumb_bd\"></span>\\n\\t\\t\\t\\t\\t\\t<i class=\"pm_ico_play\"><span class=\"blind\">재생</span></i>\\n\\t\\t\\t\\t\\t\\t<span class=\"theme_runtime\"><span class=\"runtime_bg\">재생시간</span><em class=\"time\">08:51</em></span>\\n\\t\\t\\t\\t\\t</div>\\n\\t\\t\\t\\t\\t<div class=\"media_info\">\\n\\t\\t\\t\\t\\t\\t<div class=\"info_box\">\\n\\t\\t\\t\\t\\t\\t\\t<strong class=\"title\">갓성비 탄력 앰플 & 크림 추천</strong>\\n\\t\\t\\t\\t\\t\\t\\t<div class=\"source_wrap\">\\n\\t\\t\\t\\t\\t\\t\\t\\t<span class=\"date\">2개월 전</span>\\n\\t\\t\\t\\t\\t\\t\\t\\t<span class=\"source\">\\n                                    \\n                                    <span class=\"source_inner\">채정안TV</span>\\n                                </span>\\n\\t\\t\\t\\t\\t\\t\\t</div>\\n\\t\\t\\t\\t\\t\\t</div>\\n\\t\\t\\t\\t\\t</div>\\n\\t\\t\\t\\t</a>\\n\\t\\t\\t\\n\\t\\t\\t\\t<a href=\"https://tv.naver.com/v/22683016\" class=\"media_area\" data-gdid=\"5c658a8e-f559-4eaf-9ef1-128adf4f19b0\" data-clk=\"tcc_bty.video4cont2\" target=\"_blank\">\\n\\t\\t\\t\\t\\t<div class=\"media_thumb\">\\n\\t\\t\\t\\t\\t\\t<img  data-src=\"https://s.pstatic.net/dthumb.phinf/?src&#x3D;%22https%3A%2F%2Fs.pstatic.net%2Fshop.phinf%2F20211005_141%2F1633420926640NyaSV_JPEG%2F1632900585344.jpg%3Ftype%3Df342_264%22&amp;type&#x3D;nf464_260\" alt=\"자라 하반기 잇템 리스트 체크\" width=\"232\" height=\"130\">\\n\\t\\t\\t\\t\\t\\t<span class=\"thumb_dim\"></span>\\n\\t\\t\\t\\t\\t\\t<span class=\"thumb_bd\"></span>\\n\\t\\t\\t\\t\\t\\t<i class=\"pm_ico_play\"><span class=\"blind\">재생</span></i>\\n\\t\\t\\t\\t\\t\\t<span class=\"theme_runtime\"><span class=\"runtime_bg\">재생시간</span><em class=\"time\">08:00</em></span>\\n\\t\\t\\t\\t\\t</div>\\n\\t\\t\\t\\t\\t<div class=\"media_info\">\\n\\t\\t\\t\\t\\t\\t<div class=\"info_box\">\\n\\t\\t\\t\\t\\t\\t\\t<strong class=\"title\">자라 하반기 잇템 리스트 체크</strong>\\n\\t\\t\\t\\t\\t\\t\\t<div class=\"source_wrap\">\\n\\t\\t\\t\\t\\t\\t\\t\\t<span class=\"date\">2개월 전</span>\\n\\t\\t\\t\\t\\t\\t\\t\\t<span class=\"source\">\\n                                    \\n                                    <span class=\"source_inner\">채정안TV</span>\\n                                </span>\\n\\t\\t\\t\\t\\t\\t\\t</div>\\n\\t\\t\\t\\t\\t\\t</div>\\n\\t\\t\\t\\t\\t</div>\\n\\t\\t\\t\\t</a>\\n\\t\\t\\t\\n\\t\\t\\t\\t<a href=\"https://tv.naver.com/v/22665506\" class=\"media_area\" data-gdid=\"6156ddd3509e8a6ac31c8769\" data-clk=\"tcc_bty.video4cont3\" target=\"_blank\">\\n\\t\\t\\t\\t\\t<div class=\"media_thumb\">\\n\\t\\t\\t\\t\\t\\t<img  data-src=\"https://s.pstatic.net/dthumb.phinf/?src&#x3D;%22https%3A%2F%2Fs.pstatic.net%2Fshop.phinf%2F20211001_246%2F16330827301517yOel_JPEG%2F1632825076479.jpg%3Ftype%3Df342_264%22&amp;type&#x3D;nf464_260\" alt=\"편안하면서 고급스러운 필수템\" width=\"232\" height=\"130\">\\n\\t\\t\\t\\t\\t\\t<span class=\"thumb_dim\"></span>\\n\\t\\t\\t\\t\\t\\t<span class=\"thumb_bd\"></span>\\n\\t\\t\\t\\t\\t\\t<i class=\"pm_ico_play\"><span class=\"blind\">재생</span></i>\\n\\t\\t\\t\\t\\t\\t<span class=\"theme_runtime\"><span class=\"runtime_bg\">재생시간</span><em class=\"time\">07:49</em></span>\\n\\t\\t\\t\\t\\t</div>\\n\\t\\t\\t\\t\\t<div class=\"media_info\">\\n\\t\\t\\t\\t\\t\\t<div class=\"info_box\">\\n\\t\\t\\t\\t\\t\\t\\t<strong class=\"title\">편안하면서 고급스러운 필수템</strong>\\n\\t\\t\\t\\t\\t\\t\\t<div class=\"source_wrap\">\\n\\t\\t\\t\\t\\t\\t\\t\\t<span class=\"date\">2개월 전</span>\\n\\t\\t\\t\\t\\t\\t\\t\\t<span class=\"source\">\\n                                    \\n                                    <span class=\"source_inner\">기은세 (Ki EunSe)</span>\\n                                </span>\\n\\t\\t\\t\\t\\t\\t\\t</div>\\n\\t\\t\\t\\t\\t\\t</div>\\n\\t\\t\\t\\t\\t</div>\\n\\t\\t\\t\\t</a>\\n\\t\\t\\t\\n\\t\\t</div>\\n\\t</div>\\n</div>\\n<div class=\"group_theme\" data-block-id=\"\" data-block-code=\"PC-THEME-BEAUTY-MOBILE-RANKING-DEFAULT-4\" data-block-type=\"MATERIALS\" data-template-code=\"MOBILE-RANKING-LIST\"\\n\\n\\t data-da=\"container\"\\n\\t data-index=\"\"\\n     data-page=\"3\"\\n\\t style=\"display:none\">\\n\\n\\t<div class=\"list_theme_wrap\">\\n\\t\\t<ul class=\"list_theme\">\\n\\t\\t\\t\\n\\t\\t\\t\\t<li class=\"theme_item\" data-gdid=\"6195a936a2822ae7ac70836b\" data-da-position=\"true\">\\n\\t\\t\\t\\t\\t<a href=\"https://m.blog.naver.com/marcella0401/222550060062\" class=\"theme_thumb\" data-clk=\"tcc_bty.list5cont1\" target=\"_blank\">\\n\\t\\t\\t\\t\\t\\t<img  data-src=\"https://s.pstatic.net/dthumb.phinf/?src&#x3D;%22https%3A%2F%2Fs.pstatic.net%2Fshop.phinf%2F20211118_225%2F1637213835579wKe1Y_JPEG%2F%25BC%25F6_04.jpg%3Ftype%3Df342_342%22&amp;type&#x3D;nf340_228\" alt=\"라네즈 네오쿠션 글로우\" width=\"170\" height=\"114\">\\n\\t\\t\\t\\t\\t\\t<span class=\"thumb_bd\"></span>\\n\\t\\t\\t\\t\\t</a>\\n\\t\\t\\t\\t\\t<a href=\"https://m.blog.naver.com/marcella0401/222550060062\" class=\"theme_info\" data-clk=\"tcc_bty.list5cont1\" target=\"_blank\">\\n\\t\\t\\t\\t\\t\\t<em class=\"theme_category\"> 패션뷰티</em>\\n\\t\\t\\t\\t\\t\\t<strong class=\"title elss\">라네즈 네오쿠션 글로우</strong>\\n                        <p class=\"desc\">안녕하세요! 뷰티블로거 쏭이에요 :) 오늘은! 라네즈의 네오쿠션! 이번엔 글로우쿠션중 한 컬러를 여러분들께 소개 해드리려고 하는데요! 칙칙한 피부톤에도 24시간 스스로 빛나는 반사광 피부로 셋팅해주는 다이아 글로우 쿠션인 라네즈 네오쿠션 글로우 ! 원래의 네오쿠션은 초록색이지만, 글로우 컬러는 핑크색으로 핑크덕후들 마음 울리는 컬러랍니다 ! 컬러칩은 이렇게</p>\\n\\t\\t\\t\\t\\t\\t<div class=\"source_box\">\\n\\t\\t\\t\\t\\t\\t\\t<span class=\"date\">1개월 전</span>\\n\\t\\t\\t\\t\\t\\t\\t<span class=\"source\">\\n                                \\n                                <span class=\"source_inner\">뷰스타 쏭이또니</span>\\n                            </span>\\n\\t\\t\\t\\t\\t\\t</div>\\n\\t\\t\\t\\t\\t</a>\\n\\t\\t\\t\\t</li>\\n\\t\\t\\t\\n\\t\\t\\t\\t<li class=\"theme_item\" data-gdid=\"61935ecc1d1c634ee277dede\" data-da-position=\"true\">\\n\\t\\t\\t\\t\\t<a href=\"https://m.blog.naver.com/0226orange/222555484609\" class=\"theme_thumb\" data-clk=\"tcc_bty.list5cont2\" target=\"_blank\">\\n\\t\\t\\t\\t\\t\\t<img  data-src=\"https://s.pstatic.net/dthumb.phinf/?src&#x3D;%22https%3A%2F%2Fs.pstatic.net%2Fshop.phinf%2F20211118_182%2F1637213796817Cs8mT_JPEG%2F%25BC%25F6_03.jpg%3Ftype%3Df342_342%22&amp;type&#x3D;nf340_228\" alt=\"라네즈 피토베타인\" width=\"170\" height=\"114\">\\n\\t\\t\\t\\t\\t\\t<span class=\"thumb_bd\"></span>\\n\\t\\t\\t\\t\\t</a>\\n\\t\\t\\t\\t\\t<a href=\"https://m.blog.naver.com/0226orange/222555484609\" class=\"theme_info\" data-clk=\"tcc_bty.list5cont2\" target=\"_blank\">\\n\\t\\t\\t\\t\\t\\t<em class=\"theme_category\"> 패션뷰티</em>\\n\\t\\t\\t\\t\\t\\t<strong class=\"title elss\">라네즈 피토베타인</strong>\\n                        <p class=\"desc\">여러분, 그거 아세요? 제품명에 &#x27;피토(Phyto)&#x27;가 붙으면 아묻따 무조건 내 맘속에 저장★ 해둬야 하는 거...? &#x27;Phyto-&#x27; 의 사전적인 의미는 식물을 의미하는 단어인데요- 의학계는 물론 독일어 · 프랑스어에서도 식물을 뜻하기 때문에 만약 #스킨케어 #기초템 에 이 단어가 보인다? 그러면 일단 식물유래 성분이 들어갔구나~ 하고 기본점수 쫙 깔아둔 </p>\\n\\t\\t\\t\\t\\t\\t<div class=\"source_box\">\\n\\t\\t\\t\\t\\t\\t\\t<span class=\"date\">1개월 전</span>\\n\\t\\t\\t\\t\\t\\t\\t<span class=\"source\">\\n                                \\n                                <span class=\"source_inner\">금귤</span>\\n                            </span>\\n\\t\\t\\t\\t\\t\\t</div>\\n\\t\\t\\t\\t\\t</a>\\n\\t\\t\\t\\t</li>\\n\\t\\t\\t\\n\\t\\t\\t\\t<li class=\"theme_item\" data-gdid=\"61935ecc1d1c634ee277dedf\" data-da-position=\"true\">\\n\\t\\t\\t\\t\\t<a href=\"https://m.blog.naver.com/sesamesalt_/222568156086\" class=\"theme_thumb\" data-clk=\"tcc_bty.list5cont3\" target=\"_blank\">\\n\\t\\t\\t\\t\\t\\t<img  data-src=\"https://s.pstatic.net/dthumb.phinf/?src&#x3D;%22https%3A%2F%2Fs.pstatic.net%2Fshop.phinf%2F20211118_126%2F1637213800986xOLeA_JPEG%2F%25BC%25F6_04.jpg%3Ftype%3Df342_342%22&amp;type&#x3D;nf340_228\" alt=\"아이오페 스템3 앰플\" width=\"170\" height=\"114\">\\n\\t\\t\\t\\t\\t\\t<span class=\"thumb_bd\"></span>\\n\\t\\t\\t\\t\\t</a>\\n\\t\\t\\t\\t\\t<a href=\"https://m.blog.naver.com/sesamesalt_/222568156086\" class=\"theme_info\" data-clk=\"tcc_bty.list5cont3\" target=\"_blank\">\\n\\t\\t\\t\\t\\t\\t<em class=\"theme_category\"> 패션뷰티</em>\\n\\t\\t\\t\\t\\t\\t<strong class=\"title elss\">아이오페 스템3 앰플</strong>\\n                        <p class=\"desc\">안뇽하세요 쎄써미솔트입니다 &#x27;ㅅ&#x27; / 낮아진 기온 때문에 피부에 건조함이 극에 !! 달하면서 푸석함과 탱탱함이 급격하게 줄어든 느낌이들더라구요 ㅠ.ㅠ 이럴 때일수록 안티에이징 집중관리에 들어가야 하는데요 피부코어를 위해 수분 충전과 함께 피부장벽을 케어해 건강하고 탄력있는 피부로 케어하고있습니다. 아이오페 스템3 앰플 50ml #아모레퍼시픽쎄써미솔트 ...</p>\\n\\t\\t\\t\\t\\t\\t<div class=\"source_box\">\\n\\t\\t\\t\\t\\t\\t\\t<span class=\"date\">4주일 전</span>\\n\\t\\t\\t\\t\\t\\t\\t<span class=\"source\">\\n                                \\n                                <span class=\"source_inner\">쎄써미솔트</span>\\n                            </span>\\n\\t\\t\\t\\t\\t\\t</div>\\n\\t\\t\\t\\t\\t</a>\\n\\t\\t\\t\\t</li>\\n\\t\\t\\t\\n\\t\\t\\t\\t<li class=\"theme_item\" data-gdid=\"618cc3c29224fce7be4c4a4c\" data-da-position=\"true\">\\n\\t\\t\\t\\t\\t<a href=\"https://m.blog.naver.com/rattou_8/222558980970\" class=\"theme_thumb\" data-clk=\"tcc_bty.list5cont4\" target=\"_blank\">\\n\\t\\t\\t\\t\\t\\t<img  data-src=\"https://s.pstatic.net/dthumb.phinf/?src&#x3D;%22https%3A%2F%2Fs.pstatic.net%2Fshop.phinf%2F20211118_259%2F16371984910233reSE_JPEG%2F%25BC%25F6_01_%25B1%25B3%25C3%25BC.jpg%3Ftype%3Df342_342%22&amp;type&#x3D;nf340_228\" alt=\"에이지 어웨이 콜라제닉 워터\" width=\"170\" height=\"114\">\\n\\t\\t\\t\\t\\t\\t<span class=\"thumb_bd\"></span>\\n\\t\\t\\t\\t\\t</a>\\n\\t\\t\\t\\t\\t<a href=\"https://m.blog.naver.com/rattou_8/222558980970\" class=\"theme_info\" data-clk=\"tcc_bty.list5cont4\" target=\"_blank\">\\n\\t\\t\\t\\t\\t\\t<em class=\"theme_category\"> 패션뷰티</em>\\n\\t\\t\\t\\t\\t\\t<strong class=\"title elss\">에이지 어웨이 콜라제닉 워터</strong>\\n                        <p class=\"desc\">헤라 에이지 어웨이 콜라제닉 워터 [ 쿠폰 적용 시 할인가 ] 150ml 정상가 55,000원 할인가 44,550원 안녕하세요. 랏뚜입니다 &#x27;ㅅ&#x27;)/ 오늘은 최근 제가 아빠를 위해 준비한 헤라 에이지어웨이 콜라제닉 워터 소개 드리려고 합니다 사실 지난번 헤라 에이지어웨이 콜라제닉 세럼 사용하고 너무 만족스러워서 재주문을 하려고 했는데 인기가 많아 그새 품절</p>\\n\\t\\t\\t\\t\\t\\t<div class=\"source_box\">\\n\\t\\t\\t\\t\\t\\t\\t<span class=\"date\">1개월 전</span>\\n\\t\\t\\t\\t\\t\\t\\t<span class=\"source\">\\n                                \\n                                <span class=\"source_inner\">랏뚜</span>\\n                            </span>\\n\\t\\t\\t\\t\\t\\t</div>\\n\\t\\t\\t\\t\\t</a>\\n\\t\\t\\t\\t</li>\\n\\t\\t\\t\\n\\t\\t\\t\\t<li class=\"theme_item\" data-gdid=\"2ff44a43-33d2-477a-8eba-64ad3fb9bfc3\" data-da-position=\"true\">\\n\\t\\t\\t\\t\\t<a href=\"https://post.naver.com/viewer/postView.naver?volumeNo&#x3D;32720603&amp;memberNo&#x3D;34329665\" class=\"theme_thumb\" data-clk=\"tcc_bty.list5cont5\" target=\"_blank\">\\n\\t\\t\\t\\t\\t\\t<img  data-src=\"https://s.pstatic.net/dthumb.phinf/?src&#x3D;%22https%3A%2F%2Fs.pstatic.net%2Fshop.phinf%2F20211112_280%2F1636711275135Qd8ax_JPEG%2FKakaoTalk_20211108_113830242_%25281%2529.jpg%3Ftype%3Df342_264%22&amp;type&#x3D;nf340_228\" alt=\"선물하기 좋은 커플템 추천해줌\" width=\"170\" height=\"114\">\\n\\t\\t\\t\\t\\t\\t<span class=\"thumb_bd\"></span>\\n\\t\\t\\t\\t\\t</a>\\n\\t\\t\\t\\t\\t<a href=\"https://post.naver.com/viewer/postView.naver?volumeNo&#x3D;32720603&amp;memberNo&#x3D;34329665\" class=\"theme_info\" data-clk=\"tcc_bty.list5cont5\" target=\"_blank\">\\n\\t\\t\\t\\t\\t\\t<em class=\"theme_category\"> 패션뷰티</em>\\n\\t\\t\\t\\t\\t\\t<strong class=\"title elss\">선물하기 좋은 커플템 추천해줌</strong>\\n                        <p class=\"desc\">사랑하는 사람과 함께 하는커플 아이템♥대표적인 커플 아이템인커플링 외에도목도리, 후리스, 니트 등다양한 종류로 만나볼 수 있는데요~올겨울가족, 연인, 반려견 등사랑하는 이들과 함께 착용하거나연말 선물로 마음을 전하기 좋은겨울 패션 커플템들을 소개할게요 :) 1. 메종키츠네 목도리  MZ세대 사이에서신명품으로 조명 받고 있는프랑스 라이프 스타일 브랜드메종키츠</p>\\n\\t\\t\\t\\t\\t\\t<div class=\"source_box\">\\n\\t\\t\\t\\t\\t\\t\\t<span class=\"date\">1개월 전</span>\\n\\t\\t\\t\\t\\t\\t\\t<span class=\"source\">\\n                                \\n                                <span class=\"source_inner\">마고의 패션뷰티</span>\\n                            </span>\\n\\t\\t\\t\\t\\t\\t</div>\\n\\t\\t\\t\\t\\t</a>\\n\\t\\t\\t\\t</li>\\n\\t\\t\\t\\n\\t\\t</ul>\\n\\t</div>\\n</div>\\n<div class=\"group_theme\" data-block-id=\"\" data-block-code=\"PC-THEME-BEAUTY-MOBILE-RANKING-VIDEO-4\" data-block-type=\"MATERIALS\" data-template-code=\"MOBILE-RANKING-VIDEO-LIST\"\\n\\n\\t data-index=\"\"\\n\\t data-page=\"3\"\\n\\t style=\"display:none\">\\n\\n\\t<div class=\"media_view_wrap type_column\">\\n\\t\\t<div class=\"media_view\">\\n\\t\\t\\t\\n\\t\\t\\t\\t<a href=\"https://tv.naver.com/v/22574263\" class=\"media_area\" data-gdid=\"7cde047d-bbb1-4381-9627-d6abae03e75a\" data-clk=\"tcc_bty.video5cont1\" target=\"_blank\">\\n\\t\\t\\t\\t\\t<div class=\"media_thumb\">\\n\\t\\t\\t\\t\\t\\t<img  data-src=\"https://s.pstatic.net/dthumb.phinf/?src&#x3D;%22https%3A%2F%2Fs.pstatic.net%2Fshop.phinf%2F20211001_300%2F1633081965574dveip_JPEG%2F1632368275846.jpg%3Ftype%3Df342_264%22&amp;type&#x3D;nf464_260\" alt=\"메이크업 픽서 TOP of TOP 대결\" width=\"232\" height=\"130\">\\n\\t\\t\\t\\t\\t\\t<span class=\"thumb_dim\"></span>\\n\\t\\t\\t\\t\\t\\t<span class=\"thumb_bd\"></span>\\n\\t\\t\\t\\t\\t\\t<i class=\"pm_ico_play\"><span class=\"blind\">재생</span></i>\\n\\t\\t\\t\\t\\t\\t<span class=\"theme_runtime\"><span class=\"runtime_bg\">재생시간</span><em class=\"time\">22:26</em></span>\\n\\t\\t\\t\\t\\t</div>\\n\\t\\t\\t\\t\\t<div class=\"media_info\">\\n\\t\\t\\t\\t\\t\\t<div class=\"info_box\">\\n\\t\\t\\t\\t\\t\\t\\t<strong class=\"title\">메이크업 픽서 TOP of TOP 대결</strong>\\n\\t\\t\\t\\t\\t\\t\\t<div class=\"source_wrap\">\\n\\t\\t\\t\\t\\t\\t\\t\\t<span class=\"date\">2개월 전</span>\\n\\t\\t\\t\\t\\t\\t\\t\\t<span class=\"source\">\\n                                    \\n                                    <span class=\"source_inner\">디렉터파이</span>\\n                                </span>\\n\\t\\t\\t\\t\\t\\t\\t</div>\\n\\t\\t\\t\\t\\t\\t</div>\\n\\t\\t\\t\\t\\t</div>\\n\\t\\t\\t\\t</a>\\n\\t\\t\\t\\n\\t\\t\\t\\t<a href=\"https://tv.naver.com/v/22287847\" class=\"media_area\" data-gdid=\"831c7b3c-edbe-4755-9277-5e72730d9be9\" data-clk=\"tcc_bty.video5cont2\" target=\"_blank\">\\n\\t\\t\\t\\t\\t<div class=\"media_thumb\">\\n\\t\\t\\t\\t\\t\\t<img  data-src=\"https://s.pstatic.net/dthumb.phinf/?src&#x3D;%22https%3A%2F%2Fs.pstatic.net%2Fshop.phinf%2F20211001_42%2F1633082249949lvugR_JPEG%2F1632967120093.jpg%3Ftype%3Df342_264%22&amp;type&#x3D;nf464_260\" alt=\"FW 새롭게 뜨는 패션 트렌드\" width=\"232\" height=\"130\">\\n\\t\\t\\t\\t\\t\\t<span class=\"thumb_dim\"></span>\\n\\t\\t\\t\\t\\t\\t<span class=\"thumb_bd\"></span>\\n\\t\\t\\t\\t\\t\\t<i class=\"pm_ico_play\"><span class=\"blind\">재생</span></i>\\n\\t\\t\\t\\t\\t\\t<span class=\"theme_runtime\"><span class=\"runtime_bg\">재생시간</span><em class=\"time\">13:33</em></span>\\n\\t\\t\\t\\t\\t</div>\\n\\t\\t\\t\\t\\t<div class=\"media_info\">\\n\\t\\t\\t\\t\\t\\t<div class=\"info_box\">\\n\\t\\t\\t\\t\\t\\t\\t<strong class=\"title\">FW 새롭게 뜨는 패션 트렌드</strong>\\n\\t\\t\\t\\t\\t\\t\\t<div class=\"source_wrap\">\\n\\t\\t\\t\\t\\t\\t\\t\\t<span class=\"date\">3개월 전</span>\\n\\t\\t\\t\\t\\t\\t\\t\\t<span class=\"source\">\\n                                    \\n                                    <span class=\"source_inner\">옆집언니 최실장</span>\\n                                </span>\\n\\t\\t\\t\\t\\t\\t\\t</div>\\n\\t\\t\\t\\t\\t\\t</div>\\n\\t\\t\\t\\t\\t</div>\\n\\t\\t\\t\\t</a>\\n\\t\\t\\t\\n\\t\\t\\t\\t<a href=\"https://tv.naver.com/v/22498026\" class=\"media_area\" data-gdid=\"c13d4126-3297-44e9-ba59-8e33ef031d91\" data-clk=\"tcc_bty.video5cont3\" target=\"_blank\">\\n\\t\\t\\t\\t\\t<div class=\"media_thumb\">\\n\\t\\t\\t\\t\\t\\t<img  data-src=\"https://s.pstatic.net/dthumb.phinf/?src&#x3D;%22https%3A%2F%2Fs.pstatic.net%2Fshop.phinf%2F20210930_107%2F16329973720887ikkC_JPEG%2F%25BF%25C0%25B4%25C3%25C0%25C7%25BA%25E4%25C6%25BC_10%25BF%25F95%25C0%25CF_2.jpg%3Ftype%3Df342_264%22&amp;type&#x3D;nf464_260\" alt=\"여드름 피부를 위한 트러블 케어\" width=\"232\" height=\"130\">\\n\\t\\t\\t\\t\\t\\t<span class=\"thumb_dim\"></span>\\n\\t\\t\\t\\t\\t\\t<span class=\"thumb_bd\"></span>\\n\\t\\t\\t\\t\\t\\t<i class=\"pm_ico_play\"><span class=\"blind\">재생</span></i>\\n\\t\\t\\t\\t\\t\\t<span class=\"theme_runtime\"><span class=\"runtime_bg\">재생시간</span><em class=\"time\">00:33</em></span>\\n\\t\\t\\t\\t\\t</div>\\n\\t\\t\\t\\t\\t<div class=\"media_info\">\\n\\t\\t\\t\\t\\t\\t<div class=\"info_box\">\\n\\t\\t\\t\\t\\t\\t\\t<strong class=\"title\">여드름 피부를 위한 트러블 케어</strong>\\n\\t\\t\\t\\t\\t\\t\\t<div class=\"source_wrap\">\\n\\t\\t\\t\\t\\t\\t\\t\\t<span class=\"date\">2개월 전</span>\\n\\t\\t\\t\\t\\t\\t\\t\\t<span class=\"source\">\\n                                    \\n                                    <span class=\"source_inner\">갓신상</span>\\n                                </span>\\n\\t\\t\\t\\t\\t\\t\\t</div>\\n\\t\\t\\t\\t\\t\\t</div>\\n\\t\\t\\t\\t\\t</div>\\n\\t\\t\\t\\t</a>\\n\\t\\t\\t\\n\\t\\t</div>\\n\\t</div>\\n</div>\\n<div class=\"group_theme\" data-block-id=\"\" data-block-code=\"PC-THEME-BEAUTY-MOBILE-RANKING-DEFAULT-5\" data-block-type=\"MATERIALS\" data-template-code=\"MOBILE-RANKING-LIST\"\\n\\n\\t data-da=\"container\"\\n\\t data-index=\"\"\\n     data-page=\"3\"\\n\\t style=\"display:none\">\\n\\n\\t<div class=\"list_theme_wrap\">\\n\\t\\t<ul class=\"list_theme\">\\n\\t\\t\\t\\n\\t\\t\\t\\t<li class=\"theme_item\" data-gdid=\"47979fca-2d2f-423d-b8e1-903dc060e76e\" data-da-position=\"true\">\\n\\t\\t\\t\\t\\t<a href=\"https://blog.naver.com/frenchpopp/222475421249\" class=\"theme_thumb\" data-clk=\"tcc_bty.list6cont1\" target=\"_blank\">\\n\\t\\t\\t\\t\\t\\t<img  data-src=\"https://s.pstatic.net/dthumb.phinf/?src&#x3D;%22https%3A%2F%2Fs.pstatic.net%2Fshop.phinf%2F20211109_232%2F1636435829498JSOkk_JPEG%2F%25BF%25A1%25B8%25A3%25BA%25B8%25B8%25AE%25BE%25D3_02_%25BD%25E63.jpg%3Ftype%3Df226%22&amp;type&#x3D;nf340_228\" alt=\"리뷰 보러가기\" width=\"170\" height=\"114\">\\n\\t\\t\\t\\t\\t\\t<span class=\"thumb_bd\"></span>\\n\\t\\t\\t\\t\\t</a>\\n\\t\\t\\t\\t\\t<a href=\"https://blog.naver.com/frenchpopp/222475421249\" class=\"theme_info\" data-clk=\"tcc_bty.list6cont1\" target=\"_blank\">\\n\\t\\t\\t\\t\\t\\t<em class=\"theme_category\"> 패션뷰티</em>\\n\\t\\t\\t\\t\\t\\t<strong class=\"title elss\">리뷰 보러가기</strong>\\n                        <p class=\"desc\">얼마 전에 제가 좋아하는 비비 크림을 예쁜 캐리어 키트로 만나보게 되었어요. 진짜 요즘은 여행 가고 싶은 마음이 한가득이거든요. SNS를 보면 오래된 여행 사진을 꺼내 보면서 여행 앓이 하는 분들 정말 많더라고요. 당장이라도 떠나고 싶지만 현실은 국내 여행도 조심해야 되는 때! 그래서 오늘은 에르보리앙에서 온 미니 캐리어를 꺼내 놓고 살짝 여행 기분을 내 </p>\\n\\t\\t\\t\\t\\t\\t<div class=\"source_box\">\\n\\t\\t\\t\\t\\t\\t\\t<span class=\"date\">3개월 전</span>\\n\\t\\t\\t\\t\\t\\t\\t<span class=\"source\">\\n                                \\n                                <span class=\"source_inner\">프렌치팝콘</span>\\n                            </span>\\n\\t\\t\\t\\t\\t\\t</div>\\n\\t\\t\\t\\t\\t</a>\\n\\t\\t\\t\\t</li>\\n\\t\\t\\t\\n\\t\\t\\t\\t<li class=\"theme_item\" data-gdid=\"618a1687f61e58e7b39c1a14\" data-da-position=\"true\">\\n\\t\\t\\t\\t\\t<a href=\"https://blog.naver.com/jni_52/222562062760\" class=\"theme_thumb\" data-clk=\"tcc_bty.list6cont2\" target=\"_blank\">\\n\\t\\t\\t\\t\\t\\t<img  data-src=\"https://s.pstatic.net/dthumb.phinf/?src&#x3D;%22https%3A%2F%2Fs.pstatic.net%2Fshop.phinf%2F20211111_158%2F1636623656666JKKCq_JPEG%2FR.jpg%3Ftype%3Df342_264%22&amp;type&#x3D;nf340_228\" alt=\"아이오페 슈퍼바이탈 크림 후기\" width=\"170\" height=\"114\">\\n\\t\\t\\t\\t\\t\\t<span class=\"thumb_bd\"></span>\\n\\t\\t\\t\\t\\t</a>\\n\\t\\t\\t\\t\\t<a href=\"https://blog.naver.com/jni_52/222562062760\" class=\"theme_info\" data-clk=\"tcc_bty.list6cont2\" target=\"_blank\">\\n\\t\\t\\t\\t\\t\\t<em class=\"theme_category\"> 패션뷰티</em>\\n\\t\\t\\t\\t\\t\\t<strong class=\"title elss\">아이오페 슈퍼바이탈 크림 후기</strong>\\n                        <p class=\"desc\">아이오페 슈퍼바이탈 크림 바이오포텐셜 안티에이징 화장품 추천 안녕하세요! 뷰티크리에이터 메이쥬니입니다 :-) 저 아이오페 찐팬인거 아시죠 ㅋㅋㅋ 제 블로그에서 아이오페 검색해보시면 제가 아이오페 기초화장품 리뷰를 여러번 한 거 아실텐데요 ㅋㅋ 아이오페 찐- 덕후로서 안티에이징 화장품은 진짜 아이오페 하세요!! 저한테는 안티에이징 넘버원!!! 요번에 아이오페</p>\\n\\t\\t\\t\\t\\t\\t<div class=\"source_box\">\\n\\t\\t\\t\\t\\t\\t\\t<span class=\"date\">1개월 전</span>\\n\\t\\t\\t\\t\\t\\t\\t<span class=\"source\">\\n                                \\n                                <span class=\"source_inner\">메이쥬니</span>\\n                            </span>\\n\\t\\t\\t\\t\\t\\t</div>\\n\\t\\t\\t\\t\\t</a>\\n\\t\\t\\t\\t</li>\\n\\t\\t\\t\\n\\t\\t\\t\\t<li class=\"theme_item\" data-gdid=\"618a160a9224fce7be4c00ea\" data-da-position=\"true\">\\n\\t\\t\\t\\t\\t<a href=\"https://blog.naver.com/hyun8042/222556373006\" class=\"theme_thumb\" data-clk=\"tcc_bty.list6cont3\" target=\"_blank\">\\n\\t\\t\\t\\t\\t\\t<img  data-src=\"https://s.pstatic.net/dthumb.phinf/?src&#x3D;%22https%3A%2F%2Fs.pstatic.net%2Fshop.phinf%2F20211110_38%2F16365410383749jC6s_JPEG%2FH.jpg%3Ftype%3Df342_264%22&amp;type&#x3D;nf340_228\" alt=\"라네즈 앰플로 속건조까지 해결\" width=\"170\" height=\"114\">\\n\\t\\t\\t\\t\\t\\t<span class=\"thumb_bd\"></span>\\n\\t\\t\\t\\t\\t</a>\\n\\t\\t\\t\\t\\t<a href=\"https://blog.naver.com/hyun8042/222556373006\" class=\"theme_info\" data-clk=\"tcc_bty.list6cont3\" target=\"_blank\">\\n\\t\\t\\t\\t\\t\\t<em class=\"theme_category\"> 패션뷰티</em>\\n\\t\\t\\t\\t\\t\\t<strong class=\"title elss\">라네즈 앰플로 속건조까지 해결</strong>\\n                        <p class=\"desc\">수부지 피부이신 분들 계십니까!!!!! 바로 접니다 저.... 제가 진짜 방금 세수하고 왔는데도 몇 분 후에 부모님이 &#x27;아직도 안 씻었냐~&#x27;하는 사람이거든요 그 정도로 얼굴에 유분기가 많은 POWER 지성인데 요즘은 마스크로 인해 환절기 온도차로 인해 피부가 예민해지다 보니 속건조가 심해져 기름은 넘치지만 수분은 부족한 피부가 되었더라고요 ㅠㅠ 항상 유수분</p>\\n\\t\\t\\t\\t\\t\\t<div class=\"source_box\">\\n\\t\\t\\t\\t\\t\\t\\t<span class=\"date\">1개월 전</span>\\n\\t\\t\\t\\t\\t\\t\\t<span class=\"source\">\\n                                \\n                                <span class=\"source_inner\">꼬소</span>\\n                            </span>\\n\\t\\t\\t\\t\\t\\t</div>\\n\\t\\t\\t\\t\\t</a>\\n\\t\\t\\t\\t</li>\\n\\t\\t\\t\\n\\t\\t\\t\\t<li class=\"theme_item\" data-gdid=\"35cc4e13-101e-42d6-bd04-5753fc622018\" data-da-position=\"true\">\\n\\t\\t\\t\\t\\t<a href=\"https://blog.naver.com/chs3202/222541145407\" class=\"theme_thumb\" data-clk=\"tcc_bty.list6cont4\" target=\"_blank\">\\n\\t\\t\\t\\t\\t\\t<img  data-src=\"https://s.pstatic.net/dthumb.phinf/?src&#x3D;%22https%3A%2F%2Fs.pstatic.net%2Fshop.phinf%2F20211108_294%2F1636362332977mIwsM_JPEG%2Fgr.jpg%3Ftype%3Df342_264%22&amp;type&#x3D;nf340_228\" alt=\"#한율 흰감국 톤업 크림 추천\" width=\"170\" height=\"114\">\\n\\t\\t\\t\\t\\t\\t<span class=\"thumb_bd\"></span>\\n\\t\\t\\t\\t\\t</a>\\n\\t\\t\\t\\t\\t<a href=\"https://blog.naver.com/chs3202/222541145407\" class=\"theme_info\" data-clk=\"tcc_bty.list6cont4\" target=\"_blank\">\\n\\t\\t\\t\\t\\t\\t<em class=\"theme_category\"> 패션뷰티</em>\\n\\t\\t\\t\\t\\t\\t<strong class=\"title elss\">#한율 흰감국 톤업 크림 추천</strong>\\n                        <p class=\"desc\">한율 흰감국 톤업크림추천! 필터 씌운 듯 투명한 톤업 하루 종일 마스크 착용으로 답답한 피부에 수분크림 바르고, 자외선 차단제를 바르고, 베이스로 톤 보정까지 하느라 피부가 무거워지는 느낌에 고민이 생기더라고요. 한 번에 해결할 순 없을까..? 이런 고민을 해결해 줄 만한 제품을 발견했어요. 한율에서 톤업크림이 새로 출시가 되었는데요! 흰감국 톤업크림이라고</p>\\n\\t\\t\\t\\t\\t\\t<div class=\"source_box\">\\n\\t\\t\\t\\t\\t\\t\\t<span class=\"date\">1개월 전</span>\\n\\t\\t\\t\\t\\t\\t\\t<span class=\"source\">\\n                                \\n                                <span class=\"source_inner\">써니블리</span>\\n                            </span>\\n\\t\\t\\t\\t\\t\\t</div>\\n\\t\\t\\t\\t\\t</a>\\n\\t\\t\\t\\t</li>\\n\\t\\t\\t\\n\\t\\t\\t\\t<li class=\"theme_item\" data-gdid=\"6183b3ecf61e58e7b39ba759\" data-da-position=\"true\">\\n\\t\\t\\t\\t\\t<a href=\"https://blog.naver.com/invu1657/222549965811\" class=\"theme_thumb\" data-clk=\"tcc_bty.list6cont5\" target=\"_blank\">\\n\\t\\t\\t\\t\\t\\t<img  data-src=\"https://s.pstatic.net/dthumb.phinf/?src&#x3D;%22https%3A%2F%2Fs.pstatic.net%2Fshop.phinf%2F20211104_256%2F1636021154933slXog_JPEG%2F11%25BF%25F9_6%25C0%25CF_%25BE%25C6%25C0%25CC%25BF%25C0%25C6%25E4_%25BF%25C0%25B4%25C3%25C0%25C7_%25BA%25E4%25C6%25BC%25BC%25D2%25BD%25C4.jpg%3Ftype%3Df342_264%22&amp;type&#x3D;nf340_228\" alt=\"쎈 피부를 위한 30대 안티에이징\" width=\"170\" height=\"114\">\\n\\t\\t\\t\\t\\t\\t<span class=\"thumb_bd\"></span>\\n\\t\\t\\t\\t\\t</a>\\n\\t\\t\\t\\t\\t<a href=\"https://blog.naver.com/invu1657/222549965811\" class=\"theme_info\" data-clk=\"tcc_bty.list6cont5\" target=\"_blank\">\\n\\t\\t\\t\\t\\t\\t<em class=\"theme_category\"> 패션뷰티</em>\\n\\t\\t\\t\\t\\t\\t<strong class=\"title elss\">쎈 피부를 위한 30대 안티에이징</strong>\\n                        <p class=\"desc\">쎈 피부를 위한 30대 안티에이징 크림 추천, 아이오페 포텐크림 2021년도 약 한달밖에 남지 않은 지금, 이대로 시간이 멈추었으면 좋겠다 싶을 만큼 한살 더 나이 먹는 게 넘 싫은 거 있죠? 나이가 들면 당연한 일이지..라고 하기엔 최근 1~2년 가장 피부 노화 속도가 급발진한 느낌이랄까요? 아마도 코시국으로 인해 마스크도 지속적으로 착용하면서 피부 자극</p>\\n\\t\\t\\t\\t\\t\\t<div class=\"source_box\">\\n\\t\\t\\t\\t\\t\\t\\t<span class=\"date\">1개월 전</span>\\n\\t\\t\\t\\t\\t\\t\\t<span class=\"source\">\\n                                \\n                                <span class=\"source_inner\">낭만소녀</span>\\n                            </span>\\n\\t\\t\\t\\t\\t\\t</div>\\n\\t\\t\\t\\t\\t</a>\\n\\t\\t\\t\\t</li>\\n\\t\\t\\t\\n\\t\\t</ul>\\n\\t</div>\\n</div>\\n<div class=\"group_theme\" data-block-id=\"\" data-block-code=\"PC-THEME-BEAUTY-MOBILE-RANKING-VIDEO-5\" data-block-type=\"MATERIALS\" data-template-code=\"MOBILE-RANKING-VIDEO-LIST\"\\n\\n\\t data-index=\"\"\\n\\t data-page=\"3\"\\n\\t style=\"display:none\">\\n\\n\\t<div class=\"media_view_wrap type_column\">\\n\\t\\t<div class=\"media_view\">\\n\\t\\t\\t\\n\\t\\t\\t\\t<a href=\"https://tv.naver.com/v/22504770\" class=\"media_area\" data-gdid=\"f06ba78a-cb6a-404e-a236-6e3e88350b73\" data-clk=\"tcc_bty.video6cont1\" target=\"_blank\">\\n\\t\\t\\t\\t\\t<div class=\"media_thumb\">\\n\\t\\t\\t\\t\\t\\t<img  data-src=\"https://s.pstatic.net/dthumb.phinf/?src&#x3D;%22https%3A%2F%2Fs.pstatic.net%2Fshop.phinf%2F20210930_43%2F1632997682303Wr9H9_JPEG%2F1631847476979.jpg%3Ftype%3Df342_264%22&amp;type&#x3D;nf464_260\" alt=\"스스로 선물한 명품 시계 언박싱\" width=\"232\" height=\"130\">\\n\\t\\t\\t\\t\\t\\t<span class=\"thumb_dim\"></span>\\n\\t\\t\\t\\t\\t\\t<span class=\"thumb_bd\"></span>\\n\\t\\t\\t\\t\\t\\t<i class=\"pm_ico_play\"><span class=\"blind\">재생</span></i>\\n\\t\\t\\t\\t\\t\\t<span class=\"theme_runtime\"><span class=\"runtime_bg\">재생시간</span><em class=\"time\">06:42</em></span>\\n\\t\\t\\t\\t\\t</div>\\n\\t\\t\\t\\t\\t<div class=\"media_info\">\\n\\t\\t\\t\\t\\t\\t<div class=\"info_box\">\\n\\t\\t\\t\\t\\t\\t\\t<strong class=\"title\">스스로 선물한 명품 시계 언박싱</strong>\\n\\t\\t\\t\\t\\t\\t\\t<div class=\"source_wrap\">\\n\\t\\t\\t\\t\\t\\t\\t\\t<span class=\"date\">2개월 전</span>\\n\\t\\t\\t\\t\\t\\t\\t\\t<span class=\"source\">\\n                                    \\n                                    <span class=\"source_inner\">채정안TV</span>\\n                                </span>\\n\\t\\t\\t\\t\\t\\t\\t</div>\\n\\t\\t\\t\\t\\t\\t</div>\\n\\t\\t\\t\\t\\t</div>\\n\\t\\t\\t\\t</a>\\n\\t\\t\\t\\n\\t\\t\\t\\t<a href=\"https://tv.naver.com/v/22497993\" class=\"media_area\" data-gdid=\"61545aa5ed257d2befa2e9fb\" data-clk=\"tcc_bty.video6cont2\" target=\"_blank\">\\n\\t\\t\\t\\t\\t<div class=\"media_thumb\">\\n\\t\\t\\t\\t\\t\\t<img  data-src=\"https://s.pstatic.net/dthumb.phinf/?src&#x3D;%22https%3A%2F%2Fs.pstatic.net%2Fshop.phinf%2F20210929_233%2F1632918146584BTsxu_JPEG%2F%25BF%25C0%25B4%25C3%25C0%25C7%25BA%25EA%25B7%25A3%25B5%25E5%25BC%25D2%25BD%25C4_10%25BF%25F93%25C0%25CF.jpg%3Ftype%3Df342_264%22&amp;type&#x3D;nf464_260\" alt=\"bye od-td, 평생 내돈내산할 제품\" width=\"232\" height=\"130\">\\n\\t\\t\\t\\t\\t\\t<span class=\"thumb_dim\"></span>\\n\\t\\t\\t\\t\\t\\t<span class=\"thumb_bd\"></span>\\n\\t\\t\\t\\t\\t\\t<i class=\"pm_ico_play\"><span class=\"blind\">재생</span></i>\\n\\t\\t\\t\\t\\t\\t<span class=\"theme_runtime\"><span class=\"runtime_bg\">재생시간</span><em class=\"time\">01:02</em></span>\\n\\t\\t\\t\\t\\t</div>\\n\\t\\t\\t\\t\\t<div class=\"media_info\">\\n\\t\\t\\t\\t\\t\\t<div class=\"info_box\">\\n\\t\\t\\t\\t\\t\\t\\t<strong class=\"title\">bye od-td, 평생 내돈내산할 제품</strong>\\n\\t\\t\\t\\t\\t\\t\\t<div class=\"source_wrap\">\\n\\t\\t\\t\\t\\t\\t\\t\\t<span class=\"date\">2개월 전</span>\\n\\t\\t\\t\\t\\t\\t\\t\\t<span class=\"source\">\\n                                    \\n                                    <span class=\"source_inner\">갓신상</span>\\n                                </span>\\n\\t\\t\\t\\t\\t\\t\\t</div>\\n\\t\\t\\t\\t\\t\\t</div>\\n\\t\\t\\t\\t\\t</div>\\n\\t\\t\\t\\t</a>\\n\\t\\t\\t\\n\\t\\t\\t\\t<a href=\"https://tv.naver.com/v/22592342\" class=\"media_area\" data-gdid=\"6152e4006e94b80955ef02aa-d54b1413-8797-4ca4-b9fa-aea9e64f3374\" data-clk=\"tcc_bty.video6cont3\" target=\"_blank\">\\n\\t\\t\\t\\t\\t<div class=\"media_thumb\">\\n\\t\\t\\t\\t\\t\\t<img  data-src=\"https://s.pstatic.net/dthumb.phinf/?src&#x3D;%22https%3A%2F%2Fs.pstatic.net%2Fshop.phinf%2F20210929_173%2F1632885678062w6qHw_JPEG%2FKakaoTalk_20210929_115422275.jpg%3Ftype%3Df342_264%22&amp;type&#x3D;nf464_260\" alt=\"화보 찍기 전 날 나이트 루틴\" width=\"232\" height=\"130\">\\n\\t\\t\\t\\t\\t\\t<span class=\"thumb_dim\"></span>\\n\\t\\t\\t\\t\\t\\t<span class=\"thumb_bd\"></span>\\n\\t\\t\\t\\t\\t\\t<i class=\"pm_ico_play\"><span class=\"blind\">재생</span></i>\\n\\t\\t\\t\\t\\t\\t<span class=\"theme_runtime\"><span class=\"runtime_bg\">재생시간</span><em class=\"time\">09:01</em></span>\\n\\t\\t\\t\\t\\t</div>\\n\\t\\t\\t\\t\\t<div class=\"media_info\">\\n\\t\\t\\t\\t\\t\\t<div class=\"info_box\">\\n\\t\\t\\t\\t\\t\\t\\t<strong class=\"title\">화보 찍기 전 날 나이트 루틴</strong>\\n\\t\\t\\t\\t\\t\\t\\t<div class=\"source_wrap\">\\n\\t\\t\\t\\t\\t\\t\\t\\t<span class=\"date\">2개월 전</span>\\n\\t\\t\\t\\t\\t\\t\\t\\t<span class=\"source\">\\n                                    \\n                                    <span class=\"source_inner\">채정안TV</span>\\n                                </span>\\n\\t\\t\\t\\t\\t\\t\\t</div>\\n\\t\\t\\t\\t\\t\\t</div>\\n\\t\\t\\t\\t\\t</div>\\n\\t\\t\\t\\t</a>\\n\\t\\t\\t\\n\\t\\t</div>\\n\\t</div>\\n</div>\\n<div class=\"group_theme\" data-block-id=\"\" data-block-code=\"PC-THEME-BEAUTY-MOBILE-RANKING-DEFAULT-6\" data-block-type=\"MATERIALS\" data-template-code=\"MOBILE-RANKING-LIST\"\\n\\n\\t data-da=\"container\"\\n\\t data-index=\"\"\\n     data-page=\"4\"\\n\\t style=\"display:none\">\\n\\n\\t<div class=\"list_theme_wrap\">\\n\\t\\t<ul class=\"list_theme\">\\n\\t\\t\\t\\n\\t\\t\\t\\t<li class=\"theme_item\" data-gdid=\"6183b32c634ebe4eed96e2c5\" data-da-position=\"true\">\\n\\t\\t\\t\\t\\t<a href=\"https://blog.naver.com/dbfl8103/222547960234\" class=\"theme_thumb\" data-clk=\"tcc_bty.list7cont1\" target=\"_blank\">\\n\\t\\t\\t\\t\\t\\t<img  data-src=\"https://s.pstatic.net/dthumb.phinf/?src&#x3D;%22https%3A%2F%2Fs.pstatic.net%2Fshop.phinf%2F20211104_261%2F1636020909408SiVzU_JPEG%2F11%25BF%25F9_5%25C0%25CF_%25BE%25C6%25C0%25CC%25BF%25C0%25C6%25E4_%25BF%25C0%25B4%25C3%25C0%25C7_%25BA%25E4%25C6%25BC%25BC%25D2%25BD%25C4.jpg%3Ftype%3Df342_264%22&amp;type&#x3D;nf340_228\" alt=\"아이오페 신제품 포텐크림\" width=\"170\" height=\"114\">\\n\\t\\t\\t\\t\\t\\t<span class=\"thumb_bd\"></span>\\n\\t\\t\\t\\t\\t</a>\\n\\t\\t\\t\\t\\t<a href=\"https://blog.naver.com/dbfl8103/222547960234\" class=\"theme_info\" data-clk=\"tcc_bty.list7cont1\" target=\"_blank\">\\n\\t\\t\\t\\t\\t\\t<em class=\"theme_category\"> 패션뷰티</em>\\n\\t\\t\\t\\t\\t\\t<strong class=\"title elss\">아이오페 신제품 포텐크림</strong>\\n                        <p class=\"desc\">30대 안티에이징크림 추천 아이오페 신제품 포텐크림 ⓒ2021. 뷰티율 all rights reserved. 안녕하세요 이웃님들^^ 뷰티율 인사드립니다~!! 오늘 소개 해 드릴 뷰티템 너무 궁금하시죠? 이번 뷰티템은 진짜 따끈따끈한 아이오페의 신제품인데요~! 나이가 들 수록 피부 노화는 하루가 다르게 빨리 진행되고 내, 외부적 환경에 의해서 노화가 급발진되</p>\\n\\t\\t\\t\\t\\t\\t<div class=\"source_box\">\\n\\t\\t\\t\\t\\t\\t\\t<span class=\"date\">1개월 전</span>\\n\\t\\t\\t\\t\\t\\t\\t<span class=\"source\">\\n                                \\n                                <span class=\"source_inner\">뷰티율</span>\\n                            </span>\\n\\t\\t\\t\\t\\t\\t</div>\\n\\t\\t\\t\\t\\t</a>\\n\\t\\t\\t\\t</li>\\n\\t\\t\\t\\n\\t\\t\\t\\t<li class=\"theme_item\" data-gdid=\"be08e168-27fb-4d27-8ab1-5757f11c4d6b\" data-da-position=\"true\">\\n\\t\\t\\t\\t\\t<a href=\"https://blog.naver.com/haha1126gk/222543840337\" class=\"theme_thumb\" data-clk=\"tcc_bty.list7cont2\" target=\"_blank\">\\n\\t\\t\\t\\t\\t\\t<img  data-src=\"https://s.pstatic.net/dthumb.phinf/?src&#x3D;%22https%3A%2F%2Fs.pstatic.net%2Fshop.phinf%2F20211101_162%2F1635759688605NwWS6_JPEG%2FRG.jpg%3Ftype%3Df342_264%22&amp;type&#x3D;nf340_228\" alt=\"안티에이징 크림을 찾는다면\" width=\"170\" height=\"114\">\\n\\t\\t\\t\\t\\t\\t<span class=\"thumb_bd\"></span>\\n\\t\\t\\t\\t\\t</a>\\n\\t\\t\\t\\t\\t<a href=\"https://blog.naver.com/haha1126gk/222543840337\" class=\"theme_info\" data-clk=\"tcc_bty.list7cont2\" target=\"_blank\">\\n\\t\\t\\t\\t\\t\\t<em class=\"theme_category\"> 패션뷰티</em>\\n\\t\\t\\t\\t\\t\\t<strong class=\"title elss\">안티에이징 크림을 찾는다면</strong>\\n                        <p class=\"desc\">나이가 들면 들수록 노화가 진행되는 건 많이들 알고 있지만, 그것이 계단식으로 차근차근 진행되는 게 아니라 내·외부적인 환경으로 인해서 딱 어느 순간 급격하게 진행된다는 건 잘 모르는 경우가 많은 것 같아요. 사실 이건 저희 엄마께서 먼저 느끼시고 예전에 한 번 제게 말씀하신 적이 있었거든요. 그 때만 해도 그 말이 잘 와닿지 않았었는데 요즘 많이 느끼고 </p>\\n\\t\\t\\t\\t\\t\\t<div class=\"source_box\">\\n\\t\\t\\t\\t\\t\\t\\t<span class=\"date\">1개월 전</span>\\n\\t\\t\\t\\t\\t\\t\\t<span class=\"source\">\\n                                \\n                                <span class=\"source_inner\">아리푸</span>\\n                            </span>\\n\\t\\t\\t\\t\\t\\t</div>\\n\\t\\t\\t\\t\\t</a>\\n\\t\\t\\t\\t</li>\\n\\t\\t\\t\\n\\t\\t\\t\\t<li class=\"theme_item\" data-gdid=\"359030c2-fb67-45f0-9b07-18d23f3ce06c\" data-da-position=\"true\">\\n\\t\\t\\t\\t\\t<a href=\"https://blog.naver.com/sesamesalt_/222551587039\" class=\"theme_thumb\" data-clk=\"tcc_bty.list7cont3\" target=\"_blank\">\\n\\t\\t\\t\\t\\t\\t<img  data-src=\"https://s.pstatic.net/dthumb.phinf/?src&#x3D;%22https%3A%2F%2Fs.pstatic.net%2Fshop.phinf%2F20211101_151%2F1635759695000HqgYN_JPEG%2FBD.jpg%3Ftype%3Df342_264%22&amp;type&#x3D;nf340_228\" alt=\"가을 감성 가득한 립스틱 발색\" width=\"170\" height=\"114\">\\n\\t\\t\\t\\t\\t\\t<span class=\"thumb_bd\"></span>\\n\\t\\t\\t\\t\\t</a>\\n\\t\\t\\t\\t\\t<a href=\"https://blog.naver.com/sesamesalt_/222551587039\" class=\"theme_info\" data-clk=\"tcc_bty.list7cont3\" target=\"_blank\">\\n\\t\\t\\t\\t\\t\\t<em class=\"theme_category\"> 패션뷰티</em>\\n\\t\\t\\t\\t\\t\\t<strong class=\"title elss\">가을 감성 가득한 립스틱 발색</strong>\\n                        <p class=\"desc\">안뇽하세용 쎄써미솔트입니다 &#x27;ㅅ&#x27; / 요즘 립 메이크업하는 재미가 쏠쏠해요 날씨 추워지면서 분위기 가득한 립 제품들 바르기만 해도 기분좋아지더라구요?! 새롭게 출시된 립스틱 중 가장 발라보고 싶었던 에스쁘아 노웨어밋츠그레이 전색상발색을 가지고 왔는데요 예뻤던 만큼 영혼을 갈고 갈아서 만든 리뷰니까 꼭 ! 끝까지 봐주세용 흐흐흐 ~_~ 에스쁘아 노웨어밋...</p>\\n\\t\\t\\t\\t\\t\\t<div class=\"source_box\">\\n\\t\\t\\t\\t\\t\\t\\t<span class=\"date\">1개월 전</span>\\n\\t\\t\\t\\t\\t\\t\\t<span class=\"source\">\\n                                \\n                                <span class=\"source_inner\">쎄써미솔트</span>\\n                            </span>\\n\\t\\t\\t\\t\\t\\t</div>\\n\\t\\t\\t\\t\\t</a>\\n\\t\\t\\t\\t</li>\\n\\t\\t\\t\\n\\t\\t\\t\\t<li class=\"theme_item\" data-gdid=\"609a5ce6-14e9-442a-aeaa-7cba5e2c4894\" data-da-position=\"true\">\\n\\t\\t\\t\\t\\t<a href=\"https://blog.naver.com/chs3202/222550090753\" class=\"theme_thumb\" data-clk=\"tcc_bty.list7cont4\" target=\"_blank\">\\n\\t\\t\\t\\t\\t\\t<img  data-src=\"https://s.pstatic.net/dthumb.phinf/?src&#x3D;%22https%3A%2F%2Fs.pstatic.net%2Fshop.phinf%2F20211101_28%2F16357592487957OWsX_JPEG%2Fk.jpg%3Ftype%3Df342_264%22&amp;type&#x3D;nf340_228\" alt=\"아이오페 슈퍼 바이탈 크림\" width=\"170\" height=\"114\">\\n\\t\\t\\t\\t\\t\\t<span class=\"thumb_bd\"></span>\\n\\t\\t\\t\\t\\t</a>\\n\\t\\t\\t\\t\\t<a href=\"https://blog.naver.com/chs3202/222550090753\" class=\"theme_info\" data-clk=\"tcc_bty.list7cont4\" target=\"_blank\">\\n\\t\\t\\t\\t\\t\\t<em class=\"theme_category\"> 패션뷰티</em>\\n\\t\\t\\t\\t\\t\\t<strong class=\"title elss\">아이오페 슈퍼 바이탈 크림</strong>\\n                        <p class=\"desc\">제가 딱 30대 들어선 이후, 피부 노화가 급발진 되는 것을 느꼈어요. 자고 일어나면 베갯 자국이 얼굴에 남아 빠르게 사라지지 않고, 피부의 탄력이 떨어지면서 건조함도 찾아오더라고요. 이렇게 두었다간 미래의 나의 피부가 더 빠르게 노화가 찾아올 것 같아 고민이 생겨 안티에이징 관리를 필수로 생각하게 되었어요. 그래서 수많은 보습크림도 사용해 보고 영양크림도</p>\\n\\t\\t\\t\\t\\t\\t<div class=\"source_box\">\\n\\t\\t\\t\\t\\t\\t\\t<span class=\"date\">1개월 전</span>\\n\\t\\t\\t\\t\\t\\t\\t<span class=\"source\">\\n                                \\n                                <span class=\"source_inner\">써니블리</span>\\n                            </span>\\n\\t\\t\\t\\t\\t\\t</div>\\n\\t\\t\\t\\t\\t</a>\\n\\t\\t\\t\\t</li>\\n\\t\\t\\t\\n\\t\\t\\t\\t<li class=\"theme_item\" data-gdid=\"617bcaa347a7edfd39f9897c\" data-da-position=\"true\">\\n\\t\\t\\t\\t\\t<a href=\"https://blog.naver.com/hyun8042/222523749598\" class=\"theme_thumb\" data-clk=\"tcc_bty.list7cont5\" target=\"_blank\">\\n\\t\\t\\t\\t\\t\\t<img  data-src=\"https://s.pstatic.net/dthumb.phinf/?src&#x3D;%22https%3A%2F%2Fs.pstatic.net%2Fshop.phinf%2F20211029_28%2F1635502579303k4iwe_JPEG%2FW.jpg%3Ftype%3Df342_264%22&amp;type&#x3D;nf340_228\" alt=\"이니스프리 레티놀 시카 앰플\" width=\"170\" height=\"114\">\\n\\t\\t\\t\\t\\t\\t<span class=\"thumb_bd\"></span>\\n\\t\\t\\t\\t\\t</a>\\n\\t\\t\\t\\t\\t<a href=\"https://blog.naver.com/hyun8042/222523749598\" class=\"theme_info\" data-clk=\"tcc_bty.list7cont5\" target=\"_blank\">\\n\\t\\t\\t\\t\\t\\t<em class=\"theme_category\"> 패션뷰티</em>\\n\\t\\t\\t\\t\\t\\t<strong class=\"title elss\">이니스프리 레티놀 시카 앰플</strong>\\n                        <p class=\"desc\">날이 가면 갈수록 피부 고민이 늘어가는데, 정말 꾸준한 관리가 답인 것 같아요 요즘은 마스크를 장시간 착용하다 보니 붉은기도 올라오고, 잡티 흔적으로 인해 피부가 거뭇해지고 툭하면 진짜 예민해져서 피부 관리하는 게 까다로운데요 저처럼 피부가 쉽게 예민해지고 붉어지고, 거뭇거뭇해지다 못해 각질까지 들끓는다면 이건 바로 광범위한 피부 트러블 때문이라는 사실 아</p>\\n\\t\\t\\t\\t\\t\\t<div class=\"source_box\">\\n\\t\\t\\t\\t\\t\\t\\t<span class=\"date\">2개월 전</span>\\n\\t\\t\\t\\t\\t\\t\\t<span class=\"source\">\\n                                \\n                                <span class=\"source_inner\">꼬소</span>\\n                            </span>\\n\\t\\t\\t\\t\\t\\t</div>\\n\\t\\t\\t\\t\\t</a>\\n\\t\\t\\t\\t</li>\\n\\t\\t\\t\\n\\t\\t</ul>\\n\\t</div>\\n</div>\\n<div class=\"group_theme\" data-block-id=\"\" data-block-code=\"PC-THEME-BEAUTY-MOBILE-RANKING-VIDEO-6\" data-block-type=\"MATERIALS\" data-template-code=\"MOBILE-RANKING-VIDEO-LIST\"\\n\\n\\t data-index=\"\"\\n\\t data-page=\"4\"\\n\\t style=\"display:none\">\\n\\n\\t<div class=\"media_view_wrap type_column\">\\n\\t\\t<div class=\"media_view\">\\n\\t\\t\\t\\n\\t\\t\\t\\t<a href=\"https://tv.naver.com/v/22489886\" class=\"media_area\" data-gdid=\"614458d6ed257d2befa1d24a\" data-clk=\"tcc_bty.video7cont1\" target=\"_blank\">\\n\\t\\t\\t\\t\\t<div class=\"media_thumb\">\\n\\t\\t\\t\\t\\t\\t<img  data-src=\"https://s.pstatic.net/dthumb.phinf/?src&#x3D;%22https%3A%2F%2Fs.pstatic.net%2Fshop.phinf%2F20210917_14%2F16318689326717EsU3_JPEG%2F1631779148409.jpg%3Ftype%3Df342_264%22&amp;type&#x3D;nf464_260\" alt=\"F/W 트레이닝복 브랜드 모음\" width=\"232\" height=\"130\">\\n\\t\\t\\t\\t\\t\\t<span class=\"thumb_dim\"></span>\\n\\t\\t\\t\\t\\t\\t<span class=\"thumb_bd\"></span>\\n\\t\\t\\t\\t\\t\\t<i class=\"pm_ico_play\"><span class=\"blind\">재생</span></i>\\n\\t\\t\\t\\t\\t\\t<span class=\"theme_runtime\"><span class=\"runtime_bg\">재생시간</span><em class=\"time\">09:07</em></span>\\n\\t\\t\\t\\t\\t</div>\\n\\t\\t\\t\\t\\t<div class=\"media_info\">\\n\\t\\t\\t\\t\\t\\t<div class=\"info_box\">\\n\\t\\t\\t\\t\\t\\t\\t<strong class=\"title\">F/W 트레이닝복 브랜드 모음</strong>\\n\\t\\t\\t\\t\\t\\t\\t<div class=\"source_wrap\">\\n\\t\\t\\t\\t\\t\\t\\t\\t<span class=\"date\">2개월 전</span>\\n\\t\\t\\t\\t\\t\\t\\t\\t<span class=\"source\">\\n                                    \\n                                    <span class=\"source_inner\">누엘</span>\\n                                </span>\\n\\t\\t\\t\\t\\t\\t\\t</div>\\n\\t\\t\\t\\t\\t\\t</div>\\n\\t\\t\\t\\t\\t</div>\\n\\t\\t\\t\\t</a>\\n\\t\\t\\t\\n\\t\\t\\t\\t<a href=\"https://m.tv.naver.com/v/22497993\" class=\"media_area\" data-gdid=\"61445741ed257d2befa1d240\" data-clk=\"tcc_bty.video7cont2\" target=\"_blank\">\\n\\t\\t\\t\\t\\t<div class=\"media_thumb\">\\n\\t\\t\\t\\t\\t\\t<img  data-src=\"https://s.pstatic.net/dthumb.phinf/?src&#x3D;%22https%3A%2F%2Fs.pstatic.net%2Fshop.phinf%2F20210917_11%2F1631868473395jw2UI_JPEG%2F61cf91dd-16fe-11ec-b6bf-48df379cc9e4_06.jpg%3Ftype%3Df342_264%22&amp;type&#x3D;nf464_260\" alt=\"뷰스타가 직접 만든 네뷰게이션\" width=\"232\" height=\"130\">\\n\\t\\t\\t\\t\\t\\t<span class=\"thumb_dim\"></span>\\n\\t\\t\\t\\t\\t\\t<span class=\"thumb_bd\"></span>\\n\\t\\t\\t\\t\\t\\t<i class=\"pm_ico_play\"><span class=\"blind\">재생</span></i>\\n\\t\\t\\t\\t\\t\\t<span class=\"theme_runtime\"><span class=\"runtime_bg\">재생시간</span><em class=\"time\">01:02</em></span>\\n\\t\\t\\t\\t\\t</div>\\n\\t\\t\\t\\t\\t<div class=\"media_info\">\\n\\t\\t\\t\\t\\t\\t<div class=\"info_box\">\\n\\t\\t\\t\\t\\t\\t\\t<strong class=\"title\">뷰스타가 직접 만든 네뷰게이션</strong>\\n\\t\\t\\t\\t\\t\\t\\t<div class=\"source_wrap\">\\n\\t\\t\\t\\t\\t\\t\\t\\t<span class=\"date\">2개월 전</span>\\n\\t\\t\\t\\t\\t\\t\\t\\t<span class=\"source\">\\n                                    \\n                                    <span class=\"source_inner\">갓신상</span>\\n                                </span>\\n\\t\\t\\t\\t\\t\\t\\t</div>\\n\\t\\t\\t\\t\\t\\t</div>\\n\\t\\t\\t\\t\\t</div>\\n\\t\\t\\t\\t</a>\\n\\t\\t\\t\\n\\t\\t\\t\\t<a href=\"https://tv.naver.com/v/22449677\" class=\"media_area\" data-gdid=\"614069141aed886be13ddf25\" data-clk=\"tcc_bty.video7cont3\" target=\"_blank\">\\n\\t\\t\\t\\t\\t<div class=\"media_thumb\">\\n\\t\\t\\t\\t\\t\\t<img  data-src=\"https://s.pstatic.net/dthumb.phinf/?src&#x3D;%22https%3A%2F%2Fs.pstatic.net%2Fshop.phinf%2F20210915_89%2F1631709951208DrtdH_JPEG%2F1631615122828.jpg%3Ftype%3Df342_264%22&amp;type&#x3D;nf464_260\" alt=\"쟁여놓고 써야하는 올영 잇템 8\" width=\"232\" height=\"130\">\\n\\t\\t\\t\\t\\t\\t<span class=\"thumb_dim\"></span>\\n\\t\\t\\t\\t\\t\\t<span class=\"thumb_bd\"></span>\\n\\t\\t\\t\\t\\t\\t<i class=\"pm_ico_play\"><span class=\"blind\">재생</span></i>\\n\\t\\t\\t\\t\\t\\t<span class=\"theme_runtime\"><span class=\"runtime_bg\">재생시간</span><em class=\"time\">08:10</em></span>\\n\\t\\t\\t\\t\\t</div>\\n\\t\\t\\t\\t\\t<div class=\"media_info\">\\n\\t\\t\\t\\t\\t\\t<div class=\"info_box\">\\n\\t\\t\\t\\t\\t\\t\\t<strong class=\"title\">쟁여놓고 써야하는 올영 잇템 8</strong>\\n\\t\\t\\t\\t\\t\\t\\t<div class=\"source_wrap\">\\n\\t\\t\\t\\t\\t\\t\\t\\t<span class=\"date\">3개월 전</span>\\n\\t\\t\\t\\t\\t\\t\\t\\t<span class=\"source\">\\n                                    \\n                                    <span class=\"source_inner\">블럼 메이크업</span>\\n                                </span>\\n\\t\\t\\t\\t\\t\\t\\t</div>\\n\\t\\t\\t\\t\\t\\t</div>\\n\\t\\t\\t\\t\\t</div>\\n\\t\\t\\t\\t</a>\\n\\t\\t\\t\\n\\t\\t</div>\\n\\t</div>\\n</div>\\n<div class=\"group_theme\" data-block-id=\"\" data-block-code=\"PC-THEME-BEAUTY-MOBILE-RANKING-DEFAULT-7\" data-block-type=\"MATERIALS\" data-template-code=\"MOBILE-RANKING-LIST\"\\n\\n\\t data-da=\"container\"\\n\\t data-index=\"\"\\n     data-page=\"4\"\\n\\t style=\"display:none\">\\n\\n\\t<div class=\"list_theme_wrap\">\\n\\t\\t<ul class=\"list_theme\">\\n\\t\\t\\t\\n\\t\\t\\t\\t<li class=\"theme_item\" data-gdid=\"617bcdc2c2522b100b3ba4c3\" data-da-position=\"true\">\\n\\t\\t\\t\\t\\t<a href=\"https://blog.naver.com/dole222/222526496490\" class=\"theme_thumb\" data-clk=\"tcc_bty.list8cont1\" target=\"_blank\">\\n\\t\\t\\t\\t\\t\\t<img  data-src=\"https://s.pstatic.net/dthumb.phinf/?src&#x3D;%22https%3A%2F%2Fs.pstatic.net%2Fshop.phinf%2F20211029_299%2F1635503430515L79jW_JPEG%2FHRT.jpg%3Ftype%3Df342_264%22&amp;type&#x3D;nf340_228\" alt=\"헤라 블랙 쿠션 색상 비교해봄\" width=\"170\" height=\"114\">\\n\\t\\t\\t\\t\\t\\t<span class=\"thumb_bd\"></span>\\n\\t\\t\\t\\t\\t</a>\\n\\t\\t\\t\\t\\t<a href=\"https://blog.naver.com/dole222/222526496490\" class=\"theme_info\" data-clk=\"tcc_bty.list8cont1\" target=\"_blank\">\\n\\t\\t\\t\\t\\t\\t<em class=\"theme_category\"> 패션뷰티</em>\\n\\t\\t\\t\\t\\t\\t<strong class=\"title elss\">헤라 블랙 쿠션 색상 비교해봄</strong>\\n                        <p class=\"desc\">여러분 #뷰스타 순수틱입니당! 갑작스러운 비에 완전 당황;; 며칠 동안 비가 온다고 하더라구요 ㅠㅠ 이럴 때 기분 전환으로 색조리뷰 들고왔지용! 제가 왕왕 반해서 여러 컬러별로 찾아 바르고 있는 쿠션파데추천을 해보려구 들고 왔답니다. 촉촉해서 부드럽게 발리고 빠르게 밀착되어 겉은 보송하게~ 지속력 장난 아닌 세미매트 제품인데요. 왕왕 인기템인 헤라 블랙쿠션</p>\\n\\t\\t\\t\\t\\t\\t<div class=\"source_box\">\\n\\t\\t\\t\\t\\t\\t\\t<span class=\"date\">2개월 전</span>\\n\\t\\t\\t\\t\\t\\t\\t<span class=\"source\">\\n                                \\n                                <span class=\"source_inner\">순수틱</span>\\n                            </span>\\n\\t\\t\\t\\t\\t\\t</div>\\n\\t\\t\\t\\t\\t</a>\\n\\t\\t\\t\\t</li>\\n\\t\\t\\t\\n\\t\\t\\t\\t<li class=\"theme_item\" data-gdid=\"9d9e8516-5229-4c70-9cf2-55a911d4dd87\" data-da-position=\"true\">\\n\\t\\t\\t\\t\\t<a href=\"https://blog.naver.com/cs_queen/222532917378\" class=\"theme_thumb\" data-clk=\"tcc_bty.list8cont2\" target=\"_blank\">\\n\\t\\t\\t\\t\\t\\t<img  data-src=\"https://s.pstatic.net/dthumb.phinf/?src&#x3D;%22https%3A%2F%2Fs.pstatic.net%2Fshop.phinf%2F20211029_291%2F1635503114225V8SsY_JPEG%2FVDS.jpg%3Ftype%3Df342_264%22&amp;type&#x3D;nf340_228\" alt=\"라네즈 속보습 크림 스킨 후기\" width=\"170\" height=\"114\">\\n\\t\\t\\t\\t\\t\\t<span class=\"thumb_bd\"></span>\\n\\t\\t\\t\\t\\t</a>\\n\\t\\t\\t\\t\\t<a href=\"https://blog.naver.com/cs_queen/222532917378\" class=\"theme_info\" data-clk=\"tcc_bty.list8cont2\" target=\"_blank\">\\n\\t\\t\\t\\t\\t\\t<em class=\"theme_category\"> 패션뷰티</em>\\n\\t\\t\\t\\t\\t\\t<strong class=\"title elss\">라네즈 속보습 크림 스킨 후기</strong>\\n                        <p class=\"desc\">한번 사용해본 사람은 정착템된다는 라네즈 크림스킨 아직도 살까? 말까? 망설이고 계신분들을 위해 크림스킨을 철저하게 파해쳐보도록 하겠습니다 크림 한 통을 스킨에 그대로? 제가 크림스킨을 처음 사용하면서 가장 먼저 들었던 생각은 &#x27;여러단계 바르는거 귀찮아하는 사람들에게 딱!!&#x27; 이었어요 스킨만 발랐을 뿐인데 &#x27;촉촉한 피부가 오래 유지된다는 후기&amp;#x...</p>\\n\\t\\t\\t\\t\\t\\t<div class=\"source_box\">\\n\\t\\t\\t\\t\\t\\t\\t<span class=\"date\">2개월 전</span>\\n\\t\\t\\t\\t\\t\\t\\t<span class=\"source\">\\n                                \\n                                <span class=\"source_inner\">베리아또</span>\\n                            </span>\\n\\t\\t\\t\\t\\t\\t</div>\\n\\t\\t\\t\\t\\t</a>\\n\\t\\t\\t\\t</li>\\n\\t\\t\\t\\n\\t\\t\\t\\t<li class=\"theme_item\" data-gdid=\"617a5e1b47a7edfd39f9601c\" data-da-position=\"true\">\\n\\t\\t\\t\\t\\t<a href=\"https://blog.naver.com/suyako/222508228567\" class=\"theme_thumb\" data-clk=\"tcc_bty.list8cont3\" target=\"_blank\">\\n\\t\\t\\t\\t\\t\\t<img  data-src=\"https://s.pstatic.net/dthumb.phinf/?src&#x3D;%22https%3A%2F%2Fs.pstatic.net%2Fshop.phinf%2F20211028_118%2F1635409188224MUN6j_JPEG%2FGWE.jpg%3Ftype%3Df342_264%22&amp;type&#x3D;nf340_228\" alt=\"아이오페 스킨핏 톤업 쿠션\" width=\"170\" height=\"114\">\\n\\t\\t\\t\\t\\t\\t<span class=\"thumb_bd\"></span>\\n\\t\\t\\t\\t\\t</a>\\n\\t\\t\\t\\t\\t<a href=\"https://blog.naver.com/suyako/222508228567\" class=\"theme_info\" data-clk=\"tcc_bty.list8cont3\" target=\"_blank\">\\n\\t\\t\\t\\t\\t\\t<em class=\"theme_category\"> 패션뷰티</em>\\n\\t\\t\\t\\t\\t\\t<strong class=\"title elss\">아이오페 스킨핏 톤업 쿠션</strong>\\n                        <p class=\"desc\">안녕하세요 아모레퍼시픽 X 뷰스타 호갱님안나 B 입니다. 제가요즘 메이크업할때 파데프리로 간단하게 눈화장 정도 할때 꼭 들고 나가는 아이오페 에어쿠션 스킨핏 톤업 쿠션이에요. 피부는 예쁘게 화사하게 보정되면서 파데프리, 가벼운 메이크업을 할수 있는 화사에어 가볍에어 아이오페 에어쿠션 스킨핏 톤업 입니다. 제가 피부 메이크업은 세상 가볍게 하는걸 좋아하는데요</p>\\n\\t\\t\\t\\t\\t\\t<div class=\"source_box\">\\n\\t\\t\\t\\t\\t\\t\\t<span class=\"date\">2개월 전</span>\\n\\t\\t\\t\\t\\t\\t\\t<span class=\"source\">\\n                                \\n                                <span class=\"source_inner\">호갱님안나B</span>\\n                            </span>\\n\\t\\t\\t\\t\\t\\t</div>\\n\\t\\t\\t\\t\\t</a>\\n\\t\\t\\t\\t</li>\\n\\t\\t\\t\\n\\t\\t\\t\\t<li class=\"theme_item\" data-gdid=\"61767b0db95cda1e36402347\" data-da-position=\"true\">\\n\\t\\t\\t\\t\\t<a href=\"https://blog.naver.com/hanee5538/222527223951\" class=\"theme_thumb\" data-clk=\"tcc_bty.list8cont4\" target=\"_blank\">\\n\\t\\t\\t\\t\\t\\t<img  data-src=\"https://s.pstatic.net/dthumb.phinf/?src&#x3D;%22https%3A%2F%2Fs.pstatic.net%2Fshop.phinf%2F20211027_265%2F16353312011724Q2NX_JPEG%2Fkuy.jpg%3Ftype%3Df342_264%22&amp;type&#x3D;nf340_228\" alt=\"한율 빨간쌀 진액 미스트 추천\" width=\"170\" height=\"114\">\\n\\t\\t\\t\\t\\t\\t<span class=\"thumb_bd\"></span>\\n\\t\\t\\t\\t\\t</a>\\n\\t\\t\\t\\t\\t<a href=\"https://blog.naver.com/hanee5538/222527223951\" class=\"theme_info\" data-clk=\"tcc_bty.list8cont4\" target=\"_blank\">\\n\\t\\t\\t\\t\\t\\t<em class=\"theme_category\"> 패션뷰티</em>\\n\\t\\t\\t\\t\\t\\t<strong class=\"title elss\">한율 빨간쌀 진액 미스트 추천</strong>\\n                        <p class=\"desc\">안녕하세용 햄찌예요! 환절기 접어들면서 꼭 필요한게 전 미스트 인데요 기온이 오락가락 하면서 피부 컨디션도 왔다갔다 하고.. 어렵지 않게 수시로 뿌리면서 보습 챙겨줄만한게 미스트밖에 없더라고요! 오늘은 진한 방어 보습 미스트 추천 한율 빨간쌀 진액 미스트 리뷰를 해볼게요. 150ml 용량이라 충분히 오래 쓸수있는 양이구요! 한율 빨간쌀라인이 잘 맞으신다면 </p>\\n\\t\\t\\t\\t\\t\\t<div class=\"source_box\">\\n\\t\\t\\t\\t\\t\\t\\t<span class=\"date\">2개월 전</span>\\n\\t\\t\\t\\t\\t\\t\\t<span class=\"source\">\\n                                \\n                                <span class=\"source_inner\">햄찌</span>\\n                            </span>\\n\\t\\t\\t\\t\\t\\t</div>\\n\\t\\t\\t\\t\\t</a>\\n\\t\\t\\t\\t</li>\\n\\t\\t\\t\\n\\t\\t\\t\\t<li class=\"theme_item\" data-gdid=\"61764f5465343929ca6646b0\" data-da-position=\"true\">\\n\\t\\t\\t\\t\\t<a href=\"https://m.blog.naver.com/danikang1/222509139498\" class=\"theme_thumb\" data-clk=\"tcc_bty.list8cont5\" target=\"_blank\">\\n\\t\\t\\t\\t\\t\\t<img  data-src=\"https://s.pstatic.net/dthumb.phinf/?src&#x3D;%22https%3A%2F%2Fs.pstatic.net%2Fshop.phinf%2F20211025_197%2F1635143357918c5RH3_JPEG%2Fbanner_03_1.jpg%3Ftype%3Df226%22&amp;type&#x3D;nf340_228\" alt=\"리얼 사용 방법\" width=\"170\" height=\"114\">\\n\\t\\t\\t\\t\\t\\t<span class=\"thumb_bd\"></span>\\n\\t\\t\\t\\t\\t</a>\\n\\t\\t\\t\\t\\t<a href=\"https://m.blog.naver.com/danikang1/222509139498\" class=\"theme_info\" data-clk=\"tcc_bty.list8cont5\" target=\"_blank\">\\n\\t\\t\\t\\t\\t\\t<em class=\"theme_category\"> 패션뷰티</em>\\n\\t\\t\\t\\t\\t\\t<strong class=\"title elss\">리얼 사용 방법</strong>\\n                        <p class=\"desc\">K A H I 안녕하세요 다니캉입니다 직업상 많은 화장품을 자주 사용해서 바닥까지 다 쓰는 공병템이 많지는 않은데, 제가 공병템으로 소개한다는 것은 정말 저랑 잘 맞고, 제품력 좋다는 의미거든요ㅋㅋ 오늘은 제가 몇 통째 바닥까지 다 쓰고 느낀 후기를 들려드릴 제품 1. 가히 멀티밤 2. 엑스틴C밤 오늘 요거 두 개 열심히 사용해 본 찐후기 들려드릴까 합니다</p>\\n\\t\\t\\t\\t\\t\\t<div class=\"source_box\">\\n\\t\\t\\t\\t\\t\\t\\t<span class=\"date\">2개월 전</span>\\n\\t\\t\\t\\t\\t\\t\\t<span class=\"source\">\\n                                \\n                                <span class=\"source_inner\">다니캉</span>\\n                            </span>\\n\\t\\t\\t\\t\\t\\t</div>\\n\\t\\t\\t\\t\\t</a>\\n\\t\\t\\t\\t</li>\\n\\t\\t\\t\\n\\t\\t</ul>\\n\\t</div>\\n</div>\\n<div class=\"group_theme\" data-block-id=\"\" data-block-code=\"PC-THEME-BEAUTY-MOBILE-RANKING-VIDEO-7\" data-block-type=\"MATERIALS\" data-template-code=\"MOBILE-RANKING-VIDEO-LIST\"\\n\\n\\t data-index=\"\"\\n\\t data-page=\"4\"\\n\\t style=\"display:none\">\\n\\n\\t<div class=\"media_view_wrap type_column\">\\n\\t\\t<div class=\"media_view\">\\n\\t\\t\\t\\n\\t\\t\\t\\t<a href=\"https://tv.naver.com/v/22420954\" class=\"media_area\" data-gdid=\"6141eacb06569de4c71631dc\" data-clk=\"tcc_bty.video8cont1\" target=\"_blank\">\\n\\t\\t\\t\\t\\t<div class=\"media_thumb\">\\n\\t\\t\\t\\t\\t\\t<img  data-src=\"https://s.pstatic.net/dthumb.phinf/?src&#x3D;%22https%3A%2F%2Fs.pstatic.net%2Fshop.phinf%2F20210916_193%2F1631791861563odWcf_JPEG%2F1631526723559.jpg%3Ftype%3Df342_264%22&amp;type&#x3D;nf464_260\" alt=\"아무리 발라도 건조한 당신에게\" width=\"232\" height=\"130\">\\n\\t\\t\\t\\t\\t\\t<span class=\"thumb_dim\"></span>\\n\\t\\t\\t\\t\\t\\t<span class=\"thumb_bd\"></span>\\n\\t\\t\\t\\t\\t\\t<i class=\"pm_ico_play\"><span class=\"blind\">재생</span></i>\\n\\t\\t\\t\\t\\t\\t<span class=\"theme_runtime\"><span class=\"runtime_bg\">재생시간</span><em class=\"time\">09:09</em></span>\\n\\t\\t\\t\\t\\t</div>\\n\\t\\t\\t\\t\\t<div class=\"media_info\">\\n\\t\\t\\t\\t\\t\\t<div class=\"info_box\">\\n\\t\\t\\t\\t\\t\\t\\t<strong class=\"title\">아무리 발라도 건조한 당신에게</strong>\\n\\t\\t\\t\\t\\t\\t\\t<div class=\"source_wrap\">\\n\\t\\t\\t\\t\\t\\t\\t\\t<span class=\"date\">3개월 전</span>\\n\\t\\t\\t\\t\\t\\t\\t\\t<span class=\"source\">\\n                                    \\n                                    <span class=\"source_inner\">채정안TV</span>\\n                                </span>\\n\\t\\t\\t\\t\\t\\t\\t</div>\\n\\t\\t\\t\\t\\t\\t</div>\\n\\t\\t\\t\\t\\t</div>\\n\\t\\t\\t\\t</a>\\n\\t\\t\\t\\n\\t\\t\\t\\t<a href=\"https://tv.naver.com/v/22359900\" class=\"media_area\" data-gdid=\"613f1b491aed886be13d9c3f\" data-clk=\"tcc_bty.video8cont2\" target=\"_blank\">\\n\\t\\t\\t\\t\\t<div class=\"media_thumb\">\\n\\t\\t\\t\\t\\t\\t<img  data-src=\"https://s.pstatic.net/dthumb.phinf/?src&#x3D;%22https%3A%2F%2Fs.pstatic.net%2Fshop.phinf%2F20210913_205%2F1631525624869gyyHB_JPEG%2F1631172180493.jpg%3Ftype%3Df342_264%22&amp;type&#x3D;nf464_260\" alt=\"초/간/단 블랙헤드 제거 루틴\" width=\"232\" height=\"130\">\\n\\t\\t\\t\\t\\t\\t<span class=\"thumb_dim\"></span>\\n\\t\\t\\t\\t\\t\\t<span class=\"thumb_bd\"></span>\\n\\t\\t\\t\\t\\t\\t<i class=\"pm_ico_play\"><span class=\"blind\">재생</span></i>\\n\\t\\t\\t\\t\\t\\t<span class=\"theme_runtime\"><span class=\"runtime_bg\">재생시간</span><em class=\"time\">12:34</em></span>\\n\\t\\t\\t\\t\\t</div>\\n\\t\\t\\t\\t\\t<div class=\"media_info\">\\n\\t\\t\\t\\t\\t\\t<div class=\"info_box\">\\n\\t\\t\\t\\t\\t\\t\\t<strong class=\"title\">초/간/단 블랙헤드 제거 루틴</strong>\\n\\t\\t\\t\\t\\t\\t\\t<div class=\"source_wrap\">\\n\\t\\t\\t\\t\\t\\t\\t\\t<span class=\"date\">3개월 전</span>\\n\\t\\t\\t\\t\\t\\t\\t\\t<span class=\"source\">\\n                                    \\n                                    <span class=\"source_inner\">디렉터파이</span>\\n                                </span>\\n\\t\\t\\t\\t\\t\\t\\t</div>\\n\\t\\t\\t\\t\\t\\t</div>\\n\\t\\t\\t\\t\\t</div>\\n\\t\\t\\t\\t</a>\\n\\t\\t\\t\\n\\t\\t\\t\\t<a href=\"https://tv.naver.com/v/22241297\" class=\"media_area\" data-gdid=\"614062bce14ccde4d9a6195b\" data-clk=\"tcc_bty.video8cont3\" target=\"_blank\">\\n\\t\\t\\t\\t\\t<div class=\"media_thumb\">\\n\\t\\t\\t\\t\\t\\t<img  data-src=\"https://s.pstatic.net/dthumb.phinf/?src&#x3D;%22https%3A%2F%2Fs.pstatic.net%2Fshop.phinf%2F20210913_79%2F1631524866355DoJlH_JPEG%2F1630659604700.jpg%3Ftype%3Df342_264%22&amp;type&#x3D;nf464_260\" alt=\"여드름 민감 피부 필수템 하울\" width=\"232\" height=\"130\">\\n\\t\\t\\t\\t\\t\\t<span class=\"thumb_dim\"></span>\\n\\t\\t\\t\\t\\t\\t<span class=\"thumb_bd\"></span>\\n\\t\\t\\t\\t\\t\\t<i class=\"pm_ico_play\"><span class=\"blind\">재생</span></i>\\n\\t\\t\\t\\t\\t\\t<span class=\"theme_runtime\"><span class=\"runtime_bg\">재생시간</span><em class=\"time\">17:32</em></span>\\n\\t\\t\\t\\t\\t</div>\\n\\t\\t\\t\\t\\t<div class=\"media_info\">\\n\\t\\t\\t\\t\\t\\t<div class=\"info_box\">\\n\\t\\t\\t\\t\\t\\t\\t<strong class=\"title\">여드름 민감 피부 필수템 하울</strong>\\n\\t\\t\\t\\t\\t\\t\\t<div class=\"source_wrap\">\\n\\t\\t\\t\\t\\t\\t\\t\\t<span class=\"date\">3개월 전</span>\\n\\t\\t\\t\\t\\t\\t\\t\\t<span class=\"source\">\\n                                    \\n                                    <span class=\"source_inner\">디렉터파이</span>\\n                                </span>\\n\\t\\t\\t\\t\\t\\t\\t</div>\\n\\t\\t\\t\\t\\t\\t</div>\\n\\t\\t\\t\\t\\t</div>\\n\\t\\t\\t\\t</a>\\n\\t\\t\\t\\n\\t\\t</div>\\n\\t</div>\\n</div>\\n<div class=\"group_theme\" data-block-id=\"\" data-block-code=\"PC-THEME-BEAUTY-MOBILE-RANKING-DEFAULT-8\" data-block-type=\"MATERIALS\" data-template-code=\"MOBILE-RANKING-LIST\"\\n\\n\\t data-da=\"container\"\\n\\t data-index=\"\"\\n     data-page=\"5\"\\n\\t style=\"display:none\">\\n\\n\\t<div class=\"list_theme_wrap\">\\n\\t\\t<ul class=\"list_theme\">\\n\\t\\t\\t\\n\\t\\t\\t\\t<li class=\"theme_item\" data-gdid=\"61767a213e299c1e3dcb7585\" data-da-position=\"true\">\\n\\t\\t\\t\\t\\t<a href=\"https://blog.naver.com/dvd671/222532307377\" class=\"theme_thumb\" data-clk=\"tcc_bty.list9cont1\" target=\"_blank\">\\n\\t\\t\\t\\t\\t\\t<img  data-src=\"https://s.pstatic.net/dthumb.phinf/?src&#x3D;%22https%3A%2F%2Fs.pstatic.net%2Fshop.phinf%2F20211027_172%2F16353007957751Fsca_JPEG%2Foi.jpg%3Ftype%3Df342_264%22&amp;type&#x3D;nf340_228\" alt=\"헤라 퓨어 타투 틴트 색상 추천\" width=\"170\" height=\"114\">\\n\\t\\t\\t\\t\\t\\t<span class=\"thumb_bd\"></span>\\n\\t\\t\\t\\t\\t</a>\\n\\t\\t\\t\\t\\t<a href=\"https://blog.naver.com/dvd671/222532307377\" class=\"theme_info\" data-clk=\"tcc_bty.list9cont1\" target=\"_blank\">\\n\\t\\t\\t\\t\\t\\t<em class=\"theme_category\"> 패션뷰티</em>\\n\\t\\t\\t\\t\\t\\t<strong class=\"title elss\">헤라 퓨어 타투 틴트 색상 추천</strong>\\n                        <p class=\"desc\">헤라 센슈얼 프레쉬 누드 틴트 HERA SENSULA FRESH NUDE TINT 233 퓨어 타투 Pure Tattoo 465 나인티즈 90&#x27;s 하이룽 슈가로즈입니다 오늘은 헤라의 센슈얼 프레쉬 누드 틴트를 사용해봤어요 출시된지는 그렇게 오래되지는 않았지만 그렇다고 막 엄청 또 신상은 아니지만 꽤나 마음에 드는 촉촉한 틴트라는거 그래서 제품컷도 열심히 찍</p>\\n\\t\\t\\t\\t\\t\\t<div class=\"source_box\">\\n\\t\\t\\t\\t\\t\\t\\t<span class=\"date\">2개월 전</span>\\n\\t\\t\\t\\t\\t\\t\\t<span class=\"source\">\\n                                \\n                                <span class=\"source_inner\">뷰스타 슈가로즈</span>\\n                            </span>\\n\\t\\t\\t\\t\\t\\t</div>\\n\\t\\t\\t\\t\\t</a>\\n\\t\\t\\t\\t</li>\\n\\t\\t\\t\\n\\t\\t\\t\\t<li class=\"theme_item\" data-gdid=\"617678f065343929ca6667ae\" data-da-position=\"true\">\\n\\t\\t\\t\\t\\t<a href=\"https://blog.naver.com/0226orange/222530670134\" class=\"theme_thumb\" data-clk=\"tcc_bty.list9cont2\" target=\"_blank\">\\n\\t\\t\\t\\t\\t\\t<img  data-src=\"https://s.pstatic.net/dthumb.phinf/?src&#x3D;%22https%3A%2F%2Fs.pstatic.net%2Fshop.phinf%2F20211025_207%2F1635153998919HfuXf_JPEG%2F8.jpg%3Ftype%3Df342_264%22&amp;type&#x3D;nf340_228\" alt=\"마몽드 바쿠치올 레티놀 크림\" width=\"170\" height=\"114\">\\n\\t\\t\\t\\t\\t\\t<span class=\"thumb_bd\"></span>\\n\\t\\t\\t\\t\\t</a>\\n\\t\\t\\t\\t\\t<a href=\"https://blog.naver.com/0226orange/222530670134\" class=\"theme_info\" data-clk=\"tcc_bty.list9cont2\" target=\"_blank\">\\n\\t\\t\\t\\t\\t\\t<em class=\"theme_category\"> 패션뷰티</em>\\n\\t\\t\\t\\t\\t\\t<strong class=\"title elss\">마몽드 바쿠치올 레티놀 크림</strong>\\n                        <p class=\"desc\">평소에 가장 신경쓰이는 피부고민은 무엇인가요? 이런 질문에 딱 잘라서 &quot;없어요, 저는. 원래 타고난 피부거든요.&quot; 이렇게 답할 수 있는 사람은 분명.....전생에 나라를 구했을 겁니다☆ 저는 그렇게 생각해요. 기본적으로 #스킨케어 에 어느 정도 관심이 있고 평소에 꾸준히 챙겨 바르는 분들이라면 흔한 피부고민 하나쯤은 다들 가지고 계실텐데요- 저 같은 경우는</p>\\n\\t\\t\\t\\t\\t\\t<div class=\"source_box\">\\n\\t\\t\\t\\t\\t\\t\\t<span class=\"date\">2개월 전</span>\\n\\t\\t\\t\\t\\t\\t\\t<span class=\"source\">\\n                                \\n                                <span class=\"source_inner\">금귤</span>\\n                            </span>\\n\\t\\t\\t\\t\\t\\t</div>\\n\\t\\t\\t\\t\\t</a>\\n\\t\\t\\t\\t</li>\\n\\t\\t\\t\\n\\t\\t\\t\\t<li class=\"theme_item\" data-gdid=\"9d771a11-03b4-48fe-9d6c-6ee728189115\" data-da-position=\"true\">\\n\\t\\t\\t\\t\\t<a href=\"https://blog.naver.com/arafatare/222534993198\" class=\"theme_thumb\" data-clk=\"tcc_bty.list9cont3\" target=\"_blank\">\\n\\t\\t\\t\\t\\t\\t<img  data-src=\"https://s.pstatic.net/dthumb.phinf/?src&#x3D;%22https%3A%2F%2Fs.pstatic.net%2Fshop.phinf%2F20211022_104%2F1634897984441BzQaQ_JPEG%2Ftk.jpg%3Ftype%3Df342_264%22&amp;type&#x3D;nf340_228\" alt=\"에스쁘아 벨벳 가을 틴트 추천\" width=\"170\" height=\"114\">\\n\\t\\t\\t\\t\\t\\t<span class=\"thumb_bd\"></span>\\n\\t\\t\\t\\t\\t</a>\\n\\t\\t\\t\\t\\t<a href=\"https://blog.naver.com/arafatare/222534993198\" class=\"theme_info\" data-clk=\"tcc_bty.list9cont3\" target=\"_blank\">\\n\\t\\t\\t\\t\\t\\t<em class=\"theme_category\"> 패션뷰티</em>\\n\\t\\t\\t\\t\\t\\t<strong class=\"title elss\">에스쁘아 벨벳 가을 틴트 추천</strong>\\n                        <p class=\"desc\">가을 메이크업 🍂 에스쁘아 립틴트 벨벳 &amp; 샤인 두 가지 제형을 준비해 봤어요 : ) 데일리부터 여름 뮤트, 겨울 쿨톤 MLBB 보송 매트, 맑고 탱글, 촉촉한 고급광의 웜톤 립까지 \\U0001f90e 겨울까지 내내 사랑하지 않을 수 없을 것 같아요! 분위기 있는 오묘한 무드, 후기를 만나볼까요? 베이스 맛집, 립틴트 또한 고급짐은 엄지척인 제품이죠? 사르르 부드럽게 </p>\\n\\t\\t\\t\\t\\t\\t<div class=\"source_box\">\\n\\t\\t\\t\\t\\t\\t\\t<span class=\"date\">2개월 전</span>\\n\\t\\t\\t\\t\\t\\t\\t<span class=\"source\">\\n                                \\n                                <span class=\"source_inner\">Diana</span>\\n                            </span>\\n\\t\\t\\t\\t\\t\\t</div>\\n\\t\\t\\t\\t\\t</a>\\n\\t\\t\\t\\t</li>\\n\\t\\t\\t\\n\\t\\t\\t\\t<li class=\"theme_item\" data-gdid=\"4126d762-7229-4b9a-8d6c-58cd423dc7b5\" data-da-position=\"true\">\\n\\t\\t\\t\\t\\t<a href=\"https://blog.naver.com/tpgml1004_/222496151056\" class=\"theme_thumb\" data-clk=\"tcc_bty.list9cont4\" target=\"_blank\">\\n\\t\\t\\t\\t\\t\\t<img  data-src=\"https://s.pstatic.net/dthumb.phinf/?src&#x3D;%22https%3A%2F%2Fs.pstatic.net%2Fshop.phinf%2F20211005_269%2F1633417382243rsfaa_JPEG%2F%25B4%25DC%25B5%25B6_10%25BF%25F910%25C0%25CF_%25BD%25E63.jpg%3Ftype%3Df226%22&amp;type&#x3D;nf340_228\" alt=\"클렌저 찐리뷰\" width=\"170\" height=\"114\">\\n\\t\\t\\t\\t\\t\\t<span class=\"thumb_bd\"></span>\\n\\t\\t\\t\\t\\t</a>\\n\\t\\t\\t\\t\\t<a href=\"https://blog.naver.com/tpgml1004_/222496151056\" class=\"theme_info\" data-clk=\"tcc_bty.list9cont4\" target=\"_blank\">\\n\\t\\t\\t\\t\\t\\t<em class=\"theme_category\"> 패션뷰티</em>\\n\\t\\t\\t\\t\\t\\t<strong class=\"title elss\">클렌저 찐리뷰</strong>\\n                        <p class=\"desc\">안녕하세요~ 뷰스타 희입니다. LG 생활건강과 뷰티 인플루언서분들과 함께 9개월 동안 개발한 바이오디티디가 세상에 공개되었습니다 !! 지난 포스팅에서 어떻게 제품을 만들고, 개발했는지 적어보았는데요. 이번 포스팅을 시작으로 ~~ 제품 하나 하나 리뷰해보면서 더 자세하게 보여드리려고 해요. 첫 리뷰는 스킨케어의 시작 폼클렌징입니다 여드름스킨케어 바이오디티디 </p>\\n\\t\\t\\t\\t\\t\\t<div class=\"source_box\">\\n\\t\\t\\t\\t\\t\\t\\t<span class=\"date\">3개월 전</span>\\n\\t\\t\\t\\t\\t\\t\\t<span class=\"source\">\\n                                \\n                                <span class=\"source_inner\">희</span>\\n                            </span>\\n\\t\\t\\t\\t\\t\\t</div>\\n\\t\\t\\t\\t\\t</a>\\n\\t\\t\\t\\t</li>\\n\\t\\t\\t\\n\\t\\t\\t\\t<li class=\"theme_item\" data-gdid=\"767dc4fb-75c4-4219-89ca-2ee36ebe30f5\" data-da-position=\"true\">\\n\\t\\t\\t\\t\\t<a href=\"https://post.naver.com/viewer/postView.naver?volumeNo&#x3D;32499235&amp;memberNo&#x3D;1972782\" class=\"theme_thumb\" data-clk=\"tcc_bty.list9cont5\" target=\"_blank\">\\n\\t\\t\\t\\t\\t\\t<img  data-src=\"https://s.pstatic.net/dthumb.phinf/?src&#x3D;%22https%3A%2F%2Fs.pstatic.net%2Fshop.phinf%2F20211007_272%2F1633596475812QPVGa_JPEG%2Fas.jpg%3Ftype%3Df342_264%22&amp;type&#x3D;nf340_228\" alt=\"손민수하고 싶은 셀럽 코디 모음\" width=\"170\" height=\"114\">\\n\\t\\t\\t\\t\\t\\t<span class=\"thumb_bd\"></span>\\n\\t\\t\\t\\t\\t</a>\\n\\t\\t\\t\\t\\t<a href=\"https://post.naver.com/viewer/postView.naver?volumeNo&#x3D;32499235&amp;memberNo&#x3D;1972782\" class=\"theme_info\" data-clk=\"tcc_bty.list9cont5\" target=\"_blank\">\\n\\t\\t\\t\\t\\t\\t<em class=\"theme_category\"> 패션뷰티</em>\\n\\t\\t\\t\\t\\t\\t<strong class=\"title elss\">손민수하고 싶은 셀럽 코디 모음</strong>\\n                        <p class=\"desc\">안녕하세요~ 톡톡이에요 *_* 오늘은 톡톡이와 함께 손.민.수하고 싶은 셀럽 SNS 코디! 살펴보려고 해요 스타들이 사랑한 패션 아이템♥ 어떤 아이템이 있는지 구경하러 GOGO ♬가장 먼저 만나볼 코디는 셀럽들의 자켓 코디예요!루에브르 자켓루에브르 자켓온앤온 자켓판도라핏 자켓 가을 자켓으로 당장 손민수하고 싶은 아이템들 만나봤어요 +_+쥬시쥬디</p>\\n\\t\\t\\t\\t\\t\\t<div class=\"source_box\">\\n\\t\\t\\t\\t\\t\\t\\t<span class=\"date\">2개월 전</span>\\n\\t\\t\\t\\t\\t\\t\\t<span class=\"source\">\\n                                \\n                                <span class=\"source_inner\">패션톡톡</span>\\n                            </span>\\n\\t\\t\\t\\t\\t\\t</div>\\n\\t\\t\\t\\t\\t</a>\\n\\t\\t\\t\\t</li>\\n\\t\\t\\t\\n\\t\\t</ul>\\n\\t</div>\\n</div>\\n<div class=\"group_theme\" data-block-id=\"\" data-block-code=\"PC-THEME-BEAUTY-MOBILE-RANKING-VIDEO-8\" data-block-type=\"MATERIALS\" data-template-code=\"MOBILE-RANKING-VIDEO-LIST\"\\n\\n\\t data-index=\"\"\\n\\t data-page=\"5\"\\n\\t style=\"display:none\">\\n\\n\\t<div class=\"media_view_wrap type_column\">\\n\\t\\t<div class=\"media_view\">\\n\\t\\t\\t\\n\\t\\t\\t\\t<a href=\"https://tv.naver.com/v/22493127\" class=\"media_area\" data-gdid=\"613f1f1295a69e6bec592593\" data-clk=\"tcc_bty.video9cont1\" target=\"_blank\">\\n\\t\\t\\t\\t\\t<div class=\"media_thumb\">\\n\\t\\t\\t\\t\\t\\t<img  data-src=\"https://s.pstatic.net/dthumb.phinf/?src&#x3D;%22https%3A%2F%2Fs.pstatic.net%2Fshop.phinf%2F20210913_188%2F1631526494683kRU0G_JPEG%2F%25B1%25E2%25C0%25BA%25BC%25BC_%25B7%25CE%25BB%25E7%25C4%25C9%25C0%25CC_%25C0%25CC%25B9%25CC%25C1%25F61_%25281%2529.jpg%3Ftype%3Df342_264%22&amp;type&#x3D;nf464_260\" alt=\"기은세가 픽한 가성비 데일리백\" width=\"232\" height=\"130\">\\n\\t\\t\\t\\t\\t\\t<span class=\"thumb_dim\"></span>\\n\\t\\t\\t\\t\\t\\t<span class=\"thumb_bd\"></span>\\n\\t\\t\\t\\t\\t\\t<i class=\"pm_ico_play\"><span class=\"blind\">재생</span></i>\\n\\t\\t\\t\\t\\t\\t<span class=\"theme_runtime\"><span class=\"runtime_bg\">재생시간</span><em class=\"time\">07:34</em></span>\\n\\t\\t\\t\\t\\t</div>\\n\\t\\t\\t\\t\\t<div class=\"media_info\">\\n\\t\\t\\t\\t\\t\\t<div class=\"info_box\">\\n\\t\\t\\t\\t\\t\\t\\t<strong class=\"title\">기은세가 픽한 가성비 데일리백</strong>\\n\\t\\t\\t\\t\\t\\t\\t<div class=\"source_wrap\">\\n\\t\\t\\t\\t\\t\\t\\t\\t<span class=\"date\">2개월 전</span>\\n\\t\\t\\t\\t\\t\\t\\t\\t<span class=\"source\">\\n                                    \\n                                    <span class=\"source_inner\">기은세 (Ki EunSe)</span>\\n                                </span>\\n\\t\\t\\t\\t\\t\\t\\t</div>\\n\\t\\t\\t\\t\\t\\t</div>\\n\\t\\t\\t\\t\\t</div>\\n\\t\\t\\t\\t</a>\\n\\t\\t\\t\\n\\t\\t\\t\\t<a href=\"https://tv.naver.com/v/22334005\" class=\"media_area\" data-gdid=\"613b3f66e14ccde4d9a59610\" data-clk=\"tcc_bty.video9cont2\" target=\"_blank\">\\n\\t\\t\\t\\t\\t<div class=\"media_thumb\">\\n\\t\\t\\t\\t\\t\\t<img  data-src=\"https://s.pstatic.net/dthumb.phinf/?src&#x3D;%22https%3A%2F%2Fs.pstatic.net%2Fshop.phinf%2F20210910_114%2F1631272635111TsM5k_JPEG%2F1631087453732.jpg%3Ftype%3Df342_264%22&amp;type&#x3D;nf464_260\" alt=\"선크림 제대로 바르는 법 알려줌\" width=\"232\" height=\"130\">\\n\\t\\t\\t\\t\\t\\t<span class=\"thumb_dim\"></span>\\n\\t\\t\\t\\t\\t\\t<span class=\"thumb_bd\"></span>\\n\\t\\t\\t\\t\\t\\t<i class=\"pm_ico_play\"><span class=\"blind\">재생</span></i>\\n\\t\\t\\t\\t\\t\\t<span class=\"theme_runtime\"><span class=\"runtime_bg\">재생시간</span><em class=\"time\">08:15</em></span>\\n\\t\\t\\t\\t\\t</div>\\n\\t\\t\\t\\t\\t<div class=\"media_info\">\\n\\t\\t\\t\\t\\t\\t<div class=\"info_box\">\\n\\t\\t\\t\\t\\t\\t\\t<strong class=\"title\">선크림 제대로 바르는 법 알려줌</strong>\\n\\t\\t\\t\\t\\t\\t\\t<div class=\"source_wrap\">\\n\\t\\t\\t\\t\\t\\t\\t\\t<span class=\"date\">3개월 전</span>\\n\\t\\t\\t\\t\\t\\t\\t\\t<span class=\"source\">\\n                                    \\n                                    <span class=\"source_inner\">백지수의 미미백</span>\\n                                </span>\\n\\t\\t\\t\\t\\t\\t\\t</div>\\n\\t\\t\\t\\t\\t\\t</div>\\n\\t\\t\\t\\t\\t</div>\\n\\t\\t\\t\\t</a>\\n\\t\\t\\t\\n\\t\\t\\t\\t<a href=\"https://tv.naver.com/v/22374940\" class=\"media_area\" data-gdid=\"17d6183f-49d3-4ea8-ab23-c62fc1eac721\" data-clk=\"tcc_bty.video9cont3\" target=\"_blank\">\\n\\t\\t\\t\\t\\t<div class=\"media_thumb\">\\n\\t\\t\\t\\t\\t\\t<img  data-src=\"https://s.pstatic.net/dthumb.phinf/?src&#x3D;%22https%3A%2F%2Fs.pstatic.net%2Fshop.phinf%2F20210910_17%2F1631274848634sN37D_JPEG%2F1631256711485.jpg%3Ftype%3Df342_264%22&amp;type&#x3D;nf464_260\" alt=\"F/W 랜선 런웨이에 초대합니다\" width=\"232\" height=\"130\">\\n\\t\\t\\t\\t\\t\\t<span class=\"thumb_dim\"></span>\\n\\t\\t\\t\\t\\t\\t<span class=\"thumb_bd\"></span>\\n\\t\\t\\t\\t\\t\\t<i class=\"pm_ico_play\"><span class=\"blind\">재생</span></i>\\n\\t\\t\\t\\t\\t\\t<span class=\"theme_runtime\"><span class=\"runtime_bg\">재생시간</span><em class=\"time\">09:47</em></span>\\n\\t\\t\\t\\t\\t</div>\\n\\t\\t\\t\\t\\t<div class=\"media_info\">\\n\\t\\t\\t\\t\\t\\t<div class=\"info_box\">\\n\\t\\t\\t\\t\\t\\t\\t<strong class=\"title\">F/W 랜선 런웨이에 초대합니다</strong>\\n\\t\\t\\t\\t\\t\\t\\t<div class=\"source_wrap\">\\n\\t\\t\\t\\t\\t\\t\\t\\t<span class=\"date\">3개월 전</span>\\n\\t\\t\\t\\t\\t\\t\\t\\t<span class=\"source\">\\n                                    \\n                                    <span class=\"source_inner\">채정안TV</span>\\n                                </span>\\n\\t\\t\\t\\t\\t\\t\\t</div>\\n\\t\\t\\t\\t\\t\\t</div>\\n\\t\\t\\t\\t\\t</div>\\n\\t\\t\\t\\t</a>\\n\\t\\t\\t\\n\\t\\t</div>\\n\\t</div>\\n</div>\\n<div class=\"group_theme\" data-block-id=\"\" data-block-code=\"PC-THEME-BEAUTY-MOBILE-RANKING-DEFAULT-9\" data-block-type=\"MATERIALS\" data-template-code=\"MOBILE-RANKING-LIST\"\\n\\n\\t data-da=\"container\"\\n\\t data-index=\"\"\\n     data-page=\"5\"\\n\\t style=\"display:none\">\\n\\n\\t<div class=\"list_theme_wrap\">\\n\\t\\t<ul class=\"list_theme\">\\n\\t\\t\\t\\n\\t\\t\\t\\t<li class=\"theme_item\" data-gdid=\"86e823e8-ad1e-4211-ba95-908b9377de65\" data-da-position=\"true\">\\n\\t\\t\\t\\t\\t<a href=\"https://post.naver.com/viewer/postView.naver?volumeNo&#x3D;32484160&amp;memberNo&#x3D;6331020\" class=\"theme_thumb\" data-clk=\"tcc_bty.list10cont1\" target=\"_blank\">\\n\\t\\t\\t\\t\\t\\t<img  data-src=\"https://s.pstatic.net/dthumb.phinf/?src&#x3D;%22https%3A%2F%2Fs.pstatic.net%2Fshop.phinf%2F20211007_183%2F1633596151573phegw_JPEG%2FT3.jpg%3Ftype%3Df342_264%22&amp;type&#x3D;nf340_228\" alt=\"열 많고 진정 필요한 분들 강추\" width=\"170\" height=\"114\">\\n\\t\\t\\t\\t\\t\\t<span class=\"thumb_bd\"></span>\\n\\t\\t\\t\\t\\t</a>\\n\\t\\t\\t\\t\\t<a href=\"https://post.naver.com/viewer/postView.naver?volumeNo&#x3D;32484160&amp;memberNo&#x3D;6331020\" class=\"theme_info\" data-clk=\"tcc_bty.list10cont1\" target=\"_blank\">\\n\\t\\t\\t\\t\\t\\t<em class=\"theme_category\"> 패션뷰티</em>\\n\\t\\t\\t\\t\\t\\t<strong class=\"title elss\">열 많고 진정 필요한 분들 강추</strong>\\n                        <p class=\"desc\">안녕하세요 여러분! 오늘은 오랜만에 광고만화를 가져왔어요. 브링그린 대나무 수액크림은 제가 8월달에 추천했었던 제품이었는데 그땐 더웠을 때라 지금이랑 또 다를 거잖아요? 근데 지금 써도 여전히 좋더라니까요?! 계절이 달라졌는데도요!!!여기서 포인트는 &#x27;이렇게 발라도 되나..?&#x27; 싶은 ㅋㅋ 수준의 두꺼운 양을 도포하는 게 진짜 중요해요!!! 와 진짜 신기하게</p>\\n\\t\\t\\t\\t\\t\\t<div class=\"source_box\">\\n\\t\\t\\t\\t\\t\\t\\t<span class=\"date\">2개월 전</span>\\n\\t\\t\\t\\t\\t\\t\\t<span class=\"source\">\\n                                \\n                                <span class=\"source_inner\">된다</span>\\n                            </span>\\n\\t\\t\\t\\t\\t\\t</div>\\n\\t\\t\\t\\t\\t</a>\\n\\t\\t\\t\\t</li>\\n\\t\\t\\t\\n\\t\\t\\t\\t<li class=\"theme_item\" data-gdid=\"615eb0e4c924b727e7d63eb6\" data-da-position=\"true\">\\n\\t\\t\\t\\t\\t<a href=\"https://blog.naver.com/jni_52/222509440753\" class=\"theme_thumb\" data-clk=\"tcc_bty.list10cont2\" target=\"_blank\">\\n\\t\\t\\t\\t\\t\\t<img  data-src=\"https://s.pstatic.net/dthumb.phinf/?src&#x3D;%22https%3A%2F%2Fs.pstatic.net%2Fshop.phinf%2F20211008_215%2F1633676423077HB1ma_JPEG%2FRG.jpg%3Ftype%3Df342_264%22&amp;type&#x3D;nf340_228\" alt=\"&#x27;아이오페&#x27; 비타민E 크림 추천\" width=\"170\" height=\"114\">\\n\\t\\t\\t\\t\\t\\t<span class=\"thumb_bd\"></span>\\n\\t\\t\\t\\t\\t</a>\\n\\t\\t\\t\\t\\t<a href=\"https://blog.naver.com/jni_52/222509440753\" class=\"theme_info\" data-clk=\"tcc_bty.list10cont2\" target=\"_blank\">\\n\\t\\t\\t\\t\\t\\t<em class=\"theme_category\"> 패션뷰티</em>\\n\\t\\t\\t\\t\\t\\t<strong class=\"title elss\">\\'아이오페\\' 비타민E 크림 추천</strong>\\n                        <p class=\"desc\">아이오페 밀크소프너 &amp; 비타민E크림 추천! 피부장벽+속보습 동시케어 안녕하세요! 뷰티크리에이터 메이쥬니입니다 :-) 왔ㄷㅏ네~ 왔다네~ 아이오페 덕후가 왔다네~~ㅋㅋㅋ 제 블로그 자주 오시는 분들은 아시겠지만 제가 진짜 아이오페 기초화장품을 정말 좋아하거든요. 연구소 기반 브랜드라 믿고 사용하는 기초브랜드 중 하나인데, 그동안 제가 아이오페 화장품 추천한 </p>\\n\\t\\t\\t\\t\\t\\t<div class=\"source_box\">\\n\\t\\t\\t\\t\\t\\t\\t<span class=\"date\">2개월 전</span>\\n\\t\\t\\t\\t\\t\\t\\t<span class=\"source\">\\n                                \\n                                <span class=\"source_inner\">메이쥬니</span>\\n                            </span>\\n\\t\\t\\t\\t\\t\\t</div>\\n\\t\\t\\t\\t\\t</a>\\n\\t\\t\\t\\t</li>\\n\\t\\t\\t\\n\\t\\t\\t\\t<li class=\"theme_item\" data-gdid=\"e946a030-cd22-47d2-a3e8-d02cf7a2581b\" data-da-position=\"true\">\\n\\t\\t\\t\\t\\t<a href=\"https://post.naver.com/viewer/postView.naver?volumeNo&#x3D;32472731&amp;memberNo&#x3D;51466650\" class=\"theme_thumb\" data-clk=\"tcc_bty.list10cont3\" target=\"_blank\">\\n\\t\\t\\t\\t\\t\\t<img  data-src=\"https://s.pstatic.net/dthumb.phinf/?src&#x3D;%22https%3A%2F%2Fs.pstatic.net%2Fshop.phinf%2F20211005_141%2F1633421684830vGhvO_JPEG%2FHJK.jpg%3Ftype%3Df342_264%22&amp;type&#x3D;nf340_228\" alt=\"스타들의 사복 코디 살펴보기\" width=\"170\" height=\"114\">\\n\\t\\t\\t\\t\\t\\t<span class=\"thumb_bd\"></span>\\n\\t\\t\\t\\t\\t</a>\\n\\t\\t\\t\\t\\t<a href=\"https://post.naver.com/viewer/postView.naver?volumeNo&#x3D;32472731&amp;memberNo&#x3D;51466650\" class=\"theme_info\" data-clk=\"tcc_bty.list10cont3\" target=\"_blank\">\\n\\t\\t\\t\\t\\t\\t<em class=\"theme_category\"> 패션뷰티</em>\\n\\t\\t\\t\\t\\t\\t<strong class=\"title elss\">스타들의 사복 코디 살펴보기</strong>\\n                        <p class=\"desc\">Hello, Nice to meet you! 핫한 패션, 뷰티, 라이프스타일 정보를 이야기하는 비비봇 입니다 ♥10월의 시작과 함께 스타들의 패션에도 가을이 가득했는데요 ~ 특히나 가볍고 편하게 착용 가능하지만 포인트는 제대로 줄 수 있는 아이템 !! &#x27;맨투맨 &amp; 후디&#x27; 구독자 여러분의 가을 스타일링을 위해 비비봇이 준비해 본 스타들의 </p>\\n\\t\\t\\t\\t\\t\\t<div class=\"source_box\">\\n\\t\\t\\t\\t\\t\\t\\t<span class=\"date\">2개월 전</span>\\n\\t\\t\\t\\t\\t\\t\\t<span class=\"source\">\\n                                \\n                                <span class=\"source_inner\">비비봇</span>\\n                            </span>\\n\\t\\t\\t\\t\\t\\t</div>\\n\\t\\t\\t\\t\\t</a>\\n\\t\\t\\t\\t</li>\\n\\t\\t\\t\\n\\t\\t\\t\\t<li class=\"theme_item\" data-gdid=\"4e724fd4-c7a4-4ba1-8beb-c51d551f1680\" data-da-position=\"true\">\\n\\t\\t\\t\\t\\t<a href=\"https://blog.naver.com/prettyh90/222496158501\" class=\"theme_thumb\" data-clk=\"tcc_bty.list10cont4\" target=\"_blank\">\\n\\t\\t\\t\\t\\t\\t<img  data-src=\"https://s.pstatic.net/dthumb.phinf/?src&#x3D;%22https%3A%2F%2Fs.pstatic.net%2Fshop.phinf%2F20211005_288%2F1633420310622tY0vM_JPEG%2F%25BF%25C0%25B4%25C3%25C0%25C7%25BA%25E4%25C6%25BC_10%25BF%25F99%25C0%25CF_1.jpg%3Ftype%3Df342_264%22&amp;type&#x3D;nf340_228\" alt=\"마스크로 턱드름이 고민일 때\" width=\"170\" height=\"114\">\\n\\t\\t\\t\\t\\t\\t<span class=\"thumb_bd\"></span>\\n\\t\\t\\t\\t\\t</a>\\n\\t\\t\\t\\t\\t<a href=\"https://blog.naver.com/prettyh90/222496158501\" class=\"theme_info\" data-clk=\"tcc_bty.list10cont4\" target=\"_blank\">\\n\\t\\t\\t\\t\\t\\t<em class=\"theme_category\"> 패션뷰티</em>\\n\\t\\t\\t\\t\\t\\t<strong class=\"title elss\">마스크로 턱드름이 고민일 때</strong>\\n                        <p class=\"desc\">bye od-td SPOT CALMING GEL 안녕하세요. 기초 크리에이터 연쁘에요💚 드디어!!! 제가 직접 기획하고 만든!! LG생활건강 &amp; 뷰스타 연쁘 콜라보 여드름성 피부 케어 기초화장품!! &#x27;바이오디티디(bye od-td)&#x27; 라인업이 출시되었어요! 개발 과정에서 소개했다시피 클렌저, 크림, 스팟, 트리트먼트, 쿠션 총 다섯 가지 제품이 최종 출시</p>\\n\\t\\t\\t\\t\\t\\t<div class=\"source_box\">\\n\\t\\t\\t\\t\\t\\t\\t<span class=\"date\">3개월 전</span>\\n\\t\\t\\t\\t\\t\\t\\t<span class=\"source\">\\n                                \\n                                <span class=\"source_inner\">연쁘</span>\\n                            </span>\\n\\t\\t\\t\\t\\t\\t</div>\\n\\t\\t\\t\\t\\t</a>\\n\\t\\t\\t\\t</li>\\n\\t\\t\\t\\n\\t\\t\\t\\t<li class=\"theme_item\" data-gdid=\"ec56e713-9c74-4deb-9c7b-8930de9cf325\" data-da-position=\"true\">\\n\\t\\t\\t\\t\\t<a href=\"https://m.blog.naver.com/lsn0211/222339554798\" class=\"theme_thumb\" data-clk=\"tcc_bty.list10cont5\" target=\"_blank\">\\n\\t\\t\\t\\t\\t\\t<img  data-src=\"https://s.pstatic.net/dthumb.phinf/?src&#x3D;%22https%3A%2F%2Fs.pstatic.net%2Fshop.phinf%2F20211007_138%2F1633594286357LaIu9_JPEG%2Ftrh.jpg%3Ftype%3Df342_264%22&amp;type&#x3D;nf340_228\" alt=\"투페이스드 하트 블러셔 5가지\" width=\"170\" height=\"114\">\\n\\t\\t\\t\\t\\t\\t<span class=\"thumb_bd\"></span>\\n\\t\\t\\t\\t\\t</a>\\n\\t\\t\\t\\t\\t<a href=\"https://m.blog.naver.com/lsn0211/222339554798\" class=\"theme_info\" data-clk=\"tcc_bty.list10cont5\" target=\"_blank\">\\n\\t\\t\\t\\t\\t\\t<em class=\"theme_category\"> 패션뷰티</em>\\n\\t\\t\\t\\t\\t\\t<strong class=\"title elss\">투페이스드 하트 블러셔 5가지</strong>\\n                        <p class=\"desc\">안녕하세요 &#x27;ㅅ&#x27;)/ E양입니당 오늘은 초 귀여운 토끼 블러셔.. 투페이스드 하트 플러쉬 워터 컬러 블러쉬 5가지 신상 컬러 보여드릴게욤 ! 4월 26일 출시되었는데 5월 6일 오늘 !! 이벤트가 있어요 먼저 발색 보여드리고, 마지막에 정리해서 알려드릴테니 구입하실 분들은 체크하세용! 요것이 별명이 여러가지가 있습니다만! 하트실크블러셔라는 별명이 있어욥 파</p>\\n\\t\\t\\t\\t\\t\\t<div class=\"source_box\">\\n\\t\\t\\t\\t\\t\\t\\t<span class=\"date\">7개월 전</span>\\n\\t\\t\\t\\t\\t\\t\\t<span class=\"source\">\\n                                \\n                                <span class=\"source_inner\">E양</span>\\n                            </span>\\n\\t\\t\\t\\t\\t\\t</div>\\n\\t\\t\\t\\t\\t</a>\\n\\t\\t\\t\\t</li>\\n\\t\\t\\t\\n\\t\\t</ul>\\n\\t</div>\\n</div>\\n<div class=\"group_theme\" data-block-id=\"\" data-block-code=\"PC-THEME-BEAUTY-MOBILE-RANKING-VIDEO-9\" data-block-type=\"MATERIALS\" data-template-code=\"MOBILE-RANKING-VIDEO-LIST\"\\n\\n\\t data-index=\"\"\\n\\t data-page=\"5\"\\n\\t style=\"display:none\">\\n\\n\\t<div class=\"media_view_wrap type_column\">\\n\\t\\t<div class=\"media_view\">\\n\\t\\t\\t\\n\\t\\t\\t\\t<a href=\"https://tv.naver.com/v/22356944\" class=\"media_area\" data-gdid=\"e394d89d-a1af-4d24-84a8-9dfacf8a53ff\" data-clk=\"tcc_bty.video10cont1\" target=\"_blank\">\\n\\t\\t\\t\\t\\t<div class=\"media_thumb\">\\n\\t\\t\\t\\t\\t\\t<img  data-src=\"https://s.pstatic.net/dthumb.phinf/?src&#x3D;%22https%3A%2F%2Fs.pstatic.net%2Fshop.phinf%2F20210910_102%2F1631273049302BDkJh_JPEG%2F3t.jpg%3Ftype%3Df342_264%22&amp;type&#x3D;nf464_260\" alt=\"하이틴 느낌 물씬 나는 리폼 팁\" width=\"232\" height=\"130\">\\n\\t\\t\\t\\t\\t\\t<span class=\"thumb_dim\"></span>\\n\\t\\t\\t\\t\\t\\t<span class=\"thumb_bd\"></span>\\n\\t\\t\\t\\t\\t\\t<i class=\"pm_ico_play\"><span class=\"blind\">재생</span></i>\\n\\t\\t\\t\\t\\t\\t<span class=\"theme_runtime\"><span class=\"runtime_bg\">재생시간</span><em class=\"time\">07:20</em></span>\\n\\t\\t\\t\\t\\t</div>\\n\\t\\t\\t\\t\\t<div class=\"media_info\">\\n\\t\\t\\t\\t\\t\\t<div class=\"info_box\">\\n\\t\\t\\t\\t\\t\\t\\t<strong class=\"title\">하이틴 느낌 물씬 나는 리폼 팁</strong>\\n\\t\\t\\t\\t\\t\\t\\t<div class=\"source_wrap\">\\n\\t\\t\\t\\t\\t\\t\\t\\t<span class=\"date\">3개월 전</span>\\n\\t\\t\\t\\t\\t\\t\\t\\t<span class=\"source\">\\n                                    \\n                                    <span class=\"source_inner\">누엘</span>\\n                                </span>\\n\\t\\t\\t\\t\\t\\t\\t</div>\\n\\t\\t\\t\\t\\t\\t</div>\\n\\t\\t\\t\\t\\t</div>\\n\\t\\t\\t\\t</a>\\n\\t\\t\\t\\n\\t\\t\\t\\t<a href=\"https://tv.naver.com/v/22296601\" class=\"media_area\" data-gdid=\"6eb60168-11ef-412f-abf1-5d8f6c84c2b2\" data-clk=\"tcc_bty.video10cont2\" target=\"_blank\">\\n\\t\\t\\t\\t\\t<div class=\"media_thumb\">\\n\\t\\t\\t\\t\\t\\t<img  data-src=\"https://s.pstatic.net/dthumb.phinf/?src&#x3D;%22https%3A%2F%2Fs.pstatic.net%2Fshop.phinf%2F20210909_4%2F1631188417065liHUl_JPEG%2F1630924013197.jpg%3Ftype%3Df342_264%22&amp;type&#x3D;nf464_260\" alt=\"2021 F/W 트렌드 맛보기\" width=\"232\" height=\"130\">\\n\\t\\t\\t\\t\\t\\t<span class=\"thumb_dim\"></span>\\n\\t\\t\\t\\t\\t\\t<span class=\"thumb_bd\"></span>\\n\\t\\t\\t\\t\\t\\t<i class=\"pm_ico_play\"><span class=\"blind\">재생</span></i>\\n\\t\\t\\t\\t\\t\\t<span class=\"theme_runtime\"><span class=\"runtime_bg\">재생시간</span><em class=\"time\">09:10</em></span>\\n\\t\\t\\t\\t\\t</div>\\n\\t\\t\\t\\t\\t<div class=\"media_info\">\\n\\t\\t\\t\\t\\t\\t<div class=\"info_box\">\\n\\t\\t\\t\\t\\t\\t\\t<strong class=\"title\">2021 F/W 트렌드 맛보기</strong>\\n\\t\\t\\t\\t\\t\\t\\t<div class=\"source_wrap\">\\n\\t\\t\\t\\t\\t\\t\\t\\t<span class=\"date\">3개월 전</span>\\n\\t\\t\\t\\t\\t\\t\\t\\t<span class=\"source\">\\n                                    \\n                                    <span class=\"source_inner\">채정안TV</span>\\n                                </span>\\n\\t\\t\\t\\t\\t\\t\\t</div>\\n\\t\\t\\t\\t\\t\\t</div>\\n\\t\\t\\t\\t\\t</div>\\n\\t\\t\\t\\t</a>\\n\\t\\t\\t\\n\\t\\t\\t\\t<a href=\"https://tv.naver.com/v/22212259\" class=\"media_area\" data-gdid=\"a1f24564-5c2a-4f03-8835-3c48bdd1b620\" data-clk=\"tcc_bty.video10cont3\" target=\"_blank\">\\n\\t\\t\\t\\t\\t<div class=\"media_thumb\">\\n\\t\\t\\t\\t\\t\\t<img  data-src=\"https://s.pstatic.net/dthumb.phinf/?src&#x3D;%22https%3A%2F%2Fs.pstatic.net%2Fshop.phinf%2F20210907_127%2F16310030513862IexG_JPEG%2F1630569167341.jpg%3Ftype%3Df342_264%22&amp;type&#x3D;nf464_260\" alt=\"사계절 신기 좋은 스니커즈. zip\" width=\"232\" height=\"130\">\\n\\t\\t\\t\\t\\t\\t<span class=\"thumb_dim\"></span>\\n\\t\\t\\t\\t\\t\\t<span class=\"thumb_bd\"></span>\\n\\t\\t\\t\\t\\t\\t<i class=\"pm_ico_play\"><span class=\"blind\">재생</span></i>\\n\\t\\t\\t\\t\\t\\t<span class=\"theme_runtime\"><span class=\"runtime_bg\">재생시간</span><em class=\"time\">07:48</em></span>\\n\\t\\t\\t\\t\\t</div>\\n\\t\\t\\t\\t\\t<div class=\"media_info\">\\n\\t\\t\\t\\t\\t\\t<div class=\"info_box\">\\n\\t\\t\\t\\t\\t\\t\\t<strong class=\"title\">사계절 신기 좋은 스니커즈. zip</strong>\\n\\t\\t\\t\\t\\t\\t\\t<div class=\"source_wrap\">\\n\\t\\t\\t\\t\\t\\t\\t\\t<span class=\"date\">3개월 전</span>\\n\\t\\t\\t\\t\\t\\t\\t\\t<span class=\"source\">\\n                                    \\n                                    <span class=\"source_inner\">Noblesse TV 노블레스 티비</span>\\n                                </span>\\n\\t\\t\\t\\t\\t\\t\\t</div>\\n\\t\\t\\t\\t\\t\\t</div>\\n\\t\\t\\t\\t\\t</div>\\n\\t\\t\\t\\t</a>\\n\\t\\t\\t\\n\\t\\t</div>\\n\\t</div>\\n</div>\\n<div class=\"group_theme\" data-block-id=\"\" data-block-code=\"PC-THEME-BEAUTY-MOBILE-RANKING-DEFAULT-10\" data-block-type=\"MATERIALS\" data-template-code=\"MOBILE-RANKING-LIST\"\\n\\n\\t data-da=\"container\"\\n\\t data-index=\"\"\\n     data-page=\"6\"\\n\\t style=\"display:none\">\\n\\n\\t<div class=\"list_theme_wrap\">\\n\\t\\t<ul class=\"list_theme\">\\n\\t\\t\\t\\n\\t\\t\\t\\t<li class=\"theme_item\" data-gdid=\"0eae3e5f-fef5-42e2-aa87-f91dd661b87d\" data-da-position=\"true\">\\n\\t\\t\\t\\t\\t<a href=\"https://blog.naver.com/grandheamur/222500992691\" class=\"theme_thumb\" data-clk=\"tcc_bty.list11cont1\" target=\"_blank\">\\n\\t\\t\\t\\t\\t\\t<img  data-src=\"https://s.pstatic.net/dthumb.phinf/?src&#x3D;%22https%3A%2F%2Fs.pstatic.net%2Fshop.phinf%2F20211005_138%2F1633420030718tb7mI_JPEG%2F%25BF%25C0%25B4%25C3%25C0%25C7%25BA%25E4%25C6%25BC_10%25BF%25F98%25C0%25CF_1.jpg%3Ftype%3Df342_264%22&amp;type&#x3D;nf340_228\" alt=\"남자가 써도 좋은 트러블 진정젤\" width=\"170\" height=\"114\">\\n\\t\\t\\t\\t\\t\\t<span class=\"thumb_bd\"></span>\\n\\t\\t\\t\\t\\t</a>\\n\\t\\t\\t\\t\\t<a href=\"https://blog.naver.com/grandheamur/222500992691\" class=\"theme_info\" data-clk=\"tcc_bty.list11cont1\" target=\"_blank\">\\n\\t\\t\\t\\t\\t\\t<em class=\"theme_category\"> 패션뷰티</em>\\n\\t\\t\\t\\t\\t\\t<strong class=\"title elss\">남자가 써도 좋은 트러블 진정젤</strong>\\n                        <p class=\"desc\">여드름성 피부가 아니더라도 드문드문 생기는 뾰루지나 여드름 등의 피부 트러블 때문에 스트레스 받을 때가 있죠 피부 트러블 원인으로 유수분 밸런스 붕괴, 외부 내부 자극, 호르몬, 주변 환경 등 수없이 다양하기 때문에 아무리 관리하더라도 소리 소문 없이 나타나는 피부 트러블을 완벽하게 차단하는 것은 무척 어렵습니다 그렇기 때문에 피부 트러블 발생 직후 어떻게</p>\\n\\t\\t\\t\\t\\t\\t<div class=\"source_box\">\\n\\t\\t\\t\\t\\t\\t\\t<span class=\"date\">3개월 전</span>\\n\\t\\t\\t\\t\\t\\t\\t<span class=\"source\">\\n                                \\n                                <span class=\"source_inner\">INFO알리미</span>\\n                            </span>\\n\\t\\t\\t\\t\\t\\t</div>\\n\\t\\t\\t\\t\\t</a>\\n\\t\\t\\t\\t</li>\\n\\t\\t\\t\\n\\t\\t\\t\\t<li class=\"theme_item\" data-gdid=\"f3569071-423f-4686-afd0-8818324ef8fa\" data-da-position=\"true\">\\n\\t\\t\\t\\t\\t<a href=\"https://blog.naver.com/youmen2as/222522002170\" class=\"theme_thumb\" data-clk=\"tcc_bty.list11cont2\" target=\"_blank\">\\n\\t\\t\\t\\t\\t\\t<img  data-src=\"https://s.pstatic.net/dthumb.phinf/?src&#x3D;%22https%3A%2F%2Fs.pstatic.net%2Fshop.phinf%2F20211005_50%2F1633420148569Lx7KD_JPEG%2Fj.jpg%3Ftype%3Df342_264%22&amp;type&#x3D;nf340_228\" alt=\"톰포드뷰티 NEW 누드 립 컬렉션\" width=\"170\" height=\"114\">\\n\\t\\t\\t\\t\\t\\t<span class=\"thumb_bd\"></span>\\n\\t\\t\\t\\t\\t</a>\\n\\t\\t\\t\\t\\t<a href=\"https://blog.naver.com/youmen2as/222522002170\" class=\"theme_info\" data-clk=\"tcc_bty.list11cont2\" target=\"_blank\">\\n\\t\\t\\t\\t\\t\\t<em class=\"theme_category\"> 패션뷰티</em>\\n\\t\\t\\t\\t\\t\\t<strong class=\"title elss\">톰포드뷰티 NEW 누드 립 컬렉션</strong>\\n                        <p class=\"desc\">TOMFORD BEAUTY LIP COLOR N1, N2, N3 NEW 누드 립 컬러 돌체, 웨스트코스트, 모카로즈 - 안뇽하세요 뷰스타 쥬쥬예요 &#x27;A&#x27; 9월 신상으로 톰포드뷰티에서 모스트원티드 누드립 NEW 컬러 3종이 출시되어서 발색해보았어요!ㅎㅎ 풀커버리지, 크림텍스처, 사틴 피니시로 8시간동안 번짐 없이 지속되는 선명한 립 컬러가 특징! 톰포드는 그</p>\\n\\t\\t\\t\\t\\t\\t<div class=\"source_box\">\\n\\t\\t\\t\\t\\t\\t\\t<span class=\"date\">2개월 전</span>\\n\\t\\t\\t\\t\\t\\t\\t<span class=\"source\">\\n                                \\n                                <span class=\"source_inner\">쥬쥬</span>\\n                            </span>\\n\\t\\t\\t\\t\\t\\t</div>\\n\\t\\t\\t\\t\\t</a>\\n\\t\\t\\t\\t</li>\\n\\t\\t\\t\\n\\t\\t\\t\\t<li class=\"theme_item\" data-gdid=\"615c02a7271e7d3c01878f98\" data-da-position=\"true\">\\n\\t\\t\\t\\t\\t<a href=\"https://m.blog.naver.com/a_kim33/222336535402\" class=\"theme_thumb\" data-clk=\"tcc_bty.list11cont3\" target=\"_blank\">\\n\\t\\t\\t\\t\\t\\t<img  data-src=\"https://s.pstatic.net/dthumb.phinf/?src&#x3D;%22https%3A%2F%2Fs.pstatic.net%2Fshop.phinf%2F20211007_154%2F1633593303010uAWgK_JPEG%2Fw.jpg%3Ftype%3Df342_264%22&amp;type&#x3D;nf340_228\" alt=\"투페이스드 러브 플러쉬 발색샷\" width=\"170\" height=\"114\">\\n\\t\\t\\t\\t\\t\\t<span class=\"thumb_bd\"></span>\\n\\t\\t\\t\\t\\t</a>\\n\\t\\t\\t\\t\\t<a href=\"https://m.blog.naver.com/a_kim33/222336535402\" class=\"theme_info\" data-clk=\"tcc_bty.list11cont3\" target=\"_blank\">\\n\\t\\t\\t\\t\\t\\t<em class=\"theme_category\"> 패션뷰티</em>\\n\\t\\t\\t\\t\\t\\t<strong class=\"title elss\">투페이스드 러브 플러쉬 발색샷</strong>\\n                        <p class=\"desc\">안녕하세요, 아킴입니다 :) 나를 사랑으로 채워줘요. 사랑의 밧데리가 다 됐나 봐요. 이 노래가 생각나는 본격 하뚜 블러셔 네, 그렇습니다. 투페이스드의 명불허전템 하트 블러셔인데요, 완전히 새로워진 신상이 출시됐다는 겁니다!! ㅠㅠㅠㅠㅠㅠㅠㅠㅠ 저는 기존의 하트 블러셔도 참 좋아했지만 더 좋아진 NEW 하트 블러셔도 참 맘에 들었어요.... ㅎ_ㅎ 바로 </p>\\n\\t\\t\\t\\t\\t\\t<div class=\"source_box\">\\n\\t\\t\\t\\t\\t\\t\\t<span class=\"date\">7개월 전</span>\\n\\t\\t\\t\\t\\t\\t\\t<span class=\"source\">\\n                                \\n                                <span class=\"source_inner\">아킴</span>\\n                            </span>\\n\\t\\t\\t\\t\\t\\t</div>\\n\\t\\t\\t\\t\\t</a>\\n\\t\\t\\t\\t</li>\\n\\t\\t\\t\\n\\t\\t\\t\\t<li class=\"theme_item\" data-gdid=\"615bf743509e8a6ac31cc67e\" data-da-position=\"true\">\\n\\t\\t\\t\\t\\t<a href=\"https://blog.naver.com/rincyan/222494351687\" class=\"theme_thumb\" data-clk=\"tcc_bty.list11cont4\" target=\"_blank\">\\n\\t\\t\\t\\t\\t\\t<img  data-src=\"https://s.pstatic.net/dthumb.phinf/?src&#x3D;%22https%3A%2F%2Fs.pstatic.net%2Fshop.phinf%2F20211005_13%2F16334169322454vr4Y_JPEG%2F%25B4%25DC%25B5%25B6_10%25BF%25F97%25C0%25CF_%25BD%25E63.jpg%3Ftype%3Df226%22&amp;type&#x3D;nf340_228\" alt=\"뷰스타 찐리뷰\" width=\"170\" height=\"114\">\\n\\t\\t\\t\\t\\t\\t<span class=\"thumb_bd\"></span>\\n\\t\\t\\t\\t\\t</a>\\n\\t\\t\\t\\t\\t<a href=\"https://blog.naver.com/rincyan/222494351687\" class=\"theme_info\" data-clk=\"tcc_bty.list11cont4\" target=\"_blank\">\\n\\t\\t\\t\\t\\t\\t<em class=\"theme_category\"> 패션뷰티</em>\\n\\t\\t\\t\\t\\t\\t<strong class=\"title elss\">뷰스타 찐리뷰</strong>\\n                        <p class=\"desc\">LG생활건강과 함께 2020년 12월부터 공동개발로 참여해온 프로젝트가 2021년 8월 끝자락에 막을 내렸습니다. 수많은 테스트와 회의를 걸쳐 고스란히 결과로 보여줄 수 있는 제품으로 담아내어 드디어 여러분에게 보여드릴 수 있게 되었어요. 바이오디티디(bye od-td)는 총 5가지 종류로 스페셜 케어 라인과 데일리 케어 라인으로 나뉘어 구성되어 있는데요.</p>\\n\\t\\t\\t\\t\\t\\t<div class=\"source_box\">\\n\\t\\t\\t\\t\\t\\t\\t<span class=\"date\">3개월 전</span>\\n\\t\\t\\t\\t\\t\\t\\t<span class=\"source\">\\n                                \\n                                <span class=\"source_inner\">린짱</span>\\n                            </span>\\n\\t\\t\\t\\t\\t\\t</div>\\n\\t\\t\\t\\t\\t</a>\\n\\t\\t\\t\\t</li>\\n\\t\\t\\t\\n\\t\\t\\t\\t<li class=\"theme_item\" data-gdid=\"6156ddd3509e8a6ac31c876a\" data-da-position=\"true\">\\n\\t\\t\\t\\t\\t<a href=\"https://post.naver.com/viewer/postView.naver?volumeNo&#x3D;32454406&amp;memberNo&#x3D;10253678\" class=\"theme_thumb\" data-clk=\"tcc_bty.list11cont5\" target=\"_blank\">\\n\\t\\t\\t\\t\\t\\t<img  data-src=\"https://s.pstatic.net/dthumb.phinf/?src&#x3D;%22https%3A%2F%2Fs.pstatic.net%2Fshop.phinf%2F20211001_200%2F16330827218453tID1_JPEG%2F%25C0%25FC%25BC%25D2%25B9%25CC_%25C0%25CE%25BD%25BA%25C5%25B8%25B1%25D7%25B7%25A5_%25281%2529.jpg%3Ftype%3Df342_264%22&amp;type&#x3D;nf340_228\" alt=\"귀엽고 스타일리쉬한 조끼 코디\" width=\"170\" height=\"114\">\\n\\t\\t\\t\\t\\t\\t<span class=\"thumb_bd\"></span>\\n\\t\\t\\t\\t\\t</a>\\n\\t\\t\\t\\t\\t<a href=\"https://post.naver.com/viewer/postView.naver?volumeNo&#x3D;32454406&amp;memberNo&#x3D;10253678\" class=\"theme_info\" data-clk=\"tcc_bty.list11cont5\" target=\"_blank\">\\n\\t\\t\\t\\t\\t\\t<em class=\"theme_category\"> 패션뷰티</em>\\n\\t\\t\\t\\t\\t\\t<strong class=\"title elss\">귀엽고 스타일리쉬한 조끼 코디</strong>\\n                        <p class=\"desc\">스타일을 살리면서 보온성까지 더할 수 있는조끼 아이템을 찾는 패피가 늘어나고 있는데요.사랑스럽고 캐주얼한 매력을 더해주는 조끼 아이템!어떻게 코디해야 할지 고민이라면셀럽들의 코디를 참고해 볼까요? 사진&#x3D;도연 인스타그램 도연은 조끼 아이템만 착용해페미닌룩을 완성했는데요.브라운 컬러의 루즈한 조끼만 단독으로 착용하고가방 컬러도 톤온톤으로 맞춰 시크한 무</p>\\n\\t\\t\\t\\t\\t\\t<div class=\"source_box\">\\n\\t\\t\\t\\t\\t\\t\\t<span class=\"date\">2개월 전</span>\\n\\t\\t\\t\\t\\t\\t\\t<span class=\"source\">\\n                                \\n                                <span class=\"source_inner\">골든걸 by 동아일보</span>\\n                            </span>\\n\\t\\t\\t\\t\\t\\t</div>\\n\\t\\t\\t\\t\\t</a>\\n\\t\\t\\t\\t</li>\\n\\t\\t\\t\\n\\t\\t</ul>\\n\\t</div>\\n</div>\\n<div class=\"group_theme\" data-block-id=\"\" data-block-code=\"PC-THEME-BEAUTY-MOBILE-RANKING-VIDEO-10\" data-block-type=\"MATERIALS\" data-template-code=\"MOBILE-RANKING-VIDEO-LIST\"\\n\\n\\t data-index=\"\"\\n\\t data-page=\"6\"\\n\\t style=\"display:none\">\\n\\n\\t<div class=\"media_view_wrap type_column\">\\n\\t\\t<div class=\"media_view\">\\n\\t\\t\\t\\n\\t\\t\\t\\t<a href=\"https://tv.naver.com/v/22163900\" class=\"media_area\" data-gdid=\"9c27472d-03fb-4638-8d6d-32d7d231756b\" data-clk=\"tcc_bty.video11cont1\" target=\"_blank\">\\n\\t\\t\\t\\t\\t<div class=\"media_thumb\">\\n\\t\\t\\t\\t\\t\\t<img  data-src=\"https://s.pstatic.net/dthumb.phinf/?src&#x3D;%22https%3A%2F%2Fs.pstatic.net%2Fshop.phinf%2F20210903_15%2F1630653087521lb7Ie_JPEG%2F1630459502501.jpg%3Ftype%3Df342_264%22&amp;type&#x3D;nf464_260\" alt=\"H&amp;M x 토가 콜라보 같이 봐요\" width=\"232\" height=\"130\">\\n\\t\\t\\t\\t\\t\\t<span class=\"thumb_dim\"></span>\\n\\t\\t\\t\\t\\t\\t<span class=\"thumb_bd\"></span>\\n\\t\\t\\t\\t\\t\\t<i class=\"pm_ico_play\"><span class=\"blind\">재생</span></i>\\n\\t\\t\\t\\t\\t\\t<span class=\"theme_runtime\"><span class=\"runtime_bg\">재생시간</span><em class=\"time\">11:34</em></span>\\n\\t\\t\\t\\t\\t</div>\\n\\t\\t\\t\\t\\t<div class=\"media_info\">\\n\\t\\t\\t\\t\\t\\t<div class=\"info_box\">\\n\\t\\t\\t\\t\\t\\t\\t<strong class=\"title\">H&M x 토가 콜라보 같이 봐요</strong>\\n\\t\\t\\t\\t\\t\\t\\t<div class=\"source_wrap\">\\n\\t\\t\\t\\t\\t\\t\\t\\t<span class=\"date\">3개월 전</span>\\n\\t\\t\\t\\t\\t\\t\\t\\t<span class=\"source\">\\n                                    \\n                                    <span class=\"source_inner\">옆집언니 최실장</span>\\n                                </span>\\n\\t\\t\\t\\t\\t\\t\\t</div>\\n\\t\\t\\t\\t\\t\\t</div>\\n\\t\\t\\t\\t\\t</div>\\n\\t\\t\\t\\t</a>\\n\\t\\t\\t\\n\\t\\t\\t\\t<a href=\"https://tv.naver.com/v/22125085\" class=\"media_area\" data-gdid=\"612ddbfda18b183444757095\" data-clk=\"tcc_bty.video11cont2\" target=\"_blank\">\\n\\t\\t\\t\\t\\t<div class=\"media_thumb\">\\n\\t\\t\\t\\t\\t\\t<img  data-src=\"https://s.pstatic.net/dthumb.phinf/?src&#x3D;%22https%3A%2F%2Fs.pstatic.net%2Fshop.phinf%2F20210831_125%2F1630395251958K5Ihm_JPEG%2Ferh.jpg%3Ftype%3Df342_264%22&amp;type&#x3D;nf464_260\" alt=\"하이틴 감성 낭낭한 아이템 .list\" width=\"232\" height=\"130\">\\n\\t\\t\\t\\t\\t\\t<span class=\"thumb_dim\"></span>\\n\\t\\t\\t\\t\\t\\t<span class=\"thumb_bd\"></span>\\n\\t\\t\\t\\t\\t\\t<i class=\"pm_ico_play\"><span class=\"blind\">재생</span></i>\\n\\t\\t\\t\\t\\t\\t<span class=\"theme_runtime\"><span class=\"runtime_bg\">재생시간</span><em class=\"time\">06:47</em></span>\\n\\t\\t\\t\\t\\t</div>\\n\\t\\t\\t\\t\\t<div class=\"media_info\">\\n\\t\\t\\t\\t\\t\\t<div class=\"info_box\">\\n\\t\\t\\t\\t\\t\\t\\t<strong class=\"title\">하이틴 감성 낭낭한 아이템 .list</strong>\\n\\t\\t\\t\\t\\t\\t\\t<div class=\"source_wrap\">\\n\\t\\t\\t\\t\\t\\t\\t\\t<span class=\"date\">3개월 전</span>\\n\\t\\t\\t\\t\\t\\t\\t\\t<span class=\"source\">\\n                                    \\n                                    <span class=\"source_inner\">화장품덕질하는코덕 임라온 LIMRAON</span>\\n                                </span>\\n\\t\\t\\t\\t\\t\\t\\t</div>\\n\\t\\t\\t\\t\\t\\t</div>\\n\\t\\t\\t\\t\\t</div>\\n\\t\\t\\t\\t</a>\\n\\t\\t\\t\\n\\t\\t\\t\\t<a href=\"https://tv.naver.com/v/22109288\" class=\"media_area\" data-gdid=\"612dda8ed30e276efaf2b54e\" data-clk=\"tcc_bty.video11cont3\" target=\"_blank\">\\n\\t\\t\\t\\t\\t<div class=\"media_thumb\">\\n\\t\\t\\t\\t\\t\\t<img  data-src=\"https://s.pstatic.net/dthumb.phinf/?src&#x3D;%22https%3A%2F%2Fs.pstatic.net%2Fshop.phinf%2F20210831_196%2F1630394790363tloim_JPEG%2F1630071794414.jpg%3Ftype%3Df342_264%22&amp;type&#x3D;nf464_260\" alt=\"레깅스 고를 때 주의해야 할 점\" width=\"232\" height=\"130\">\\n\\t\\t\\t\\t\\t\\t<span class=\"thumb_dim\"></span>\\n\\t\\t\\t\\t\\t\\t<span class=\"thumb_bd\"></span>\\n\\t\\t\\t\\t\\t\\t<i class=\"pm_ico_play\"><span class=\"blind\">재생</span></i>\\n\\t\\t\\t\\t\\t\\t<span class=\"theme_runtime\"><span class=\"runtime_bg\">재생시간</span><em class=\"time\">11:14</em></span>\\n\\t\\t\\t\\t\\t</div>\\n\\t\\t\\t\\t\\t<div class=\"media_info\">\\n\\t\\t\\t\\t\\t\\t<div class=\"info_box\">\\n\\t\\t\\t\\t\\t\\t\\t<strong class=\"title\">레깅스 고를 때 주의해야 할 점</strong>\\n\\t\\t\\t\\t\\t\\t\\t<div class=\"source_wrap\">\\n\\t\\t\\t\\t\\t\\t\\t\\t<span class=\"date\">3개월 전</span>\\n\\t\\t\\t\\t\\t\\t\\t\\t<span class=\"source\">\\n                                    \\n                                    <span class=\"source_inner\">옆집언니 최실장</span>\\n                                </span>\\n\\t\\t\\t\\t\\t\\t\\t</div>\\n\\t\\t\\t\\t\\t\\t</div>\\n\\t\\t\\t\\t\\t</div>\\n\\t\\t\\t\\t</a>\\n\\t\\t\\t\\n\\t\\t</div>\\n\\t</div>\\n</div>\\n<div class=\"group_theme\" data-block-id=\"\" data-block-code=\"PC-THEME-BEAUTY-MOBILE-RANKING-DEFAULT-11\" data-block-type=\"MATERIALS\" data-template-code=\"MOBILE-RANKING-LIST\"\\n\\n\\t data-da=\"container\"\\n\\t data-index=\"\"\\n     data-page=\"6\"\\n\\t style=\"display:none\">\\n\\n\\t<div class=\"list_theme_wrap\">\\n\\t\\t<ul class=\"list_theme\">\\n\\t\\t\\t\\n\\t\\t\\t\\t<li class=\"theme_item\" data-gdid=\"fa46ddb4-c297-4acb-a79a-ccf007cbf69a\" data-da-position=\"true\">\\n\\t\\t\\t\\t\\t<a href=\"https://post.naver.com/viewer/postView.naver?volumeNo&#x3D;32458204&amp;memberNo&#x3D;35829640\" class=\"theme_thumb\" data-clk=\"tcc_bty.list12cont1\" target=\"_blank\">\\n\\t\\t\\t\\t\\t\\t<img  data-src=\"https://s.pstatic.net/dthumb.phinf/?src&#x3D;%22https%3A%2F%2Fs.pstatic.net%2Fshop.phinf%2F20211001_161%2F1633082038521PvE7I_JPEG%2Fg.jpg%3Ftype%3Df342_264%22&amp;type&#x3D;nf340_228\" alt=\"촉촉 글로시 메이크업템 베스트\" width=\"170\" height=\"114\">\\n\\t\\t\\t\\t\\t\\t<span class=\"thumb_bd\"></span>\\n\\t\\t\\t\\t\\t</a>\\n\\t\\t\\t\\t\\t<a href=\"https://post.naver.com/viewer/postView.naver?volumeNo&#x3D;32458204&amp;memberNo&#x3D;35829640\" class=\"theme_info\" data-clk=\"tcc_bty.list12cont1\" target=\"_blank\">\\n\\t\\t\\t\\t\\t\\t<em class=\"theme_category\"> 패션뷰티</em>\\n\\t\\t\\t\\t\\t\\t<strong class=\"title elss\">촉촉 글로시 메이크업템 베스트</strong>\\n                        <p class=\"desc\">안녕하세요 궁금했던 뷰티정보를 콕! 집어 알려주는 뷰티매거진 &quot;뷰티핀&quot; 입니다. 건조함의 계절이 시작되면서 뭘 발라도 피부가 푸석푸석해보이고 건조해보여서 고민이 많으시다구요? 그래서 준비해보았습니다 ♬피부결은 더욱더 매끈하고 광택감있게 건조함은 촉촉하게 잡아주는 촉촉 글로시 메이크업템! 소개해드릴게요 ♥가볍고 얇게 밀착되면서 </p>\\n\\t\\t\\t\\t\\t\\t<div class=\"source_box\">\\n\\t\\t\\t\\t\\t\\t\\t<span class=\"date\">2개월 전</span>\\n\\t\\t\\t\\t\\t\\t\\t<span class=\"source\">\\n                                \\n                                <span class=\"source_inner\">뷰티핀</span>\\n                            </span>\\n\\t\\t\\t\\t\\t\\t</div>\\n\\t\\t\\t\\t\\t</a>\\n\\t\\t\\t\\t</li>\\n\\t\\t\\t\\n\\t\\t\\t\\t<li class=\"theme_item\" data-gdid=\"e7578e96-05b8-4e35-b509-bd4239e59e61\" data-da-position=\"true\">\\n\\t\\t\\t\\t\\t<a href=\"https://post.naver.com/viewer/postView.naver?volumeNo&#x3D;32458753&amp;memberNo&#x3D;4656129\" class=\"theme_thumb\" data-clk=\"tcc_bty.list12cont2\" target=\"_blank\">\\n\\t\\t\\t\\t\\t\\t<img  data-src=\"https://s.pstatic.net/dthumb.phinf/?src&#x3D;%22https%3A%2F%2Fs.pstatic.net%2Fshop.phinf%2F20211001_125%2F1633082311130N7kIg_JPEG%2Fgwe.jpg%3Ftype%3Df342_264%22&amp;type&#x3D;nf340_228\" alt=\"참고하기 좋은 간절기 스타일링\" width=\"170\" height=\"114\">\\n\\t\\t\\t\\t\\t\\t<span class=\"thumb_bd\"></span>\\n\\t\\t\\t\\t\\t</a>\\n\\t\\t\\t\\t\\t<a href=\"https://post.naver.com/viewer/postView.naver?volumeNo&#x3D;32458753&amp;memberNo&#x3D;4656129\" class=\"theme_info\" data-clk=\"tcc_bty.list12cont2\" target=\"_blank\">\\n\\t\\t\\t\\t\\t\\t<em class=\"theme_category\"> 패션뷰티</em>\\n\\t\\t\\t\\t\\t\\t<strong class=\"title elss\">참고하기 좋은 간절기 스타일링</strong>\\n                        <p class=\"desc\">안녕하세요 여러분! 클로젯걸 미나에요 :D 요즘 아침, 저녁에는 쌀쌀하면서도 차갑다고 느껴질 정도인데요. 반대로 한낮에는 해가 너무 뜨거워서 아직 여름이 안 끝났나 싶은 요즘, 바로 간절기 시즌이에요~계절이 변하는 시기인 만큼 스타일링도 점점 변하고 있죠~ 그래서 이번 포스트에는 롱 원피스, 가디건 등 대표적인 간절기 아이템으로 만든 여자, 남자 간절기 스</p>\\n\\t\\t\\t\\t\\t\\t<div class=\"source_box\">\\n\\t\\t\\t\\t\\t\\t\\t<span class=\"date\">2개월 전</span>\\n\\t\\t\\t\\t\\t\\t\\t<span class=\"source\">\\n                                \\n                                <span class=\"source_inner\">클로젯걸</span>\\n                            </span>\\n\\t\\t\\t\\t\\t\\t</div>\\n\\t\\t\\t\\t\\t</a>\\n\\t\\t\\t\\t</li>\\n\\t\\t\\t\\n\\t\\t\\t\\t<li class=\"theme_item\" data-gdid=\"21f7fb59-2d8a-43d6-a37a-fdcf4a235fef\" data-da-position=\"true\">\\n\\t\\t\\t\\t\\t<a href=\"https://post.naver.com/viewer/postView.naver?volumeNo&#x3D;32465897&amp;memberNo&#x3D;42690419\" class=\"theme_thumb\" data-clk=\"tcc_bty.list12cont3\" target=\"_blank\">\\n\\t\\t\\t\\t\\t\\t<img  data-src=\"https://s.pstatic.net/dthumb.phinf/?src&#x3D;%22https%3A%2F%2Fs.pstatic.net%2Fshop.phinf%2F20211001_41%2F1633080362753MLSby_JPEG%2FTH.jpg%3Ftype%3Df342_264%22&amp;type&#x3D;nf340_228\" alt=\"심플함이 돋보이는 로고 셋업\" width=\"170\" height=\"114\">\\n\\t\\t\\t\\t\\t\\t<span class=\"thumb_bd\"></span>\\n\\t\\t\\t\\t\\t</a>\\n\\t\\t\\t\\t\\t<a href=\"https://post.naver.com/viewer/postView.naver?volumeNo&#x3D;32465897&amp;memberNo&#x3D;42690419\" class=\"theme_info\" data-clk=\"tcc_bty.list12cont3\" target=\"_blank\">\\n\\t\\t\\t\\t\\t\\t<em class=\"theme_category\"> 패션뷰티</em>\\n\\t\\t\\t\\t\\t\\t<strong class=\"title elss\">심플함이 돋보이는 로고 셋업</strong>\\n                        <p class=\"desc\">[갓잇코리아 / 오혜인 기자] &#x27;Simple is best&#x27;라는 말처럼, 기본에 충실한 스타일이야말로 가장 멋스러운 패션을 완성할 수 있다. 특히 코로나19라는 팬데믹 상황에서는 어떤 상황에서도 어색하지 않게 입을 수 있는 심플한 옷이 소비자의 구매 욕구를 일으키고 있다. 끝을 모르고 길어지는 사회적 거리 두기에는 편하게 입을 수 있는 트레이닝 셋업으로 원</p>\\n\\t\\t\\t\\t\\t\\t<div class=\"source_box\">\\n\\t\\t\\t\\t\\t\\t\\t<span class=\"date\">2개월 전</span>\\n\\t\\t\\t\\t\\t\\t\\t<span class=\"source\">\\n                                \\n                                <span class=\"source_inner\">갓잇코리아</span>\\n                            </span>\\n\\t\\t\\t\\t\\t\\t</div>\\n\\t\\t\\t\\t\\t</a>\\n\\t\\t\\t\\t</li>\\n\\t\\t\\t\\n\\t\\t\\t\\t<li class=\"theme_item\" data-gdid=\"cf2650f1-f0cc-456e-b7c9-59d8f690bf87\" data-da-position=\"true\">\\n\\t\\t\\t\\t\\t<a href=\"https://post.naver.com/viewer/postView.naver?volumeNo&#x3D;32419526&amp;memberNo&#x3D;42835253\" class=\"theme_thumb\" data-clk=\"tcc_bty.list12cont4\" target=\"_blank\">\\n\\t\\t\\t\\t\\t\\t<img  data-src=\"https://s.pstatic.net/dthumb.phinf/?src&#x3D;%22https%3A%2F%2Fs.pstatic.net%2Fshop.phinf%2F20211001_256%2F16330803679551plu0_JPEG%2FTRH.jpg%3Ftype%3Df342_264%22&amp;type&#x3D;nf340_228\" alt=\"간절기 스타일링 교과서 참고\" width=\"170\" height=\"114\">\\n\\t\\t\\t\\t\\t\\t<span class=\"thumb_bd\"></span>\\n\\t\\t\\t\\t\\t</a>\\n\\t\\t\\t\\t\\t<a href=\"https://post.naver.com/viewer/postView.naver?volumeNo&#x3D;32419526&amp;memberNo&#x3D;42835253\" class=\"theme_info\" data-clk=\"tcc_bty.list12cont4\" target=\"_blank\">\\n\\t\\t\\t\\t\\t\\t<em class=\"theme_category\"> 패션뷰티</em>\\n\\t\\t\\t\\t\\t\\t<strong class=\"title elss\">간절기 스타일링 교과서 참고</strong>\\n                        <p class=\"desc\">뷰심이들 모두 추석 잘 보내고 왔어? 추석이 끝나니 가을 특유의 청량한 하늘이 쫙- 펼쳐지기 시작했어. 이제 반팔을 주섬주섬 넣고, 일교차가 큰 간절기 코디를 고민해야 할 때! 초가을 날씨에는 어떻게? 옷 잘 입는 스타들의 코디를 참고해 보자.셋업 스타일링간편하면서 트렌디함을 더해 주기에 셋업 스타일링만 한 것이 없지? 셋업은 상, 하의를 같은 세트로 입어</p>\\n\\t\\t\\t\\t\\t\\t<div class=\"source_box\">\\n\\t\\t\\t\\t\\t\\t\\t<span class=\"date\">2개월 전</span>\\n\\t\\t\\t\\t\\t\\t\\t<span class=\"source\">\\n                                \\n                                <span class=\"source_inner\">뷰심저격</span>\\n                            </span>\\n\\t\\t\\t\\t\\t\\t</div>\\n\\t\\t\\t\\t\\t</a>\\n\\t\\t\\t\\t</li>\\n\\t\\t\\t\\n\\t\\t\\t\\t<li class=\"theme_item\" data-gdid=\"220a3622-04eb-4ade-9df7-f4ae041167a6\" data-da-position=\"true\">\\n\\t\\t\\t\\t\\t<a href=\"https://post.naver.com/viewer/postView.naver?volumeNo&#x3D;32449789&amp;memberNo&#x3D;35404784\" class=\"theme_thumb\" data-clk=\"tcc_bty.list12cont5\" target=\"_blank\">\\n\\t\\t\\t\\t\\t\\t<img  data-src=\"https://s.pstatic.net/dthumb.phinf/?src&#x3D;%22https%3A%2F%2Fs.pstatic.net%2Fshop.phinf%2F20210930_137%2F1632997765167s16Jl_JPEG%2Fweg.jpg%3Ftype%3Df342_264%22&amp;type&#x3D;nf340_228\" alt=\"스타일별 브랜드 추천해드림\" width=\"170\" height=\"114\">\\n\\t\\t\\t\\t\\t\\t<span class=\"thumb_bd\"></span>\\n\\t\\t\\t\\t\\t</a>\\n\\t\\t\\t\\t\\t<a href=\"https://post.naver.com/viewer/postView.naver?volumeNo&#x3D;32449789&amp;memberNo&#x3D;35404784\" class=\"theme_info\" data-clk=\"tcc_bty.list12cont5\" target=\"_blank\">\\n\\t\\t\\t\\t\\t\\t<em class=\"theme_category\"> 패션뷰티</em>\\n\\t\\t\\t\\t\\t\\t<strong class=\"title elss\">스타일별 브랜드 추천해드림</strong>\\n                        <p class=\"desc\">시크부터 러블리까지! 존재 자체가 아우라♥ 에르메스,발렌티노,미우미우 등 스타일별 브랜드추천존재만으로 강렬하게 독보적인 아우라 뽐내는 패션 템들☆ 클래식룩, 미니멀룩 부터 힙&amp;시크룩, 럭셔리&amp;세련 룩, 러블리룩 등 나의 평소 리얼웨이룩 스타일에 존재감 넘치는 패션 템들을 더해준다면 어디에서나 인생 샷, 인생 룩 도전 어렵지 않겠죠</p>\\n\\t\\t\\t\\t\\t\\t<div class=\"source_box\">\\n\\t\\t\\t\\t\\t\\t\\t<span class=\"date\">2개월 전</span>\\n\\t\\t\\t\\t\\t\\t\\t<span class=\"source\">\\n                                \\n                                <span class=\"source_inner\">걸스픽</span>\\n                            </span>\\n\\t\\t\\t\\t\\t\\t</div>\\n\\t\\t\\t\\t\\t</a>\\n\\t\\t\\t\\t</li>\\n\\t\\t\\t\\n\\t\\t</ul>\\n\\t</div>\\n</div>\\n<div class=\"group_theme\" data-block-id=\"\" data-block-code=\"PC-THEME-BEAUTY-MOBILE-RANKING-VIDEO-11\" data-block-type=\"MATERIALS\" data-template-code=\"MOBILE-RANKING-VIDEO-LIST\"\\n\\n\\t data-index=\"\"\\n\\t data-page=\"6\"\\n\\t style=\"display:none\">\\n\\n\\t<div class=\"media_view_wrap type_column\">\\n\\t\\t<div class=\"media_view\">\\n\\t\\t\\t\\n\\t\\t\\t\\t<a href=\"https://tv.naver.com/v/21897822\" class=\"media_area\" data-gdid=\"612ca479a18b183444755527\" data-clk=\"tcc_bty.video12cont1\" target=\"_blank\">\\n\\t\\t\\t\\t\\t<div class=\"media_thumb\">\\n\\t\\t\\t\\t\\t\\t<img  data-src=\"https://s.pstatic.net/dthumb.phinf/?src&#x3D;%22https%3A%2F%2Fs.pstatic.net%2Fshop.phinf%2F20210830_254%2F163031536790371T9h_JPEG%2F1629116360385.jpg%3Ftype%3Df342_264%22&amp;type&#x3D;nf464_260\" alt=\"엄언니의 썸머 라운딩 패션 룩북\" width=\"232\" height=\"130\">\\n\\t\\t\\t\\t\\t\\t<span class=\"thumb_dim\"></span>\\n\\t\\t\\t\\t\\t\\t<span class=\"thumb_bd\"></span>\\n\\t\\t\\t\\t\\t\\t<i class=\"pm_ico_play\"><span class=\"blind\">재생</span></i>\\n\\t\\t\\t\\t\\t\\t<span class=\"theme_runtime\"><span class=\"runtime_bg\">재생시간</span><em class=\"time\">08:25</em></span>\\n\\t\\t\\t\\t\\t</div>\\n\\t\\t\\t\\t\\t<div class=\"media_info\">\\n\\t\\t\\t\\t\\t\\t<div class=\"info_box\">\\n\\t\\t\\t\\t\\t\\t\\t<strong class=\"title\">엄언니의 썸머 라운딩 패션 룩북</strong>\\n\\t\\t\\t\\t\\t\\t\\t<div class=\"source_wrap\">\\n\\t\\t\\t\\t\\t\\t\\t\\t<span class=\"date\">3개월 전</span>\\n\\t\\t\\t\\t\\t\\t\\t\\t<span class=\"source\">\\n                                    \\n                                    <span class=\"source_inner\">배우 엄지원 tv</span>\\n                                </span>\\n\\t\\t\\t\\t\\t\\t\\t</div>\\n\\t\\t\\t\\t\\t\\t</div>\\n\\t\\t\\t\\t\\t</div>\\n\\t\\t\\t\\t</a>\\n\\t\\t\\t\\n\\t\\t\\t\\t<a href=\"https://tv.naver.com/v/21891255\" class=\"media_area\" data-gdid=\"61288af8d30e276efaf25b5e\" data-clk=\"tcc_bty.video12cont2\" target=\"_blank\">\\n\\t\\t\\t\\t\\t<div class=\"media_thumb\">\\n\\t\\t\\t\\t\\t\\t<img  data-src=\"https://s.pstatic.net/dthumb.phinf/?src&#x3D;%22https%3A%2F%2Fs.pstatic.net%2Fshop.phinf%2F20210830_31%2F1630309633375xjJ4R_JPEG%2F1630070385068.jpg%3Ftype%3Df342_264%22&amp;type&#x3D;nf464_260\" alt=\"센스 가득 남친룩 최강자는 누구\" width=\"232\" height=\"130\">\\n\\t\\t\\t\\t\\t\\t<span class=\"thumb_dim\"></span>\\n\\t\\t\\t\\t\\t\\t<span class=\"thumb_bd\"></span>\\n\\t\\t\\t\\t\\t\\t<i class=\"pm_ico_play\"><span class=\"blind\">재생</span></i>\\n\\t\\t\\t\\t\\t\\t<span class=\"theme_runtime\"><span class=\"runtime_bg\">재생시간</span><em class=\"time\">17:18</em></span>\\n\\t\\t\\t\\t\\t</div>\\n\\t\\t\\t\\t\\t<div class=\"media_info\">\\n\\t\\t\\t\\t\\t\\t<div class=\"info_box\">\\n\\t\\t\\t\\t\\t\\t\\t<strong class=\"title\">센스 가득 남친룩 최강자는 누구</strong>\\n\\t\\t\\t\\t\\t\\t\\t<div class=\"source_wrap\">\\n\\t\\t\\t\\t\\t\\t\\t\\t<span class=\"date\">3개월 전</span>\\n\\t\\t\\t\\t\\t\\t\\t\\t<span class=\"source\">\\n                                    \\n                                    <span class=\"source_inner\">옆집언니 최실장</span>\\n                                </span>\\n\\t\\t\\t\\t\\t\\t\\t</div>\\n\\t\\t\\t\\t\\t\\t</div>\\n\\t\\t\\t\\t\\t</div>\\n\\t\\t\\t\\t</a>\\n\\t\\t\\t\\n\\t\\t\\t\\t<a href=\"https://tv.naver.com/v/22080105\" class=\"media_area\" data-gdid=\"612885fc2a29b3343de7f156\" data-clk=\"tcc_bty.video12cont3\" target=\"_blank\">\\n\\t\\t\\t\\t\\t<div class=\"media_thumb\">\\n\\t\\t\\t\\t\\t\\t<img  data-src=\"https://s.pstatic.net/dthumb.phinf/?src&#x3D;%22https%3A%2F%2Fs.pstatic.net%2Fshop.phinf%2F20210827_114%2F1630045502901RFcNV_JPEG%2F1629961784889.jpg%3Ftype%3Df342_264%22&amp;type&#x3D;nf464_260\" alt=\"Y존을 위한 제품 구별법과 추천템\" width=\"232\" height=\"130\">\\n\\t\\t\\t\\t\\t\\t<span class=\"thumb_dim\"></span>\\n\\t\\t\\t\\t\\t\\t<span class=\"thumb_bd\"></span>\\n\\t\\t\\t\\t\\t\\t<i class=\"pm_ico_play\"><span class=\"blind\">재생</span></i>\\n\\t\\t\\t\\t\\t\\t<span class=\"theme_runtime\"><span class=\"runtime_bg\">재생시간</span><em class=\"time\">19:42</em></span>\\n\\t\\t\\t\\t\\t</div>\\n\\t\\t\\t\\t\\t<div class=\"media_info\">\\n\\t\\t\\t\\t\\t\\t<div class=\"info_box\">\\n\\t\\t\\t\\t\\t\\t\\t<strong class=\"title\">Y존을 위한 제품 구별법과 추천템</strong>\\n\\t\\t\\t\\t\\t\\t\\t<div class=\"source_wrap\">\\n\\t\\t\\t\\t\\t\\t\\t\\t<span class=\"date\">3개월 전</span>\\n\\t\\t\\t\\t\\t\\t\\t\\t<span class=\"source\">\\n                                    \\n                                    <span class=\"source_inner\">디렉터파이</span>\\n                                </span>\\n\\t\\t\\t\\t\\t\\t\\t</div>\\n\\t\\t\\t\\t\\t\\t</div>\\n\\t\\t\\t\\t\\t</div>\\n\\t\\t\\t\\t</a>\\n\\t\\t\\t\\n\\t\\t</div>\\n\\t</div>\\n</div>\\n\\n\\n\\n\\n\\t<div class=\"btn_more_wrap\">\\n\\t\\t<button type=\"button\" class=\"btn_more\" data-clk-custom=\"tcc_bty.more\" data-next-page=\"2\"><i class=\"ico_more\"></i>새로운 글 더보기</button>\\n\\t</div>\\n\\n\\n<div class=\"NM_THEME_META\" style=\"display: none\" data-panel-code=\"BEAUTY\" data-parent-code=\"\"></div>\\n\\n\\t</div>\\n</div>\\n </div> </div> <div id=\"NM_INT_RIGHT\" class=\"column_right\"> <div class=\"column_fix_wrap\"> <div id=\"da_brand\"></div> \\n\\n\\n\\n\\n<div id=\"account\" class=\"sc_login\">\\n<h2 class=\"blind\">Sign in</h2>\\n<p class=\"login_msg\">Connect with people</p>\\n<a href=\"https://nid.naver.com/nidlogin.login?mode=form&url=https%3A%2F%2Fwww.naver.com\" class=\"link_login\" data-clk=\"log_off.login\"><i class=\"ico_naver\"><span class=\"blind\">NAVER</span></i>Sign in</a>\\n<div class=\"sub_area\">\\n<div class=\"look_box\">\\n<a href=\"https://nid.naver.com/user/help.nhn?todo=idinquiry\" class=\"link_look\" data-clk=\"log_off.searchid\">Forgot Username</a>\\n<a href=\"https://nid.naver.com/nidreminder.form\" class=\"link_look\" data-clk=\"log_off.searchpass\">Password</a>\\n</div>\\n<a href=\"https://nid.naver.com/nidregister.form?url=https%3A%2F%2Fwww.naver.com\" class=\"link_join\" data-clk=\"log_off.registration\">Sign up</a>\\n</div>\\n</div>\\n\\n\\n\\n <div id=\"timesquare\" class=\"sc_timesquare\"> <h2 class=\"blind\">타임스퀘어</h2> <div class=\"card_wrap\">\\n<div class=\"card_nav\">\\n<a href=\"#\" role=\"button\" class=\"btn_nav btn_prev\" data-clk=\"squ.pre\"><span class=\"blind\">이전</span></a>\\n<a href=\"#\" role=\"button\" class=\"btn_nav btn_next\" data-clk=\"squ.next\"><span class=\"blind\">다음</span></a>\\n</div>\\n<div id=\"NM_TS_ROLLING_WRAP\" style=\"height: 100%;\">\\n<div>\\n<a href=\"https://news.naver.com/main/home.nhn\" class=\"card_news\" data-clk=\"squ.line1\"><i class=\"news_badge type_live\">LIVE</i><span class=\"news\">저녁방송 메인뉴스 보기</span></a>\\n</div>\\n<div>\\n<a href=\"https://search.naver.com/search.naver?sm=top_hty&amp;fbm=0&amp;ie=utf8&amp;query=%EC%BD%94%EB%A1%9C%EB%82%9819\" class=\"card_news\" data-clk=\"squ.line3\"><i class=\"news_badge\">이슈</i><span class=\"news\">코로나바이러스감염증-19 현황</span></a>\\n</div>\\n<div>\\n<a href=\"https://finance.naver.com/world/sise.nhn?symbol=RUI@RTSI\" class=\"card_stock \" data-clk=\"squ.rus\">\\n<strong class=\"stock_title\">증시</strong>\\n<div class=\"stock_box\">\\n<em class=\"name\">러시아</em>\\n<strong class=\"current\">1,545.22</strong>\\n<span class=\"rate rate_down\">2.87 -0.19%</span>\\n</div>\\n</a>\\n</div>\\n<div>\\n<a href=\"https://finance.naver.com/world/sise.nhn?symbol=XTR@DAX30\" class=\"card_stock \" data-clk=\"squ.ger\">\\n<strong class=\"stock_title\">증시</strong>\\n<div class=\"stock_box\">\\n<em class=\"name\">독일</em>\\n<strong class=\"current\">15,528.05</strong>\\n<span class=\"rate rate_down\">93.67 -0.60%</span>\\n</div>\\n</a>\\n</div>\\n<div>\\n<a href=\"https://finance.naver.com/world/sise.nhn?symbol=STX@SX5E\" class=\"card_stock \" data-clk=\"squ.euro\">\\n<strong class=\"stock_title\">증시</strong>\\n<div class=\"stock_box\">\\n<em class=\"name\">유로스톡스50</em>\\n<strong class=\"current\">4,163.71</strong>\\n<span class=\"rate rate_down\">19.33 -0.46%</span>\\n</div>\\n</a>\\n</div>\\n<div>\\n<a href=\"https://finance.naver.com/marketindex/exchangeDetail.nhn?marketindexCd=FX_USDKRW\" class=\"card_stock type_exchange\" data-clk=\"squ.usd\">\\n<strong class=\"stock_title\">환율</strong>\\n<div class=\"stock_box\">\\n<em class=\"name\">USD</em>\\n<strong class=\"current\">1,182.50</strong>\\n<span class=\"rate rate_up\">0.50 +0.04%</span>\\n</div>\\n</a>\\n</div>\\n</div>\\n</div> <!-- EMPTY --> </div> <div id=\"veta_branding\"> <div id=\"veta_branding_inner\" style=\"width:350px;height:200px\">  <script>gladsdk.cmd.push((function(){var d=\"veta_branding_inner\";gladsdk.defineAdSlot({adUnitId:\"p_main_rollingboard\",adSlotElementId:d,customParam:customParam}),gladsdk.displayAd(d)}))</script>  </div> <span class=\"veta_bd_t\"></span> <span class=\"veta_bd_b\"></span> <span class=\"veta_bd_l\"></span> <span class=\"veta_bd_r\"></span> </div> <div id=\"shopcast\" class=\"sc_shopcast\"> <iframe id=\"shopcast_iframe\" data-iframe-src=\"/shoppingbox/shoppingboxnew/main.nhn?domain=N\" title=\"쇼핑캐스트\" width=\"350\" height=\"1539\" marginheight=\"0\" marginwidth=\"0\" scrolling=\"no\" frameborder=\"0\"></iframe> </div> </div> </div> <a id=\"NM_scroll_top_btn\" href=\"#wrap\" class=\"content_top\"><span class=\"blind\">TOP</span></a> <button id=\"NM_darkmode_btn\" type=\"button\" role=\"button\" class=\"btn_theme\" aria-pressed=\"false\"  > <span class=\"blind\">라이트 모드로 보기</span> </button> </div> <div id=\"footer\" role=\"contentinfo\"> <div class=\"footer_inner\"> <div class=\"banner_area \"> <div class=\"da_box_wrap\"> <div id=\"da_public_left\"> </div> <div id=\"da_public_right\"> </div> <div id=\"veta_time2\"> </div> <script>window.ndpsdk.cmd.push((function(){window.ndpsdk.setHostMeta(\"theme\",darkmode?\"dark\":\"light\");var d=\"nrefreshx=0\";document.cookie.search(\"PM_CK_nrefreshx=1\")>=0&&(d=\"nrefreshx=1&calp=1\");var e=window.ndpsdk.defineAdSlot({adSlotElementId:\"da_public_left\",adTagUrl:\"https://siape.veta.naver.com/fxshow?su=SU10641&\"+d,width:350,height:86});window.ndpsdk.displayAd(e);var t=window.ndpsdk.defineAdSlot({adSlotElementId:\"da_public_right\",adTagUrl:\"https://siape.veta.naver.com/fxshow?su=SU10642&\"+d,width:350,height:86});window.ndpsdk.displayAd(t);var a=window.ndpsdk.defineAdSlot({adSlotElementId:\"veta_time2\",adTagUrl:\"https://siape.veta.naver.com/fxshow?su=SU10640&\"+d,width:350,height:86});window.ndpsdk.displayAd(a)}))</script> </div> </div> <div class=\"notice_area\" data-clk-prefix=\"ntc\"> <div class=\"notice_box\"> <h3 class=\"title\"><a href=\"https://www.naver.com/NOTICE\">공지사항</a> </h3> <a data-clk=\"notice\" href=\"https://www.naver.com/NOTICE/read/1100001014/10000000000030672432\" class=\"notice_msg\" >\\n[베타오픈안내] 나를 위한 맛집 검색 결과, 이제는 For you 탭에서 확인해보세요\\n</a>\\n </div> <a href=\"more.html\" class=\"link_all\" data-clk=\"svcmap\">서비스 전체보기</a> </div> <div class=\"aside_area\"> <div class=\"partner_box_wrap\"> <div class=\"partner_box\" data-clk-prefix=\"crt\"> <h3 class=\"title\">Creators</h3> <a href=\"https://www.navercorp.com/service/creators\" class=\"link_partner\" data-clk=\"creator\">크리에이터</a> <a href=\"https://www.navercorp.com/service/business\" class=\"link_partner\" data-clk=\"smbusiness\">스몰비즈니스</a> </div> <div class=\"partner_box\" data-clk-prefix=\"crt\"> <h3 class=\"title\">Partners</h3> <a href=\"https://campaign.naver.com/smefullcare/online/\" class=\"link_partner\" data-clk=\"sme\">SME 풀케어 시스템</a> <a href=\"https://business.naver.com/service.html\" class=\"link_partner\" data-clk=\"service\">비즈니스 · 광고</a> <a href=\"https://sell.storefarm.naver.com/#/home/about\" class=\"link_partner\" data-clk=\"store\">스토어 개설</a> <a href=\"https://smartplace.naver.com\" class=\"link_partner\" data-clk=\"place\">지역업체 등록</a> <a href=\"https://expert.naver.com/expert/introduction?tab=guide#join\" class=\"link_partner\" data-clk=\"expert\">엑스퍼트 등록</a> </div> <div class=\"partner_box\" data-clk-prefix=\"crt\"> <h3 class=\"title\">Developers</h3> <a href=\"https://developers.naver.com\" class=\"link_partner\" data-clk=\"center\">네이버 개발자 센터</a> <a href=\"https://developers.naver.com/docs/common/openapiguide/#/apilist.md\" class=\"link_partner\" data-clk=\"openapi\">오픈 API</a> <a href=\"https://naver.github.io\" class=\"link_partner\" data-clk=\"opensource\">오픈소스</a> <a href=\"https://d2.naver.com\" class=\"link_partner\" data-clk=\"d2\">네이버 D2</a> <a href=\"http://d2startup.com\" class=\"link_partner\" data-clk=\"naverD2SF\">네이버 D2SF</a> <a href=\"https://www.naverlabs.com\" class=\"link_partner\" data-clk=\"labs\">네이버 랩스</a> </div> </div> <div class=\"service_box_wrap\"> <div class=\"service_box\" data-clk-prefix=\"wbd\"> <a href=\"http://whale.naver.com/\" class=\"service_logo\" data-clk=\"bt\"> <img src=\"data:image/png;base64,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\" alt=\"웨일\" width=\"48\" height=\"48\"> </a> <div class=\"service_info\"> <strong class=\"title\">웨일 브라우저</strong> <a href=\"http://whale.naver.com/\" class=\"dsc\" data-clk=\"bt\">다운받기</a> </div> </div> <div class=\"service_box\" data-clk-prefix=\"prj\"> <a href=\"https://search.naver.com/search.naver?where=nexearch&sm=top_hty&fbm=1&ie=utf8&query=%ED%94%84%EB%A1%9C%EC%A0%9D%ED%8A%B8%EA%BD%83\" class=\"service_logo\" data-clk=\"link\"> <img src=\"data:image/png;base64,iVBORw0KGgoAAAANSUhEUgAAAF4AAABkCAMAAAA47XeXAAAAgVBMVEUAAADN5PdGm99Gm99Gm99Gm99Gm95Gm99Gm99Gm99Gm99Gm99Gm99Gm99Gm99Gm99Gm99Gm99Gm99Gm99Gm99Gm99Gm99Gmt9Gm99Gm99Gm99Gm95Gm99Gm99Gm95Gm99Hm99Gm99Gm9/////3+/5cp+LO5PfR5/fO5fdcp+P7/f/zv5GhAAAAInRSTlMA/v7vH9u5qJNgGwb6l8a9uqF9WFUyLxYMCtbVmLCwe4OCj8gzEgAAA0NJREFUaN7NmmFz4iAQhkkwMTHGWrWtWvWuq8mF+/8/8Ey2nb0OhSwQZnw+MHQ7pbjAy2s2gsuiLPJMLpcyy4tyISZltnmHbxw3MzEVr/MUNNL5q5iCt2ccXCN9fhPB7CQYkTsRRlWDlboSAexzGCHfC28OKxhldfDOzBMwePLNTw0sauHFFphshQcLCUwkaQRfXYBPSkrEUBdv3jezcXXhw1ciUhc+fCUidQlH7qzqEk5d2dQlnHxvU5dwVgdXdSGclaiGyamt6hLO1qIu4ZASzcFE092SBprk1jagulvXAAw/qb5N7m176xQYmOPoLymYaK/X65/PNhlagE6LGUhfRM8FjNzuf/73//bHmInzoJEpjMyeWpp9RzGz/PT6+QvMNO2Q+67PPeYZY5h7jDVg5OM+/BGikd13JfDAj/Ad1WLMyEyUwKPT00ypN1GKAljQJtFiFgqRe86eYhbWIvPPPR5d+9pKiIgUwKNJdHXBvW9jyRye1EWLWYfnJcd141Byspizz7gbUyWDuqiW0v15D9g3ZgF86JwyKUgUHJaATUmS5rsEdkkTZLjZS8Alw+skFr8Nl6H6uosShaKOp3Zo+/jgFTDe+wcSfv0yFGfQaLX7tDO0reXOPRuMCG4Q11Y3IiYblWgzS7R+h31qdRtlGB7zikeUckz+AB3a8FuMqD7Cd2nhUHLOEIkLubQIkEuLxIdwEwUy3HyXxsbgPMJcGuGox+TSIugxuTQ+KHIaAS5N92eIIuMT5tJoPfHy5q9yKoXLelLuKRri0mjMQdhwTPw6Sv8pzKXhFyhNilEwkSCXRrnAnaPnJdyl0UrqXircpeHVglnv+62K4NJo3lFcGmWd79KO7OQoXAE8XNO6tIQGxj7fpfHTwk8RubQLWEGvgTNGKzj01fixunCMCCYcvSSlaFwUyKVx86J3bczpUR3zimq1LqdosAUbJF54ar+uk5Gju436mPTk8ZAXFdO93HRYTesUVgf3B+y0XdxLfdVputmfKp/iBtNjyl3c0kzUwtJIWewIPvAL9LOyWLsV9WAps3VRzh6hJBm3oOqsRKfHLGYzS/GP+iLBuBKdqkd+iWPkFZTHf4Em4us/uhI5qss/6zK5u8+AXpwAAAAASUVORK5CYII=\" alt=\"꽃\" width=\"47\" height=\"50\"> </a> <div class=\"service_info\"> <strong class=\"title\">프로젝트 꽃</strong> <a href=\"https://search.naver.com/search.naver?where=nexearch&sm=top_hty&fbm=1&ie=utf8&query=%ED%94%84%EB%A1%9C%EC%A0%9D%ED%8A%B8%EA%BD%83\" class=\"dsc\" data-clk=\"link\">바로가기</a> </div> </div> </div> </div> <div class=\"corp_area\" data-clk-prefix=\"plc\"> <h3 class=\"blind\">네이버 정책 및 약관</h3> <ul class=\"list_corp\"> <li class=\"corp_item\"><a href=\"https://www.navercorp.com\" data-clk=\"intronhn\">회사소개</a></li> <li class=\"corp_item\"><a href=\"https://recruit.navercorp.com/naver/recruitMain\" data-clk=\"recruit\">인재채용</a></li> <li class=\"corp_item\"><a href=\"https://www.navercorp.com/naver/proposalGuide\" data-clk=\"contact\">제휴제안</a></li> <li class=\"corp_item\"><a href=\"/policy/service.html\" data-clk=\"service\">이용약관</a></li> <li class=\"corp_item\"><a href=\"/policy/privacy.html\" data-clk=\"privacy\"><strong>개인정보처리방침</strong></a></li> <li class=\"corp_item\"><a href=\"/policy/youthpolicy.html\" data-clk=\"youth\">청소년보호정책</a></li> <li class=\"corp_item\"><a href=\"/policy/spamcheck.html\" data-clk=\"policy\">네이버 정책</a></li> <li class=\"corp_item\"><a href=\"https://help.naver.com/\" data-clk=\"helpcenter\">고객센터</a></li> </ul> <address class=\"addr\"><a href=\"https://www.navercorp.com\" target=\"_blank\" data-clk=\"nhn\">ⓒ NAVER Corp.</a></address> </div> </div> </div> </div> <div id=\"adscript\" style=\"display:none\"></div> </body> </html>\\n'"
            ]
          },
          "metadata": {},
          "execution_count": 7
        }
      ]
    },
    {
      "cell_type": "code",
      "source": [
        "html = \"\"\"\n",
        "    <html><body><div><span>\n",
        "    <a href=\"http://www.naver.com\">네이버</a>\n",
        "    <a href=\"http://www.daum.com\">다음</a>\n",
        "    <a href=\"http://www.google.com\">구글</a>\n",
        "    </span></div></body></html>\n",
        "\"\"\""
      ],
      "metadata": {
        "id": "1R9AD-AMX1HU"
      },
      "execution_count": 8,
      "outputs": []
    },
    {
      "cell_type": "code",
      "source": [
        "from bs4 import BeautifulSoup\n",
        "soup = BeautifulSoup(html, 'lxml')"
      ],
      "metadata": {
        "id": "wmqaoTQ1dw7s"
      },
      "execution_count": 9,
      "outputs": []
    },
    {
      "cell_type": "code",
      "source": [
        "# 태그명 찾기 : BeautifulSoup 객체.find('검색태그명')\n",
        "soup.find('a')"
      ],
      "metadata": {
        "colab": {
          "base_uri": "https://localhost:8080/"
        },
        "id": "QQhmYp-PfD2y",
        "outputId": "bdf34ba2-703c-4370-8e7c-e9d81ceeaf85"
      },
      "execution_count": 10,
      "outputs": [
        {
          "output_type": "execute_result",
          "data": {
            "text/plain": [
              "<a href=\"http://www.naver.com\">네이버</a>"
            ]
          },
          "metadata": {},
          "execution_count": 10
        }
      ]
    },
    {
      "cell_type": "code",
      "source": [
        "# 태그명 검색 후, 시각태그와 닫는 태그 사이 텍스트 추출\n",
        "soup.find('a').get_text()"
      ],
      "metadata": {
        "colab": {
          "base_uri": "https://localhost:8080/",
          "height": 35
        },
        "id": "mmJZZj_TfMjx",
        "outputId": "590efe0b-947b-4c0f-9e62-772759579f1e"
      },
      "execution_count": 11,
      "outputs": [
        {
          "output_type": "execute_result",
          "data": {
            "application/vnd.google.colaboratory.intrinsic+json": {
              "type": "string"
            },
            "text/plain": [
              "'네이버'"
            ]
          },
          "metadata": {},
          "execution_count": 11
        }
      ]
    },
    {
      "cell_type": "code",
      "source": [
        "# 지정한 모든 태그 검색 : BeautifulSoup 객체.find_all('검색태그명')\n",
        "soup.find_all('a')"
      ],
      "metadata": {
        "colab": {
          "base_uri": "https://localhost:8080/"
        },
        "id": "YlmFwbWwfVex",
        "outputId": "30b7bf97-d023-40e0-f910-7b9208c6beac"
      },
      "execution_count": 12,
      "outputs": [
        {
          "output_type": "execute_result",
          "data": {
            "text/plain": [
              "[<a href=\"http://www.naver.com\">네이버</a>,\n",
              " <a href=\"http://www.daum.com\">다음</a>,\n",
              " <a href=\"http://www.google.com\">구글</a>]"
            ]
          },
          "metadata": {},
          "execution_count": 12
        }
      ]
    },
    {
      "cell_type": "code",
      "source": [
        "html2 = \"\"\"\n",
        "<html>\n",
        " <head>\n",
        "  <title>작품과 작가 모음</title>\n",
        " </head>\n",
        " <body>\n",
        "  <h1>책 정보</h1>\n",
        "  <p id=\"book_title\">토지</p>\n",
        "  <p id=\"author\">박경리</p>\n",
        "  \n",
        "  <p id=\"book_title\">태백산맥</p>\n",
        "  <p id=\"author\">조정래</p>\n",
        "\n",
        "  <p id=\"book_title\">감옥으로부터의 사색</p>\n",
        "  <p id=\"author\">신영복</p>\n",
        " </body>\n",
        "</html>\n",
        "\"\"\""
      ],
      "metadata": {
        "id": "68IAB3ebgJ3E"
      },
      "execution_count": 13,
      "outputs": []
    },
    {
      "cell_type": "code",
      "source": [
        "# lxml : html 문서를 파싱하기 위한 분석기\n",
        "soup2 = BeautifulSoup(html2, 'lxml')"
      ],
      "metadata": {
        "id": "K7mo8gwpgPSq"
      },
      "execution_count": 14,
      "outputs": []
    },
    {
      "cell_type": "code",
      "source": [
        "# prettify() : html 구조 형태로 정리해서 출력\n",
        "print(soup2.prettify())"
      ],
      "metadata": {
        "colab": {
          "base_uri": "https://localhost:8080/"
        },
        "id": "VJ1xBVGPg_U6",
        "outputId": "abae3bae-63ff-4a56-eb45-72a486c152a3"
      },
      "execution_count": 15,
      "outputs": [
        {
          "output_type": "stream",
          "name": "stdout",
          "text": [
            "<html>\n",
            " <head>\n",
            "  <title>\n",
            "   작품과 작가 모음\n",
            "  </title>\n",
            " </head>\n",
            " <body>\n",
            "  <h1>\n",
            "   책 정보\n",
            "  </h1>\n",
            "  <p id=\"book_title\">\n",
            "   토지\n",
            "  </p>\n",
            "  <p id=\"author\">\n",
            "   박경리\n",
            "  </p>\n",
            "  <p id=\"book_title\">\n",
            "   태백산맥\n",
            "  </p>\n",
            "  <p id=\"author\">\n",
            "   조정래\n",
            "  </p>\n",
            "  <p id=\"book_title\">\n",
            "   감옥으로부터의 사색\n",
            "  </p>\n",
            "  <p id=\"author\">\n",
            "   신영복\n",
            "  </p>\n",
            " </body>\n",
            "</html>\n",
            "\n"
          ]
        }
      ]
    },
    {
      "cell_type": "code",
      "source": [
        "# 태그명 직접 이용\n",
        "soup2.title"
      ],
      "metadata": {
        "colab": {
          "base_uri": "https://localhost:8080/"
        },
        "id": "ZoAU1m8VhGiy",
        "outputId": "7ef4f49b-365b-4cd8-ea75-ac1bcc6bf243"
      },
      "execution_count": 16,
      "outputs": [
        {
          "output_type": "execute_result",
          "data": {
            "text/plain": [
              "<title>작품과 작가 모음</title>"
            ]
          },
          "metadata": {},
          "execution_count": 16
        }
      ]
    },
    {
      "cell_type": "code",
      "source": [
        "soup2.body.h1"
      ],
      "metadata": {
        "colab": {
          "base_uri": "https://localhost:8080/"
        },
        "id": "MKFzUHYuhkhx",
        "outputId": "27b9bd8c-c2c3-413a-d78d-99340adc4746"
      },
      "execution_count": 17,
      "outputs": [
        {
          "output_type": "execute_result",
          "data": {
            "text/plain": [
              "<h1>책 정보</h1>"
            ]
          },
          "metadata": {},
          "execution_count": 17
        }
      ]
    },
    {
      "cell_type": "code",
      "source": [
        "soup2.find_all('p')"
      ],
      "metadata": {
        "colab": {
          "base_uri": "https://localhost:8080/"
        },
        "id": "iSh4UNA4hn2C",
        "outputId": "2e54a324-867e-4aba-d4ad-ae14b4529135"
      },
      "execution_count": 18,
      "outputs": [
        {
          "output_type": "execute_result",
          "data": {
            "text/plain": [
              "[<p id=\"book_title\">토지</p>,\n",
              " <p id=\"author\">박경리</p>,\n",
              " <p id=\"book_title\">태백산맥</p>,\n",
              " <p id=\"author\">조정래</p>,\n",
              " <p id=\"book_title\">감옥으로부터의 사색</p>,\n",
              " <p id=\"author\">신영복</p>]"
            ]
          },
          "metadata": {},
          "execution_count": 18
        }
      ]
    },
    {
      "cell_type": "code",
      "source": [
        "soup2.find('p')"
      ],
      "metadata": {
        "colab": {
          "base_uri": "https://localhost:8080/"
        },
        "id": "C4xeoZEwhqwC",
        "outputId": "9617bc05-a93a-492e-933a-f00945b60099"
      },
      "execution_count": 19,
      "outputs": [
        {
          "output_type": "execute_result",
          "data": {
            "text/plain": [
              "<p id=\"book_title\">토지</p>"
            ]
          },
          "metadata": {},
          "execution_count": 19
        }
      ]
    },
    {
      "cell_type": "code",
      "source": [
        "soup2.find('p', {'id':'book_title'})"
      ],
      "metadata": {
        "colab": {
          "base_uri": "https://localhost:8080/"
        },
        "id": "CyF0l4a3iONq",
        "outputId": "708d659c-b702-4120-b8e4-60637b0fe424"
      },
      "execution_count": 20,
      "outputs": [
        {
          "output_type": "execute_result",
          "data": {
            "text/plain": [
              "<p id=\"book_title\">토지</p>"
            ]
          },
          "metadata": {},
          "execution_count": 20
        }
      ]
    },
    {
      "cell_type": "code",
      "source": [
        "soup2.find('p', {'id':'author'})"
      ],
      "metadata": {
        "colab": {
          "base_uri": "https://localhost:8080/"
        },
        "id": "yN54t5AUiSZa",
        "outputId": "5a52468d-a20a-4bed-80f0-474e7ca9c0ef"
      },
      "execution_count": 21,
      "outputs": [
        {
          "output_type": "execute_result",
          "data": {
            "text/plain": [
              "<p id=\"author\">박경리</p>"
            ]
          },
          "metadata": {},
          "execution_count": 21
        }
      ]
    },
    {
      "cell_type": "code",
      "source": [
        "soup2.find_all('p', {'id':'book_title'})"
      ],
      "metadata": {
        "colab": {
          "base_uri": "https://localhost:8080/"
        },
        "id": "poR_rdWgiVhh",
        "outputId": "f8cbd3ea-8bfd-4ed0-eca2-bc18bcf6e41a"
      },
      "execution_count": 22,
      "outputs": [
        {
          "output_type": "execute_result",
          "data": {
            "text/plain": [
              "[<p id=\"book_title\">토지</p>,\n",
              " <p id=\"book_title\">태백산맥</p>,\n",
              " <p id=\"book_title\">감옥으로부터의 사색</p>]"
            ]
          },
          "metadata": {},
          "execution_count": 22
        }
      ]
    },
    {
      "cell_type": "code",
      "source": [
        "soup2.find_all('p', {'id':'author'})"
      ],
      "metadata": {
        "colab": {
          "base_uri": "https://localhost:8080/"
        },
        "id": "b1fd_swSiXzJ",
        "outputId": "dfccd713-ea82-4eee-aafd-c5b895af0f37"
      },
      "execution_count": 23,
      "outputs": [
        {
          "output_type": "execute_result",
          "data": {
            "text/plain": [
              "[<p id=\"author\">박경리</p>, <p id=\"author\">조정래</p>, <p id=\"author\">신영복</p>]"
            ]
          },
          "metadata": {},
          "execution_count": 23
        }
      ]
    },
    {
      "cell_type": "code",
      "source": [
        "boot_titles = soup2.find_all('p', {'id':'book_title'})\n",
        "authors = soup2.find_all('p', {'id':'author'})\n",
        "print(boot_titles)\n",
        "authors"
      ],
      "metadata": {
        "colab": {
          "base_uri": "https://localhost:8080/"
        },
        "id": "kodqHkTJiaqp",
        "outputId": "40fe6010-9dfc-41bd-b94c-41e1f07ef5e5"
      },
      "execution_count": 24,
      "outputs": [
        {
          "output_type": "stream",
          "name": "stdout",
          "text": [
            "[<p id=\"book_title\">토지</p>, <p id=\"book_title\">태백산맥</p>, <p id=\"book_title\">감옥으로부터의 사색</p>]\n"
          ]
        },
        {
          "output_type": "execute_result",
          "data": {
            "text/plain": [
              "[<p id=\"author\">박경리</p>, <p id=\"author\">조정래</p>, <p id=\"author\">신영복</p>]"
            ]
          },
          "metadata": {},
          "execution_count": 24
        }
      ]
    },
    {
      "cell_type": "code",
      "source": [
        "for title, author in zip(boot_titles, authors):\n",
        "    print(title.get_text(),\":\",author.get_text())"
      ],
      "metadata": {
        "colab": {
          "base_uri": "https://localhost:8080/"
        },
        "id": "ID0nLbTzjIFS",
        "outputId": "e4957efc-5139-44b6-a9a3-4d239fc0cb78"
      },
      "execution_count": 25,
      "outputs": [
        {
          "output_type": "stream",
          "name": "stdout",
          "text": [
            "토지 : 박경리\n",
            "태백산맥 : 조정래\n",
            "감옥으로부터의 사색 : 신영복\n"
          ]
        }
      ]
    },
    {
      "cell_type": "code",
      "source": [
        "# BeatifulSoup 객체.select()\n",
        "soup2.select('body h1')"
      ],
      "metadata": {
        "colab": {
          "base_uri": "https://localhost:8080/"
        },
        "id": "Pgdx7R1gj0mh",
        "outputId": "a3fe6040-4764-4b71-b18c-4bef14d48188"
      },
      "execution_count": 26,
      "outputs": [
        {
          "output_type": "execute_result",
          "data": {
            "text/plain": [
              "[<h1>책 정보</h1>]"
            ]
          },
          "metadata": {},
          "execution_count": 26
        }
      ]
    },
    {
      "cell_type": "code",
      "source": [
        "# select('부모태그명 자식태그명')\n",
        "soup2.select('body p')"
      ],
      "metadata": {
        "colab": {
          "base_uri": "https://localhost:8080/"
        },
        "id": "ICjBUIPVj9Tw",
        "outputId": "7d0d7ef8-de9c-40c6-91f4-db2eca56f903"
      },
      "execution_count": 27,
      "outputs": [
        {
          "output_type": "execute_result",
          "data": {
            "text/plain": [
              "[<p id=\"book_title\">토지</p>,\n",
              " <p id=\"author\">박경리</p>,\n",
              " <p id=\"book_title\">태백산맥</p>,\n",
              " <p id=\"author\">조정래</p>,\n",
              " <p id=\"book_title\">감옥으로부터의 사색</p>,\n",
              " <p id=\"author\">신영복</p>]"
            ]
          },
          "metadata": {},
          "execution_count": 27
        }
      ]
    },
    {
      "cell_type": "code",
      "source": [
        "# selct('태그명#id명') / selct('태그명.class명')\n",
        "soup2.select('p#book_title')"
      ],
      "metadata": {
        "colab": {
          "base_uri": "https://localhost:8080/"
        },
        "id": "5hwiSMIslBdj",
        "outputId": "932f974b-ef24-47cf-8dcb-573fc51beedd"
      },
      "execution_count": 28,
      "outputs": [
        {
          "output_type": "execute_result",
          "data": {
            "text/plain": [
              "[<p id=\"book_title\">토지</p>,\n",
              " <p id=\"book_title\">태백산맥</p>,\n",
              " <p id=\"book_title\">감옥으로부터의 사색</p>]"
            ]
          },
          "metadata": {},
          "execution_count": 28
        }
      ]
    },
    {
      "cell_type": "code",
      "source": [
        "# 외부 html을 로드\n",
        "f = open('/content/drive/MyDrive/Encore/데이터분석/data3/HTML_example_my_site.html', encoding='utf-8')"
      ],
      "metadata": {
        "id": "Ll1_UmRxlQfw"
      },
      "execution_count": 29,
      "outputs": []
    },
    {
      "cell_type": "code",
      "source": [
        "# file 객체의 read()를 이용하여 읽기\n",
        "html_source = f.read()"
      ],
      "metadata": {
        "id": "jG4olTEonR3Y"
      },
      "execution_count": 30,
      "outputs": []
    },
    {
      "cell_type": "code",
      "source": [
        "f.close()"
      ],
      "metadata": {
        "id": "Tw5mLQDOnWKP"
      },
      "execution_count": 31,
      "outputs": []
    },
    {
      "cell_type": "code",
      "source": [
        "soup3 = BeautifulSoup(html_source, 'lxml')\n",
        "soup3"
      ],
      "metadata": {
        "colab": {
          "base_uri": "https://localhost:8080/"
        },
        "id": "787hlspbnXmQ",
        "outputId": "b245eb18-226c-4658-a48a-5f32d41e6d53"
      },
      "execution_count": 32,
      "outputs": [
        {
          "output_type": "execute_result",
          "data": {
            "text/plain": [
              "<!DOCTYPE html>\n",
              "<html>\n",
              "<head>\n",
              "<meta charset=\"utf-8\"/>\n",
              "<title>사이트 모음</title>\n",
              "</head>\n",
              "<body>\n",
              "<p id=\"title\"><b>자주 가는 사이트 모음</b></p>\n",
              "<p id=\"contents\">이곳은 자주 가는 사이트를 모아둔 곳입니다.</p>\n",
              "<a class=\"portal\" href=\"http://www.naver.com\" id=\"naver\">네이버</a> <br/>\n",
              "<a class=\"search\" href=\"https://www.google.com\" id=\"google\">구글</a> <br/>\n",
              "<a class=\"portal\" href=\"http://www.daum.net\" id=\"daum\">다음</a> <br/>\n",
              "<a class=\"government\" href=\"http://www.nl.go.kr\" id=\"nl\">국립중앙도서관</a>\n",
              "</body>\n",
              "</html>"
            ]
          },
          "metadata": {},
          "execution_count": 32
        }
      ]
    },
    {
      "cell_type": "code",
      "source": [
        "soup3.select('a.portal')"
      ],
      "metadata": {
        "colab": {
          "base_uri": "https://localhost:8080/"
        },
        "id": "1Ucz_B0LoM66",
        "outputId": "9d5c9246-9829-42e7-a6b1-14f2e6af3a39"
      },
      "execution_count": 33,
      "outputs": [
        {
          "output_type": "execute_result",
          "data": {
            "text/plain": [
              "[<a class=\"portal\" href=\"http://www.naver.com\" id=\"naver\">네이버</a>,\n",
              " <a class=\"portal\" href=\"http://www.daum.net\" id=\"daum\">다음</a>]"
            ]
          },
          "metadata": {},
          "execution_count": 33
        }
      ]
    },
    {
      "cell_type": "code",
      "source": [
        "soup3.select('a#nl')"
      ],
      "metadata": {
        "colab": {
          "base_uri": "https://localhost:8080/"
        },
        "id": "CI8DWKkwoPYI",
        "outputId": "5e747f9b-0204-4fd5-b99c-9f55b3de8a7a"
      },
      "execution_count": 34,
      "outputs": [
        {
          "output_type": "execute_result",
          "data": {
            "text/plain": [
              "[<a class=\"government\" href=\"http://www.nl.go.kr\" id=\"nl\">국립중앙도서관</a>]"
            ]
          },
          "metadata": {},
          "execution_count": 34
        }
      ]
    },
    {
      "cell_type": "markdown",
      "source": [
        "BeautifulSoup 객체를 이용한 HTML 소스 분석 방법\n",
        "\n",
        "1. BeautifulSoup 객체 생성 : BeautifulSoup(html소스, 'lxml')\n",
        "2. 검색방법\n",
        "    * 객체.find('검색 태그명') : 처음 검색된 태그만 문자열로 반환\n",
        "    * 객체.find_all('검색 태그명') : 검색된 모든 태그 리스트로 반환\n",
        "    * 객체.find('검색 태그명', {'id':'id명'}) : 검색된 태그 중 id에 해당하는 처음 값만 문자열로 반환\n",
        "    * 객체.find_all('검색 태그명', {'id':'id명'})) : 검색된 태그 중 id에 해당하는 모든 태그값들을 리스트로 반환\n",
        "    * 객체.find('검색 태그명', {'class':'class명'}) : 검색된 태그 중 class에 해당하는 처음 값만 문자열로 반환\n",
        "    * 객체.find_all('검색 태그명', {'class':'class명'})) : 검색된 태그 중 class에 해당하는 모든 태그값들을 리스트로 반환\n",
        "\n",
        "    * 객체.get_text() : 실제 텍스트(시작 태그와 닫는 태그 사이 글자 추출)\n",
        "\n",
        "    * 객체.태그명 : 검색된 태그를 문자열로 반환\n",
        "    * 객체.상위태그명.하위태그명 : 검색된 태그를 문자열로 반환\n",
        "\n",
        "    * 객체.select() : 리스트로 결과값 반환\n",
        "    * 객체.select('태그명')\n",
        "    * 객체.select('상위태그명 하위태그명')\n",
        "    * 객체.select('태그명#id명')\n",
        "    * 객체.select('태그명.class명')"
      ],
      "metadata": {
        "id": "-lBKbzi9rFkX"
      }
    },
    {
      "cell_type": "code",
      "source": [
        "f = open('/content/drive/MyDrive/Encore/데이터분석/data3/br_example_constitution.html', encoding='utf-8')\n",
        "html_source = f.read()\n",
        "f.close()\n",
        "\n",
        "soup4 = BeautifulSoup(html_source, 'lxml')\n",
        "soup4"
      ],
      "metadata": {
        "colab": {
          "base_uri": "https://localhost:8080/"
        },
        "id": "DDn1VFvMrANP",
        "outputId": "75b09581-14bb-46b8-91a8-f616cde398d0"
      },
      "execution_count": 35,
      "outputs": [
        {
          "output_type": "execute_result",
          "data": {
            "text/plain": [
              "<!DOCTYPE html>\n",
              "<html>\n",
              "<head>\n",
              "<meta charset=\"utf-8\"/>\n",
              "<title>줄 바꿈 테스트 예제</title>\n",
              "</head>\n",
              "<body>\n",
              "<p id=\"title\"><b>대한민국헌법</b></p>\n",
              "<p id=\"content\">제1조 <br/>①대한민국은 민주공화국이다.<br/>②대한민국의 주권은 국민에게 있고, 모든 권력은 국민으로부터 나온다.</p>\n",
              "<p id=\"content\">제2조 <br/>①대한민국의 국민이 되는 요건은 법률로 정한다.<br/>②국가는 법률이 정하는 바에 의하여 재외국민을 보호할 의무를 진다.</p>\n",
              "</body>\n",
              "</html>"
            ]
          },
          "metadata": {},
          "execution_count": 35
        }
      ]
    },
    {
      "cell_type": "code",
      "source": [
        "html = '<p id=\"content\">제1조 <br/>①대한민국은 민주공화국이다.<br/>②대한민국의 주권은 국민에게 있고, 모든 권력은 국민으로부터 나온다.</p>'\n",
        "html = html.replace('<br/>', '\\n')\n",
        "soup5 = BeautifulSoup(html, 'lxml')\n",
        "soup5"
      ],
      "metadata": {
        "colab": {
          "base_uri": "https://localhost:8080/"
        },
        "id": "7rzIsn--voyf",
        "outputId": "fefb52c2-4fce-476b-919a-f31aebc36e67"
      },
      "execution_count": 36,
      "outputs": [
        {
          "output_type": "execute_result",
          "data": {
            "text/plain": [
              "<html><body><p id=\"content\">제1조 \n",
              "①대한민국은 민주공화국이다.\n",
              "②대한민국의 주권은 국민에게 있고, 모든 권력은 국민으로부터 나온다.</p></body></html>"
            ]
          },
          "metadata": {},
          "execution_count": 36
        }
      ]
    },
    {
      "cell_type": "code",
      "source": [
        "html = '<p id=\"content\">제1조 <br/>①대한민국은 민주공화국이다.<br/>②대한민국의 주권은 국민에게 있고, 모든 권력은 국민으로부터 나온다.</p>'\n",
        "\n",
        "def replace_newline(soup_html):\n",
        "    br_to_newlines = soup_html.find_all('br')\n",
        "    for br_to_newline in br_to_newlines:\n",
        "        br_to_newline.replace_with('\\n')\n",
        "    return soup_html\n",
        "\n",
        "soup6 = BeautifulSoup(html, 'lxml')\n",
        "content2 = soup6.find('p', {'id':'content'})\n",
        "content3 = replace_newline(soup6)\n",
        "print(content3.get_text())"
      ],
      "metadata": {
        "colab": {
          "base_uri": "https://localhost:8080/"
        },
        "id": "4d3FBNtIyzyN",
        "outputId": "7cbec4de-9822-4cce-a7d6-ffd7b89305a3"
      },
      "execution_count": 37,
      "outputs": [
        {
          "output_type": "stream",
          "name": "stdout",
          "text": [
            "제1조 \n",
            "①대한민국은 민주공화국이다.\n",
            "②대한민국의 주권은 국민에게 있고, 모든 권력은 국민으로부터 나온다.\n"
          ]
        }
      ]
    },
    {
      "cell_type": "code",
      "source": [
        "soup7 = BeautifulSoup(html_source, 'lxml')\n",
        "\n",
        "title = soup7.find('p', {'id':'title'})\n",
        "contents = soup7.find_all('p', {'id':'content'})\n",
        "\n",
        "print(title.get_text(), '\\n')\n",
        "for content in contents:\n",
        "    con = replace_newline(content)\n",
        "    print(con.get_text(),'\\n')"
      ],
      "metadata": {
        "colab": {
          "base_uri": "https://localhost:8080/"
        },
        "id": "SukK9__9zXkV",
        "outputId": "1be16c92-432e-4dda-8be6-7999cc2b9ff5"
      },
      "execution_count": 38,
      "outputs": [
        {
          "output_type": "stream",
          "name": "stdout",
          "text": [
            "대한민국헌법 \n",
            "\n",
            "제1조 \n",
            "①대한민국은 민주공화국이다.\n",
            "②대한민국의 주권은 국민에게 있고, 모든 권력은 국민으로부터 나온다. \n",
            "\n",
            "제2조 \n",
            "①대한민국의 국민이 되는 요건은 법률로 정한다.\n",
            "②국가는 법률이 정하는 바에 의하여 재외국민을 보호할 의무를 진다. \n",
            "\n"
          ]
        }
      ]
    },
    {
      "cell_type": "code",
      "source": [
        "# https://www.alexa.com/topsites/countries/KR 에서 데이터 가져오기\n",
        "url = 'https://www.alexa.com/topsites/countries/KR'\n",
        "html_website_ranking = requests.get(url).text\n",
        "soup_website_ranking = BeautifulSoup(html_website_ranking, 'lxml')"
      ],
      "metadata": {
        "id": "O79qVxAy01oM"
      },
      "execution_count": 39,
      "outputs": []
    },
    {
      "cell_type": "code",
      "source": [
        "website_ranking = soup_website_ranking.select('p a')\n",
        "website_ranking"
      ],
      "metadata": {
        "colab": {
          "base_uri": "https://localhost:8080/"
        },
        "id": "1XBQN2eu8KAr",
        "outputId": "a24c214d-ae59-4ede-bbff-ef1eac04db46"
      },
      "execution_count": 40,
      "outputs": [
        {
          "output_type": "execute_result",
          "data": {
            "text/plain": [
              "[<a href=\"https://support.alexa.com/hc/en-us/articles/200444340\" target=\"_blank\">this explanation</a>,\n",
              " <a href=\"/siteinfo/google.com\">Google.com</a>,\n",
              " <a href=\"/siteinfo/naver.com\">Naver.com</a>,\n",
              " <a href=\"/siteinfo/youtube.com\">Youtube.com</a>,\n",
              " <a href=\"/siteinfo/daum.net\">Daum.net</a>,\n",
              " <a href=\"/siteinfo/tistory.com\">Tistory.com</a>,\n",
              " <a href=\"/siteinfo/kakao.com\">Kakao.com</a>,\n",
              " <a href=\"/siteinfo/coupang.com\">Coupang.com</a>,\n",
              " <a href=\"/siteinfo/tmall.com\">Tmall.com</a>,\n",
              " <a href=\"/siteinfo/amazon.com\">Amazon.com</a>,\n",
              " <a href=\"/siteinfo/google.co.kr\">Google.co.kr</a>,\n",
              " <a href=\"/siteinfo/namu.wiki\">Namu.wiki</a>,\n",
              " <a href=\"/siteinfo/netflix.com\">Netflix.com</a>,\n",
              " <a href=\"/siteinfo/sohu.com\">Sohu.com</a>,\n",
              " <a href=\"/siteinfo/facebook.com\">Facebook.com</a>,\n",
              " <a href=\"/siteinfo/qq.com\">Qq.com</a>,\n",
              " <a href=\"/siteinfo/wikipedia.org\">Wikipedia.org</a>,\n",
              " <a href=\"/siteinfo/taobao.com\">Taobao.com</a>,\n",
              " <a href=\"/siteinfo/jd.com\">Jd.com</a>,\n",
              " <a href=\"/siteinfo/360.cn\">360.cn</a>,\n",
              " <a href=\"/siteinfo/microsoft.com\">Microsoft.com</a>,\n",
              " <a href=\"/siteinfo/baidu.com\">Baidu.com</a>,\n",
              " <a href=\"/siteinfo/dcinside.com\">Dcinside.com</a>,\n",
              " <a href=\"/siteinfo/instagram.com\">Instagram.com</a>,\n",
              " <a href=\"/siteinfo/11st.co.kr\">11st.co.kr</a>,\n",
              " <a href=\"/siteinfo/yahoo.com\">Yahoo.com</a>,\n",
              " <a href=\"/siteinfo/office.com\">Office.com</a>,\n",
              " <a href=\"/siteinfo/adobe.com\">Adobe.com</a>,\n",
              " <a href=\"/siteinfo/nate.com\">Nate.com</a>,\n",
              " <a href=\"/siteinfo/fmkorea.com\">Fmkorea.com</a>,\n",
              " <a href=\"/siteinfo/chosun.com\">Chosun.com</a>,\n",
              " <a href=\"/siteinfo/donga.com\">Donga.com</a>,\n",
              " <a href=\"/siteinfo/gmarket.co.kr\">Gmarket.co.kr</a>,\n",
              " <a href=\"/siteinfo/sina.com.cn\">Sina.com.cn</a>,\n",
              " <a href=\"/siteinfo/twitch.tv\">Twitch.tv</a>,\n",
              " <a href=\"/siteinfo/zoom.us\">Zoom.us</a>,\n",
              " <a href=\"/siteinfo/weibo.com\">Weibo.com</a>,\n",
              " <a href=\"/siteinfo/apple.com\">Apple.com</a>,\n",
              " <a href=\"/siteinfo/danawa.com\">Danawa.com</a>,\n",
              " <a href=\"/siteinfo/bing.com\">Bing.com</a>,\n",
              " <a href=\"/siteinfo/cafe24.com\">Cafe24.com</a>,\n",
              " <a href=\"/siteinfo/brunch.co.kr\">Brunch.co.kr</a>,\n",
              " <a href=\"/siteinfo/jobkorea.co.kr\">Jobkorea.co.kr</a>,\n",
              " <a href=\"/siteinfo/inven.co.kr\">Inven.co.kr</a>,\n",
              " <a href=\"/siteinfo/ruliweb.com\">Ruliweb.com</a>,\n",
              " <a href=\"/siteinfo/stackoverflow.com\">Stackoverflow.com</a>,\n",
              " <a href=\"/siteinfo/aliexpress.com\">Aliexpress.com</a>,\n",
              " <a href=\"/siteinfo/upbit.com\">Upbit.com</a>,\n",
              " <a href=\"/siteinfo/auction.co.kr\">Auction.co.kr</a>,\n",
              " <a href=\"/siteinfo/google.com.hk\">Google.com.hk</a>,\n",
              " <a href=\"/siteinfo/amazon.co.uk\">Amazon.co.uk</a>]"
            ]
          },
          "metadata": {},
          "execution_count": 40
        }
      ]
    },
    {
      "cell_type": "code",
      "source": [
        "website_ranking_address = [element.get_text() for element in website_ranking[1:]]\n",
        "website_ranking_address"
      ],
      "metadata": {
        "colab": {
          "base_uri": "https://localhost:8080/"
        },
        "id": "GLBy6WHU7nSC",
        "outputId": "968f85b9-3f26-4153-dc08-403483baa89b"
      },
      "execution_count": 41,
      "outputs": [
        {
          "output_type": "execute_result",
          "data": {
            "text/plain": [
              "['Google.com',\n",
              " 'Naver.com',\n",
              " 'Youtube.com',\n",
              " 'Daum.net',\n",
              " 'Tistory.com',\n",
              " 'Kakao.com',\n",
              " 'Coupang.com',\n",
              " 'Tmall.com',\n",
              " 'Amazon.com',\n",
              " 'Google.co.kr',\n",
              " 'Namu.wiki',\n",
              " 'Netflix.com',\n",
              " 'Sohu.com',\n",
              " 'Facebook.com',\n",
              " 'Qq.com',\n",
              " 'Wikipedia.org',\n",
              " 'Taobao.com',\n",
              " 'Jd.com',\n",
              " '360.cn',\n",
              " 'Microsoft.com',\n",
              " 'Baidu.com',\n",
              " 'Dcinside.com',\n",
              " 'Instagram.com',\n",
              " '11st.co.kr',\n",
              " 'Yahoo.com',\n",
              " 'Office.com',\n",
              " 'Adobe.com',\n",
              " 'Nate.com',\n",
              " 'Fmkorea.com',\n",
              " 'Chosun.com',\n",
              " 'Donga.com',\n",
              " 'Gmarket.co.kr',\n",
              " 'Sina.com.cn',\n",
              " 'Twitch.tv',\n",
              " 'Zoom.us',\n",
              " 'Weibo.com',\n",
              " 'Apple.com',\n",
              " 'Danawa.com',\n",
              " 'Bing.com',\n",
              " 'Cafe24.com',\n",
              " 'Brunch.co.kr',\n",
              " 'Jobkorea.co.kr',\n",
              " 'Inven.co.kr',\n",
              " 'Ruliweb.com',\n",
              " 'Stackoverflow.com',\n",
              " 'Aliexpress.com',\n",
              " 'Upbit.com',\n",
              " 'Auction.co.kr',\n",
              " 'Google.com.hk',\n",
              " 'Amazon.co.uk']"
            ]
          },
          "metadata": {},
          "execution_count": 41
        }
      ]
    },
    {
      "cell_type": "code",
      "source": [
        "print('[Top Sites in South Korea]')\n",
        "for k in range(6):\n",
        "    print(f'{k+1} : {website_ranking_address[k]}')"
      ],
      "metadata": {
        "colab": {
          "base_uri": "https://localhost:8080/"
        },
        "id": "UQqDQvBN8lp8",
        "outputId": "a27452bc-7876-44de-bb88-f9ec12525717"
      },
      "execution_count": 42,
      "outputs": [
        {
          "output_type": "stream",
          "name": "stdout",
          "text": [
            "[Top Sites in South Korea]\n",
            "1 : Google.com\n",
            "2 : Naver.com\n",
            "3 : Youtube.com\n",
            "4 : Daum.net\n",
            "5 : Tistory.com\n",
            "6 : Kakao.com\n"
          ]
        }
      ]
    },
    {
      "cell_type": "code",
      "source": [
        "# 검색 결과 데이터를 데이터프레임으로\n",
        "import pandas as pd\n",
        "\n",
        "# 2. 검색 결과 데이터를 데이터프레임으로 생성하기 위한 dict 생성\n",
        "website_ranking_dict = {'WebSite':website_ranking_address}\n",
        "website_ranking_dict"
      ],
      "metadata": {
        "colab": {
          "base_uri": "https://localhost:8080/"
        },
        "id": "8Li0NXHe9-Px",
        "outputId": "510965c2-3051-42f5-b209-67d0e0d74cde"
      },
      "execution_count": 43,
      "outputs": [
        {
          "output_type": "execute_result",
          "data": {
            "text/plain": [
              "{'WebSite': ['Google.com',\n",
              "  'Naver.com',\n",
              "  'Youtube.com',\n",
              "  'Daum.net',\n",
              "  'Tistory.com',\n",
              "  'Kakao.com',\n",
              "  'Coupang.com',\n",
              "  'Tmall.com',\n",
              "  'Amazon.com',\n",
              "  'Google.co.kr',\n",
              "  'Namu.wiki',\n",
              "  'Netflix.com',\n",
              "  'Sohu.com',\n",
              "  'Facebook.com',\n",
              "  'Qq.com',\n",
              "  'Wikipedia.org',\n",
              "  'Taobao.com',\n",
              "  'Jd.com',\n",
              "  '360.cn',\n",
              "  'Microsoft.com',\n",
              "  'Baidu.com',\n",
              "  'Dcinside.com',\n",
              "  'Instagram.com',\n",
              "  '11st.co.kr',\n",
              "  'Yahoo.com',\n",
              "  'Office.com',\n",
              "  'Adobe.com',\n",
              "  'Nate.com',\n",
              "  'Fmkorea.com',\n",
              "  'Chosun.com',\n",
              "  'Donga.com',\n",
              "  'Gmarket.co.kr',\n",
              "  'Sina.com.cn',\n",
              "  'Twitch.tv',\n",
              "  'Zoom.us',\n",
              "  'Weibo.com',\n",
              "  'Apple.com',\n",
              "  'Danawa.com',\n",
              "  'Bing.com',\n",
              "  'Cafe24.com',\n",
              "  'Brunch.co.kr',\n",
              "  'Jobkorea.co.kr',\n",
              "  'Inven.co.kr',\n",
              "  'Ruliweb.com',\n",
              "  'Stackoverflow.com',\n",
              "  'Aliexpress.com',\n",
              "  'Upbit.com',\n",
              "  'Auction.co.kr',\n",
              "  'Google.com.hk',\n",
              "  'Amazon.co.uk']}"
            ]
          },
          "metadata": {},
          "execution_count": 43
        }
      ]
    },
    {
      "cell_type": "code",
      "source": [
        "website_ranking_df = pd.DataFrame(website_ranking_dict, index=range(1, len(website_ranking_address)+1))\n",
        "website_ranking_df"
      ],
      "metadata": {
        "colab": {
          "base_uri": "https://localhost:8080/",
          "height": 1000
        },
        "id": "FxU8yBF_-iti",
        "outputId": "25829126-7e25-4f1d-81e7-dbcc2e6ca6d0"
      },
      "execution_count": 44,
      "outputs": [
        {
          "output_type": "execute_result",
          "data": {
            "text/html": [
              "<div>\n",
              "<style scoped>\n",
              "    .dataframe tbody tr th:only-of-type {\n",
              "        vertical-align: middle;\n",
              "    }\n",
              "\n",
              "    .dataframe tbody tr th {\n",
              "        vertical-align: top;\n",
              "    }\n",
              "\n",
              "    .dataframe thead th {\n",
              "        text-align: right;\n",
              "    }\n",
              "</style>\n",
              "<table border=\"1\" class=\"dataframe\">\n",
              "  <thead>\n",
              "    <tr style=\"text-align: right;\">\n",
              "      <th></th>\n",
              "      <th>WebSite</th>\n",
              "    </tr>\n",
              "  </thead>\n",
              "  <tbody>\n",
              "    <tr>\n",
              "      <th>1</th>\n",
              "      <td>Google.com</td>\n",
              "    </tr>\n",
              "    <tr>\n",
              "      <th>2</th>\n",
              "      <td>Naver.com</td>\n",
              "    </tr>\n",
              "    <tr>\n",
              "      <th>3</th>\n",
              "      <td>Youtube.com</td>\n",
              "    </tr>\n",
              "    <tr>\n",
              "      <th>4</th>\n",
              "      <td>Daum.net</td>\n",
              "    </tr>\n",
              "    <tr>\n",
              "      <th>5</th>\n",
              "      <td>Tistory.com</td>\n",
              "    </tr>\n",
              "    <tr>\n",
              "      <th>6</th>\n",
              "      <td>Kakao.com</td>\n",
              "    </tr>\n",
              "    <tr>\n",
              "      <th>7</th>\n",
              "      <td>Coupang.com</td>\n",
              "    </tr>\n",
              "    <tr>\n",
              "      <th>8</th>\n",
              "      <td>Tmall.com</td>\n",
              "    </tr>\n",
              "    <tr>\n",
              "      <th>9</th>\n",
              "      <td>Amazon.com</td>\n",
              "    </tr>\n",
              "    <tr>\n",
              "      <th>10</th>\n",
              "      <td>Google.co.kr</td>\n",
              "    </tr>\n",
              "    <tr>\n",
              "      <th>11</th>\n",
              "      <td>Namu.wiki</td>\n",
              "    </tr>\n",
              "    <tr>\n",
              "      <th>12</th>\n",
              "      <td>Netflix.com</td>\n",
              "    </tr>\n",
              "    <tr>\n",
              "      <th>13</th>\n",
              "      <td>Sohu.com</td>\n",
              "    </tr>\n",
              "    <tr>\n",
              "      <th>14</th>\n",
              "      <td>Facebook.com</td>\n",
              "    </tr>\n",
              "    <tr>\n",
              "      <th>15</th>\n",
              "      <td>Qq.com</td>\n",
              "    </tr>\n",
              "    <tr>\n",
              "      <th>16</th>\n",
              "      <td>Wikipedia.org</td>\n",
              "    </tr>\n",
              "    <tr>\n",
              "      <th>17</th>\n",
              "      <td>Taobao.com</td>\n",
              "    </tr>\n",
              "    <tr>\n",
              "      <th>18</th>\n",
              "      <td>Jd.com</td>\n",
              "    </tr>\n",
              "    <tr>\n",
              "      <th>19</th>\n",
              "      <td>360.cn</td>\n",
              "    </tr>\n",
              "    <tr>\n",
              "      <th>20</th>\n",
              "      <td>Microsoft.com</td>\n",
              "    </tr>\n",
              "    <tr>\n",
              "      <th>21</th>\n",
              "      <td>Baidu.com</td>\n",
              "    </tr>\n",
              "    <tr>\n",
              "      <th>22</th>\n",
              "      <td>Dcinside.com</td>\n",
              "    </tr>\n",
              "    <tr>\n",
              "      <th>23</th>\n",
              "      <td>Instagram.com</td>\n",
              "    </tr>\n",
              "    <tr>\n",
              "      <th>24</th>\n",
              "      <td>11st.co.kr</td>\n",
              "    </tr>\n",
              "    <tr>\n",
              "      <th>25</th>\n",
              "      <td>Yahoo.com</td>\n",
              "    </tr>\n",
              "    <tr>\n",
              "      <th>26</th>\n",
              "      <td>Office.com</td>\n",
              "    </tr>\n",
              "    <tr>\n",
              "      <th>27</th>\n",
              "      <td>Adobe.com</td>\n",
              "    </tr>\n",
              "    <tr>\n",
              "      <th>28</th>\n",
              "      <td>Nate.com</td>\n",
              "    </tr>\n",
              "    <tr>\n",
              "      <th>29</th>\n",
              "      <td>Fmkorea.com</td>\n",
              "    </tr>\n",
              "    <tr>\n",
              "      <th>30</th>\n",
              "      <td>Chosun.com</td>\n",
              "    </tr>\n",
              "    <tr>\n",
              "      <th>31</th>\n",
              "      <td>Donga.com</td>\n",
              "    </tr>\n",
              "    <tr>\n",
              "      <th>32</th>\n",
              "      <td>Gmarket.co.kr</td>\n",
              "    </tr>\n",
              "    <tr>\n",
              "      <th>33</th>\n",
              "      <td>Sina.com.cn</td>\n",
              "    </tr>\n",
              "    <tr>\n",
              "      <th>34</th>\n",
              "      <td>Twitch.tv</td>\n",
              "    </tr>\n",
              "    <tr>\n",
              "      <th>35</th>\n",
              "      <td>Zoom.us</td>\n",
              "    </tr>\n",
              "    <tr>\n",
              "      <th>36</th>\n",
              "      <td>Weibo.com</td>\n",
              "    </tr>\n",
              "    <tr>\n",
              "      <th>37</th>\n",
              "      <td>Apple.com</td>\n",
              "    </tr>\n",
              "    <tr>\n",
              "      <th>38</th>\n",
              "      <td>Danawa.com</td>\n",
              "    </tr>\n",
              "    <tr>\n",
              "      <th>39</th>\n",
              "      <td>Bing.com</td>\n",
              "    </tr>\n",
              "    <tr>\n",
              "      <th>40</th>\n",
              "      <td>Cafe24.com</td>\n",
              "    </tr>\n",
              "    <tr>\n",
              "      <th>41</th>\n",
              "      <td>Brunch.co.kr</td>\n",
              "    </tr>\n",
              "    <tr>\n",
              "      <th>42</th>\n",
              "      <td>Jobkorea.co.kr</td>\n",
              "    </tr>\n",
              "    <tr>\n",
              "      <th>43</th>\n",
              "      <td>Inven.co.kr</td>\n",
              "    </tr>\n",
              "    <tr>\n",
              "      <th>44</th>\n",
              "      <td>Ruliweb.com</td>\n",
              "    </tr>\n",
              "    <tr>\n",
              "      <th>45</th>\n",
              "      <td>Stackoverflow.com</td>\n",
              "    </tr>\n",
              "    <tr>\n",
              "      <th>46</th>\n",
              "      <td>Aliexpress.com</td>\n",
              "    </tr>\n",
              "    <tr>\n",
              "      <th>47</th>\n",
              "      <td>Upbit.com</td>\n",
              "    </tr>\n",
              "    <tr>\n",
              "      <th>48</th>\n",
              "      <td>Auction.co.kr</td>\n",
              "    </tr>\n",
              "    <tr>\n",
              "      <th>49</th>\n",
              "      <td>Google.com.hk</td>\n",
              "    </tr>\n",
              "    <tr>\n",
              "      <th>50</th>\n",
              "      <td>Amazon.co.uk</td>\n",
              "    </tr>\n",
              "  </tbody>\n",
              "</table>\n",
              "</div>"
            ],
            "text/plain": [
              "              WebSite\n",
              "1          Google.com\n",
              "2           Naver.com\n",
              "3         Youtube.com\n",
              "4            Daum.net\n",
              "5         Tistory.com\n",
              "6           Kakao.com\n",
              "7         Coupang.com\n",
              "8           Tmall.com\n",
              "9          Amazon.com\n",
              "10       Google.co.kr\n",
              "11          Namu.wiki\n",
              "12        Netflix.com\n",
              "13           Sohu.com\n",
              "14       Facebook.com\n",
              "15             Qq.com\n",
              "16      Wikipedia.org\n",
              "17         Taobao.com\n",
              "18             Jd.com\n",
              "19             360.cn\n",
              "20      Microsoft.com\n",
              "21          Baidu.com\n",
              "22       Dcinside.com\n",
              "23      Instagram.com\n",
              "24         11st.co.kr\n",
              "25          Yahoo.com\n",
              "26         Office.com\n",
              "27          Adobe.com\n",
              "28           Nate.com\n",
              "29        Fmkorea.com\n",
              "30         Chosun.com\n",
              "31          Donga.com\n",
              "32      Gmarket.co.kr\n",
              "33        Sina.com.cn\n",
              "34          Twitch.tv\n",
              "35            Zoom.us\n",
              "36          Weibo.com\n",
              "37          Apple.com\n",
              "38         Danawa.com\n",
              "39           Bing.com\n",
              "40         Cafe24.com\n",
              "41       Brunch.co.kr\n",
              "42     Jobkorea.co.kr\n",
              "43        Inven.co.kr\n",
              "44        Ruliweb.com\n",
              "45  Stackoverflow.com\n",
              "46     Aliexpress.com\n",
              "47          Upbit.com\n",
              "48      Auction.co.kr\n",
              "49      Google.com.hk\n",
              "50       Amazon.co.uk"
            ]
          },
          "metadata": {},
          "execution_count": 44
        }
      ]
    },
    {
      "cell_type": "code",
      "source": [
        "# https://music.bugs.co.kr/chart/track/week/total?chartdate=20200921\n",
        "url = 'https://music.bugs.co.kr/chart/track/week/total?chartdate=20211206'\n",
        "bugs = requests.get(url).text\n",
        "soup_bugs = BeautifulSoup(bugs, 'lxml')"
      ],
      "metadata": {
        "id": "PNdOq2tR_WrM"
      },
      "execution_count": 45,
      "outputs": []
    },
    {
      "cell_type": "code",
      "source": [
        "soup_bugs.select('p.artist a')"
      ],
      "metadata": {
        "colab": {
          "base_uri": "https://localhost:8080/"
        },
        "id": "uebtzvV7AmPR",
        "outputId": "7e7ee7cd-5ece-4f65-a66c-1f1cdb913114"
      },
      "execution_count": 46,
      "outputs": [
        {
          "output_type": "execute_result",
          "data": {
            "text/plain": [
              "[<a href=\"https://music.bugs.co.kr/artist/20148657?wl_ref=list_tr_10_chart\" onclick=\"\n",
              " \" title=\"IVE (아이브)\">IVE (아이브)</a>,\n",
              " <a href=\"https://music.bugs.co.kr/artist/80041466?wl_ref=list_tr_10_chart\" onclick=\"\n",
              " \" title=\"다비치\">다비치</a>,\n",
              " <a href=\"https://music.bugs.co.kr/artist/20056684?wl_ref=list_tr_10_chart\" onclick=\"\n",
              " \" title=\"이무진\">이무진</a>,\n",
              " <a href=\"https://music.bugs.co.kr/artist/20073470?wl_ref=list_tr_10_chart\" onclick=\"\n",
              " \" title=\"sokodomo\">sokodomo</a>,\n",
              " <a href=\"https://music.bugs.co.kr/artist/80337001?wl_ref=list_tr_10_chart\" onclick=\"\n",
              " \" title=\"BE'O (비오)\">BE'O (비오)</a>,\n",
              " <a href=\"https://music.bugs.co.kr/artist/80026960?wl_ref=list_tr_10_chart\" onclick=\"\n",
              " \" title=\"베이식(Basick)\">베이식(Basick)</a>,\n",
              " <a href=\"https://music.bugs.co.kr/artist/20096572?wl_ref=list_tr_10_chart\" onclick=\"\n",
              " \" title=\"Mudd the student\">Mudd the student</a>,\n",
              " <a href=\"https://music.bugs.co.kr/artist/80049126?wl_ref=list_tr_10_chart\" onclick=\"\n",
              " \" title=\"아이유(IU)\">아이유(IU)</a>,\n",
              " <a href=\"https://music.bugs.co.kr/artist/80337001?wl_ref=list_tr_10_chart\" onclick=\"\n",
              " \" title=\"BE'O (비오)\">BE'O (비오)</a>,\n",
              " <a href=\"https://music.bugs.co.kr/artist/80337001?wl_ref=list_tr_10_chart\" onclick=\"\n",
              " \" title=\"BE'O (비오)\">BE'O (비오)</a>,\n",
              " <a class=\"artistTitle\" href=\"https://music.bugs.co.kr/artist/80079593?wl_ref=list_tr_10_chart\" title=\"존 박\">존 박</a>,\n",
              " <a class=\"more\" href=\"javascript:void(0);\" name=\"atag_martist_list\" onclick=\"bugs.layermenu.openMultiArtistSearchResultPopLayer(this, '존 박||존 박||80079593||OK\\\\n전미도||전미도||80135120||OK', ''); return false;\" title=\"아티스트 전체보기\" wise_log_str=\"?wl_ref=list_tr_10_chart\">\n",
              " 존 박\n",
              " </a>,\n",
              " <a href=\"https://music.bugs.co.kr/artist/80185895?wl_ref=list_tr_10_chart\" onclick=\"\n",
              " \" title=\"MINO(송민호)\">MINO(송민호)</a>,\n",
              " <a class=\"artistTitle\" href=\"https://music.bugs.co.kr/artist/6840?wl_ref=list_tr_10_chart\" title=\"유희열\">유희열</a>,\n",
              " <a class=\"more\" href=\"javascript:void(0);\" name=\"atag_martist_list\" onclick=\"bugs.layermenu.openMultiArtistSearchResultPopLayer(this, '유희열||유희열||6840||OK\\\\n유재석||유재석||80026852||OK\\\\n정재형||정재형||1529||OK\\\\n루시드폴||루시드폴||419||OK\\\\n페퍼톤스||페퍼톤스(Peppertones)||80000082||OK\\\\n박새별||박새별||80049502||OK\\\\n샘김||샘김(Sam Kim)||80182769||OK\\\\n이진아||이진아||80169322||OK\\\\n권진아||권진아||80182768||OK\\\\n정승환||정승환||80213200||OK\\\\n윤석철||윤석철||80067018||OK\\\\n적재||적재||8008787||OK\\\\n이미주||이미주||80209600||OK\\\\n서동환||서동환||80333255||OK', ''); return false;\" title=\"아티스트 전체보기\" wise_log_str=\"?wl_ref=list_tr_10_chart\">\n",
              " 유희열\n",
              " </a>,\n",
              " <a href=\"https://music.bugs.co.kr/artist/80259080?wl_ref=list_tr_10_chart\" onclick=\"\n",
              " \" title=\"청하\">청하</a>,\n",
              " <a href=\"https://music.bugs.co.kr/artist/80347326?wl_ref=list_tr_10_chart\" onclick=\"\n",
              " \" title=\"aespa\">aespa</a>,\n",
              " <a href=\"https://music.bugs.co.kr/artist/80117591?wl_ref=list_tr_10_chart\" onclick=\"\n",
              " \" title=\"Ariana Grande(아리아나 그란데)\">Ariana Grande(아리아나 그란데)</a>,\n",
              " <a href=\"https://music.bugs.co.kr/artist/80249916?wl_ref=list_tr_10_chart\" onclick=\"\n",
              " \" title=\"TWICE (트와이스)\">TWICE (트와이스)</a>,\n",
              " <a class=\"artistTitle\" href=\"https://music.bugs.co.kr/artist/80185895?wl_ref=list_tr_10_chart\" title=\"MINO(송민호)\">MINO(송민호)</a>,\n",
              " <a class=\"more\" href=\"javascript:void(0);\" name=\"atag_martist_list\" onclick=\"bugs.layermenu.openMultiArtistSearchResultPopLayer(this, 'MINO(송민호)||MINO(송민호)||80185895||OK\\\\nAnandelight||아넌딜라이트(Anandelight)||20070271||OK\\\\nunofficialboyy||unofficialboyy||20036043||OK\\\\nBE\\'O (비오)||BE\\'O (비오)||80337001||OK\\\\n지구인||지구인||80126124||OK\\\\nMudd the student||Mudd the student||20096572||OK', ''); return false;\" title=\"아티스트 전체보기\" wise_log_str=\"?wl_ref=list_tr_10_chart\">\n",
              " MINO(송민호)\n",
              " </a>,\n",
              " <a href=\"https://music.bugs.co.kr/artist/80265501?wl_ref=list_tr_10_chart\" onclick=\"\n",
              " \" title=\"임영웅\">임영웅</a>,\n",
              " <a href=\"https://music.bugs.co.kr/artist/80067149?wl_ref=list_tr_10_chart\" onclick=\"\n",
              " \" title=\"10CM\">10CM</a>,\n",
              " <a href=\"https://music.bugs.co.kr/artist/80177861?wl_ref=list_tr_10_chart\" onclick=\"\n",
              " \" title=\"화사(Hwa Sa)\">화사(Hwa Sa)</a>,\n",
              " <a href=\"https://music.bugs.co.kr/artist/20056684?wl_ref=list_tr_10_chart\" onclick=\"\n",
              " \" title=\"이무진\">이무진</a>,\n",
              " <a class=\"artistTitle\" href=\"https://music.bugs.co.kr/artist/80333705?wl_ref=list_tr_10_chart\" title=\"The Kid LAROI\">The Kid LAROI</a>,\n",
              " <a class=\"more\" href=\"javascript:void(0);\" name=\"atag_martist_list\" onclick=\"bugs.layermenu.openMultiArtistSearchResultPopLayer(this, 'The Kid LAROI||The Kid LAROI||80333705||OK\\\\nJustin Bieber||Justin Bieber(저스틴 비버)||80057730||OK', ''); return false;\" title=\"아티스트 전체보기\" wise_log_str=\"?wl_ref=list_tr_10_chart\">\n",
              " The Kid LAROI\n",
              " </a>,\n",
              " <a href=\"https://music.bugs.co.kr/artist/80347326?wl_ref=list_tr_10_chart\" onclick=\"\n",
              " \" title=\"aespa\">aespa</a>,\n",
              " <a href=\"https://music.bugs.co.kr/artist/1079?wl_ref=list_tr_10_chart\" onclick=\"\n",
              " \" title=\"Mariah Carey(머라이어 캐리)\">Mariah Carey(머라이어 캐리)</a>,\n",
              " <a class=\"artistTitle\" href=\"https://music.bugs.co.kr/artist/20105641?wl_ref=list_tr_10_chart\" title=\"경서예지\">경서예지</a>,\n",
              " <a class=\"more\" href=\"javascript:void(0);\" name=\"atag_martist_list\" onclick=\"bugs.layermenu.openMultiArtistSearchResultPopLayer(this, '경서예지||경서예지||20105641||OK\\\\n전건호||전건호||20087491||OK', ''); return false;\" title=\"아티스트 전체보기\" wise_log_str=\"?wl_ref=list_tr_10_chart\">\n",
              " 경서예지\n",
              " </a>,\n",
              " <a href=\"https://music.bugs.co.kr/artist/80010025?wl_ref=list_tr_10_chart\" onclick=\"\n",
              " \" title=\"윤하(Younha/ユンナ)\">윤하(Younha/ユンナ)</a>,\n",
              " <a href=\"https://music.bugs.co.kr/artist/80067149?wl_ref=list_tr_10_chart\" onclick=\"\n",
              " \" title=\"10CM\">10CM</a>,\n",
              " <a href=\"https://music.bugs.co.kr/artist/80337001?wl_ref=list_tr_10_chart\" onclick=\"\n",
              " \" title=\"BE'O (비오)\">BE'O (비오)</a>,\n",
              " <a class=\"artistTitle\" href=\"https://music.bugs.co.kr/artist/2916?wl_ref=list_tr_10_chart\" title=\"개코\">개코</a>,\n",
              " <a class=\"more\" href=\"javascript:void(0);\" name=\"atag_martist_list\" onclick=\"bugs.layermenu.openMultiArtistSearchResultPopLayer(this, '개코||개코||2916||OK\\\\nOurealgoat||Ourealgoat (아우릴고트)||20076067||OK\\\\nSINCE||SINCE||20056615||OK\\\\n안병웅||안병웅||20086251||OK\\\\nTabber||Tabber||80212388||OK\\\\n조광일||조광일||20087231||OK', ''); return false;\" title=\"아티스트 전체보기\" wise_log_str=\"?wl_ref=list_tr_10_chart\">\n",
              " 개코\n",
              " </a>,\n",
              " <a class=\"artistTitle\" href=\"https://music.bugs.co.kr/artist/583?wl_ref=list_tr_10_chart\" title=\"Coldplay(콜드플레이)\">Coldplay(콜드플레이)</a>,\n",
              " <a class=\"more\" href=\"javascript:void(0);\" name=\"atag_martist_list\" onclick=\"bugs.layermenu.openMultiArtistSearchResultPopLayer(this, 'Coldplay||Coldplay(콜드플레이)||583||OK\\\\n방탄소년단||방탄소년단||80079394||OK', ''); return false;\" title=\"아티스트 전체보기\" wise_log_str=\"?wl_ref=list_tr_10_chart\">\n",
              " Coldplay(콜드플레이)\n",
              " </a>,\n",
              " <a href=\"https://music.bugs.co.kr/artist/80141499?wl_ref=list_tr_10_chart\" onclick=\"\n",
              " \" title=\"AKMU(악뮤)\">AKMU(악뮤)</a>,\n",
              " <a href=\"https://music.bugs.co.kr/artist/80337001?wl_ref=list_tr_10_chart\" onclick=\"\n",
              " \" title=\"BE'O (비오)\">BE'O (비오)</a>,\n",
              " <a href=\"https://music.bugs.co.kr/artist/20079471?wl_ref=list_tr_10_chart\" onclick=\"\n",
              " \" title=\"이영지\">이영지</a>,\n",
              " <a href=\"https://music.bugs.co.kr/artist/80223033?wl_ref=list_tr_10_chart\" onclick=\"\n",
              " \" title=\"멜로망스(MeloMance)\">멜로망스(MeloMance)</a>,\n",
              " <a href=\"https://music.bugs.co.kr/artist/80079394?wl_ref=list_tr_10_chart\" onclick=\"\n",
              " \" title=\"방탄소년단\">방탄소년단</a>,\n",
              " <a href=\"https://music.bugs.co.kr/artist/80079394?wl_ref=list_tr_10_chart\" onclick=\"\n",
              " \" title=\"방탄소년단\">방탄소년단</a>,\n",
              " <a href=\"https://music.bugs.co.kr/artist/20087231?wl_ref=list_tr_10_chart\" onclick=\"\n",
              " \" title=\"조광일\">조광일</a>,\n",
              " <a href=\"https://music.bugs.co.kr/artist/80343574?wl_ref=list_tr_10_chart\" onclick=\"\n",
              " \" title=\"주시크 (Joosiq)\">주시크 (Joosiq)</a>,\n",
              " <a class=\"artistTitle\" href=\"https://music.bugs.co.kr/artist/80044241?wl_ref=list_tr_10_chart\" title=\"온유 (ONEW)\">온유 (ONEW)</a>,\n",
              " <a class=\"more\" href=\"javascript:void(0);\" name=\"atag_martist_list\" onclick=\"bugs.layermenu.openMultiArtistSearchResultPopLayer(this, '온유(ONEW)||온유 (ONEW)||80044241||OK\\\\n펀치||펀치 (Punch)||8059652||OK', ''); return false;\" title=\"아티스트 전체보기\" wise_log_str=\"?wl_ref=list_tr_10_chart\">\n",
              " 온유 (ONEW)\n",
              " </a>,\n",
              " <a href=\"https://music.bugs.co.kr/artist/80010088?wl_ref=list_tr_10_chart\" onclick=\"\n",
              " \" title=\"Sia(시아)\">Sia(시아)</a>,\n",
              " <a href=\"https://music.bugs.co.kr/artist/20056615?wl_ref=list_tr_10_chart\" onclick=\"\n",
              " \" title=\"SINCE\">SINCE</a>,\n",
              " <a href=\"https://music.bugs.co.kr/artist/80009895?wl_ref=list_tr_10_chart\" onclick=\"\n",
              " \" title=\"David Guetta(데이빗 게타)\">David Guetta(데이빗 게타)</a>,\n",
              " <a class=\"artistTitle\" href=\"https://music.bugs.co.kr/artist/80204584?wl_ref=list_tr_10_chart\" title=\"디핵(D-Hack)\">디핵(D-Hack)</a>,\n",
              " <a class=\"more\" href=\"javascript:void(0);\" name=\"atag_martist_list\" onclick=\"bugs.layermenu.openMultiArtistSearchResultPopLayer(this, '디핵||디핵(D-Hack)||80204584||OK\\\\nPATEKO||PATEKO (파테코)||20110565||OK', ''); return false;\" title=\"아티스트 전체보기\" wise_log_str=\"?wl_ref=list_tr_10_chart\">\n",
              " 디핵(D-Hack)\n",
              " </a>,\n",
              " <a href=\"https://music.bugs.co.kr/artist/80210668?wl_ref=list_tr_10_chart\" onclick=\"\n",
              " \" title=\"볼빨간사춘기\">볼빨간사춘기</a>,\n",
              " <a href=\"https://music.bugs.co.kr/artist/80079394?wl_ref=list_tr_10_chart\" onclick=\"\n",
              " \" title=\"방탄소년단\">방탄소년단</a>,\n",
              " <a href=\"https://music.bugs.co.kr/artist/80057634?wl_ref=list_tr_10_chart\" onclick=\"\n",
              " \" title=\"어반자카파\">어반자카파</a>,\n",
              " <a href=\"https://music.bugs.co.kr/artist/80103713?wl_ref=list_tr_10_chart\" onclick=\"\n",
              " \" title=\"Ed Sheeran(에드 시런)\">Ed Sheeran(에드 시런)</a>,\n",
              " <a class=\"artistTitle\" href=\"https://music.bugs.co.kr/artist/20056615?wl_ref=list_tr_10_chart\" title=\"SINCE\">SINCE</a>,\n",
              " <a class=\"more\" href=\"javascript:void(0);\" name=\"atag_martist_list\" onclick=\"bugs.layermenu.openMultiArtistSearchResultPopLayer(this, 'SINCE||SINCE||20056615||OK\\\\nTabber||Tabber||80212388||OK', ''); return false;\" title=\"아티스트 전체보기\" wise_log_str=\"?wl_ref=list_tr_10_chart\">\n",
              " SINCE\n",
              " </a>,\n",
              " <a href=\"https://music.bugs.co.kr/artist/20087231?wl_ref=list_tr_10_chart\" onclick=\"\n",
              " \" title=\"조광일\">조광일</a>,\n",
              " <a href=\"https://music.bugs.co.kr/artist/80049126?wl_ref=list_tr_10_chart\" onclick=\"\n",
              " \" title=\"아이유(IU)\">아이유(IU)</a>,\n",
              " <a href=\"https://music.bugs.co.kr/artist/80225898?wl_ref=list_tr_10_chart\" onclick=\"\n",
              " \" title=\"케이시\">케이시</a>,\n",
              " <a href=\"https://music.bugs.co.kr/artist/80026437?wl_ref=list_tr_10_chart\" onclick=\"\n",
              " \" title=\"태연 (TAEYEON)\">태연 (TAEYEON)</a>,\n",
              " <a href=\"https://music.bugs.co.kr/artist/80103713?wl_ref=list_tr_10_chart\" onclick=\"\n",
              " \" title=\"Ed Sheeran(에드 시런)\">Ed Sheeran(에드 시런)</a>,\n",
              " <a href=\"https://music.bugs.co.kr/artist/80057730?wl_ref=list_tr_10_chart\" onclick=\"\n",
              " \" title=\"Justin Bieber(저스틴 비버)\">Justin Bieber(저스틴 비버)</a>,\n",
              " <a href=\"https://music.bugs.co.kr/artist/80010025?wl_ref=list_tr_10_chart\" onclick=\"\n",
              " \" title=\"윤하(Younha/ユンナ)\">윤하(Younha/ユンナ)</a>,\n",
              " <a class=\"artistTitle\" href=\"https://music.bugs.co.kr/artist/2946?wl_ref=list_tr_10_chart\" title=\"성시경\">성시경</a>,\n",
              " <a class=\"more\" href=\"javascript:void(0);\" name=\"atag_martist_list\" onclick=\"bugs.layermenu.openMultiArtistSearchResultPopLayer(this, '성시경||성시경||2946||OK\\\\n박효신||박효신||1876||OK\\\\n이석훈||이석훈||80043328||OK\\\\n서인국||서인국||80060642||OK\\\\nVIXX(빅스)||VIXX(빅스)||80127088||OK', ''); return false;\" title=\"아티스트 전체보기\" wise_log_str=\"?wl_ref=list_tr_10_chart\">\n",
              " 성시경\n",
              " </a>,\n",
              " <a href=\"https://music.bugs.co.kr/artist/80210668?wl_ref=list_tr_10_chart\" onclick=\"\n",
              " \" title=\"볼빨간사춘기\">볼빨간사춘기</a>,\n",
              " <a href=\"https://music.bugs.co.kr/artist/80042562?wl_ref=list_tr_10_chart\" onclick=\"\n",
              " \" title=\"Adele(아델)\">Adele(아델)</a>,\n",
              " <a href=\"https://music.bugs.co.kr/artist/80041466?wl_ref=list_tr_10_chart\" onclick=\"\n",
              " \" title=\"다비치\">다비치</a>,\n",
              " <a href=\"https://music.bugs.co.kr/artist/80049126?wl_ref=list_tr_10_chart\" onclick=\"\n",
              " \" title=\"아이유(IU)\">아이유(IU)</a>,\n",
              " <a href=\"https://music.bugs.co.kr/artist/80213200?wl_ref=list_tr_10_chart\" onclick=\"\n",
              " \" title=\"정승환\">정승환</a>,\n",
              " <a href=\"https://music.bugs.co.kr/artist/80178434?wl_ref=list_tr_10_chart\" onclick=\"\n",
              " \" title=\"헤이즈(Heize)\">헤이즈(Heize)</a>,\n",
              " <a href=\"https://music.bugs.co.kr/artist/80049126?wl_ref=list_tr_10_chart\" onclick=\"\n",
              " \" title=\"아이유(IU)\">아이유(IU)</a>,\n",
              " <a href=\"https://music.bugs.co.kr/artist/80259077?wl_ref=list_tr_10_chart\" onclick=\"\n",
              " \" title=\"전소미\">전소미</a>,\n",
              " <a href=\"https://music.bugs.co.kr/artist/10945272?wl_ref=list_tr_10_chart\" onclick=\"\n",
              " \" title=\"Sam Ryder\">Sam Ryder</a>,\n",
              " <a href=\"https://music.bugs.co.kr/artist/20134526?wl_ref=list_tr_10_chart\" onclick=\"\n",
              " \" title=\"MSG워너비(M.O.M)\">MSG워너비(M.O.M)</a>,\n",
              " <a href=\"https://music.bugs.co.kr/artist/80041466?wl_ref=list_tr_10_chart\" onclick=\"\n",
              " \" title=\"다비치\">다비치</a>,\n",
              " <a href=\"https://music.bugs.co.kr/artist/80046463?wl_ref=list_tr_10_chart\" onclick=\"\n",
              " \" title=\"2am\">2am</a>,\n",
              " <a href=\"https://music.bugs.co.kr/artist/80223033?wl_ref=list_tr_10_chart\" onclick=\"\n",
              " \" title=\"멜로망스(MeloMance)\">멜로망스(MeloMance)</a>,\n",
              " <a href=\"https://music.bugs.co.kr/artist/80141499?wl_ref=list_tr_10_chart\" onclick=\"\n",
              " \" title=\"AKMU(악뮤)\">AKMU(악뮤)</a>,\n",
              " <a href=\"https://music.bugs.co.kr/artist/80199440?wl_ref=list_tr_10_chart\" onclick=\"\n",
              " \" title=\"Red Velvet (레드벨벳)\">Red Velvet (레드벨벳)</a>,\n",
              " <a href=\"https://music.bugs.co.kr/artist/80057634?wl_ref=list_tr_10_chart\" onclick=\"\n",
              " \" title=\"어반자카파\">어반자카파</a>,\n",
              " <a href=\"https://music.bugs.co.kr/artist/20056615?wl_ref=list_tr_10_chart\" onclick=\"\n",
              " \" title=\"SINCE\">SINCE</a>,\n",
              " <a href=\"https://music.bugs.co.kr/artist/65269?wl_ref=list_tr_10_chart\" onclick=\"\n",
              " \" title=\"에픽하이 (EPIK HIGH)\">에픽하이 (EPIK HIGH)</a>,\n",
              " <a href=\"https://music.bugs.co.kr/artist/80347326?wl_ref=list_tr_10_chart\" onclick=\"\n",
              " \" title=\"aespa\">aespa</a>,\n",
              " <a href=\"https://music.bugs.co.kr/artist/80014003?wl_ref=list_tr_10_chart\" onclick=\"\n",
              " \" title=\"제시(Jessi)\">제시(Jessi)</a>,\n",
              " <a href=\"https://music.bugs.co.kr/artist/80110772?wl_ref=list_tr_10_chart\" onclick=\"\n",
              " \" title=\"양다일\">양다일</a>,\n",
              " <a href=\"https://music.bugs.co.kr/artist/80057730?wl_ref=list_tr_10_chart\" onclick=\"\n",
              " \" title=\"Justin Bieber(저스틴 비버)\">Justin Bieber(저스틴 비버)</a>,\n",
              " <a href=\"https://music.bugs.co.kr/artist/80178434?wl_ref=list_tr_10_chart\" onclick=\"\n",
              " \" title=\"헤이즈(Heize)\">헤이즈(Heize)</a>,\n",
              " <a href=\"https://music.bugs.co.kr/artist/80259077?wl_ref=list_tr_10_chart\" onclick=\"\n",
              " \" title=\"전소미\">전소미</a>,\n",
              " <a href=\"https://music.bugs.co.kr/artist/80337001?wl_ref=list_tr_10_chart\" onclick=\"\n",
              " \" title=\"BE'O (비오)\">BE'O (비오)</a>,\n",
              " <a href=\"https://music.bugs.co.kr/artist/1168?wl_ref=list_tr_10_chart\" onclick=\"\n",
              " \" title=\"보아 (BoA)\">보아 (BoA)</a>,\n",
              " <a href=\"https://music.bugs.co.kr/artist/80018919?wl_ref=list_tr_10_chart\" onclick=\"\n",
              " \" title=\"쿤타(Koonta)\">쿤타(Koonta)</a>,\n",
              " <a href=\"https://music.bugs.co.kr/artist/80178689?wl_ref=list_tr_10_chart\" onclick=\"\n",
              " \" title=\"폴킴(Paul Kim)\">폴킴(Paul Kim)</a>,\n",
              " <a href=\"https://music.bugs.co.kr/artist/20073470?wl_ref=list_tr_10_chart\" onclick=\"\n",
              " \" title=\"sokodomo\">sokodomo</a>,\n",
              " <a href=\"https://music.bugs.co.kr/artist/80226913?wl_ref=list_tr_10_chart\" onclick=\"\n",
              " \" title=\"오마이걸(OH MY GIRL)\">오마이걸(OH MY GIRL)</a>,\n",
              " <a href=\"https://music.bugs.co.kr/artist/80049126?wl_ref=list_tr_10_chart\" onclick=\"\n",
              " \" title=\"아이유(IU)\">아이유(IU)</a>,\n",
              " <a href=\"https://music.bugs.co.kr/artist/80013501?wl_ref=list_tr_10_chart\" onclick=\"\n",
              " \" title=\"먼데이 키즈(Monday Kiz)\">먼데이 키즈(Monday Kiz)</a>,\n",
              " <a href=\"https://music.bugs.co.kr/artist/80178689?wl_ref=list_tr_10_chart\" onclick=\"\n",
              " \" title=\"폴킴(Paul Kim)\">폴킴(Paul Kim)</a>,\n",
              " <a href=\"https://music.bugs.co.kr/artist/80178689?wl_ref=list_tr_10_chart\" onclick=\"\n",
              " \" title=\"폴킴(Paul Kim)\">폴킴(Paul Kim)</a>,\n",
              " <a href=\"https://music.bugs.co.kr/artist/80259109?wl_ref=list_tr_10_chart\" onclick=\"\n",
              " \" title=\"NCT U\">NCT U</a>,\n",
              " <a href=\"https://music.bugs.co.kr/artist/80347276?wl_ref=list_tr_10_chart\" onclick=\"\n",
              " \" title=\"STAYC(스테이씨)\">STAYC(스테이씨)</a>,\n",
              " <a href=\"https://music.bugs.co.kr/artist/80013575?wl_ref=list_tr_10_chart\" onclick=\"\n",
              " \" title=\"케이윌\">케이윌</a>,\n",
              " <a href=\"https://music.bugs.co.kr/artist/80327433?wl_ref=list_tr_10_chart\" onclick=\"\n",
              " \" title=\"ITZY (있지)\">ITZY (있지)</a>,\n",
              " <a class=\"artistTitle\" href=\"https://music.bugs.co.kr/artist/80085859?wl_ref=list_tr_10_chart\" title=\"Zion.T\">Zion.T</a>,\n",
              " <a class=\"more\" href=\"javascript:void(0);\" name=\"atag_martist_list\" onclick=\"bugs.layermenu.openMultiArtistSearchResultPopLayer(this, 'Zion.T||Zion.T||80085859||OK\\\\n던밀스||던밀스(Don Mills)||80153548||OK\\\\nNorthfacegawd||Northfacegawd||20089731||OK\\\\nsokodomo||sokodomo||20073470||OK\\\\nKhakii||Khakii (카키)||20093727||OK\\\\n에이체스||에이체스 (A-Chess)||20005588||OK', ''); return false;\" title=\"아티스트 전체보기\" wise_log_str=\"?wl_ref=list_tr_10_chart\">\n",
              " Zion.T\n",
              " </a>,\n",
              " <a href=\"https://music.bugs.co.kr/artist/80026960?wl_ref=list_tr_10_chart\" onclick=\"\n",
              " \" title=\"베이식(Basick)\">베이식(Basick)</a>,\n",
              " <a class=\"artistTitle\" href=\"https://music.bugs.co.kr/artist/80077227?wl_ref=list_tr_10_chart\" title=\"신용재 (2F)\">신용재 (2F)</a>,\n",
              " <a class=\"more\" href=\"javascript:void(0);\" name=\"atag_martist_list\" onclick=\"bugs.layermenu.openMultiArtistSearchResultPopLayer(this, '신용재||신용재 (2F)||80077227||OK\\\\n벤||벤||80093826||OK', ''); return false;\" title=\"아티스트 전체보기\" wise_log_str=\"?wl_ref=list_tr_10_chart\">\n",
              " 신용재 (2F)\n",
              " </a>,\n",
              " <a href=\"https://music.bugs.co.kr/artist/80223033?wl_ref=list_tr_10_chart\" onclick=\"\n",
              " \" title=\"멜로망스(MeloMance)\">멜로망스(MeloMance)</a>,\n",
              " <a href=\"https://music.bugs.co.kr/artist/80010025?wl_ref=list_tr_10_chart\" onclick=\"\n",
              " \" title=\"윤하(Younha/ユンナ)\">윤하(Younha/ユンナ)</a>]"
            ]
          },
          "metadata": {},
          "execution_count": 46
        }
      ]
    },
    {
      "cell_type": "code",
      "source": [
        "soup_titles = soup_bugs.select('p.title a')\n",
        "soup_artists  = soup_bugs.select('p.artist a')"
      ],
      "metadata": {
        "id": "fObYXeNUAUp6"
      },
      "execution_count": 47,
      "outputs": []
    },
    {
      "cell_type": "code",
      "source": [
        "soup_artists"
      ],
      "metadata": {
        "colab": {
          "base_uri": "https://localhost:8080/"
        },
        "id": "01CsbdKXDR9Q",
        "outputId": "66ba3da9-0e8a-4852-e140-8093e3720ded"
      },
      "execution_count": 48,
      "outputs": [
        {
          "output_type": "execute_result",
          "data": {
            "text/plain": [
              "[<a href=\"https://music.bugs.co.kr/artist/20148657?wl_ref=list_tr_10_chart\" onclick=\"\n",
              " \" title=\"IVE (아이브)\">IVE (아이브)</a>,\n",
              " <a href=\"https://music.bugs.co.kr/artist/80041466?wl_ref=list_tr_10_chart\" onclick=\"\n",
              " \" title=\"다비치\">다비치</a>,\n",
              " <a href=\"https://music.bugs.co.kr/artist/20056684?wl_ref=list_tr_10_chart\" onclick=\"\n",
              " \" title=\"이무진\">이무진</a>,\n",
              " <a href=\"https://music.bugs.co.kr/artist/20073470?wl_ref=list_tr_10_chart\" onclick=\"\n",
              " \" title=\"sokodomo\">sokodomo</a>,\n",
              " <a href=\"https://music.bugs.co.kr/artist/80337001?wl_ref=list_tr_10_chart\" onclick=\"\n",
              " \" title=\"BE'O (비오)\">BE'O (비오)</a>,\n",
              " <a href=\"https://music.bugs.co.kr/artist/80026960?wl_ref=list_tr_10_chart\" onclick=\"\n",
              " \" title=\"베이식(Basick)\">베이식(Basick)</a>,\n",
              " <a href=\"https://music.bugs.co.kr/artist/20096572?wl_ref=list_tr_10_chart\" onclick=\"\n",
              " \" title=\"Mudd the student\">Mudd the student</a>,\n",
              " <a href=\"https://music.bugs.co.kr/artist/80049126?wl_ref=list_tr_10_chart\" onclick=\"\n",
              " \" title=\"아이유(IU)\">아이유(IU)</a>,\n",
              " <a href=\"https://music.bugs.co.kr/artist/80337001?wl_ref=list_tr_10_chart\" onclick=\"\n",
              " \" title=\"BE'O (비오)\">BE'O (비오)</a>,\n",
              " <a href=\"https://music.bugs.co.kr/artist/80337001?wl_ref=list_tr_10_chart\" onclick=\"\n",
              " \" title=\"BE'O (비오)\">BE'O (비오)</a>,\n",
              " <a class=\"artistTitle\" href=\"https://music.bugs.co.kr/artist/80079593?wl_ref=list_tr_10_chart\" title=\"존 박\">존 박</a>,\n",
              " <a class=\"more\" href=\"javascript:void(0);\" name=\"atag_martist_list\" onclick=\"bugs.layermenu.openMultiArtistSearchResultPopLayer(this, '존 박||존 박||80079593||OK\\\\n전미도||전미도||80135120||OK', ''); return false;\" title=\"아티스트 전체보기\" wise_log_str=\"?wl_ref=list_tr_10_chart\">\n",
              " 존 박\n",
              " </a>,\n",
              " <a href=\"https://music.bugs.co.kr/artist/80185895?wl_ref=list_tr_10_chart\" onclick=\"\n",
              " \" title=\"MINO(송민호)\">MINO(송민호)</a>,\n",
              " <a class=\"artistTitle\" href=\"https://music.bugs.co.kr/artist/6840?wl_ref=list_tr_10_chart\" title=\"유희열\">유희열</a>,\n",
              " <a class=\"more\" href=\"javascript:void(0);\" name=\"atag_martist_list\" onclick=\"bugs.layermenu.openMultiArtistSearchResultPopLayer(this, '유희열||유희열||6840||OK\\\\n유재석||유재석||80026852||OK\\\\n정재형||정재형||1529||OK\\\\n루시드폴||루시드폴||419||OK\\\\n페퍼톤스||페퍼톤스(Peppertones)||80000082||OK\\\\n박새별||박새별||80049502||OK\\\\n샘김||샘김(Sam Kim)||80182769||OK\\\\n이진아||이진아||80169322||OK\\\\n권진아||권진아||80182768||OK\\\\n정승환||정승환||80213200||OK\\\\n윤석철||윤석철||80067018||OK\\\\n적재||적재||8008787||OK\\\\n이미주||이미주||80209600||OK\\\\n서동환||서동환||80333255||OK', ''); return false;\" title=\"아티스트 전체보기\" wise_log_str=\"?wl_ref=list_tr_10_chart\">\n",
              " 유희열\n",
              " </a>,\n",
              " <a href=\"https://music.bugs.co.kr/artist/80259080?wl_ref=list_tr_10_chart\" onclick=\"\n",
              " \" title=\"청하\">청하</a>,\n",
              " <a href=\"https://music.bugs.co.kr/artist/80347326?wl_ref=list_tr_10_chart\" onclick=\"\n",
              " \" title=\"aespa\">aespa</a>,\n",
              " <a href=\"https://music.bugs.co.kr/artist/80117591?wl_ref=list_tr_10_chart\" onclick=\"\n",
              " \" title=\"Ariana Grande(아리아나 그란데)\">Ariana Grande(아리아나 그란데)</a>,\n",
              " <a href=\"https://music.bugs.co.kr/artist/80249916?wl_ref=list_tr_10_chart\" onclick=\"\n",
              " \" title=\"TWICE (트와이스)\">TWICE (트와이스)</a>,\n",
              " <a class=\"artistTitle\" href=\"https://music.bugs.co.kr/artist/80185895?wl_ref=list_tr_10_chart\" title=\"MINO(송민호)\">MINO(송민호)</a>,\n",
              " <a class=\"more\" href=\"javascript:void(0);\" name=\"atag_martist_list\" onclick=\"bugs.layermenu.openMultiArtistSearchResultPopLayer(this, 'MINO(송민호)||MINO(송민호)||80185895||OK\\\\nAnandelight||아넌딜라이트(Anandelight)||20070271||OK\\\\nunofficialboyy||unofficialboyy||20036043||OK\\\\nBE\\'O (비오)||BE\\'O (비오)||80337001||OK\\\\n지구인||지구인||80126124||OK\\\\nMudd the student||Mudd the student||20096572||OK', ''); return false;\" title=\"아티스트 전체보기\" wise_log_str=\"?wl_ref=list_tr_10_chart\">\n",
              " MINO(송민호)\n",
              " </a>,\n",
              " <a href=\"https://music.bugs.co.kr/artist/80265501?wl_ref=list_tr_10_chart\" onclick=\"\n",
              " \" title=\"임영웅\">임영웅</a>,\n",
              " <a href=\"https://music.bugs.co.kr/artist/80067149?wl_ref=list_tr_10_chart\" onclick=\"\n",
              " \" title=\"10CM\">10CM</a>,\n",
              " <a href=\"https://music.bugs.co.kr/artist/80177861?wl_ref=list_tr_10_chart\" onclick=\"\n",
              " \" title=\"화사(Hwa Sa)\">화사(Hwa Sa)</a>,\n",
              " <a href=\"https://music.bugs.co.kr/artist/20056684?wl_ref=list_tr_10_chart\" onclick=\"\n",
              " \" title=\"이무진\">이무진</a>,\n",
              " <a class=\"artistTitle\" href=\"https://music.bugs.co.kr/artist/80333705?wl_ref=list_tr_10_chart\" title=\"The Kid LAROI\">The Kid LAROI</a>,\n",
              " <a class=\"more\" href=\"javascript:void(0);\" name=\"atag_martist_list\" onclick=\"bugs.layermenu.openMultiArtistSearchResultPopLayer(this, 'The Kid LAROI||The Kid LAROI||80333705||OK\\\\nJustin Bieber||Justin Bieber(저스틴 비버)||80057730||OK', ''); return false;\" title=\"아티스트 전체보기\" wise_log_str=\"?wl_ref=list_tr_10_chart\">\n",
              " The Kid LAROI\n",
              " </a>,\n",
              " <a href=\"https://music.bugs.co.kr/artist/80347326?wl_ref=list_tr_10_chart\" onclick=\"\n",
              " \" title=\"aespa\">aespa</a>,\n",
              " <a href=\"https://music.bugs.co.kr/artist/1079?wl_ref=list_tr_10_chart\" onclick=\"\n",
              " \" title=\"Mariah Carey(머라이어 캐리)\">Mariah Carey(머라이어 캐리)</a>,\n",
              " <a class=\"artistTitle\" href=\"https://music.bugs.co.kr/artist/20105641?wl_ref=list_tr_10_chart\" title=\"경서예지\">경서예지</a>,\n",
              " <a class=\"more\" href=\"javascript:void(0);\" name=\"atag_martist_list\" onclick=\"bugs.layermenu.openMultiArtistSearchResultPopLayer(this, '경서예지||경서예지||20105641||OK\\\\n전건호||전건호||20087491||OK', ''); return false;\" title=\"아티스트 전체보기\" wise_log_str=\"?wl_ref=list_tr_10_chart\">\n",
              " 경서예지\n",
              " </a>,\n",
              " <a href=\"https://music.bugs.co.kr/artist/80010025?wl_ref=list_tr_10_chart\" onclick=\"\n",
              " \" title=\"윤하(Younha/ユンナ)\">윤하(Younha/ユンナ)</a>,\n",
              " <a href=\"https://music.bugs.co.kr/artist/80067149?wl_ref=list_tr_10_chart\" onclick=\"\n",
              " \" title=\"10CM\">10CM</a>,\n",
              " <a href=\"https://music.bugs.co.kr/artist/80337001?wl_ref=list_tr_10_chart\" onclick=\"\n",
              " \" title=\"BE'O (비오)\">BE'O (비오)</a>,\n",
              " <a class=\"artistTitle\" href=\"https://music.bugs.co.kr/artist/2916?wl_ref=list_tr_10_chart\" title=\"개코\">개코</a>,\n",
              " <a class=\"more\" href=\"javascript:void(0);\" name=\"atag_martist_list\" onclick=\"bugs.layermenu.openMultiArtistSearchResultPopLayer(this, '개코||개코||2916||OK\\\\nOurealgoat||Ourealgoat (아우릴고트)||20076067||OK\\\\nSINCE||SINCE||20056615||OK\\\\n안병웅||안병웅||20086251||OK\\\\nTabber||Tabber||80212388||OK\\\\n조광일||조광일||20087231||OK', ''); return false;\" title=\"아티스트 전체보기\" wise_log_str=\"?wl_ref=list_tr_10_chart\">\n",
              " 개코\n",
              " </a>,\n",
              " <a class=\"artistTitle\" href=\"https://music.bugs.co.kr/artist/583?wl_ref=list_tr_10_chart\" title=\"Coldplay(콜드플레이)\">Coldplay(콜드플레이)</a>,\n",
              " <a class=\"more\" href=\"javascript:void(0);\" name=\"atag_martist_list\" onclick=\"bugs.layermenu.openMultiArtistSearchResultPopLayer(this, 'Coldplay||Coldplay(콜드플레이)||583||OK\\\\n방탄소년단||방탄소년단||80079394||OK', ''); return false;\" title=\"아티스트 전체보기\" wise_log_str=\"?wl_ref=list_tr_10_chart\">\n",
              " Coldplay(콜드플레이)\n",
              " </a>,\n",
              " <a href=\"https://music.bugs.co.kr/artist/80141499?wl_ref=list_tr_10_chart\" onclick=\"\n",
              " \" title=\"AKMU(악뮤)\">AKMU(악뮤)</a>,\n",
              " <a href=\"https://music.bugs.co.kr/artist/80337001?wl_ref=list_tr_10_chart\" onclick=\"\n",
              " \" title=\"BE'O (비오)\">BE'O (비오)</a>,\n",
              " <a href=\"https://music.bugs.co.kr/artist/20079471?wl_ref=list_tr_10_chart\" onclick=\"\n",
              " \" title=\"이영지\">이영지</a>,\n",
              " <a href=\"https://music.bugs.co.kr/artist/80223033?wl_ref=list_tr_10_chart\" onclick=\"\n",
              " \" title=\"멜로망스(MeloMance)\">멜로망스(MeloMance)</a>,\n",
              " <a href=\"https://music.bugs.co.kr/artist/80079394?wl_ref=list_tr_10_chart\" onclick=\"\n",
              " \" title=\"방탄소년단\">방탄소년단</a>,\n",
              " <a href=\"https://music.bugs.co.kr/artist/80079394?wl_ref=list_tr_10_chart\" onclick=\"\n",
              " \" title=\"방탄소년단\">방탄소년단</a>,\n",
              " <a href=\"https://music.bugs.co.kr/artist/20087231?wl_ref=list_tr_10_chart\" onclick=\"\n",
              " \" title=\"조광일\">조광일</a>,\n",
              " <a href=\"https://music.bugs.co.kr/artist/80343574?wl_ref=list_tr_10_chart\" onclick=\"\n",
              " \" title=\"주시크 (Joosiq)\">주시크 (Joosiq)</a>,\n",
              " <a class=\"artistTitle\" href=\"https://music.bugs.co.kr/artist/80044241?wl_ref=list_tr_10_chart\" title=\"온유 (ONEW)\">온유 (ONEW)</a>,\n",
              " <a class=\"more\" href=\"javascript:void(0);\" name=\"atag_martist_list\" onclick=\"bugs.layermenu.openMultiArtistSearchResultPopLayer(this, '온유(ONEW)||온유 (ONEW)||80044241||OK\\\\n펀치||펀치 (Punch)||8059652||OK', ''); return false;\" title=\"아티스트 전체보기\" wise_log_str=\"?wl_ref=list_tr_10_chart\">\n",
              " 온유 (ONEW)\n",
              " </a>,\n",
              " <a href=\"https://music.bugs.co.kr/artist/80010088?wl_ref=list_tr_10_chart\" onclick=\"\n",
              " \" title=\"Sia(시아)\">Sia(시아)</a>,\n",
              " <a href=\"https://music.bugs.co.kr/artist/20056615?wl_ref=list_tr_10_chart\" onclick=\"\n",
              " \" title=\"SINCE\">SINCE</a>,\n",
              " <a href=\"https://music.bugs.co.kr/artist/80009895?wl_ref=list_tr_10_chart\" onclick=\"\n",
              " \" title=\"David Guetta(데이빗 게타)\">David Guetta(데이빗 게타)</a>,\n",
              " <a class=\"artistTitle\" href=\"https://music.bugs.co.kr/artist/80204584?wl_ref=list_tr_10_chart\" title=\"디핵(D-Hack)\">디핵(D-Hack)</a>,\n",
              " <a class=\"more\" href=\"javascript:void(0);\" name=\"atag_martist_list\" onclick=\"bugs.layermenu.openMultiArtistSearchResultPopLayer(this, '디핵||디핵(D-Hack)||80204584||OK\\\\nPATEKO||PATEKO (파테코)||20110565||OK', ''); return false;\" title=\"아티스트 전체보기\" wise_log_str=\"?wl_ref=list_tr_10_chart\">\n",
              " 디핵(D-Hack)\n",
              " </a>,\n",
              " <a href=\"https://music.bugs.co.kr/artist/80210668?wl_ref=list_tr_10_chart\" onclick=\"\n",
              " \" title=\"볼빨간사춘기\">볼빨간사춘기</a>,\n",
              " <a href=\"https://music.bugs.co.kr/artist/80079394?wl_ref=list_tr_10_chart\" onclick=\"\n",
              " \" title=\"방탄소년단\">방탄소년단</a>,\n",
              " <a href=\"https://music.bugs.co.kr/artist/80057634?wl_ref=list_tr_10_chart\" onclick=\"\n",
              " \" title=\"어반자카파\">어반자카파</a>,\n",
              " <a href=\"https://music.bugs.co.kr/artist/80103713?wl_ref=list_tr_10_chart\" onclick=\"\n",
              " \" title=\"Ed Sheeran(에드 시런)\">Ed Sheeran(에드 시런)</a>,\n",
              " <a class=\"artistTitle\" href=\"https://music.bugs.co.kr/artist/20056615?wl_ref=list_tr_10_chart\" title=\"SINCE\">SINCE</a>,\n",
              " <a class=\"more\" href=\"javascript:void(0);\" name=\"atag_martist_list\" onclick=\"bugs.layermenu.openMultiArtistSearchResultPopLayer(this, 'SINCE||SINCE||20056615||OK\\\\nTabber||Tabber||80212388||OK', ''); return false;\" title=\"아티스트 전체보기\" wise_log_str=\"?wl_ref=list_tr_10_chart\">\n",
              " SINCE\n",
              " </a>,\n",
              " <a href=\"https://music.bugs.co.kr/artist/20087231?wl_ref=list_tr_10_chart\" onclick=\"\n",
              " \" title=\"조광일\">조광일</a>,\n",
              " <a href=\"https://music.bugs.co.kr/artist/80049126?wl_ref=list_tr_10_chart\" onclick=\"\n",
              " \" title=\"아이유(IU)\">아이유(IU)</a>,\n",
              " <a href=\"https://music.bugs.co.kr/artist/80225898?wl_ref=list_tr_10_chart\" onclick=\"\n",
              " \" title=\"케이시\">케이시</a>,\n",
              " <a href=\"https://music.bugs.co.kr/artist/80026437?wl_ref=list_tr_10_chart\" onclick=\"\n",
              " \" title=\"태연 (TAEYEON)\">태연 (TAEYEON)</a>,\n",
              " <a href=\"https://music.bugs.co.kr/artist/80103713?wl_ref=list_tr_10_chart\" onclick=\"\n",
              " \" title=\"Ed Sheeran(에드 시런)\">Ed Sheeran(에드 시런)</a>,\n",
              " <a href=\"https://music.bugs.co.kr/artist/80057730?wl_ref=list_tr_10_chart\" onclick=\"\n",
              " \" title=\"Justin Bieber(저스틴 비버)\">Justin Bieber(저스틴 비버)</a>,\n",
              " <a href=\"https://music.bugs.co.kr/artist/80010025?wl_ref=list_tr_10_chart\" onclick=\"\n",
              " \" title=\"윤하(Younha/ユンナ)\">윤하(Younha/ユンナ)</a>,\n",
              " <a class=\"artistTitle\" href=\"https://music.bugs.co.kr/artist/2946?wl_ref=list_tr_10_chart\" title=\"성시경\">성시경</a>,\n",
              " <a class=\"more\" href=\"javascript:void(0);\" name=\"atag_martist_list\" onclick=\"bugs.layermenu.openMultiArtistSearchResultPopLayer(this, '성시경||성시경||2946||OK\\\\n박효신||박효신||1876||OK\\\\n이석훈||이석훈||80043328||OK\\\\n서인국||서인국||80060642||OK\\\\nVIXX(빅스)||VIXX(빅스)||80127088||OK', ''); return false;\" title=\"아티스트 전체보기\" wise_log_str=\"?wl_ref=list_tr_10_chart\">\n",
              " 성시경\n",
              " </a>,\n",
              " <a href=\"https://music.bugs.co.kr/artist/80210668?wl_ref=list_tr_10_chart\" onclick=\"\n",
              " \" title=\"볼빨간사춘기\">볼빨간사춘기</a>,\n",
              " <a href=\"https://music.bugs.co.kr/artist/80042562?wl_ref=list_tr_10_chart\" onclick=\"\n",
              " \" title=\"Adele(아델)\">Adele(아델)</a>,\n",
              " <a href=\"https://music.bugs.co.kr/artist/80041466?wl_ref=list_tr_10_chart\" onclick=\"\n",
              " \" title=\"다비치\">다비치</a>,\n",
              " <a href=\"https://music.bugs.co.kr/artist/80049126?wl_ref=list_tr_10_chart\" onclick=\"\n",
              " \" title=\"아이유(IU)\">아이유(IU)</a>,\n",
              " <a href=\"https://music.bugs.co.kr/artist/80213200?wl_ref=list_tr_10_chart\" onclick=\"\n",
              " \" title=\"정승환\">정승환</a>,\n",
              " <a href=\"https://music.bugs.co.kr/artist/80178434?wl_ref=list_tr_10_chart\" onclick=\"\n",
              " \" title=\"헤이즈(Heize)\">헤이즈(Heize)</a>,\n",
              " <a href=\"https://music.bugs.co.kr/artist/80049126?wl_ref=list_tr_10_chart\" onclick=\"\n",
              " \" title=\"아이유(IU)\">아이유(IU)</a>,\n",
              " <a href=\"https://music.bugs.co.kr/artist/80259077?wl_ref=list_tr_10_chart\" onclick=\"\n",
              " \" title=\"전소미\">전소미</a>,\n",
              " <a href=\"https://music.bugs.co.kr/artist/10945272?wl_ref=list_tr_10_chart\" onclick=\"\n",
              " \" title=\"Sam Ryder\">Sam Ryder</a>,\n",
              " <a href=\"https://music.bugs.co.kr/artist/20134526?wl_ref=list_tr_10_chart\" onclick=\"\n",
              " \" title=\"MSG워너비(M.O.M)\">MSG워너비(M.O.M)</a>,\n",
              " <a href=\"https://music.bugs.co.kr/artist/80041466?wl_ref=list_tr_10_chart\" onclick=\"\n",
              " \" title=\"다비치\">다비치</a>,\n",
              " <a href=\"https://music.bugs.co.kr/artist/80046463?wl_ref=list_tr_10_chart\" onclick=\"\n",
              " \" title=\"2am\">2am</a>,\n",
              " <a href=\"https://music.bugs.co.kr/artist/80223033?wl_ref=list_tr_10_chart\" onclick=\"\n",
              " \" title=\"멜로망스(MeloMance)\">멜로망스(MeloMance)</a>,\n",
              " <a href=\"https://music.bugs.co.kr/artist/80141499?wl_ref=list_tr_10_chart\" onclick=\"\n",
              " \" title=\"AKMU(악뮤)\">AKMU(악뮤)</a>,\n",
              " <a href=\"https://music.bugs.co.kr/artist/80199440?wl_ref=list_tr_10_chart\" onclick=\"\n",
              " \" title=\"Red Velvet (레드벨벳)\">Red Velvet (레드벨벳)</a>,\n",
              " <a href=\"https://music.bugs.co.kr/artist/80057634?wl_ref=list_tr_10_chart\" onclick=\"\n",
              " \" title=\"어반자카파\">어반자카파</a>,\n",
              " <a href=\"https://music.bugs.co.kr/artist/20056615?wl_ref=list_tr_10_chart\" onclick=\"\n",
              " \" title=\"SINCE\">SINCE</a>,\n",
              " <a href=\"https://music.bugs.co.kr/artist/65269?wl_ref=list_tr_10_chart\" onclick=\"\n",
              " \" title=\"에픽하이 (EPIK HIGH)\">에픽하이 (EPIK HIGH)</a>,\n",
              " <a href=\"https://music.bugs.co.kr/artist/80347326?wl_ref=list_tr_10_chart\" onclick=\"\n",
              " \" title=\"aespa\">aespa</a>,\n",
              " <a href=\"https://music.bugs.co.kr/artist/80014003?wl_ref=list_tr_10_chart\" onclick=\"\n",
              " \" title=\"제시(Jessi)\">제시(Jessi)</a>,\n",
              " <a href=\"https://music.bugs.co.kr/artist/80110772?wl_ref=list_tr_10_chart\" onclick=\"\n",
              " \" title=\"양다일\">양다일</a>,\n",
              " <a href=\"https://music.bugs.co.kr/artist/80057730?wl_ref=list_tr_10_chart\" onclick=\"\n",
              " \" title=\"Justin Bieber(저스틴 비버)\">Justin Bieber(저스틴 비버)</a>,\n",
              " <a href=\"https://music.bugs.co.kr/artist/80178434?wl_ref=list_tr_10_chart\" onclick=\"\n",
              " \" title=\"헤이즈(Heize)\">헤이즈(Heize)</a>,\n",
              " <a href=\"https://music.bugs.co.kr/artist/80259077?wl_ref=list_tr_10_chart\" onclick=\"\n",
              " \" title=\"전소미\">전소미</a>,\n",
              " <a href=\"https://music.bugs.co.kr/artist/80337001?wl_ref=list_tr_10_chart\" onclick=\"\n",
              " \" title=\"BE'O (비오)\">BE'O (비오)</a>,\n",
              " <a href=\"https://music.bugs.co.kr/artist/1168?wl_ref=list_tr_10_chart\" onclick=\"\n",
              " \" title=\"보아 (BoA)\">보아 (BoA)</a>,\n",
              " <a href=\"https://music.bugs.co.kr/artist/80018919?wl_ref=list_tr_10_chart\" onclick=\"\n",
              " \" title=\"쿤타(Koonta)\">쿤타(Koonta)</a>,\n",
              " <a href=\"https://music.bugs.co.kr/artist/80178689?wl_ref=list_tr_10_chart\" onclick=\"\n",
              " \" title=\"폴킴(Paul Kim)\">폴킴(Paul Kim)</a>,\n",
              " <a href=\"https://music.bugs.co.kr/artist/20073470?wl_ref=list_tr_10_chart\" onclick=\"\n",
              " \" title=\"sokodomo\">sokodomo</a>,\n",
              " <a href=\"https://music.bugs.co.kr/artist/80226913?wl_ref=list_tr_10_chart\" onclick=\"\n",
              " \" title=\"오마이걸(OH MY GIRL)\">오마이걸(OH MY GIRL)</a>,\n",
              " <a href=\"https://music.bugs.co.kr/artist/80049126?wl_ref=list_tr_10_chart\" onclick=\"\n",
              " \" title=\"아이유(IU)\">아이유(IU)</a>,\n",
              " <a href=\"https://music.bugs.co.kr/artist/80013501?wl_ref=list_tr_10_chart\" onclick=\"\n",
              " \" title=\"먼데이 키즈(Monday Kiz)\">먼데이 키즈(Monday Kiz)</a>,\n",
              " <a href=\"https://music.bugs.co.kr/artist/80178689?wl_ref=list_tr_10_chart\" onclick=\"\n",
              " \" title=\"폴킴(Paul Kim)\">폴킴(Paul Kim)</a>,\n",
              " <a href=\"https://music.bugs.co.kr/artist/80178689?wl_ref=list_tr_10_chart\" onclick=\"\n",
              " \" title=\"폴킴(Paul Kim)\">폴킴(Paul Kim)</a>,\n",
              " <a href=\"https://music.bugs.co.kr/artist/80259109?wl_ref=list_tr_10_chart\" onclick=\"\n",
              " \" title=\"NCT U\">NCT U</a>,\n",
              " <a href=\"https://music.bugs.co.kr/artist/80347276?wl_ref=list_tr_10_chart\" onclick=\"\n",
              " \" title=\"STAYC(스테이씨)\">STAYC(스테이씨)</a>,\n",
              " <a href=\"https://music.bugs.co.kr/artist/80013575?wl_ref=list_tr_10_chart\" onclick=\"\n",
              " \" title=\"케이윌\">케이윌</a>,\n",
              " <a href=\"https://music.bugs.co.kr/artist/80327433?wl_ref=list_tr_10_chart\" onclick=\"\n",
              " \" title=\"ITZY (있지)\">ITZY (있지)</a>,\n",
              " <a class=\"artistTitle\" href=\"https://music.bugs.co.kr/artist/80085859?wl_ref=list_tr_10_chart\" title=\"Zion.T\">Zion.T</a>,\n",
              " <a class=\"more\" href=\"javascript:void(0);\" name=\"atag_martist_list\" onclick=\"bugs.layermenu.openMultiArtistSearchResultPopLayer(this, 'Zion.T||Zion.T||80085859||OK\\\\n던밀스||던밀스(Don Mills)||80153548||OK\\\\nNorthfacegawd||Northfacegawd||20089731||OK\\\\nsokodomo||sokodomo||20073470||OK\\\\nKhakii||Khakii (카키)||20093727||OK\\\\n에이체스||에이체스 (A-Chess)||20005588||OK', ''); return false;\" title=\"아티스트 전체보기\" wise_log_str=\"?wl_ref=list_tr_10_chart\">\n",
              " Zion.T\n",
              " </a>,\n",
              " <a href=\"https://music.bugs.co.kr/artist/80026960?wl_ref=list_tr_10_chart\" onclick=\"\n",
              " \" title=\"베이식(Basick)\">베이식(Basick)</a>,\n",
              " <a class=\"artistTitle\" href=\"https://music.bugs.co.kr/artist/80077227?wl_ref=list_tr_10_chart\" title=\"신용재 (2F)\">신용재 (2F)</a>,\n",
              " <a class=\"more\" href=\"javascript:void(0);\" name=\"atag_martist_list\" onclick=\"bugs.layermenu.openMultiArtistSearchResultPopLayer(this, '신용재||신용재 (2F)||80077227||OK\\\\n벤||벤||80093826||OK', ''); return false;\" title=\"아티스트 전체보기\" wise_log_str=\"?wl_ref=list_tr_10_chart\">\n",
              " 신용재 (2F)\n",
              " </a>,\n",
              " <a href=\"https://music.bugs.co.kr/artist/80223033?wl_ref=list_tr_10_chart\" onclick=\"\n",
              " \" title=\"멜로망스(MeloMance)\">멜로망스(MeloMance)</a>,\n",
              " <a href=\"https://music.bugs.co.kr/artist/80010025?wl_ref=list_tr_10_chart\" onclick=\"\n",
              " \" title=\"윤하(Younha/ユンナ)\">윤하(Younha/ユンナ)</a>]"
            ]
          },
          "metadata": {},
          "execution_count": 48
        }
      ]
    },
    {
      "cell_type": "code",
      "source": [
        "titles = [element.get_text() for element in soup_titles]\n",
        "artists = [element.get_text() for element in soup_artists if 'class=\"more\"' not in str(element)]"
      ],
      "metadata": {
        "id": "DRRHegdiBfsJ"
      },
      "execution_count": 49,
      "outputs": []
    },
    {
      "cell_type": "code",
      "source": [
        "print(len(titles))\n",
        "titles[:10]"
      ],
      "metadata": {
        "colab": {
          "base_uri": "https://localhost:8080/"
        },
        "id": "kD8K2XVgByFI",
        "outputId": "c52981c9-d197-4abf-d902-08dce68b8db7"
      },
      "execution_count": 50,
      "outputs": [
        {
          "output_type": "stream",
          "name": "stdout",
          "text": [
            "100\n"
          ]
        },
        {
          "output_type": "execute_result",
          "data": {
            "text/plain": [
              "['ELEVEN',\n",
              " '매일 크리스마스 (Everyday Christmas)',\n",
              " '눈이 오잖아(Feat.헤이즈)',\n",
              " '회전목마 (Feat. Zion.T, 원슈타인) (Prod. Slom)',\n",
              " '리무진 (Feat. MINO) (Prod. GRAY)',\n",
              " '만남은 쉽고 이별은 어려워 (Feat. Leellamarz) (Prod. TOIL)',\n",
              " '불협화음 (Feat. AKMU) (Prod. GRAY)',\n",
              " 'strawberry moon',\n",
              " '네가 없는 밤 (Feat. ASH ISLAND) (Prod. GRAY)',\n",
              " '문득']"
            ]
          },
          "metadata": {},
          "execution_count": 50
        }
      ]
    },
    {
      "cell_type": "code",
      "source": [
        "print(len(artists))\n",
        "artists[:10]"
      ],
      "metadata": {
        "colab": {
          "base_uri": "https://localhost:8080/"
        },
        "id": "uW3RfoWLB0WY",
        "outputId": "bbc677b7-5558-4ef8-a241-63c5f6e00e6c"
      },
      "execution_count": 51,
      "outputs": [
        {
          "output_type": "stream",
          "name": "stdout",
          "text": [
            "100\n"
          ]
        },
        {
          "output_type": "execute_result",
          "data": {
            "text/plain": [
              "['IVE (아이브)',\n",
              " '다비치',\n",
              " '이무진',\n",
              " 'sokodomo',\n",
              " \"BE'O (비오)\",\n",
              " '베이식(Basick)',\n",
              " 'Mudd the student',\n",
              " '아이유(IU)',\n",
              " \"BE'O (비오)\",\n",
              " \"BE'O (비오)\"]"
            ]
          },
          "metadata": {},
          "execution_count": 51
        }
      ]
    },
    {
      "cell_type": "code",
      "source": [
        "bugs_dict = {'title':titles,\n",
        "             'artist':artists}\n",
        "bugs_df = pd.DataFrame(bugs_dict, columns=['title', 'artist'], index=range(1,len(titles)+1))\n",
        "bugs_df"
      ],
      "metadata": {
        "colab": {
          "base_uri": "https://localhost:8080/",
          "height": 423
        },
        "id": "PpKvGpI0B7Fo",
        "outputId": "5251f9e6-3898-4cb5-cb9d-dc35e8062124"
      },
      "execution_count": 52,
      "outputs": [
        {
          "output_type": "execute_result",
          "data": {
            "text/html": [
              "<div>\n",
              "<style scoped>\n",
              "    .dataframe tbody tr th:only-of-type {\n",
              "        vertical-align: middle;\n",
              "    }\n",
              "\n",
              "    .dataframe tbody tr th {\n",
              "        vertical-align: top;\n",
              "    }\n",
              "\n",
              "    .dataframe thead th {\n",
              "        text-align: right;\n",
              "    }\n",
              "</style>\n",
              "<table border=\"1\" class=\"dataframe\">\n",
              "  <thead>\n",
              "    <tr style=\"text-align: right;\">\n",
              "      <th></th>\n",
              "      <th>title</th>\n",
              "      <th>artist</th>\n",
              "    </tr>\n",
              "  </thead>\n",
              "  <tbody>\n",
              "    <tr>\n",
              "      <th>1</th>\n",
              "      <td>ELEVEN</td>\n",
              "      <td>IVE (아이브)</td>\n",
              "    </tr>\n",
              "    <tr>\n",
              "      <th>2</th>\n",
              "      <td>매일 크리스마스 (Everyday Christmas)</td>\n",
              "      <td>다비치</td>\n",
              "    </tr>\n",
              "    <tr>\n",
              "      <th>3</th>\n",
              "      <td>눈이 오잖아(Feat.헤이즈)</td>\n",
              "      <td>이무진</td>\n",
              "    </tr>\n",
              "    <tr>\n",
              "      <th>4</th>\n",
              "      <td>회전목마 (Feat. Zion.T, 원슈타인) (Prod. Slom)</td>\n",
              "      <td>sokodomo</td>\n",
              "    </tr>\n",
              "    <tr>\n",
              "      <th>5</th>\n",
              "      <td>리무진 (Feat. MINO) (Prod. GRAY)</td>\n",
              "      <td>BE'O (비오)</td>\n",
              "    </tr>\n",
              "    <tr>\n",
              "      <th>...</th>\n",
              "      <td>...</td>\n",
              "      <td>...</td>\n",
              "    </tr>\n",
              "    <tr>\n",
              "      <th>96</th>\n",
              "      <td>TROUBLE (Prod. Slom)</td>\n",
              "      <td>Zion.T</td>\n",
              "    </tr>\n",
              "    <tr>\n",
              "      <th>97</th>\n",
              "      <td>08베이식 (Feat. 염따, punchnello)</td>\n",
              "      <td>베이식(Basick)</td>\n",
              "    </tr>\n",
              "    <tr>\n",
              "      <th>98</th>\n",
              "      <td>그 남자 그 여자</td>\n",
              "      <td>신용재 (2F)</td>\n",
              "    </tr>\n",
              "    <tr>\n",
              "      <th>99</th>\n",
              "      <td>우리의 이야기</td>\n",
              "      <td>멜로망스(MeloMance)</td>\n",
              "    </tr>\n",
              "    <tr>\n",
              "      <th>100</th>\n",
              "      <td>기다리다</td>\n",
              "      <td>윤하(Younha/ユンナ)</td>\n",
              "    </tr>\n",
              "  </tbody>\n",
              "</table>\n",
              "<p>100 rows × 2 columns</p>\n",
              "</div>"
            ],
            "text/plain": [
              "                                      title           artist\n",
              "1                                    ELEVEN        IVE (아이브)\n",
              "2             매일 크리스마스 (Everyday Christmas)              다비치\n",
              "3                          눈이 오잖아(Feat.헤이즈)              이무진\n",
              "4    회전목마 (Feat. Zion.T, 원슈타인) (Prod. Slom)         sokodomo\n",
              "5             리무진 (Feat. MINO) (Prod. GRAY)        BE'O (비오)\n",
              "..                                      ...              ...\n",
              "96                     TROUBLE (Prod. Slom)           Zion.T\n",
              "97             08베이식 (Feat. 염따, punchnello)      베이식(Basick)\n",
              "98                                그 남자 그 여자         신용재 (2F)\n",
              "99                                  우리의 이야기  멜로망스(MeloMance)\n",
              "100                                    기다리다   윤하(Younha/ユンナ)\n",
              "\n",
              "[100 rows x 2 columns]"
            ]
          },
          "metadata": {},
          "execution_count": 52
        }
      ]
    },
    {
      "cell_type": "code",
      "source": [
        "def bugs_music_week_top100(year, month, day, isSaved=False, filename=None):\n",
        "    month = \"{0:02d}\".format(month)\n",
        "    day = \"{0:02d}\".format(day)\n",
        "    base_url = 'https://music.bugs.co.kr/chart/track/week/total?'\n",
        "    url = base_url + f'chartdate={year}{month}{day}'\n",
        "    html_music = requests.get(url).text\n",
        "    soop_music = BeautifulSoup(html_music, 'lxml')\n",
        "\n",
        "    soup_titles = soop_music.select('p.title a')\n",
        "    soup_artists  = soop_music.select('p.artist a')\n",
        "\n",
        "    titles = [element.get_text() for element in soup_titles]\n",
        "    artists = [element.get_text() for element in soup_artists if 'class=\"more\"' not in str(element)]\n",
        "    bugs_dict = {'title':titles,\n",
        "                 'artist':artists}\n",
        "    bugs_df = pd.DataFrame(bugs_dict, columns=['title', 'artist'], index=range(1,len(titles)+1))\n",
        "\n",
        "    if isSaved:\n",
        "        if filename != None:\n",
        "            bugs_df.to_csv(filename+'.csv', mode='w')\n",
        "        else:\n",
        "            print(\"파일명이 지정되지 않았습니다.\")\n",
        "    return bugs_df"
      ],
      "metadata": {
        "id": "UhIZP_liWcnM"
      },
      "execution_count": 53,
      "outputs": []
    },
    {
      "cell_type": "code",
      "source": [
        "bugs_music_week_top100(2021, 10, 1)"
      ],
      "metadata": {
        "colab": {
          "base_uri": "https://localhost:8080/",
          "height": 423
        },
        "id": "iVTTenWNXWBj",
        "outputId": "c80d9b19-6e6f-4da6-ce45-458add2db094"
      },
      "execution_count": 54,
      "outputs": [
        {
          "output_type": "execute_result",
          "data": {
            "text/html": [
              "<div>\n",
              "<style scoped>\n",
              "    .dataframe tbody tr th:only-of-type {\n",
              "        vertical-align: middle;\n",
              "    }\n",
              "\n",
              "    .dataframe tbody tr th {\n",
              "        vertical-align: top;\n",
              "    }\n",
              "\n",
              "    .dataframe thead th {\n",
              "        text-align: right;\n",
              "    }\n",
              "</style>\n",
              "<table border=\"1\" class=\"dataframe\">\n",
              "  <thead>\n",
              "    <tr style=\"text-align: right;\">\n",
              "      <th></th>\n",
              "      <th>title</th>\n",
              "      <th>artist</th>\n",
              "    </tr>\n",
              "  </thead>\n",
              "  <tbody>\n",
              "    <tr>\n",
              "      <th>1</th>\n",
              "      <td>My Universe</td>\n",
              "      <td>Coldplay(콜드플레이)</td>\n",
              "    </tr>\n",
              "    <tr>\n",
              "      <th>2</th>\n",
              "      <td>Hey Mama (feat. Nicki Minaj, Bebe Rexha &amp; Afro...</td>\n",
              "      <td>David Guetta(데이빗 게타)</td>\n",
              "    </tr>\n",
              "    <tr>\n",
              "      <th>3</th>\n",
              "      <td>STAY</td>\n",
              "      <td>The Kid LAROI</td>\n",
              "    </tr>\n",
              "    <tr>\n",
              "      <th>4</th>\n",
              "      <td>LOCO</td>\n",
              "      <td>ITZY (있지)</td>\n",
              "    </tr>\n",
              "    <tr>\n",
              "      <th>5</th>\n",
              "      <td>CHERRY</td>\n",
              "      <td>AB6IX (에이비식스)</td>\n",
              "    </tr>\n",
              "    <tr>\n",
              "      <th>...</th>\n",
              "      <td>...</td>\n",
              "      <td>...</td>\n",
              "    </tr>\n",
              "    <tr>\n",
              "      <th>96</th>\n",
              "      <td>Lemonade</td>\n",
              "      <td>NCT 127</td>\n",
              "    </tr>\n",
              "    <tr>\n",
              "      <th>97</th>\n",
              "      <td>Timeless</td>\n",
              "      <td>SG워너비</td>\n",
              "    </tr>\n",
              "    <tr>\n",
              "      <th>98</th>\n",
              "      <td>상상더하기</td>\n",
              "      <td>라붐(LABOUM)</td>\n",
              "    </tr>\n",
              "    <tr>\n",
              "      <th>99</th>\n",
              "      <td>하늘을 달리다</td>\n",
              "      <td>HYNN(박혜원)</td>\n",
              "    </tr>\n",
              "    <tr>\n",
              "      <th>100</th>\n",
              "      <td>Hate that... (Feat. 태연)</td>\n",
              "      <td>키 (KEY)</td>\n",
              "    </tr>\n",
              "  </tbody>\n",
              "</table>\n",
              "<p>100 rows × 2 columns</p>\n",
              "</div>"
            ],
            "text/plain": [
              "                                                 title                artist\n",
              "1                                          My Universe       Coldplay(콜드플레이)\n",
              "2    Hey Mama (feat. Nicki Minaj, Bebe Rexha & Afro...  David Guetta(데이빗 게타)\n",
              "3                                                 STAY         The Kid LAROI\n",
              "4                                                 LOCO             ITZY (있지)\n",
              "5                                               CHERRY         AB6IX (에이비식스)\n",
              "..                                                 ...                   ...\n",
              "96                                            Lemonade               NCT 127\n",
              "97                                            Timeless                 SG워너비\n",
              "98                                               상상더하기            라붐(LABOUM)\n",
              "99                                             하늘을 달리다             HYNN(박혜원)\n",
              "100                            Hate that... (Feat. 태연)               키 (KEY)\n",
              "\n",
              "[100 rows x 2 columns]"
            ]
          },
          "metadata": {},
          "execution_count": 54
        }
      ]
    },
    {
      "cell_type": "code",
      "source": [
        "bugs_music_week_top100(2021, 12, 14).to_csv(\"bugs_20211214.csv\", mode='w')"
      ],
      "metadata": {
        "id": "4tisfPFzZWBL"
      },
      "execution_count": 55,
      "outputs": []
    },
    {
      "cell_type": "code",
      "source": [
        "bugs_music_week_top100(2021, 10, 1, True, \"bugs_20211021\")"
      ],
      "metadata": {
        "colab": {
          "base_uri": "https://localhost:8080/",
          "height": 423
        },
        "id": "ohTALxzFZnhD",
        "outputId": "5a28349f-2ed2-44b4-cdb8-ed879907a3fa"
      },
      "execution_count": 56,
      "outputs": [
        {
          "output_type": "execute_result",
          "data": {
            "text/html": [
              "<div>\n",
              "<style scoped>\n",
              "    .dataframe tbody tr th:only-of-type {\n",
              "        vertical-align: middle;\n",
              "    }\n",
              "\n",
              "    .dataframe tbody tr th {\n",
              "        vertical-align: top;\n",
              "    }\n",
              "\n",
              "    .dataframe thead th {\n",
              "        text-align: right;\n",
              "    }\n",
              "</style>\n",
              "<table border=\"1\" class=\"dataframe\">\n",
              "  <thead>\n",
              "    <tr style=\"text-align: right;\">\n",
              "      <th></th>\n",
              "      <th>title</th>\n",
              "      <th>artist</th>\n",
              "    </tr>\n",
              "  </thead>\n",
              "  <tbody>\n",
              "    <tr>\n",
              "      <th>1</th>\n",
              "      <td>My Universe</td>\n",
              "      <td>Coldplay(콜드플레이)</td>\n",
              "    </tr>\n",
              "    <tr>\n",
              "      <th>2</th>\n",
              "      <td>Hey Mama (feat. Nicki Minaj, Bebe Rexha &amp; Afro...</td>\n",
              "      <td>David Guetta(데이빗 게타)</td>\n",
              "    </tr>\n",
              "    <tr>\n",
              "      <th>3</th>\n",
              "      <td>STAY</td>\n",
              "      <td>The Kid LAROI</td>\n",
              "    </tr>\n",
              "    <tr>\n",
              "      <th>4</th>\n",
              "      <td>LOCO</td>\n",
              "      <td>ITZY (있지)</td>\n",
              "    </tr>\n",
              "    <tr>\n",
              "      <th>5</th>\n",
              "      <td>CHERRY</td>\n",
              "      <td>AB6IX (에이비식스)</td>\n",
              "    </tr>\n",
              "    <tr>\n",
              "      <th>...</th>\n",
              "      <td>...</td>\n",
              "      <td>...</td>\n",
              "    </tr>\n",
              "    <tr>\n",
              "      <th>96</th>\n",
              "      <td>Lemonade</td>\n",
              "      <td>NCT 127</td>\n",
              "    </tr>\n",
              "    <tr>\n",
              "      <th>97</th>\n",
              "      <td>Timeless</td>\n",
              "      <td>SG워너비</td>\n",
              "    </tr>\n",
              "    <tr>\n",
              "      <th>98</th>\n",
              "      <td>상상더하기</td>\n",
              "      <td>라붐(LABOUM)</td>\n",
              "    </tr>\n",
              "    <tr>\n",
              "      <th>99</th>\n",
              "      <td>하늘을 달리다</td>\n",
              "      <td>HYNN(박혜원)</td>\n",
              "    </tr>\n",
              "    <tr>\n",
              "      <th>100</th>\n",
              "      <td>Hate that... (Feat. 태연)</td>\n",
              "      <td>키 (KEY)</td>\n",
              "    </tr>\n",
              "  </tbody>\n",
              "</table>\n",
              "<p>100 rows × 2 columns</p>\n",
              "</div>"
            ],
            "text/plain": [
              "                                                 title                artist\n",
              "1                                          My Universe       Coldplay(콜드플레이)\n",
              "2    Hey Mama (feat. Nicki Minaj, Bebe Rexha & Afro...  David Guetta(데이빗 게타)\n",
              "3                                                 STAY         The Kid LAROI\n",
              "4                                                 LOCO             ITZY (있지)\n",
              "5                                               CHERRY         AB6IX (에이비식스)\n",
              "..                                                 ...                   ...\n",
              "96                                            Lemonade               NCT 127\n",
              "97                                            Timeless                 SG워너비\n",
              "98                                               상상더하기            라붐(LABOUM)\n",
              "99                                             하늘을 달리다             HYNN(박혜원)\n",
              "100                            Hate that... (Feat. 태연)               키 (KEY)\n",
              "\n",
              "[100 rows x 2 columns]"
            ]
          },
          "metadata": {},
          "execution_count": 56
        }
      ]
    },
    {
      "cell_type": "code",
      "source": [
        "# 웹 사이트의 이미지를 다운받아 지정한 폴더에 저장\n",
        "# https://www.python.org/static/img/python-logo.png\n",
        "# 하나의 이미지 다운로드\n",
        "# 이미지 URL\n",
        "url = \"https://www.python.org/static/img/python-logo.png\""
      ],
      "metadata": {
        "id": "eO0oa0FiIjx-"
      },
      "execution_count": 57,
      "outputs": []
    },
    {
      "cell_type": "code",
      "source": [
        "# requests.get()을 이용하여 이미지 요청\n",
        "html_image = requests.get(url)"
      ],
      "metadata": {
        "id": "05LT6WrTI6AN"
      },
      "execution_count": 58,
      "outputs": []
    },
    {
      "cell_type": "code",
      "source": [
        "# 이미지 URL 중 파일명에 해당하는 부분만 추출하여 저장할 이름으로 사용\n",
        "import os\n",
        "image_file_name = os.path.basename(url)\n",
        "image_file_name"
      ],
      "metadata": {
        "colab": {
          "base_uri": "https://localhost:8080/",
          "height": 35
        },
        "id": "zpSLU52RJECU",
        "outputId": "ee11421c-6c68-4a92-e813-7f267e29c39e"
      },
      "execution_count": 59,
      "outputs": [
        {
          "output_type": "execute_result",
          "data": {
            "application/vnd.google.colaboratory.intrinsic+json": {
              "type": "string"
            },
            "text/plain": [
              "'python-logo.png'"
            ]
          },
          "metadata": {},
          "execution_count": 59
        }
      ]
    },
    {
      "cell_type": "code",
      "source": [
        "# 저장할 폴더 생성 : os.makedirs('생성폴더명')\n",
        "# 기본 폴더가 있는 여부 : os.path.exists('생성폴더명')\n",
        "folder = './DownLoadImage'\n",
        "if not os.path.exists(folder):\n",
        "    os.makedirs(folder)"
      ],
      "metadata": {
        "id": "11XRyLxtJYDl"
      },
      "execution_count": 60,
      "outputs": []
    },
    {
      "cell_type": "code",
      "source": [
        "# 생성된 폴더명과 파일명을 하나로 연결 : os.path.join(폴더명, 파일명)\n",
        "image_path = os.path.join(folder, image_file_name)"
      ],
      "metadata": {
        "id": "ydtVQpsaJ1cG"
      },
      "execution_count": 61,
      "outputs": []
    },
    {
      "cell_type": "code",
      "source": [
        "# 이미지 파일을 저장하기위한 파일 모드 : 'wb'\n",
        "imageFile = open(image_path, 'wb')"
      ],
      "metadata": {
        "id": "k7n6BqqlJ1Vb"
      },
      "execution_count": 62,
      "outputs": []
    },
    {
      "cell_type": "code",
      "source": [
        "# 이미지 저장 : write(나누어 받아 저장할 바이트 수) : byte 단위\n",
        "chunk_size = 1000000"
      ],
      "metadata": {
        "id": "XteltxQJKKRd"
      },
      "execution_count": 63,
      "outputs": []
    },
    {
      "cell_type": "code",
      "source": [
        "# 이미지 데이터를 1,000,000 byte 단위로 나누어 파일에 순차적 (iter_content(사이즈))으로 저장\n",
        "for chunk in html_image.iter_content(chunk_size):\n",
        "    imageFile.write(chunk)\n",
        "\n",
        "imageFile.close()"
      ],
      "metadata": {
        "id": "Ewa-_2V0KrPD"
      },
      "execution_count": 64,
      "outputs": []
    },
    {
      "cell_type": "code",
      "source": [
        "# 여러 개의 이미지를 다운받아 저장\n",
        "# https://www.reshot.com/search/animal\n",
        "url = 'https://www.reshot.com/search/animal'"
      ],
      "metadata": {
        "id": "N1j9VJWTLdlB"
      },
      "execution_count": 65,
      "outputs": []
    },
    {
      "cell_type": "code",
      "source": [
        "# 이미지 다운로드 받을 웹 사이트의 HTML 소스 요청\n",
        "html_reshot_image = requests.get(url).text\n",
        "\n",
        "# HTML 소스를 이용하여 BeautifulSoup 객체 생성 : <img src=''> 을 추출하기 위함\n",
        "soup_reshot_image = BeautifulSoup(html_reshot_image, 'lxml')\n",
        "\n",
        "# BeautifulSoup 객체를 이용하여 원하는 img 태그 추출\n",
        "reshot_image_elements = soup_reshot_image.select('a img')\n",
        "reshot_image_elements[:3]"
      ],
      "metadata": {
        "colab": {
          "base_uri": "https://localhost:8080/"
        },
        "id": "h5a_MCoNLp6E",
        "outputId": "d6b61cd8-0b34-45a7-ea38-ab3be7e2c6a1"
      },
      "execution_count": 66,
      "outputs": [
        {
          "output_type": "execute_result",
          "data": {
            "text/plain": [
              "[<img alt=\"Reshot\" height=\"33\" src=\"https://www.reshot.com/build/reshot-logo--mark-cc49363ac3f7876f854286af4266ead51a7ff9e0fa12f30677c9e758d43dd0d1.svg\" title=\"Reshot\" width=\"46\"/>,\n",
              " <img alt=\"\" class=\"photos-item-card__image\" height=\"2448\" loading=\"lazy\" src=\"https://res.cloudinary.com/twenty20/private_images/t_reshot-400/v1521838685/photosp/bae96789-a5ab-4471-b54f-9686ace09e33/bae96789-a5ab-4471-b54f-9686ace09e33.jpg\" width=\"2448\"/>,\n",
              " <img alt=\"Back off!\" class=\"photos-item-card__image\" height=\"2361\" loading=\"lazy\" src=\"https://res.cloudinary.com/twenty20/private_images/t_reshot-400/v1597098233/photosp/a44357c5-b1c3-41ef-9a65-7a4937b06a44/a44357c5-b1c3-41ef-9a65-7a4937b06a44.jpg\" width=\"3148\"/>]"
            ]
          },
          "metadata": {},
          "execution_count": 66
        }
      ]
    },
    {
      "cell_type": "code",
      "source": [
        "# 추출된 img 태그의 src 속성값 추출 : 이미지 데이터 요청하기 위함\n",
        "reshot_image_url = reshot_image_elements[1].get('src')\n",
        "reshot_image_url"
      ],
      "metadata": {
        "colab": {
          "base_uri": "https://localhost:8080/",
          "height": 35
        },
        "id": "_Ogma60WL_O1",
        "outputId": "00b51e50-1fe7-4ffa-a2b7-03c6a9c9740d"
      },
      "execution_count": 67,
      "outputs": [
        {
          "output_type": "execute_result",
          "data": {
            "application/vnd.google.colaboratory.intrinsic+json": {
              "type": "string"
            },
            "text/plain": [
              "'https://res.cloudinary.com/twenty20/private_images/t_reshot-400/v1521838685/photosp/bae96789-a5ab-4471-b54f-9686ace09e33/bae96789-a5ab-4471-b54f-9686ace09e33.jpg'"
            ]
          },
          "metadata": {},
          "execution_count": 67
        }
      ]
    },
    {
      "cell_type": "code",
      "source": [
        "# 이미지 URL을 이용하여 이미지 데이터 요청\n",
        "html_image = requests.get(reshot_image_url)\n",
        "\n",
        "# 이미지 저장 폴더\n",
        "folder = './DownLoadImage'"
      ],
      "metadata": {
        "id": "ME8Uek9RMhvT"
      },
      "execution_count": 68,
      "outputs": []
    },
    {
      "cell_type": "code",
      "source": [
        "# url 을 이용하여 이미지 주소를 추출하여 반환하는 사용자 정의 함수\n",
        "def get_image_url(url):\n",
        "    html_image_url = requests.get(url).text\n",
        "    soup_image_url = BeautifulSoup(html_image_url, 'lxml')\n",
        "    image_elements = soup_image_url.select('a img')\n",
        "\n",
        "    if image_elements != None:\n",
        "        image_urls = []\n",
        "        for image_element in image_elements[1:]:\n",
        "            image_urls.append(image_element.get('src'))\n",
        "        return image_urls\n",
        "    else:\n",
        "        return None"
      ],
      "metadata": {
        "id": "6fAH6yZiM1Lb"
      },
      "execution_count": 69,
      "outputs": []
    },
    {
      "cell_type": "code",
      "source": [
        "# 저장 폴더를 지정하여 이미지 주소로부터 이미지 다운로드\n",
        "def download_image(img_folder, img_url):\n",
        "    if img_url:\n",
        "        html_image = requests.get(img_url)\n",
        "        imageFile = open(os.path.join(img_folder, os.path.basename(img_url)), 'wb')\n",
        "        chunk_size = 1000000\n",
        "        for chunk in html_image.iter_content(chunk_size):\n",
        "            imageFile.write(chunk)\n",
        "            imageFile.close()\n",
        "            print(\"이미지 파일명 : '{0}'\".format(os.path.basename(img_url)))\n",
        "    else:\n",
        "        print('내려받을 이미지가 없습니다.')"
      ],
      "metadata": {
        "id": "dPihsxb9NXJM"
      },
      "execution_count": 70,
      "outputs": []
    },
    {
      "cell_type": "code",
      "source": [
        "rehot_url = 'https://www.reshot.com/search/animal'\n",
        "\n",
        "figure_folder = './DownLoadImage'\n",
        "\n",
        "reshot_image_urls = get_image_url(rehot_url)\n",
        "\n",
        "num_of_download_image = 7\n",
        "for k in range(num_of_download_image):\n",
        "    download_image(figure_folder, reshot_image_urls[k])\n",
        "print('이미지 다운로드 종료')"
      ],
      "metadata": {
        "colab": {
          "base_uri": "https://localhost:8080/"
        },
        "id": "6ZfRiMVaO8Kb",
        "outputId": "20326797-608a-49d4-f3cc-02c578c1ede4"
      },
      "execution_count": 71,
      "outputs": [
        {
          "output_type": "stream",
          "name": "stdout",
          "text": [
            "이미지 파일명 : 'bae96789-a5ab-4471-b54f-9686ace09e33.jpg'\n",
            "이미지 파일명 : 'a44357c5-b1c3-41ef-9a65-7a4937b06a44.jpg'\n",
            "이미지 파일명 : '34fd9c70-8996-4706-a0f1-113231ed3eee.jpg'\n",
            "이미지 파일명 : 'dbd9fa3b-238b-47b1-8e20-c05400cbe921.jpg'\n",
            "이미지 파일명 : '737d192f-ba38-4a71-9bb9-9d40b45d0263.jpg'\n",
            "이미지 파일명 : 'c3c3604d-36eb-4f8a-9768-cebc0749d5a5.jpg'\n",
            "이미지 파일명 : 'bd35932f-98e9-4164-bb40-24f2df77ce93.jpg'\n",
            "이미지 다운로드 종료\n"
          ]
        }
      ]
    }
  ]
}