{
  "nbformat": 4,
  "nbformat_minor": 0,
  "metadata": {
    "colab": {
      "name": "Numpy.ipynb",
      "provenance": [],
      "authorship_tag": "ABX9TyP/NeCfTso/o1tYOtJArORB"
    },
    "kernelspec": {
      "name": "python3",
      "display_name": "Python 3"
    },
    "language_info": {
      "name": "python"
    }
  },
  "cells": [
    {
      "cell_type": "markdown",
      "source": [
        "# Numpy\n",
        "\n",
        "* 대용량의 배열(다차원)과 행렬 연산을 빠르게 수행.\n",
        "* 고차원의 수학 연산자와 함수를 포함.\n",
        "* 파이썬 기본 리스트보다 속도가 빠름\n",
        "\n",
        "Numpy에서 차원은 축(axis)라고도 한다.\n",
        "\n",
        "### Numpy 배열 : ndarray 객체\n",
        "1. C언어를 기반으로 한 배열 구조\n",
        "2. 메모리를 적게 차지하고, 속도는 빠름\n",
        "3. ndarray를 이용하면 배열과 배열간의 수학적인 연산을 적용할 수 있음\n",
        "4. ndarray는 고급 연산자 풍부한 함수를 제공\n"
      ],
      "metadata": {
        "id": "9aSlTcGiKll0"
      }
    },
    {
      "cell_type": "code",
      "execution_count": 1,
      "metadata": {
        "id": "y92nw8McKEMj"
      },
      "outputs": [],
      "source": [
        "mid_scores = [10, 20, 30]\n",
        "final_scores = [70, 80, 90]"
      ]
    },
    {
      "cell_type": "code",
      "source": [
        "# 파이썬 리스트\n",
        "total = mid_scores + final_scores\n",
        "total"
      ],
      "metadata": {
        "colab": {
          "base_uri": "https://localhost:8080/"
        },
        "id": "COYe_kQvNRFj",
        "outputId": "3ba5a8e5-2874-41d9-eb8e-d6fc1462370e"
      },
      "execution_count": 2,
      "outputs": [
        {
          "output_type": "execute_result",
          "data": {
            "text/plain": [
              "[10, 20, 30, 70, 80, 90]"
            ]
          },
          "metadata": {},
          "execution_count": 2
        }
      ]
    },
    {
      "cell_type": "code",
      "source": [
        "import numpy as np"
      ],
      "metadata": {
        "id": "1srMvUDUNXVr"
      },
      "execution_count": 3,
      "outputs": []
    },
    {
      "cell_type": "markdown",
      "source": [
        "### Numpy 배열 이용\n",
        "1. Numpy 배열을 만들려면 Numpy가 제공하는 array() 이용\n",
        "2. array() 함수에 파이썬 리스트를 전달"
      ],
      "metadata": {
        "id": "OUviLvm9Nc3i"
      }
    },
    {
      "cell_type": "code",
      "source": [
        "mid_scores = np.array([10, 20, 30])\n",
        "final_scores = np.array([70, 80, 90])"
      ],
      "metadata": {
        "id": "47nhKEA2NkYq"
      },
      "execution_count": 4,
      "outputs": []
    },
    {
      "cell_type": "code",
      "source": [
        "total = mid_scores + final_scores\n",
        "total"
      ],
      "metadata": {
        "colab": {
          "base_uri": "https://localhost:8080/"
        },
        "id": "ZFt6tS6NNqMq",
        "outputId": "1a13ee5b-bb22-4059-aece-7b5da85c1e08"
      },
      "execution_count": 5,
      "outputs": [
        {
          "output_type": "execute_result",
          "data": {
            "text/plain": [
              "array([ 80, 100, 120])"
            ]
          },
          "metadata": {},
          "execution_count": 5
        }
      ]
    },
    {
      "cell_type": "code",
      "source": [
        "avg = total /2\n",
        "avg"
      ],
      "metadata": {
        "colab": {
          "base_uri": "https://localhost:8080/"
        },
        "id": "5M-F352cO-8S",
        "outputId": "41506623-e183-460c-85f1-bcea16b93c5d"
      },
      "execution_count": 6,
      "outputs": [
        {
          "output_type": "execute_result",
          "data": {
            "text/plain": [
              "array([40., 50., 60.])"
            ]
          },
          "metadata": {},
          "execution_count": 6
        }
      ]
    },
    {
      "cell_type": "markdown",
      "source": [
        "* 리스트 간의 + 연산 : 리스트를 연결\n",
        "* Numpy 배열 간의 + 연산 : 데이터와 데이터 간의 연산"
      ],
      "metadata": {
        "id": "-DlegaFFPBBy"
      }
    },
    {
      "cell_type": "markdown",
      "source": [
        "### ndarray의 여러가지 속성\n",
        "* 프로그램 오류나 배열의 상세한 정보를 조회"
      ],
      "metadata": {
        "id": "58leIr0MPmmD"
      }
    },
    {
      "cell_type": "code",
      "source": [
        "# 1. ndarray의 형태 : shape\n",
        "a = np.array([1, 2, 3])\n",
        "a.shape"
      ],
      "metadata": {
        "colab": {
          "base_uri": "https://localhost:8080/"
        },
        "id": "5FEQkp6aPr9y",
        "outputId": "e3341ca5-a4a3-4170-d56a-211646631d9f"
      },
      "execution_count": 7,
      "outputs": [
        {
          "output_type": "execute_result",
          "data": {
            "text/plain": [
              "(3,)"
            ]
          },
          "metadata": {},
          "execution_count": 7
        }
      ]
    },
    {
      "cell_type": "code",
      "source": [
        "# 2. ndarray의 차원 : ndim\n",
        "a.ndim"
      ],
      "metadata": {
        "colab": {
          "base_uri": "https://localhost:8080/"
        },
        "id": "QZaGH6AeQOrB",
        "outputId": "706722b8-2796-4d68-949c-fba055a96e00"
      },
      "execution_count": 8,
      "outputs": [
        {
          "output_type": "execute_result",
          "data": {
            "text/plain": [
              "1"
            ]
          },
          "metadata": {},
          "execution_count": 8
        }
      ]
    },
    {
      "cell_type": "code",
      "source": [
        "# 3. ndarray의 내부 데이터타입(자료형) : dtype\n",
        "a.dtype"
      ],
      "metadata": {
        "colab": {
          "base_uri": "https://localhost:8080/"
        },
        "id": "cesioYJ_QT1q",
        "outputId": "96fdbf69-bb99-413b-bdc8-9be5068c481d"
      },
      "execution_count": 9,
      "outputs": [
        {
          "output_type": "execute_result",
          "data": {
            "text/plain": [
              "dtype('int64')"
            ]
          },
          "metadata": {},
          "execution_count": 9
        }
      ]
    },
    {
      "cell_type": "code",
      "source": [
        "# 4. ndarray의 내부 자료형이 차지하는 메모리 크기(byte 단위) : itemsize\n",
        "a.itemsize"
      ],
      "metadata": {
        "colab": {
          "base_uri": "https://localhost:8080/"
        },
        "id": "x8Vpp3dQQsLy",
        "outputId": "fb21dc63-9577-4296-ef63-ac29ed870d40"
      },
      "execution_count": 10,
      "outputs": [
        {
          "output_type": "execute_result",
          "data": {
            "text/plain": [
              "8"
            ]
          },
          "metadata": {},
          "execution_count": 10
        }
      ]
    },
    {
      "cell_type": "code",
      "source": [
        "# 5. ndarray의 데이터 개수 : size\n",
        "a.size"
      ],
      "metadata": {
        "colab": {
          "base_uri": "https://localhost:8080/"
        },
        "id": "vv5wehCHQ1Fp",
        "outputId": "91b7e23e-5fa9-447f-f3c5-2a1c78677a03"
      },
      "execution_count": 11,
      "outputs": [
        {
          "output_type": "execute_result",
          "data": {
            "text/plain": [
              "3"
            ]
          },
          "metadata": {},
          "execution_count": 11
        }
      ]
    },
    {
      "cell_type": "markdown",
      "source": [
        "### ndarray 객체 생성 및 속성"
      ],
      "metadata": {
        "id": "R42-Vx0BRV52"
      }
    },
    {
      "cell_type": "code",
      "source": [
        "# 1. 파이썬 리스트 데이터로 생성\n",
        "array_a = np.array([0, 1, 2, 3, 4, 5, 6, 7, 8, 9])\n",
        "array_a"
      ],
      "metadata": {
        "colab": {
          "base_uri": "https://localhost:8080/"
        },
        "id": "kk6YxbEcRYkK",
        "outputId": "ae46b500-89f6-4217-8f9a-c6ab52e461b0"
      },
      "execution_count": 12,
      "outputs": [
        {
          "output_type": "execute_result",
          "data": {
            "text/plain": [
              "array([0, 1, 2, 3, 4, 5, 6, 7, 8, 9])"
            ]
          },
          "metadata": {},
          "execution_count": 12
        }
      ]
    },
    {
      "cell_type": "code",
      "source": [
        "# 2. 파이썬 ragne()를 이용하여 생성\n",
        "array_b = np.array(range(10))\n",
        "array_b"
      ],
      "metadata": {
        "colab": {
          "base_uri": "https://localhost:8080/"
        },
        "id": "AxYGOBhiRz1a",
        "outputId": "31c9812e-670b-4fc2-c29f-f4330f0f1908"
      },
      "execution_count": 13,
      "outputs": [
        {
          "output_type": "execute_result",
          "data": {
            "text/plain": [
              "array([0, 1, 2, 3, 4, 5, 6, 7, 8, 9])"
            ]
          },
          "metadata": {},
          "execution_count": 13
        }
      ]
    },
    {
      "cell_type": "code",
      "source": [
        "# 3. Numpy arange 이용\n",
        "array_c = np.arange(10)\n",
        "array_c"
      ],
      "metadata": {
        "colab": {
          "base_uri": "https://localhost:8080/"
        },
        "id": "Y35LLzDaR66S",
        "outputId": "2d0b85a9-2097-4bed-dad8-d9563608ac6f"
      },
      "execution_count": 14,
      "outputs": [
        {
          "output_type": "execute_result",
          "data": {
            "text/plain": [
              "array([0, 1, 2, 3, 4, 5, 6, 7, 8, 9])"
            ]
          },
          "metadata": {},
          "execution_count": 14
        }
      ]
    },
    {
      "cell_type": "markdown",
      "source": [
        "### Numpy 배열의 연산"
      ],
      "metadata": {
        "id": "wB4xW3RxS6V6"
      }
    },
    {
      "cell_type": "code",
      "source": [
        "salary = np.array([220, 250, 330])\n",
        "salary += 100\n",
        "salary"
      ],
      "metadata": {
        "colab": {
          "base_uri": "https://localhost:8080/"
        },
        "id": "ivziOBlrS51S",
        "outputId": "5648b0ae-c5f5-4ee6-b42e-f421fb1c988f"
      },
      "execution_count": 15,
      "outputs": [
        {
          "output_type": "execute_result",
          "data": {
            "text/plain": [
              "array([320, 350, 430])"
            ]
          },
          "metadata": {},
          "execution_count": 15
        }
      ]
    },
    {
      "cell_type": "code",
      "source": [
        "salary = np.array([220, 250, 330])\n",
        "salary *= 2\n",
        "salary"
      ],
      "metadata": {
        "colab": {
          "base_uri": "https://localhost:8080/"
        },
        "id": "__Cx7EJWUai5",
        "outputId": "5a0c801d-9c82-4419-bfe5-39a466235d93"
      },
      "execution_count": 16,
      "outputs": [
        {
          "output_type": "execute_result",
          "data": {
            "text/plain": [
              "array([440, 500, 660])"
            ]
          },
          "metadata": {},
          "execution_count": 16
        }
      ]
    },
    {
      "cell_type": "code",
      "source": [
        "salary = np.array([220, 250, 330])\n",
        "salary = salary * 2.5 # salary *= 2.5 안됨\n",
        "salary"
      ],
      "metadata": {
        "colab": {
          "base_uri": "https://localhost:8080/"
        },
        "id": "UPJUjC5dUG7C",
        "outputId": "45c03242-fc79-4a97-ff70-68250a9c055d"
      },
      "execution_count": 17,
      "outputs": [
        {
          "output_type": "execute_result",
          "data": {
            "text/plain": [
              "array([550., 625., 825.])"
            ]
          },
          "metadata": {},
          "execution_count": 17
        }
      ]
    },
    {
      "cell_type": "markdown",
      "source": [
        "### Numpy의 계산이 빠른 이유\n",
        "\n",
        "* Numpy는 각 배열마다 타입이 하나만 존재한다고 인식.\n",
        "    * Numpy에는 배열 안에 하나의 타입만 저장가능.\n",
        "    * Numpy의 배열에 문자와 숫자를 혼용할 경우 모든 데이터를 문자열로 변경하여 저장됨"
      ],
      "metadata": {
        "id": "-TTH3yR3XJ0p"
      }
    },
    {
      "cell_type": "code",
      "source": [
        "test = np.array([10, 20, 'test', 3.0, False])\n",
        "test"
      ],
      "metadata": {
        "colab": {
          "base_uri": "https://localhost:8080/"
        },
        "id": "J5NvxbVQYYyR",
        "outputId": "e58d6ebb-726a-4e99-ae28-5fd2b8750bb7"
      },
      "execution_count": 18,
      "outputs": [
        {
          "output_type": "execute_result",
          "data": {
            "text/plain": [
              "array(['10', '20', 'test', '3.0', 'False'], dtype='<U21')"
            ]
          },
          "metadata": {},
          "execution_count": 18
        }
      ]
    },
    {
      "cell_type": "code",
      "source": [
        "heights = [ 1.83, 1.76, 1.69, 1.86, 1.77, 1.73 ]\n",
        "weights = [ 86,    74,    59,   95,    80,   68  ]\n",
        "\n",
        "np_heights = np.array(heights)\n",
        "np_weights = np.array(weights)\n",
        "np_heights, np_weights"
      ],
      "metadata": {
        "colab": {
          "base_uri": "https://localhost:8080/"
        },
        "id": "kzVqjeYxYX5J",
        "outputId": "58e6c56d-0e02-4f51-e591-bed0b44185dc"
      },
      "execution_count": 19,
      "outputs": [
        {
          "output_type": "execute_result",
          "data": {
            "text/plain": [
              "(array([1.83, 1.76, 1.69, 1.86, 1.77, 1.73]), array([86, 74, 59, 95, 80, 68]))"
            ]
          },
          "metadata": {},
          "execution_count": 19
        }
      ]
    },
    {
      "cell_type": "code",
      "source": [
        "bmi = np_weights / (np_heights ** 2)\n",
        "bmi"
      ],
      "metadata": {
        "colab": {
          "base_uri": "https://localhost:8080/"
        },
        "id": "hZb7GDkMY_sR",
        "outputId": "2b9d7e76-fcad-4cfb-9e98-7ca79a2337a9"
      },
      "execution_count": 20,
      "outputs": [
        {
          "output_type": "execute_result",
          "data": {
            "text/plain": [
              "array([25.68007405, 23.88946281, 20.65754   , 27.45982194, 25.53544639,\n",
              "       22.72043837])"
            ]
          },
          "metadata": {},
          "execution_count": 20
        }
      ]
    },
    {
      "cell_type": "markdown",
      "source": [
        "### Numpy 배열의 인덱싱 / 슬라이싱\n",
        "\n",
        "* Numpy 배열에서 특정 요소(데이터)를 추출 : index를 이용"
      ],
      "metadata": {
        "id": "GD4WJEicZEUQ"
      }
    },
    {
      "cell_type": "code",
      "source": [
        "scores = np.array([88, 72, 93, 94, 89, 78, 99])"
      ],
      "metadata": {
        "id": "W7aBr788ZTWh"
      },
      "execution_count": 21,
      "outputs": []
    },
    {
      "cell_type": "code",
      "source": [
        "# 1. index를 이용한 추출\n",
        "print(scores[2])\n",
        "print(scores[-1])"
      ],
      "metadata": {
        "colab": {
          "base_uri": "https://localhost:8080/"
        },
        "id": "MQt6tgJ4ZWfc",
        "outputId": "03b38478-6d84-4d5d-fc7c-5ca131bb3959"
      },
      "execution_count": 22,
      "outputs": [
        {
          "output_type": "stream",
          "name": "stdout",
          "text": [
            "93\n",
            "99\n"
          ]
        }
      ]
    },
    {
      "cell_type": "code",
      "source": [
        "# 2. slicing : [시작idx:종료idx]\n",
        "print(scores[1:4])\n",
        "print(scores[3:])\n",
        "print(scores[4:-1])\n",
        "print(scores[:4])"
      ],
      "metadata": {
        "colab": {
          "base_uri": "https://localhost:8080/"
        },
        "id": "YEh8jRtDaRLx",
        "outputId": "11e9ecd8-8391-406e-de78-791e051f8391"
      },
      "execution_count": 23,
      "outputs": [
        {
          "output_type": "stream",
          "name": "stdout",
          "text": [
            "[72 93 94]\n",
            "[94 89 78 99]\n",
            "[89 78]\n",
            "[88 72 93 94]\n"
          ]
        }
      ]
    },
    {
      "cell_type": "markdown",
      "source": [
        "### 논리 인덱싱\n",
        "* 조건에 따른 결과를 True / False로 반환\n"
      ],
      "metadata": {
        "id": "_TSuAut4a_tn"
      }
    },
    {
      "cell_type": "code",
      "source": [
        "ages = np.array([18, 19, 25, 30, 28])"
      ],
      "metadata": {
        "id": "GTd6axNCbc9n"
      },
      "execution_count": 24,
      "outputs": []
    },
    {
      "cell_type": "code",
      "source": [
        "y = ages > 20\n",
        "y"
      ],
      "metadata": {
        "colab": {
          "base_uri": "https://localhost:8080/"
        },
        "id": "YXtExYz5beXC",
        "outputId": "c458e197-2886-48c2-99c8-746d5306232c"
      },
      "execution_count": 25,
      "outputs": [
        {
          "output_type": "execute_result",
          "data": {
            "text/plain": [
              "array([False, False,  True,  True,  True])"
            ]
          },
          "metadata": {},
          "execution_count": 25
        }
      ]
    },
    {
      "cell_type": "code",
      "source": [
        "ages[ages > 20]"
      ],
      "metadata": {
        "colab": {
          "base_uri": "https://localhost:8080/"
        },
        "id": "oTMCBp0yb-Sp",
        "outputId": "24b7b2ce-93b9-44e6-e108-8d3cf5a17fb0"
      },
      "execution_count": 26,
      "outputs": [
        {
          "output_type": "execute_result",
          "data": {
            "text/plain": [
              "array([25, 30, 28])"
            ]
          },
          "metadata": {},
          "execution_count": 26
        }
      ]
    },
    {
      "cell_type": "markdown",
      "source": [
        "### 2차원 배열 생성 및 인덱싱\n",
        "* 파이썬 2차원 리스트 : [ [ ], [ ] ] => 행렬 연산을 지원하지 않음\n",
        "* Numpy 2차원 배열 : 행렬 연산 지원"
      ],
      "metadata": {
        "id": "3Q899jDqchIS"
      }
    },
    {
      "cell_type": "code",
      "source": [
        "# 1. 2차원 배열 생성 : 파이썬 2차원 리스트를 Numpy의 array()에게 전달\n",
        "y = [[1,2,3], [4,5,6], [7,8,9]]\n",
        "np_array2d = np.array(y)\n",
        "np_array2d, type(np_array2d)"
      ],
      "metadata": {
        "colab": {
          "base_uri": "https://localhost:8080/"
        },
        "id": "kKVimASbcrwg",
        "outputId": "70ad30c8-4c13-400b-fc90-b9f0b85bb987"
      },
      "execution_count": 27,
      "outputs": [
        {
          "output_type": "execute_result",
          "data": {
            "text/plain": [
              "(array([[1, 2, 3],\n",
              "        [4, 5, 6],\n",
              "        [7, 8, 9]]), numpy.ndarray)"
            ]
          },
          "metadata": {},
          "execution_count": 27
        }
      ]
    },
    {
      "cell_type": "code",
      "source": [
        "print(np_array2d[0][0])\n",
        "print(np_array2d[0][2])\n",
        "print(np_array2d[1][0])\n",
        "print(np_array2d[2][2])"
      ],
      "metadata": {
        "colab": {
          "base_uri": "https://localhost:8080/"
        },
        "id": "B7gxgLUle79I",
        "outputId": "718a2783-a5cb-40cb-c618-75fed1f4e631"
      },
      "execution_count": 28,
      "outputs": [
        {
          "output_type": "stream",
          "name": "stdout",
          "text": [
            "1\n",
            "3\n",
            "4\n",
            "9\n"
          ]
        }
      ]
    },
    {
      "cell_type": "code",
      "source": [
        "# 특정 위치 값 변경 1\n",
        "np_array2d[2][-1] = 999\n",
        "np_array2d"
      ],
      "metadata": {
        "colab": {
          "base_uri": "https://localhost:8080/"
        },
        "id": "cww_ZNuDfyLI",
        "outputId": "14afaaa3-458c-4fcc-f104-6e57b7451904"
      },
      "execution_count": 29,
      "outputs": [
        {
          "output_type": "execute_result",
          "data": {
            "text/plain": [
              "array([[  1,   2,   3],\n",
              "       [  4,   5,   6],\n",
              "       [  7,   8, 999]])"
            ]
          },
          "metadata": {},
          "execution_count": 29
        }
      ]
    },
    {
      "cell_type": "code",
      "source": [
        "# 특정 위치 값 변경 2 - 기존 타입인 아닐경우 기존 타입으로 변경되어 들어감\n",
        "np_array2d[2][-1] = 99.9\n",
        "np_array2d"
      ],
      "metadata": {
        "colab": {
          "base_uri": "https://localhost:8080/"
        },
        "id": "lU20uD2bf5z3",
        "outputId": "fcf8222a-8672-4896-a744-f8cd0aece3ec"
      },
      "execution_count": 30,
      "outputs": [
        {
          "output_type": "execute_result",
          "data": {
            "text/plain": [
              "array([[ 1,  2,  3],\n",
              "       [ 4,  5,  6],\n",
              "       [ 7,  8, 99]])"
            ]
          },
          "metadata": {},
          "execution_count": 30
        }
      ]
    },
    {
      "cell_type": "code",
      "source": [
        "np_array2d[2][-1] = 'test'"
      ],
      "metadata": {
        "colab": {
          "base_uri": "https://localhost:8080/",
          "height": 174
        },
        "id": "8QEiGHXQg4C_",
        "outputId": "60e88d62-2286-47e3-ef0a-634fcf26141c"
      },
      "execution_count": 32,
      "outputs": [
        {
          "output_type": "error",
          "ename": "ValueError",
          "evalue": "ignored",
          "traceback": [
            "\u001b[0;31m---------------------------------------------------------------------------\u001b[0m",
            "\u001b[0;31mValueError\u001b[0m                                Traceback (most recent call last)",
            "\u001b[0;32m<ipython-input-32-ed99eeffecdf>\u001b[0m in \u001b[0;36m<module>\u001b[0;34m()\u001b[0m\n\u001b[0;32m----> 1\u001b[0;31m \u001b[0mnp_array2d\u001b[0m\u001b[0;34m[\u001b[0m\u001b[0;36m2\u001b[0m\u001b[0;34m]\u001b[0m\u001b[0;34m[\u001b[0m\u001b[0;34m-\u001b[0m\u001b[0;36m1\u001b[0m\u001b[0;34m]\u001b[0m \u001b[0;34m=\u001b[0m \u001b[0;34m'test'\u001b[0m\u001b[0;34m\u001b[0m\u001b[0;34m\u001b[0m\u001b[0m\n\u001b[0m",
            "\u001b[0;31mValueError\u001b[0m: invalid literal for int() with base 10: 'test'"
          ]
        }
      ]
    },
    {
      "cell_type": "code",
      "source": [
        "np_array2d[2][-1] = '999' # 문자형 숫자는 정수 타입이 변경되서 들어감\n",
        "np_array2d"
      ],
      "metadata": {
        "colab": {
          "base_uri": "https://localhost:8080/"
        },
        "id": "XaQObcG7g6OR",
        "outputId": "dff4a2fb-133d-46e9-8242-701bd289b051"
      },
      "execution_count": 33,
      "outputs": [
        {
          "output_type": "execute_result",
          "data": {
            "text/plain": [
              "array([[  1,   2,   3],\n",
              "       [  4,   5,   6],\n",
              "       [  7,   8, 999]])"
            ]
          },
          "metadata": {},
          "execution_count": 33
        }
      ]
    },
    {
      "cell_type": "code",
      "source": [
        "np_array2d[2][-1] = '99.9' # 문자형 숫자이지만 정수로 변환하지 못하므로 오류"
      ],
      "metadata": {
        "colab": {
          "base_uri": "https://localhost:8080/",
          "height": 174
        },
        "id": "3SC0E6ZvhCG3",
        "outputId": "547283dd-f71f-4fed-f529-e275c7793a93"
      },
      "execution_count": 34,
      "outputs": [
        {
          "output_type": "error",
          "ename": "ValueError",
          "evalue": "ignored",
          "traceback": [
            "\u001b[0;31m---------------------------------------------------------------------------\u001b[0m",
            "\u001b[0;31mValueError\u001b[0m                                Traceback (most recent call last)",
            "\u001b[0;32m<ipython-input-34-a09c36edf635>\u001b[0m in \u001b[0;36m<module>\u001b[0;34m()\u001b[0m\n\u001b[0;32m----> 1\u001b[0;31m \u001b[0mnp_array2d\u001b[0m\u001b[0;34m[\u001b[0m\u001b[0;36m2\u001b[0m\u001b[0;34m]\u001b[0m\u001b[0;34m[\u001b[0m\u001b[0;34m-\u001b[0m\u001b[0;36m1\u001b[0m\u001b[0;34m]\u001b[0m \u001b[0;34m=\u001b[0m \u001b[0;34m'99.9'\u001b[0m \u001b[0;31m# 문자형 숫자이지만 정수로 변환하지 못하므로 오류\u001b[0m\u001b[0;34m\u001b[0m\u001b[0;34m\u001b[0m\u001b[0m\n\u001b[0m",
            "\u001b[0;31mValueError\u001b[0m: invalid literal for int() with base 10: '99.9'"
          ]
        }
      ]
    },
    {
      "cell_type": "code",
      "source": [
        "# 인덱싱\n",
        "print(np_array2d[0, 1])"
      ],
      "metadata": {
        "colab": {
          "base_uri": "https://localhost:8080/"
        },
        "id": "EXTpUnW4hYF2",
        "outputId": "07d3d120-8dcf-441e-8413-97f722211b5a"
      },
      "execution_count": 35,
      "outputs": [
        {
          "output_type": "stream",
          "name": "stdout",
          "text": [
            "2\n"
          ]
        }
      ]
    },
    {
      "cell_type": "code",
      "source": [
        "np_array2d[0, 1] = 112\n",
        "np_array2d"
      ],
      "metadata": {
        "colab": {
          "base_uri": "https://localhost:8080/"
        },
        "id": "bOpKdJ4-kHSA",
        "outputId": "bc67f110-48a0-4dc3-c6fe-7ed5957962a1"
      },
      "execution_count": 36,
      "outputs": [
        {
          "output_type": "execute_result",
          "data": {
            "text/plain": [
              "array([[  1, 112,   3],\n",
              "       [  4,   5,   6],\n",
              "       [  7,   8, 999]])"
            ]
          },
          "metadata": {},
          "execution_count": 36
        }
      ]
    },
    {
      "cell_type": "code",
      "source": [
        "np_array = np.array([[1, 2, 3], [4, 5, 6], [7, 8, 9]])\n",
        "np_array"
      ],
      "metadata": {
        "colab": {
          "base_uri": "https://localhost:8080/"
        },
        "id": "ywFb5ASbk-GO",
        "outputId": "af117ee1-41b7-4f2b-a1aa-8d8ec8b1a2c0"
      },
      "execution_count": 37,
      "outputs": [
        {
          "output_type": "execute_result",
          "data": {
            "text/plain": [
              "array([[1, 2, 3],\n",
              "       [4, 5, 6],\n",
              "       [7, 8, 9]])"
            ]
          },
          "metadata": {},
          "execution_count": 37
        }
      ]
    },
    {
      "cell_type": "code",
      "source": [
        "# 슬라이싱\n",
        "np_array[0:2, 1:3]"
      ],
      "metadata": {
        "colab": {
          "base_uri": "https://localhost:8080/"
        },
        "id": "IWT0keglk_M2",
        "outputId": "9a6f08bf-48a3-44f1-f70c-a9bf0843aeae"
      },
      "execution_count": 38,
      "outputs": [
        {
          "output_type": "execute_result",
          "data": {
            "text/plain": [
              "array([[2, 3],\n",
              "       [5, 6]])"
            ]
          },
          "metadata": {},
          "execution_count": 38
        }
      ]
    },
    {
      "cell_type": "code",
      "source": [
        "# 2차원 배열에서 한 행(1번행)을 슬라이싱한 후, 1번열과 2번열 값을 슬라이싱\n",
        "np_array[1, 1:3]"
      ],
      "metadata": {
        "colab": {
          "base_uri": "https://localhost:8080/"
        },
        "id": "3HrkmmbrmYy-",
        "outputId": "6f68e71f-7770-4816-c258-f72e0c096123"
      },
      "execution_count": 39,
      "outputs": [
        {
          "output_type": "execute_result",
          "data": {
            "text/plain": [
              "array([5, 6])"
            ]
          },
          "metadata": {},
          "execution_count": 39
        }
      ]
    },
    {
      "cell_type": "code",
      "source": [
        "np_array = np.array([[ 1,  2,  3,  4], \n",
        "                     [ 5,  6,  7,  8], \n",
        "                     [ 9, 10, 11, 12], \n",
        "                     [13, 14, 15, 16]])"
      ],
      "metadata": {
        "id": "0blYpcQ4muqW"
      },
      "execution_count": 40,
      "outputs": []
    },
    {
      "cell_type": "code",
      "source": [
        "np_array[0]"
      ],
      "metadata": {
        "colab": {
          "base_uri": "https://localhost:8080/"
        },
        "id": "IAncAhUWnjOg",
        "outputId": "e7a7a1df-0b46-4fbf-b70d-cd45192fbbb8"
      },
      "execution_count": 41,
      "outputs": [
        {
          "output_type": "execute_result",
          "data": {
            "text/plain": [
              "array([1, 2, 3, 4])"
            ]
          },
          "metadata": {},
          "execution_count": 41
        }
      ]
    },
    {
      "cell_type": "code",
      "source": [
        "np_array[1, :]"
      ],
      "metadata": {
        "colab": {
          "base_uri": "https://localhost:8080/"
        },
        "id": "u6OuPMKGnkdA",
        "outputId": "f2c1316b-5629-45b1-c449-5b63694ef5ad"
      },
      "execution_count": 42,
      "outputs": [
        {
          "output_type": "execute_result",
          "data": {
            "text/plain": [
              "array([5, 6, 7, 8])"
            ]
          },
          "metadata": {},
          "execution_count": 42
        }
      ]
    },
    {
      "cell_type": "code",
      "source": [
        "np_array[:, 2]"
      ],
      "metadata": {
        "colab": {
          "base_uri": "https://localhost:8080/"
        },
        "id": "1e5Pqo1NnnpG",
        "outputId": "72ccfa34-f139-41c8-aa86-248859f6d031"
      },
      "execution_count": 43,
      "outputs": [
        {
          "output_type": "execute_result",
          "data": {
            "text/plain": [
              "array([ 3,  7, 11, 15])"
            ]
          },
          "metadata": {},
          "execution_count": 43
        }
      ]
    },
    {
      "cell_type": "code",
      "source": [
        "np_array[:2, 2:4]"
      ],
      "metadata": {
        "colab": {
          "base_uri": "https://localhost:8080/"
        },
        "id": "S-z2uPhCowCv",
        "outputId": "1b50ea37-4e5b-4419-cd31-c0bb148157ea"
      },
      "execution_count": 44,
      "outputs": [
        {
          "output_type": "execute_result",
          "data": {
            "text/plain": [
              "array([[3, 4],\n",
              "       [7, 8]])"
            ]
          },
          "metadata": {},
          "execution_count": 44
        }
      ]
    },
    {
      "cell_type": "code",
      "source": [
        "np_array[::2, ::2]"
      ],
      "metadata": {
        "colab": {
          "base_uri": "https://localhost:8080/"
        },
        "id": "hAMhIY9No1iW",
        "outputId": "1d85c59c-7205-4233-dfc2-d4e31bdf7e44"
      },
      "execution_count": 45,
      "outputs": [
        {
          "output_type": "execute_result",
          "data": {
            "text/plain": [
              "array([[ 1,  3],\n",
              "       [ 9, 11]])"
            ]
          },
          "metadata": {},
          "execution_count": 45
        }
      ]
    },
    {
      "cell_type": "code",
      "source": [
        "np_array[1::2, 1::2]"
      ],
      "metadata": {
        "colab": {
          "base_uri": "https://localhost:8080/"
        },
        "id": "Z6TqdWGqo3Vo",
        "outputId": "c0235e73-62dd-4a19-98ac-6369a7de0c1d"
      },
      "execution_count": 46,
      "outputs": [
        {
          "output_type": "execute_result",
          "data": {
            "text/plain": [
              "array([[ 6,  8],\n",
              "       [14, 16]])"
            ]
          },
          "metadata": {},
          "execution_count": 46
        }
      ]
    },
    {
      "cell_type": "code",
      "source": [
        "# 파이썬 슬라이싱할 때와 numpy 슬라이싱할 때의 결과가 다름\n",
        "np_array[1::2][1::2]"
      ],
      "metadata": {
        "colab": {
          "base_uri": "https://localhost:8080/"
        },
        "id": "ApvDLdzNqQrV",
        "outputId": "6341dca0-86ed-4170-f4f4-15fe2b5f20f1"
      },
      "execution_count": 47,
      "outputs": [
        {
          "output_type": "execute_result",
          "data": {
            "text/plain": [
              "array([[13, 14, 15, 16]])"
            ]
          },
          "metadata": {},
          "execution_count": 47
        }
      ]
    },
    {
      "cell_type": "code",
      "source": [
        "np_array = np.array([[1,2,3], [4,5,6], [7,8,9]])\n",
        "np_array"
      ],
      "metadata": {
        "colab": {
          "base_uri": "https://localhost:8080/"
        },
        "id": "WUDW_2qZqdfm",
        "outputId": "f800b03c-56ec-4f87-94f2-e6b2fa132c6d"
      },
      "execution_count": 48,
      "outputs": [
        {
          "output_type": "execute_result",
          "data": {
            "text/plain": [
              "array([[1, 2, 3],\n",
              "       [4, 5, 6],\n",
              "       [7, 8, 9]])"
            ]
          },
          "metadata": {},
          "execution_count": 48
        }
      ]
    },
    {
      "cell_type": "code",
      "source": [
        "np_array > 5"
      ],
      "metadata": {
        "colab": {
          "base_uri": "https://localhost:8080/"
        },
        "id": "N-yWReScqfSV",
        "outputId": "9c72fee7-345b-4425-de37-cd1931c531dd"
      },
      "execution_count": 49,
      "outputs": [
        {
          "output_type": "execute_result",
          "data": {
            "text/plain": [
              "array([[False, False, False],\n",
              "       [False, False,  True],\n",
              "       [ True,  True,  True]])"
            ]
          },
          "metadata": {},
          "execution_count": 49
        }
      ]
    },
    {
      "cell_type": "code",
      "source": [
        "np_array[np_array > 5]"
      ],
      "metadata": {
        "colab": {
          "base_uri": "https://localhost:8080/"
        },
        "id": "SWJNOzaaqxEe",
        "outputId": "454b9438-eb0c-42b1-ec95-690435f49e21"
      },
      "execution_count": 50,
      "outputs": [
        {
          "output_type": "execute_result",
          "data": {
            "text/plain": [
              "array([6, 7, 8, 9])"
            ]
          },
          "metadata": {},
          "execution_count": 50
        }
      ]
    },
    {
      "cell_type": "code",
      "source": [
        "np_array = np.array([[1,2,3], [4,5,6], [7,8,9]])\n",
        "print(np_array[:, 2])\n",
        "np_array[:, 2] > 5"
      ],
      "metadata": {
        "colab": {
          "base_uri": "https://localhost:8080/"
        },
        "id": "--RvuGLHrtXt",
        "outputId": "674a967f-f6d0-48a8-b8c7-7064804f793f"
      },
      "execution_count": 51,
      "outputs": [
        {
          "output_type": "stream",
          "name": "stdout",
          "text": [
            "[3 6 9]\n"
          ]
        },
        {
          "output_type": "execute_result",
          "data": {
            "text/plain": [
              "array([False,  True,  True])"
            ]
          },
          "metadata": {},
          "execution_count": 51
        }
      ]
    },
    {
      "cell_type": "code",
      "source": [
        "np_array[:] % 2 == 0"
      ],
      "metadata": {
        "colab": {
          "base_uri": "https://localhost:8080/"
        },
        "id": "5ZGe7EWbsSpE",
        "outputId": "74219574-6396-4981-f34b-6d99e3e27f6f"
      },
      "execution_count": 52,
      "outputs": [
        {
          "output_type": "execute_result",
          "data": {
            "text/plain": [
              "array([[False,  True, False],\n",
              "       [ True, False,  True],\n",
              "       [False,  True, False]])"
            ]
          },
          "metadata": {},
          "execution_count": 52
        }
      ]
    },
    {
      "cell_type": "code",
      "source": [
        "x = np.array( [['a', 'b', 'c', 'd'],\n",
        "               ['c', 'c', 'g', 'h']])\n",
        "x"
      ],
      "metadata": {
        "colab": {
          "base_uri": "https://localhost:8080/"
        },
        "id": "U6YDNdwxsvwk",
        "outputId": "49136a2c-e53b-43ef-af9f-2499e85e9d8c"
      },
      "execution_count": 53,
      "outputs": [
        {
          "output_type": "execute_result",
          "data": {
            "text/plain": [
              "array([['a', 'b', 'c', 'd'],\n",
              "       ['c', 'c', 'g', 'h']], dtype='<U1')"
            ]
          },
          "metadata": {},
          "execution_count": 53
        }
      ]
    },
    {
      "cell_type": "code",
      "source": [
        "x[x=='c']"
      ],
      "metadata": {
        "colab": {
          "base_uri": "https://localhost:8080/"
        },
        "id": "BcvrqAwmsxM-",
        "outputId": "af23965b-3026-4698-cdeb-2fc8191229a9"
      },
      "execution_count": 54,
      "outputs": [
        {
          "output_type": "execute_result",
          "data": {
            "text/plain": [
              "array(['c', 'c', 'c'], dtype='<U1')"
            ]
          },
          "metadata": {},
          "execution_count": 54
        }
      ]
    },
    {
      "cell_type": "code",
      "source": [
        "mat_a = np.array( [[10, 20, 30], [10, 20, 30]])\n",
        "mat_b = np.array( [[2, 2, 2], [1, 2, 3]])"
      ],
      "metadata": {
        "id": "j4_u_fH8tIiO"
      },
      "execution_count": 55,
      "outputs": []
    },
    {
      "cell_type": "code",
      "source": [
        "mat_a + mat_b "
      ],
      "metadata": {
        "colab": {
          "base_uri": "https://localhost:8080/"
        },
        "id": "I3Wt-b7BtKNl",
        "outputId": "ab9c8974-729f-4d37-f2a0-4df0af5a3879"
      },
      "execution_count": 56,
      "outputs": [
        {
          "output_type": "execute_result",
          "data": {
            "text/plain": [
              "array([[12, 22, 32],\n",
              "       [11, 22, 33]])"
            ]
          },
          "metadata": {},
          "execution_count": 56
        }
      ]
    },
    {
      "cell_type": "code",
      "source": [
        "# 다른 구조를 갖고있는 두 개의 2차원 배열에 대해서 연산 시 오류 발생한다.\n",
        "mat_a = np.array( [[10, 20, 30], [10, 20, 30], [10, 20, 30]])\n",
        "mat_a + mat_b "
      ],
      "metadata": {
        "colab": {
          "base_uri": "https://localhost:8080/",
          "height": 211
        },
        "id": "2kd-AS-RuCIV",
        "outputId": "61231a99-702c-4840-feb9-a5158303b13b"
      },
      "execution_count": 57,
      "outputs": [
        {
          "output_type": "error",
          "ename": "ValueError",
          "evalue": "ignored",
          "traceback": [
            "\u001b[0;31m---------------------------------------------------------------------------\u001b[0m",
            "\u001b[0;31mValueError\u001b[0m                                Traceback (most recent call last)",
            "\u001b[0;32m<ipython-input-57-f83d279db731>\u001b[0m in \u001b[0;36m<module>\u001b[0;34m()\u001b[0m\n\u001b[1;32m      1\u001b[0m \u001b[0;31m# 다른 구조를 갖고있는 두 개의 2차원 배열에 대해서 연산 시 오류 발생한다.\u001b[0m\u001b[0;34m\u001b[0m\u001b[0;34m\u001b[0m\u001b[0;34m\u001b[0m\u001b[0m\n\u001b[1;32m      2\u001b[0m \u001b[0mmat_a\u001b[0m \u001b[0;34m=\u001b[0m \u001b[0mnp\u001b[0m\u001b[0;34m.\u001b[0m\u001b[0marray\u001b[0m\u001b[0;34m(\u001b[0m \u001b[0;34m[\u001b[0m\u001b[0;34m[\u001b[0m\u001b[0;36m10\u001b[0m\u001b[0;34m,\u001b[0m \u001b[0;36m20\u001b[0m\u001b[0;34m,\u001b[0m \u001b[0;36m30\u001b[0m\u001b[0;34m]\u001b[0m\u001b[0;34m,\u001b[0m \u001b[0;34m[\u001b[0m\u001b[0;36m10\u001b[0m\u001b[0;34m,\u001b[0m \u001b[0;36m20\u001b[0m\u001b[0;34m,\u001b[0m \u001b[0;36m30\u001b[0m\u001b[0;34m]\u001b[0m\u001b[0;34m,\u001b[0m \u001b[0;34m[\u001b[0m\u001b[0;36m10\u001b[0m\u001b[0;34m,\u001b[0m \u001b[0;36m20\u001b[0m\u001b[0;34m,\u001b[0m \u001b[0;36m30\u001b[0m\u001b[0;34m]\u001b[0m\u001b[0;34m]\u001b[0m\u001b[0;34m)\u001b[0m\u001b[0;34m\u001b[0m\u001b[0;34m\u001b[0m\u001b[0m\n\u001b[0;32m----> 3\u001b[0;31m \u001b[0mmat_a\u001b[0m \u001b[0;34m+\u001b[0m \u001b[0mmat_b\u001b[0m\u001b[0;34m\u001b[0m\u001b[0;34m\u001b[0m\u001b[0m\n\u001b[0m",
            "\u001b[0;31mValueError\u001b[0m: operands could not be broadcast together with shapes (3,3) (2,3) "
          ]
        }
      ]
    },
    {
      "cell_type": "code",
      "source": [
        "x = np.array([[ 1.83, 1.76, 1.69, 1.86, 1.77, 1.73 ],   \n",
        "              [ 86.0, 74.0, 59.0, 95.0, 80.0, 68.0 ]])"
      ],
      "metadata": {
        "id": "BipXbhvvuJQ1"
      },
      "execution_count": 58,
      "outputs": []
    },
    {
      "cell_type": "code",
      "source": [
        "y = x[0:2, 1:3]\n",
        "y"
      ],
      "metadata": {
        "colab": {
          "base_uri": "https://localhost:8080/"
        },
        "id": "-W-fqJ9xu7iw",
        "outputId": "c84b4166-d2f3-4e54-f391-19da34df7b96"
      },
      "execution_count": 59,
      "outputs": [
        {
          "output_type": "execute_result",
          "data": {
            "text/plain": [
              "array([[ 1.76,  1.69],\n",
              "       [74.  , 59.  ]])"
            ]
          },
          "metadata": {},
          "execution_count": 59
        }
      ]
    },
    {
      "cell_type": "code",
      "source": [
        "z = x[0:2][1:3]\n",
        "z"
      ],
      "metadata": {
        "colab": {
          "base_uri": "https://localhost:8080/"
        },
        "id": "CqigPj08u-uU",
        "outputId": "5e90e7e2-dd7e-49b9-f33a-ed5960eccf89"
      },
      "execution_count": 60,
      "outputs": [
        {
          "output_type": "execute_result",
          "data": {
            "text/plain": [
              "array([[86., 74., 59., 95., 80., 68.]])"
            ]
          },
          "metadata": {},
          "execution_count": 60
        }
      ]
    },
    {
      "cell_type": "code",
      "source": [
        "print('x shape :', x.shape)\n",
        "print('y shape :', y.shape)\n",
        "print('z shape :', z.shape)"
      ],
      "metadata": {
        "colab": {
          "base_uri": "https://localhost:8080/"
        },
        "id": "f_WeyLNFvBzl",
        "outputId": "bb50572f-2618-46c3-b8ee-524c1bbdee97"
      },
      "execution_count": 61,
      "outputs": [
        {
          "output_type": "stream",
          "name": "stdout",
          "text": [
            "x shape : (2, 6)\n",
            "y shape : (2, 2)\n",
            "z shape : (1, 6)\n"
          ]
        }
      ]
    },
    {
      "cell_type": "code",
      "source": [
        "bmi = x[1] / x[0] ** 2\n",
        "bmi"
      ],
      "metadata": {
        "colab": {
          "base_uri": "https://localhost:8080/"
        },
        "id": "3ya4Vrutvi8t",
        "outputId": "2c00c3a3-0dd1-4407-c410-340fc03282bb"
      },
      "execution_count": 62,
      "outputs": [
        {
          "output_type": "execute_result",
          "data": {
            "text/plain": [
              "array([25.68007405, 23.88946281, 20.65754   , 27.45982194, 25.53544639,\n",
              "       22.72043837])"
            ]
          },
          "metadata": {},
          "execution_count": 62
        }
      ]
    },
    {
      "cell_type": "code",
      "source": [
        "# 2 차원 배열에서 특정 조건에 맞는 행만 추출\n",
        "players = [[170, 76.4], \n",
        "           [183, 86.2], \n",
        "           [181, 78.5], \n",
        "           [176, 80.1]]\n",
        "players = np.array(players)"
      ],
      "metadata": {
        "id": "uRJCcjUlv-wM"
      },
      "execution_count": 63,
      "outputs": []
    },
    {
      "cell_type": "code",
      "source": [
        "players[players[:, 1] >= 80]"
      ],
      "metadata": {
        "colab": {
          "base_uri": "https://localhost:8080/"
        },
        "id": "Owsc6LDJwj31",
        "outputId": "6ac36e96-f44d-4621-8a2f-398ee91609a9"
      },
      "execution_count": 64,
      "outputs": [
        {
          "output_type": "execute_result",
          "data": {
            "text/plain": [
              "array([[183. ,  86.2],\n",
              "       [176. ,  80.1]])"
            ]
          },
          "metadata": {},
          "execution_count": 64
        }
      ]
    },
    {
      "cell_type": "code",
      "source": [
        "players[players[:, 0] >= 180]"
      ],
      "metadata": {
        "colab": {
          "base_uri": "https://localhost:8080/"
        },
        "id": "IDcstO9wza_k",
        "outputId": "8d72b501-b63b-4f92-e2e3-306878286b53"
      },
      "execution_count": 65,
      "outputs": [
        {
          "output_type": "execute_result",
          "data": {
            "text/plain": [
              "array([[183. ,  86.2],\n",
              "       [181. ,  78.5]])"
            ]
          },
          "metadata": {},
          "execution_count": 65
        }
      ]
    },
    {
      "cell_type": "code",
      "source": [
        "a_range = np.arange(0, 5, 1)\n",
        "a_range"
      ],
      "metadata": {
        "colab": {
          "base_uri": "https://localhost:8080/"
        },
        "id": "ds8Hx7tW0fMj",
        "outputId": "eed2e4e9-5532-46c8-e4e2-a209dcabb990"
      },
      "execution_count": 66,
      "outputs": [
        {
          "output_type": "execute_result",
          "data": {
            "text/plain": [
              "array([0, 1, 2, 3, 4])"
            ]
          },
          "metadata": {},
          "execution_count": 66
        }
      ]
    },
    {
      "cell_type": "code",
      "source": [
        "a_range = np.arange(5)\n",
        "a_range"
      ],
      "metadata": {
        "colab": {
          "base_uri": "https://localhost:8080/"
        },
        "id": "TEjjvYAl0j79",
        "outputId": "5e5e38dc-a353-460a-bff1-87839023f537"
      },
      "execution_count": 67,
      "outputs": [
        {
          "output_type": "execute_result",
          "data": {
            "text/plain": [
              "array([0, 1, 2, 3, 4])"
            ]
          },
          "metadata": {},
          "execution_count": 67
        }
      ]
    },
    {
      "cell_type": "code",
      "source": [
        "a_range = np.arange(5, 15)\n",
        "a_range"
      ],
      "metadata": {
        "colab": {
          "base_uri": "https://localhost:8080/"
        },
        "id": "4RarGA2X0n3T",
        "outputId": "924da830-fb75-48b3-eabf-b12b78f897e1"
      },
      "execution_count": 68,
      "outputs": [
        {
          "output_type": "execute_result",
          "data": {
            "text/plain": [
              "array([ 5,  6,  7,  8,  9, 10, 11, 12, 13, 14])"
            ]
          },
          "metadata": {},
          "execution_count": 68
        }
      ]
    },
    {
      "cell_type": "code",
      "source": [
        "a_range = np.arange(5, 15, 3)\n",
        "a_range"
      ],
      "metadata": {
        "colab": {
          "base_uri": "https://localhost:8080/"
        },
        "id": "El2KgZtV01TT",
        "outputId": "c64ba98a-0107-4c6d-e173-b7483f571bd6"
      },
      "execution_count": 69,
      "outputs": [
        {
          "output_type": "execute_result",
          "data": {
            "text/plain": [
              "array([ 5,  8, 11, 14])"
            ]
          },
          "metadata": {},
          "execution_count": 69
        }
      ]
    },
    {
      "cell_type": "code",
      "source": [
        "# 균일간격으로 데이터 생성 : linspace(start, stop, num=개수(default=50)) / logspace(start, stop, num=개수(default=50))\n",
        "# linspace : 일반 숫자를 균일하게\n",
        "# logspace : 로그값으로 균일하게\n",
        "space1 = np.linspace(0, 10, 10)\n",
        "space1"
      ],
      "metadata": {
        "colab": {
          "base_uri": "https://localhost:8080/"
        },
        "id": "sP-dUmlW2nIU",
        "outputId": "cdaeb736-c49e-4446-fa46-c6aaaadea533"
      },
      "execution_count": 70,
      "outputs": [
        {
          "output_type": "execute_result",
          "data": {
            "text/plain": [
              "array([ 0.        ,  1.11111111,  2.22222222,  3.33333333,  4.44444444,\n",
              "        5.55555556,  6.66666667,  7.77777778,  8.88888889, 10.        ])"
            ]
          },
          "metadata": {},
          "execution_count": 70
        }
      ]
    },
    {
      "cell_type": "code",
      "source": [
        "space2 = np.logspace(0, 10, 10)\n",
        "space2"
      ],
      "metadata": {
        "colab": {
          "base_uri": "https://localhost:8080/"
        },
        "id": "PRdFEa5G3xGs",
        "outputId": "c12e1a4f-7af9-42ae-8ee7-43b0341aab31"
      },
      "execution_count": 71,
      "outputs": [
        {
          "output_type": "execute_result",
          "data": {
            "text/plain": [
              "array([1.00000000e+00, 1.29154967e+01, 1.66810054e+02, 2.15443469e+03,\n",
              "       2.78255940e+04, 3.59381366e+05, 4.64158883e+06, 5.99484250e+07,\n",
              "       7.74263683e+08, 1.00000000e+10])"
            ]
          },
          "metadata": {},
          "execution_count": 71
        }
      ]
    },
    {
      "cell_type": "code",
      "source": [
        "# 배열의 형태 바꾸기 : reshape()\n",
        "# 배열의 데이터 개수는 유지.\n",
        "# 배열의 차원과 형태를 변경.\n",
        "# 튜플 형태로 전달하는 것을 원칙\n",
        "y = np.arange(12)\n",
        "y"
      ],
      "metadata": {
        "colab": {
          "base_uri": "https://localhost:8080/"
        },
        "id": "zkevPQsK4yUr",
        "outputId": "e5c3d75c-cb76-4875-de3e-be2929a6e470"
      },
      "execution_count": 72,
      "outputs": [
        {
          "output_type": "execute_result",
          "data": {
            "text/plain": [
              "array([ 0,  1,  2,  3,  4,  5,  6,  7,  8,  9, 10, 11])"
            ]
          },
          "metadata": {},
          "execution_count": 72
        }
      ]
    },
    {
      "cell_type": "code",
      "source": [
        "y_reshape = y.reshape((3, 4))\n",
        "y_reshape"
      ],
      "metadata": {
        "colab": {
          "base_uri": "https://localhost:8080/"
        },
        "id": "zfzkRtqL5Og0",
        "outputId": "7d4ea289-82f4-4c2c-9dc2-70b2fe72aaed"
      },
      "execution_count": 73,
      "outputs": [
        {
          "output_type": "execute_result",
          "data": {
            "text/plain": [
              "array([[ 0,  1,  2,  3],\n",
              "       [ 4,  5,  6,  7],\n",
              "       [ 8,  9, 10, 11]])"
            ]
          },
          "metadata": {},
          "execution_count": 73
        }
      ]
    },
    {
      "cell_type": "code",
      "source": [
        "y_reshape = y.reshape((-1, 4))\n",
        "y_reshape"
      ],
      "metadata": {
        "colab": {
          "base_uri": "https://localhost:8080/"
        },
        "id": "SGwj_jwJ5SVL",
        "outputId": "62722a63-a403-4b80-d978-dbc9002766e7"
      },
      "execution_count": 74,
      "outputs": [
        {
          "output_type": "execute_result",
          "data": {
            "text/plain": [
              "array([[ 0,  1,  2,  3],\n",
              "       [ 4,  5,  6,  7],\n",
              "       [ 8,  9, 10, 11]])"
            ]
          },
          "metadata": {},
          "execution_count": 74
        }
      ]
    },
    {
      "cell_type": "code",
      "source": [
        "y_reshape = y.reshape((3, -1))\n",
        "y_reshape"
      ],
      "metadata": {
        "colab": {
          "base_uri": "https://localhost:8080/"
        },
        "id": "w_2mZmei5UPu",
        "outputId": "c208981c-d1ad-4cfe-81e0-8707cfa0df7b"
      },
      "execution_count": 75,
      "outputs": [
        {
          "output_type": "execute_result",
          "data": {
            "text/plain": [
              "array([[ 0,  1,  2,  3],\n",
              "       [ 4,  5,  6,  7],\n",
              "       [ 8,  9, 10, 11]])"
            ]
          },
          "metadata": {},
          "execution_count": 75
        }
      ]
    },
    {
      "cell_type": "code",
      "source": [
        "y_reshape = y.reshape((-1,))\n",
        "y_reshape"
      ],
      "metadata": {
        "colab": {
          "base_uri": "https://localhost:8080/"
        },
        "id": "29rU2D595ZuK",
        "outputId": "f3a9198a-b9e4-419e-f015-4568c876c281"
      },
      "execution_count": 76,
      "outputs": [
        {
          "output_type": "execute_result",
          "data": {
            "text/plain": [
              "array([ 0,  1,  2,  3,  4,  5,  6,  7,  8,  9, 10, 11])"
            ]
          },
          "metadata": {},
          "execution_count": 76
        }
      ]
    },
    {
      "cell_type": "code",
      "source": [
        "# 2차원 배열을 1차원 배열로 변환 : flattern()\n",
        "y = np.arange(12)\n",
        "y_reshape = y.reshape(6,-1)\n",
        "y_reshape.flatten()"
      ],
      "metadata": {
        "colab": {
          "base_uri": "https://localhost:8080/"
        },
        "id": "1BmlaIOL6bB_",
        "outputId": "9f5cebdf-c72d-4afd-ef3e-c9166a1b0077"
      },
      "execution_count": 77,
      "outputs": [
        {
          "output_type": "execute_result",
          "data": {
            "text/plain": [
              "array([ 0,  1,  2,  3,  4,  5,  6,  7,  8,  9, 10, 11])"
            ]
          },
          "metadata": {},
          "execution_count": 77
        }
      ]
    },
    {
      "cell_type": "markdown",
      "source": [
        "#### numpy 난수\n",
        "1. rand() : 0과 1사이의 실수 값을 이용하여 무작위로 추출된 임의의 수로 이루어진 행렬을 반환\n",
        "2. randint() : 지정한 범위 내에서 정수값을 무작위로 추출된 임의의 수로 이루어진 행렬을 반환\n",
        "3. seed() : 동일한 임의의 수를 생성할때 지정(임의의 + 값으로 설정)\n",
        "4. randn() : 맨 마지막 n은 정규분포를 의미. 정규분포를 가진 임의의 수들로 구성된 행렬을 반환\n",
        "5. choice() : 주어진 1차원 배열(행렬)로부터 임의의 수를 샘플링하는 수"
      ],
      "metadata": {
        "id": "_3T_J4J_ScTH"
      }
    },
    {
      "cell_type": "code",
      "source": [
        "np.random.rand()"
      ],
      "metadata": {
        "colab": {
          "base_uri": "https://localhost:8080/"
        },
        "id": "WwcxQYSwQUro",
        "outputId": "6bbe6205-3647-43fc-fed1-3ec240b7c6a4"
      },
      "execution_count": 78,
      "outputs": [
        {
          "output_type": "execute_result",
          "data": {
            "text/plain": [
              "0.6128456466576105"
            ]
          },
          "metadata": {},
          "execution_count": 78
        }
      ]
    },
    {
      "cell_type": "code",
      "source": [
        "np.random.rand(5)"
      ],
      "metadata": {
        "colab": {
          "base_uri": "https://localhost:8080/"
        },
        "id": "ZY-NG6rGTFAw",
        "outputId": "8aa85006-7e19-459b-866a-5bbcfb419d29"
      },
      "execution_count": 79,
      "outputs": [
        {
          "output_type": "execute_result",
          "data": {
            "text/plain": [
              "array([0.03538661, 0.81833251, 0.41090158, 0.43235835, 0.29807149])"
            ]
          },
          "metadata": {},
          "execution_count": 79
        }
      ]
    },
    {
      "cell_type": "code",
      "source": [
        "np.random.rand(4, 3)"
      ],
      "metadata": {
        "colab": {
          "base_uri": "https://localhost:8080/"
        },
        "id": "rdxSv2tfUkF6",
        "outputId": "963473db-955f-48be-e2d3-ad72445f1d54"
      },
      "execution_count": 80,
      "outputs": [
        {
          "output_type": "execute_result",
          "data": {
            "text/plain": [
              "array([[0.66447494, 0.36981547, 0.73243443],\n",
              "       [0.00942015, 0.82938308, 0.5759432 ],\n",
              "       [0.25405742, 0.29156356, 0.38370103],\n",
              "       [0.97033341, 0.64432445, 0.11235236]])"
            ]
          },
          "metadata": {},
          "execution_count": 80
        }
      ]
    },
    {
      "cell_type": "code",
      "source": [
        "np.random.rand(2, 3, 4)"
      ],
      "metadata": {
        "colab": {
          "base_uri": "https://localhost:8080/"
        },
        "id": "47CUKKb2Ul1e",
        "outputId": "cb21590b-c471-40b5-ffdd-e027b3e25a18"
      },
      "execution_count": 81,
      "outputs": [
        {
          "output_type": "execute_result",
          "data": {
            "text/plain": [
              "array([[[0.92070043, 0.76878218, 0.19808996, 0.16426469],\n",
              "        [0.26687815, 0.96296232, 0.97957045, 0.43098847],\n",
              "        [0.07409131, 0.04184299, 0.2262054 , 0.04189157]],\n",
              "\n",
              "       [[0.46010039, 0.66465901, 0.18010516, 0.83555238],\n",
              "        [0.83994049, 0.62152363, 0.52321314, 0.28776785],\n",
              "        [0.07699769, 0.23011258, 0.81011391, 0.42350707]]])"
            ]
          },
          "metadata": {},
          "execution_count": 81
        }
      ]
    },
    {
      "cell_type": "code",
      "source": [
        "np.random.seed(3) # 추출된 난수 고정\n",
        "np.random.rand(5)"
      ],
      "metadata": {
        "colab": {
          "base_uri": "https://localhost:8080/"
        },
        "id": "4zd4uz7tTGB3",
        "outputId": "99b95d24-b6bc-4c55-f350-8268f1827848"
      },
      "execution_count": 82,
      "outputs": [
        {
          "output_type": "execute_result",
          "data": {
            "text/plain": [
              "array([0.5507979 , 0.70814782, 0.29090474, 0.51082761, 0.89294695])"
            ]
          },
          "metadata": {},
          "execution_count": 82
        }
      ]
    },
    {
      "cell_type": "code",
      "source": [
        "np.random.seed(3)\n",
        "np.random.rand(5)"
      ],
      "metadata": {
        "colab": {
          "base_uri": "https://localhost:8080/"
        },
        "id": "pO_kkHPITL-X",
        "outputId": "a4ceab9b-657f-43c4-ea7b-567cbef4de4b"
      },
      "execution_count": 83,
      "outputs": [
        {
          "output_type": "execute_result",
          "data": {
            "text/plain": [
              "array([0.5507979 , 0.70814782, 0.29090474, 0.51082761, 0.89294695])"
            ]
          },
          "metadata": {},
          "execution_count": 83
        }
      ]
    },
    {
      "cell_type": "code",
      "source": [
        "# randint(범위)\n",
        "# 범위 : 시작, 끝, 차원\n",
        "# 1 ~ 7까지의 숫자 중에 임의의 수를 1차원 배열로 10개의 수 추출\n",
        "np.random.randint(1, 7, 10)"
      ],
      "metadata": {
        "colab": {
          "base_uri": "https://localhost:8080/"
        },
        "id": "v1YcDPEPT3df",
        "outputId": "5a5c602c-ef03-4502-f8ac-e4bd4c8b9a72"
      },
      "execution_count": 84,
      "outputs": [
        {
          "output_type": "execute_result",
          "data": {
            "text/plain": [
              "array([3, 4, 2, 2, 3, 6, 1, 5, 5, 6])"
            ]
          },
          "metadata": {},
          "execution_count": 84
        }
      ]
    },
    {
      "cell_type": "code",
      "source": [
        "np.random.randint(1, 11, size=(4,7))"
      ],
      "metadata": {
        "colab": {
          "base_uri": "https://localhost:8080/"
        },
        "id": "dYxX6L6_UaXP",
        "outputId": "fb03949c-1656-48b8-d9b6-95f08a52b548"
      },
      "execution_count": 85,
      "outputs": [
        {
          "output_type": "execute_result",
          "data": {
            "text/plain": [
              "array([[ 8,  9,  2,  7,  3,  3,  2],\n",
              "       [ 4,  6,  9,  2,  9,  8,  9],\n",
              "       [ 2,  1,  6,  5,  2,  6,  5],\n",
              "       [ 8,  7,  1,  1, 10,  3,  5]])"
            ]
          },
          "metadata": {},
          "execution_count": 85
        }
      ]
    },
    {
      "cell_type": "markdown",
      "source": [
        "### 정규 분포\n",
        "\n",
        "![image.png](data:image/png;base64,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)"
      ],
      "metadata": {
        "id": "QPYKqDEqVrvV"
      }
    },
    {
      "cell_type": "markdown",
      "source": [
        "### 확률 분포\n",
        "\n",
        "* 평균에서 가장 높고, 평균에서 멀어질수록 발생확률이 낮아진다.\n",
        "* 표준편차가 클수록 데이터의 흩어짐이 크기 때문에, 발생활률은 평평하게 펴진 상태에 접근하게 된다."
      ],
      "metadata": {
        "id": "csFkX_YbWUSu"
      }
    },
    {
      "cell_type": "code",
      "source": [
        "# 정규 분포 : 데이터의 분포도 = 대칭 형태(종 모양)\n",
        "np.random.randn(5)"
      ],
      "metadata": {
        "colab": {
          "base_uri": "https://localhost:8080/"
        },
        "id": "y1kWorquUiu3",
        "outputId": "7da8e784-ff1f-4d37-9537-397ae555a53d"
      },
      "execution_count": 86,
      "outputs": [
        {
          "output_type": "execute_result",
          "data": {
            "text/plain": [
              "array([-0.76883635, -0.23003072,  0.74505627,  1.97611078, -1.24412333])"
            ]
          },
          "metadata": {},
          "execution_count": 86
        }
      ]
    },
    {
      "cell_type": "code",
      "source": [
        "np.random.randn(5, 4)"
      ],
      "metadata": {
        "colab": {
          "base_uri": "https://localhost:8080/"
        },
        "id": "g8JkxZxjW-pu",
        "outputId": "9a54dac0-3a6d-4ff2-d122-fc2cc04c461a"
      },
      "execution_count": 87,
      "outputs": [
        {
          "output_type": "execute_result",
          "data": {
            "text/plain": [
              "array([[-0.62641691, -0.80376609, -2.41908317, -0.92379202],\n",
              "       [-1.02387576,  1.12397796, -0.13191423, -1.62328545],\n",
              "       [ 0.64667545, -0.35627076, -1.74314104, -0.59664964],\n",
              "       [-0.58859438, -0.8738823 ,  0.02971382, -2.24825777],\n",
              "       [-0.26776186,  1.01318344,  0.85279784,  1.1081875 ]])"
            ]
          },
          "metadata": {},
          "execution_count": 87
        }
      ]
    },
    {
      "cell_type": "markdown",
      "source": [
        "* 왜도(편포도) : 요약 분포가 대칭을 벗어나 한쪽으로 치우진 정도\n",
        "\n",
        "###분포의 평태\n",
        "1. 균등 분포 : 점수가 고르게 분포되어 있는 형태\n",
        "2. 대칭 분포 : 점수가 좌우 대칭적인 곡선으로 분포되어 있는 형태\n",
        "3. 편포 : 한쪽으로 치우친 형태\n",
        "\n",
        "편포에서는 가장 빈번하게 발생하는 수치들이 중앙에 모여있지 않고, 대신 분포의 낮거나, 높은 쪽에 편중되어 모여 있다.\n",
        "\n",
        "* 편포\n",
        "1. 정적 편호\n",
        "    * 분포의 꼬리가 높은 점수쪽으로 뻗어있고, 분포의 낮은 점수쪽에 몰려있는 형태\n",
        "2. 부적 편포\n",
        "    * 분포의 꼬리가 점수의 낮은 쪽으로 뻗어있고, 분포의 높은 점수쪽에 점수가 몰려있는 형태\n",
        "\n",
        "* 편포도 : 평균, 중앙값, 최빈값 (집중경향치)를 알아보는 것\n",
        "* 평균 : 극단적으로 높거나, 낮은 점수들에 영향을 받기 때문에, 극단적인 점수가 발견되는 분포의 지역을 향해 끌려가는 형태\n",
        "* 중앙값 : 한 가운데 값, 극단적인 값들에 영향을 받지 않고, 대신 점수들의 위치에 영향을 받는다.\n",
        "* 최빈값 : 극단적인 값에 영향을 받지 않으며, 최빈값은 분포의 어느 양 끝에 의해서도 영향을 받지 않는다.\n",
        "\n",
        "\n",
        "부적 편포 : 평균 < 중앙값 < 최빈값\n",
        "\n",
        "![부적편포_예.PNG](data:image/png;base64,iVBORw0KGgoAAAANSUhEUgAAAZIAAAD/CAYAAADbn1DKAAAAAXNSR0IArs4c6QAAAARnQU1BAACxjwv8YQUAAAAJcEhZcwAADsMAAA7DAcdvqGQAAJYOSURBVHhe7b3nm11VlubZ/8s886Gf+dIfqnt6putpUzVdLquSSpK0JOlJCyTeI+E9CIQRAiSMvPfee+9NyLuQFD7i3rjernl/694duhKSICMUhAL2K604556zz3Znn/Xute1/sP/wHyxKlChRokTpr9SIJCIiIiIioj+IRBIRERERMSBEIomIiIiIGBAikUREREREDAiRSCIiIiIiBoRIJBERERERA0IkkoiIiIiIASESSURERETEgBCJJCIiIiJiQIhEEhERERExIEQiiYiIiIgYECKRREREREQMCJFIIiIiIiIGhEgkEREREREDQiSSiIiIiIgBYbgTSVdXl1Uqlfovs3K5bKVSyQqFglWr1frViIiIiIhBw3Amko6ODhs/frwfIZBcLuekEiQSSURERMTXgOFMJD09Pfb73//eOjs7nTgymYyTBxZJJJGIiIiIrwnDmUiwQu68805Lp9NOHEGKxWIkk4iIiIivC8OZSLq7u+2+++6z3t7ePjIJzVqQTCSSiIiIiK8Bw5lILl68aCNGjPAOd0gFAsnn832WSSSSiIiIiK8Bw90iefLJJy2ZTHpzViCS2KwVERER8TViOBMJTVp//vOf/RhIhGG/kEokkoiIiIivCcOZSBi1FfpIIA5IBEIJzVqRTCIiIiK+Bgx3Irn//vv7iKTREolEEhEREfE1IRJJRERERMSAEIkkIiIiImJAiEQSERERETEgRCKJiIiIiBgQIpFERERERAwIkUgiIiIiIgaESCQREREREQNCJJKIiIiIiAEhEklERERExIAQiSQiIiIiYkCIRBIRERERMSBEIomIiIiIGBAikUREREREDAiRSCIiIiIiBoRIJBERERERA0IkkoiIiIiIASESSURERETEgBCJJCIiIiJiQIhEEhERERExIEQiiYiIiIgYECKRREREREQMCJFI+g98b5RLqFxDaq4uPVPpk7JLVXLJZaOfwT3uSn1SlZiLP3PJ4y9KRERExGAhEkn/gM9BiSNlXah4mKKCSlFSqAvniFzpnlw4WSD5Sl6Ss1w1bzkrSsqSimV1zJTyVqpAMvJfz+blV75acHdpSUqSVMhJ3EoKkkpFvhYVTqEuJeIiiqleIqzLhOv1fLqWRERERHwpIpH0D/gMeSClPinrt+LgBJKriQjBSvpd5lpJbiqW19NISW4rIod8NWepSsZ6K1lL6RpEUpBfpZKsjkLRpSwyKupejUgK1iVXCSeUGpHkJWWIyolMUpZAJBz1u4rU71cQiCcSSURExI1AJJJ+Ql6js5GyKv1FhYUyz0u5F0QOZVkZVVkcl4hEpCFlXpDyTuvhjKSg6xXdr1ZLTgJl3SvLH7dbiL/YqVqsC+cVyAerpWC91awV8VNEUSOnikilasoJ3ataWgIZcd8JpShfEZ0TDyeTSCQRERE3ApFI+gm8ln5GKlLwRSlmSKTWRFXwf1URirnQrFUjCSyRtB7LSHI5qf+8iEbK3uOra+j8Ur1ljEfljRxKsrqflx9yUJB/SLnGYDrKXz3fK2c98gWBULBUirKCqiWFT5NXXarlkuKMRCKJiIi4AYhE0k/IaywESIQavlsUIhFENknDPyl9WQuiFUmNFwp6lqYwiKBaV+ZFcUJeJJKDSHQuLy8RCVK3SsoKryD3OfkHeeAP3SCI+EGiayKWgi5ksX4Ur7RIJyOhj6UkhqrKEqqSVx7+5cRxpURERER8KSKR9A/4nMcKgUAkNBVVKwq/LvRn5EUiGZEITVlZuYcPAkFUZWVUk9L8CbnvlULPiJDoVpGBUpW5UsW86JJ0S5KSlETXKimF2VuwdK/snwJhyq0sGPdczyLuv8iE5rasN3khxIU+GpEI/TWYPVhCkUgiIiIGikgk/YMowDu6e93+qJGHFRDdkVSlpPNYBCIReIDmLEXPqjBKQtKJKH5dkhbJeTFCs1jmtJR8k3ze3WnV3XK4TwxySA8d08OnpPgvVqzSKUmIfHr0HH6FAGgvg0wgFQgLK0VEUVI+lHSBkV2iEv2W5STBkopEEhERMWBEIukfmMfB0FtGTtE3Ui3XSYT2qbw0eIH+jKqfZvmp2xUp+yoWRqukWXKw11IrjtnBscttyZPjbdJdo+zTO1+xT3/1sn12x4s24fYXbOrPXrZZv37dFt/9vm0cMckOj1luHfP3W3HTOZGLCOYMBKR0tsm/HgmEApkoPNjOO+llnbg4aUAmNMMFS6qWT9eSiIiIiC9FJJL+ASJhPkdbPmE5mrNQ0OmclXqyVs1JuecUvvQ8TVUVGRVVWSBVlP3JnLUsOmRrXphiH90+wsbc9oh98MPHbOyPn7BPfvWCzbn3PVs3YrLtemGe7X9+gS25812b+L0RNluE8umtT9jYWx6y9259yN655X6bfMeztnXkROuascvKO1rkt1ikQ0SGZYJVIjIppfJW8Y4X/c8UrOLNYVURm+yT0MkvaTxH8vm8leikj4iIiPgyRCLpH+S71+oLIpFkttc6urusILOjUqqISBQuTVitOVkKIpV2nTel7MT0bTb70TH29k8fs1f+/V6beu8oW//qNDs2caO1yTLp3nHRknu7LLMrYfmNHVbY0GXNn263o6OXW/u8Juucc9AuTN1uBz9aYZten27Tf/eSiOV+e/tf7rKP73jSVr88wS4s2WPFI2KtFkUgIXLoKVm1VzFNFq2c1rn39IvcyrURYJAF+ZbL5RT/S+QSRnRFREREfCkikfQT8rpalLKVZDIZS2aylmWkFE1ZCRFKCgKRNOWsY8ZuW/jnt+z1f/yTvfuTx23lmzPszMoD1rPvomVO9FjpoqyYTlkN9HnQqZ7UsVvPtlbs3Kqj1jR7p6WPJURK8re9YMXmjKWPdlj3/gvWvHK/7Rg732be+4a982932eh/+L0t/OOrdvbjFVZcd8LsRK/8EjkoPtW8CEJWSrI7LYtDfil/IAzIA0IJpMIxkkhERMRXRiSSfkJ63jKq2ndnrZKvzelIFcuWUY2/lJPSbitbfvN52/L0JPvoH++1ybc+YXtenmktSw9Z5liPVRJS1pm6ctczuYy8E4lk02Y5HYviDZrEDq09aOumrrbOpnarQDZppSmjtBFGoWKVdNHy51OW2N9mbQv226GXZ9iSnz1nn/z9n2z+Hc/agTfnWHrTGVkoYhD5XdTznZ0iopyIREmARCCTYIE0ksqg5l9ERMQ3B5FI+gm0ME1YIgSDEEQExV4p4qyIRBbG3mnrbcztT9nHtz5qmx8db62LjlnhqOLZnLNsa9aKWSlwmS80NTFfEUvB54Ho2NevImOiae0B2zpzrSVOd8mqUHiEyQRFuU1nC04IRfzpUYQu5K24v8OSiw5Z2werbM2vX7NP//4em/bDkbbt5enWKQul1J6XNVKxdLFq2ZIILJf3Zq1AHEgjsURERER8KSKR9BMQCaOjZB1Yt7R6j8JLmnXtarblr0+1d38x0ib+4VU7OnalZba3WeVYxipnMyKHkoiC5iQp7PqIqrIsmmw6LynqXB6LTNxv+XlkzV7bMXud9Z7t8XkkHl5a4ckaKcoKylWUbjrPIaa0LJaEnsf6ONBjqTkHbcM9H9hn33nIxt3yqE3/0yjbMX6Vde5ts2In8SAOlb4mLfpIAoEMev5FRER8cxCJpH/A65yUfgULoUsKvLlo2fWnbfVj4+2DWx6xuX9+287P2W/Fw4ob/R2yWopS9D09aetJpq1QrDUfee1fhAApID7voyC/kwUr95btyOb9tnX+GkueahdhiV1oTisoPEgkm3OLosRzIqWiyKWERSTLpaI4VVvzltnfbp0rT9r+MStt8i9fsTHfedRW3fWR9cw+bIVjXVbozXkciAsjtUIehiaviIiIiC/Ft5pIuB2k4bQmqpn3Sd1BA5jsV2HZEiluJha2Ljlos37/mn30Lw/YzpFTrGvdWSszubC96n0eMhi8Iz5TKlte4oQh5c2qvqyblSuzfhZ7jMhfeCIngkmJSLYcsK2L1lrybKdZqmaJsIZKkVWBRUYV+QURofNL8jNbrDVb5SAWHStYMD0Vy5/MWNeaM7b/5QU269+ftgn/+phtHz3HWncdt0JXVumoWEEWUak+PLgsf/DXk15P/qX8IJaSqiJKHgc3l7m96uUarnoxIiJi2OJbSyTcogkJkU5EEUvvWm1NrNqKWcxZT+dTUvayHqTdQ9NPPqcjTVBMLjxvdmHeXvv0V8/aqFvusz2j51v6QJtVL0rJ0hQlI4LVSHCO38wyry2nQo2/NsO8KCJhpd4iRKI4uH7WM9V01Zo27bMtWCQQSboWSW8OgzxIXz2dnOqu/KuFISfW3ZO0zRu2WNvZNrOkPJWFUjiesDMLdtj8R9+z9753v83806t2ZtZ2K51LWyWp57BmxH9YWgwCKGVFdiIv1gQrVgsS1hlmqHBSpJOuJU5k5sLQYdLFnBrlIXNtSqRZoju1yY8iKY+cnHuEdRoRETHMEYlEchmR1JYSgUYy5Yzly3kdc9aT7rWiN0VJIYoVvHP7RMnap+y2mb96yT7+yZN2cPwKyx7tsmqbNDF9FShkdKxOa8od8kDZKlAJxwrLlSgCrnjdjaJGhV/PMsqqaaOIZJ6I5AwWiW5CMPKTpJGEq4r+IOfOnLXXX37V9u/ZX0scbJZXPnWnrV2WyIH3F9mM21+wsd973Na/MceSezut2q5neyQK29fs8sEASrMspnw5K4OIFbvSyouElUsMA5MjVhW+BpEolS6RSCIivsH4VhMJClvio6ak1NBvvk8HCrFctHxJRKKbnVKYSdW8WQQxl8jU5oicL9rF6bts+s9fsI9ue8yOj1/jtX0nGFkOlYxECrhGIuhNFGlN0daGZxFojUiot6N4sSbQs41EckREstWJpOsrEYmj/uPMyVP25quv2cE9+6wsK6qQzvqxkslbOSnr5ETSWufvt+WPjrcPb3vS5tzznl2cs88qp3JmHYp3l2LG/BMPU3FTfAuVrJKXsqyYpuz7reimCBYSuZxISFWNSKJFEhHxDce3mUggDwRlT3cA1gYbP3lntvwqlwuWyGesW6SSqlYskytaqT1j1QsFa198wCb++jkb99On7MT4tVY4JhJp0XPtUqzZig8D9iXdFc4lRRqIpC6DTCT5dMYuNp+3ZGe34sNSKSIRSSmTswqdNkmFJ+upd9NZ2/rcdJv64+ds9q9eswNjllu6qdsqXcoPmrrSIge5ryqjCrLQugoJS2CtYU2x3wnkUSeQmij9ikCjeO8K74Q8dlEU+yIcERExrPFtJRLueFNWXVDi7EToJMLaVHkpSCn7ZClnSbFNDxZJXioxUbauxQdt7h9es3e//4AdnbDGiqrZV1kKxWemVyyfUI2/KHqQwsTLS007+vs1Eol7JslnZImwaqQsgVK+4OcFrBL6P3oUp7MFyx7otuZJ22zmL16yD295xHa8McfSO1t97S7IpJBQHJV+BgT0Ki8SNPmJRFjhmGsIKUFEJTXiQDxNV5frEn1ERMTwwbeVSKSLfXOonM5UT/cadRUSCbtL6VgpspZW2TLypzcjBZypWveOMzbnD6/bZ99/zPaNWWT5Ez215qw2KeqMjiKAbG/BioysUvBMB6GTfbCJ5DLUL/Z099imDRvt4rlmH91VLpYsnUhaIZe3QlbpyYks2XmxV447FcejaWuZsdtW3T/WPvneo7bkvvetdcE+K5+nOU/5K0urKBPL9zmRCZdRZLMKKAj52ZdWxNNTew8I51hnQXD3hbhHREQMP3ybiSStvxlp5rI0d1+TFkSCsPyIrIqCzst5KT1ZGok9523+kx/ah999yI68scByTV1Wac1LEYtARCKlFDX9khX0XG0P90tEglXie6R7Z4z8/xqIpOVii416c5Qd2Lffm5MgErdOfNiw4kLzFvNgFMmCLK1yt8izJW+9G8/azhdn2JQfP21L73nXzs3aYYVTKavI4ioysivjUfe+e/ZbqW3c1UAkng6Jwuxryqpfi0QSEfENxLeXSGrLwEMkdCKz9WzffiIoWTqXJeVe3WMRxbM5W/PyFHvzX++xHc9Ps9yudl9Pi6Yu1suSZrQSs81VYy9IcSbzBXELA2UbiaSmVG8kkVwP58+ft1dffdW2bdvmy6AUWd1XhJnNZBRX0qv0McyXvhzirfNySg8qXVml79A7S2zqz5+3ib943o58vsGKp0QZHQq3U24UNxlsvsgxq9ZzrJGmkqaIeTpENDWppT0SSUTENxTfbiLJS9FLkTOENSVVCIkUpVClCfNSfuxIW0mLVE6k7MS41bJEHrSVD4615OYLVm2lOi7/GR4LJ0jotPfmLEmmzJ7p1NKvRiRy+DUQSTabtT179lhbW5uVFJ4vhVKWlIqKq0KVB6STvpy+KBEurJCoWP5Iwk5P32azfv+Gjf/BE7b37YWW29Nd25SLIcJyK+PLcoF/iZ7+5GXZlSFj3XPxdEkU4xqJ1IYH8w6+LA0RERHDAN9uIslJX+uZHEQilU9bjZRiVoqVfpGyLlU7VDtfesRm3PakLfr5S9Y577BVmLFOv4IOgUBciUpCcxYEgjQ2bTlRyG8nE/pkKqVBJRKIAzLJY4lAHGIKjmVpd/aarzVLKY7yCCJxpQ+ZKHxFy9NYas7Z+bm7bd4fR9mkHz9tB99YbLntIpNzcteuXPRhzgqL5VloAlRGlJQRuWxR70P35XewRqANrBAopEYjkUgiIr4R+LYSCSosI23NhMNqVure17CSex3oa6eWzda4ub0ttvKed+yzv7/bzn+4wcqHMqqt69mMFCWjoBSGi/yDLCCNK4XroSnHFaqTiX5Jaw+YSPjjJ5cQLqXSaTt15rR1J3rcAsljjehY0DGn8JNyxZbvkAlJ1y0nEz8SBvGQdVJuydnFZQdt0YMf2Kc/fNq2jJhmvWtarHpBcW5X/GneyymNKfkvqYhUCogYFoIN+ePk4WmuSZXAIiIihj++rUTCHVR4viRVn5d2xhqhv4B+AmnVihRo9XzWtr83z976n3fakednWmm3auJn5VZuegpFX3k3EMS1JJBIH5Egihcd7zWFOgAiIRFBGhAutXd02Oj33rV9Bw+6Ms8WCyKRshNKTmzBCi5s867c885y1v/yjvG6lBm1JsIspyCMvHVvOm0LH/7Qxv3bo7btyamW2iwyOacUtilC8qzSW7Fitwg2I/dKwyULrUaopDGMXKsRKYwlBxEREcMb32YiQViFt+odBFKcWSl3No1iocN2sxOzt9s7P3zE5t/1pqW3X/AVftm+tjeRsRT9DfLflz35gkASNcKAHCAQJBBKH7G42xtEJEEaTlvb2+2pZ562bTt3yn8ZFyKSvIiEBSKZ/wF50LyVqh9z8pg1xZg/Q096hSHCecVNxFpIK34iie7t52zDc1Psk1ses8WyUDpWnzS7IN9bJF16Jl2xTCJruRwrlYlzXRjBViOSy4c/RyKJiPhG4NtKJA7dZngvhEDtucCcCkikVYpv60Wb8JvnbfztI+zCssNWblbdmvkicphFSUoJXlo760qR3VGv1fvaXPIfSwTywEIJItWs64NHJIlUytZu3GDNLS1OJLlKyeOdKcuaUiCEjKUAoWQUflZXSiI2locRw1q1oLssVFkS+eRkxSRELF1FS+1ttdXPTbIxtz5si+5/3zoWHjI7JROuS6HKMinLIsmxx4rImX77MDS4pIg7kTDUGvGOGTmIiIgY3vjWEgm3pMdy2ZJPrGMIa57O9YT02/ZW2//iLPv4Ow/YibGrrHQ2Y9mOvOULFUtIsaKMS4W8sZChL8BIO06oZV8mNUIJZBKIJDT1DDaR5JQfiXTK0oorM8/pYM/roayOEEkJy8njJ0tE1yARUY3iIfKoKIaSbE+3FZNpXyIl35WzXGfWysmSJY912Oa359iEHzzlc03alzSJTJSBNHOJjBm9xag1+l+QPiIhXxQvOfD8CXGOiIgYxhjORJLs7rEH7xORJGtEUpCCQmGjm/wocbbg6O3x9WO4Jp2WyxQtKWVKf0FRGq/aUrGuKTtt/P++13Y8+qnlN10061ZtPV+xbinchBRhNs8SKFK0TiBBII4rReHIbycThReIBBL5Oogkrzieb21xMmGGPhYJUlvWhKa1GtERVxQ8zWwQCY1SSC6fsny61yoZRYZO9GRR1oaeF0mImyzV1GP7Ry2ySbc+YfN/94a1LhaZXFQYnXnLZpmjUyMRjqTXF8N0awTylSguTvi63xfpBuEg133Cm+Nao5vahYiIiCHFsCUSKZBMZ489+pf7LSOLpFTCUqjt66E6tQTVXF9/Vtd9KrYrfBRY/Twvd6miD/dNiyjYi6O0u91m/OQ5m/vj56xn+Slfh6qY1X1psaSUHsOCi1KGvulTnSi+TIJ1RPOWVGmf1PpTBkAk9Xy4TBpOW9vabOxHH9rhpib3m/xh9FbB55EQdo3kPFCPJ8QGvdXyrlSWZUI++QQZRO58pFqtZarSUbLs3m47+Mxsm/u/H7XlvxplrXP2WelC1tKZiqXkplfPpHPyraAUMzQsqzdTlGUjqyentENd5IMTbxhHLYHvOaWzPgylVtJlKekP+RNEbiIiIoYYw5lIcp0Je/wvD1i2N2XFYl56rizFE4Q+AJQ0RBLIoy7MumO2YU73peSY2Z3rzlvlQsF2vDXXPv7n++3oK/OteER16R7dk8JCh7MZIpMV2W/dRzgFbf5lUsfll0UrN4JIroOLFy/as88+a7t37/a4hq19w9Gf50+fKE1X/KsFhFxy5wcp9GpOflyQlfbZLtt/x3s2838+ZIv/8K6dW9Zkufai5RTfvDKtJJL22f9sEak8Lyrvk5WMJKv3VFuixokkkJWENEIkWDNMtkcgE7ibPPD8iUQSEXFzYDgTSbaz2x77y32XEUnNGqlZJN6dLCXVRyR1oe3frzEdm1qytFW5q2wXlx2wd299yFbc9771rjlX2+VQyryA/pMzKsyQiO+vLk2KKu6/Hht8IqEPaeHChXb27NnLCIT92J0EBwIeVzzoYE/OPWTdr6+yQw9Ptqk/ed5m3POOnZ63x0rnslbpUnhs4yu3dMAXWX2YiZKFjKWLWZEDo9/0jq4gEl32/IY8aB5DApEoyyKRRETcTBjORJLq7raH7xORpGtEwigq1W9dKZeknKjp0mzSSCScu/LmOgzBDPVuyZm8zX/oPXv3ew/a+Vm7rcIoLdbYksKiOUX84Uc6p2tNaPJbkdDlfmLwiYStgbu6uiyTyTiBBIFIAqn0F4RPn3m516xl6UFLzNxvudXnbeeohfbpj0fanN+9YRfnH/R5NzQZ0szFcvyZoogjyxL2Iv5ySeRQsyDp8K81oeGxRHkAaXhrmMJDaObCiecPZKJHIpFERNwEGM5Ekujptgfuv0+KskYktT6HukjZIyhrNE/VSUUKW0K7vHc0o6UgkvNlOzlhk73znb/YtpenW/5YonYdzYWyQnnpZ03oqKYrmsXn6enQxX7h6yESRrTl88qbOomE/poBE4mEOZz5TNmOrdjjy6iU9iUsvfmiNb29xGb+YKQt++0o61h81KqdZevqzVl3vjaJM9ebtVKq4LPs00q9aE7cobjBHA1EQvQa+0k4cgvjhTzQY1+eCREREYOP4Uok6I+eRLfd++B9lq4TCYrZ53HQdKParo+q4rcrbKyUmsWCOJHQ6ZGUYtrSYp/94Ambdsdz1r3unFVbpaWoAqOwpKxQWig5SAQrx0c1MUSW8PqtyQafSBKJhE2ePNmOHz/uxMHw6L7+kTqh9BfocKJYEBkfWLndjs7eZLmmbpGyrLVtrXb8jYU2+9+ftNV3vW+dK5ss15a2gvdHKVuZu8O8FJl5TITMSHxUF4lvIBLyIZCJhyXBEMEq4foAoh8REXEjMZyJpDPZbX956D5LBSKheYTqqg8xRWPpKI3DTHPmTEiFShHVhCXimTNCk9bBNxbYe//rT3b6/RVWZi6EdHZZ1d9AIiwVUiqLPtwS0dOQCGt0cfNL1fm1MPhE0t7ebiNGjLAdO3Y4gWCZcLwRfSQQCXNDWG/swIotdmLhFiueS1q1W36fy1phb6fydb7Nvu0pW/3AGOtcf9LMtyIWwWfLlhU7JPUsy7NcRiSwhosCgExqr9AvQSIunEtobtT/iIiIocZwJpKO3m67GyLJpqwEkfSRiKQ+4Y3hrSUpTakvF+Zx8Jsl0K1Ntfa1Z2zc9x61tXePsdwWXbigZzNSbLrvClsaqyC/s5Wc9VZ1lMqr6Gi6hrXT/2rx4BMJ/SNTp061EydOSBlXvKkLEmFvEghlIAhEks3m7YiIpGXFLiuc7rRcV9ZKvbL52vOW2XnRdr803abc+piteWCsda8+o/ytWD5RtmSh4l1QjMbC+CO53pGutEEgfUJaJY1kQhOXu5d8WR5ERER8DRjORNKW7LK/PHa/JVMJ6XRRBJs1QSJ5aaCirI6SVLSEyXfpYsHSOSlSaWpXxClpprMlW/rUZ/beP99rrdP3WuW0nmff9QLDVlWzpg8FIpHfvWKeLqmwXoikJKtFtftaY31/VdngEwnE0draaul02s9p2grHgfSPAMKGlIv5op1csdU6Fm+XNddphXTRMjIVsuxJ0l2y9I7ztuvZKTbz1sdt8yOfWHJds5U7K9abKVsiL8tE7EETVw6rT+8KK5D1vdgG2JkDtiC9ktCFApHQZ0I2fVkeREREfA0YvkRSEZF02n1PPGDJ3oQUjTQNRCKF5BM/pISKhZKxnIkvC6L77I9RzsouYSxvd9UuLDlkH/3kaVt073uW3dFhJgXHUOCqtBQ7B9aIpKzni5aQ2myXdk9CJEzrZul5SOsmJhKarxixBXGEkVocIZFwrb8gbJ5myfgzy7da5/wtZqe7rMwyMkpRj1wUcsrPzpJlNp62HSMm2MwfjLBNIyZaYluzlbr0PrIVC/uX5HMiFUZy6Z2xiyMEBaEEIkGCVRKJJCLiJsNwJpL2RKfd//gD1tvbLeUqDcty8IFIvFbMciDMRncjo1ar7cxaNSGNdCplCx/90D780ZPWPGOXlc9IPaVFHlm5ZXtdHqgTCTOwIZKOPiKRls8qLB+L2l9VNvhEws6ICxYssHPnzjlxQCqQCQQTmrn6C8LmaYjk7PJt1jV/q9nJLpFwWdZbWdZbxRdtrDAJsT1viU0nbNUTH9knyu9NL0+z3j2tInN5kFR8ZJ1UlNe5bEFxlMUkIsE6KTOvhEDoDMEvZQ7NkvSnIDRVflkeREREfA0YzkTSkeiwBx57wNLJK4hENVn6RvKqwqaleJJSSjkpPMih2iGS6KjY+YW7bfStD9mCB9+3LKONElJJ4hImvBfTUlO0oeCXlG0gkh4JK+RW2NtdCtOrx/3WZINPJMxsHzlypO3cudOJxPdt1xEi4TjQ4b/oeAjg7PLtIpJtTiRiD8tWym6VMCs9Kysxm85boStn7RuP2tLHP7RJv3jO9oyab5m97WYtSmiXEpVV2vWOcsrbHBaJMiI0QzqRcC4JZEKz2kDGzEVERNxADGci6ezpsIcevd8yEAkLAdaJpErziJQNnbhd5ZL10g6fl9Jhj3UmH57I2pwHRtvY25+wszO2WqkVC0O6iv1IRCAotIoUIOtMlStFb9rKStWz7Irv10FNGWsFBddvTTb4RMLM9k8++cSOHDniFgjWSLBEkIGM3OLJGpGYnRaRdEAkJxTHtEhA4WQrJUsjOk9KemUlFjty1rL8oK18eKxN+tFTdvD9RVY+pGdEJlWRCZZJSXnKfvcZkZxnMUYfmeKiOEuYeMo/vaVIJBERNwOGK5GgiLtEJI88cr9lE7IoVMN2IlFtluG67DEiPWxtIhisEqaUVGlKaTXrnL/fXvnfv7O1L0yw/DGRULsUmYimkpEycyuEEU5ZK0hLYo34ApBSYOzL4SQiS0Q/vWP4ZiaSZDLpy6MwDJiJiRBJGAI80OG/PH2JSHaISLaLSJTBbIDF7HWRSFYknFFGMcQ3oXzNJxX22ZS1L9hn83//mk3++Qg7PG6p3kGXDxuupEQkInKW9eed+WguBeTDgutEgjAL3ufw+AuIiIgYcgxnIunu7rDHHhaR9FxOJEWasqSImCbSoZotq/Z6K06HntrfZesfG2djv3uftS7aZ5UuKdVuEQgWC4sQ0veh2nq+zHDfgpRgUbwhNywWlZEnGRZtVFDSawMySL4GIgmkwTHMbqdJi2s31iLZaR0Ldpid7FGclZo6kbD2Wa5UELewhH3VSinlM7sonsrY+Znbbdqdz9uU3z5nx6evt8K5pO+uyGi5tIicSgBNY3Sshy2APeOJNyP05H8kkoiImwTD2iK5JpHUOtlVzzXZG9aRoYNciqilar2LD9uY79xvG0Z8avkjUnxJKSMRCKsA04dSTuV806q8SIR+kaRUPEur+HogKHJpOIwSFJ1Cu6mJBItk0aJFbpWEfpFAIoNGJFmRlcy/PEQihc/y/rlCwbLMXckoYaShU3E422tHRSCf//oZ+/x3z9qp+dusejHn+8MXZPGlREZsZ1xrQQxEoox3MqEPrEYkxKNRvgx/rfuIiIivgOFKJLSPd/R22L2P/MUy9aatSq42KZEmKFbpTUgBdep6hs53Zr/tTdrWRz+zUd+511qXHrRKNwSh61JcVeYw6JmKFFgFZSttzoKCOUKi5is37laKE32Gnkff918ZDT6RdHR02PPPP2+7du26KpHcmM52s1PLd1j7gu1WPa33IFLOVxigQH8H1gOLRCp9RchcT5AuhgXjriVle6astvG/fNrm/fkNa12w1+xCzkfO5TNFK+T0LsTajN4qyx/vbNf7KSkdxL9EmuQd2eVxkfTlCSeNUj/gBrdB6rciIiIGguFKJFKD1pbutLseucdS9VFbZdV6+5Yjl+Jn2G+PlBcd6NYi3TX9gE377pM27+GPLHs8WSOGoH2uEFGLbiG1S/6HHxKUeONj/cPgEwnDfseOHWt79uzxEVuNBILcKIvk1Irt1rZQFsUZvQdZbpBIVqmi6a+WUfWMc4uCsElrxQrpkvUe7bYD41bZlDues2X3j7Gudaf0rkQgIvkqu4lhLYrkGRKcp8lMQhrYDTOH5SmfkUAoHhzhXiHhlPu4C+TDtYiIiAFiOFsk7alOu/vhe2rzSCpFK+ZFJHTISvFAJMxjYC2oKgr4VNF2Pfq5TfjOw3Zu3gErM+QU7TNkmmTwiYRRWydPnrTu7u4+IoFAsEqQG2aRQCSLRCRn9R4Ywqs7VyUSwpNg7Sl07zMpdxQt29Rl69+eZeNuf8rWPfmZJdafM2uVNZPQu2PyqB4rqEKQzos8SAMkpHedy+c9myKRREQMMYYrkWAr9DCz/cF7LJHqFm8ULV8QkaC00GCSdE61WqyR1pIVNp+3j7/zgK3+yxjLH5Y1grmCNhkyTTL4RAJZZLNZP4YZ7pBHaOK6oRbJX0kkSq2sF0mybCWRevv+87bylUn26fcfs53Pz7D8rk6rMjgio3QojIL8zTKIQhUFtgAui0jofykqJmQVROLxITjCvULCKfcjkURE3GAMVyJBOaW7O+2h+++xrrRq3FLI2WJOiljKuK6zimzxytyRUznbO2quvfl3v7cLU3dYpVlqh7GlQ6pJBp9IIJGNGzdaS0vLZZMRB2qNAMIeCJGQXlZgLvXmrZgqWCVdts4dp23Vk5/Y1B89bQdfWWiFvT0+ZLskk0Peektknv6Wgl6er/aMP5f6STwoif+5QsIpbiKRRETcYAxbIpFCKnR02qP33mMdmW5LSTWkpHHogKVfHJ0lHW3WIi20tcU+/v7DNu3Oly17QAq5VQ5YrKlP8wwFBp9ImD/y5ptv2v79+504aNpq7HQfSouEuTkshllkWLLi4umSZdK2+qgtv/8jm/GjF63pvdVWPJTygRJ0ezHjnb6RiiySSjGr9MgyUUwCKXhQEv9zhYRT3EQiiYi4wRi2REKnbXunPXnPPdYmIklILSSlWCAS2sydSLA6TvTa6THL7a3/eacdHbfSShel+RK6p4PrtyHTJINPJGfOnLHXXnvN9yNpnNEe+kqGkkhkH1m6kpOVIdfFglUZoaX0Fc/lrHPZSVt414c291dv26lxWy1/KKF7SnoGa0SZozwrFdMiQ8bUKc9CMBL/c6U0nOKOeAep346IiBgIhjORWGunjXQi6bFuqYgk8xakHNHB9LlX22R2HEvZ7J8/ZzN++rSltl+wakI3WN0XhTykWmTwiYR5JLt37/amrdCcFQjlZiCSlP52F3osm+t1IikqfSWGaZ8r2dmZB236L0bZvF++bRen7bXKGfmYUk7lirJKsrJmMioCIiClwfOCsBqlAY2XiQnx9rjXr0VERAwQQ00koTMYhXBl0wu/G5tgmJ1dUxwSJ5IOG3n33daRSVorM9HpiOV5FC3ToluKUkjb7f3/9Qc78eYCK50Xg+RFNFkpbeaODKkWGXwiAaGDHXAkPwOphHztD3hyoESS0b9kqcdypZTSrBzQu6nQEQKhNOet6fMtqgSMspV//MDaZ+0zOysLRO8uV8pbupTxJWw8I+rDisk8ygUz60O5IQpXSj02fv5VgV/4GfKT36F8hnIb8hc3gaw5BoRnwr2ARr/C9eBXOCJXXkeCXwjhhniE6xyD/433w3n4HfwMv5EQXqPbxmsREX0YSiKhMEIOFPIwPDUQSyjMuKFmTSHmHkf/OHS90tpuT959l3VnUiKSrGV0j/4RRvn4Nron0rb0wfdt0r8/Ytm5+6zaLX/1XWfzfGQ1JTN0GHwiYaQWc0g6Ozv78jMoikbF0B/w5ECIJK+E1PabTEuyVtS1khJfUdqxFit0sMuaPP7BBlvww5ds7Z3vWNeyo1bposyULC1HeUkFAikpbSIPX2iTeSalmhL1NBL8deTLgD+Ux6CIkVAGOW/M13D9aoq+8RqCW47BT9wFuTK8xvMQRvDnym8lCNcb4xks0RBuOA9ugvtwHwHc49sMz4AQVkREH4aSSELhZQc/CivnFHhmZIcCzXax69ev7yvQ4Tqr/Rba2u0xEUlCRJKklqt70iOuhBg6mlh+xD645QHb/uRnVtx6XoqZTapklEhhobRramaogDIZXCJhd8TXX3/d9u3b16ecEPLP8xBP+gmeHAiRSN2J9BllB5nkoBK9PykoOZEXiq8e6dbvA7128OUFNus7j9uGR8Zbz7ZzVkiwqnBtmwBWJKD2UMUKYQdMkUltuXmFw/16FIgrwu9GuR7IH/INwb9Ghcw5FRuO4XdY2wxwLZRvnuUcN0jwz+NYd8d5eI4wuIaE8DgP/vMdhPtcw8/Gihi/g988HypruOd+CLvR7xA+8Q0Cgp8cA6GEdIRnIiKGlEgomAcPHrTt27d7QUUowB9++KGlUim/zxLozz33nBdmfl8q6GXLdHXYw3+5S26TVkAJSTWwlbp3sp8r2s5XZ9l7/3SPdczabZVzrLsh0uJD0PNOJJKhw+ATCfuRvPDCC26VoCxCHgdFMpD08+RAiAQqqcD4klI1bxn9TssNr47BEjIqakO02/XOtrXZ9pFTbfK/P25bXpxmvU0dls5IsbH+mazLGvMo7/Lyk5qE0uULR0rZhSjgHcLvRrkeyKugbMkr8jD8RvA/5Gfj7/As7gHP4obfuAmKOzzH7yCN1xrvNV4PpNF4H7LATVDw3MNdIB/iwL1GIglxwS33keBvuMYxPBPCaMyTiAjHUBIJBXnGjBm+jAfnkAeF9pZbbvFZ2RRYhq7ecccdfp3f4SNgn5BkotMeuP8eSyd6fE6CLluJrXKlgIu72u2zHz5li/8wyvK7ZZ4k+bg46MPTB8Ds6KH9EAafSBKJhG3YsME724NyCPkXFEd/wZOozP4TCcpRiaF5Sse8EpWSG5acV3VB1/QwrSd0vrdWLbn5vK15eLxNvG2k7f5whaXOpqyUlrtelYmUnsgp0+gcw0LBIinXlCkhE88gRKlRrgfyKShaEBR2UMCUR5R1UKzAy2Y9nzkiuEc4D/neeD8Ifga/w7XwLOB6IxGEZ2jCDOfhengOIc7BTXBHvHEbngnPBeE38eQ8kFH4/vgdEXEZhppIPvroI/vNb37jzVdr1qyxpUuX2t/8zd84kVCQsVi+//3ve+ENBZxCnS/lrTPVZfc9fK8sk67afiL63hgmSrNW89Rt9sb/8xs7995KK5/IyfyperNWUo7YGMlnwKNIv0ybDBoGn0jIJ5oNgwIg/4Jy4PdAQNiozv4SSdjjJXSU0wwlVeerLeckLHXDGlv4V07IbUvRulaetKV3j7WJP3/N9n++2fKnU1btVZrYR4bl/32NNbmnn0R+EipxbBSi9GX51gjyinLaWPY45xgUNefcCwTB7+AuuA2/w3tovB/IKDzLeQiz0S3XwgoFwU/c8m00vld+B8IJz3Et/OYelTbOwzON5/gVhN/h+RAWZSq4j4hwDCWR8CGMHz/evvvd79rkyZNd3n//ffuv//W/9m3EtHfvXrvtttu8APObws2RjtYLmQ679/H7LdPe6XuF+Fa6SSmKYxlb+cjH9uk/3G/ZpafNLuhjLFaNSe4pKTE2RdIFKTVd+Gu0yg3F4BMJHz4LN6I0gqIJygEZCAgbNdJ/IlF6+c3oCLcmaXIs6tmC/tHcxd7tOqI081LaSbm/WLALC5ts/m8/sLk/e9uOT9xsufN64YoDRFKVO/wq5OWHniNU4tgoROnL8i2A/KLcIZyjUMlLLD3KJ4JSRblzjcpPY00f942KmGvhHr95nuc4D26Dgg7hBf8YcEJTJc8Gogn3EcIGvF/8I148x72g+EPY4dkQXmO4wQ/u81xoYiZ87hM2Ep6LiHAMJZFQED/99FO7++677fjx43b06FFvz//bv/1bX2iQwszvn/3sZ30fWx+RyLI429tq9z75YI1IfKVYEUmXang7Ltj7tzxoG+75wAo7pWi6pVz0jWSlQaj16rOxQi4r/aZnvqpWueEYfCJhoMLnn39ux44du0xhBDLh2F/wJGpnIETCKC1PK+khPnqnFXlInwn/ChX9LepIf0deuaSaQOFMwVomHbTFt4+2Wb993U4t3WmVToWYkLLvzYuYlEUikmKBGjjvmrdNDiN1Mgnx8rhJroGgODmiTOmvoyn2vffec2HVgJdeesneffdd++CDD2zq1KluQYdnIJjz58/b5s2bbfXq1V6+Kcfcv3DhglvhND3iDkWNu+nTp9vs2bNt/vz5NmvWLL9GuWcrgM8++8wJg/KPgm9qarJ169a5G8JmcEUIOxyZlDpt2jTbunWr+xOIiPfPOW5CuUDC90U4xHfVqlVemQvpIh9wE9xHRDiGlEjKFftk/Cf2kx//2BYuWGCTJ0228ePG2f/9n/+LdbS3e2103569dgdEkpOiUAH3/S10LEpJXEy22wNPPGSZnt4aS6jWaiKS7eMX28v/+ie7OHOXVY7lzBIq+FJ4NKFnpIXlk2VL+tCk4K6jRwYZg08k1GCfeeYZV0JBSTQqCxRIf0HYqJEBEYniEW7VEqSES9hIjH9FvbSC3hP7mpRKEvlN02X5eMqOjl9vE375ks1/YIy1rzpqlQsijoSeF5eUM3rDWSk8Wa219bhkEbhg9SiPibjyUTdqYV8D5BN5hKBA2SCMtctofv3444/txyq3//xP/2xvj3rLlixeYluk0HGTy2adzPbs3m1j3h8jed9Gvz3a3n7rLVu2dJmlZIkck5KeOGGiTZ0yRe5z1tXZZRs3bLRpIoSpU6ba5ImT7Jmnn7bXX3vdhzOvXb3GnnziSbtw/oIPJDh65KhNnTzFNik+4xSX7996q39DhM3L4dtK9aZs4fwF9v3v3erxcOuuoHxQWvCTYyATCC4QCmmlErJs2TJ7++23bdu2bb73fyCq8AzHiAjHUBIJWnPzxk32hj4WPpxPxo23KSKTl1540VLJXmODqv1799lPf/wT603ItNYHBJEg1K46E132wEMPWLKzx/tILFWxzIkOG3P3s/bmL0Qw+9vMLkjTiUhQMMxRyOgPzVsy9qVLpMjqUfn6MfhEQi137ty5dvr06T4lEYgkHPsLnhwYkZBm8oD7EkftR/jn++S71qcZtKa42HyslC5Y8lirbXt3kU366Su25okp1rXhvJhTbrvkZ0o+pxSDXEYKVRZANSdLlFkrohTFhXLg+QuZXIdIKGNBcXJOntEUxWoBWCQPPfiQjXjyKXv91ddsqYjk9MlTluiWxSBl3XLhopfnF59/wXZs2267du6yT1Vpoqzj7syp036fck+5zqTS1tPVbW0trf7sgX377a03R9n7774n6zlvq1astGdGPm3nzzW7W36/O/oddzv+43H2v//+/3O//TtRXvHtnD19xp5/9jn7wfdvs3dEZGkRSzadsaNNR2zdmrX+bVFGIA6IhPlGpI1RlFg7WDmvvPKKb0UwatQobx2gHJEXoTxFRDiGlEikN/hw+GggkONHj1m3amZ8LNS6mA+wdfMW+/EPf+QfCB9HLpO1tD4k7nd3d9nDDz9oibYO7x+RprD2Hcds1B+ftNkvfWj5U0mzThV2OkekOFDQ2XLJkvW92L/pRMLHjnIII3YaFcBASATwNGpkwESiO9cCcQ3xJM6huYbrTiaqKKx/eb59/JMXbO3zMy25tdWsRWH0QCZS/FLABVk12apIRBFl50Z2zvT8RTwB+H51QCAI4dGUtGXLFhs9erSvX0bf3rat2+zg/gM2TRbEm6+/4bJ44SJZ0x1epiGBGdOmu3UCWVCWIZYtOkIkEAWVpmOyLiAHCAjSgFAWLVhor7z0su3asdPyslhWr1xljzz0sBMI16ZPnWYTP59gnR2dHv4v7vi5Pfv0Mx4fvg2e2a743fWnP3sYxKW9rd3DJlzI5/NPP/NmL6wPmuBoOmPwyxRZSVhcjz/+uL366qvW1tbm7mbOnOn574Su98IxIsIx1EQCMezZtdseeuBBrzFhkvNRQSIQxqEDB+2F5573pi2IhCPPFPXRdXa021OPP2ap7oRVs7BE1VLHWmz5xzOtedNhK7dL6zJ8NKew6goYZZISkaR0QZ/DlyrjwcPgEwmdpSgBOnUhkaAUhwuRBEXeRx46Jx1OiApHtQHr2Nli85781D768QjbP3qJlfcnamTSS3Nm1TfCYsfGouQSiejIuWd2LayrAeKipg7ISxa/pN9ixYoVdurUKc9DyiNWAcod5b9l02avDGF1jB3zgb32yqt28vgJrxzNnD7DnnvmWbdOTuk+RPGXu+9xckj2JLzsd4kY5s+dZ48+/IhNmjCx7/qGdeudLLB+PvvkUycGyIWw5syabfffe5+99867Tg5YJB0ijVkzZtoTjz3u17BI+JZefvElmyYSOnTwkK1Yttz7eOi/Wbt2rRMHzVhYHliyjKaESKiI0JfDnCTyJBB8JJKIPgwlkTC6hmaqYHXwEfFxQxRcxwyniYv2YT4Ov17/+Kl1dba32eMPPWTZ3oxZRhotJWpIFKzreKtVuvUbEmHNLZQyZV76hXb5vLRJ3lX3N5tI6NClFnnixIm+2jwK4EaQCU8ONpEE8ghxDcrL01JUfuXkl6yP5tVNNu++d23mL160preXWG5Ph5myy+cTKS/D61eRUmWEpi2IibwnXtdGIC6aflCuDAyhpk6tHRk/brx98P4Y+2jsh/bhB2P9SHPV+rXrrL21zZX/6LfedqVPP8qoN950pU9/SLOIBaKhOerI4SY7IbKZO2euWzUQDP0nuMFCwaKhCfjee/7iz0M0r778iu0WIfHNQBg0sdH/8vSIkW4R0XwFiXEPiwUrZOXyFW6h7Ny+wy0X/KSJjgm/48aNcyFvqXhgoWB5QSS8Bzrc77rrrsvmsUQiiejDUBIJHwjmPETxnX/+F/+oPvrwI/tYwkdHGzBCTatb5j7EU+skZFMjWSw9PfaACncmkarNcE5LslIOdLxjhUAiVCilfF3r6TKqQyrEBTV2PUU2uBh8IqFzlFok7d589EGCIrjZiQQEhdVIJrX4i1SK9JdI2V9IW8vi/bbk7tE29ccjremD5VY6JnOlR0GrHOhRjBBZJRIRCJ34rBxMvtcieHUQDoqTEUyM2Jo3b5438WCVMHrrgfsfsN/f+TubJwKgCQuFjaKnT4SObizs48eO23Ip+AXz5ntTU8vFFr+OxYKS51kqTFgsNFdR7rE0cNfT3eMVKZqp9u7eYxM++9ybsrB+IBLIAiKh0x3yaRIh0XRGfw19IFgjNJsRNywZmt3u/M1v3T19M4THaLM33njDxowZY8uXL3fiJM1MYmUEWSASltn5wx/+4PcaLcSICMdQEgntxnwkmPmY/RRshI+RGhkfJn0nfGyY+BAPtclAQMVU2h66627LdEtpuJaQnxkpnZwUjKRSkOganasq933KV1d1PrAa+cAx+ETCRz9x4kQfxsnHj5JotExudiKpEUZNYRH3QChcA0S/kFaNvVtscSFn5+ftsjl/esNm/vZVOzt1h9lJ1SI65a5OJtQpssq8XCUvIlFl5CsQCdYIQr6F4bw080Aof7nnHvvtr3/jZZTKEJ3bEEiwImh+vdB83pu8aF5CsGKwXOjfgEhobqKCBGFgmUM4586cdcGyOXXipJPFsiVLbfbMWV6JwqKAGA4fPOTWDaQAAXHO9/PUE0/auI8+dkuoVYREWFTSIKi79b1ARAj+MMx4woQJNmnSJLe4QnoZfcaILTrbSTvDhx955BFv6guVkUgkEX0YSiKBDJwQJFgaEIv3f+jDwuKgeYv7XKOdODR5oW1ZnC+tD+zphx+xrIgkK6sENwwRLYpUiqqCMk/B1/ST1B9zf51ZyjAMF+qR+dox+EQCUTROSOTDDxLIpL/gycEmkhBXlFYgQoRzJ5QSHeoKTWRSTYpszqbsyPTNNllEMucPo+3CnCazMwpBWceyXizNxYi9TJUJj1+NSEJeES55yRwPmoN8Aq2UL0oaRY7SxmI4KcUfyi3EQj8HShx3VJYgAypINIXR3LVx/QYv/xAElgyjrOg0x7J48vEnvP8QsqHpKoy8wvKgWQzyomMe/7BIaO6lj+ZnP73dO+Zp+sKyobltzHvv+yitp0c+7QQFOR1panKLZPHixW6NPPbYY9bc3Ow7a9Jv8sc//tGJhPJDv9DLL7/c9w7IG44REY6hJBKsCxQ7HwrmNlYIHx4fJB9nML/XrFrtHe/U9PhIA9Gk2tptpD6YbE+v5VIZfZD6gKUcMU4YxEUNFEEnc82VNH/KUiBSEN90IgFh5jQffqNi5Hy4WCQB4beL3mG1qHQxxJfykFNZ6q1Y5njS9n2y1ib98hVb+uCn1r3srMik6CselFUYcno2Uy24VVKLwSX/G0HeoCipjRMe54zaQrHStMUghrQULIodS4BmI0iAJiXKKAIxQApYHnR+04SFBc4zNHMxiARCoQJFRhzUd0AfB9fpK4FINm3Y6Bb59275dx+QgoVDHwh+8n0wmpG+D86pjEFeWCcQG9YRTWE0dWGNQB7MK8FvyGXcx+O8z4c+NCYu0keCdYJlgoRJlhALli3NeeRHKE+RSCL6MNQWCaQAWTDqBHMcIqEJgDH3CKRCG3NGH6ETjz5Qt1D08WVVG3tcz0EkaOC8qpxMOIM86CIJ4kQiuUQkUoHIN5xIGNa5aNEinwfAx8+Hj6AEUJQ3O5FcF/gpi6SaTStMvXHyTu+/kqxarqnbdr2/1D6/4yVb89gE611/3uyC3HfpvgiH5ed7S3nLiFn0BuoeXg7yBsIl32giRA4cOODzKZjRvnDhQlu/br1bFItEIhACw2zpYKeModTpn6AZi5FSHCnnKHzKNP1+uGfEFt8AlSSGDEM8dNBjfWBVcOQafSIQAN9I06HDHja/m8+es4vnL3hTGITEiEeGFjOUHgsd8uI3I8uIU6dIKJDTGlk0EAhNWZQLzplsSXMXgwuY0MocpMOHD3u6wwoJuIVQIpFE9GEoiYSCD5nwEWK6U8gRhjRSy+PIPBMmeQW3fHQcq/ooIJLHRCSZRK9/vHmataQArkYkdLa6kubPt4RIGLVFDXrnzp3+0Yf2bZRBsEr6C8IeciKhibKoN8xOZsq4Yk5+ZhWrRNlS+9tsxYtT7KOfjLBNL0y35MYLZud0r10hi0x6ZdH0louK6dVjAJGEfpGgaJm8x8x2au3U1GdMr3Wwh2Yrav3MPEeBo7RR4ozI4h6VIobtMpCEc/pVsLRpmqKPhIoS1gSVKKwJmqIgESwH5LwsEVZ5YNb7WZHGaZEDhERTljcN6/ugghXmWGH1cI240GyG+DdU/44gLs4pA5SJQAyklXISygcjuEgzlgv3uBaeGUj5ifiGYSiJhNoTVga1NUz6UIPyD1GFHOsjNGdxjYIfOjI5pvURPnLffd5R2Ugk6OArBaXmSpo/3xIioVmLiXPMUkYxNioIjsPaItGT5F9ZlkWF/i4FBpEUMvK1tsyzte04ZwueHm/jfvi47Xx5tuV3dIhd9Yzu5eQ+Kz9Iw9VA3qA4sURQmswjCUqWfKW554xq68wRuajafjKR9GYrXzBSZRMJChxFTzMTzVt0flMxykrp496Vub4BnqOZKnS0M/QXa4OmLJ7BDypWjOTCLU1WdMRjnfA9IITFciu4hUggDIRvh28oVMaC4C4QCEKZCE1X4TrppumLtbYoN+F6KEMREY6hJJJAGtTOIBKsET4mPgpIhhoWNTaG/uKOD46aHh8BH2pvT7c9eP991guRuKJESVXd+rhMLumwGpGw7IaLzvV/aDD4RMJHz4gtFsAkf4Ky4BxFMJyJxMNX/EuySnw5enldLqoikVf50JERe8wjat103BY/PMam/HSkHXxniRWbklbpEIH0Kh7KZ6J0NZA3EAiCYg1LiZB/5CPXKYtBQgUnKGhX0nUS8fv1e16G6wqdc4gklGnKPM94hUnugwXhRFG/zzkkhAXD/UBGfCuh8oVbt0jkL+chLK+Q1cNyf3UMpBDSTJm50irpS2897eE3x4gIx1ASCQWdGhSmP+PxaTemDZi2Y84x8WkKYDiw1+L08UAEmO98VD09XfbAAyISmd/+EdBGrvuuaK8UfSs1fSYF8y0ikvDRoxBCLRLhHsf+grB5ekiJRMLqBL7Xu7wmTzyNEt+CN6XMaslZ64qDNvfuN23Cz5+zg+PWWPZQwqoiE59nRF5fBYFIgmINeck5112kjINShgBQ5EggD45YCVSCIABX9IprIA5+BwsGBe9udAx+BKUPKUAY+IP74I5zr2BxHdKqXw9+QRyBPBrDDNYJYZBOygHp4chvhHzkWrDIOJIHwR2/cRMR4RhKIqFgQyQs18CkqTBiiwXo6EikvRiSYSkH5pFAHnyIHCGVnkSX3S8iSTYQSa3pSp5fS7gvEkGJ88zQYfCJhJFF9I/QadqoAFEEKMVhTyTyDr7I64Q11HKyTtxXJg+x30xakeuSkj6XspPzttvEP79hn/32VTv2+TarHMmZdcsTObsaKBvkFTVz8gqlGYgkkEpQzihtV+JSzkH5hyPlu5EsKJ+u2OU2PI/w4rkWyMGfqZ9DRsF6R/lzHbdc414IN/jpZCK3HPsIpe4/1ziH/HiWdIbyEMpEEH6HddpCujmG30P7/UTcVBhKIgkfmxdoPh4dMdFvu/X7PtKEgt93X4Wf+3wAnFPIe5Lddv+DIpJUIJLavT7S+ILonu6z+963gUggEJa5gEyC8kM5ku4g/QVPkqVD10cirxQB6TTLK9OS5aL1KjL4WynllX8iipwyK6HzTl0/n7FDc7ba538eZdPvHG3nJu41O63IMxpD0erLz3qcfZVhlKvyraKbBRFTjjxUgHmOELKkSJmUskbBU1Yp0yjxS4RdU9iu0MV6VW92k5uiyl9RYeTlb2/a/SkXapaNE4bc81wo74Tlfuo3Yfm3wXmdVAJZBAskHPuIhN+SxmfcndIGSbolp/iGY5BAJhy5B7FijXBvaL+fiJsKQ0kkfLSbN222dWvX6rjJVyZlu91//Id/tHlz59mmjZv8+rq162z3rt3W1dlZ+xBUqFGMPT0ikgfuv2SR6ANzIqnrrS+K7skd2+zWZCg/BMIfXCKhXZ8dJ+koDSQSFECQ/oInh5xIlFluKcifrPxEpGKlMJWBSq/vZpbReY/Ou0UAZ9O2e9Ja++Q3L9nMu96xswv3y2zT/Yz8gZSIHoli0lFOeZWRIlc5I57pUsFSRYhK5UxOECcPVXyqIgAerip/K8pfj5PO2ZCL5e89niKQsvz0XTxZxicjpdydsebDJ+zwtl3WdqbZSQYycStFz5XkT4F3pjA5h8RYHwxCgAQ887wgIJw3Ctdq4gRTFyc/CI/E+u1aOWgsD+E8kApEEioggUwiIi7DUBIJI0KY+MSmOUyG4pw1f1gc7p133vEhh1xDGTIZihq2f6RSEhRw1kB64IEH+vpIuO4fA9/DteSmweATCTVHOtsZZQTxBhIhDxHPq36CJ9G5Q0kkVAbIP6lczz9yUiVAOp00Shky0sJHcClDuyAUZeGxTts2fomNvfNZm/rgaDu/4ohZh5RjSpZBmtq7opiRT8maRQM5lCq652lCqt61kpWg2KtSypBWVflbkTAs3dcBk6Iu6rwgYsikc5aX32WGJmf0TFfeUqc67fD6XbZpzlLbv26LdTW3+RyXUhbyUkVJ4bJSNcQle1zcJv8kvhkbhcQLimdDRMTQY6iJhMXgDh06ZPv37/cjwlpG1KJZcZTfNM0wGSws9YFS5HhNIhkWGHwiCYQLaVCjDOTxTSKSKvkn/+Sr+6d6s5WULsLGuqjm5KZXGdqrHwmF31GyxMGLtu79Wfbez5+wBU+Ms+5NZ63QnLFCT41ISlL+NDUx6VVsoKMsBOVjQR7m5H/GRbfIP59hLxJRLb2iozch6SWyZH25RHOtLKVeEUlCuZIQmXRkrWPfGds5b62tnTzfDq7eYqkLnbTPWSWrcEQkPM/ikvT5QCKRSCJuegwlkUAIwWRG6QXFFyTcw11j5x6mNeeRSK4P8oyVf5nzEIgj5DHnA8krnrw5iIQ8lDQSicSJRMGVVcsvywpglmqlW0q6VZZGR8G69zbb+jdn2Oe/fMFWPv6Jda454Z3vJRFPRgTAZMVskb4WPSs/EPo1IA/IBMukgGJnUiNEUhKJSPmj5Gk2oo+FPVMqWCHys5IsWOpslx1bt8c2T19uuxast7O7j1m6pccqKRFMKie3+KN0KOI5EZR+fZFIeI+NRDKQDIyIuFEYSiIJhIBAGkHC79AcEyQow6AII5FcHyyRwkJ7LHdBviBhOOc3wiJxpfpFIlEp8PlDhF9iXklWV/MqN71S+l0ih4Ri3lG23h0XbcML0+2zH4yw9SMmWGLbeSt1FS0lK6JL5JBiCZai4lxvkmKrgoo8xeLxJielKy+rocBcFuKguNCRXZRVwdpfvmRLSu+3K2udR87b9oXrbO2khXZ07R7LNCd8j/ky95lI2ZvRcyIT/BaJZLw/Bv77IpF4IYlEEnEzYSiJJCi3RgIIRIKiCxbLlUQS7kciuT7Yj4R1oWg+DOQLeZOngUz6C8IeaiIhs9wCQJQ2SCQQibLJhwV7h7eTifIXy4J+YvKxW3E5X7Kededs44jJNlVksvHZSZbcdV5KHUVea8aiv4U0BatE2tytDd4VFolsHCcVrAgfCEIfhyyLqsKrpkuWu9BtZ7cfso3Tl9j6GUvsnKwQ61AkehSv7pzle/SSISeVXd4NTVr0jWRk6eTc/wYiIe88DxV/hMwbUAZGRNwgDDWRhGaroOiCkgvnjU0xKL5GiURyfTCjnf4lmrbIG/IsEPI3hUgQJxNlCJZCI5FkpdhzlB8FW8hKUaek9nP6kZH0SpSlLObYs+a0rXlknE352dO2683Zltl30SpJkY9IAyWek/8lmTgVRnMxY75OJvSb5CUFhUvHOkN5fQtghVHsyljr4VO2Z/E62zxzie1bvsm6TrbIGlLMGEWWVLzSsjpEPJADHfdYIvSLZCTpStGPgUhKykPc+Turp1uXv7wQRER8HRhKIuGjgEQCWfAbCU1eXA9WCdc5BlIBkUiuD/KOvAn5GPIOIT8Hklc8OfREUhO8J9/CkjiQCMKS8TmVGVf23oFeV/TcJH/pMWdS4vmCda06aqseGmvTf/yUHRo1z4r725xMGKmblJOUYlokQRBJnUxKBfzFWlb48pdRV5BIri1pp7fut82zljiJnN52wIodepkpvVi2g6bPRH4UFad8URWpkkiubomkZYlAIBnlEWTyBSKBFYkHov8Dy8CIiBuEoSQS0EgMAcEiuVLhBaIJvyGS+++//6pEwjGc35wYfCKBpBn51sn8G+VpIORA3AMBYd9sRBLIxHW9biEsGZ+VteDNQrru+cYzyuOyHJSVx9YraSlY68J9tuxPb9ncH420o6MXWqGpw0pikqSebVOeJRnBJU/Keb0tWTjeB0L/iW/vrHfZW7SeUy22f8Vm2zxjsR1cucV/VxIKCDesvKBwFR0rlBQv+UlfCLPyaR7L1okkp0RxDqFwHQsrEAmjwjwhiBcWxT0iYqgx1EQyEEQiuT46Ojps9OjRPnQaBKsv9JMMBIQ95ETCw3Wpe32JSBDdCtaJi64FHezNXUoAW/0XsA5o6rpQsLZ5e2zlH960ubc/Y0c+Wmal0wkrpAvWLYuuK5+zNHM8ZNmURCQeAFZGj95hT8E6ms7alllLbe2kuXZmy34rtKVEIHLD7Hm55b16371+1uai1EaABasD4XfjtVozHURCpUoRRyKRRNxsiEQyVBh8IqGz/fXXX/fOdggkEEmwTAYCwr6ZiMStEok3bUkCmdRIpEEhI8q8sG9NRseUrIMc1oK0e6U5bW1zd9niP42yKXc8Y4c+Wmq5pnYrZ6qWkSWSFJGwXUEprdgzPyVR8mG9RzbssS0zl9nOBWvs4v4TVu0UXeiZGomoLCpiLC4JedBMphKr1/tFImmUvjhTLvRs37DfSCQRNxsikQwVBp9I6GzfunWrtbS09JFIowwkf3jypiQSCbV+F12HWJw8rhAUNEqc+SKpcqlGPjJRiumylUQm52bvsNm/ecUm3fakHflwpRVP9LrVks6ULJetWFEEUmrLWWfTRduxcL2tnjDXDq3cZtkLSb03Bc7KwwwZdkukRgQ0UzGZsZFIGgkjSF889X68TOjZPhK5UvQ/ImLIEYlkqDD4RBIGKlzZJwKJ8Hu4E4nnQV3qXitdNaEfAlIhDijkmnImp2tCrucVz1Q5Z+li1vtQ6EtJZ4tWEGFUzmbtwsw9tvh3b9vcn79ixydssOzxpOU6lJ9dJcueSdqZzUds25w1tn3+Wruw94RV2mWFpBSoTB3fQ54hwHqX3q+iONTCJH9q0jd0uFHkjhFoLioMEMg1SQSJiLgZEIlkqPD1EEnjxlbfNIuEZ4O4XsV7RQoJhFLTt3XF7P+U5+S1h1+wQiVruWLa8sVcbf6G2CeDVdIlz04XrXXmAVv027dt2u0v2vFPNlj1SMZ6d7db08xttunzZXZg+XZv2vIlWPQcw4uLIhE22Kq4JXIpfJY3YeLi5VKPWxBFOJDHdQkkSETEzYBIJEOFwScS8ueDDz7w9crIC6wTLJGBWiOApxWNISeSus81vYr3kEeDEDQKGQXtK+d6ngebBLsgY2WRSaGYsXwhr6NIICelj2XRIY+P5e3i9L02/1dv2ewfvWwHn19kZ8ZutmPjNljzmibLXei1Uo9MEBEIEx9zWVkrHOWPssKb1vy9Knxm4tfMJb1gSZX34NevQhpkXqNceT9IRMTNgEgkQ4XBJ5ILFy70LZGCBdI4/JfjQEDYisaQEUnwmji46IJ7rx9OIMpDz0ePZE1RNxKJ1LwkZ8WyiKCcFpnkRQSKOaOxaJrKShJ6tl3SlLVzY7fYzO88bZ//P/fZ/vsmW2nJWbNzSrzeEe+K5eHZMz6bZ1KhLusFZRQmr5H3ygRGb2tjqFhBEfNVg3V+LZLgeqNczQ0SEXEzIBLJUGHwiYQmrWXLltnZs2edOII18k0hErJJ2eHiulbee94g3suOEGaNSGhaIp/JcWiE1ayypbQLMWLxxXJGZSgrwmEEl4ikfLFgbWtO25H31tiBp2bbsp+8aYt++IqdHLPW8k1J3xfe9zPJSjLMbhc9KTIpvSDIhJFjLLNS681XXMKYY+R6RHKFNFoujRIRcVMgEslQYfCJBLJgc6uwUgAkEqwSZCD5w5OKxhATSW3Uk3dYKy2uWAk0iA/hQlmTVuJbc8toLeKXlQ/ZasHySLm2g2RZCr7Yq9j15C15qsuOr9xneyatsyOTtlp65Vlrmbbf5v7mLZvw42ftwKdrLHOyRwVR4dBBzyKMIpN8sWIZhc/IX/jDrZG+8cj1ONXjpajUwPEKuZI0QplulIiImwKRSIYKg08k7GzHOlvs+xIsEvIkWCYDyR+evKmIRNI3TLaBSKpS2L7VLJf0jEqIL4aYqchykBSZPa5yU2CSZkExyinuHSm7ePC0bV+wztZPWGLN645Z5UTW7JxezLG8nZmy2yb//g2bcOeLtnfcMssc7lBhVJ4m5E9a/smPgggjTEJn/gj7k1Sc2BDFhGFljURyFYQyfD2JiLgpEIlkqDD4RAKJzJo1y06cOOFEEqyR0Ok+kPzhyZuBSCAGBGvjC6OepKjZ38MtMN0jvYTIciMskMi2tlVZIGwoxa6IZVkiieYOO7b9oG2cv8o2z11tLXvOWqVZqWnJm3Uo1GYl+HjWmhcftDl/ftOm3D7Sdo1ZaD1H262YLFmmp2CFXr0kmSO8R7gCsgv7l7DUfK2TnZdIvlwboQxfTyIibgpEIhkqDD6RMLN95MiRvgIwCAs3IijXgYCwh5pIIA/IBHEiQTwPG4TwGtOsB51ksA7SykzWwerV/c6ctR06a9sWr7PVM5fY/rU7LXmuy6pdsne65S6lAHv0cI/IQFI6k7YL83bbsr+8axN/9aytfnOqde+/YJWkSEpkUhSZ6NV6kvOKB5MPU4oh2/UWlX46/P3mdTIglOHrSUTETYFIJEOFwScS8mXatGlukYBAJMEyGQgIeyiJBFxJGpDJleLXlV72+8A68UjRCU9/RUIU1Jaz3JkeO7elybbMXGFrZy6z07uPWaVbCcOqyOi9pPR2dGSRxrIkn8xbgfuyUrqWHbbl94+xT37wmK19aZJ17T5npfacu2GFX5LOcizMaE8qvQnFKsPb1nv34cDXyYBQhq8nERE3BSKRDBUGn0jIDxZupK+EvGhs2uI4kPzhySElEo+A3jGiTKNJq0QaJSoFLpwzYqpcVO7SjBXWTWF8LutkdRat93CrHVqw2TZMWGR7l2y2njMdynfFURZFURYL5MFy8fmc4isrplgUEWTy/rucEimfzVjX8qO2/snPbeKPnrLVT4yznk0nrdpZ8FFc3rSlIMMaW2mlGaukoJfo+6/XUnNVhDJ8PYmIuCkQiWSoMPhEwjLyDAGmsx3yCH0jkMg3g0guCXmC9xgbyiIXOrlL0uRlEQjx8oto9aSUfEvKWnaesJ0z19qWqavsxIZDlr+oDCePZYmUM4pjquB7mLDLYkH+sLdJjnMFxN4kRVkqbM1rbbI0NpyzjU99bpN/+KSteuIja1vTZOwNX9ZtgqZ5C8vE+2cUWfKIPdl165oIZfh6EhFxUyASyVBh8ImEfUgWLVpkp0+f7iMR8iiQyUDyhyfR4UNJJPRz+HwRSIRRUvpNmKybxda3WCMlWRAM6XVLRHGlQz15qsWOb9htm2cst13zN1rPMVkhTD5kKXkWXGRCot4B0Wbnw0AevneI8o835vubyM9KRhZPj8raxaKlNp+1rS9Msc9+/Jgtfvhdu7hiv0hGtghLp8g/BOsJS8m30ZUoCEdjeeUYmiDD9WtJRMRNgUgkQ4XBJ5KLFy/aCy+8YLt27XLiQDGRRxy/CUTCcNqSLAaarcoFJgPqyDUpf4byurArYk4Zmpcl0J215gPHbcei1bZm2kI7sfWQWZdSwaRC5TUEokh5/hNVmqV8TqMCc1E6autjKRwJ5FViEmJK15mUKOukZ+c52/H2bJv+y2ds3h9fsQszt5idZOKiPMsovQrOl5NXHCEnX7qFPGnou+K9hHcVETEsEIlkqDD4REL+TJw40ZqamlxBZbNZz6PQ6T4QEPZQEwkRKLJab7qgeMhfEUkpq5zMKS8zshxSeSl6ZVimZMkLXXZw4y5bPWOhbV2w2tqPnpNyFz1k5BUWSD1fiaITCH5zVDA1EuHdKL4M35VpgUBeRfYxwZ2sk4LPiFc+H+mwwx8tsRm/eNoW/OI5O//pGsvvl9XTqeey8pc8goQ8rBqJhPfCkd83d9mNiLgCkUiGCoNPJMxoP3XqlCUSCc8b+kyo6X4jdkjUg766rhR4mQUTRRZ0jNORXk6KKCVYAOWevHUcPW/blq63ZVPn27412yzVrLxMS1mLQGhugjjId28WkygJJi7CiFEca0TC6K++RRfrwiTDkoQmNPpMcmKGrIR5JNljnXZi4hpb9osXbcFtI+zQa3MtvavNKu2Kk8irpPcIWVFGgxXCMVgiwTqJiBgWiEQyVBh8IqGGyxIpjSQCgqIaSP7wpKIxdEQiVMQAJSwRaf0SQ3R9Myn5yXl33tLN3XZmR5NtmrPC1s9bYc0HT1mxK+vuKlgPdWXuloci4iQigUCyehE5CELhXItIGE5c1DGveOSV2Kzup4pl5bWeSOuZMylrmbHNVvx5tM364TO2/Zlp1r32jFVbZXVAJso7muJ4H8EKaSSTgVqNERFfGyKRDBUGn0jIl1WrVvkqwCinUMuFYL4JRIK3RfpGsooJ/RuyMhjWW+zIWvuB07Z34XpbP2WRHVy9w3rPYYXoAawQiCer8MUgRTFIQRFlLUUsEScSSdg7HSJRqaq9G70cOss9YZIy+7ez9LzMmpxeSl5pI4lkDPuSVHqV1pacta84YhtGTLJJtz1jy/481loXNlmpWVZhAjKpvY9AHI3WSbRIIoYNIpEMFQafSJhDEjrbyYvQNxKOAwFh48NQEgkkwnyOijQ/K/ZWU/p9sdeatzbZjunLbfPkJXZ+21Efhktnd0WWSqW+a2FRlkAeEhKR+PwQril6gUzIfriJI0QSyIRmLJ8ZL6mUpPyLeVlG5Kf8lmVSkZ8QFRMX6TMpZuR/e8k6Njfbmhdn2Se3PWeLfveBtUzaa9VjKaswV4U80fsIZA8ikUQMK0QiGSoMPpEw/Hfs2LF28OBBV0rkT6NlMhAQ9pcSCUG4I51AJhx18TIiCQmpSzjl0UZpcFKDTgr5ouUyBW+mKvcULHGyzZpW77St05bZwUWbraepRSSizOyWpKXQRSRMMqRj3OeBSNgG1wlAGe/DhRUYzVzhFUAmNaukdo17vCOautjbpEoG0EZFpwckkpH/KTr/Ie6qZURyWXnS2yUyOdRhez9Zb3PuGGXLf/ymnRiz0pJNF6yYku2DhVMUmRQUCv4rrxCd1sCJS+0k/Lsyfxx9br+CRETcCEQiGSoMPpHQyX748GFfvJEOdmq95JErqAHmD0/WiKRqJxuIhA6GvCLIPAk3eoIGhkRcQ0MwpBhFKQc4gnEkLLLotX75zmOuyPXbJ/PhDYoexU8m1f1m+ZJMS9LO7z9lOxavt/UzltrRDXssfb5bFoj8zcidrALLSnAvomPUFH0jRCko1JAf7jWiy4iTR/3cRff6iET/9NZEJnIhi8RNGhfd45IewMLJ6JxRWuWM8uZsr52aus2W/P4tm3j7SNv09gw7v/aglZhv4vuayFc9j6VEsxtp9ia1eh4R6aoKSKlSVFbX57R4CSLvuFdzU0tEozQmQiInLroVETFgRCIZKgw+kTDcl5ntqVTKz0PzCUdkIFYJYbs+ktI7ufIKIpG/KH94wtMBC6DM6M1GyercO69d0+qm7xaofMBakiJkWXgsgYzc9MqvlCQtJZpVjd2XZ5cfyjar9JbcCjm4arutm7bYF1xsPXrOSuwnwmq+OaVReekL7dYlKNK+31fJRC5dTwBHco+OeIWi9CC6XhcceBMYBCmHbHhVSsMoSm5byppX77Hlz4yzT37whC265107NWuHFc6mrdqj9PWKHHL0nUiU3kJ9TowzE8OPlfhCJWeZck75VHYpSEpKEGXKEwxp1/O7JooTQtlCSPs10h8R8VcjEslQYfCJhJFay5cvt+bmZieNYJEEQrkhRHIVi4SJdgXSgoM+IqkfJejDkt+X4ivpnUm8v0G1+kAkPMYoqLRMh3ShbKl8SQpVeYRyFVHkujLWdvis7VberJs035rW7rJsS8L7HFjahMmJ5BH81dccRXIR4hKEhPQDPFYjki/qZcLlxJexp/MFS8IVu9654l/JFKzY0Wtd20/Z9tfm2JSfPW+Tf/uK7R+/ytIHOs3a5Z53nVMeKT/ZwrfIHBllKBtw5Uo5WVTKL7Ek15CyxJeoD0LYDeJrkl1F+pv+iIjLEIlkqDD4RMLM9qefftqXkYc8GkdrDTR/eBLFCZE09pHUmrYq0oH0OcgB5BE0bV3rch2yKCohzBQvuUKERKhVKzd4VgHgLi8FmstKacrfalbuk0VLnO20I5v22YYZS23XgjXWcfiMlbozVk3JXSrvkxRZGoV1ttDfQ0UkSFVEWJHFxQZbWAZV0tKbFeHpBSdEmEd77fjkTTb996/Z+NtH2MbXZlrH2pNWOZUx69AzCZFCRunQs1kRRKKYt2S+NrG0Nna5LpxDzBCK56MqDYoRlopbK4pMLV9rTWC1skYkIyJuACKRDBUGn0iwROhsZ2Z7GKkV+kfCsb/gSUXji0SiGjdEkpXfTiRKi8dX5xx5iA7trE5ZWp2O+UvNM3UFp0xwtzTJMBZXJGK9UovtGes53mpN63bb2ikLbc/yzZY81WYlWSc+GotNqqi5y3LJF0qWp6mMKMiLr5VIJPyhactXHs7lFS8Uv9KFVZVSqpM5q3Tr3bdLxZ/PW/vyw7b8iY/skx8/YfP//KadmbTRigeUn8252nL3eT2ugJw3FDADBSCX2npjWCA1gUSQRhJBFANdQ7gnC4e8lvQz+RERlyMSyVBh8ImE/pGjR496PrECMPmDhGauwSASH7Ul1qB/A8LAEYSChaHKssddj3gfOMuqIzVCoTkL8kE5ygEEkpHjlDJDVkjhfMKatzXZ1pnLbd3URXZ66yErtqWsghXSK1UpS6TMulsKFMJA0foqvQpnMImk0avgXfDSmxDzokcfWywyELkxPNibuFiGPpG3Unve+0UqLQVLbz1ne9+aZ5N/8LhN/+lI2z96gXVtOWP5cyoIbKylQ1VloJSriiSxULDqlEZlas2aqwlEUlsT7JLU7kEg4R9lDjulnxkQEdGISCRDhcEnEpqxwnIodLY3/kYG0kcCCL8qVjgtImlfKCI5UyMShv6yIyA1Z+IKkZAkgsMyuRqRkFxvsu8jETkUgVTb0pY8ftGOrNlp6yfMt53Ki54Trd7kU+lRWiAQrBBJIVfwjumiGCsvJV4jklqTjo+ycjaReLtZXfS/P+AxRLG8NpGQzwwk4IIyoaz4FdPKHTrOlU4GAxSUhkq3nuyWT61Kw6EeOz99iy1/6H37+CeP28JH3rejUzZa9rCskw7SrPT0Km9lobCtSlKes1lWryQjwfqoDUuWnwrfpSzCYJ5LRUSr8sbga1GzjuQOKYiIGCAikQwVBp9IIA+atbq6upw0EPLoRnS2A8J3Iln+RSKBICAMgkBfX41IEJq4+kgETcwPhuv2VqxwMWntu4/bzlnLbO2Euda8vcmqndKgPfKNjankESv/FnI1ciT/CkpbtlR0yUuZOpG4uqyRyWVE4pmt8PoBHkPIwUYCCQJYUqWvw7uk98tM+GzOj5hrhUzBMt0ZqzDjPqEYdiimOlZaC9az9bRtHjXbJv/sGZv1q5ds6yszrX3dCSu15Nw6qUiUbOtUaG2KRbdiAZnQRAiR1PpPyCOFpXfuwsAGkUmlColEIom4gYhEMlQYfCKhs3306NG2d+/ePvJAQt4MNH94+koiYRVeqUYnEgyLoLPZ1MmbnVQTLyqREIivZSVxPgtpZnvbRNF6T7XbifV7bNv0xbZz7grrOHRGylYOUkq8SKSalhRqzXP8gyjYgySvmncgkCBfIJJG0f/+gkevRSQu+uNzYyARFHsIjyPtfkqzL9eS1n2RQpk5JKTP94fXc8dS1j5nr6yTD23cD5+wOX95x45M3uwjuyqtsj5UHpLyv1vpZog0Axxo6vLRW04kiAKpk4iLiIRJlOWKKIfJlJ6CiIgBIhLJUGHwiaS1tdVee+012717t1sf5EdY1wkZqEXi+DIiUYIQdhgMm0wVdMxJ0RWLUnqYJ96Uhci7zqy17Ttpu+eutE1TF9rJ9bssy2q9WCA+D6OmgFnCnZng5JnUppMF0kggiLLqkqL3P1eRfuJqXl0pl6HxBlnPe4ZAdIRYmTOJ/uca7956JBfKlt7RanvfXWKTf/GCffajkbbhuanWuuqYFc71Wimh/EzLymSJGOWlr4gsT7CCGE5dGyJclHDO9yGBSHwIMQFFIom4AYhEMlQYfCJhRvuOHTvs/PnzfaO2sEjoJ7kR62056kTScRUiyRGelL1vNCWhL6OSpSmqaPmcwldt3GjWYdOnXj1zMWlH1u2ydRPn2q75q6zj4GkrdYhd6C9ROHRQVxiZpUxi1V36QnTlMiE3azlaE0gG4V8t066QAYCn+yX6g9CNwSugLymn34j3K+n9+x4psAs7N7YonYeTdnHeHlvx6McikxE2/09v2+Exyyy18bTZ8aRv92tdEpURFSmRhN6DiCSjwtIr4kiKNDKSImSinKmxmNxHRNwIRCIZKgw+kTAhkTyBNMISKeTJDSMRcB2LJFOQ5UPHsvQV1kOhV7XgRE4KUqmFFHqVmG69s468dR69aNsXrLXln81xMsmdV3WcEVvSrlXmkGCByC+I0EcqyX9yTleVZ5eE0UmMUvLfTiF6lghcU/oP8r+/Qu4HwwODTNF1gVwYbwChYKlAKNYr6dHFtpJl93bYsXFrbOWdo2zWvz1mm//4jrV8tNYyW9vMzqjQdCjNKZGs3gN+JxSa3op1qYQllWM5nUOwXvYILCLiRiASyVBh8IkEpXvmzBnfkwTyCP0jHG9Isxa4DpGQDJ9BLc3oo7FIE8SQllXSk/Hl3rPNCWveedTWTlpgKybMtQsHzrh14k1ZGSlFlmOHdEREdF777O6Knlcm9BHGdeRy0ria9B/k/1eRq4VK3mR11y033nvIJ0VZxgTZ6n1I7HUC51cwVxI66dTNExnLLjxih56baYt/8JzNv+1p2/DQODs3a5elD3Va+bwqED2QeNXS8pN+lITyLiUCZmg2RFySp5SDiIgbgkgkQ4XBJxJGa33wwQe+cGOwTrxGr2OwTgaMQCT1eSSNRMIIKvoyfKKgyAACYXtbhvVWknnrOd5iB5ZstuWfzLbdSzdZsrnLqrrn80eoicupK1iE9LoClHVVUlp0rCijyMM+EclcJmRUn+q+lvQf5N5XEUIhJo3ir1iJCoKF5XNo6g7g+azyr1tmCUOpC9yjf6hT+SPLxFp0fixryQVHbfOTE+3THzxln97xrK19eZqdWXrAUk0dcpNXPiusrPxnqZWSRKTCoASavlhWhfhFRAwYkUiGCoNPJOfOnbNnnnnG9yMJ5BGI5EZYJYTfN2rrCiJB+WXzCievxBSlJFlavTunl1ay3MVeO7dbCnD2Sls3fYmd33PCyqpBs/wJS7AXRTzeMa/MIE9cFFdfi6tER3FBRAHLfAXxzKpr57rIt7rcgPRfR/AduTz0Gon4uRMHaZP1pjQinub6NQgmLWFyJ/1NLJvPhlzsv8LKxtUelZ8OWS2HMnZ+9gFb+MQn9s4PHrePWFX4xSnWvmCflQ6InM+kagSUVqzoe1HgCsLjQTwjIgaMSCRDhcEnEvJnxYoV3rwFiUAcEEg49/zBkyB1NF66moC+3yKSUyKSttC0pZpvRpaDz2wnnqpFV1lHnRnoXTlLnGi1prU7bcWEObZ14VrrOdMhS0XqNqscyUl5ym06lbd0rqgaeW0V4aLiWiwx0kw1bIawilBqiz0qkyr6fT0hMz1DLwmNbjUZGJEENOZNo1yNRBBiwdF3W2QZGJY6kWaHSJjhT5NXXsK6Y4y+EquIWEuWSqWVL3nv54CsmdmezZYtIwul2Fyy/P6EHZ+0zRbdN9am3PaUzfvJc3Zw5GRr/WS95TadMzujTO7mfchLZY2KwaVyxJ/riGLo//T0ZcLtiIhIJEMGfYaDTCSkP5PJ9C0hT/5cZo0QWIOEPAtK4vK6+yVxNxL2yiirdnx6xS5ZJLusejohQpDyL4kQJAztrdCM1VOwXFvKLsgK2T59qW2WFYJFUuhm8UIpdLbKVZppBnNrBKWq+CupfnSFDPnBTGg/KdZqQVZJMRCJXH3hWBcyy325dAwkgtwI8B6uJYFMrnb0fFc+IYFIIJCwXAz9GD4LXvnCAzgnT9L6kVAaepQPvYyKw0NGeMk6sfPKw309dubzDbbwntH2+W2P2dzfvmybn51oJydtsq6N56x0XEzSKg97FUe8DhENkesT4qb8kgP6m1hiRfag4shosIJlKqyOxsNfRChLEd8SRCIZKugTHGQioYOdSYmQCXkRrJBgkdQUhYSjAvZFBnUfNaucdGUWhN9cd1LxeErh0eYu4jizcq+1zt9l5eMJq7KXhq6V6ShnZ8Ju1ZibE3Zw5Q5b+/k827NgnSWOXbRKQkqoQBwU0aDESJCkfrhMHJdd1AOKw7WPDed9njcevx4Q2rXkygsciFnQ4x71a96vvSvf8IrJjSJtHz9M81VSDlg/80zKzui9LH3ucxvzsxE25kdP2fx7PrBDo1dZ2/zjlt7XZeVu0UJGhYqFMSlzTGbxOT0KhetZUZvIhCZFlq/PqXAmRSJdlYx1F1Nebq+Gm//7i7ihiEQyVBh8ImGr3U8//dQXbgwk0pcvBPQlRELtGLmMSHSfeRwI+qsoi+LU0t12dsomyx/tspKIo+h9HUrTxYx1HjxvuxdvspUT59vRNbss19xjVZFIKZmTNUNi6pGN+CuhjKMg0Ebls9Z1LuukRii6zfozDBvu0Ps42msXlh2xDa/Ps0m/ft3G3TrSZv7iDdswcrKdnr7FOtY1WbGp0+xiXu5V+Fi+vlNvHLJXpcCb3rB8sGiZm1LIW07vrlBUqaUsXQU3//cXcUMRiWSoMPhEcuHCBRsxYoTvR3JVImkQb76Q0LwSiKRRGknE2/ZFPqVixdIdGTu7ZLd1zpFFciJh5R4pGl3rON9lp3YesXWTFtqaKYuspemcL5teasv4XBKsEfdH/yP6A96j7BIRCetn9Y1U03upovgZ9QahqAxZlzK5VXKmaNmtLXb4kw226IGPbOIPR9rU7z1uK3/7hu17dqqd/myDta08Zun9HVY8m9a7ylmJTnqazbBSWL4lU/GmylJnrjbCjrJ6Fdz831/EDUUkkqHC12ORTJ8+3U6ePOlEciWZoMiDuJWhaxDGlUQCufSRCNZL3ZLJp1VDTZbs9ILt1jF7l9mxhJW6CtZyqtVWL15rsz+eZsfW7raiyKMoxVNmrSwpN6wYNqtitvuXpSHi6iDf2N6XZU9kc1B6VI70j3el9+RdSSLrIgMdeuWaFYZZcgVSaS5Z5UCPJWWl7H11ji2/6z377NbHbewtD9rUX79s65+ZaE0fr7Tm2aogbDpjvftbLN/UbdXjKe9bqXZJWK2YNcEikUSASCRDhcEnEmazQyZ0tkMi9I2QJ6GPJPR1uPJBII0r5GoEEkYaeY23q2SdKw5act5ey20+Y6c3HraVc1fY4tmLrfngKSu1pK3cDYHIfb2WzFqB6VzBcrwvj2nEXwvyjZ0Oiyos0Eit+dGLhxcdJFss6dvQu9e7YjmaclpvOKnC04WICJB23TuRt67VJ2z7uwtt5p9Hy1J5xqb/4Bmb99OXbMHPX7XV94y1XS/NseOfb7Fj8w7YkUUHrHnzWctezEQiiaghEslQYfCJhM528ojJiFcjEojDLY4rBTcelwYSCQRCGzziCy0qkGTV2pbstZPvL7ZjE1fZ8nGzbdOyDdZxodOKvQWf70BzSJUZ7SIRhgMXi2VfB4r9QnQ3oh9Q7n+BSODp0KKFZHWf7XlzpZJlMjlZkHnlvwoPZYv1y5gpz1peKlrWKR/bJCeLVthwwc5N2Go7X5lrS+4da5N+8Yp99JPn7IOfPW+v3PqoPf3dB23ak+Pt7OZjNea6Cm7+7y/ihiISyVBh8ImEHRIXLVrkExMDeYR8QQgm1GKD9PW9S88QjqJVq3WGai4SNJZIonQxZ0c/W2VrH3rfdr4/x1p2Hrd8T60WXEhkrSQy4RkflSsCYuHGdL5gKREJc0QikfQf/g71ophvwru7nEiqlq6ULFHIWrpc9NFWvkc+5C33vkdKXi+XUVq+bL2ONFeJWKpJiY6VzooVzuase1+rNa8+Zkdn7bbN7y61pU9PtZ3vrrCOrWdqAV4FoYxFfEsQiWSoMPhEwqq/zGxnGXmIJFgkoVmLPUJQ5peW6WgkEcKqC0NDWZ4DK4R4MZInXbae0+3WvOmwrRjxke19cbLltpw26yj4/holOtODdoNIlCbvYC9JOSmslGrK1JblU0Q/4e8SQkB0jiWJhVkbbVcRmSiPVbLY7Cqnl5Gp5C1Xziv/C5bnmBfdsCCm3isd9F5hoGzxrvTuWGW+TEc77xCy6dC9Vrk9r2cu6pxhxjxzFdz831/EDUUkkqHC4BNJW1ubffLJJ3bs2DGfhEj+QCI+u11HmpayEhbyy9V/sxZTuai4MceDZhBIpD4zvZIqWFUkUurKWHvTWVs7c6ltnLTIto+aam2frTU72uNzGHwJ9LpC8viimOSNX9PRl/6oK7xIJP0EL5/MU57C/hA/zZCUodrqyDR3BYFMii4F/ycSqQuTDH3xS5E6Ez37mjCpNISKg4RKAZUB1UVqo4zllBWK4/uLcEQiGSoMPpFggZw9e9ZSqZT3l5A/wTIJFkmtu4PJhaq1su+5pJSX5UKzh1siysesfkuKIpCe5nY7sfOQLZ4w27YvXm9d+8/a+RkbLTl7p9nJpFV7lQYpIHQSukkJ8/gSXhghBpGwDAjt+lER9RO8fDKPsoLyr7dJ1ggFC4XyJNE/Slcx/JM1UhTTFyS1f/X923XdR0GokuG7Kvr7l9QZg5WJWcmAssIe+/ri/EjwERGRSIYMg08kWB5XkkgfmajWigXCqrJUQF1fyG/mt1H7JByasKoZxTEpBZTIWcfpVls3f6XNHj/Vmrbss3xbykcAdSzbb71zdllVFkmlR0orx5a3tdqrklUbXsz70DESyQ0CL/8qROJCIcIEhMn1nlk1ubasvt49uyO6YI3UbBSkLCJh58RqGTKRsPxMEH6rLFXLLK2DBaPyKj8RvVFiE/FtRySSocLgEwlDf1euXNm3aCP5EdbZYoYyVkheiocZ6ugf6QUpDAlNGnTCyhopJwvW29pjx2SFLJo421bOWmztp1p886TayJ+KtSzebd3TN1ulqV1EIrUkVsKYaSQSfx91RccijH0bLBHRiL8eZByFpZ6n15Q6qdRIXOUNMpCUVWPAOgn/3CqRXEYoVyMVRBUTF2bUe6GJ+NYjEslQYfCJhJntzz33nG+3C5F430idUCCS2ogfeUmzhcwSRloZHas+kkfxEYl0NXfYpiVrbfa4KbZ//U7LtPdaqSdnZV9sUWmQBXJh8Q7rnCUiOdGtaxAFHFRrCukjEsQDEzkpDj6CKBLJgOBlPORtg9RIRA4Q9DxSJxbW5kLooGer4pxKXlaFKlcXbBT+lVUumTHvJmogj7wkJ8nWpaB7WD4REZFIhgqDTySJRMJGjRpl+/fv97ygiQsl3jcMWDqAJvF8TopdJkQFRc8QXZFEviNjzQdO2rKp823x5Ll28fAZqyYVS9Zf0n3i53NDkmU7v3y3dc7bZpXTPb4UPFYOo7IKEqyQPgXni3MpbFlCtfb7SCT9BflG7imH6+WmLvW8poxcTiQ18bKj10fHOZ3m3j8m4VgbwSeCkSO2LKY5jH1fKiKTiiwT9oFxEbG4sJR/tEgiQCSSocKNIZLrSUH5sWfPHuvo6PC8wSIhT3x58rqy8eZvKX/meBBmKZG3tqPn7cD6Xbbg05l2cN0uy3dmrNjFfusKnEkKkIjc+zLx6Yo1r9xt7fO3WflUt5UyFcvWiSRfJxIlTMmVhIUFdXQl5Rouoj/g/UIkKvEuYTKp5yplX1nrOh6HNcdfIBK9ntpALQmGBRKeg4zwx/vS9KAvHa+QUhL2fkfSEponIyIikQwZBk4kKJJQKw0K5ZJI56vGmM6JAEQc2WzOsrmCN2exDzh7fjBQx1h23DeWUm20M29n9pyw9XNX2jyRyKk9R2WZpK3M8F/ChUAY2qtz1nFi0caKiOPsil3WKiIpQSS52lBiOtNLvAMnEvmPlqoTCZ22PuTUYx/RH5BvVyMSxIlEDhD9DI5dvOw0Ctfq9xqFa04kephdR5iTopJgvQohoRC7678pqhERkUiGDDeGSHiOCWdZSUpX2Cvdt7nV413pjG3bvdfaWjusrGpnIpGxTJ6dB/UcCt4dybOWgqVPJ6xp3T5b/MkcWzVjqbWdbLEKkxAJT/EhTLgATnBukNASxojRUyu2W1t9q13mn9QmwlXcjQ56mD+SugeM+qEuGzvbBwby7mpyI4F/vD29fr0vBOJinkrt940OL2KYIhLJUOEGEIn+0JZ9JZEgOd0/e77FXn7+NduxaZcVElLbsj7YFz2fVFgsC94jZdBWsJ7D7bZtxmpbOHa6Hd2wX1ZI1vLdsmSwRAirzgHeV65oNcpfTSQSiIQxQpFIIiK+IYhEMlQYOJGE+QF0jgblTZNSbcSUWbItYZ+/Nd6Obm8ySyh/zmatc8sZy57uNWsvW+F0xpo3NNnKj+bYxunLredEm1W7C1ZJqt4JE9XDqut/J5JarfSSRCKJiIiIRDJkGDiR0FvKqBqWufD1lOQTi/VBIvRj5Nsydm7LcUsdlulxrmTNs3bZzpdmWueKE1bceNFOzN5mq8bPt6bVuy3XkjLfvCgngugt+rLjDNcNJEK8nEhcFAbhEIVIJBEREZFIhgo3hkhYXY/ZxjRx4ZNywC/78yyq1y7lfbZqhfWttu2RiTbju0/ZiSfnWMuoVbbrwyXWtv+871xokkqqbono2WLoTEf369LlEohEYUUiiYiIiEQyVLgBRFLWSVlprhMJS47wGJcZYVXqKFjPjguW2dNpx99ZaVP/6XEb9X/ebkv+4RlreX6plfZ2WPpC0vcNkea3QqJghQzzA0QGuaIVisRJ/tUFAmkUj28kkoiIiEgkQ4UbTyS15cNFIOhrPd9x4LxNHznWNr041ab95Fl75f/6mb3xf/zUpv6X++zIw9Mtteq4FdozcqsHFCZLiadTWctkC1aUJ7UmLL/l57X4KV8VSSQSSUREhCMSyVDhxhMJ/SO+fYTuleVHz6lOe/e+l+3dX4ywd255yMb8w/02+/sv2vxbX7KFv3nHjs7ZZh2n2ywvKwQ/i/mysYw8/SB5EYkv6Cj/FILiVyMOOvirIgMkEklERIQjEslQ4cYSCSO3GLHF/kPsgOvrXfUUbO6HM23SMx/aslem2vHPNltu+VmzXaKbY/KgU48rHLxhriCGSW1ZeYn8QCCRS0RSi3NNIpFERETUEYlkqHCDiIT1jkQkrJEUiCSQSUFWBWtfZc/1WvGcaOGCHmrTjRaJvMMRlguTDCEeXyVFQn87K6HQVHaJSCCAQCKSaJFEREQERCIZKtwoIqkp9bDHRyORdKey1nK+3XK9ogX9ryQUpvyo9uh5OVDQNaNG+r2PSPQcJHI5kRBD4neJSCAE73SPRBIRERGJZKhwI4hEf8QELAte0gX6SFgepbZEStVau3rszTdH2/69B7ydKt+Tt1KubKW8LAyG9up51+3yJswRkfdOHpAIo8BqRKK46V9FEasGqRBf+RGJJCIiIhLJUOFGEUlNWM2XrXN95JaOnLe3d9jTT4ywnVu3u5tinhWApeQrJUsU81YQCXl4kkAmgUgulzqRhCuKM2QSiSQiIsIRiWSocGOJpLZXN89zlN+yUhLtnbZ++QprOX1GzxUtn8tYvpS3VCVnyUrWCvIo6Hg0untZF6JAzJAaiUQiiYiIuAYikQwVGohEirWPSKRrLyeSvSKS1SKSzj4i8QntOoVQ9Ngl4aKbFvqBZHJ6Rp6kUiYWkUWSsWI5Z7lqwbJV9uyWm7qOd42On3WvEBS9x0v/nEicQK4gknzVTopIWkUkFYgkLyKRv1ndi0QSEfEtQSSSoQP9DL6PthOKlDJxrmnwOpFURSR7RCSrRCQd+i1F7FvVStEraa6fg9ZHriCScq5gyc4uKyQSVi3m5XfRipW8ZSoZ6y2ldA4r8ZyErKpnF4eal4qT/62LIhdIpMZmejBbsWMrt9nZpVuteK7Lqjk2tCpZTvfZarf2HiBNSZ1IsJhK+g1x1oOMiIgYzohEMoRA0QYhvtKzTiR0VDiRVOzoxt22bd5KEUm7fkMQIhK5g0hc/5PEa0hHW7tN+PRTO3b4sPR+0dgmlXW5CkXZAyIRhXjJ/RW4xmXBQ60dCvqTzFvT6i12ePlGS1/oFJEonKLC8D3ha1ZWrcmulk4nOiLvCZDof0RExDBHJJIhBMpY4gSCTuV4GZGUnUi2zheRnL0GkUiuhYsXL9qIESNs586dvs1u317tNyJfCJzxwsmiHVq7zQ6u3mSp1i6zfEnWjwhEYdH05RMZJTRiRSKJiPiGIhLJEAJlDHkg6FSEa31NW2U7MgAiSSQSNnnyZDt+/LjnTblc7jsOOH8InDj2luzQuu12YM1mS7X3iARrkfNOf0kkkoiIbwEikQwhUMYSyCPo2C8QySYRyQIRybm/nkhIfy6Xc+IIFkkgkvC73+BRLJLeoh1ct832rZFF0tYtIiGOtX4Q+n2uSiSNov8RERHDHJFIhhAoY8kXiITmLYgkU7YmEcmWfhIJZJFKpTxfXLE3EAfnA8ofvGogkr0ikt62Ll0TC5bKfUQCgQSJRBIR8Q1FJJIhBMpY0kgk6Pq+fpJs2Q5v3m2bRSQJiETEApHgBiL5stS1trbajBkz7OTJk32WSMiXcN5vEHeIJFW0A+tFJGv7QSQ3+/uJiIj4aohEMkQgahCG5DIikfQNAa4TyaZ+EklHR4fNnj3biQTiyOfzbqUgAyYSHiWOmZId2Ljd9q2r95GwGYoih9+hn8SJREeI5DIyGUj4ERERNw+GM5F0dXXZfffdZ83Nzd6xjOLk2N3d7UeIhuNNKT2SroQlJT3dirN+B+E31xMtXbZj5UZbOWOBNR86aUn9TnT2KH11d1fz9wo5f/58X760t7d7niEhj/otCp84JlsVx9XrbdvKtXbxdLOu9ViyW/lO/JT/3UiiduR3D/eC3MzvJ0oUSdAh4ZjJZLwSFnEFhjOR0HTz8MMP2/PPP2/vvfeevfrqq/bOO+/YyJEj/feoUaNuXnlzlI1+8217583R9tao0TbqrdH2BvJ27Zzrb7/8pr024gV79bFn7O1nX7H3X33L3n51lL326uv2+utv2pvy46p+fw3ylsJ+7/VRNub1t+wDCcf3Je++8ZbirniOeuuqz7noWZ7neNX7UaLcBPLmm2/ayy+/rG/tdT++9tprtmDBAq+YRVyB4UwkYNOmTXbgwAE7evSo7d2714e67tmzx44cOWKHDh2yw4cP35xy6LAdOdRkRw8dsabDR+xg0xE7UJdDkiO6fuxAkx3attcObt5lx3YesNMHjtqxg7p/ED+avujn1ymK/1HF44TieFLC8dhB0tOk9NQEN31yxbNXvR4lyk0mTU0q09It6Jhdu3b19TdGXIHhTCR06BYKhVp7vM7pAwjt/pifYWTSTSn0EdDRUe8jKemU4olgOHsXAh3a2ZJ3aFtOP7ipn7Xl3+v9DkMloZ/D01CXcO0K8b6Rq/kRJcpNLFfqD3RNYz9sRAOGM5HQZtn4kpHw8iGV4UokCLe90z2vPxBJ9hKRlBkCDJlczd+vS+ok4RKJJMo3UNAfEAfCOQjXI67AcCYS5kjwYsPLDi+Z44BHJQ02iBrlEdE5nMEgqD4i4bITic4gETZSrxNJhZFbUtxDnjzC/2slImIYoVG/hN+RSK6C4UwkgBcbZmlzPmyEWnq9Js95SdfCxlRsm+sLHXIPN8UGwXSpWzFX9ffrlGBtXEW+YJEEuZo/UaLcpIJegUQam9AjkVwFw51IeMmhPyRYIYFYbmopi/hYl4pl4UUOBRFGVnFni9ycjnkp3WJB6ZG4VYJF4laJpE4kV/X3axTy24UJiA1SlYSl7JmGzyZbCGn25xAlgOOVfkaJcrMIZRtdEprNg55BIq7AcCcS1pIKtYfQ2R5eNucDQfD3WhKaa77s2lVFROG19bpFQn8HFgmWCcLvUpGVdFVovQOlJlWdh2eu9PPKOF/5+3pypduvBDlz98TlOtJoldTyR+d/pTTmqf70nX+ZRAxfXO09Nl67nlzNbdAJ15JrPRPQeD3iCgx3IhlMhIIUJNTA+65R05ZyzKYzVswXajXu+rVwXsjl/cj9fDbntfdwLdTSeR5/r6z1QCRew6+7RXgWP0qFS5ZYkBBfJk2FPiOO2WzW3YZzjsFqC0cQ7gW/vuyDIZ0eD8WHeLIPCekh3n5ev068SXtRbp1QcKNzz4/6Mwj+5DKKQz0vQ3r57WHV/YWYOOZViaDyEOJMGsNv0oVEDF80fn+hPCK85/B+Q5NTKANcoxw3Pht+hxUwuBaeQ8J3FMIM5YfziK+ISCTXBgUpFNhQqELBQ3oTSVd+rhwlKEauZVLpy5Qi91CinEMaTiS6jzJFYXI9kIMrYh2DIg7kk9cznAfSQslm5T9xCx8Qgw9CfCETlCrn4cMgzsFMD7/DkXThT0gbHx/3rodAIlgLjelBnDhIl9LBkXtIuO6/dY+8wY9AODUrrUYiSCOhpHtTViDtcoN7D0txJn1BkRBvRvMFSzVi+CJ8a5RDhPfb+B2GMhuuU65DWaAchDLA9VA2+B3K+5US/G0ML+IrIhLJ9REKZihoFMJQYF3J1ZUaii4oRhQfCtMVa11BogBxjxLlGGriuMcdpBMIyJ+r3+M611wp6xhq4+F+KPjEq7F2znXOuc5vPircgUAwCOekp/Hjwv1X+ZA8DvV4uGKvC9eC9cA90k6aQr6QV1yHHEkf9wJxuntdd8KsPxPCCCTDM/jTm+ztG7kX8iCcI5xHDF+EshiE30HCNd55Op32a43ln/PgrvE7QAKh4Cb4wZFrIdxQhiK+IiKRXBuNBYpzBKWL+HldQQYLo6er2xW+k0VdKQYliRuIgGsI950k6sqW34EccIsEv4LyDETSZ9XoAyBugST4oMKy8XwcQfhIwkdGvMM1jiFd3LuSUJDrIaSFuIU84Dw0Ybn1UU9/SDvuuI51AZEEPziHSElvSHtav0krlldKpIHfPEc+Y/lxnbSTbtJHHpAG8iAoi4jhC95fY3mkzDYK75v74fvkSDmgDPD+ccN5cIebUD7COfco++GbuTKsiK+ISCTXRihMQShoCOde4KQAadZB4aEoUW4oyT5rQRJq4ijZxiavQAooTM7xI1znWqMfwR+UMtc5d4LSRxDiwkeBUg2/Ob/yI+Jj4XdIT5Dw4eAeN5wHt9cDaYIkiAvxCk1cQSAE7kEGLNIIWbgb8kMSniXNuA+WB9YMz3Kd3zu377APPxhr745+xz4ZN94mT5xkY8d8YG+NGmXvvvuuL5XPkjjJpPJfigRwDOcRwxOhzHKkDFOmeaeNZZZrnAehzAY3PBPKe/huQ/lulOAuSOO9iK+ISCTXBoWKwgmCMgZcd6VVV3bJnoQf+X3qxEnLiUxc2UshutJEUQYlieLkuq5BGF0dnX3t/qHGjeBHqn7uVoueP7Bvv3W2d9SUrtwTp87OTq99tbS0eE2Lws9vPpggYeXSQDbEH3CP57kfPqDwwQUSuh5CeiA40hrEf5NOxbO1pdVJJFgl4VrLhYtuZTRaGBAt1yARBALiOvmb0Tl+ky9O2PW8D+mjI5U4IyH+3IsYvmgkCMolZZd32vibMkp/IEfuceQeC7oiwR/KBPfCs+fOnfOyH/xvdBO+ASTiKyISybURCh6gkFKw+E0B3bBhg82ZPcf27t7jyg2leu7sOXt6xEg72nTEldyeXbut9WJLrYlHZIFs3ripT7HOnjnLxrz3vpMPbjiuXL7CJk2YaOM/Hmczp8+wjz/8yE6fPOX333z9Ddu4foMrXBTtsWPHbPXq1b643JgxY2zhwoVOKHwg1Mr4IPjI2JNkwoQJvqR8+EBIB2527txpmzdv9mXluUY6w4cU0n4tFPT8wf0HbMO69bZ65SpbsWy5bdqw0bZt2WptdbJgld8F8+Z7nCGG40ePeZoeeehhu//e++yB++63u/98lz14/wP28IMP2TMjn/bnIQ3Il/ROmzLVPh3/iecNllsg6d27d7s1Mn78eFu5cqWnFTJta2vra76IGL7g/SGUxUblDoFQ9tesWeMLs1K+WVBx3bp1vsAiZXnKlCleNoIfSGjuolLFyr5vv/22n4fvnHuRSPqJSCTXBgWKAgZQuhQyjqwy/MEHH9jrr75mC+cvsK7OLq9JXzx/wX5xx8/t0IGDbjU898yzrmBRotS8jx05avfe8xdXvhANz37w/hh/DvdNhw47uUAk06dOc//vuP1ndkDuIao///FPtmzJ0hpxScnOnzfPZs2aZfv27bPvfOc79stf/tI/JOIciOTChQv2xz/+0b773e86YXANsqDGzjkf37Rp03xPFz4c+hu4F9J9PbRLYUOEv/31b+zXv/yV/e63d3ocn3jscSdMLIennnjSxn30sRMAcYYEzp0562R7+OAhO3n8hJ05ddoJZq6I+cXnX7C1q9c4cULCUyZNdoLCj5dffMnzEGuEex+IPAOBTp061Q4ePOhxByGNEcMXlEHeYbA0+E2ZvXjxopPHE088Yb///e/tP/7H/+gb3LGlBGUBC5Ul3z/88EP/DvCDsg2R8Hv//v32d3/3d/a3f/u33iTKsvD4G4ikkUwiviIikVwbFDoKEwWYwskS9aNHj/YC+8ADD3iN+oXnnvcjte5mWSQQCYTgRPLsc64AUZjnzzXbqhUrvdZ9WooTi2TenLne7o8i9eYrkUWwNviNRQLRoGxRwCjo5UuX9TUDUauCRLA0fvvb39r/+B//wzZu3Nj3wfAxUCtj86/f/e53TiR8lKSHWh0fGO7YwwVC4Zx7jR/u9UB821rb7LNPPrUd27Z7Oui/2L51m1sRDz3woN3yb9916wqi9eYtiTfzSfy38smtNaVv185d9sZrr9v6tev82ro1a92fk7LUIA4sMvpIsOgg2ldeftmtMTbq+uijj1y5EGeEtCMRwxeN7zJYE5RZLE/Oac7cvn27/af/9J/8O+AeFjnE8Nhjj9n777/vFaPwPOUEcvn5z3/uVizPfu973/N+Niyc0HSGPzzzZeU/ogGRSK4PmomCQjpz5oytXbvWTWo2z/qnf/hHV6IoTmrYKDuaaCAS+jIee+RRtyh+9tPb7ac//okf//kf/8ktEhTljGnTvROZPoN2KWRq4ShnlCvkQe1+zqzZPsyVZqHf3/k7m/DZ5+4/zUkvvviim/QQCWRxzz332NixY/03HwHNO2Fjnqefftr3VOAjCbUuPkbIg49q/vz5fc1bjW3R1wN9OPTrQKaQHpbYqy+/4kSAsqdP58nHn7Cpk6c4+YV+E/o8sFAgTAiE/g/St3TxEhv91tu2a8dOvwfRQqSnTp5y8qHJa8STT3lzGbJItU/iiZLAqqI5A8LnfZG28N4ihid4h0HCe6ZMB4uBHT+xwm+//XZ78MEHvfxSwfvnf/5nu/XWW7088CzNV6+88opb7X/4wx9sy5Ytfp0maizxl156yf7lX/7F/YCQKPfcpyxFfEVEIrk2gjIOtZMwyY/Nbm655Rb7+//1d97cQrMMiu+gFCmEceLYcSeEUW+86UqU7WVRhHv37HWrAvf8pvb+vKwW+laooWNldLS1e7/Anb/5rZMGhERtHiX8pz/80ZuRqJm/9867NuHzz/1DoBb2yCOPuPUBYVDTgjBo5nr22Wdtzpw5TiZ8JKSHD5IPM3yg7Pr22Wef2dmzZ/uIhI/1y0AaIAaa8LAQ1qxa7TsjYjW9/+57ds9dd3sevfP2aCfDEyJH7tE8B0nQjLd44SInEI6PP/qYEzF+7ZZ1Qv5BtqSd/IR8P//0M/v//u7v/R5b9ZJO0rBs2TK3Sk6cOOHp4p19lTRE3LzgPQaLgnPeJ+WTb5AKFNYFxEBl70c/+pE3c3KPMs6uqZMnT+77fsOW08EvjrjliGXDPcoRvylT3Iv4KxCJ5NqgwCEUVAoxNZQnn3zSbrvtNlfap06e9Db9H/3ghzZrxkxv+//j7//QZ3FAEvRzUDPHYqH5i05m2vlRwChP+hggFmrkdCbTTIblQof0kcNNfR35+Adp0V8A4aBQZ0yf7iTCCJS77rrLd4vkA5o0aZKb8Z988on35Wzbts07FunbafyQOPJh0uRFMwDtxfwOpv2X4ezpM95cR5rpC8FKgCjJk/lz57mlBjlADFhbEMjIp0bYa6+86u4hGaysl1540b77r/9mP/j+bX5OOiFg8m+GLB3S73vcS+g/+p///X+4O5rV+OB5N+vXr7dPP/3U00DcuRaJZHiDshiEskoFiHdLE/OIESPsF7/4hfcBUtb5Dn74wx/a448/7hW+t956yz7++GN3T8UIaxw5deqUH2kSpTmL89OnT3trA2WHc8pUCDfiKyISybVBQaIQBoW7fPlyV9KMFmI7X5phaJKib4C5DjQ5YTUwygrlN0kWx1/uvscVLZYENXQUK0RC0w+dyxAJo5uodaOUISSep8kH8sBCoXOZGj2KmH4YlDJ9BVgkfEAIzVpYInQ2st80HwgfG30fEAiWCUc+MtIEWVBboxaGqQ+RYGmRVhQwxy/DNhHFxM8nePMTVhJNXPT50NzHaDaG9UIK9JH4EOlibXgw8SevIBzIlGYvCJfmMfLBm7yUdkZqYZH4xE89x8CFZ59+xvMskAwfPemhuZEOd5RMGDAQMbzBN0dZhAwQiIRyybvF2sbK4D5D8TlSFij3YdQW5YFrNNv+6le/sp/97Gde4aLZ67//9//uHe5//vOf7c477/TK4U9/+lO3aiEmwuZbifiKiERybQQlFQoqBYtCjKJi2C1DVyEFmp9QlJAKTVv79+5zZUjTD5YIlgWjtlCSodOZpiyatmii8lFb+k0HPZYIChUCgahoAuIchYrb5nPN7jeEM001fYa68kEFIuE3zVv04TAogBEqfHS0A9O0NXPmTCcaSIYmLz6aJUuWuPUS9qPmow3keV3oNmRB/LFOaLYijgijregsh/wYbIDFRbr37dnrpMuoLkgVMiVvsFQgHEgGEiEv6Xin+QtShlyxZCAu8hrr7tlnnrGtW7f2NW2NGzfOm7ZCGr40/hE3NXh/SKjcQCR8k3x/lHMqUAx+obxTUaLTnCNlmZYDKkah34/yQIsC55SPFStW+GhG/AllJYTTeB7xFRGJ5NqgQAWhQDK6iREfmNAMp/2nf/xHb9ZiZBIjlJht/e/fvcWOHzveN7IKIkD5Ma8Chei1chEK97kHcWBl0NTFfZQr1su/fedf7f/+z//F+0lQqvQJ0H8AcaFoaQajTZh+DZTnvffe601bEB1mPfGjVkZHI7X0F154wT+euXPnunmPu6VLl7p5T/8IpEI7MR9P+Ij4wK4L6WlIDeIgzlgkEB4DBLAaGCyAhcZwXtyRPqwVLBisLyyS5cuWe/poqgqkQQc+Vthnn37mTVlM2mT0G3kAYZF/PDNG/qBI6CdiGDQDDVAuQRFwjBi+4P1RThEIJHyLvFuuYUn/zd/8jbcUUJFg1B5HWg3oO6FigVuexfrmGX5TIeQ74JvhN0KFEXeUe9zhBsKK+IqIRHJtULAoZNSEKGi0oTIBinZUxrKjzGhyoekF5ccQXzrJ6RNxRax7kAjNNhcvXKx1TusaNXCarpIiE7dQRCL4g4KknwGFisJ85aWXfa4JNfi7/vRn+9v/97/5cFiauZi8OHLEyD5Tnr4QamB8aDS9MUqFuGJx0McDUWB50LGOBcOHBYEwIZH+k1WrVvWlF6HW9qU1MunpI7K4GNK8aMFCJzjSgJAmyABywTpJKzysDYiGjngGJGClQLbkBQMSyE9+k088S9rpK8GywVrZvGmzu8V/lpehqQ6lgVXCyDOsraAUkEgkwxu8v0AgoWLT2DRLxelf//Vf/RruglC2GdFI01Yox41+cI0JrH/605/8PAA3QSL+SkQiGThCTQeCoS2WWj6FlhoNtSSGFT7zzDNuciPUnD///HPvDGTkCeZ1KMAQAEMY+RDuuOMOH43FiBSIgloUNa1Fixa53/Rr0P6LyR5IAHCPD4R4EQ+Ejws3KFyGMKN8IRaa6Gj2gnx4JjTf4Zbnrgfii/unnnrKfv3rX/vseZrPaEpj5j9NaMxvgcQIn4943rx53gxH+ogL+RHygTRCDEwsRFlAguQTlhNxIjziiHCOfwiEiV8MGiDeuA1kEjG8wXsOlZvwvkO527Fjh/23//bf3AJnoAUVo/fee8+buCAJylb4Nnkm+EXFkO+GuVURNwiRSAaGoNA4QggoPsa385sCS7/FxIkT/TojvThHaaI8UbCLFy9296FWhdKkwxyzHbeY7VzDquAj4DpNVTRZcQ6pMOIEpRk+mPDBcQ0/Q/z4qFDy+Dl9+nTvP8FvJjHSJBRqZxDTV1HCpI9naCqj2YyPmM5LxvY/9NBDnmY6wfEbtzSdYQGRD5AOTQ/kBQIRkF6IBmJgSCZC/mAtkV7iRD5xDELaIEXShJXINYg0Nkt8M0C5DeWaYyjLlDsqbHfffbeXpSCUJcrdc8895xUvKkPhOb4FhGex3hkeHHGDEIlkYGgs6Cg5SIHCyu9wn4IbJFgIFGxq6Sg8ng/CNdw1+huea/SLe4Dx9BBJuBY+tPABEZegcMPChoEouE/zEAQYSAGQjnD+ZcAPJDxPeCENQdlzHxAvJHzUHAFxxT1xwx9+B0BSKAzixLNXA0oBN4CwSGckkm8GeOeN5SeUmfCeQ7kI30cob1S8GsG9UD4BbqjYRNwgRCKJiIiIiBgQIpFERERERAwIkUgiIiIiIgaESCQREREREQNCJJKIiIiIiAEhEklERERExIAQiSQiIiIiYkCIRBIRERERMSBEIomIiIiIGBAikUREREREDAh9RBIlSpQoUaL0S/6D/f8QDIwfX0rvLAAAAABJRU5ErkJggg==)\n",
        "\n",
        "정적 편포 : 평균 > 중앙값 > 최빈값\n",
        "\n",
        "![정적편포_예.PNG](data:image/png;base64,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)\n",
        "\n",
        "정상 분포 : 평균 == 중앙값 == 최빈값\n",
        "\n"
      ],
      "metadata": {
        "id": "GQIFJrN_X8P_"
      }
    },
    {
      "cell_type": "markdown",
      "source": [
        "* 첨도 : 도수분포의 뾰족한 정도. 분포의 정점은 평균을 중심으로 각 점수의 위치에 따라 영향을 받는다.\n",
        "\n",
        "1. 중첨 : 정규 분포 모양\n",
        "2. 고첨 : 정규 분포보다 더 뾰족한 모양\n",
        "3. 저첨 : 정규 분포보다 더 완만한 모양"
      ],
      "metadata": {
        "id": "EVnOeHu_bN8V"
      }
    },
    {
      "cell_type": "code",
      "source": [
        "sr= np.array([1, 2, 3, 1.5, 2.6, 4.9,10,1.1,1.2])"
      ],
      "metadata": {
        "id": "ZhcesOjkXAJF"
      },
      "execution_count": 88,
      "outputs": []
    },
    {
      "cell_type": "code",
      "source": [
        "# 주어진 데이터로부터 임의의 샘플링 데이터 추출 : choice(데이터, 차원, 기존데이터 적용여부)\n",
        "x1 = np.random.choice(sr, size=(3,), replace=False)\n",
        "x1"
      ],
      "metadata": {
        "colab": {
          "base_uri": "https://localhost:8080/"
        },
        "id": "ixOP1AzVc8gW",
        "outputId": "0963e911-f67f-4795-cf5b-458489bbe916"
      },
      "execution_count": 89,
      "outputs": [
        {
          "output_type": "execute_result",
          "data": {
            "text/plain": [
              "array([3. , 1.2, 1.1])"
            ]
          },
          "metadata": {},
          "execution_count": 89
        }
      ]
    },
    {
      "cell_type": "code",
      "source": [
        "# 평균값, 중앙값 계산\n",
        "# 1. 모든 데이터를 0으로 채워주는 함수 : numpy.zeros((행, 열))\n",
        "players = np.zeros((100, 3))"
      ],
      "metadata": {
        "id": "oyY0uBALgrD8"
      },
      "execution_count": 90,
      "outputs": []
    },
    {
      "cell_type": "code",
      "source": [
        "# 임의의 키\n",
        "players[:, 0] = 10 * np.random.randn(100) + 175\n",
        "players[:5]"
      ],
      "metadata": {
        "colab": {
          "base_uri": "https://localhost:8080/"
        },
        "id": "9iRGDD6Pg0qU",
        "outputId": "74e825e9-daca-4d48-dba5-761e393148f2"
      },
      "execution_count": 91,
      "outputs": [
        {
          "output_type": "execute_result",
          "data": {
            "text/plain": [
              "array([[186.19390655,   0.        ,   0.        ],\n",
              "       [168.97114896,   0.        ,   0.        ],\n",
              "       [155.85527957,   0.        ,   0.        ],\n",
              "       [185.48147512,   0.        ,   0.        ],\n",
              "       [188.33737819,   0.        ,   0.        ]])"
            ]
          },
          "metadata": {},
          "execution_count": 91
        }
      ]
    },
    {
      "cell_type": "code",
      "source": [
        "# 임의의 체중\n",
        "players[:, 1] = 10 * np.random.randn(100) + 70\n",
        "players[:5]"
      ],
      "metadata": {
        "colab": {
          "base_uri": "https://localhost:8080/"
        },
        "id": "U3X_yIwyhiv1",
        "outputId": "5f80f67e-3dc4-4d65-c2b6-5b074bbf9f50"
      },
      "execution_count": 92,
      "outputs": [
        {
          "output_type": "execute_result",
          "data": {
            "text/plain": [
              "array([[186.19390655,  69.65056614,   0.        ],\n",
              "       [168.97114896,  68.59379973,   0.        ],\n",
              "       [155.85527957,  79.97088367,   0.        ],\n",
              "       [185.48147512,  62.04085307,   0.        ],\n",
              "       [188.33737819,  70.72745529,   0.        ]])"
            ]
          },
          "metadata": {},
          "execution_count": 92
        }
      ]
    },
    {
      "cell_type": "code",
      "source": [
        "# 임의의 나이\n",
        "players[:, 2] = np.floor(10 * np.random.randn(100) + 22)\n",
        "players[:5]"
      ],
      "metadata": {
        "colab": {
          "base_uri": "https://localhost:8080/"
        },
        "id": "PnPLT4MPhooE",
        "outputId": "24dfd268-a62a-4d06-b136-ec1919254f34"
      },
      "execution_count": 93,
      "outputs": [
        {
          "output_type": "execute_result",
          "data": {
            "text/plain": [
              "array([[186.19390655,  69.65056614,  15.        ],\n",
              "       [168.97114896,  68.59379973,  49.        ],\n",
              "       [155.85527957,  79.97088367,  28.        ],\n",
              "       [185.48147512,  62.04085307,  21.        ],\n",
              "       [188.33737819,  70.72745529,  35.        ]])"
            ]
          },
          "metadata": {},
          "execution_count": 93
        }
      ]
    },
    {
      "cell_type": "code",
      "source": [
        "# 평균값 : numpy.mean()\n",
        "print('평균 키 :', np.mean(players[:, 0]))\n",
        "print('평균 체중 :', np.mean(players[:, 1]))\n",
        "print('평균 나이 :', np.mean(players[:, 2]))"
      ],
      "metadata": {
        "colab": {
          "base_uri": "https://localhost:8080/"
        },
        "id": "vJ1rPK2Whyt0",
        "outputId": "18a5b358-4cfa-4013-b4dc-c1092bfb2055"
      },
      "execution_count": 94,
      "outputs": [
        {
          "output_type": "stream",
          "name": "stdout",
          "text": [
            "평균 키 : 175.17123903692794\n",
            "평균 체중 : 71.53499482579716\n",
            "평균 나이 : 21.31\n"
          ]
        }
      ]
    },
    {
      "cell_type": "code",
      "source": [
        "# 중앙값 : numpy.median()\n",
        "# 데이터 개수가 홀수 : 한 가운데 값 추출\n",
        "# 데이터 개수가 짝수 : 한 가운데 해당하는 두 개의 값에 대한 평균값 추출\n",
        "print('중앙값 키 :', np.median(players[:, 0]))\n",
        "print('중앙값 체중 :', np.median(players[:, 1]))\n",
        "print('중앙값 나이 :', np.median(players[:, 2]))"
      ],
      "metadata": {
        "colab": {
          "base_uri": "https://localhost:8080/"
        },
        "id": "vEz8V3LjiDDU",
        "outputId": "01383125-3e7f-4531-cf2a-16781c36a962"
      },
      "execution_count": 95,
      "outputs": [
        {
          "output_type": "stream",
          "name": "stdout",
          "text": [
            "중앙값 키 : 175.74015319646168\n",
            "중앙값 체중 : 69.99896539578847\n",
            "중앙값 나이 : 22.0\n"
          ]
        }
      ]
    },
    {
      "cell_type": "code",
      "source": [
        "# 두 변수 간 상관관계 계산 : numpy.corrcoef(x, y) => 상관관계 계수를 행렬로 반환\n",
        "# 상관관계 : 두 가지의 값에 대한 연관성(관련성)\n",
        "x = [i for i in range(100)]\n",
        "y = [i**2 for i in range(100)]\n",
        "result = np.corrcoef(x, y)\n",
        "result"
      ],
      "metadata": {
        "colab": {
          "base_uri": "https://localhost:8080/"
        },
        "id": "ZAtNCyBIiMn0",
        "outputId": "b7717ba7-1938-4b20-e70e-c3fc230232f0"
      },
      "execution_count": 96,
      "outputs": [
        {
          "output_type": "execute_result",
          "data": {
            "text/plain": [
              "array([[1.        , 0.96764439],\n",
              "       [0.96764439, 1.        ]])"
            ]
          },
          "metadata": {},
          "execution_count": 96
        }
      ]
    },
    {
      "cell_type": "markdown",
      "source": [
        "* 상관관계 계수(상관계수) : r\n",
        "    * 항상 부등식 -1 <= r <= 1 을 만족.\n",
        "    * 양의 상관관계가 있을 경우 : r > 0\n",
        "    * 음의 상관관계가 있을 경우 : r < 0\n",
        "    * 무상관 : r = 0\n",
        "\n",
        "![image.png](data:image/png;base64,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)"
      ],
      "metadata": {
        "id": "97slgywulnli"
      }
    },
    {
      "cell_type": "code",
      "source": [
        "# 다수 변수간의 상관관계 계산\n",
        "x = [i for i in range(100)]\n",
        "y = [i**2 for i in range(100)]\n",
        "z = [ 100 * np.sin(3.14*i/100) for i in range(0, 100) ]\n",
        "result = np.corrcoef([x, y, z])\n",
        "result"
      ],
      "metadata": {
        "colab": {
          "base_uri": "https://localhost:8080/"
        },
        "id": "oX_JH3vDl47C",
        "outputId": "4b8ef9b6-d730-4e01-c854-cd3be7f0fe0c"
      },
      "execution_count": 97,
      "outputs": [
        {
          "output_type": "execute_result",
          "data": {
            "text/plain": [
              "array([[ 1.        ,  0.96764439,  0.03763255],\n",
              "       [ 0.96764439,  1.        , -0.21532645],\n",
              "       [ 0.03763255, -0.21532645,  1.        ]])"
            ]
          },
          "metadata": {},
          "execution_count": 97
        }
      ]
    },
    {
      "cell_type": "markdown",
      "source": [
        "![image.png](data:image/png;base64,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)"
      ],
      "metadata": {
        "id": "tDc77VOJnghT"
      }
    }
  ]
}