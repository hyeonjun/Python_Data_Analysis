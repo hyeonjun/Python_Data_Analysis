{
  "nbformat": 4,
  "nbformat_minor": 0,
  "metadata": {
    "colab": {
      "name": "selfOil.ipynb",
      "provenance": [],
      "collapsed_sections": [],
      "mount_file_id": "1ylPHm-M6zLJW81QiZ_RfIaMVL015n72U",
      "authorship_tag": "ABX9TyO/Byvq1RngprQb4uQ2z9tr"
    },
    "kernelspec": {
      "name": "python3",
      "display_name": "Python 3"
    },
    "language_info": {
      "name": "python"
    },
    "widgets": {
      "application/vnd.jupyter.widget-state+json": {
        "cf39fe72a95543ffb6437d34169cad85": {
          "model_module": "@jupyter-widgets/controls",
          "model_name": "HBoxModel",
          "model_module_version": "1.5.0",
          "state": {
            "_view_name": "HBoxView",
            "_dom_classes": [],
            "_model_name": "HBoxModel",
            "_view_module": "@jupyter-widgets/controls",
            "_model_module_version": "1.5.0",
            "_view_count": null,
            "_view_module_version": "1.5.0",
            "box_style": "",
            "layout": "IPY_MODEL_0c054fcc791b4f75a96921ee7a68ca29",
            "_model_module": "@jupyter-widgets/controls",
            "children": [
              "IPY_MODEL_3e6828ff2fb444fea86905222fff04aa",
              "IPY_MODEL_a807a739baed492ba8cb6a3016cf6a64",
              "IPY_MODEL_8af58bbea1b8407c83069330d83cd470"
            ]
          }
        },
        "0c054fcc791b4f75a96921ee7a68ca29": {
          "model_module": "@jupyter-widgets/base",
          "model_name": "LayoutModel",
          "model_module_version": "1.2.0",
          "state": {
            "_view_name": "LayoutView",
            "grid_template_rows": null,
            "right": null,
            "justify_content": null,
            "_view_module": "@jupyter-widgets/base",
            "overflow": null,
            "_model_module_version": "1.2.0",
            "_view_count": null,
            "flex_flow": null,
            "width": null,
            "min_width": null,
            "border": null,
            "align_items": null,
            "bottom": null,
            "_model_module": "@jupyter-widgets/base",
            "top": null,
            "grid_column": null,
            "overflow_y": null,
            "overflow_x": null,
            "grid_auto_flow": null,
            "grid_area": null,
            "grid_template_columns": null,
            "flex": null,
            "_model_name": "LayoutModel",
            "justify_items": null,
            "grid_row": null,
            "max_height": null,
            "align_content": null,
            "visibility": null,
            "align_self": null,
            "height": null,
            "min_height": null,
            "padding": null,
            "grid_auto_rows": null,
            "grid_gap": null,
            "max_width": null,
            "order": null,
            "_view_module_version": "1.2.0",
            "grid_template_areas": null,
            "object_position": null,
            "object_fit": null,
            "grid_auto_columns": null,
            "margin": null,
            "display": null,
            "left": null
          }
        },
        "3e6828ff2fb444fea86905222fff04aa": {
          "model_module": "@jupyter-widgets/controls",
          "model_name": "HTMLModel",
          "model_module_version": "1.5.0",
          "state": {
            "_view_name": "HTMLView",
            "style": "IPY_MODEL_84cbfb9391b047d188ee2b2b2d6a0e42",
            "_dom_classes": [],
            "description": "",
            "_model_name": "HTMLModel",
            "placeholder": "​",
            "_view_module": "@jupyter-widgets/controls",
            "_model_module_version": "1.5.0",
            "value": "100%",
            "_view_count": null,
            "_view_module_version": "1.5.0",
            "description_tooltip": null,
            "_model_module": "@jupyter-widgets/controls",
            "layout": "IPY_MODEL_25f07ac9df7a4bdeb0d7b5f36d8e1e94"
          }
        },
        "a807a739baed492ba8cb6a3016cf6a64": {
          "model_module": "@jupyter-widgets/controls",
          "model_name": "FloatProgressModel",
          "model_module_version": "1.5.0",
          "state": {
            "_view_name": "ProgressView",
            "style": "IPY_MODEL_6aaaa24f26e843b5838f7b652f1461af",
            "_dom_classes": [],
            "description": "",
            "_model_name": "FloatProgressModel",
            "bar_style": "success",
            "max": 10,
            "_view_module": "@jupyter-widgets/controls",
            "_model_module_version": "1.5.0",
            "value": 10,
            "_view_count": null,
            "_view_module_version": "1.5.0",
            "orientation": "horizontal",
            "min": 0,
            "description_tooltip": null,
            "_model_module": "@jupyter-widgets/controls",
            "layout": "IPY_MODEL_2319032b4cce4b87b0c03cbd3876ced4"
          }
        },
        "8af58bbea1b8407c83069330d83cd470": {
          "model_module": "@jupyter-widgets/controls",
          "model_name": "HTMLModel",
          "model_module_version": "1.5.0",
          "state": {
            "_view_name": "HTMLView",
            "style": "IPY_MODEL_e9e15eb8f4344a8d82dc8b1ba88e6684",
            "_dom_classes": [],
            "description": "",
            "_model_name": "HTMLModel",
            "placeholder": "​",
            "_view_module": "@jupyter-widgets/controls",
            "_model_module_version": "1.5.0",
            "value": " 10/10 [00:00&lt;00:00, 31.32it/s]",
            "_view_count": null,
            "_view_module_version": "1.5.0",
            "description_tooltip": null,
            "_model_module": "@jupyter-widgets/controls",
            "layout": "IPY_MODEL_4298b727066249be82c3110d34727da0"
          }
        },
        "84cbfb9391b047d188ee2b2b2d6a0e42": {
          "model_module": "@jupyter-widgets/controls",
          "model_name": "DescriptionStyleModel",
          "model_module_version": "1.5.0",
          "state": {
            "_view_name": "StyleView",
            "_model_name": "DescriptionStyleModel",
            "description_width": "",
            "_view_module": "@jupyter-widgets/base",
            "_model_module_version": "1.5.0",
            "_view_count": null,
            "_view_module_version": "1.2.0",
            "_model_module": "@jupyter-widgets/controls"
          }
        },
        "25f07ac9df7a4bdeb0d7b5f36d8e1e94": {
          "model_module": "@jupyter-widgets/base",
          "model_name": "LayoutModel",
          "model_module_version": "1.2.0",
          "state": {
            "_view_name": "LayoutView",
            "grid_template_rows": null,
            "right": null,
            "justify_content": null,
            "_view_module": "@jupyter-widgets/base",
            "overflow": null,
            "_model_module_version": "1.2.0",
            "_view_count": null,
            "flex_flow": null,
            "width": null,
            "min_width": null,
            "border": null,
            "align_items": null,
            "bottom": null,
            "_model_module": "@jupyter-widgets/base",
            "top": null,
            "grid_column": null,
            "overflow_y": null,
            "overflow_x": null,
            "grid_auto_flow": null,
            "grid_area": null,
            "grid_template_columns": null,
            "flex": null,
            "_model_name": "LayoutModel",
            "justify_items": null,
            "grid_row": null,
            "max_height": null,
            "align_content": null,
            "visibility": null,
            "align_self": null,
            "height": null,
            "min_height": null,
            "padding": null,
            "grid_auto_rows": null,
            "grid_gap": null,
            "max_width": null,
            "order": null,
            "_view_module_version": "1.2.0",
            "grid_template_areas": null,
            "object_position": null,
            "object_fit": null,
            "grid_auto_columns": null,
            "margin": null,
            "display": null,
            "left": null
          }
        },
        "6aaaa24f26e843b5838f7b652f1461af": {
          "model_module": "@jupyter-widgets/controls",
          "model_name": "ProgressStyleModel",
          "model_module_version": "1.5.0",
          "state": {
            "_view_name": "StyleView",
            "_model_name": "ProgressStyleModel",
            "description_width": "",
            "_view_module": "@jupyter-widgets/base",
            "_model_module_version": "1.5.0",
            "_view_count": null,
            "_view_module_version": "1.2.0",
            "bar_color": null,
            "_model_module": "@jupyter-widgets/controls"
          }
        },
        "2319032b4cce4b87b0c03cbd3876ced4": {
          "model_module": "@jupyter-widgets/base",
          "model_name": "LayoutModel",
          "model_module_version": "1.2.0",
          "state": {
            "_view_name": "LayoutView",
            "grid_template_rows": null,
            "right": null,
            "justify_content": null,
            "_view_module": "@jupyter-widgets/base",
            "overflow": null,
            "_model_module_version": "1.2.0",
            "_view_count": null,
            "flex_flow": null,
            "width": null,
            "min_width": null,
            "border": null,
            "align_items": null,
            "bottom": null,
            "_model_module": "@jupyter-widgets/base",
            "top": null,
            "grid_column": null,
            "overflow_y": null,
            "overflow_x": null,
            "grid_auto_flow": null,
            "grid_area": null,
            "grid_template_columns": null,
            "flex": null,
            "_model_name": "LayoutModel",
            "justify_items": null,
            "grid_row": null,
            "max_height": null,
            "align_content": null,
            "visibility": null,
            "align_self": null,
            "height": null,
            "min_height": null,
            "padding": null,
            "grid_auto_rows": null,
            "grid_gap": null,
            "max_width": null,
            "order": null,
            "_view_module_version": "1.2.0",
            "grid_template_areas": null,
            "object_position": null,
            "object_fit": null,
            "grid_auto_columns": null,
            "margin": null,
            "display": null,
            "left": null
          }
        },
        "e9e15eb8f4344a8d82dc8b1ba88e6684": {
          "model_module": "@jupyter-widgets/controls",
          "model_name": "DescriptionStyleModel",
          "model_module_version": "1.5.0",
          "state": {
            "_view_name": "StyleView",
            "_model_name": "DescriptionStyleModel",
            "description_width": "",
            "_view_module": "@jupyter-widgets/base",
            "_model_module_version": "1.5.0",
            "_view_count": null,
            "_view_module_version": "1.2.0",
            "_model_module": "@jupyter-widgets/controls"
          }
        },
        "4298b727066249be82c3110d34727da0": {
          "model_module": "@jupyter-widgets/base",
          "model_name": "LayoutModel",
          "model_module_version": "1.2.0",
          "state": {
            "_view_name": "LayoutView",
            "grid_template_rows": null,
            "right": null,
            "justify_content": null,
            "_view_module": "@jupyter-widgets/base",
            "overflow": null,
            "_model_module_version": "1.2.0",
            "_view_count": null,
            "flex_flow": null,
            "width": null,
            "min_width": null,
            "border": null,
            "align_items": null,
            "bottom": null,
            "_model_module": "@jupyter-widgets/base",
            "top": null,
            "grid_column": null,
            "overflow_y": null,
            "overflow_x": null,
            "grid_auto_flow": null,
            "grid_area": null,
            "grid_template_columns": null,
            "flex": null,
            "_model_name": "LayoutModel",
            "justify_items": null,
            "grid_row": null,
            "max_height": null,
            "align_content": null,
            "visibility": null,
            "align_self": null,
            "height": null,
            "min_height": null,
            "padding": null,
            "grid_auto_rows": null,
            "grid_gap": null,
            "max_width": null,
            "order": null,
            "_view_module_version": "1.2.0",
            "grid_template_areas": null,
            "object_position": null,
            "object_fit": null,
            "grid_auto_columns": null,
            "margin": null,
            "display": null,
            "left": null
          }
        },
        "cbf7cdcb0d4946b2b9900aa65af29a6b": {
          "model_module": "@jupyter-widgets/controls",
          "model_name": "HBoxModel",
          "model_module_version": "1.5.0",
          "state": {
            "_view_name": "HBoxView",
            "_dom_classes": [],
            "_model_name": "HBoxModel",
            "_view_module": "@jupyter-widgets/controls",
            "_model_module_version": "1.5.0",
            "_view_count": null,
            "_view_module_version": "1.5.0",
            "box_style": "",
            "layout": "IPY_MODEL_3d3c6456279840379cdf12ef70c53596",
            "_model_module": "@jupyter-widgets/controls",
            "children": [
              "IPY_MODEL_c8e247067f924fee8cff203243c71d54",
              "IPY_MODEL_3685070c34fb46c3a631a2e0e9cc2da6",
              "IPY_MODEL_210e9c6a9ed4478aa7793f927e823981"
            ]
          }
        },
        "3d3c6456279840379cdf12ef70c53596": {
          "model_module": "@jupyter-widgets/base",
          "model_name": "LayoutModel",
          "model_module_version": "1.2.0",
          "state": {
            "_view_name": "LayoutView",
            "grid_template_rows": null,
            "right": null,
            "justify_content": null,
            "_view_module": "@jupyter-widgets/base",
            "overflow": null,
            "_model_module_version": "1.2.0",
            "_view_count": null,
            "flex_flow": null,
            "width": null,
            "min_width": null,
            "border": null,
            "align_items": null,
            "bottom": null,
            "_model_module": "@jupyter-widgets/base",
            "top": null,
            "grid_column": null,
            "overflow_y": null,
            "overflow_x": null,
            "grid_auto_flow": null,
            "grid_area": null,
            "grid_template_columns": null,
            "flex": null,
            "_model_name": "LayoutModel",
            "justify_items": null,
            "grid_row": null,
            "max_height": null,
            "align_content": null,
            "visibility": null,
            "align_self": null,
            "height": null,
            "min_height": null,
            "padding": null,
            "grid_auto_rows": null,
            "grid_gap": null,
            "max_width": null,
            "order": null,
            "_view_module_version": "1.2.0",
            "grid_template_areas": null,
            "object_position": null,
            "object_fit": null,
            "grid_auto_columns": null,
            "margin": null,
            "display": null,
            "left": null
          }
        },
        "c8e247067f924fee8cff203243c71d54": {
          "model_module": "@jupyter-widgets/controls",
          "model_name": "HTMLModel",
          "model_module_version": "1.5.0",
          "state": {
            "_view_name": "HTMLView",
            "style": "IPY_MODEL_313e2be53c2f42f881d1e9310ad0571e",
            "_dom_classes": [],
            "description": "",
            "_model_name": "HTMLModel",
            "placeholder": "​",
            "_view_module": "@jupyter-widgets/controls",
            "_model_module_version": "1.5.0",
            "value": "100%",
            "_view_count": null,
            "_view_module_version": "1.5.0",
            "description_tooltip": null,
            "_model_module": "@jupyter-widgets/controls",
            "layout": "IPY_MODEL_e1ccff9970fa44e1886203d8e2af6579"
          }
        },
        "3685070c34fb46c3a631a2e0e9cc2da6": {
          "model_module": "@jupyter-widgets/controls",
          "model_name": "FloatProgressModel",
          "model_module_version": "1.5.0",
          "state": {
            "_view_name": "ProgressView",
            "style": "IPY_MODEL_2da79c514d824e7a9f6e20237b582aa0",
            "_dom_classes": [],
            "description": "",
            "_model_name": "FloatProgressModel",
            "bar_style": "success",
            "max": 10,
            "_view_module": "@jupyter-widgets/controls",
            "_model_module_version": "1.5.0",
            "value": 10,
            "_view_count": null,
            "_view_module_version": "1.5.0",
            "orientation": "horizontal",
            "min": 0,
            "description_tooltip": null,
            "_model_module": "@jupyter-widgets/controls",
            "layout": "IPY_MODEL_0fe22ef97a0d473eb1d52edab30a6fba"
          }
        },
        "210e9c6a9ed4478aa7793f927e823981": {
          "model_module": "@jupyter-widgets/controls",
          "model_name": "HTMLModel",
          "model_module_version": "1.5.0",
          "state": {
            "_view_name": "HTMLView",
            "style": "IPY_MODEL_7529c19e36a6499a930b380e714eadaf",
            "_dom_classes": [],
            "description": "",
            "_model_name": "HTMLModel",
            "placeholder": "​",
            "_view_module": "@jupyter-widgets/controls",
            "_model_module_version": "1.5.0",
            "value": " 10/10 [00:00&lt;00:00, 36.99it/s]",
            "_view_count": null,
            "_view_module_version": "1.5.0",
            "description_tooltip": null,
            "_model_module": "@jupyter-widgets/controls",
            "layout": "IPY_MODEL_0398cf8edcd745b88df2ece408c96e47"
          }
        },
        "313e2be53c2f42f881d1e9310ad0571e": {
          "model_module": "@jupyter-widgets/controls",
          "model_name": "DescriptionStyleModel",
          "model_module_version": "1.5.0",
          "state": {
            "_view_name": "StyleView",
            "_model_name": "DescriptionStyleModel",
            "description_width": "",
            "_view_module": "@jupyter-widgets/base",
            "_model_module_version": "1.5.0",
            "_view_count": null,
            "_view_module_version": "1.2.0",
            "_model_module": "@jupyter-widgets/controls"
          }
        },
        "e1ccff9970fa44e1886203d8e2af6579": {
          "model_module": "@jupyter-widgets/base",
          "model_name": "LayoutModel",
          "model_module_version": "1.2.0",
          "state": {
            "_view_name": "LayoutView",
            "grid_template_rows": null,
            "right": null,
            "justify_content": null,
            "_view_module": "@jupyter-widgets/base",
            "overflow": null,
            "_model_module_version": "1.2.0",
            "_view_count": null,
            "flex_flow": null,
            "width": null,
            "min_width": null,
            "border": null,
            "align_items": null,
            "bottom": null,
            "_model_module": "@jupyter-widgets/base",
            "top": null,
            "grid_column": null,
            "overflow_y": null,
            "overflow_x": null,
            "grid_auto_flow": null,
            "grid_area": null,
            "grid_template_columns": null,
            "flex": null,
            "_model_name": "LayoutModel",
            "justify_items": null,
            "grid_row": null,
            "max_height": null,
            "align_content": null,
            "visibility": null,
            "align_self": null,
            "height": null,
            "min_height": null,
            "padding": null,
            "grid_auto_rows": null,
            "grid_gap": null,
            "max_width": null,
            "order": null,
            "_view_module_version": "1.2.0",
            "grid_template_areas": null,
            "object_position": null,
            "object_fit": null,
            "grid_auto_columns": null,
            "margin": null,
            "display": null,
            "left": null
          }
        },
        "2da79c514d824e7a9f6e20237b582aa0": {
          "model_module": "@jupyter-widgets/controls",
          "model_name": "ProgressStyleModel",
          "model_module_version": "1.5.0",
          "state": {
            "_view_name": "StyleView",
            "_model_name": "ProgressStyleModel",
            "description_width": "",
            "_view_module": "@jupyter-widgets/base",
            "_model_module_version": "1.5.0",
            "_view_count": null,
            "_view_module_version": "1.2.0",
            "bar_color": null,
            "_model_module": "@jupyter-widgets/controls"
          }
        },
        "0fe22ef97a0d473eb1d52edab30a6fba": {
          "model_module": "@jupyter-widgets/base",
          "model_name": "LayoutModel",
          "model_module_version": "1.2.0",
          "state": {
            "_view_name": "LayoutView",
            "grid_template_rows": null,
            "right": null,
            "justify_content": null,
            "_view_module": "@jupyter-widgets/base",
            "overflow": null,
            "_model_module_version": "1.2.0",
            "_view_count": null,
            "flex_flow": null,
            "width": null,
            "min_width": null,
            "border": null,
            "align_items": null,
            "bottom": null,
            "_model_module": "@jupyter-widgets/base",
            "top": null,
            "grid_column": null,
            "overflow_y": null,
            "overflow_x": null,
            "grid_auto_flow": null,
            "grid_area": null,
            "grid_template_columns": null,
            "flex": null,
            "_model_name": "LayoutModel",
            "justify_items": null,
            "grid_row": null,
            "max_height": null,
            "align_content": null,
            "visibility": null,
            "align_self": null,
            "height": null,
            "min_height": null,
            "padding": null,
            "grid_auto_rows": null,
            "grid_gap": null,
            "max_width": null,
            "order": null,
            "_view_module_version": "1.2.0",
            "grid_template_areas": null,
            "object_position": null,
            "object_fit": null,
            "grid_auto_columns": null,
            "margin": null,
            "display": null,
            "left": null
          }
        },
        "7529c19e36a6499a930b380e714eadaf": {
          "model_module": "@jupyter-widgets/controls",
          "model_name": "DescriptionStyleModel",
          "model_module_version": "1.5.0",
          "state": {
            "_view_name": "StyleView",
            "_model_name": "DescriptionStyleModel",
            "description_width": "",
            "_view_module": "@jupyter-widgets/base",
            "_model_module_version": "1.5.0",
            "_view_count": null,
            "_view_module_version": "1.2.0",
            "_model_module": "@jupyter-widgets/controls"
          }
        },
        "0398cf8edcd745b88df2ece408c96e47": {
          "model_module": "@jupyter-widgets/base",
          "model_name": "LayoutModel",
          "model_module_version": "1.2.0",
          "state": {
            "_view_name": "LayoutView",
            "grid_template_rows": null,
            "right": null,
            "justify_content": null,
            "_view_module": "@jupyter-widgets/base",
            "overflow": null,
            "_model_module_version": "1.2.0",
            "_view_count": null,
            "flex_flow": null,
            "width": null,
            "min_width": null,
            "border": null,
            "align_items": null,
            "bottom": null,
            "_model_module": "@jupyter-widgets/base",
            "top": null,
            "grid_column": null,
            "overflow_y": null,
            "overflow_x": null,
            "grid_auto_flow": null,
            "grid_area": null,
            "grid_template_columns": null,
            "flex": null,
            "_model_name": "LayoutModel",
            "justify_items": null,
            "grid_row": null,
            "max_height": null,
            "align_content": null,
            "visibility": null,
            "align_self": null,
            "height": null,
            "min_height": null,
            "padding": null,
            "grid_auto_rows": null,
            "grid_gap": null,
            "max_width": null,
            "order": null,
            "_view_module_version": "1.2.0",
            "grid_template_areas": null,
            "object_position": null,
            "object_fit": null,
            "grid_auto_columns": null,
            "margin": null,
            "display": null,
            "left": null
          }
        }
      }
    }
  },
  "cells": [
    {
      "cell_type": "markdown",
      "source": [
        "셀프 주유소가 저렴한지 분석."
      ],
      "metadata": {
        "id": "B0FsvKc16jjd"
      }
    },
    {
      "cell_type": "code",
      "source": [
        "!pip install googlemaps"
      ],
      "metadata": {
        "colab": {
          "base_uri": "https://localhost:8080/"
        },
        "id": "Y3gwLIT17F_u",
        "outputId": "d974df81-525b-4760-ee33-d680f0d6d968"
      },
      "execution_count": null,
      "outputs": [
        {
          "output_type": "stream",
          "name": "stdout",
          "text": [
            "Requirement already satisfied: googlemaps in /usr/local/lib/python3.7/dist-packages (4.5.3)\n",
            "Requirement already satisfied: requests<3.0,>=2.20.0 in /usr/local/lib/python3.7/dist-packages (from googlemaps) (2.23.0)\n",
            "Requirement already satisfied: idna<3,>=2.5 in /usr/local/lib/python3.7/dist-packages (from requests<3.0,>=2.20.0->googlemaps) (2.10)\n",
            "Requirement already satisfied: certifi>=2017.4.17 in /usr/local/lib/python3.7/dist-packages (from requests<3.0,>=2.20.0->googlemaps) (2021.10.8)\n",
            "Requirement already satisfied: chardet<4,>=3.0.2 in /usr/local/lib/python3.7/dist-packages (from requests<3.0,>=2.20.0->googlemaps) (3.0.4)\n",
            "Requirement already satisfied: urllib3!=1.25.0,!=1.25.1,<1.26,>=1.21.1 in /usr/local/lib/python3.7/dist-packages (from requests<3.0,>=2.20.0->googlemaps) (1.24.3)\n"
          ]
        }
      ]
    },
    {
      "cell_type": "code",
      "execution_count": null,
      "metadata": {
        "id": "BFUxqqhH6gKc"
      },
      "outputs": [],
      "source": [
        "import pandas as pd\n",
        "from glob import glob\n",
        "import matplotlib.pyplot as plt\n",
        "import seaborn as sns\n",
        "import platform\n",
        "import json\n",
        "import folium\n",
        "import googlemaps\n",
        "import numpy as np"
      ]
    },
    {
      "cell_type": "code",
      "source": [
        "!apt-get update -qq\n",
        "!apt-get install fonts-nanum* -qq"
      ],
      "metadata": {
        "id": "b_ohjT9S7WIJ"
      },
      "execution_count": null,
      "outputs": []
    },
    {
      "cell_type": "code",
      "source": [
        "import matplotlib as mpl  # 기본 설정 만지는 용도\n",
        "import matplotlib.font_manager as fm  # 폰트 관련 용도"
      ],
      "metadata": {
        "id": "Ig6h4qTq7n2l"
      },
      "execution_count": null,
      "outputs": []
    },
    {
      "cell_type": "code",
      "source": [
        "path = '/usr/share/fonts/truetype/nanum/NanumBarunGothic.ttf'  # 설치된 나눔글꼴중 원하는 녀석의 전체 경로를 가져오자\n",
        "font_name = fm.FontProperties(fname=path, size=10).get_name()\n",
        "print(font_name)\n",
        "plt.rc('font', family=font_name)\n",
        "mpl.rcParams['axes.unicode_minus'] = False # - 깨짐을 방지"
      ],
      "metadata": {
        "colab": {
          "base_uri": "https://localhost:8080/"
        },
        "id": "K9SHLlPN7sB7",
        "outputId": "0cbe82c9-adae-4c9f-dcb3-48c8f8f4a231"
      },
      "execution_count": null,
      "outputs": [
        {
          "output_type": "stream",
          "name": "stdout",
          "text": [
            "NanumBarunGothic\n"
          ]
        }
      ]
    },
    {
      "cell_type": "code",
      "source": [
        "fm._rebuild()"
      ],
      "metadata": {
        "id": "vD5vIJNo7szv"
      },
      "execution_count": null,
      "outputs": []
    },
    {
      "cell_type": "code",
      "source": [
        "import warnings\n",
        "warnings.filterwarnings('ignore')"
      ],
      "metadata": {
        "id": "WmdutwC37xIG"
      },
      "execution_count": null,
      "outputs": []
    },
    {
      "cell_type": "code",
      "source": [
        "# 필요한 다수의 파일이 있는 경로를 추출\n",
        "station_files = glob(\"./data/지역_위치별*.xls\")\n",
        "station_files"
      ],
      "metadata": {
        "id": "JQfSWUGO8JS1",
        "colab": {
          "base_uri": "https://localhost:8080/"
        },
        "outputId": "b34d9f87-e58f-46d0-d34a-cc3aad9a13e2"
      },
      "execution_count": null,
      "outputs": [
        {
          "output_type": "execute_result",
          "data": {
            "text/plain": [
              "['/content/drive/MyDrive/Encore/데이터분석/Self_Oil/data/지역_위치별(주유소) (22).xls',\n",
              " '/content/drive/MyDrive/Encore/데이터분석/Self_Oil/data/지역_위치별(주유소) (16).xls',\n",
              " '/content/drive/MyDrive/Encore/데이터분석/Self_Oil/data/지역_위치별(주유소) (11).xls',\n",
              " '/content/drive/MyDrive/Encore/데이터분석/Self_Oil/data/지역_위치별(주유소) (14).xls',\n",
              " '/content/drive/MyDrive/Encore/데이터분석/Self_Oil/data/지역_위치별(주유소) (3).xls',\n",
              " '/content/drive/MyDrive/Encore/데이터분석/Self_Oil/data/지역_위치별(주유소) (18).xls',\n",
              " '/content/drive/MyDrive/Encore/데이터분석/Self_Oil/data/지역_위치별(주유소) (19).xls',\n",
              " '/content/drive/MyDrive/Encore/데이터분석/Self_Oil/data/지역_위치별(주유소) (1).xls',\n",
              " '/content/drive/MyDrive/Encore/데이터분석/Self_Oil/data/지역_위치별(주유소) (15).xls',\n",
              " '/content/drive/MyDrive/Encore/데이터분석/Self_Oil/data/지역_위치별(주유소) (2).xls',\n",
              " '/content/drive/MyDrive/Encore/데이터분석/Self_Oil/data/지역_위치별(주유소) (20).xls',\n",
              " '/content/drive/MyDrive/Encore/데이터분석/Self_Oil/data/지역_위치별(주유소) (13).xls',\n",
              " '/content/drive/MyDrive/Encore/데이터분석/Self_Oil/data/지역_위치별(주유소) (10).xls',\n",
              " '/content/drive/MyDrive/Encore/데이터분석/Self_Oil/data/지역_위치별(주유소) (17).xls',\n",
              " '/content/drive/MyDrive/Encore/데이터분석/Self_Oil/data/지역_위치별(주유소) (12).xls',\n",
              " '/content/drive/MyDrive/Encore/데이터분석/Self_Oil/data/지역_위치별(주유소) (24).xls',\n",
              " '/content/drive/MyDrive/Encore/데이터분석/Self_Oil/data/지역_위치별(주유소) (21).xls',\n",
              " '/content/drive/MyDrive/Encore/데이터분석/Self_Oil/data/지역_위치별(주유소) (4).xls',\n",
              " '/content/drive/MyDrive/Encore/데이터분석/Self_Oil/data/지역_위치별(주유소) (23).xls',\n",
              " '/content/drive/MyDrive/Encore/데이터분석/Self_Oil/data/지역_위치별(주유소) (9).xls',\n",
              " '/content/drive/MyDrive/Encore/데이터분석/Self_Oil/data/지역_위치별(주유소) (7).xls',\n",
              " '/content/drive/MyDrive/Encore/데이터분석/Self_Oil/data/지역_위치별(주유소) (8).xls',\n",
              " '/content/drive/MyDrive/Encore/데이터분석/Self_Oil/data/지역_위치별(주유소) (5).xls',\n",
              " '/content/drive/MyDrive/Encore/데이터분석/Self_Oil/data/지역_위치별(주유소) (6).xls']"
            ]
          },
          "metadata": {},
          "execution_count": 8
        }
      ]
    },
    {
      "cell_type": "code",
      "source": [
        "# 반복문 실행에 대한 진행율 표시(Console) %\n",
        "from tqdm import tqdm_notebook"
      ],
      "metadata": {
        "id": "dMlmuuRoQ7d0"
      },
      "execution_count": null,
      "outputs": []
    },
    {
      "cell_type": "code",
      "source": [
        "# 총 24개의 엑셀 파일들을 로드(읽기)\n",
        "tmp_raw = []\n",
        "\n",
        "# 각 엑셀파일들을 읽어 데이터프레임으로 저장한 후, tmp_raw 리스트 추가\n",
        "for file_name in station_files:\n",
        "    tmp = pd.read_excel(file_name, header=2)\n",
        "    tmp_raw.append(tmp)"
      ],
      "metadata": {
        "id": "wUDJ0dJJ9MAl"
      },
      "execution_count": null,
      "outputs": []
    },
    {
      "cell_type": "code",
      "source": [
        "# tmp_raw 리스트의 각 항목에 해당하는 데이터프레임을 하나의 데이터프레임으로 연결\n",
        "# 리스트의 각 항목(데이터프레임)을 하나의 데이터프레임으로 연결 => Pandas.concat(리스트)\n",
        "station_raw = pd.concat(tmp_raw)\n",
        "station_raw.shape"
      ],
      "metadata": {
        "colab": {
          "base_uri": "https://localhost:8080/"
        },
        "id": "0p8VKaEM9lue",
        "outputId": "81fb901b-c349-499c-dea2-9bb509d83ec6"
      },
      "execution_count": null,
      "outputs": [
        {
          "output_type": "execute_result",
          "data": {
            "text/plain": [
              "(491, 10)"
            ]
          },
          "metadata": {},
          "execution_count": 11
        }
      ]
    },
    {
      "cell_type": "code",
      "source": [
        "station_raw.info()"
      ],
      "metadata": {
        "colab": {
          "base_uri": "https://localhost:8080/"
        },
        "id": "JUAoxI6X95Uv",
        "outputId": "e8b58f58-f155-4c24-f109-5ec82fb86804"
      },
      "execution_count": null,
      "outputs": [
        {
          "output_type": "stream",
          "name": "stdout",
          "text": [
            "<class 'pandas.core.frame.DataFrame'>\n",
            "Int64Index: 491 entries, 0 to 21\n",
            "Data columns (total 10 columns):\n",
            " #   Column  Non-Null Count  Dtype \n",
            "---  ------  --------------  ----- \n",
            " 0   지역      491 non-null    object\n",
            " 1   상호      491 non-null    object\n",
            " 2   주소      491 non-null    object\n",
            " 3   상표      491 non-null    object\n",
            " 4   전화번호    491 non-null    object\n",
            " 5   셀프여부    491 non-null    object\n",
            " 6   고급휘발유   491 non-null    object\n",
            " 7   휘발유     491 non-null    object\n",
            " 8   경유      491 non-null    object\n",
            " 9   실내등유    491 non-null    object\n",
            "dtypes: object(10)\n",
            "memory usage: 42.2+ KB\n"
          ]
        }
      ]
    },
    {
      "cell_type": "code",
      "source": [
        "stations = pd.DataFrame({'Oil_store':station_raw['상호'],\n",
        "                         '주소':station_raw['주소'],\n",
        "                         '가격':station_raw['휘발유'],\n",
        "                         '셀프':station_raw['셀프여부'],\n",
        "                         '상표':station_raw['상표']})"
      ],
      "metadata": {
        "id": "c5dCjabr9_o1"
      },
      "execution_count": null,
      "outputs": []
    },
    {
      "cell_type": "code",
      "source": [
        "# '구' 칼럼 추가\n",
        "stations['구'] = [eachAddress.split()[1] for eachAddress in stations['주소']]"
      ],
      "metadata": {
        "id": "H92hJUMc-ow3"
      },
      "execution_count": null,
      "outputs": []
    },
    {
      "cell_type": "code",
      "source": [
        "stations.columns"
      ],
      "metadata": {
        "colab": {
          "base_uri": "https://localhost:8080/"
        },
        "id": "HoRVxSru-3WO",
        "outputId": "be699cba-fd02-4624-fd75-c96f97033f24"
      },
      "execution_count": null,
      "outputs": [
        {
          "output_type": "execute_result",
          "data": {
            "text/plain": [
              "Index(['Oil_store', '주소', '가격', '셀프', '상표', '구'], dtype='object')"
            ]
          },
          "metadata": {},
          "execution_count": 15
        }
      ]
    },
    {
      "cell_type": "code",
      "source": [
        "stations.head(3)"
      ],
      "metadata": {
        "colab": {
          "base_uri": "https://localhost:8080/",
          "height": 143
        },
        "id": "bbdHrcXT-6yG",
        "outputId": "2721c415-e2ea-4579-cea4-403100542b42"
      },
      "execution_count": null,
      "outputs": [
        {
          "output_type": "execute_result",
          "data": {
            "text/html": [
              "<div>\n",
              "<style scoped>\n",
              "    .dataframe tbody tr th:only-of-type {\n",
              "        vertical-align: middle;\n",
              "    }\n",
              "\n",
              "    .dataframe tbody tr th {\n",
              "        vertical-align: top;\n",
              "    }\n",
              "\n",
              "    .dataframe thead th {\n",
              "        text-align: right;\n",
              "    }\n",
              "</style>\n",
              "<table border=\"1\" class=\"dataframe\">\n",
              "  <thead>\n",
              "    <tr style=\"text-align: right;\">\n",
              "      <th></th>\n",
              "      <th>Oil_store</th>\n",
              "      <th>주소</th>\n",
              "      <th>가격</th>\n",
              "      <th>셀프</th>\n",
              "      <th>상표</th>\n",
              "      <th>구</th>\n",
              "    </tr>\n",
              "  </thead>\n",
              "  <tbody>\n",
              "    <tr>\n",
              "      <th>0</th>\n",
              "      <td>(주)지에스이앤알 평창주유소</td>\n",
              "      <td>서울특별시 종로구 평창문화로 135 (평창동)</td>\n",
              "      <td>1669</td>\n",
              "      <td>N</td>\n",
              "      <td>현대오일뱅크</td>\n",
              "      <td>종로구</td>\n",
              "    </tr>\n",
              "    <tr>\n",
              "      <th>1</th>\n",
              "      <td>구도일주유소특종</td>\n",
              "      <td>서울특별시 종로구 평창문화로 90 (평창동)</td>\n",
              "      <td>1699</td>\n",
              "      <td>N</td>\n",
              "      <td>S-OIL</td>\n",
              "      <td>종로구</td>\n",
              "    </tr>\n",
              "    <tr>\n",
              "      <th>2</th>\n",
              "      <td>자하문주유소</td>\n",
              "      <td>서울 종로구 자하문로 248 (부암동)</td>\n",
              "      <td>1890</td>\n",
              "      <td>N</td>\n",
              "      <td>SK에너지</td>\n",
              "      <td>종로구</td>\n",
              "    </tr>\n",
              "  </tbody>\n",
              "</table>\n",
              "</div>"
            ],
            "text/plain": [
              "         Oil_store                         주소    가격 셀프      상표    구\n",
              "0  (주)지에스이앤알 평창주유소  서울특별시 종로구 평창문화로 135 (평창동)  1669  N  현대오일뱅크  종로구\n",
              "1         구도일주유소특종   서울특별시 종로구 평창문화로 90 (평창동)  1699  N   S-OIL  종로구\n",
              "2           자하문주유소      서울 종로구 자하문로 248 (부암동)  1890  N   SK에너지  종로구"
            ]
          },
          "metadata": {},
          "execution_count": 16
        }
      ]
    },
    {
      "cell_type": "code",
      "source": [
        "stations['구'].unique() # 구가 아닌 값 => 서울특별시, 특별시"
      ],
      "metadata": {
        "colab": {
          "base_uri": "https://localhost:8080/"
        },
        "id": "fLb-bXuc-9RQ",
        "outputId": "601552c6-d485-4da9-e9cd-eb9c5dde888c"
      },
      "execution_count": null,
      "outputs": [
        {
          "output_type": "execute_result",
          "data": {
            "text/plain": [
              "array(['종로구', '성북구', '동작구', '서초구', '강서구', '양천구', '영등포구', '강동구', '성동구',\n",
              "       '서울특별시', '강북구', '용산구', '서대문구', '동대문구', '송파구', '마포구', '중랑구', '은평구',\n",
              "       '관악구', '중구', '도봉구', '특별시', '금천구', '노원구', '광진구', '구로구'],\n",
              "      dtype=object)"
            ]
          },
          "metadata": {},
          "execution_count": 17
        }
      ]
    },
    {
      "cell_type": "code",
      "source": [
        "stations[stations['구']=='서울특별시']"
      ],
      "metadata": {
        "colab": {
          "base_uri": "https://localhost:8080/",
          "height": 81
        },
        "id": "XkTYml8w_zPm",
        "outputId": "15d531f2-a7e1-410a-ff23-9fd03ad3c35a"
      },
      "execution_count": null,
      "outputs": [
        {
          "output_type": "execute_result",
          "data": {
            "text/html": [
              "<div>\n",
              "<style scoped>\n",
              "    .dataframe tbody tr th:only-of-type {\n",
              "        vertical-align: middle;\n",
              "    }\n",
              "\n",
              "    .dataframe tbody tr th {\n",
              "        vertical-align: top;\n",
              "    }\n",
              "\n",
              "    .dataframe thead th {\n",
              "        text-align: right;\n",
              "    }\n",
              "</style>\n",
              "<table border=\"1\" class=\"dataframe\">\n",
              "  <thead>\n",
              "    <tr style=\"text-align: right;\">\n",
              "      <th></th>\n",
              "      <th>Oil_store</th>\n",
              "      <th>주소</th>\n",
              "      <th>가격</th>\n",
              "      <th>셀프</th>\n",
              "      <th>상표</th>\n",
              "      <th>구</th>\n",
              "    </tr>\n",
              "  </thead>\n",
              "  <tbody>\n",
              "    <tr>\n",
              "      <th>12</th>\n",
              "      <td>SK네트웍스(주)효진주유소</td>\n",
              "      <td>1 서울특별시 성동구 동일로 129 (성수동2가)</td>\n",
              "      <td>1654</td>\n",
              "      <td>N</td>\n",
              "      <td>SK에너지</td>\n",
              "      <td>서울특별시</td>\n",
              "    </tr>\n",
              "  </tbody>\n",
              "</table>\n",
              "</div>"
            ],
            "text/plain": [
              "         Oil_store                           주소    가격 셀프     상표      구\n",
              "12  SK네트웍스(주)효진주유소  1 서울특별시 성동구 동일로 129 (성수동2가)  1654  N  SK에너지  서울특별시"
            ]
          },
          "metadata": {},
          "execution_count": 18
        }
      ]
    },
    {
      "cell_type": "code",
      "source": [
        "# stations 데이터프레임에서 stations['구'] == '서울특별시' 조건에 해당하는 '구' 값을 '성동구'로 변경\n",
        "stations.loc[stations['구'] == '서울특별시', '구'] = '성동구'"
      ],
      "metadata": {
        "id": "EdFDfy8l_H5m"
      },
      "execution_count": null,
      "outputs": []
    },
    {
      "cell_type": "code",
      "source": [
        "stations['구'].unique()"
      ],
      "metadata": {
        "colab": {
          "base_uri": "https://localhost:8080/"
        },
        "id": "lW4qtmmd_eV-",
        "outputId": "88c76fc4-ad11-4c21-82f1-cbbe3db39269"
      },
      "execution_count": null,
      "outputs": [
        {
          "output_type": "execute_result",
          "data": {
            "text/plain": [
              "array(['종로구', '성북구', '동작구', '서초구', '강서구', '양천구', '영등포구', '강동구', '성동구',\n",
              "       '강북구', '용산구', '서대문구', '동대문구', '송파구', '마포구', '중랑구', '은평구', '관악구',\n",
              "       '중구', '도봉구', '특별시', '금천구', '노원구', '광진구', '구로구'], dtype=object)"
            ]
          },
          "metadata": {},
          "execution_count": 20
        }
      ]
    },
    {
      "cell_type": "code",
      "source": [
        "stations[stations['구']=='특별시']"
      ],
      "metadata": {
        "colab": {
          "base_uri": "https://localhost:8080/",
          "height": 81
        },
        "id": "M_N2EpU9_uc2",
        "outputId": "8784f496-423a-4e4b-d584-8e211363c799"
      },
      "execution_count": null,
      "outputs": [
        {
          "output_type": "execute_result",
          "data": {
            "text/html": [
              "<div>\n",
              "<style scoped>\n",
              "    .dataframe tbody tr th:only-of-type {\n",
              "        vertical-align: middle;\n",
              "    }\n",
              "\n",
              "    .dataframe tbody tr th {\n",
              "        vertical-align: top;\n",
              "    }\n",
              "\n",
              "    .dataframe thead th {\n",
              "        text-align: right;\n",
              "    }\n",
              "</style>\n",
              "<table border=\"1\" class=\"dataframe\">\n",
              "  <thead>\n",
              "    <tr style=\"text-align: right;\">\n",
              "      <th></th>\n",
              "      <th>Oil_store</th>\n",
              "      <th>주소</th>\n",
              "      <th>가격</th>\n",
              "      <th>셀프</th>\n",
              "      <th>상표</th>\n",
              "      <th>구</th>\n",
              "    </tr>\n",
              "  </thead>\n",
              "  <tbody>\n",
              "    <tr>\n",
              "      <th>10</th>\n",
              "      <td>서현주유소</td>\n",
              "      <td>서울 특별시 도봉구 방학로 142 (방학동)</td>\n",
              "      <td>1524</td>\n",
              "      <td>Y</td>\n",
              "      <td>S-OIL</td>\n",
              "      <td>특별시</td>\n",
              "    </tr>\n",
              "  </tbody>\n",
              "</table>\n",
              "</div>"
            ],
            "text/plain": [
              "   Oil_store                        주소    가격 셀프     상표    구\n",
              "10     서현주유소  서울 특별시 도봉구 방학로 142 (방학동)  1524  Y  S-OIL  특별시"
            ]
          },
          "metadata": {},
          "execution_count": 21
        }
      ]
    },
    {
      "cell_type": "code",
      "source": [
        "stations.loc[stations['구'] == '특별시', '구'] = '도봉구'"
      ],
      "metadata": {
        "id": "NsvzGyIWAVD3"
      },
      "execution_count": null,
      "outputs": []
    },
    {
      "cell_type": "code",
      "source": [
        "stations['구'].unique()"
      ],
      "metadata": {
        "colab": {
          "base_uri": "https://localhost:8080/"
        },
        "id": "33ZW3jVWAaz3",
        "outputId": "875b6727-76ad-485a-f217-77a3979b2bd9"
      },
      "execution_count": null,
      "outputs": [
        {
          "output_type": "execute_result",
          "data": {
            "text/plain": [
              "array(['종로구', '성북구', '동작구', '서초구', '강서구', '양천구', '영등포구', '강동구', '성동구',\n",
              "       '강북구', '용산구', '서대문구', '동대문구', '송파구', '마포구', '중랑구', '은평구', '관악구',\n",
              "       '중구', '도봉구', '금천구', '노원구', '광진구', '구로구'], dtype=object)"
            ]
          },
          "metadata": {},
          "execution_count": 23
        }
      ]
    },
    {
      "cell_type": "code",
      "source": [
        "# '가격' 칼럼에 대한 결측치 확인\n",
        "# '가격' 칼럼에 '-'가 있는지 확인\n",
        "stations[stations['가격'] == '-']"
      ],
      "metadata": {
        "colab": {
          "base_uri": "https://localhost:8080/",
          "height": 175
        },
        "id": "IYG-5TOxAgWP",
        "outputId": "1f2699ca-fdaa-4e7e-838f-992949a4d3e7"
      },
      "execution_count": null,
      "outputs": [
        {
          "output_type": "execute_result",
          "data": {
            "text/html": [
              "<div>\n",
              "<style scoped>\n",
              "    .dataframe tbody tr th:only-of-type {\n",
              "        vertical-align: middle;\n",
              "    }\n",
              "\n",
              "    .dataframe tbody tr th {\n",
              "        vertical-align: top;\n",
              "    }\n",
              "\n",
              "    .dataframe thead th {\n",
              "        text-align: right;\n",
              "    }\n",
              "</style>\n",
              "<table border=\"1\" class=\"dataframe\">\n",
              "  <thead>\n",
              "    <tr style=\"text-align: right;\">\n",
              "      <th></th>\n",
              "      <th>Oil_store</th>\n",
              "      <th>주소</th>\n",
              "      <th>가격</th>\n",
              "      <th>셀프</th>\n",
              "      <th>상표</th>\n",
              "      <th>구</th>\n",
              "    </tr>\n",
              "  </thead>\n",
              "  <tbody>\n",
              "    <tr>\n",
              "      <th>33</th>\n",
              "      <td>하나주유소</td>\n",
              "      <td>서울특별시 영등포구  도림로 236 (신길동)</td>\n",
              "      <td>-</td>\n",
              "      <td>N</td>\n",
              "      <td>S-OIL</td>\n",
              "      <td>영등포구</td>\n",
              "    </tr>\n",
              "    <tr>\n",
              "      <th>18</th>\n",
              "      <td>명진석유(주)동서울주유소</td>\n",
              "      <td>서울특별시 강동구  천호대로 1456 (상일동)</td>\n",
              "      <td>-</td>\n",
              "      <td>Y</td>\n",
              "      <td>GS칼텍스</td>\n",
              "      <td>강동구</td>\n",
              "    </tr>\n",
              "    <tr>\n",
              "      <th>12</th>\n",
              "      <td>(주)에이앤이청담주유소</td>\n",
              "      <td>서울특별시 강북구 도봉로 155  (미아동)</td>\n",
              "      <td>-</td>\n",
              "      <td>Y</td>\n",
              "      <td>SK에너지</td>\n",
              "      <td>강북구</td>\n",
              "    </tr>\n",
              "    <tr>\n",
              "      <th>13</th>\n",
              "      <td>송정주유소</td>\n",
              "      <td>서울특별시 강북구 인수봉로 185 (수유동)</td>\n",
              "      <td>-</td>\n",
              "      <td>N</td>\n",
              "      <td>자가상표</td>\n",
              "      <td>강북구</td>\n",
              "    </tr>\n",
              "  </tbody>\n",
              "</table>\n",
              "</div>"
            ],
            "text/plain": [
              "        Oil_store                          주소 가격 셀프     상표     구\n",
              "33          하나주유소   서울특별시 영등포구  도림로 236 (신길동)  -  N  S-OIL  영등포구\n",
              "18  명진석유(주)동서울주유소  서울특별시 강동구  천호대로 1456 (상일동)  -  Y  GS칼텍스   강동구\n",
              "12   (주)에이앤이청담주유소    서울특별시 강북구 도봉로 155  (미아동)  -  Y  SK에너지   강북구\n",
              "13          송정주유소    서울특별시 강북구 인수봉로 185 (수유동)  -  N   자가상표   강북구"
            ]
          },
          "metadata": {},
          "execution_count": 24
        }
      ]
    },
    {
      "cell_type": "code",
      "source": [
        "# 가격 칼럼에 '-'가 아닌 데이터들만 추출하여 다시 데이터프레임으로 재저장\n",
        "stations = stations[stations['가격'] != '-']\n",
        "stations[stations['가격'] == '-']"
      ],
      "metadata": {
        "colab": {
          "base_uri": "https://localhost:8080/",
          "height": 49
        },
        "id": "reBYv7GZApk_",
        "outputId": "73c4a2b7-e80f-401d-d384-f3a8c50eb3e2"
      },
      "execution_count": null,
      "outputs": [
        {
          "output_type": "execute_result",
          "data": {
            "text/html": [
              "<div>\n",
              "<style scoped>\n",
              "    .dataframe tbody tr th:only-of-type {\n",
              "        vertical-align: middle;\n",
              "    }\n",
              "\n",
              "    .dataframe tbody tr th {\n",
              "        vertical-align: top;\n",
              "    }\n",
              "\n",
              "    .dataframe thead th {\n",
              "        text-align: right;\n",
              "    }\n",
              "</style>\n",
              "<table border=\"1\" class=\"dataframe\">\n",
              "  <thead>\n",
              "    <tr style=\"text-align: right;\">\n",
              "      <th></th>\n",
              "      <th>Oil_store</th>\n",
              "      <th>주소</th>\n",
              "      <th>가격</th>\n",
              "      <th>셀프</th>\n",
              "      <th>상표</th>\n",
              "      <th>구</th>\n",
              "    </tr>\n",
              "  </thead>\n",
              "  <tbody>\n",
              "  </tbody>\n",
              "</table>\n",
              "</div>"
            ],
            "text/plain": [
              "Empty DataFrame\n",
              "Columns: [Oil_store, 주소, 가격, 셀프, 상표, 구]\n",
              "Index: []"
            ]
          },
          "metadata": {},
          "execution_count": 25
        }
      ]
    },
    {
      "cell_type": "code",
      "source": [
        "# '가격' 칼럼의 데이터를 실수로 변환\n",
        "stations['가격'] = [float(value) for value in stations['가격']]\n",
        "stations['가격'].head()"
      ],
      "metadata": {
        "colab": {
          "base_uri": "https://localhost:8080/"
        },
        "id": "lM9hOBzHA2qo",
        "outputId": "70f4b984-cb46-4268-8358-4661c3e9a22c"
      },
      "execution_count": null,
      "outputs": [
        {
          "output_type": "execute_result",
          "data": {
            "text/plain": [
              "0    1669.0\n",
              "1    1699.0\n",
              "2    1890.0\n",
              "3    1960.0\n",
              "4    1960.0\n",
              "Name: 가격, dtype: float64"
            ]
          },
          "metadata": {},
          "execution_count": 26
        }
      ]
    },
    {
      "cell_type": "code",
      "source": [
        "stations['가격'].tail()"
      ],
      "metadata": {
        "colab": {
          "base_uri": "https://localhost:8080/"
        },
        "id": "Uo4BAsZDBC4f",
        "outputId": "5fa8dd2c-be29-462e-d6d9-9a32205fc85c"
      },
      "execution_count": null,
      "outputs": [
        {
          "output_type": "execute_result",
          "data": {
            "text/plain": [
              "17    1638.0\n",
              "18    1669.0\n",
              "19    1697.0\n",
              "20    1699.0\n",
              "21    2026.0\n",
              "Name: 가격, dtype: float64"
            ]
          },
          "metadata": {},
          "execution_count": 27
        }
      ]
    },
    {
      "cell_type": "code",
      "source": [
        "# stations의 내부 index를 초기화\n",
        "stations.reset_index(inplace=True)\n",
        "stations.index"
      ],
      "metadata": {
        "colab": {
          "base_uri": "https://localhost:8080/"
        },
        "id": "aOYev8QUBG93",
        "outputId": "56221af9-2fad-49b6-d1ea-08f7232244da"
      },
      "execution_count": null,
      "outputs": [
        {
          "output_type": "execute_result",
          "data": {
            "text/plain": [
              "RangeIndex(start=0, stop=487, step=1)"
            ]
          },
          "metadata": {},
          "execution_count": 28
        }
      ]
    },
    {
      "cell_type": "code",
      "source": [
        "# 데이터영역으로 나와있는 'index' 칼럼 제거\n",
        "del stations['index']\n",
        "stations.info()"
      ],
      "metadata": {
        "colab": {
          "base_uri": "https://localhost:8080/"
        },
        "id": "C4kgrHFABQvW",
        "outputId": "fee1cf93-c284-41a7-9abe-dad14fe61a2d"
      },
      "execution_count": null,
      "outputs": [
        {
          "output_type": "stream",
          "name": "stdout",
          "text": [
            "<class 'pandas.core.frame.DataFrame'>\n",
            "RangeIndex: 487 entries, 0 to 486\n",
            "Data columns (total 6 columns):\n",
            " #   Column     Non-Null Count  Dtype  \n",
            "---  ------     --------------  -----  \n",
            " 0   Oil_store  487 non-null    object \n",
            " 1   주소         487 non-null    object \n",
            " 2   가격         487 non-null    float64\n",
            " 3   셀프         487 non-null    object \n",
            " 4   상표         487 non-null    object \n",
            " 5   구          487 non-null    object \n",
            "dtypes: float64(1), object(5)\n",
            "memory usage: 23.0+ KB\n"
          ]
        }
      ]
    },
    {
      "cell_type": "code",
      "source": [
        "# 셀프 주유소가 저렴한지 boxplot으로 확인\n",
        "stations.boxplot(column='가격', by='셀프', figsize=(12, 8))"
      ],
      "metadata": {
        "colab": {
          "base_uri": "https://localhost:8080/",
          "height": 558
        },
        "id": "IhKSPfy1B8mI",
        "outputId": "73efd21a-ad90-49e4-dd26-4dcd770e9b67"
      },
      "execution_count": null,
      "outputs": [
        {
          "output_type": "execute_result",
          "data": {
            "text/plain": [
              "<matplotlib.axes._subplots.AxesSubplot at 0x7fd041b4ded0>"
            ]
          },
          "metadata": {},
          "execution_count": 30
        },
        {
          "output_type": "display_data",
          "data": {
            "image/png": "[encoded data removed]",
            "text/plain": [
              "<Figure size 864x576 with 1 Axes>"
            ]
          },
          "metadata": {
            "needs_background": "light"
          }
        }
      ]
    },
    {
      "cell_type": "code",
      "source": [
        "# seaborn의 boxplot\n",
        "plt.figure(figsize=(12, 8))\n",
        "sns.boxplot(x='상표', y='가격', hue='셀프', data=stations, palette='Set3')"
      ],
      "metadata": {
        "colab": {
          "base_uri": "https://localhost:8080/",
          "height": 515
        },
        "id": "TfeWju5_CTug",
        "outputId": "c6d34012-e06c-4a1f-efd9-37894c3fb7ee"
      },
      "execution_count": null,
      "outputs": [
        {
          "output_type": "execute_result",
          "data": {
            "text/plain": [
              "<matplotlib.axes._subplots.AxesSubplot at 0x7fd041b18810>"
            ]
          },
          "metadata": {},
          "execution_count": 31
        },
        {
          "output_type": "display_data",
          "data": {
            "image/png": "[encoded data removed]",
            "text/plain": [
              "<Figure size 864x576 with 1 Axes>"
            ]
          },
          "metadata": {
            "needs_background": "light"
          }
        }
      ]
    },
    {
      "cell_type": "code",
      "source": [
        "# swarmplot()\n",
        "plt.figure(figsize=(12, 8))\n",
        "sns.boxplot(x='상표', y='가격', hue='셀프', data=stations, palette='Set3')\n",
        "sns.swarmplot(x='상표', y='가격', data=stations, color='0.6')"
      ],
      "metadata": {
        "colab": {
          "base_uri": "https://localhost:8080/",
          "height": 515
        },
        "id": "TrjH5xOiC1k4",
        "outputId": "e1d6c78b-2014-4d0d-831e-df87db139b5d"
      },
      "execution_count": null,
      "outputs": [
        {
          "output_type": "execute_result",
          "data": {
            "text/plain": [
              "<matplotlib.axes._subplots.AxesSubplot at 0x7fd041337790>"
            ]
          },
          "metadata": {},
          "execution_count": 32
        },
        {
          "output_type": "display_data",
          "data": {
            "image/png": "[encoded data removed]",
            "text/plain": [
              "<Figure size 864x576 with 1 Axes>"
            ]
          },
          "metadata": {
            "needs_background": "light"
          }
        }
      ]
    },
    {
      "cell_type": "markdown",
      "source": [
        "결론 : 휘발유 가격으로만 분석했을 경우, 전반적으로 셀프 주유 가격이 더 저렴하다"
      ],
      "metadata": {
        "id": "r2HBtgi4ThE8"
      }
    },
    {
      "cell_type": "markdown",
      "source": [
        "### 서울시 구별 주유 가격 확인"
      ],
      "metadata": {
        "id": "12ararO_TyRF"
      }
    },
    {
      "cell_type": "code",
      "source": [
        "# 가격 컬럼을 기준으로 데이터 정렬\n",
        "stations.sort_values(by='가격', ascending=False).head(10)"
      ],
      "metadata": {
        "colab": {
          "base_uri": "https://localhost:8080/",
          "height": 363
        },
        "id": "Y1MjaJrrTptl",
        "outputId": "34b85556-280d-4477-a606-dc1548c01b35"
      },
      "execution_count": null,
      "outputs": [
        {
          "output_type": "execute_result",
          "data": {
            "text/html": [
              "<div>\n",
              "<style scoped>\n",
              "    .dataframe tbody tr th:only-of-type {\n",
              "        vertical-align: middle;\n",
              "    }\n",
              "\n",
              "    .dataframe tbody tr th {\n",
              "        vertical-align: top;\n",
              "    }\n",
              "\n",
              "    .dataframe thead th {\n",
              "        text-align: right;\n",
              "    }\n",
              "</style>\n",
              "<table border=\"1\" class=\"dataframe\">\n",
              "  <thead>\n",
              "    <tr style=\"text-align: right;\">\n",
              "      <th></th>\n",
              "      <th>Oil_store</th>\n",
              "      <th>주소</th>\n",
              "      <th>가격</th>\n",
              "      <th>셀프</th>\n",
              "      <th>상표</th>\n",
              "      <th>구</th>\n",
              "    </tr>\n",
              "  </thead>\n",
              "  <tbody>\n",
              "    <tr>\n",
              "      <th>396</th>\n",
              "      <td>서남주유소</td>\n",
              "      <td>서울 중구 통일로 30 (봉래동1가)</td>\n",
              "      <td>2132.0</td>\n",
              "      <td>N</td>\n",
              "      <td>SK에너지</td>\n",
              "      <td>중구</td>\n",
              "    </tr>\n",
              "    <tr>\n",
              "      <th>395</th>\n",
              "      <td>장충주유소</td>\n",
              "      <td>서울 중구 장충단로 202 (장충동1가)</td>\n",
              "      <td>2130.0</td>\n",
              "      <td>N</td>\n",
              "      <td>SK에너지</td>\n",
              "      <td>중구</td>\n",
              "    </tr>\n",
              "    <tr>\n",
              "      <th>85</th>\n",
              "      <td>양재주유소</td>\n",
              "      <td>서울 서초구 바우뫼로 178 (양재동)</td>\n",
              "      <td>2128.0</td>\n",
              "      <td>N</td>\n",
              "      <td>SK에너지</td>\n",
              "      <td>서초구</td>\n",
              "    </tr>\n",
              "    <tr>\n",
              "      <th>243</th>\n",
              "      <td>청파주유소</td>\n",
              "      <td>서울특별시 용산구  청파로 311 (청파동1가)</td>\n",
              "      <td>2106.0</td>\n",
              "      <td>N</td>\n",
              "      <td>SK에너지</td>\n",
              "      <td>용산구</td>\n",
              "    </tr>\n",
              "    <tr>\n",
              "      <th>241</th>\n",
              "      <td>강변주유소</td>\n",
              "      <td>서울특별시 용산구  원효로 9 (청암동)</td>\n",
              "      <td>2106.0</td>\n",
              "      <td>N</td>\n",
              "      <td>SK에너지</td>\n",
              "      <td>용산구</td>\n",
              "    </tr>\n",
              "    <tr>\n",
              "      <th>394</th>\n",
              "      <td>통일주유소</td>\n",
              "      <td>서울 중구 동호로 296 (장충동2가)</td>\n",
              "      <td>2106.0</td>\n",
              "      <td>N</td>\n",
              "      <td>SK에너지</td>\n",
              "      <td>중구</td>\n",
              "    </tr>\n",
              "    <tr>\n",
              "      <th>8</th>\n",
              "      <td>재동주유소</td>\n",
              "      <td>서울특별시 종로구  율곡로 58 (경운동)</td>\n",
              "      <td>2106.0</td>\n",
              "      <td>N</td>\n",
              "      <td>SK에너지</td>\n",
              "      <td>종로구</td>\n",
              "    </tr>\n",
              "    <tr>\n",
              "      <th>242</th>\n",
              "      <td>갈월동주유소</td>\n",
              "      <td>서울특별시 용산구  한강대로 322 (갈월동)</td>\n",
              "      <td>2106.0</td>\n",
              "      <td>N</td>\n",
              "      <td>SK에너지</td>\n",
              "      <td>용산구</td>\n",
              "    </tr>\n",
              "    <tr>\n",
              "      <th>240</th>\n",
              "      <td>흥국주유소</td>\n",
              "      <td>서울 용산구 한남대로 204 (한남동)</td>\n",
              "      <td>2105.0</td>\n",
              "      <td>N</td>\n",
              "      <td>SK에너지</td>\n",
              "      <td>용산구</td>\n",
              "    </tr>\n",
              "    <tr>\n",
              "      <th>393</th>\n",
              "      <td>필동주유소</td>\n",
              "      <td>서울특별시 중구  퇴계로 196 (필동2가)</td>\n",
              "      <td>2099.0</td>\n",
              "      <td>N</td>\n",
              "      <td>GS칼텍스</td>\n",
              "      <td>중구</td>\n",
              "    </tr>\n",
              "  </tbody>\n",
              "</table>\n",
              "</div>"
            ],
            "text/plain": [
              "    Oil_store                          주소      가격 셀프     상표    구\n",
              "396     서남주유소        서울 중구 통일로 30 (봉래동1가)  2132.0  N  SK에너지   중구\n",
              "395     장충주유소      서울 중구 장충단로 202 (장충동1가)  2130.0  N  SK에너지   중구\n",
              "85      양재주유소       서울 서초구 바우뫼로 178 (양재동)  2128.0  N  SK에너지  서초구\n",
              "243     청파주유소  서울특별시 용산구  청파로 311 (청파동1가)  2106.0  N  SK에너지  용산구\n",
              "241     강변주유소      서울특별시 용산구  원효로 9 (청암동)  2106.0  N  SK에너지  용산구\n",
              "394     통일주유소       서울 중구 동호로 296 (장충동2가)  2106.0  N  SK에너지   중구\n",
              "8       재동주유소     서울특별시 종로구  율곡로 58 (경운동)  2106.0  N  SK에너지  종로구\n",
              "242    갈월동주유소   서울특별시 용산구  한강대로 322 (갈월동)  2106.0  N  SK에너지  용산구\n",
              "240     흥국주유소       서울 용산구 한남대로 204 (한남동)  2105.0  N  SK에너지  용산구\n",
              "393     필동주유소    서울특별시 중구  퇴계로 196 (필동2가)  2099.0  N  GS칼텍스   중구"
            ]
          },
          "metadata": {},
          "execution_count": 33
        }
      ]
    },
    {
      "cell_type": "code",
      "source": [
        "# '구'별 '가격'을 비교하기 위해 index를 구 이름으로 : pandas.pivot_table()\n",
        "gu_data = pd.pivot_table(stations, index=['구'], values='가격', aggfunc=np.mean)"
      ],
      "metadata": {
        "id": "NXMKHRbMT-5F"
      },
      "execution_count": null,
      "outputs": []
    },
    {
      "cell_type": "markdown",
      "source": [
        "gu_data : 데이터프레임을 생성하는 stations 데이터프레임으로부터 '구'칼럼 값을 gu_data의 index값으로, '가격'칼럼 값은 '구'별 '가격' 평균값(np.mean)으로 이용"
      ],
      "metadata": {
        "id": "eh4rBmkqUQRt"
      }
    },
    {
      "cell_type": "code",
      "source": [
        "# 구글 맵 데이터 로드 : 02. skorea_municipalities_geo_simple.json\n",
        "geo_path = './data/02. skorea_municipalities_geo_simple.json'"
      ],
      "metadata": {
        "id": "5PqXyvzmUfa0"
      },
      "execution_count": null,
      "outputs": []
    },
    {
      "cell_type": "markdown",
      "source": [
        "##### json 파일 읽기\n",
        "1. open(\"파일 경로 및 파일명\", encoding=인코딩방식)\n",
        "2. open() 으로 열어놓은 파일을 json.load()로 읽기\n",
        "3. 작업을 위해 변수에 저장. json.load()는 내부 형식에 따라\n",
        "전체 타입은 리스트 => 리스트의 각 항목 타입은 딕셔너리."
      ],
      "metadata": {
        "id": "hwALxGuYUyLN"
      }
    },
    {
      "cell_type": "code",
      "source": [
        "geo_str = json.load(open(geo_path, encoding=\"utf-8\"))"
      ],
      "metadata": {
        "id": "byABASk-VH2l"
      },
      "execution_count": null,
      "outputs": []
    },
    {
      "cell_type": "markdown",
      "source": [
        "##### folium을 활용한 시각화 - 지도\n",
        "* folium은 시각화 결과를 html 파일로 저장하여 사용 => 웹 페이지에서 사용할 수 있는 상태로 저장, 따라서 folium의 시각화 내용은 변수에 저장하여 html 파일로 만들어 사용.\n",
        "\n",
        "        1. 저장변수 = folium.Map(location=[위도, 경도], zoom_start=\"초기확대비율\", tiles=\"지도종류\")\n",
        "        2. 저장변수.save(\"저장할 경로 및 파일명.html)\n"
      ],
      "metadata": {
        "id": "y1jv05kiVdGG"
      }
    },
    {
      "cell_type": "code",
      "source": [
        "map = folium.Map(location=[37.5502, 126.982], zoom_start=10.5, tiles=\"Stamen Toner\")\n",
        "map"
      ],
      "metadata": {
        "colab": {
          "base_uri": "https://localhost:8080/",
          "height": 663
        },
        "id": "EnnKk9PNVONW",
        "outputId": "8aec520d-cab3-4f05-ea89-99db9e09c544"
      },
      "execution_count": null,
      "outputs": [
        {
          "output_type": "execute_result",
          "data": {
            "text/html": [
              "<div style=\"width:100%;\"><div style=\"position:relative;width:100%;height:0;padding-bottom:60%;\"><span style=\"color:#565656\">Make this Notebook Trusted to load map: File -> Trust Notebook</span><iframe src=\"about:blank\" style=\"position:absolute;width:100%;height:100%;left:0;top:0;border:none !important;\" data-html=%3C%21DOCTYPE%20html%3E%0A%3Chead%3E%20%20%20%20%0A%20%20%20%20%3Cmeta%20http-equiv%3D%22content-type%22%20content%3D%22text/html%3B%20charset%3DUTF-8%22%20/%3E%0A%20%20%20%20%3Cscript%3EL_PREFER_CANVAS%3Dfalse%3B%20L_NO_TOUCH%3Dfalse%3B%20L_DISABLE_3D%3Dfalse%3B%3C/script%3E%0A%20%20%20%20%3Cscript%20src%3D%22https%3A//cdn.jsdelivr.net/npm/leaflet%401.4.0/dist/leaflet.js%22%3E%3C/script%3E%0A%20%20%20%20%3Cscript%20src%3D%22https%3A//code.jquery.com/jquery-1.12.4.min.js%22%3E%3C/script%3E%0A%20%20%20%20%3Cscript%20src%3D%22https%3A//maxcdn.bootstrapcdn.com/bootstrap/3.2.0/js/bootstrap.min.js%22%3E%3C/script%3E%0A%20%20%20%20%3Cscript%20src%3D%22https%3A//cdnjs.cloudflare.com/ajax/libs/Leaflet.awesome-markers/2.0.2/leaflet.awesome-markers.js%22%3E%3C/script%3E%0A%20%20%20%20%3Clink%20rel%3D%22stylesheet%22%20href%3D%22https%3A//cdn.jsdelivr.net/npm/leaflet%401.4.0/dist/leaflet.css%22/%3E%0A%20%20%20%20%3Clink%20rel%3D%22stylesheet%22%20href%3D%22https%3A//maxcdn.bootstrapcdn.com/bootstrap/3.2.0/css/bootstrap.min.css%22/%3E%0A%20%20%20%20%3Clink%20rel%3D%22stylesheet%22%20href%3D%22https%3A//maxcdn.bootstrapcdn.com/bootstrap/3.2.0/css/bootstrap-theme.min.css%22/%3E%0A%20%20%20%20%3Clink%20rel%3D%22stylesheet%22%20href%3D%22https%3A//maxcdn.bootstrapcdn.com/font-awesome/4.6.3/css/font-awesome.min.css%22/%3E%0A%20%20%20%20%3Clink%20rel%3D%22stylesheet%22%20href%3D%22https%3A//cdnjs.cloudflare.com/ajax/libs/Leaflet.awesome-markers/2.0.2/leaflet.awesome-markers.css%22/%3E%0A%20%20%20%20%3Clink%20rel%3D%22stylesheet%22%20href%3D%22https%3A//rawcdn.githack.com/python-visualization/folium/master/folium/templates/leaflet.awesome.rotate.css%22/%3E%0A%20%20%20%20%3Cstyle%3Ehtml%2C%20body%20%7Bwidth%3A%20100%25%3Bheight%3A%20100%25%3Bmargin%3A%200%3Bpadding%3A%200%3B%7D%3C/style%3E%0A%20%20%20%20%3Cstyle%3E%23map%20%7Bposition%3Aabsolute%3Btop%3A0%3Bbottom%3A0%3Bright%3A0%3Bleft%3A0%3B%7D%3C/style%3E%0A%20%20%20%20%0A%20%20%20%20%3Cmeta%20name%3D%22viewport%22%20content%3D%22width%3Ddevice-width%2C%0A%20%20%20%20%20%20%20%20initial-scale%3D1.0%2C%20maximum-scale%3D1.0%2C%20user-scalable%3Dno%22%20/%3E%0A%20%20%20%20%3Cstyle%3E%23map_558bca816561430fbd43264f0c7dec85%20%7B%0A%20%20%20%20%20%20%20%20position%3A%20relative%3B%0A%20%20%20%20%20%20%20%20width%3A%20100.0%25%3B%0A%20%20%20%20%20%20%20%20height%3A%20100.0%25%3B%0A%20%20%20%20%20%20%20%20left%3A%200.0%25%3B%0A%20%20%20%20%20%20%20%20top%3A%200.0%25%3B%0A%20%20%20%20%20%20%20%20%7D%0A%20%20%20%20%3C/style%3E%0A%3C/head%3E%0A%3Cbody%3E%20%20%20%20%0A%20%20%20%20%0A%20%20%20%20%3Cdiv%20class%3D%22folium-map%22%20id%3D%22map_558bca816561430fbd43264f0c7dec85%22%20%3E%3C/div%3E%0A%3C/body%3E%0A%3Cscript%3E%20%20%20%20%0A%20%20%20%20%0A%20%20%20%20%0A%20%20%20%20%20%20%20%20var%20bounds%20%3D%20null%3B%0A%20%20%20%20%0A%0A%20%20%20%20var%20map_558bca816561430fbd43264f0c7dec85%20%3D%20L.map%28%0A%20%20%20%20%20%20%20%20%27map_558bca816561430fbd43264f0c7dec85%27%2C%20%7B%0A%20%20%20%20%20%20%20%20center%3A%20%5B37.5502%2C%20126.982%5D%2C%0A%20%20%20%20%20%20%20%20zoom%3A%2010.5%2C%0A%20%20%20%20%20%20%20%20maxBounds%3A%20bounds%2C%0A%20%20%20%20%20%20%20%20layers%3A%20%5B%5D%2C%0A%20%20%20%20%20%20%20%20worldCopyJump%3A%20false%2C%0A%20%20%20%20%20%20%20%20crs%3A%20L.CRS.EPSG3857%2C%0A%20%20%20%20%20%20%20%20zoomControl%3A%20true%2C%0A%20%20%20%20%20%20%20%20%7D%29%3B%0A%0A%0A%20%20%20%20%0A%20%20%20%20var%20tile_layer_b6e18c50e9674800a415ecc5b0ee3169%20%3D%20L.tileLayer%28%0A%20%20%20%20%20%20%20%20%27https%3A//stamen-tiles-%7Bs%7D.a.ssl.fastly.net/toner/%7Bz%7D/%7Bx%7D/%7By%7D.png%27%2C%0A%20%20%20%20%20%20%20%20%7B%0A%20%20%20%20%20%20%20%20%22attribution%22%3A%20null%2C%0A%20%20%20%20%20%20%20%20%22detectRetina%22%3A%20false%2C%0A%20%20%20%20%20%20%20%20%22maxNativeZoom%22%3A%2018%2C%0A%20%20%20%20%20%20%20%20%22maxZoom%22%3A%2018%2C%0A%20%20%20%20%20%20%20%20%22minZoom%22%3A%200%2C%0A%20%20%20%20%20%20%20%20%22noWrap%22%3A%20false%2C%0A%20%20%20%20%20%20%20%20%22opacity%22%3A%201%2C%0A%20%20%20%20%20%20%20%20%22subdomains%22%3A%20%22abc%22%2C%0A%20%20%20%20%20%20%20%20%22tms%22%3A%20false%0A%7D%29.addTo%28map_558bca816561430fbd43264f0c7dec85%29%3B%0A%3C/script%3E onload=\"this.contentDocument.open();this.contentDocument.write(    decodeURIComponent(this.getAttribute('data-html')));this.contentDocument.close();\" allowfullscreen webkitallowfullscreen mozallowfullscreen></iframe></div></div>"
            ],
            "text/plain": [
              "<folium.folium.Map at 0x7fd0376fdd90>"
            ]
          },
          "metadata": {},
          "execution_count": 37
        }
      ]
    },
    {
      "cell_type": "markdown",
      "source": [
        "##### 기본 구글 지도 위에 행정 구역을 그리고, 각 구의 평균 가격을 생각으로 표현\n",
        "    1. 저장 변수 = folium.Map(location=[위도, 경도], zoom_start=\"초기확대비율\", tiles=\"지도종류\")\n",
        "    2. 저장변수.chropleth(geo_data=\"행정구역데이터\",\n",
        "                        data=\"시각화할데이터(가격)\",\n",
        "                        columns=[시각화할데이터.index, '가격'],\n",
        "                        fill_color=\"데이터를 표현할 색종류\",    # PuRd / YlGnBu\n",
        "                        key_on=\"기준(feature.id)\")\n",
        "    3. 저장변수.save(\"저장경로 및 파일명.html\")"
      ],
      "metadata": {
        "id": "oOk3A5rpWgiW"
      }
    },
    {
      "cell_type": "code",
      "source": [
        "map = folium.Map(location=[37.5502, 126.982], zoom_start=10.5, tiles=\"Stamen Toner\")\n",
        "map.choropleth(geo_data=geo_str,\n",
        "               data=gu_data,\n",
        "               columns=[gu_data.index, '가격'],\n",
        "               fill_color=\"PuRd\",\n",
        "               key_on=\"feature.id\")\n",
        "map"
      ],
      "metadata": {
        "colab": {
          "base_uri": "https://localhost:8080/",
          "height": 663
        },
        "id": "sk5NfOGVXTLu",
        "outputId": "ca0d1825-c623-42ec-e6a4-9a95f7924d35"
      },
      "execution_count": null,
      "outputs": [
        {
          "output_type": "execute_result",
          "data": {
            "text/html": [
              "<div style=\"width:100%;\"><div style=\"position:relative;width:100%;height:0;padding-bottom:60%;\"><span style=\"color:#565656\">Make this Notebook Trusted to load map: File -> Trust Notebook</span><iframe src=\"about:blank\" style=\"position:absolute;width:100%;height:100%;left:0;top:0;border:none !important;\" data-html=%3C%21DOCTYPE%20html%3E%0A%3Chead%3E%20%20%20%20%0A%20%20%20%20%3Cmeta%20http-equiv%3D%22content-type%22%20content%3D%22text/html%3B%20charset%3DUTF-8%22%20/%3E%0A%20%20%20%20%3Cscript%3EL_PREFER_CANVAS%3Dfalse%3B%20L_NO_TOUCH%3Dfalse%3B%20L_DISABLE_3D%3Dfalse%3B%3C/script%3E%0A%20%20%20%20%3Cscript%20src%3D%22https%3A//cdn.jsdelivr.net/npm/leaflet%401.4.0/dist/leaflet.js%22%3E%3C/script%3E%0A%20%20%20%20%3Cscript%20src%3D%22https%3A//code.jquery.com/jquery-1.12.4.min.js%22%3E%3C/script%3E%0A%20%20%20%20%3Cscript%20src%3D%22https%3A//maxcdn.bootstrapcdn.com/bootstrap/3.2.0/js/bootstrap.min.js%22%3E%3C/script%3E%0A%20%20%20%20%3Cscript%20src%3D%22https%3A//cdnjs.cloudflare.com/ajax/libs/Leaflet.awesome-markers/2.0.2/leaflet.awesome-markers.js%22%3E%3C/script%3E%0A%20%20%20%20%3Clink%20rel%3D%22stylesheet%22%20href%3D%22https%3A//cdn.jsdelivr.net/npm/leaflet%401.4.0/dist/leaflet.css%22/%3E%0A%20%20%20%20%3Clink%20rel%3D%22stylesheet%22%20href%3D%22https%3A//maxcdn.bootstrapcdn.com/bootstrap/3.2.0/css/bootstrap.min.css%22/%3E%0A%20%20%20%20%3Clink%20rel%3D%22stylesheet%22%20href%3D%22https%3A//maxcdn.bootstrapcdn.com/bootstrap/3.2.0/css/bootstrap-theme.min.css%22/%3E%0A%20%20%20%20%3Clink%20rel%3D%22stylesheet%22%20href%3D%22https%3A//maxcdn.bootstrapcdn.com/font-awesome/4.6.3/css/font-awesome.min.css%22/%3E%0A%20%20%20%20%3Clink%20rel%3D%22stylesheet%22%20href%3D%22https%3A//cdnjs.cloudflare.com/ajax/libs/Leaflet.awesome-markers/2.0.2/leaflet.awesome-markers.css%22/%3E%0A%20%20%20%20%3Clink%20rel%3D%22stylesheet%22%20href%3D%22https%3A//rawcdn.githack.com/python-visualization/folium/master/folium/templates/leaflet.awesome.rotate.css%22/%3E%0A%20%20%20%20%3Cstyle%3Ehtml%2C%20body%20%7Bwidth%3A%20100%25%3Bheight%3A%20100%25%3Bmargin%3A%200%3Bpadding%3A%200%3B%7D%3C/style%3E%0A%20%20%20%20%3Cstyle%3E%23map%20%7Bposition%3Aabsolute%3Btop%3A0%3Bbottom%3A0%3Bright%3A0%3Bleft%3A0%3B%7D%3C/style%3E%0A%20%20%20%20%0A%20%20%20%20%3Cmeta%20name%3D%22viewport%22%20content%3D%22width%3Ddevice-width%2C%0A%20%20%20%20%20%20%20%20initial-scale%3D1.0%2C%20maximum-scale%3D1.0%2C%20user-scalable%3Dno%22%20/%3E%0A%20%20%20%20%3Cstyle%3E%23map_726772f9dd984e708c13af008d63757b%20%7B%0A%20%20%20%20%20%20%20%20position%3A%20relative%3B%0A%20%20%20%20%20%20%20%20width%3A%20100.0%25%3B%0A%20%20%20%20%20%20%20%20height%3A%20100.0%25%3B%0A%20%20%20%20%20%20%20%20left%3A%200.0%25%3B%0A%20%20%20%20%20%20%20%20top%3A%200.0%25%3B%0A%20%20%20%20%20%20%20%20%7D%0A%20%20%20%20%3C/style%3E%0A%20%20%20%20%3Cscript%20src%3D%22https%3A//cdnjs.cloudflare.com/ajax/libs/d3/3.5.5/d3.min.js%22%3E%3C/script%3E%0A%3C/head%3E%0A%3Cbody%3E%20%20%20%20%0A%20%20%20%20%0A%20%20%20%20%3Cdiv%20class%3D%22folium-map%22%20id%3D%22map_726772f9dd984e708c13af008d63757b%22%20%3E%3C/div%3E%0A%3C/body%3E%0A%3Cscript%3E%20%20%20%20%0A%20%20%20%20%0A%20%20%20%20%0A%20%20%20%20%20%20%20%20var%20bounds%20%3D%20null%3B%0A%20%20%20%20%0A%0A%20%20%20%20var%20map_726772f9dd984e708c13af008d63757b%20%3D%20L.map%28%0A%20%20%20%20%20%20%20%20%27map_726772f9dd984e708c13af008d63757b%27%2C%20%7B%0A%20%20%20%20%20%20%20%20center%3A%20%5B37.5502%2C%20126.982%5D%2C%0A%20%20%20%20%20%20%20%20zoom%3A%2010.5%2C%0A%20%20%20%20%20%20%20%20maxBounds%3A%20bounds%2C%0A%20%20%20%20%20%20%20%20layers%3A%20%5B%5D%2C%0A%20%20%20%20%20%20%20%20worldCopyJump%3A%20false%2C%0A%20%20%20%20%20%20%20%20crs%3A%20L.CRS.EPSG3857%2C%0A%20%20%20%20%20%20%20%20zoomControl%3A%20true%2C%0A%20%20%20%20%20%20%20%20%7D%29%3B%0A%0A%0A%20%20%20%20%0A%20%20%20%20var%20tile_layer_c66f00549d3a49d6acf44cff9006d9fb%20%3D%20L.tileLayer%28%0A%20%20%20%20%20%20%20%20%27https%3A//stamen-tiles-%7Bs%7D.a.ssl.fastly.net/toner/%7Bz%7D/%7Bx%7D/%7By%7D.png%27%2C%0A%20%20%20%20%20%20%20%20%7B%0A%20%20%20%20%20%20%20%20%22attribution%22%3A%20null%2C%0A%20%20%20%20%20%20%20%20%22detectRetina%22%3A%20false%2C%0A%20%20%20%20%20%20%20%20%22maxNativeZoom%22%3A%2018%2C%0A%20%20%20%20%20%20%20%20%22maxZoom%22%3A%2018%2C%0A%20%20%20%20%20%20%20%20%22minZoom%22%3A%200%2C%0A%20%20%20%20%20%20%20%20%22noWrap%22%3A%20false%2C%0A%20%20%20%20%20%20%20%20%22opacity%22%3A%201%2C%0A%20%20%20%20%20%20%20%20%22subdomains%22%3A%20%22abc%22%2C%0A%20%20%20%20%20%20%20%20%22tms%22%3A%20false%0A%7D%29.addTo%28map_726772f9dd984e708c13af008d63757b%29%3B%0A%20%20%20%20%0A%20%20%20%20%20%20%20%20%20%20%20%20var%20choropleth_f794df724a1a4226a1902f822fef57a0%20%3D%20L.featureGroup%28%0A%20%20%20%20%20%20%20%20%20%20%20%20%20%20%20%20%29.addTo%28map_726772f9dd984e708c13af008d63757b%29%3B%0A%20%20%20%20%20%20%20%20%0A%20%20%20%20%0A%20%20%20%20%20%20%20%20var%20geo_json_2ea3de7ad11b4f6a8d3eada301e28f42%20%3D%20L.geoJson%28%0A%20%20%20%20%20%20%20%20%20%20%20%20%7B%22features%22%3A%20%5B%7B%22geometry%22%3A%20%7B%22coordinates%22%3A%20%5B%5B%5B127.11519584981606%2C%2037.557533180704915%5D%2C%20%5B127.16683184366129%2C%2037.57672487388627%5D%2C%20%5B127.18408792330152%2C%2037.55814280369575%5D%2C%20%5B127.16530984307447%2C%2037.54221851258693%5D%2C%20%5B127.14672806823502%2C%2037.51415680680291%5D%2C%20%5B127.12123165719615%2C%2037.52528270089%5D%2C%20%5B127.1116764203608%2C%2037.540669955324965%5D%2C%20%5B127.11519584981606%2C%2037.557533180704915%5D%5D%5D%2C%20%22type%22%3A%20%22Polygon%22%7D%2C%20%22id%22%3A%20%22%5Cuac15%5Cub3d9%5Cuad6c%22%2C%20%22properties%22%3A%20%7B%22base_year%22%3A%20%222013%22%2C%20%22code%22%3A%20%2211250%22%2C%20%22highlight%22%3A%20%7B%7D%2C%20%22name%22%3A%20%22%5Cuac15%5Cub3d9%5Cuad6c%22%2C%20%22name_eng%22%3A%20%22Gangdong-gu%22%2C%20%22style%22%3A%20%7B%22color%22%3A%20%22black%22%2C%20%22fillColor%22%3A%20%22%23d4b9da%22%2C%20%22fillOpacity%22%3A%200.6%2C%20%22opacity%22%3A%201%2C%20%22weight%22%3A%201%7D%7D%2C%20%22type%22%3A%20%22Feature%22%7D%2C%20%7B%22geometry%22%3A%20%7B%22coordinates%22%3A%20%5B%5B%5B127.0690698130372%2C%2037.522279423505026%5D%2C%20%5B127.10087519791962%2C%2037.524841220167055%5D%2C%20%5B127.1116764203608%2C%2037.540669955324965%5D%2C%20%5B127.12123165719615%2C%2037.52528270089%5D%2C%20%5B127.14672806823502%2C%2037.51415680680291%5D%2C%20%5B127.1634944215765%2C%2037.497445406097484%5D%2C%20%5B127.14206058413274%2C%2037.47089819098501%5D%2C%20%5B127.12440571080893%2C%2037.46240445587048%5D%2C%20%5B127.11117085201238%2C%2037.485708381512445%5D%2C%20%5B127.0719146000724%2C%2037.50224013587669%5D%2C%20%5B127.0690698130372%2C%2037.522279423505026%5D%5D%5D%2C%20%22type%22%3A%20%22Polygon%22%7D%2C%20%22id%22%3A%20%22%5Cuc1a1%5Cud30c%5Cuad6c%22%2C%20%22properties%22%3A%20%7B%22base_year%22%3A%20%222013%22%2C%20%22code%22%3A%20%2211240%22%2C%20%22highlight%22%3A%20%7B%7D%2C%20%22name%22%3A%20%22%5Cuc1a1%5Cud30c%5Cuad6c%22%2C%20%22name_eng%22%3A%20%22Songpa-gu%22%2C%20%22style%22%3A%20%7B%22color%22%3A%20%22black%22%2C%20%22fillColor%22%3A%20%22%23d4b9da%22%2C%20%22fillOpacity%22%3A%200.6%2C%20%22opacity%22%3A%201%2C%20%22weight%22%3A%201%7D%7D%2C%20%22type%22%3A%20%22Feature%22%7D%2C%20%7B%22geometry%22%3A%20%7B%22coordinates%22%3A%20%5B%5B%5B127.05867359288398%2C%2037.52629974922568%5D%2C%20%5B127.0690698130372%2C%2037.522279423505026%5D%2C%20%5B127.0719146000724%2C%2037.50224013587669%5D%2C%20%5B127.11117085201238%2C%2037.485708381512445%5D%2C%20%5B127.12440571080893%2C%2037.46240445587048%5D%2C%20%5B127.09842759318751%2C%2037.45862253857461%5D%2C%20%5B127.08640440578156%2C%2037.472697935184655%5D%2C%20%5B127.0559170481904%2C%2037.4659228914077%5D%2C%20%5B127.03621915098798%2C%2037.48175802427603%5D%2C%20%5B127.01397119667513%2C%2037.52503988289669%5D%2C%20%5B127.02302831890559%2C%2037.53231899582663%5D%2C%20%5B127.05867359288398%2C%2037.52629974922568%5D%5D%5D%2C%20%22type%22%3A%20%22Polygon%22%7D%2C%20%22id%22%3A%20%22%5Cuac15%5Cub0a8%5Cuad6c%22%2C%20%22properties%22%3A%20%7B%22base_year%22%3A%20%222013%22%2C%20%22code%22%3A%20%2211230%22%2C%20%22highlight%22%3A%20%7B%7D%2C%20%22name%22%3A%20%22%5Cuac15%5Cub0a8%5Cuad6c%22%2C%20%22name_eng%22%3A%20%22Gangnam-gu%22%2C%20%22style%22%3A%20%7B%22color%22%3A%20%22black%22%2C%20%22fillColor%22%3A%20%22black%22%2C%20%22fillOpacity%22%3A%200.6%2C%20%22opacity%22%3A%201%2C%20%22weight%22%3A%201%7D%7D%2C%20%22type%22%3A%20%22Feature%22%7D%2C%20%7B%22geometry%22%3A%20%7B%22coordinates%22%3A%20%5B%5B%5B127.01397119667513%2C%2037.52503988289669%5D%2C%20%5B127.03621915098798%2C%2037.48175802427603%5D%2C%20%5B127.0559170481904%2C%2037.4659228914077%5D%2C%20%5B127.08640440578156%2C%2037.472697935184655%5D%2C%20%5B127.09842759318751%2C%2037.45862253857461%5D%2C%20%5B127.09046928565951%2C%2037.44296826114185%5D%2C%20%5B127.06778107605433%2C%2037.426197424057314%5D%2C%20%5B127.04957232987142%2C%2037.42805836845694%5D%2C%20%5B127.03881782597922%2C%2037.45382039851715%5D%2C%20%5B126.99072073195462%2C%2037.455326143310025%5D%2C%20%5B126.98367668291802%2C%2037.473856492692086%5D%2C%20%5B126.98223807916081%2C%2037.509314966770326%5D%2C%20%5B127.01397119667513%2C%2037.52503988289669%5D%5D%5D%2C%20%22type%22%3A%20%22Polygon%22%7D%2C%20%22id%22%3A%20%22%5Cuc11c%5Cucd08%5Cuad6c%22%2C%20%22properties%22%3A%20%7B%22base_year%22%3A%20%222013%22%2C%20%22code%22%3A%20%2211220%22%2C%20%22highlight%22%3A%20%7B%7D%2C%20%22name%22%3A%20%22%5Cuc11c%5Cucd08%5Cuad6c%22%2C%20%22name_eng%22%3A%20%22Seocho-gu%22%2C%20%22style%22%3A%20%7B%22color%22%3A%20%22black%22%2C%20%22fillColor%22%3A%20%22%23d4b9da%22%2C%20%22fillOpacity%22%3A%200.6%2C%20%22opacity%22%3A%201%2C%20%22weight%22%3A%201%7D%7D%2C%20%22type%22%3A%20%22Feature%22%7D%2C%20%7B%22geometry%22%3A%20%7B%22coordinates%22%3A%20%5B%5B%5B126.98367668291802%2C%2037.473856492692086%5D%2C%20%5B126.99072073195462%2C%2037.455326143310025%5D%2C%20%5B126.96520439085143%2C%2037.438249784006246%5D%2C%20%5B126.95000001010182%2C%2037.43613451165719%5D%2C%20%5B126.93084408056525%2C%2037.447382928333994%5D%2C%20%5B126.9167728146601%2C%2037.45490566423789%5D%2C%20%5B126.90156094129895%2C%2037.47753842789901%5D%2C%20%5B126.90531975801812%2C%2037.48218087575429%5D%2C%20%5B126.94922661389508%2C%2037.49125437495649%5D%2C%20%5B126.9725891850662%2C%2037.472561363278125%5D%2C%20%5B126.98367668291802%2C%2037.473856492692086%5D%5D%5D%2C%20%22type%22%3A%20%22Polygon%22%7D%2C%20%22id%22%3A%20%22%5Cuad00%5Cuc545%5Cuad6c%22%2C%20%22properties%22%3A%20%7B%22base_year%22%3A%20%222013%22%2C%20%22code%22%3A%20%2211210%22%2C%20%22highlight%22%3A%20%7B%7D%2C%20%22name%22%3A%20%22%5Cuad00%5Cuc545%5Cuad6c%22%2C%20%22name_eng%22%3A%20%22Gwanak-gu%22%2C%20%22style%22%3A%20%7B%22color%22%3A%20%22black%22%2C%20%22fillColor%22%3A%20%22%23f1eef6%22%2C%20%22fillOpacity%22%3A%200.6%2C%20%22opacity%22%3A%201%2C%20%22weight%22%3A%201%7D%7D%2C%20%22type%22%3A%20%22Feature%22%7D%2C%20%7B%22geometry%22%3A%20%7B%22coordinates%22%3A%20%5B%5B%5B126.98223807916081%2C%2037.509314966770326%5D%2C%20%5B126.98367668291802%2C%2037.473856492692086%5D%2C%20%5B126.9725891850662%2C%2037.472561363278125%5D%2C%20%5B126.94922661389508%2C%2037.49125437495649%5D%2C%20%5B126.90531975801812%2C%2037.48218087575429%5D%2C%20%5B126.92177893174825%2C%2037.494889877415176%5D%2C%20%5B126.92810628828279%2C%2037.51329595732015%5D%2C%20%5B126.95249990298159%2C%2037.51722500741813%5D%2C%20%5B126.98223807916081%2C%2037.509314966770326%5D%5D%5D%2C%20%22type%22%3A%20%22Polygon%22%7D%2C%20%22id%22%3A%20%22%5Cub3d9%5Cuc791%5Cuad6c%22%2C%20%22properties%22%3A%20%7B%22base_year%22%3A%20%222013%22%2C%20%22code%22%3A%20%2211200%22%2C%20%22highlight%22%3A%20%7B%7D%2C%20%22name%22%3A%20%22%5Cub3d9%5Cuc791%5Cuad6c%22%2C%20%22name_eng%22%3A%20%22Dongjak-gu%22%2C%20%22style%22%3A%20%7B%22color%22%3A%20%22black%22%2C%20%22fillColor%22%3A%20%22%23f1eef6%22%2C%20%22fillOpacity%22%3A%200.6%2C%20%22opacity%22%3A%201%2C%20%22weight%22%3A%201%7D%7D%2C%20%22type%22%3A%20%22Feature%22%7D%2C%20%7B%22geometry%22%3A%20%7B%22coordinates%22%3A%20%5B%5B%5B126.89184663862764%2C%2037.547373974997114%5D%2C%20%5B126.94566733083212%2C%2037.526617542453366%5D%2C%20%5B126.95249990298159%2C%2037.51722500741813%5D%2C%20%5B126.92810628828279%2C%2037.51329595732015%5D%2C%20%5B126.92177893174825%2C%2037.494889877415176%5D%2C%20%5B126.90531975801812%2C%2037.48218087575429%5D%2C%20%5B126.89594776782485%2C%2037.504675281309176%5D%2C%20%5B126.88156402353862%2C%2037.513970034765684%5D%2C%20%5B126.88825757860099%2C%2037.54079733630232%5D%2C%20%5B126.89184663862764%2C%2037.547373974997114%5D%5D%5D%2C%20%22type%22%3A%20%22Polygon%22%7D%2C%20%22id%22%3A%20%22%5Cuc601%5Cub4f1%5Cud3ec%5Cuad6c%22%2C%20%22properties%22%3A%20%7B%22base_year%22%3A%20%222013%22%2C%20%22code%22%3A%20%2211190%22%2C%20%22highlight%22%3A%20%7B%7D%2C%20%22name%22%3A%20%22%5Cuc601%5Cub4f1%5Cud3ec%5Cuad6c%22%2C%20%22name_eng%22%3A%20%22Yeongdeungpo-gu%22%2C%20%22style%22%3A%20%7B%22color%22%3A%20%22black%22%2C%20%22fillColor%22%3A%20%22%23d4b9da%22%2C%20%22fillOpacity%22%3A%200.6%2C%20%22opacity%22%3A%201%2C%20%22weight%22%3A%201%7D%7D%2C%20%22type%22%3A%20%22Feature%22%7D%2C%20%7B%22geometry%22%3A%20%7B%22coordinates%22%3A%20%5B%5B%5B126.90156094129895%2C%2037.47753842789901%5D%2C%20%5B126.9167728146601%2C%2037.45490566423789%5D%2C%20%5B126.93084408056525%2C%2037.447382928333994%5D%2C%20%5B126.9025831711697%2C%2037.434549366349124%5D%2C%20%5B126.87683271502428%2C%2037.482576591607305%5D%2C%20%5B126.90156094129895%2C%2037.47753842789901%5D%5D%5D%2C%20%22type%22%3A%20%22Polygon%22%7D%2C%20%22id%22%3A%20%22%5Cuae08%5Cucc9c%5Cuad6c%22%2C%20%22properties%22%3A%20%7B%22base_year%22%3A%20%222013%22%2C%20%22code%22%3A%20%2211180%22%2C%20%22highlight%22%3A%20%7B%7D%2C%20%22name%22%3A%20%22%5Cuae08%5Cucc9c%5Cuad6c%22%2C%20%22name_eng%22%3A%20%22Geumcheon-gu%22%2C%20%22style%22%3A%20%7B%22color%22%3A%20%22black%22%2C%20%22fillColor%22%3A%20%22%23d4b9da%22%2C%20%22fillOpacity%22%3A%200.6%2C%20%22opacity%22%3A%201%2C%20%22weight%22%3A%201%7D%7D%2C%20%22type%22%3A%20%22Feature%22%7D%2C%20%7B%22geometry%22%3A%20%7B%22coordinates%22%3A%20%5B%5B%5B126.82688081517314%2C%2037.50548972232896%5D%2C%20%5B126.88156402353862%2C%2037.513970034765684%5D%2C%20%5B126.89594776782485%2C%2037.504675281309176%5D%2C%20%5B126.90531975801812%2C%2037.48218087575429%5D%2C%20%5B126.90156094129895%2C%2037.47753842789901%5D%2C%20%5B126.87683271502428%2C%2037.482576591607305%5D%2C%20%5B126.84762676054953%2C%2037.47146723936323%5D%2C%20%5B126.83549485076196%2C%2037.474098236975095%5D%2C%20%5B126.82264796791348%2C%2037.4878476492147%5D%2C%20%5B126.82504736331406%2C%2037.50302612640443%5D%2C%20%5B126.82688081517314%2C%2037.50548972232896%5D%5D%5D%2C%20%22type%22%3A%20%22Polygon%22%7D%2C%20%22id%22%3A%20%22%5Cuad6c%5Cub85c%5Cuad6c%22%2C%20%22properties%22%3A%20%7B%22base_year%22%3A%20%222013%22%2C%20%22code%22%3A%20%2211170%22%2C%20%22highlight%22%3A%20%7B%7D%2C%20%22name%22%3A%20%22%5Cuad6c%5Cub85c%5Cuad6c%22%2C%20%22name_eng%22%3A%20%22Guro-gu%22%2C%20%22style%22%3A%20%7B%22color%22%3A%20%22black%22%2C%20%22fillColor%22%3A%20%22%23f1eef6%22%2C%20%22fillOpacity%22%3A%200.6%2C%20%22opacity%22%3A%201%2C%20%22weight%22%3A%201%7D%7D%2C%20%22type%22%3A%20%22Feature%22%7D%2C%20%7B%22geometry%22%3A%20%7B%22coordinates%22%3A%20%5B%5B%5B126.79575768552907%2C%2037.57881087633202%5D%2C%20%5B126.80702115023597%2C%2037.60123001013228%5D%2C%20%5B126.82251438477105%2C%2037.5880430810082%5D%2C%20%5B126.85984199399667%2C%2037.571847855292745%5D%2C%20%5B126.89184663862764%2C%2037.547373974997114%5D%2C%20%5B126.88825757860099%2C%2037.54079733630232%5D%2C%20%5B126.86637464321238%2C%2037.54859191094823%5D%2C%20%5B126.86610073476395%2C%2037.52699964144669%5D%2C%20%5B126.84257291943153%2C%2037.52373707805596%5D%2C%20%5B126.8242331426722%2C%2037.53788078753248%5D%2C%20%5B126.77324417717703%2C%2037.5459123450554%5D%2C%20%5B126.76979180579352%2C%2037.55139183008809%5D%2C%20%5B126.79575768552907%2C%2037.57881087633202%5D%5D%5D%2C%20%22type%22%3A%20%22Polygon%22%7D%2C%20%22id%22%3A%20%22%5Cuac15%5Cuc11c%5Cuad6c%22%2C%20%22properties%22%3A%20%7B%22base_year%22%3A%20%222013%22%2C%20%22code%22%3A%20%2211160%22%2C%20%22highlight%22%3A%20%7B%7D%2C%20%22name%22%3A%20%22%5Cuac15%5Cuc11c%5Cuad6c%22%2C%20%22name_eng%22%3A%20%22Gangseo-gu%22%2C%20%22style%22%3A%20%7B%22color%22%3A%20%22black%22%2C%20%22fillColor%22%3A%20%22%23f1eef6%22%2C%20%22fillOpacity%22%3A%200.6%2C%20%22opacity%22%3A%201%2C%20%22weight%22%3A%201%7D%7D%2C%20%22type%22%3A%20%22Feature%22%7D%2C%20%7B%22geometry%22%3A%20%7B%22coordinates%22%3A%20%5B%5B%5B126.8242331426722%2C%2037.53788078753248%5D%2C%20%5B126.84257291943153%2C%2037.52373707805596%5D%2C%20%5B126.86610073476395%2C%2037.52699964144669%5D%2C%20%5B126.86637464321238%2C%2037.54859191094823%5D%2C%20%5B126.88825757860099%2C%2037.54079733630232%5D%2C%20%5B126.88156402353862%2C%2037.513970034765684%5D%2C%20%5B126.82688081517314%2C%2037.50548972232896%5D%2C%20%5B126.8242331426722%2C%2037.53788078753248%5D%5D%5D%2C%20%22type%22%3A%20%22Polygon%22%7D%2C%20%22id%22%3A%20%22%5Cuc591%5Cucc9c%5Cuad6c%22%2C%20%22properties%22%3A%20%7B%22base_year%22%3A%20%222013%22%2C%20%22code%22%3A%20%2211150%22%2C%20%22highlight%22%3A%20%7B%7D%2C%20%22name%22%3A%20%22%5Cuc591%5Cucc9c%5Cuad6c%22%2C%20%22name_eng%22%3A%20%22Yangcheon-gu%22%2C%20%22style%22%3A%20%7B%22color%22%3A%20%22black%22%2C%20%22fillColor%22%3A%20%22%23f1eef6%22%2C%20%22fillOpacity%22%3A%200.6%2C%20%22opacity%22%3A%201%2C%20%22weight%22%3A%201%7D%7D%2C%20%22type%22%3A%20%22Feature%22%7D%2C%20%7B%22geometry%22%3A%20%7B%22coordinates%22%3A%20%5B%5B%5B126.90522065831053%2C%2037.57409700522574%5D%2C%20%5B126.93898161798973%2C%2037.552310003728124%5D%2C%20%5B126.96358226710812%2C%2037.55605635475154%5D%2C%20%5B126.96448570553055%2C%2037.548705692021635%5D%2C%20%5B126.94566733083212%2C%2037.526617542453366%5D%2C%20%5B126.89184663862764%2C%2037.547373974997114%5D%2C%20%5B126.85984199399667%2C%2037.571847855292745%5D%2C%20%5B126.88433284773288%2C%2037.588143322880526%5D%2C%20%5B126.90522065831053%2C%2037.57409700522574%5D%5D%5D%2C%20%22type%22%3A%20%22Polygon%22%7D%2C%20%22id%22%3A%20%22%5Cub9c8%5Cud3ec%5Cuad6c%22%2C%20%22properties%22%3A%20%7B%22base_year%22%3A%20%222013%22%2C%20%22code%22%3A%20%2211140%22%2C%20%22highlight%22%3A%20%7B%7D%2C%20%22name%22%3A%20%22%5Cub9c8%5Cud3ec%5Cuad6c%22%2C%20%22name_eng%22%3A%20%22Mapo-gu%22%2C%20%22style%22%3A%20%7B%22color%22%3A%20%22black%22%2C%20%22fillColor%22%3A%20%22%23c994c7%22%2C%20%22fillOpacity%22%3A%200.6%2C%20%22opacity%22%3A%201%2C%20%22weight%22%3A%201%7D%7D%2C%20%22type%22%3A%20%22Feature%22%7D%2C%20%7B%22geometry%22%3A%20%7B%22coordinates%22%3A%20%5B%5B%5B126.9524752030572%2C%2037.60508692737045%5D%2C%20%5B126.95565425846463%2C%2037.576080790881456%5D%2C%20%5B126.96873633279075%2C%2037.56313604690827%5D%2C%20%5B126.96358226710812%2C%2037.55605635475154%5D%2C%20%5B126.93898161798973%2C%2037.552310003728124%5D%2C%20%5B126.90522065831053%2C%2037.57409700522574%5D%2C%20%5B126.9524752030572%2C%2037.60508692737045%5D%5D%5D%2C%20%22type%22%3A%20%22Polygon%22%7D%2C%20%22id%22%3A%20%22%5Cuc11c%5Cub300%5Cubb38%5Cuad6c%22%2C%20%22properties%22%3A%20%7B%22base_year%22%3A%20%222013%22%2C%20%22code%22%3A%20%2211130%22%2C%20%22highlight%22%3A%20%7B%7D%2C%20%22name%22%3A%20%22%5Cuc11c%5Cub300%5Cubb38%5Cuad6c%22%2C%20%22name_eng%22%3A%20%22Seodaemun-gu%22%2C%20%22style%22%3A%20%7B%22color%22%3A%20%22black%22%2C%20%22fillColor%22%3A%20%22%23f1eef6%22%2C%20%22fillOpacity%22%3A%200.6%2C%20%22opacity%22%3A%201%2C%20%22weight%22%3A%201%7D%7D%2C%20%22type%22%3A%20%22Feature%22%7D%2C%20%7B%22geometry%22%3A%20%7B%22coordinates%22%3A%20%5B%5B%5B126.9738864128702%2C%2037.62949634786888%5D%2C%20%5B126.95427017006129%2C%2037.622033431339425%5D%2C%20%5B126.9524752030572%2C%2037.60508692737045%5D%2C%20%5B126.90522065831053%2C%2037.57409700522574%5D%2C%20%5B126.88433284773288%2C%2037.588143322880526%5D%2C%20%5B126.90396681003595%2C%2037.59227403419942%5D%2C%20%5B126.90303066177668%2C%2037.609977911401344%5D%2C%20%5B126.91455481429648%2C%2037.64150050996935%5D%2C%20%5B126.956473797387%2C%2037.652480737339445%5D%2C%20%5B126.9738864128702%2C%2037.62949634786888%5D%5D%5D%2C%20%22type%22%3A%20%22Polygon%22%7D%2C%20%22id%22%3A%20%22%5Cuc740%5Cud3c9%5Cuad6c%22%2C%20%22properties%22%3A%20%7B%22base_year%22%3A%20%222013%22%2C%20%22code%22%3A%20%2211120%22%2C%20%22highlight%22%3A%20%7B%7D%2C%20%22name%22%3A%20%22%5Cuc740%5Cud3c9%5Cuad6c%22%2C%20%22name_eng%22%3A%20%22Eunpyeong-gu%22%2C%20%22style%22%3A%20%7B%22color%22%3A%20%22black%22%2C%20%22fillColor%22%3A%20%22%23f1eef6%22%2C%20%22fillOpacity%22%3A%200.6%2C%20%22opacity%22%3A%201%2C%20%22weight%22%3A%201%7D%7D%2C%20%22type%22%3A%20%22Feature%22%7D%2C%20%7B%22geometry%22%3A%20%7B%22coordinates%22%3A%20%5B%5B%5B127.0838752703195%2C%2037.69359534202034%5D%2C%20%5B127.09706391309695%2C%2037.686383719372294%5D%2C%20%5B127.09440766298717%2C%2037.64713490473045%5D%2C%20%5B127.11326795855199%2C%2037.639622905315925%5D%2C%20%5B127.10782277688129%2C%2037.61804244241069%5D%2C%20%5B127.07351243825278%2C%2037.61283660342313%5D%2C%20%5B127.05209373568619%2C%2037.62164065487782%5D%2C%20%5B127.04358800895609%2C%2037.62848931298715%5D%2C%20%5B127.05800075220091%2C%2037.64318263878276%5D%2C%20%5B127.05288479710485%2C%2037.68423857084347%5D%2C%20%5B127.0838752703195%2C%2037.69359534202034%5D%5D%5D%2C%20%22type%22%3A%20%22Polygon%22%7D%2C%20%22id%22%3A%20%22%5Cub178%5Cuc6d0%5Cuad6c%22%2C%20%22properties%22%3A%20%7B%22base_year%22%3A%20%222013%22%2C%20%22code%22%3A%20%2211110%22%2C%20%22highlight%22%3A%20%7B%7D%2C%20%22name%22%3A%20%22%5Cub178%5Cuc6d0%5Cuad6c%22%2C%20%22name_eng%22%3A%20%22Nowon-gu%22%2C%20%22style%22%3A%20%7B%22color%22%3A%20%22black%22%2C%20%22fillColor%22%3A%20%22%23d4b9da%22%2C%20%22fillOpacity%22%3A%200.6%2C%20%22opacity%22%3A%201%2C%20%22weight%22%3A%201%7D%7D%2C%20%22type%22%3A%20%22Feature%22%7D%2C%20%7B%22geometry%22%3A%20%7B%22coordinates%22%3A%20%5B%5B%5B127.05288479710485%2C%2037.68423857084347%5D%2C%20%5B127.05800075220091%2C%2037.64318263878276%5D%2C%20%5B127.04358800895609%2C%2037.62848931298715%5D%2C%20%5B127.01465935892466%2C%2037.64943687496812%5D%2C%20%5B127.02062116141389%2C%2037.667173575971205%5D%2C%20%5B127.01039666042071%2C%2037.681894589603594%5D%2C%20%5B127.01795099203432%2C%2037.69824412775662%5D%2C%20%5B127.05288479710485%2C%2037.68423857084347%5D%5D%5D%2C%20%22type%22%3A%20%22Polygon%22%7D%2C%20%22id%22%3A%20%22%5Cub3c4%5Cubd09%5Cuad6c%22%2C%20%22properties%22%3A%20%7B%22base_year%22%3A%20%222013%22%2C%20%22code%22%3A%20%2211100%22%2C%20%22highlight%22%3A%20%7B%7D%2C%20%22name%22%3A%20%22%5Cub3c4%5Cubd09%5Cuad6c%22%2C%20%22name_eng%22%3A%20%22Dobong-gu%22%2C%20%22style%22%3A%20%7B%22color%22%3A%20%22black%22%2C%20%22fillColor%22%3A%20%22%23f1eef6%22%2C%20%22fillOpacity%22%3A%200.6%2C%20%22opacity%22%3A%201%2C%20%22weight%22%3A%201%7D%7D%2C%20%22type%22%3A%20%22Feature%22%7D%2C%20%7B%22geometry%22%3A%20%7B%22coordinates%22%3A%20%5B%5B%5B126.99383903424%2C%2037.676681761199085%5D%2C%20%5B127.01039666042071%2C%2037.681894589603594%5D%2C%20%5B127.02062116141389%2C%2037.667173575971205%5D%2C%20%5B127.01465935892466%2C%2037.64943687496812%5D%2C%20%5B127.04358800895609%2C%2037.62848931298715%5D%2C%20%5B127.05209373568619%2C%2037.62164065487782%5D%2C%20%5B127.03892400992301%2C%2037.609715611023816%5D%2C%20%5B127.0128154749523%2C%2037.613652243470256%5D%2C%20%5B126.98672705513869%2C%2037.63377641288196%5D%2C%20%5B126.9817452676551%2C%2037.65209769387776%5D%2C%20%5B126.99383903424%2C%2037.676681761199085%5D%5D%5D%2C%20%22type%22%3A%20%22Polygon%22%7D%2C%20%22id%22%3A%20%22%5Cuac15%5Cubd81%5Cuad6c%22%2C%20%22properties%22%3A%20%7B%22base_year%22%3A%20%222013%22%2C%20%22code%22%3A%20%2211090%22%2C%20%22highlight%22%3A%20%7B%7D%2C%20%22name%22%3A%20%22%5Cuac15%5Cubd81%5Cuad6c%22%2C%20%22name_eng%22%3A%20%22Gangbuk-gu%22%2C%20%22style%22%3A%20%7B%22color%22%3A%20%22black%22%2C%20%22fillColor%22%3A%20%22%23f1eef6%22%2C%20%22fillOpacity%22%3A%200.6%2C%20%22opacity%22%3A%201%2C%20%22weight%22%3A%201%7D%7D%2C%20%22type%22%3A%20%22Feature%22%7D%2C%20%7B%22geometry%22%3A%20%7B%22coordinates%22%3A%20%5B%5B%5B126.977175406416%2C%2037.62859715400388%5D%2C%20%5B126.98672705513869%2C%2037.63377641288196%5D%2C%20%5B127.0128154749523%2C%2037.613652243470256%5D%2C%20%5B127.03892400992301%2C%2037.609715611023816%5D%2C%20%5B127.05209373568619%2C%2037.62164065487782%5D%2C%20%5B127.07351243825278%2C%2037.61283660342313%5D%2C%20%5B127.07382707099227%2C%2037.60401928986419%5D%2C%20%5B127.042705222094%2C%2037.59239437593391%5D%2C%20%5B127.02527254528003%2C%2037.57524616245249%5D%2C%20%5B126.99348293358314%2C%2037.588565457216156%5D%2C%20%5B126.98879865992384%2C%2037.6118927319756%5D%2C%20%5B126.977175406416%2C%2037.62859715400388%5D%5D%5D%2C%20%22type%22%3A%20%22Polygon%22%7D%2C%20%22id%22%3A%20%22%5Cuc131%5Cubd81%5Cuad6c%22%2C%20%22properties%22%3A%20%7B%22base_year%22%3A%20%222013%22%2C%20%22code%22%3A%20%2211080%22%2C%20%22highlight%22%3A%20%7B%7D%2C%20%22name%22%3A%20%22%5Cuc131%5Cubd81%5Cuad6c%22%2C%20%22name_eng%22%3A%20%22Seongbuk-gu%22%2C%20%22style%22%3A%20%7B%22color%22%3A%20%22black%22%2C%20%22fillColor%22%3A%20%22%23f1eef6%22%2C%20%22fillOpacity%22%3A%200.6%2C%20%22opacity%22%3A%201%2C%20%22weight%22%3A%201%7D%7D%2C%20%22type%22%3A%20%22Feature%22%7D%2C%20%7B%22geometry%22%3A%20%7B%22coordinates%22%3A%20%5B%5B%5B127.07351243825278%2C%2037.61283660342313%5D%2C%20%5B127.10782277688129%2C%2037.61804244241069%5D%2C%20%5B127.1201246020114%2C%2037.60178457598188%5D%2C%20%5B127.10304174249214%2C%2037.57076342290955%5D%2C%20%5B127.08068541280403%2C%2037.56906425519017%5D%2C%20%5B127.07382707099227%2C%2037.60401928986419%5D%2C%20%5B127.07351243825278%2C%2037.61283660342313%5D%5D%5D%2C%20%22type%22%3A%20%22Polygon%22%7D%2C%20%22id%22%3A%20%22%5Cuc911%5Cub791%5Cuad6c%22%2C%20%22properties%22%3A%20%7B%22base_year%22%3A%20%222013%22%2C%20%22code%22%3A%20%2211070%22%2C%20%22highlight%22%3A%20%7B%7D%2C%20%22name%22%3A%20%22%5Cuc911%5Cub791%5Cuad6c%22%2C%20%22name_eng%22%3A%20%22Jungnang-gu%22%2C%20%22style%22%3A%20%7B%22color%22%3A%20%22black%22%2C%20%22fillColor%22%3A%20%22%23f1eef6%22%2C%20%22fillOpacity%22%3A%200.6%2C%20%22opacity%22%3A%201%2C%20%22weight%22%3A%201%7D%7D%2C%20%22type%22%3A%20%22Feature%22%7D%2C%20%7B%22geometry%22%3A%20%7B%22coordinates%22%3A%20%5B%5B%5B127.02527254528003%2C%2037.57524616245249%5D%2C%20%5B127.042705222094%2C%2037.59239437593391%5D%2C%20%5B127.07382707099227%2C%2037.60401928986419%5D%2C%20%5B127.08068541280403%2C%2037.56906425519017%5D%2C%20%5B127.07421053024362%2C%2037.55724769712085%5D%2C%20%5B127.05005601081567%2C%2037.567577612590846%5D%2C%20%5B127.02547266349976%2C%2037.568943552237734%5D%2C%20%5B127.02527254528003%2C%2037.57524616245249%5D%5D%5D%2C%20%22type%22%3A%20%22Polygon%22%7D%2C%20%22id%22%3A%20%22%5Cub3d9%5Cub300%5Cubb38%5Cuad6c%22%2C%20%22properties%22%3A%20%7B%22base_year%22%3A%20%222013%22%2C%20%22code%22%3A%20%2211060%22%2C%20%22highlight%22%3A%20%7B%7D%2C%20%22name%22%3A%20%22%5Cub3d9%5Cub300%5Cubb38%5Cuad6c%22%2C%20%22name_eng%22%3A%20%22Dongdaemun-gu%22%2C%20%22style%22%3A%20%7B%22color%22%3A%20%22black%22%2C%20%22fillColor%22%3A%20%22%23f1eef6%22%2C%20%22fillOpacity%22%3A%200.6%2C%20%22opacity%22%3A%201%2C%20%22weight%22%3A%201%7D%7D%2C%20%22type%22%3A%20%22Feature%22%7D%2C%20%7B%22geometry%22%3A%20%7B%22coordinates%22%3A%20%5B%5B%5B127.08068541280403%2C%2037.56906425519017%5D%2C%20%5B127.10304174249214%2C%2037.57076342290955%5D%2C%20%5B127.11519584981606%2C%2037.557533180704915%5D%2C%20%5B127.1116764203608%2C%2037.540669955324965%5D%2C%20%5B127.10087519791962%2C%2037.524841220167055%5D%2C%20%5B127.0690698130372%2C%2037.522279423505026%5D%2C%20%5B127.05867359288398%2C%2037.52629974922568%5D%2C%20%5B127.07421053024362%2C%2037.55724769712085%5D%2C%20%5B127.08068541280403%2C%2037.56906425519017%5D%5D%5D%2C%20%22type%22%3A%20%22Polygon%22%7D%2C%20%22id%22%3A%20%22%5Cuad11%5Cuc9c4%5Cuad6c%22%2C%20%22properties%22%3A%20%7B%22base_year%22%3A%20%222013%22%2C%20%22code%22%3A%20%2211050%22%2C%20%22highlight%22%3A%20%7B%7D%2C%20%22name%22%3A%20%22%5Cuad11%5Cuc9c4%5Cuad6c%22%2C%20%22name_eng%22%3A%20%22Gwangjin-gu%22%2C%20%22style%22%3A%20%7B%22color%22%3A%20%22black%22%2C%20%22fillColor%22%3A%20%22%23f1eef6%22%2C%20%22fillOpacity%22%3A%200.6%2C%20%22opacity%22%3A%201%2C%20%22weight%22%3A%201%7D%7D%2C%20%22type%22%3A%20%22Feature%22%7D%2C%20%7B%22geometry%22%3A%20%7B%22coordinates%22%3A%20%5B%5B%5B127.02547266349976%2C%2037.568943552237734%5D%2C%20%5B127.05005601081567%2C%2037.567577612590846%5D%2C%20%5B127.07421053024362%2C%2037.55724769712085%5D%2C%20%5B127.05867359288398%2C%2037.52629974922568%5D%2C%20%5B127.02302831890559%2C%2037.53231899582663%5D%2C%20%5B127.01070894177482%2C%2037.54118048964762%5D%2C%20%5B127.02547266349976%2C%2037.568943552237734%5D%5D%5D%2C%20%22type%22%3A%20%22Polygon%22%7D%2C%20%22id%22%3A%20%22%5Cuc131%5Cub3d9%5Cuad6c%22%2C%20%22properties%22%3A%20%7B%22base_year%22%3A%20%222013%22%2C%20%22code%22%3A%20%2211040%22%2C%20%22highlight%22%3A%20%7B%7D%2C%20%22name%22%3A%20%22%5Cuc131%5Cub3d9%5Cuad6c%22%2C%20%22name_eng%22%3A%20%22Seongdong-gu%22%2C%20%22style%22%3A%20%7B%22color%22%3A%20%22black%22%2C%20%22fillColor%22%3A%20%22%23d4b9da%22%2C%20%22fillOpacity%22%3A%200.6%2C%20%22opacity%22%3A%201%2C%20%22weight%22%3A%201%7D%7D%2C%20%22type%22%3A%20%22Feature%22%7D%2C%20%7B%22geometry%22%3A%20%7B%22coordinates%22%3A%20%5B%5B%5B127.01070894177482%2C%2037.54118048964762%5D%2C%20%5B127.02302831890559%2C%2037.53231899582663%5D%2C%20%5B127.01397119667513%2C%2037.52503988289669%5D%2C%20%5B126.98223807916081%2C%2037.509314966770326%5D%2C%20%5B126.95249990298159%2C%2037.51722500741813%5D%2C%20%5B126.94566733083212%2C%2037.526617542453366%5D%2C%20%5B126.96448570553055%2C%2037.548705692021635%5D%2C%20%5B126.98752996903328%2C%2037.55094818807139%5D%2C%20%5B127.01070894177482%2C%2037.54118048964762%5D%5D%5D%2C%20%22type%22%3A%20%22Polygon%22%7D%2C%20%22id%22%3A%20%22%5Cuc6a9%5Cuc0b0%5Cuad6c%22%2C%20%22properties%22%3A%20%7B%22base_year%22%3A%20%222013%22%2C%20%22code%22%3A%20%2211030%22%2C%20%22highlight%22%3A%20%7B%7D%2C%20%22name%22%3A%20%22%5Cuc6a9%5Cuc0b0%5Cuad6c%22%2C%20%22name_eng%22%3A%20%22Yongsan-gu%22%2C%20%22style%22%3A%20%7B%22color%22%3A%20%22black%22%2C%20%22fillColor%22%3A%20%22%23980043%22%2C%20%22fillOpacity%22%3A%200.6%2C%20%22opacity%22%3A%201%2C%20%22weight%22%3A%201%7D%7D%2C%20%22type%22%3A%20%22Feature%22%7D%2C%20%7B%22geometry%22%3A%20%7B%22coordinates%22%3A%20%5B%5B%5B127.02547266349976%2C%2037.568943552237734%5D%2C%20%5B127.01070894177482%2C%2037.54118048964762%5D%2C%20%5B126.98752996903328%2C%2037.55094818807139%5D%2C%20%5B126.96448570553055%2C%2037.548705692021635%5D%2C%20%5B126.96358226710812%2C%2037.55605635475154%5D%2C%20%5B126.96873633279075%2C%2037.56313604690827%5D%2C%20%5B127.02547266349976%2C%2037.568943552237734%5D%5D%5D%2C%20%22type%22%3A%20%22Polygon%22%7D%2C%20%22id%22%3A%20%22%5Cuc911%5Cuad6c%22%2C%20%22properties%22%3A%20%7B%22base_year%22%3A%20%222013%22%2C%20%22code%22%3A%20%2211020%22%2C%20%22highlight%22%3A%20%7B%7D%2C%20%22name%22%3A%20%22%5Cuc911%5Cuad6c%22%2C%20%22name_eng%22%3A%20%22Jung-gu%22%2C%20%22style%22%3A%20%7B%22color%22%3A%20%22black%22%2C%20%22fillColor%22%3A%20%22%23980043%22%2C%20%22fillOpacity%22%3A%200.6%2C%20%22opacity%22%3A%201%2C%20%22weight%22%3A%201%7D%7D%2C%20%22type%22%3A%20%22Feature%22%7D%2C%20%7B%22geometry%22%3A%20%7B%22coordinates%22%3A%20%5B%5B%5B126.9738864128702%2C%2037.62949634786888%5D%2C%20%5B126.977175406416%2C%2037.62859715400388%5D%2C%20%5B126.98879865992384%2C%2037.6118927319756%5D%2C%20%5B126.99348293358314%2C%2037.588565457216156%5D%2C%20%5B127.02527254528003%2C%2037.57524616245249%5D%2C%20%5B127.02547266349976%2C%2037.568943552237734%5D%2C%20%5B126.96873633279075%2C%2037.56313604690827%5D%2C%20%5B126.95565425846463%2C%2037.576080790881456%5D%2C%20%5B126.9524752030572%2C%2037.60508692737045%5D%2C%20%5B126.95427017006129%2C%2037.622033431339425%5D%2C%20%5B126.9738864128702%2C%2037.62949634786888%5D%5D%5D%2C%20%22type%22%3A%20%22Polygon%22%7D%2C%20%22id%22%3A%20%22%5Cuc885%5Cub85c%5Cuad6c%22%2C%20%22properties%22%3A%20%7B%22base_year%22%3A%20%222013%22%2C%20%22code%22%3A%20%2211010%22%2C%20%22highlight%22%3A%20%7B%7D%2C%20%22name%22%3A%20%22%5Cuc885%5Cub85c%5Cuad6c%22%2C%20%22name_eng%22%3A%20%22Jongno-gu%22%2C%20%22style%22%3A%20%7B%22color%22%3A%20%22black%22%2C%20%22fillColor%22%3A%20%22%23980043%22%2C%20%22fillOpacity%22%3A%200.6%2C%20%22opacity%22%3A%201%2C%20%22weight%22%3A%201%7D%7D%2C%20%22type%22%3A%20%22Feature%22%7D%5D%2C%20%22type%22%3A%20%22FeatureCollection%22%7D%2C%0A%20%20%20%20%20%20%20%20%20%20%20%20%7B%0A%20%20%20%20%20%20%20%20%20%20%20%20%7D%0A%20%20%20%20%20%20%20%20%29.addTo%28choropleth_f794df724a1a4226a1902f822fef57a0%20%29%3B%0A%20%20%20%20%20%20%20%20geo_json_2ea3de7ad11b4f6a8d3eada301e28f42.setStyle%28function%28feature%29%20%7Breturn%20feature.properties.style%3B%7D%29%3B%0A%20%20%20%20%20%20%20%20%0A%20%20%20%20%0A%20%20%20%20var%20color_map_dbea446ae82e4c6d9536b77f2af829f6%20%3D%20%7B%7D%3B%0A%0A%20%20%20%20%0A%20%20%20%20color_map_dbea446ae82e4c6d9536b77f2af829f6.color%20%3D%20d3.scale.threshold%28%29%0A%20%20%20%20%20%20%20%20%20%20%20%20%20%20.domain%28%5B1534.3333333333333%2C%201535.194555778223%2C%201536.0557782231128%2C%201536.9170006680026%2C%201537.7782231128924%2C%201538.6394455577822%2C%201539.500668002672%2C%201540.3618904475618%2C%201541.2231128924516%2C%201542.0843353373414%2C%201542.9455577822312%2C%201543.8067802271207%2C%201544.6680026720105%2C%201545.5292251169003%2C%201546.39044756179%2C%201547.25167000668%2C%201548.1128924515697%2C%201548.9741148964595%2C%201549.8353373413493%2C%201550.696559786239%2C%201551.5577822311288%2C%201552.4190046760186%2C%201553.2802271209084%2C%201554.1414495657982%2C%201555.002672010688%2C%201555.8638944555778%2C%201556.7251169004676%2C%201557.5863393453574%2C%201558.4475617902472%2C%201559.308784235137%2C%201560.1700066800267%2C%201561.0312291249165%2C%201561.892451569806%2C%201562.753674014696%2C%201563.6148964595857%2C%201564.4761189044755%2C%201565.3373413493653%2C%201566.198563794255%2C%201567.0597862391448%2C%201567.9210086840346%2C%201568.7822311289244%2C%201569.6434535738142%2C%201570.504676018704%2C%201571.3658984635938%2C%201572.2271209084836%2C%201573.0883433533734%2C%201573.9495657982632%2C%201574.810788243153%2C%201575.6720106880427%2C%201576.5332331329325%2C%201577.3944555778223%2C%201578.2556780227121%2C%201579.1169004676017%2C%201579.9781229124915%2C%201580.8393453573813%2C%201581.700567802271%2C%201582.5617902471608%2C%201583.4230126920506%2C%201584.2842351369404%2C%201585.1454575818302%2C%201586.00668002672%2C%201586.8679024716098%2C%201587.7291249164996%2C%201588.5903473613894%2C%201589.4515698062792%2C%201590.312792251169%2C%201591.1740146960587%2C%201592.0352371409485%2C%201592.8964595858383%2C%201593.7576820307281%2C%201594.618904475618%2C%201595.4801269205077%2C%201596.3413493653975%2C%201597.2025718102873%2C%201598.0637942551768%2C%201598.9250167000666%2C%201599.7862391449564%2C%201600.6474615898462%2C%201601.508684034736%2C%201602.3699064796258%2C%201603.2311289245156%2C%201604.0923513694054%2C%201604.9535738142952%2C%201605.814796259185%2C%201606.6760187040747%2C%201607.5372411489645%2C%201608.3984635938543%2C%201609.2596860387441%2C%201610.120908483634%2C%201610.9821309285237%2C%201611.8433533734135%2C%201612.7045758183033%2C%201613.565798263193%2C%201614.4270207080826%2C%201615.2882431529724%2C%201616.1494655978622%2C%201617.010688042752%2C%201617.8719104876418%2C%201618.7331329325316%2C%201619.5943553774214%2C%201620.4555778223112%2C%201621.316800267201%2C%201622.1780227120908%2C%201623.0392451569805%2C%201623.9004676018703%2C%201624.7616900467601%2C%201625.62291249165%2C%201626.4841349365397%2C%201627.3453573814295%2C%201628.2065798263193%2C%201629.067802271209%2C%201629.9290247160989%2C%201630.7902471609887%2C%201631.6514696058784%2C%201632.5126920507682%2C%201633.373914495658%2C%201634.2351369405476%2C%201635.0963593854374%2C%201635.9575818303272%2C%201636.818804275217%2C%201637.6800267201068%2C%201638.5412491649965%2C%201639.4024716098863%2C%201640.2636940547761%2C%201641.124916499666%2C%201641.9861389445557%2C%201642.8473613894455%2C%201643.7085838343353%2C%201644.569806279225%2C%201645.4310287241149%2C%201646.2922511690047%2C%201647.1534736138944%2C%201648.0146960587842%2C%201648.875918503674%2C%201649.7371409485638%2C%201650.5983633934534%2C%201651.4595858383432%2C%201652.320808283233%2C%201653.1820307281228%2C%201654.0432531730125%2C%201654.9044756179023%2C%201655.7656980627921%2C%201656.626920507682%2C%201657.4881429525717%2C%201658.3493653974615%2C%201659.2105878423513%2C%201660.071810287241%2C%201660.9330327321309%2C%201661.7942551770207%2C%201662.6554776219104%2C%201663.5167000668002%2C%201664.37792251169%2C%201665.2391449565798%2C%201666.1003674014696%2C%201666.9615898463594%2C%201667.8228122912492%2C%201668.684034736139%2C%201669.5452571810288%2C%201670.4064796259183%2C%201671.2677020708081%2C%201672.128924515698%2C%201672.9901469605877%2C%201673.8513694054775%2C%201674.7125918503673%2C%201675.573814295257%2C%201676.4350367401469%2C%201677.2962591850367%2C%201678.1574816299265%2C%201679.0187040748162%2C%201679.879926519706%2C%201680.7411489645958%2C%201681.6023714094856%2C%201682.4635938543754%2C%201683.3248162992652%2C%201684.186038744155%2C%201685.0472611890448%2C%201685.9084836339343%2C%201686.7697060788241%2C%201687.630928523714%2C%201688.4921509686037%2C%201689.3533734134935%2C%201690.2145958583833%2C%201691.075818303273%2C%201691.9370407481629%2C%201692.7982631930527%2C%201693.6594856379425%2C%201694.5207080828322%2C%201695.381930527722%2C%201696.2431529726118%2C%201697.1043754175016%2C%201697.9655978623914%2C%201698.8268203072812%2C%201699.688042752171%2C%201700.5492651970608%2C%201701.4104876419506%2C%201702.2717100868404%2C%201703.1329325317301%2C%201703.99415497662%2C%201704.8553774215097%2C%201705.7165998663993%2C%201706.577822311289%2C%201707.4390447561789%2C%201708.3002672010687%2C%201709.1614896459585%2C%201710.0227120908482%2C%201710.883934535738%2C%201711.7451569806278%2C%201712.6063794255176%2C%201713.4676018704074%2C%201714.3288243152972%2C%201715.190046760187%2C%201716.0512692050768%2C%201716.9124916499666%2C%201717.7737140948564%2C%201718.6349365397461%2C%201719.496158984636%2C%201720.3573814295257%2C%201721.2186038744155%2C%201722.079826319305%2C%201722.9410487641949%2C%201723.8022712090847%2C%201724.6634936539745%2C%201725.5247160988642%2C%201726.385938543754%2C%201727.2471609886438%2C%201728.1083834335336%2C%201728.9696058784234%2C%201729.8308283233132%2C%201730.692050768203%2C%201731.5532732130928%2C%201732.4144956579826%2C%201733.2757181028724%2C%201734.1369405477622%2C%201734.998162992652%2C%201735.8593854375417%2C%201736.7206078824315%2C%201737.5818303273213%2C%201738.443052772211%2C%201739.304275217101%2C%201740.1654976619907%2C%201741.0267201068805%2C%201741.88794255177%2C%201742.7491649966598%2C%201743.6103874415496%2C%201744.4716098864394%2C%201745.3328323313292%2C%201746.194054776219%2C%201747.0552772211088%2C%201747.9164996659986%2C%201748.7777221108884%2C%201749.6389445557782%2C%201750.500167000668%2C%201751.3613894455577%2C%201752.2226118904475%2C%201753.0838343353373%2C%201753.945056780227%2C%201754.806279225117%2C%201755.6675016700067%2C%201756.5287241148965%2C%201757.389946559786%2C%201758.2511690046758%2C%201759.1123914495656%2C%201759.9736138944554%2C%201760.8348363393452%2C%201761.696058784235%2C%201762.5572812291248%2C%201763.4185036740146%2C%201764.2797261189044%2C%201765.1409485637942%2C%201766.002171008684%2C%201766.8633934535737%2C%201767.7246158984635%2C%201768.5858383433533%2C%201769.447060788243%2C%201770.308283233133%2C%201771.1695056780227%2C%201772.0307281229125%2C%201772.8919505678023%2C%201773.753173012692%2C%201774.6143954575818%2C%201775.4756179024716%2C%201776.3368403473614%2C%201777.198062792251%2C%201778.0592852371408%2C%201778.9205076820306%2C%201779.7817301269204%2C%201780.6429525718102%2C%201781.5041750167%2C%201782.3653974615897%2C%201783.2266199064795%2C%201784.0878423513693%2C%201784.949064796259%2C%201785.810287241149%2C%201786.6715096860387%2C%201787.5327321309285%2C%201788.3939545758183%2C%201789.255177020708%2C%201790.1163994655979%2C%201790.9776219104876%2C%201791.8388443553772%2C%201792.700066800267%2C%201793.5612892451568%2C%201794.4225116900466%2C%201795.2837341349364%2C%201796.1449565798262%2C%201797.006179024716%2C%201797.8674014696057%2C%201798.7286239144955%2C%201799.5898463593853%2C%201800.451068804275%2C%201801.312291249165%2C%201802.1735136940547%2C%201803.0347361389445%2C%201803.8959585838343%2C%201804.757181028724%2C%201805.6184034736139%2C%201806.4796259185036%2C%201807.3408483633934%2C%201808.2020708082832%2C%201809.063293253173%2C%201809.9245156980628%2C%201810.7857381429526%2C%201811.6469605878424%2C%201812.5081830327322%2C%201813.369405477622%2C%201814.2306279225115%2C%201815.0918503674013%2C%201815.953072812291%2C%201816.814295257181%2C%201817.6755177020707%2C%201818.5367401469605%2C%201819.3979625918503%2C%201820.25918503674%2C%201821.1204074816299%2C%201821.9816299265196%2C%201822.8428523714094%2C%201823.7040748162992%2C%201824.565297261189%2C%201825.4265197060788%2C%201826.2877421509686%2C%201827.1489645958584%2C%201828.010187040748%2C%201828.8714094856377%2C%201829.7326319305275%2C%201830.5938543754173%2C%201831.455076820307%2C%201832.316299265197%2C%201833.1775217100867%2C%201834.0387441549765%2C%201834.8999665998663%2C%201835.761189044756%2C%201836.6224114896459%2C%201837.4836339345356%2C%201838.3448563794254%2C%201839.2060788243152%2C%201840.067301269205%2C%201840.9285237140948%2C%201841.7897461589846%2C%201842.6509686038744%2C%201843.5121910487642%2C%201844.373413493654%2C%201845.2346359385438%2C%201846.0958583834336%2C%201846.9570808283233%2C%201847.8183032732131%2C%201848.679525718103%2C%201849.5407481629927%2C%201850.4019706078823%2C%201851.263193052772%2C%201852.1244154976619%2C%201852.9856379425516%2C%201853.8468603874414%2C%201854.7080828323312%2C%201855.569305277221%2C%201856.4305277221108%2C%201857.2917501670006%2C%201858.1529726118904%2C%201859.0141950567802%2C%201859.87541750167%2C%201860.7366399465598%2C%201861.5978623914496%2C%201862.4590848363393%2C%201863.3203072812291%2C%201864.1815297261187%2C%201865.0427521710085%2C%201865.9039746158983%2C%201866.765197060788%2C%201867.6264195056779%2C%201868.4876419505676%2C%201869.3488643954574%2C%201870.2100868403472%2C%201871.071309285237%2C%201871.9325317301268%2C%201872.7937541750166%2C%201873.6549766199064%2C%201874.5161990647962%2C%201875.377421509686%2C%201876.2386439545758%2C%201877.0998663994656%2C%201877.9610888443553%2C%201878.8223112892451%2C%201879.683533734135%2C%201880.5447561790247%2C%201881.4059786239145%2C%201882.2672010688043%2C%201883.128423513694%2C%201883.9896459585839%2C%201884.8508684034737%2C%201885.7120908483635%2C%201886.573313293253%2C%201887.4345357381428%2C%201888.2957581830326%2C%201889.1569806279224%2C%201890.0182030728122%2C%201890.879425517702%2C%201891.7406479625918%2C%201892.6018704074816%2C%201893.4630928523713%2C%201894.3243152972611%2C%201895.185537742151%2C%201896.0467601870407%2C%201896.9079826319305%2C%201897.7692050768203%2C%201898.63042752171%2C%201899.4916499665997%2C%201900.3528724114894%2C%201901.2140948563792%2C%201902.075317301269%2C%201902.9365397461588%2C%201903.7977621910486%2C%201904.6589846359384%2C%201905.5202070808282%2C%201906.381429525718%2C%201907.2426519706078%2C%201908.1038744154976%2C%201908.9650968603873%2C%201909.8263193052771%2C%201910.687541750167%2C%201911.5487641950567%2C%201912.4099866399465%2C%201913.2712090848363%2C%201914.132431529726%2C%201914.9936539746159%2C%201915.8548764195057%2C%201916.7160988643955%2C%201917.5773213092853%2C%201918.438543754175%2C%201919.2997661990648%2C%201920.1609886439546%2C%201921.0222110888444%2C%201921.883433533734%2C%201922.7446559786238%2C%201923.6058784235136%2C%201924.4671008684033%2C%201925.3283233132931%2C%201926.189545758183%2C%201927.0507682030727%2C%201927.9119906479625%2C%201928.7732130928523%2C%201929.634435537742%2C%201930.4956579826319%2C%201931.3568804275217%2C%201932.2181028724115%2C%201933.0793253173013%2C%201933.940547762191%2C%201934.8017702070808%2C%201935.6629926519704%2C%201936.5242150968602%2C%201937.38543754175%2C%201938.2466599866398%2C%201939.1078824315296%2C%201939.9691048764194%2C%201940.8303273213091%2C%201941.691549766199%2C%201942.5527722110887%2C%201943.4139946559785%2C%201944.2752171008683%2C%201945.136439545758%2C%201945.9976619906479%2C%201946.8588844355377%2C%201947.7201068804275%2C%201948.5813293253173%2C%201949.442551770207%2C%201950.3037742150968%2C%201951.1649966599866%2C%201952.0262191048764%2C%201952.8874415497662%2C%201953.748663994656%2C%201954.6098864395458%2C%201955.4711088844356%2C%201956.3323313293254%2C%201957.1935537742152%2C%201958.0547762191047%2C%201958.9159986639945%2C%201959.7772211088843%2C%201960.638443553774%2C%201961.4996659986639%2C%201962.3608884435537%2C%201963.2221108884435%2C%201964.0833333333333%5D%29%0A%20%20%20%20%20%20%20%20%20%20%20%20%20%20.range%28%5B%27%23f1eef6ff%27%2C%20%27%23f1eef6ff%27%2C%20%27%23f1eef6ff%27%2C%20%27%23f1eef6ff%27%2C%20%27%23f1eef6ff%27%2C%20%27%23f1eef6ff%27%2C%20%27%23f1eef6ff%27%2C%20%27%23f1eef6ff%27%2C%20%27%23f1eef6ff%27%2C%20%27%23f1eef6ff%27%2C%20%27%23f1eef6ff%27%2C%20%27%23f1eef6ff%27%2C%20%27%23f1eef6ff%27%2C%20%27%23f1eef6ff%27%2C%20%27%23f1eef6ff%27%2C%20%27%23f1eef6ff%27%2C%20%27%23f1eef6ff%27%2C%20%27%23f1eef6ff%27%2C%20%27%23f1eef6ff%27%2C%20%27%23f1eef6ff%27%2C%20%27%23f1eef6ff%27%2C%20%27%23f1eef6ff%27%2C%20%27%23f1eef6ff%27%2C%20%27%23f1eef6ff%27%2C%20%27%23f1eef6ff%27%2C%20%27%23f1eef6ff%27%2C%20%27%23f1eef6ff%27%2C%20%27%23f1eef6ff%27%2C%20%27%23f1eef6ff%27%2C%20%27%23f1eef6ff%27%2C%20%27%23f1eef6ff%27%2C%20%27%23f1eef6ff%27%2C%20%27%23f1eef6ff%27%2C%20%27%23f1eef6ff%27%2C%20%27%23f1eef6ff%27%2C%20%27%23f1eef6ff%27%2C%20%27%23f1eef6ff%27%2C%20%27%23f1eef6ff%27%2C%20%27%23f1eef6ff%27%2C%20%27%23f1eef6ff%27%2C%20%27%23f1eef6ff%27%2C%20%27%23f1eef6ff%27%2C%20%27%23f1eef6ff%27%2C%20%27%23f1eef6ff%27%2C%20%27%23f1eef6ff%27%2C%20%27%23f1eef6ff%27%2C%20%27%23f1eef6ff%27%2C%20%27%23f1eef6ff%27%2C%20%27%23f1eef6ff%27%2C%20%27%23f1eef6ff%27%2C%20%27%23f1eef6ff%27%2C%20%27%23f1eef6ff%27%2C%20%27%23f1eef6ff%27%2C%20%27%23f1eef6ff%27%2C%20%27%23f1eef6ff%27%2C%20%27%23f1eef6ff%27%2C%20%27%23f1eef6ff%27%2C%20%27%23f1eef6ff%27%2C%20%27%23f1eef6ff%27%2C%20%27%23f1eef6ff%27%2C%20%27%23f1eef6ff%27%2C%20%27%23f1eef6ff%27%2C%20%27%23f1eef6ff%27%2C%20%27%23f1eef6ff%27%2C%20%27%23f1eef6ff%27%2C%20%27%23f1eef6ff%27%2C%20%27%23f1eef6ff%27%2C%20%27%23f1eef6ff%27%2C%20%27%23f1eef6ff%27%2C%20%27%23f1eef6ff%27%2C%20%27%23f1eef6ff%27%2C%20%27%23f1eef6ff%27%2C%20%27%23f1eef6ff%27%2C%20%27%23f1eef6ff%27%2C%20%27%23f1eef6ff%27%2C%20%27%23f1eef6ff%27%2C%20%27%23f1eef6ff%27%2C%20%27%23f1eef6ff%27%2C%20%27%23f1eef6ff%27%2C%20%27%23f1eef6ff%27%2C%20%27%23f1eef6ff%27%2C%20%27%23f1eef6ff%27%2C%20%27%23f1eef6ff%27%2C%20%27%23f1eef6ff%27%2C%20%27%23d4b9daff%27%2C%20%27%23d4b9daff%27%2C%20%27%23d4b9daff%27%2C%20%27%23d4b9daff%27%2C%20%27%23d4b9daff%27%2C%20%27%23d4b9daff%27%2C%20%27%23d4b9daff%27%2C%20%27%23d4b9daff%27%2C%20%27%23d4b9daff%27%2C%20%27%23d4b9daff%27%2C%20%27%23d4b9daff%27%2C%20%27%23d4b9daff%27%2C%20%27%23d4b9daff%27%2C%20%27%23d4b9daff%27%2C%20%27%23d4b9daff%27%2C%20%27%23d4b9daff%27%2C%20%27%23d4b9daff%27%2C%20%27%23d4b9daff%27%2C%20%27%23d4b9daff%27%2C%20%27%23d4b9daff%27%2C%20%27%23d4b9daff%27%2C%20%27%23d4b9daff%27%2C%20%27%23d4b9daff%27%2C%20%27%23d4b9daff%27%2C%20%27%23d4b9daff%27%2C%20%27%23d4b9daff%27%2C%20%27%23d4b9daff%27%2C%20%27%23d4b9daff%27%2C%20%27%23d4b9daff%27%2C%20%27%23d4b9daff%27%2C%20%27%23d4b9daff%27%2C%20%27%23d4b9daff%27%2C%20%27%23d4b9daff%27%2C%20%27%23d4b9daff%27%2C%20%27%23d4b9daff%27%2C%20%27%23d4b9daff%27%2C%20%27%23d4b9daff%27%2C%20%27%23d4b9daff%27%2C%20%27%23d4b9daff%27%2C%20%27%23d4b9daff%27%2C%20%27%23d4b9daff%27%2C%20%27%23d4b9daff%27%2C%20%27%23d4b9daff%27%2C%20%27%23d4b9daff%27%2C%20%27%23d4b9daff%27%2C%20%27%23d4b9daff%27%2C%20%27%23d4b9daff%27%2C%20%27%23d4b9daff%27%2C%20%27%23d4b9daff%27%2C%20%27%23d4b9daff%27%2C%20%27%23d4b9daff%27%2C%20%27%23d4b9daff%27%2C%20%27%23d4b9daff%27%2C%20%27%23d4b9daff%27%2C%20%27%23d4b9daff%27%2C%20%27%23d4b9daff%27%2C%20%27%23d4b9daff%27%2C%20%27%23d4b9daff%27%2C%20%27%23d4b9daff%27%2C%20%27%23d4b9daff%27%2C%20%27%23d4b9daff%27%2C%20%27%23d4b9daff%27%2C%20%27%23d4b9daff%27%2C%20%27%23d4b9daff%27%2C%20%27%23d4b9daff%27%2C%20%27%23d4b9daff%27%2C%20%27%23d4b9daff%27%2C%20%27%23d4b9daff%27%2C%20%27%23d4b9daff%27%2C%20%27%23d4b9daff%27%2C%20%27%23d4b9daff%27%2C%20%27%23d4b9daff%27%2C%20%27%23d4b9daff%27%2C%20%27%23d4b9daff%27%2C%20%27%23d4b9daff%27%2C%20%27%23d4b9daff%27%2C%20%27%23d4b9daff%27%2C%20%27%23d4b9daff%27%2C%20%27%23d4b9daff%27%2C%20%27%23d4b9daff%27%2C%20%27%23d4b9daff%27%2C%20%27%23d4b9daff%27%2C%20%27%23d4b9daff%27%2C%20%27%23c994c7ff%27%2C%20%27%23c994c7ff%27%2C%20%27%23c994c7ff%27%2C%20%27%23c994c7ff%27%2C%20%27%23c994c7ff%27%2C%20%27%23c994c7ff%27%2C%20%27%23c994c7ff%27%2C%20%27%23c994c7ff%27%2C%20%27%23c994c7ff%27%2C%20%27%23c994c7ff%27%2C%20%27%23c994c7ff%27%2C%20%27%23c994c7ff%27%2C%20%27%23c994c7ff%27%2C%20%27%23c994c7ff%27%2C%20%27%23c994c7ff%27%2C%20%27%23c994c7ff%27%2C%20%27%23c994c7ff%27%2C%20%27%23c994c7ff%27%2C%20%27%23c994c7ff%27%2C%20%27%23c994c7ff%27%2C%20%27%23c994c7ff%27%2C%20%27%23c994c7ff%27%2C%20%27%23c994c7ff%27%2C%20%27%23c994c7ff%27%2C%20%27%23c994c7ff%27%2C%20%27%23c994c7ff%27%2C%20%27%23c994c7ff%27%2C%20%27%23c994c7ff%27%2C%20%27%23c994c7ff%27%2C%20%27%23c994c7ff%27%2C%20%27%23c994c7ff%27%2C%20%27%23c994c7ff%27%2C%20%27%23c994c7ff%27%2C%20%27%23c994c7ff%27%2C%20%27%23c994c7ff%27%2C%20%27%23c994c7ff%27%2C%20%27%23c994c7ff%27%2C%20%27%23c994c7ff%27%2C%20%27%23c994c7ff%27%2C%20%27%23c994c7ff%27%2C%20%27%23c994c7ff%27%2C%20%27%23c994c7ff%27%2C%20%27%23c994c7ff%27%2C%20%27%23c994c7ff%27%2C%20%27%23c994c7ff%27%2C%20%27%23c994c7ff%27%2C%20%27%23c994c7ff%27%2C%20%27%23c994c7ff%27%2C%20%27%23c994c7ff%27%2C%20%27%23c994c7ff%27%2C%20%27%23c994c7ff%27%2C%20%27%23c994c7ff%27%2C%20%27%23c994c7ff%27%2C%20%27%23c994c7ff%27%2C%20%27%23c994c7ff%27%2C%20%27%23c994c7ff%27%2C%20%27%23c994c7ff%27%2C%20%27%23c994c7ff%27%2C%20%27%23c994c7ff%27%2C%20%27%23c994c7ff%27%2C%20%27%23c994c7ff%27%2C%20%27%23c994c7ff%27%2C%20%27%23c994c7ff%27%2C%20%27%23c994c7ff%27%2C%20%27%23c994c7ff%27%2C%20%27%23c994c7ff%27%2C%20%27%23c994c7ff%27%2C%20%27%23c994c7ff%27%2C%20%27%23c994c7ff%27%2C%20%27%23c994c7ff%27%2C%20%27%23c994c7ff%27%2C%20%27%23c994c7ff%27%2C%20%27%23c994c7ff%27%2C%20%27%23c994c7ff%27%2C%20%27%23c994c7ff%27%2C%20%27%23c994c7ff%27%2C%20%27%23c994c7ff%27%2C%20%27%23c994c7ff%27%2C%20%27%23c994c7ff%27%2C%20%27%23c994c7ff%27%2C%20%27%23c994c7ff%27%2C%20%27%23c994c7ff%27%2C%20%27%23c994c7ff%27%2C%20%27%23df65b0ff%27%2C%20%27%23df65b0ff%27%2C%20%27%23df65b0ff%27%2C%20%27%23df65b0ff%27%2C%20%27%23df65b0ff%27%2C%20%27%23df65b0ff%27%2C%20%27%23df65b0ff%27%2C%20%27%23df65b0ff%27%2C%20%27%23df65b0ff%27%2C%20%27%23df65b0ff%27%2C%20%27%23df65b0ff%27%2C%20%27%23df65b0ff%27%2C%20%27%23df65b0ff%27%2C%20%27%23df65b0ff%27%2C%20%27%23df65b0ff%27%2C%20%27%23df65b0ff%27%2C%20%27%23df65b0ff%27%2C%20%27%23df65b0ff%27%2C%20%27%23df65b0ff%27%2C%20%27%23df65b0ff%27%2C%20%27%23df65b0ff%27%2C%20%27%23df65b0ff%27%2C%20%27%23df65b0ff%27%2C%20%27%23df65b0ff%27%2C%20%27%23df65b0ff%27%2C%20%27%23df65b0ff%27%2C%20%27%23df65b0ff%27%2C%20%27%23df65b0ff%27%2C%20%27%23df65b0ff%27%2C%20%27%23df65b0ff%27%2C%20%27%23df65b0ff%27%2C%20%27%23df65b0ff%27%2C%20%27%23df65b0ff%27%2C%20%27%23df65b0ff%27%2C%20%27%23df65b0ff%27%2C%20%27%23df65b0ff%27%2C%20%27%23df65b0ff%27%2C%20%27%23df65b0ff%27%2C%20%27%23df65b0ff%27%2C%20%27%23df65b0ff%27%2C%20%27%23df65b0ff%27%2C%20%27%23df65b0ff%27%2C%20%27%23df65b0ff%27%2C%20%27%23df65b0ff%27%2C%20%27%23df65b0ff%27%2C%20%27%23df65b0ff%27%2C%20%27%23df65b0ff%27%2C%20%27%23df65b0ff%27%2C%20%27%23df65b0ff%27%2C%20%27%23df65b0ff%27%2C%20%27%23df65b0ff%27%2C%20%27%23df65b0ff%27%2C%20%27%23df65b0ff%27%2C%20%27%23df65b0ff%27%2C%20%27%23df65b0ff%27%2C%20%27%23df65b0ff%27%2C%20%27%23df65b0ff%27%2C%20%27%23df65b0ff%27%2C%20%27%23df65b0ff%27%2C%20%27%23df65b0ff%27%2C%20%27%23df65b0ff%27%2C%20%27%23df65b0ff%27%2C%20%27%23df65b0ff%27%2C%20%27%23df65b0ff%27%2C%20%27%23df65b0ff%27%2C%20%27%23df65b0ff%27%2C%20%27%23df65b0ff%27%2C%20%27%23df65b0ff%27%2C%20%27%23df65b0ff%27%2C%20%27%23df65b0ff%27%2C%20%27%23df65b0ff%27%2C%20%27%23df65b0ff%27%2C%20%27%23df65b0ff%27%2C%20%27%23df65b0ff%27%2C%20%27%23df65b0ff%27%2C%20%27%23df65b0ff%27%2C%20%27%23df65b0ff%27%2C%20%27%23df65b0ff%27%2C%20%27%23df65b0ff%27%2C%20%27%23df65b0ff%27%2C%20%27%23df65b0ff%27%2C%20%27%23df65b0ff%27%2C%20%27%23df65b0ff%27%2C%20%27%23dd1c77ff%27%2C%20%27%23dd1c77ff%27%2C%20%27%23dd1c77ff%27%2C%20%27%23dd1c77ff%27%2C%20%27%23dd1c77ff%27%2C%20%27%23dd1c77ff%27%2C%20%27%23dd1c77ff%27%2C%20%27%23dd1c77ff%27%2C%20%27%23dd1c77ff%27%2C%20%27%23dd1c77ff%27%2C%20%27%23dd1c77ff%27%2C%20%27%23dd1c77ff%27%2C%20%27%23dd1c77ff%27%2C%20%27%23dd1c77ff%27%2C%20%27%23dd1c77ff%27%2C%20%27%23dd1c77ff%27%2C%20%27%23dd1c77ff%27%2C%20%27%23dd1c77ff%27%2C%20%27%23dd1c77ff%27%2C%20%27%23dd1c77ff%27%2C%20%27%23dd1c77ff%27%2C%20%27%23dd1c77ff%27%2C%20%27%23dd1c77ff%27%2C%20%27%23dd1c77ff%27%2C%20%27%23dd1c77ff%27%2C%20%27%23dd1c77ff%27%2C%20%27%23dd1c77ff%27%2C%20%27%23dd1c77ff%27%2C%20%27%23dd1c77ff%27%2C%20%27%23dd1c77ff%27%2C%20%27%23dd1c77ff%27%2C%20%27%23dd1c77ff%27%2C%20%27%23dd1c77ff%27%2C%20%27%23dd1c77ff%27%2C%20%27%23dd1c77ff%27%2C%20%27%23dd1c77ff%27%2C%20%27%23dd1c77ff%27%2C%20%27%23dd1c77ff%27%2C%20%27%23dd1c77ff%27%2C%20%27%23dd1c77ff%27%2C%20%27%23dd1c77ff%27%2C%20%27%23dd1c77ff%27%2C%20%27%23dd1c77ff%27%2C%20%27%23dd1c77ff%27%2C%20%27%23dd1c77ff%27%2C%20%27%23dd1c77ff%27%2C%20%27%23dd1c77ff%27%2C%20%27%23dd1c77ff%27%2C%20%27%23dd1c77ff%27%2C%20%27%23dd1c77ff%27%2C%20%27%23dd1c77ff%27%2C%20%27%23dd1c77ff%27%2C%20%27%23dd1c77ff%27%2C%20%27%23dd1c77ff%27%2C%20%27%23dd1c77ff%27%2C%20%27%23dd1c77ff%27%2C%20%27%23dd1c77ff%27%2C%20%27%23dd1c77ff%27%2C%20%27%23dd1c77ff%27%2C%20%27%23dd1c77ff%27%2C%20%27%23dd1c77ff%27%2C%20%27%23dd1c77ff%27%2C%20%27%23dd1c77ff%27%2C%20%27%23dd1c77ff%27%2C%20%27%23dd1c77ff%27%2C%20%27%23dd1c77ff%27%2C%20%27%23dd1c77ff%27%2C%20%27%23dd1c77ff%27%2C%20%27%23dd1c77ff%27%2C%20%27%23dd1c77ff%27%2C%20%27%23dd1c77ff%27%2C%20%27%23dd1c77ff%27%2C%20%27%23dd1c77ff%27%2C%20%27%23dd1c77ff%27%2C%20%27%23dd1c77ff%27%2C%20%27%23dd1c77ff%27%2C%20%27%23dd1c77ff%27%2C%20%27%23dd1c77ff%27%2C%20%27%23dd1c77ff%27%2C%20%27%23dd1c77ff%27%2C%20%27%23dd1c77ff%27%2C%20%27%23dd1c77ff%27%2C%20%27%23dd1c77ff%27%2C%20%27%23980043ff%27%2C%20%27%23980043ff%27%2C%20%27%23980043ff%27%2C%20%27%23980043ff%27%2C%20%27%23980043ff%27%2C%20%27%23980043ff%27%2C%20%27%23980043ff%27%2C%20%27%23980043ff%27%2C%20%27%23980043ff%27%2C%20%27%23980043ff%27%2C%20%27%23980043ff%27%2C%20%27%23980043ff%27%2C%20%27%23980043ff%27%2C%20%27%23980043ff%27%2C%20%27%23980043ff%27%2C%20%27%23980043ff%27%2C%20%27%23980043ff%27%2C%20%27%23980043ff%27%2C%20%27%23980043ff%27%2C%20%27%23980043ff%27%2C%20%27%23980043ff%27%2C%20%27%23980043ff%27%2C%20%27%23980043ff%27%2C%20%27%23980043ff%27%2C%20%27%23980043ff%27%2C%20%27%23980043ff%27%2C%20%27%23980043ff%27%2C%20%27%23980043ff%27%2C%20%27%23980043ff%27%2C%20%27%23980043ff%27%2C%20%27%23980043ff%27%2C%20%27%23980043ff%27%2C%20%27%23980043ff%27%2C%20%27%23980043ff%27%2C%20%27%23980043ff%27%2C%20%27%23980043ff%27%2C%20%27%23980043ff%27%2C%20%27%23980043ff%27%2C%20%27%23980043ff%27%2C%20%27%23980043ff%27%2C%20%27%23980043ff%27%2C%20%27%23980043ff%27%2C%20%27%23980043ff%27%2C%20%27%23980043ff%27%2C%20%27%23980043ff%27%2C%20%27%23980043ff%27%2C%20%27%23980043ff%27%2C%20%27%23980043ff%27%2C%20%27%23980043ff%27%2C%20%27%23980043ff%27%2C%20%27%23980043ff%27%2C%20%27%23980043ff%27%2C%20%27%23980043ff%27%2C%20%27%23980043ff%27%2C%20%27%23980043ff%27%2C%20%27%23980043ff%27%2C%20%27%23980043ff%27%2C%20%27%23980043ff%27%2C%20%27%23980043ff%27%2C%20%27%23980043ff%27%2C%20%27%23980043ff%27%2C%20%27%23980043ff%27%2C%20%27%23980043ff%27%2C%20%27%23980043ff%27%2C%20%27%23980043ff%27%2C%20%27%23980043ff%27%2C%20%27%23980043ff%27%2C%20%27%23980043ff%27%2C%20%27%23980043ff%27%2C%20%27%23980043ff%27%2C%20%27%23980043ff%27%2C%20%27%23980043ff%27%2C%20%27%23980043ff%27%2C%20%27%23980043ff%27%2C%20%27%23980043ff%27%2C%20%27%23980043ff%27%2C%20%27%23980043ff%27%2C%20%27%23980043ff%27%2C%20%27%23980043ff%27%2C%20%27%23980043ff%27%2C%20%27%23980043ff%27%2C%20%27%23980043ff%27%2C%20%27%23980043ff%27%2C%20%27%23980043ff%27%5D%29%3B%0A%20%20%20%20%0A%0A%20%20%20%20color_map_dbea446ae82e4c6d9536b77f2af829f6.x%20%3D%20d3.scale.linear%28%29%0A%20%20%20%20%20%20%20%20%20%20%20%20%20%20.domain%28%5B1534.3333333333333%2C%201964.0833333333333%5D%29%0A%20%20%20%20%20%20%20%20%20%20%20%20%20%20.range%28%5B0%2C%20400%5D%29%3B%0A%0A%20%20%20%20color_map_dbea446ae82e4c6d9536b77f2af829f6.legend%20%3D%20L.control%28%7Bposition%3A%20%27topright%27%7D%29%3B%0A%20%20%20%20color_map_dbea446ae82e4c6d9536b77f2af829f6.legend.onAdd%20%3D%20function%20%28map%29%20%7Bvar%20div%20%3D%20L.DomUtil.create%28%27div%27%2C%20%27legend%27%29%3B%20return%20div%7D%3B%0A%20%20%20%20color_map_dbea446ae82e4c6d9536b77f2af829f6.legend.addTo%28map_726772f9dd984e708c13af008d63757b%29%3B%0A%0A%20%20%20%20color_map_dbea446ae82e4c6d9536b77f2af829f6.xAxis%20%3D%20d3.svg.axis%28%29%0A%20%20%20%20%20%20%20%20.scale%28color_map_dbea446ae82e4c6d9536b77f2af829f6.x%29%0A%20%20%20%20%20%20%20%20.orient%28%22top%22%29%0A%20%20%20%20%20%20%20%20.tickSize%281%29%0A%20%20%20%20%20%20%20%20.tickValues%28%5B1534.3333333333333%2C%201605.9583333333333%2C%201677.5833333333333%2C%201749.2083333333333%2C%201820.8333333333333%2C%201892.4583333333333%2C%201964.0833333333333%5D%29%3B%0A%0A%20%20%20%20color_map_dbea446ae82e4c6d9536b77f2af829f6.svg%20%3D%20d3.select%28%22.legend.leaflet-control%22%29.append%28%22svg%22%29%0A%20%20%20%20%20%20%20%20.attr%28%22id%22%2C%20%27legend%27%29%0A%20%20%20%20%20%20%20%20.attr%28%22width%22%2C%20450%29%0A%20%20%20%20%20%20%20%20.attr%28%22height%22%2C%2040%29%3B%0A%0A%20%20%20%20color_map_dbea446ae82e4c6d9536b77f2af829f6.g%20%3D%20color_map_dbea446ae82e4c6d9536b77f2af829f6.svg.append%28%22g%22%29%0A%20%20%20%20%20%20%20%20.attr%28%22class%22%2C%20%22key%22%29%0A%20%20%20%20%20%20%20%20.attr%28%22transform%22%2C%20%22translate%2825%2C16%29%22%29%3B%0A%0A%20%20%20%20color_map_dbea446ae82e4c6d9536b77f2af829f6.g.selectAll%28%22rect%22%29%0A%20%20%20%20%20%20%20%20.data%28color_map_dbea446ae82e4c6d9536b77f2af829f6.color.range%28%29.map%28function%28d%2C%20i%29%20%7B%0A%20%20%20%20%20%20%20%20%20%20return%20%7B%0A%20%20%20%20%20%20%20%20%20%20%20%20x0%3A%20i%20%3F%20color_map_dbea446ae82e4c6d9536b77f2af829f6.x%28color_map_dbea446ae82e4c6d9536b77f2af829f6.color.domain%28%29%5Bi%20-%201%5D%29%20%3A%20color_map_dbea446ae82e4c6d9536b77f2af829f6.x.range%28%29%5B0%5D%2C%0A%20%20%20%20%20%20%20%20%20%20%20%20x1%3A%20i%20%3C%20color_map_dbea446ae82e4c6d9536b77f2af829f6.color.domain%28%29.length%20%3F%20color_map_dbea446ae82e4c6d9536b77f2af829f6.x%28color_map_dbea446ae82e4c6d9536b77f2af829f6.color.domain%28%29%5Bi%5D%29%20%3A%20color_map_dbea446ae82e4c6d9536b77f2af829f6.x.range%28%29%5B1%5D%2C%0A%20%20%20%20%20%20%20%20%20%20%20%20z%3A%20d%0A%20%20%20%20%20%20%20%20%20%20%7D%3B%0A%20%20%20%20%20%20%20%20%7D%29%29%0A%20%20%20%20%20%20.enter%28%29.append%28%22rect%22%29%0A%20%20%20%20%20%20%20%20.attr%28%22height%22%2C%2010%29%0A%20%20%20%20%20%20%20%20.attr%28%22x%22%2C%20function%28d%29%20%7B%20return%20d.x0%3B%20%7D%29%0A%20%20%20%20%20%20%20%20.attr%28%22width%22%2C%20function%28d%29%20%7B%20return%20d.x1%20-%20d.x0%3B%20%7D%29%0A%20%20%20%20%20%20%20%20.style%28%22fill%22%2C%20function%28d%29%20%7B%20return%20d.z%3B%20%7D%29%3B%0A%0A%20%20%20%20color_map_dbea446ae82e4c6d9536b77f2af829f6.g.call%28color_map_dbea446ae82e4c6d9536b77f2af829f6.xAxis%29.append%28%22text%22%29%0A%20%20%20%20%20%20%20%20.attr%28%22class%22%2C%20%22caption%22%29%0A%20%20%20%20%20%20%20%20.attr%28%22y%22%2C%2021%29%0A%20%20%20%20%20%20%20%20.text%28%27%27%29%3B%0A%3C/script%3E onload=\"this.contentDocument.open();this.contentDocument.write(    decodeURIComponent(this.getAttribute('data-html')));this.contentDocument.close();\" allowfullscreen webkitallowfullscreen mozallowfullscreen></iframe></div></div>"
            ],
            "text/plain": [
              "<folium.folium.Map at 0x7fd03669f710>"
            ]
          },
          "metadata": {},
          "execution_count": 38
        }
      ]
    },
    {
      "cell_type": "code",
      "source": [
        "map = folium.Map(location=[37.5502, 126.982], zoom_start=10.5, tiles=\"Stamen Toner\")\n",
        "map.choropleth(geo_data=geo_str,\n",
        "               data=gu_data,\n",
        "               columns=[gu_data.index, '가격'],\n",
        "               fill_color=\"YlGnBu\",\n",
        "               key_on=\"feature.id\")\n",
        "map"
      ],
      "metadata": {
        "colab": {
          "base_uri": "https://localhost:8080/",
          "height": 663
        },
        "id": "dQsi3Bi6ZMHA",
        "outputId": "ad161e52-5278-4a5d-dbf9-718a4186479c"
      },
      "execution_count": null,
      "outputs": [
        {
          "output_type": "execute_result",
          "data": {
            "text/html": [
              "<div style=\"width:100%;\"><div style=\"position:relative;width:100%;height:0;padding-bottom:60%;\"><span style=\"color:#565656\">Make this Notebook Trusted to load map: File -> Trust Notebook</span><iframe src=\"about:blank\" style=\"position:absolute;width:100%;height:100%;left:0;top:0;border:none !important;\" data-html=%3C%21DOCTYPE%20html%3E%0A%3Chead%3E%20%20%20%20%0A%20%20%20%20%3Cmeta%20http-equiv%3D%22content-type%22%20content%3D%22text/html%3B%20charset%3DUTF-8%22%20/%3E%0A%20%20%20%20%3Cscript%3EL_PREFER_CANVAS%3Dfalse%3B%20L_NO_TOUCH%3Dfalse%3B%20L_DISABLE_3D%3Dfalse%3B%3C/script%3E%0A%20%20%20%20%3Cscript%20src%3D%22https%3A//cdn.jsdelivr.net/npm/leaflet%401.4.0/dist/leaflet.js%22%3E%3C/script%3E%0A%20%20%20%20%3Cscript%20src%3D%22https%3A//code.jquery.com/jquery-1.12.4.min.js%22%3E%3C/script%3E%0A%20%20%20%20%3Cscript%20src%3D%22https%3A//maxcdn.bootstrapcdn.com/bootstrap/3.2.0/js/bootstrap.min.js%22%3E%3C/script%3E%0A%20%20%20%20%3Cscript%20src%3D%22https%3A//cdnjs.cloudflare.com/ajax/libs/Leaflet.awesome-markers/2.0.2/leaflet.awesome-markers.js%22%3E%3C/script%3E%0A%20%20%20%20%3Clink%20rel%3D%22stylesheet%22%20href%3D%22https%3A//cdn.jsdelivr.net/npm/leaflet%401.4.0/dist/leaflet.css%22/%3E%0A%20%20%20%20%3Clink%20rel%3D%22stylesheet%22%20href%3D%22https%3A//maxcdn.bootstrapcdn.com/bootstrap/3.2.0/css/bootstrap.min.css%22/%3E%0A%20%20%20%20%3Clink%20rel%3D%22stylesheet%22%20href%3D%22https%3A//maxcdn.bootstrapcdn.com/bootstrap/3.2.0/css/bootstrap-theme.min.css%22/%3E%0A%20%20%20%20%3Clink%20rel%3D%22stylesheet%22%20href%3D%22https%3A//maxcdn.bootstrapcdn.com/font-awesome/4.6.3/css/font-awesome.min.css%22/%3E%0A%20%20%20%20%3Clink%20rel%3D%22stylesheet%22%20href%3D%22https%3A//cdnjs.cloudflare.com/ajax/libs/Leaflet.awesome-markers/2.0.2/leaflet.awesome-markers.css%22/%3E%0A%20%20%20%20%3Clink%20rel%3D%22stylesheet%22%20href%3D%22https%3A//rawcdn.githack.com/python-visualization/folium/master/folium/templates/leaflet.awesome.rotate.css%22/%3E%0A%20%20%20%20%3Cstyle%3Ehtml%2C%20body%20%7Bwidth%3A%20100%25%3Bheight%3A%20100%25%3Bmargin%3A%200%3Bpadding%3A%200%3B%7D%3C/style%3E%0A%20%20%20%20%3Cstyle%3E%23map%20%7Bposition%3Aabsolute%3Btop%3A0%3Bbottom%3A0%3Bright%3A0%3Bleft%3A0%3B%7D%3C/style%3E%0A%20%20%20%20%0A%20%20%20%20%3Cmeta%20name%3D%22viewport%22%20content%3D%22width%3Ddevice-width%2C%0A%20%20%20%20%20%20%20%20initial-scale%3D1.0%2C%20maximum-scale%3D1.0%2C%20user-scalable%3Dno%22%20/%3E%0A%20%20%20%20%3Cstyle%3E%23map_a2c588d1607a4a44936ab049efcdaf2d%20%7B%0A%20%20%20%20%20%20%20%20position%3A%20relative%3B%0A%20%20%20%20%20%20%20%20width%3A%20100.0%25%3B%0A%20%20%20%20%20%20%20%20height%3A%20100.0%25%3B%0A%20%20%20%20%20%20%20%20left%3A%200.0%25%3B%0A%20%20%20%20%20%20%20%20top%3A%200.0%25%3B%0A%20%20%20%20%20%20%20%20%7D%0A%20%20%20%20%3C/style%3E%0A%20%20%20%20%3Cscript%20src%3D%22https%3A//cdnjs.cloudflare.com/ajax/libs/d3/3.5.5/d3.min.js%22%3E%3C/script%3E%0A%3C/head%3E%0A%3Cbody%3E%20%20%20%20%0A%20%20%20%20%0A%20%20%20%20%3Cdiv%20class%3D%22folium-map%22%20id%3D%22map_a2c588d1607a4a44936ab049efcdaf2d%22%20%3E%3C/div%3E%0A%3C/body%3E%0A%3Cscript%3E%20%20%20%20%0A%20%20%20%20%0A%20%20%20%20%0A%20%20%20%20%20%20%20%20var%20bounds%20%3D%20null%3B%0A%20%20%20%20%0A%0A%20%20%20%20var%20map_a2c588d1607a4a44936ab049efcdaf2d%20%3D%20L.map%28%0A%20%20%20%20%20%20%20%20%27map_a2c588d1607a4a44936ab049efcdaf2d%27%2C%20%7B%0A%20%20%20%20%20%20%20%20center%3A%20%5B37.5502%2C%20126.982%5D%2C%0A%20%20%20%20%20%20%20%20zoom%3A%2010.5%2C%0A%20%20%20%20%20%20%20%20maxBounds%3A%20bounds%2C%0A%20%20%20%20%20%20%20%20layers%3A%20%5B%5D%2C%0A%20%20%20%20%20%20%20%20worldCopyJump%3A%20false%2C%0A%20%20%20%20%20%20%20%20crs%3A%20L.CRS.EPSG3857%2C%0A%20%20%20%20%20%20%20%20zoomControl%3A%20true%2C%0A%20%20%20%20%20%20%20%20%7D%29%3B%0A%0A%0A%20%20%20%20%0A%20%20%20%20var%20tile_layer_0232846c2af24e119aeca2a2a2dbd141%20%3D%20L.tileLayer%28%0A%20%20%20%20%20%20%20%20%27https%3A//stamen-tiles-%7Bs%7D.a.ssl.fastly.net/toner/%7Bz%7D/%7Bx%7D/%7By%7D.png%27%2C%0A%20%20%20%20%20%20%20%20%7B%0A%20%20%20%20%20%20%20%20%22attribution%22%3A%20null%2C%0A%20%20%20%20%20%20%20%20%22detectRetina%22%3A%20false%2C%0A%20%20%20%20%20%20%20%20%22maxNativeZoom%22%3A%2018%2C%0A%20%20%20%20%20%20%20%20%22maxZoom%22%3A%2018%2C%0A%20%20%20%20%20%20%20%20%22minZoom%22%3A%200%2C%0A%20%20%20%20%20%20%20%20%22noWrap%22%3A%20false%2C%0A%20%20%20%20%20%20%20%20%22opacity%22%3A%201%2C%0A%20%20%20%20%20%20%20%20%22subdomains%22%3A%20%22abc%22%2C%0A%20%20%20%20%20%20%20%20%22tms%22%3A%20false%0A%7D%29.addTo%28map_a2c588d1607a4a44936ab049efcdaf2d%29%3B%0A%20%20%20%20%0A%20%20%20%20%20%20%20%20%20%20%20%20var%20choropleth_de307801bb024949a0f0084d92c15c1d%20%3D%20L.featureGroup%28%0A%20%20%20%20%20%20%20%20%20%20%20%20%20%20%20%20%29.addTo%28map_a2c588d1607a4a44936ab049efcdaf2d%29%3B%0A%20%20%20%20%20%20%20%20%0A%20%20%20%20%0A%20%20%20%20%20%20%20%20var%20geo_json_68fc887f1a1e430c8fdf6bf16cfd3a7a%20%3D%20L.geoJson%28%0A%20%20%20%20%20%20%20%20%20%20%20%20%7B%22features%22%3A%20%5B%7B%22geometry%22%3A%20%7B%22coordinates%22%3A%20%5B%5B%5B127.11519584981606%2C%2037.557533180704915%5D%2C%20%5B127.16683184366129%2C%2037.57672487388627%5D%2C%20%5B127.18408792330152%2C%2037.55814280369575%5D%2C%20%5B127.16530984307447%2C%2037.54221851258693%5D%2C%20%5B127.14672806823502%2C%2037.51415680680291%5D%2C%20%5B127.12123165719615%2C%2037.52528270089%5D%2C%20%5B127.1116764203608%2C%2037.540669955324965%5D%2C%20%5B127.11519584981606%2C%2037.557533180704915%5D%5D%5D%2C%20%22type%22%3A%20%22Polygon%22%7D%2C%20%22id%22%3A%20%22%5Cuac15%5Cub3d9%5Cuad6c%22%2C%20%22properties%22%3A%20%7B%22base_year%22%3A%20%222013%22%2C%20%22code%22%3A%20%2211250%22%2C%20%22highlight%22%3A%20%7B%7D%2C%20%22name%22%3A%20%22%5Cuac15%5Cub3d9%5Cuad6c%22%2C%20%22name_eng%22%3A%20%22Gangdong-gu%22%2C%20%22style%22%3A%20%7B%22color%22%3A%20%22black%22%2C%20%22fillColor%22%3A%20%22%23c7e9b4%22%2C%20%22fillOpacity%22%3A%200.6%2C%20%22opacity%22%3A%201%2C%20%22weight%22%3A%201%7D%7D%2C%20%22type%22%3A%20%22Feature%22%7D%2C%20%7B%22geometry%22%3A%20%7B%22coordinates%22%3A%20%5B%5B%5B127.0690698130372%2C%2037.522279423505026%5D%2C%20%5B127.10087519791962%2C%2037.524841220167055%5D%2C%20%5B127.1116764203608%2C%2037.540669955324965%5D%2C%20%5B127.12123165719615%2C%2037.52528270089%5D%2C%20%5B127.14672806823502%2C%2037.51415680680291%5D%2C%20%5B127.1634944215765%2C%2037.497445406097484%5D%2C%20%5B127.14206058413274%2C%2037.47089819098501%5D%2C%20%5B127.12440571080893%2C%2037.46240445587048%5D%2C%20%5B127.11117085201238%2C%2037.485708381512445%5D%2C%20%5B127.0719146000724%2C%2037.50224013587669%5D%2C%20%5B127.0690698130372%2C%2037.522279423505026%5D%5D%5D%2C%20%22type%22%3A%20%22Polygon%22%7D%2C%20%22id%22%3A%20%22%5Cuc1a1%5Cud30c%5Cuad6c%22%2C%20%22properties%22%3A%20%7B%22base_year%22%3A%20%222013%22%2C%20%22code%22%3A%20%2211240%22%2C%20%22highlight%22%3A%20%7B%7D%2C%20%22name%22%3A%20%22%5Cuc1a1%5Cud30c%5Cuad6c%22%2C%20%22name_eng%22%3A%20%22Songpa-gu%22%2C%20%22style%22%3A%20%7B%22color%22%3A%20%22black%22%2C%20%22fillColor%22%3A%20%22%23c7e9b4%22%2C%20%22fillOpacity%22%3A%200.6%2C%20%22opacity%22%3A%201%2C%20%22weight%22%3A%201%7D%7D%2C%20%22type%22%3A%20%22Feature%22%7D%2C%20%7B%22geometry%22%3A%20%7B%22coordinates%22%3A%20%5B%5B%5B127.05867359288398%2C%2037.52629974922568%5D%2C%20%5B127.0690698130372%2C%2037.522279423505026%5D%2C%20%5B127.0719146000724%2C%2037.50224013587669%5D%2C%20%5B127.11117085201238%2C%2037.485708381512445%5D%2C%20%5B127.12440571080893%2C%2037.46240445587048%5D%2C%20%5B127.09842759318751%2C%2037.45862253857461%5D%2C%20%5B127.08640440578156%2C%2037.472697935184655%5D%2C%20%5B127.0559170481904%2C%2037.4659228914077%5D%2C%20%5B127.03621915098798%2C%2037.48175802427603%5D%2C%20%5B127.01397119667513%2C%2037.52503988289669%5D%2C%20%5B127.02302831890559%2C%2037.53231899582663%5D%2C%20%5B127.05867359288398%2C%2037.52629974922568%5D%5D%5D%2C%20%22type%22%3A%20%22Polygon%22%7D%2C%20%22id%22%3A%20%22%5Cuac15%5Cub0a8%5Cuad6c%22%2C%20%22properties%22%3A%20%7B%22base_year%22%3A%20%222013%22%2C%20%22code%22%3A%20%2211230%22%2C%20%22highlight%22%3A%20%7B%7D%2C%20%22name%22%3A%20%22%5Cuac15%5Cub0a8%5Cuad6c%22%2C%20%22name_eng%22%3A%20%22Gangnam-gu%22%2C%20%22style%22%3A%20%7B%22color%22%3A%20%22black%22%2C%20%22fillColor%22%3A%20%22black%22%2C%20%22fillOpacity%22%3A%200.6%2C%20%22opacity%22%3A%201%2C%20%22weight%22%3A%201%7D%7D%2C%20%22type%22%3A%20%22Feature%22%7D%2C%20%7B%22geometry%22%3A%20%7B%22coordinates%22%3A%20%5B%5B%5B127.01397119667513%2C%2037.52503988289669%5D%2C%20%5B127.03621915098798%2C%2037.48175802427603%5D%2C%20%5B127.0559170481904%2C%2037.4659228914077%5D%2C%20%5B127.08640440578156%2C%2037.472697935184655%5D%2C%20%5B127.09842759318751%2C%2037.45862253857461%5D%2C%20%5B127.09046928565951%2C%2037.44296826114185%5D%2C%20%5B127.06778107605433%2C%2037.426197424057314%5D%2C%20%5B127.04957232987142%2C%2037.42805836845694%5D%2C%20%5B127.03881782597922%2C%2037.45382039851715%5D%2C%20%5B126.99072073195462%2C%2037.455326143310025%5D%2C%20%5B126.98367668291802%2C%2037.473856492692086%5D%2C%20%5B126.98223807916081%2C%2037.509314966770326%5D%2C%20%5B127.01397119667513%2C%2037.52503988289669%5D%5D%5D%2C%20%22type%22%3A%20%22Polygon%22%7D%2C%20%22id%22%3A%20%22%5Cuc11c%5Cucd08%5Cuad6c%22%2C%20%22properties%22%3A%20%7B%22base_year%22%3A%20%222013%22%2C%20%22code%22%3A%20%2211220%22%2C%20%22highlight%22%3A%20%7B%7D%2C%20%22name%22%3A%20%22%5Cuc11c%5Cucd08%5Cuad6c%22%2C%20%22name_eng%22%3A%20%22Seocho-gu%22%2C%20%22style%22%3A%20%7B%22color%22%3A%20%22black%22%2C%20%22fillColor%22%3A%20%22%23c7e9b4%22%2C%20%22fillOpacity%22%3A%200.6%2C%20%22opacity%22%3A%201%2C%20%22weight%22%3A%201%7D%7D%2C%20%22type%22%3A%20%22Feature%22%7D%2C%20%7B%22geometry%22%3A%20%7B%22coordinates%22%3A%20%5B%5B%5B126.98367668291802%2C%2037.473856492692086%5D%2C%20%5B126.99072073195462%2C%2037.455326143310025%5D%2C%20%5B126.96520439085143%2C%2037.438249784006246%5D%2C%20%5B126.95000001010182%2C%2037.43613451165719%5D%2C%20%5B126.93084408056525%2C%2037.447382928333994%5D%2C%20%5B126.9167728146601%2C%2037.45490566423789%5D%2C%20%5B126.90156094129895%2C%2037.47753842789901%5D%2C%20%5B126.90531975801812%2C%2037.48218087575429%5D%2C%20%5B126.94922661389508%2C%2037.49125437495649%5D%2C%20%5B126.9725891850662%2C%2037.472561363278125%5D%2C%20%5B126.98367668291802%2C%2037.473856492692086%5D%5D%5D%2C%20%22type%22%3A%20%22Polygon%22%7D%2C%20%22id%22%3A%20%22%5Cuad00%5Cuc545%5Cuad6c%22%2C%20%22properties%22%3A%20%7B%22base_year%22%3A%20%222013%22%2C%20%22code%22%3A%20%2211210%22%2C%20%22highlight%22%3A%20%7B%7D%2C%20%22name%22%3A%20%22%5Cuad00%5Cuc545%5Cuad6c%22%2C%20%22name_eng%22%3A%20%22Gwanak-gu%22%2C%20%22style%22%3A%20%7B%22color%22%3A%20%22black%22%2C%20%22fillColor%22%3A%20%22%23ffffcc%22%2C%20%22fillOpacity%22%3A%200.6%2C%20%22opacity%22%3A%201%2C%20%22weight%22%3A%201%7D%7D%2C%20%22type%22%3A%20%22Feature%22%7D%2C%20%7B%22geometry%22%3A%20%7B%22coordinates%22%3A%20%5B%5B%5B126.98223807916081%2C%2037.509314966770326%5D%2C%20%5B126.98367668291802%2C%2037.473856492692086%5D%2C%20%5B126.9725891850662%2C%2037.472561363278125%5D%2C%20%5B126.94922661389508%2C%2037.49125437495649%5D%2C%20%5B126.90531975801812%2C%2037.48218087575429%5D%2C%20%5B126.92177893174825%2C%2037.494889877415176%5D%2C%20%5B126.92810628828279%2C%2037.51329595732015%5D%2C%20%5B126.95249990298159%2C%2037.51722500741813%5D%2C%20%5B126.98223807916081%2C%2037.509314966770326%5D%5D%5D%2C%20%22type%22%3A%20%22Polygon%22%7D%2C%20%22id%22%3A%20%22%5Cub3d9%5Cuc791%5Cuad6c%22%2C%20%22properties%22%3A%20%7B%22base_year%22%3A%20%222013%22%2C%20%22code%22%3A%20%2211200%22%2C%20%22highlight%22%3A%20%7B%7D%2C%20%22name%22%3A%20%22%5Cub3d9%5Cuc791%5Cuad6c%22%2C%20%22name_eng%22%3A%20%22Dongjak-gu%22%2C%20%22style%22%3A%20%7B%22color%22%3A%20%22black%22%2C%20%22fillColor%22%3A%20%22%23ffffcc%22%2C%20%22fillOpacity%22%3A%200.6%2C%20%22opacity%22%3A%201%2C%20%22weight%22%3A%201%7D%7D%2C%20%22type%22%3A%20%22Feature%22%7D%2C%20%7B%22geometry%22%3A%20%7B%22coordinates%22%3A%20%5B%5B%5B126.89184663862764%2C%2037.547373974997114%5D%2C%20%5B126.94566733083212%2C%2037.526617542453366%5D%2C%20%5B126.95249990298159%2C%2037.51722500741813%5D%2C%20%5B126.92810628828279%2C%2037.51329595732015%5D%2C%20%5B126.92177893174825%2C%2037.494889877415176%5D%2C%20%5B126.90531975801812%2C%2037.48218087575429%5D%2C%20%5B126.89594776782485%2C%2037.504675281309176%5D%2C%20%5B126.88156402353862%2C%2037.513970034765684%5D%2C%20%5B126.88825757860099%2C%2037.54079733630232%5D%2C%20%5B126.89184663862764%2C%2037.547373974997114%5D%5D%5D%2C%20%22type%22%3A%20%22Polygon%22%7D%2C%20%22id%22%3A%20%22%5Cuc601%5Cub4f1%5Cud3ec%5Cuad6c%22%2C%20%22properties%22%3A%20%7B%22base_year%22%3A%20%222013%22%2C%20%22code%22%3A%20%2211190%22%2C%20%22highlight%22%3A%20%7B%7D%2C%20%22name%22%3A%20%22%5Cuc601%5Cub4f1%5Cud3ec%5Cuad6c%22%2C%20%22name_eng%22%3A%20%22Yeongdeungpo-gu%22%2C%20%22style%22%3A%20%7B%22color%22%3A%20%22black%22%2C%20%22fillColor%22%3A%20%22%23c7e9b4%22%2C%20%22fillOpacity%22%3A%200.6%2C%20%22opacity%22%3A%201%2C%20%22weight%22%3A%201%7D%7D%2C%20%22type%22%3A%20%22Feature%22%7D%2C%20%7B%22geometry%22%3A%20%7B%22coordinates%22%3A%20%5B%5B%5B126.90156094129895%2C%2037.47753842789901%5D%2C%20%5B126.9167728146601%2C%2037.45490566423789%5D%2C%20%5B126.93084408056525%2C%2037.447382928333994%5D%2C%20%5B126.9025831711697%2C%2037.434549366349124%5D%2C%20%5B126.87683271502428%2C%2037.482576591607305%5D%2C%20%5B126.90156094129895%2C%2037.47753842789901%5D%5D%5D%2C%20%22type%22%3A%20%22Polygon%22%7D%2C%20%22id%22%3A%20%22%5Cuae08%5Cucc9c%5Cuad6c%22%2C%20%22properties%22%3A%20%7B%22base_year%22%3A%20%222013%22%2C%20%22code%22%3A%20%2211180%22%2C%20%22highlight%22%3A%20%7B%7D%2C%20%22name%22%3A%20%22%5Cuae08%5Cucc9c%5Cuad6c%22%2C%20%22name_eng%22%3A%20%22Geumcheon-gu%22%2C%20%22style%22%3A%20%7B%22color%22%3A%20%22black%22%2C%20%22fillColor%22%3A%20%22%23c7e9b4%22%2C%20%22fillOpacity%22%3A%200.6%2C%20%22opacity%22%3A%201%2C%20%22weight%22%3A%201%7D%7D%2C%20%22type%22%3A%20%22Feature%22%7D%2C%20%7B%22geometry%22%3A%20%7B%22coordinates%22%3A%20%5B%5B%5B126.82688081517314%2C%2037.50548972232896%5D%2C%20%5B126.88156402353862%2C%2037.513970034765684%5D%2C%20%5B126.89594776782485%2C%2037.504675281309176%5D%2C%20%5B126.90531975801812%2C%2037.48218087575429%5D%2C%20%5B126.90156094129895%2C%2037.47753842789901%5D%2C%20%5B126.87683271502428%2C%2037.482576591607305%5D%2C%20%5B126.84762676054953%2C%2037.47146723936323%5D%2C%20%5B126.83549485076196%2C%2037.474098236975095%5D%2C%20%5B126.82264796791348%2C%2037.4878476492147%5D%2C%20%5B126.82504736331406%2C%2037.50302612640443%5D%2C%20%5B126.82688081517314%2C%2037.50548972232896%5D%5D%5D%2C%20%22type%22%3A%20%22Polygon%22%7D%2C%20%22id%22%3A%20%22%5Cuad6c%5Cub85c%5Cuad6c%22%2C%20%22properties%22%3A%20%7B%22base_year%22%3A%20%222013%22%2C%20%22code%22%3A%20%2211170%22%2C%20%22highlight%22%3A%20%7B%7D%2C%20%22name%22%3A%20%22%5Cuad6c%5Cub85c%5Cuad6c%22%2C%20%22name_eng%22%3A%20%22Guro-gu%22%2C%20%22style%22%3A%20%7B%22color%22%3A%20%22black%22%2C%20%22fillColor%22%3A%20%22%23ffffcc%22%2C%20%22fillOpacity%22%3A%200.6%2C%20%22opacity%22%3A%201%2C%20%22weight%22%3A%201%7D%7D%2C%20%22type%22%3A%20%22Feature%22%7D%2C%20%7B%22geometry%22%3A%20%7B%22coordinates%22%3A%20%5B%5B%5B126.79575768552907%2C%2037.57881087633202%5D%2C%20%5B126.80702115023597%2C%2037.60123001013228%5D%2C%20%5B126.82251438477105%2C%2037.5880430810082%5D%2C%20%5B126.85984199399667%2C%2037.571847855292745%5D%2C%20%5B126.89184663862764%2C%2037.547373974997114%5D%2C%20%5B126.88825757860099%2C%2037.54079733630232%5D%2C%20%5B126.86637464321238%2C%2037.54859191094823%5D%2C%20%5B126.86610073476395%2C%2037.52699964144669%5D%2C%20%5B126.84257291943153%2C%2037.52373707805596%5D%2C%20%5B126.8242331426722%2C%2037.53788078753248%5D%2C%20%5B126.77324417717703%2C%2037.5459123450554%5D%2C%20%5B126.76979180579352%2C%2037.55139183008809%5D%2C%20%5B126.79575768552907%2C%2037.57881087633202%5D%5D%5D%2C%20%22type%22%3A%20%22Polygon%22%7D%2C%20%22id%22%3A%20%22%5Cuac15%5Cuc11c%5Cuad6c%22%2C%20%22properties%22%3A%20%7B%22base_year%22%3A%20%222013%22%2C%20%22code%22%3A%20%2211160%22%2C%20%22highlight%22%3A%20%7B%7D%2C%20%22name%22%3A%20%22%5Cuac15%5Cuc11c%5Cuad6c%22%2C%20%22name_eng%22%3A%20%22Gangseo-gu%22%2C%20%22style%22%3A%20%7B%22color%22%3A%20%22black%22%2C%20%22fillColor%22%3A%20%22%23ffffcc%22%2C%20%22fillOpacity%22%3A%200.6%2C%20%22opacity%22%3A%201%2C%20%22weight%22%3A%201%7D%7D%2C%20%22type%22%3A%20%22Feature%22%7D%2C%20%7B%22geometry%22%3A%20%7B%22coordinates%22%3A%20%5B%5B%5B126.8242331426722%2C%2037.53788078753248%5D%2C%20%5B126.84257291943153%2C%2037.52373707805596%5D%2C%20%5B126.86610073476395%2C%2037.52699964144669%5D%2C%20%5B126.86637464321238%2C%2037.54859191094823%5D%2C%20%5B126.88825757860099%2C%2037.54079733630232%5D%2C%20%5B126.88156402353862%2C%2037.513970034765684%5D%2C%20%5B126.82688081517314%2C%2037.50548972232896%5D%2C%20%5B126.8242331426722%2C%2037.53788078753248%5D%5D%5D%2C%20%22type%22%3A%20%22Polygon%22%7D%2C%20%22id%22%3A%20%22%5Cuc591%5Cucc9c%5Cuad6c%22%2C%20%22properties%22%3A%20%7B%22base_year%22%3A%20%222013%22%2C%20%22code%22%3A%20%2211150%22%2C%20%22highlight%22%3A%20%7B%7D%2C%20%22name%22%3A%20%22%5Cuc591%5Cucc9c%5Cuad6c%22%2C%20%22name_eng%22%3A%20%22Yangcheon-gu%22%2C%20%22style%22%3A%20%7B%22color%22%3A%20%22black%22%2C%20%22fillColor%22%3A%20%22%23ffffcc%22%2C%20%22fillOpacity%22%3A%200.6%2C%20%22opacity%22%3A%201%2C%20%22weight%22%3A%201%7D%7D%2C%20%22type%22%3A%20%22Feature%22%7D%2C%20%7B%22geometry%22%3A%20%7B%22coordinates%22%3A%20%5B%5B%5B126.90522065831053%2C%2037.57409700522574%5D%2C%20%5B126.93898161798973%2C%2037.552310003728124%5D%2C%20%5B126.96358226710812%2C%2037.55605635475154%5D%2C%20%5B126.96448570553055%2C%2037.548705692021635%5D%2C%20%5B126.94566733083212%2C%2037.526617542453366%5D%2C%20%5B126.89184663862764%2C%2037.547373974997114%5D%2C%20%5B126.85984199399667%2C%2037.571847855292745%5D%2C%20%5B126.88433284773288%2C%2037.588143322880526%5D%2C%20%5B126.90522065831053%2C%2037.57409700522574%5D%5D%5D%2C%20%22type%22%3A%20%22Polygon%22%7D%2C%20%22id%22%3A%20%22%5Cub9c8%5Cud3ec%5Cuad6c%22%2C%20%22properties%22%3A%20%7B%22base_year%22%3A%20%222013%22%2C%20%22code%22%3A%20%2211140%22%2C%20%22highlight%22%3A%20%7B%7D%2C%20%22name%22%3A%20%22%5Cub9c8%5Cud3ec%5Cuad6c%22%2C%20%22name_eng%22%3A%20%22Mapo-gu%22%2C%20%22style%22%3A%20%7B%22color%22%3A%20%22black%22%2C%20%22fillColor%22%3A%20%22%237fcdbb%22%2C%20%22fillOpacity%22%3A%200.6%2C%20%22opacity%22%3A%201%2C%20%22weight%22%3A%201%7D%7D%2C%20%22type%22%3A%20%22Feature%22%7D%2C%20%7B%22geometry%22%3A%20%7B%22coordinates%22%3A%20%5B%5B%5B126.9524752030572%2C%2037.60508692737045%5D%2C%20%5B126.95565425846463%2C%2037.576080790881456%5D%2C%20%5B126.96873633279075%2C%2037.56313604690827%5D%2C%20%5B126.96358226710812%2C%2037.55605635475154%5D%2C%20%5B126.93898161798973%2C%2037.552310003728124%5D%2C%20%5B126.90522065831053%2C%2037.57409700522574%5D%2C%20%5B126.9524752030572%2C%2037.60508692737045%5D%5D%5D%2C%20%22type%22%3A%20%22Polygon%22%7D%2C%20%22id%22%3A%20%22%5Cuc11c%5Cub300%5Cubb38%5Cuad6c%22%2C%20%22properties%22%3A%20%7B%22base_year%22%3A%20%222013%22%2C%20%22code%22%3A%20%2211130%22%2C%20%22highlight%22%3A%20%7B%7D%2C%20%22name%22%3A%20%22%5Cuc11c%5Cub300%5Cubb38%5Cuad6c%22%2C%20%22name_eng%22%3A%20%22Seodaemun-gu%22%2C%20%22style%22%3A%20%7B%22color%22%3A%20%22black%22%2C%20%22fillColor%22%3A%20%22%23ffffcc%22%2C%20%22fillOpacity%22%3A%200.6%2C%20%22opacity%22%3A%201%2C%20%22weight%22%3A%201%7D%7D%2C%20%22type%22%3A%20%22Feature%22%7D%2C%20%7B%22geometry%22%3A%20%7B%22coordinates%22%3A%20%5B%5B%5B126.9738864128702%2C%2037.62949634786888%5D%2C%20%5B126.95427017006129%2C%2037.622033431339425%5D%2C%20%5B126.9524752030572%2C%2037.60508692737045%5D%2C%20%5B126.90522065831053%2C%2037.57409700522574%5D%2C%20%5B126.88433284773288%2C%2037.588143322880526%5D%2C%20%5B126.90396681003595%2C%2037.59227403419942%5D%2C%20%5B126.90303066177668%2C%2037.609977911401344%5D%2C%20%5B126.91455481429648%2C%2037.64150050996935%5D%2C%20%5B126.956473797387%2C%2037.652480737339445%5D%2C%20%5B126.9738864128702%2C%2037.62949634786888%5D%5D%5D%2C%20%22type%22%3A%20%22Polygon%22%7D%2C%20%22id%22%3A%20%22%5Cuc740%5Cud3c9%5Cuad6c%22%2C%20%22properties%22%3A%20%7B%22base_year%22%3A%20%222013%22%2C%20%22code%22%3A%20%2211120%22%2C%20%22highlight%22%3A%20%7B%7D%2C%20%22name%22%3A%20%22%5Cuc740%5Cud3c9%5Cuad6c%22%2C%20%22name_eng%22%3A%20%22Eunpyeong-gu%22%2C%20%22style%22%3A%20%7B%22color%22%3A%20%22black%22%2C%20%22fillColor%22%3A%20%22%23ffffcc%22%2C%20%22fillOpacity%22%3A%200.6%2C%20%22opacity%22%3A%201%2C%20%22weight%22%3A%201%7D%7D%2C%20%22type%22%3A%20%22Feature%22%7D%2C%20%7B%22geometry%22%3A%20%7B%22coordinates%22%3A%20%5B%5B%5B127.0838752703195%2C%2037.69359534202034%5D%2C%20%5B127.09706391309695%2C%2037.686383719372294%5D%2C%20%5B127.09440766298717%2C%2037.64713490473045%5D%2C%20%5B127.11326795855199%2C%2037.639622905315925%5D%2C%20%5B127.10782277688129%2C%2037.61804244241069%5D%2C%20%5B127.07351243825278%2C%2037.61283660342313%5D%2C%20%5B127.05209373568619%2C%2037.62164065487782%5D%2C%20%5B127.04358800895609%2C%2037.62848931298715%5D%2C%20%5B127.05800075220091%2C%2037.64318263878276%5D%2C%20%5B127.05288479710485%2C%2037.68423857084347%5D%2C%20%5B127.0838752703195%2C%2037.69359534202034%5D%5D%5D%2C%20%22type%22%3A%20%22Polygon%22%7D%2C%20%22id%22%3A%20%22%5Cub178%5Cuc6d0%5Cuad6c%22%2C%20%22properties%22%3A%20%7B%22base_year%22%3A%20%222013%22%2C%20%22code%22%3A%20%2211110%22%2C%20%22highlight%22%3A%20%7B%7D%2C%20%22name%22%3A%20%22%5Cub178%5Cuc6d0%5Cuad6c%22%2C%20%22name_eng%22%3A%20%22Nowon-gu%22%2C%20%22style%22%3A%20%7B%22color%22%3A%20%22black%22%2C%20%22fillColor%22%3A%20%22%23c7e9b4%22%2C%20%22fillOpacity%22%3A%200.6%2C%20%22opacity%22%3A%201%2C%20%22weight%22%3A%201%7D%7D%2C%20%22type%22%3A%20%22Feature%22%7D%2C%20%7B%22geometry%22%3A%20%7B%22coordinates%22%3A%20%5B%5B%5B127.05288479710485%2C%2037.68423857084347%5D%2C%20%5B127.05800075220091%2C%2037.64318263878276%5D%2C%20%5B127.04358800895609%2C%2037.62848931298715%5D%2C%20%5B127.01465935892466%2C%2037.64943687496812%5D%2C%20%5B127.02062116141389%2C%2037.667173575971205%5D%2C%20%5B127.01039666042071%2C%2037.681894589603594%5D%2C%20%5B127.01795099203432%2C%2037.69824412775662%5D%2C%20%5B127.05288479710485%2C%2037.68423857084347%5D%5D%5D%2C%20%22type%22%3A%20%22Polygon%22%7D%2C%20%22id%22%3A%20%22%5Cub3c4%5Cubd09%5Cuad6c%22%2C%20%22properties%22%3A%20%7B%22base_year%22%3A%20%222013%22%2C%20%22code%22%3A%20%2211100%22%2C%20%22highlight%22%3A%20%7B%7D%2C%20%22name%22%3A%20%22%5Cub3c4%5Cubd09%5Cuad6c%22%2C%20%22name_eng%22%3A%20%22Dobong-gu%22%2C%20%22style%22%3A%20%7B%22color%22%3A%20%22black%22%2C%20%22fillColor%22%3A%20%22%23ffffcc%22%2C%20%22fillOpacity%22%3A%200.6%2C%20%22opacity%22%3A%201%2C%20%22weight%22%3A%201%7D%7D%2C%20%22type%22%3A%20%22Feature%22%7D%2C%20%7B%22geometry%22%3A%20%7B%22coordinates%22%3A%20%5B%5B%5B126.99383903424%2C%2037.676681761199085%5D%2C%20%5B127.01039666042071%2C%2037.681894589603594%5D%2C%20%5B127.02062116141389%2C%2037.667173575971205%5D%2C%20%5B127.01465935892466%2C%2037.64943687496812%5D%2C%20%5B127.04358800895609%2C%2037.62848931298715%5D%2C%20%5B127.05209373568619%2C%2037.62164065487782%5D%2C%20%5B127.03892400992301%2C%2037.609715611023816%5D%2C%20%5B127.0128154749523%2C%2037.613652243470256%5D%2C%20%5B126.98672705513869%2C%2037.63377641288196%5D%2C%20%5B126.9817452676551%2C%2037.65209769387776%5D%2C%20%5B126.99383903424%2C%2037.676681761199085%5D%5D%5D%2C%20%22type%22%3A%20%22Polygon%22%7D%2C%20%22id%22%3A%20%22%5Cuac15%5Cubd81%5Cuad6c%22%2C%20%22properties%22%3A%20%7B%22base_year%22%3A%20%222013%22%2C%20%22code%22%3A%20%2211090%22%2C%20%22highlight%22%3A%20%7B%7D%2C%20%22name%22%3A%20%22%5Cuac15%5Cubd81%5Cuad6c%22%2C%20%22name_eng%22%3A%20%22Gangbuk-gu%22%2C%20%22style%22%3A%20%7B%22color%22%3A%20%22black%22%2C%20%22fillColor%22%3A%20%22%23ffffcc%22%2C%20%22fillOpacity%22%3A%200.6%2C%20%22opacity%22%3A%201%2C%20%22weight%22%3A%201%7D%7D%2C%20%22type%22%3A%20%22Feature%22%7D%2C%20%7B%22geometry%22%3A%20%7B%22coordinates%22%3A%20%5B%5B%5B126.977175406416%2C%2037.62859715400388%5D%2C%20%5B126.98672705513869%2C%2037.63377641288196%5D%2C%20%5B127.0128154749523%2C%2037.613652243470256%5D%2C%20%5B127.03892400992301%2C%2037.609715611023816%5D%2C%20%5B127.05209373568619%2C%2037.62164065487782%5D%2C%20%5B127.07351243825278%2C%2037.61283660342313%5D%2C%20%5B127.07382707099227%2C%2037.60401928986419%5D%2C%20%5B127.042705222094%2C%2037.59239437593391%5D%2C%20%5B127.02527254528003%2C%2037.57524616245249%5D%2C%20%5B126.99348293358314%2C%2037.588565457216156%5D%2C%20%5B126.98879865992384%2C%2037.6118927319756%5D%2C%20%5B126.977175406416%2C%2037.62859715400388%5D%5D%5D%2C%20%22type%22%3A%20%22Polygon%22%7D%2C%20%22id%22%3A%20%22%5Cuc131%5Cubd81%5Cuad6c%22%2C%20%22properties%22%3A%20%7B%22base_year%22%3A%20%222013%22%2C%20%22code%22%3A%20%2211080%22%2C%20%22highlight%22%3A%20%7B%7D%2C%20%22name%22%3A%20%22%5Cuc131%5Cubd81%5Cuad6c%22%2C%20%22name_eng%22%3A%20%22Seongbuk-gu%22%2C%20%22style%22%3A%20%7B%22color%22%3A%20%22black%22%2C%20%22fillColor%22%3A%20%22%23ffffcc%22%2C%20%22fillOpacity%22%3A%200.6%2C%20%22opacity%22%3A%201%2C%20%22weight%22%3A%201%7D%7D%2C%20%22type%22%3A%20%22Feature%22%7D%2C%20%7B%22geometry%22%3A%20%7B%22coordinates%22%3A%20%5B%5B%5B127.07351243825278%2C%2037.61283660342313%5D%2C%20%5B127.10782277688129%2C%2037.61804244241069%5D%2C%20%5B127.1201246020114%2C%2037.60178457598188%5D%2C%20%5B127.10304174249214%2C%2037.57076342290955%5D%2C%20%5B127.08068541280403%2C%2037.56906425519017%5D%2C%20%5B127.07382707099227%2C%2037.60401928986419%5D%2C%20%5B127.07351243825278%2C%2037.61283660342313%5D%5D%5D%2C%20%22type%22%3A%20%22Polygon%22%7D%2C%20%22id%22%3A%20%22%5Cuc911%5Cub791%5Cuad6c%22%2C%20%22properties%22%3A%20%7B%22base_year%22%3A%20%222013%22%2C%20%22code%22%3A%20%2211070%22%2C%20%22highlight%22%3A%20%7B%7D%2C%20%22name%22%3A%20%22%5Cuc911%5Cub791%5Cuad6c%22%2C%20%22name_eng%22%3A%20%22Jungnang-gu%22%2C%20%22style%22%3A%20%7B%22color%22%3A%20%22black%22%2C%20%22fillColor%22%3A%20%22%23ffffcc%22%2C%20%22fillOpacity%22%3A%200.6%2C%20%22opacity%22%3A%201%2C%20%22weight%22%3A%201%7D%7D%2C%20%22type%22%3A%20%22Feature%22%7D%2C%20%7B%22geometry%22%3A%20%7B%22coordinates%22%3A%20%5B%5B%5B127.02527254528003%2C%2037.57524616245249%5D%2C%20%5B127.042705222094%2C%2037.59239437593391%5D%2C%20%5B127.07382707099227%2C%2037.60401928986419%5D%2C%20%5B127.08068541280403%2C%2037.56906425519017%5D%2C%20%5B127.07421053024362%2C%2037.55724769712085%5D%2C%20%5B127.05005601081567%2C%2037.567577612590846%5D%2C%20%5B127.02547266349976%2C%2037.568943552237734%5D%2C%20%5B127.02527254528003%2C%2037.57524616245249%5D%5D%5D%2C%20%22type%22%3A%20%22Polygon%22%7D%2C%20%22id%22%3A%20%22%5Cub3d9%5Cub300%5Cubb38%5Cuad6c%22%2C%20%22properties%22%3A%20%7B%22base_year%22%3A%20%222013%22%2C%20%22code%22%3A%20%2211060%22%2C%20%22highlight%22%3A%20%7B%7D%2C%20%22name%22%3A%20%22%5Cub3d9%5Cub300%5Cubb38%5Cuad6c%22%2C%20%22name_eng%22%3A%20%22Dongdaemun-gu%22%2C%20%22style%22%3A%20%7B%22color%22%3A%20%22black%22%2C%20%22fillColor%22%3A%20%22%23ffffcc%22%2C%20%22fillOpacity%22%3A%200.6%2C%20%22opacity%22%3A%201%2C%20%22weight%22%3A%201%7D%7D%2C%20%22type%22%3A%20%22Feature%22%7D%2C%20%7B%22geometry%22%3A%20%7B%22coordinates%22%3A%20%5B%5B%5B127.08068541280403%2C%2037.56906425519017%5D%2C%20%5B127.10304174249214%2C%2037.57076342290955%5D%2C%20%5B127.11519584981606%2C%2037.557533180704915%5D%2C%20%5B127.1116764203608%2C%2037.540669955324965%5D%2C%20%5B127.10087519791962%2C%2037.524841220167055%5D%2C%20%5B127.0690698130372%2C%2037.522279423505026%5D%2C%20%5B127.05867359288398%2C%2037.52629974922568%5D%2C%20%5B127.07421053024362%2C%2037.55724769712085%5D%2C%20%5B127.08068541280403%2C%2037.56906425519017%5D%5D%5D%2C%20%22type%22%3A%20%22Polygon%22%7D%2C%20%22id%22%3A%20%22%5Cuad11%5Cuc9c4%5Cuad6c%22%2C%20%22properties%22%3A%20%7B%22base_year%22%3A%20%222013%22%2C%20%22code%22%3A%20%2211050%22%2C%20%22highlight%22%3A%20%7B%7D%2C%20%22name%22%3A%20%22%5Cuad11%5Cuc9c4%5Cuad6c%22%2C%20%22name_eng%22%3A%20%22Gwangjin-gu%22%2C%20%22style%22%3A%20%7B%22color%22%3A%20%22black%22%2C%20%22fillColor%22%3A%20%22%23ffffcc%22%2C%20%22fillOpacity%22%3A%200.6%2C%20%22opacity%22%3A%201%2C%20%22weight%22%3A%201%7D%7D%2C%20%22type%22%3A%20%22Feature%22%7D%2C%20%7B%22geometry%22%3A%20%7B%22coordinates%22%3A%20%5B%5B%5B127.02547266349976%2C%2037.568943552237734%5D%2C%20%5B127.05005601081567%2C%2037.567577612590846%5D%2C%20%5B127.07421053024362%2C%2037.55724769712085%5D%2C%20%5B127.05867359288398%2C%2037.52629974922568%5D%2C%20%5B127.02302831890559%2C%2037.53231899582663%5D%2C%20%5B127.01070894177482%2C%2037.54118048964762%5D%2C%20%5B127.02547266349976%2C%2037.568943552237734%5D%5D%5D%2C%20%22type%22%3A%20%22Polygon%22%7D%2C%20%22id%22%3A%20%22%5Cuc131%5Cub3d9%5Cuad6c%22%2C%20%22properties%22%3A%20%7B%22base_year%22%3A%20%222013%22%2C%20%22code%22%3A%20%2211040%22%2C%20%22highlight%22%3A%20%7B%7D%2C%20%22name%22%3A%20%22%5Cuc131%5Cub3d9%5Cuad6c%22%2C%20%22name_eng%22%3A%20%22Seongdong-gu%22%2C%20%22style%22%3A%20%7B%22color%22%3A%20%22black%22%2C%20%22fillColor%22%3A%20%22%23c7e9b4%22%2C%20%22fillOpacity%22%3A%200.6%2C%20%22opacity%22%3A%201%2C%20%22weight%22%3A%201%7D%7D%2C%20%22type%22%3A%20%22Feature%22%7D%2C%20%7B%22geometry%22%3A%20%7B%22coordinates%22%3A%20%5B%5B%5B127.01070894177482%2C%2037.54118048964762%5D%2C%20%5B127.02302831890559%2C%2037.53231899582663%5D%2C%20%5B127.01397119667513%2C%2037.52503988289669%5D%2C%20%5B126.98223807916081%2C%2037.509314966770326%5D%2C%20%5B126.95249990298159%2C%2037.51722500741813%5D%2C%20%5B126.94566733083212%2C%2037.526617542453366%5D%2C%20%5B126.96448570553055%2C%2037.548705692021635%5D%2C%20%5B126.98752996903328%2C%2037.55094818807139%5D%2C%20%5B127.01070894177482%2C%2037.54118048964762%5D%5D%5D%2C%20%22type%22%3A%20%22Polygon%22%7D%2C%20%22id%22%3A%20%22%5Cuc6a9%5Cuc0b0%5Cuad6c%22%2C%20%22properties%22%3A%20%7B%22base_year%22%3A%20%222013%22%2C%20%22code%22%3A%20%2211030%22%2C%20%22highlight%22%3A%20%7B%7D%2C%20%22name%22%3A%20%22%5Cuc6a9%5Cuc0b0%5Cuad6c%22%2C%20%22name_eng%22%3A%20%22Yongsan-gu%22%2C%20%22style%22%3A%20%7B%22color%22%3A%20%22black%22%2C%20%22fillColor%22%3A%20%22%23253494%22%2C%20%22fillOpacity%22%3A%200.6%2C%20%22opacity%22%3A%201%2C%20%22weight%22%3A%201%7D%7D%2C%20%22type%22%3A%20%22Feature%22%7D%2C%20%7B%22geometry%22%3A%20%7B%22coordinates%22%3A%20%5B%5B%5B127.02547266349976%2C%2037.568943552237734%5D%2C%20%5B127.01070894177482%2C%2037.54118048964762%5D%2C%20%5B126.98752996903328%2C%2037.55094818807139%5D%2C%20%5B126.96448570553055%2C%2037.548705692021635%5D%2C%20%5B126.96358226710812%2C%2037.55605635475154%5D%2C%20%5B126.96873633279075%2C%2037.56313604690827%5D%2C%20%5B127.02547266349976%2C%2037.568943552237734%5D%5D%5D%2C%20%22type%22%3A%20%22Polygon%22%7D%2C%20%22id%22%3A%20%22%5Cuc911%5Cuad6c%22%2C%20%22properties%22%3A%20%7B%22base_year%22%3A%20%222013%22%2C%20%22code%22%3A%20%2211020%22%2C%20%22highlight%22%3A%20%7B%7D%2C%20%22name%22%3A%20%22%5Cuc911%5Cuad6c%22%2C%20%22name_eng%22%3A%20%22Jung-gu%22%2C%20%22style%22%3A%20%7B%22color%22%3A%20%22black%22%2C%20%22fillColor%22%3A%20%22%23253494%22%2C%20%22fillOpacity%22%3A%200.6%2C%20%22opacity%22%3A%201%2C%20%22weight%22%3A%201%7D%7D%2C%20%22type%22%3A%20%22Feature%22%7D%2C%20%7B%22geometry%22%3A%20%7B%22coordinates%22%3A%20%5B%5B%5B126.9738864128702%2C%2037.62949634786888%5D%2C%20%5B126.977175406416%2C%2037.62859715400388%5D%2C%20%5B126.98879865992384%2C%2037.6118927319756%5D%2C%20%5B126.99348293358314%2C%2037.588565457216156%5D%2C%20%5B127.02527254528003%2C%2037.57524616245249%5D%2C%20%5B127.02547266349976%2C%2037.568943552237734%5D%2C%20%5B126.96873633279075%2C%2037.56313604690827%5D%2C%20%5B126.95565425846463%2C%2037.576080790881456%5D%2C%20%5B126.9524752030572%2C%2037.60508692737045%5D%2C%20%5B126.95427017006129%2C%2037.622033431339425%5D%2C%20%5B126.9738864128702%2C%2037.62949634786888%5D%5D%5D%2C%20%22type%22%3A%20%22Polygon%22%7D%2C%20%22id%22%3A%20%22%5Cuc885%5Cub85c%5Cuad6c%22%2C%20%22properties%22%3A%20%7B%22base_year%22%3A%20%222013%22%2C%20%22code%22%3A%20%2211010%22%2C%20%22highlight%22%3A%20%7B%7D%2C%20%22name%22%3A%20%22%5Cuc885%5Cub85c%5Cuad6c%22%2C%20%22name_eng%22%3A%20%22Jongno-gu%22%2C%20%22style%22%3A%20%7B%22color%22%3A%20%22black%22%2C%20%22fillColor%22%3A%20%22%23253494%22%2C%20%22fillOpacity%22%3A%200.6%2C%20%22opacity%22%3A%201%2C%20%22weight%22%3A%201%7D%7D%2C%20%22type%22%3A%20%22Feature%22%7D%5D%2C%20%22type%22%3A%20%22FeatureCollection%22%7D%2C%0A%20%20%20%20%20%20%20%20%20%20%20%20%7B%0A%20%20%20%20%20%20%20%20%20%20%20%20%7D%0A%20%20%20%20%20%20%20%20%29.addTo%28choropleth_de307801bb024949a0f0084d92c15c1d%20%29%3B%0A%20%20%20%20%20%20%20%20geo_json_68fc887f1a1e430c8fdf6bf16cfd3a7a.setStyle%28function%28feature%29%20%7Breturn%20feature.properties.style%3B%7D%29%3B%0A%20%20%20%20%20%20%20%20%0A%20%20%20%20%0A%20%20%20%20var%20color_map_bd531221a8074daebe30cfd6a5f59b48%20%3D%20%7B%7D%3B%0A%0A%20%20%20%20%0A%20%20%20%20color_map_bd531221a8074daebe30cfd6a5f59b48.color%20%3D%20d3.scale.threshold%28%29%0A%20%20%20%20%20%20%20%20%20%20%20%20%20%20.domain%28%5B1534.3333333333333%2C%201535.194555778223%2C%201536.0557782231128%2C%201536.9170006680026%2C%201537.7782231128924%2C%201538.6394455577822%2C%201539.500668002672%2C%201540.3618904475618%2C%201541.2231128924516%2C%201542.0843353373414%2C%201542.9455577822312%2C%201543.8067802271207%2C%201544.6680026720105%2C%201545.5292251169003%2C%201546.39044756179%2C%201547.25167000668%2C%201548.1128924515697%2C%201548.9741148964595%2C%201549.8353373413493%2C%201550.696559786239%2C%201551.5577822311288%2C%201552.4190046760186%2C%201553.2802271209084%2C%201554.1414495657982%2C%201555.002672010688%2C%201555.8638944555778%2C%201556.7251169004676%2C%201557.5863393453574%2C%201558.4475617902472%2C%201559.308784235137%2C%201560.1700066800267%2C%201561.0312291249165%2C%201561.892451569806%2C%201562.753674014696%2C%201563.6148964595857%2C%201564.4761189044755%2C%201565.3373413493653%2C%201566.198563794255%2C%201567.0597862391448%2C%201567.9210086840346%2C%201568.7822311289244%2C%201569.6434535738142%2C%201570.504676018704%2C%201571.3658984635938%2C%201572.2271209084836%2C%201573.0883433533734%2C%201573.9495657982632%2C%201574.810788243153%2C%201575.6720106880427%2C%201576.5332331329325%2C%201577.3944555778223%2C%201578.2556780227121%2C%201579.1169004676017%2C%201579.9781229124915%2C%201580.8393453573813%2C%201581.700567802271%2C%201582.5617902471608%2C%201583.4230126920506%2C%201584.2842351369404%2C%201585.1454575818302%2C%201586.00668002672%2C%201586.8679024716098%2C%201587.7291249164996%2C%201588.5903473613894%2C%201589.4515698062792%2C%201590.312792251169%2C%201591.1740146960587%2C%201592.0352371409485%2C%201592.8964595858383%2C%201593.7576820307281%2C%201594.618904475618%2C%201595.4801269205077%2C%201596.3413493653975%2C%201597.2025718102873%2C%201598.0637942551768%2C%201598.9250167000666%2C%201599.7862391449564%2C%201600.6474615898462%2C%201601.508684034736%2C%201602.3699064796258%2C%201603.2311289245156%2C%201604.0923513694054%2C%201604.9535738142952%2C%201605.814796259185%2C%201606.6760187040747%2C%201607.5372411489645%2C%201608.3984635938543%2C%201609.2596860387441%2C%201610.120908483634%2C%201610.9821309285237%2C%201611.8433533734135%2C%201612.7045758183033%2C%201613.565798263193%2C%201614.4270207080826%2C%201615.2882431529724%2C%201616.1494655978622%2C%201617.010688042752%2C%201617.8719104876418%2C%201618.7331329325316%2C%201619.5943553774214%2C%201620.4555778223112%2C%201621.316800267201%2C%201622.1780227120908%2C%201623.0392451569805%2C%201623.9004676018703%2C%201624.7616900467601%2C%201625.62291249165%2C%201626.4841349365397%2C%201627.3453573814295%2C%201628.2065798263193%2C%201629.067802271209%2C%201629.9290247160989%2C%201630.7902471609887%2C%201631.6514696058784%2C%201632.5126920507682%2C%201633.373914495658%2C%201634.2351369405476%2C%201635.0963593854374%2C%201635.9575818303272%2C%201636.818804275217%2C%201637.6800267201068%2C%201638.5412491649965%2C%201639.4024716098863%2C%201640.2636940547761%2C%201641.124916499666%2C%201641.9861389445557%2C%201642.8473613894455%2C%201643.7085838343353%2C%201644.569806279225%2C%201645.4310287241149%2C%201646.2922511690047%2C%201647.1534736138944%2C%201648.0146960587842%2C%201648.875918503674%2C%201649.7371409485638%2C%201650.5983633934534%2C%201651.4595858383432%2C%201652.320808283233%2C%201653.1820307281228%2C%201654.0432531730125%2C%201654.9044756179023%2C%201655.7656980627921%2C%201656.626920507682%2C%201657.4881429525717%2C%201658.3493653974615%2C%201659.2105878423513%2C%201660.071810287241%2C%201660.9330327321309%2C%201661.7942551770207%2C%201662.6554776219104%2C%201663.5167000668002%2C%201664.37792251169%2C%201665.2391449565798%2C%201666.1003674014696%2C%201666.9615898463594%2C%201667.8228122912492%2C%201668.684034736139%2C%201669.5452571810288%2C%201670.4064796259183%2C%201671.2677020708081%2C%201672.128924515698%2C%201672.9901469605877%2C%201673.8513694054775%2C%201674.7125918503673%2C%201675.573814295257%2C%201676.4350367401469%2C%201677.2962591850367%2C%201678.1574816299265%2C%201679.0187040748162%2C%201679.879926519706%2C%201680.7411489645958%2C%201681.6023714094856%2C%201682.4635938543754%2C%201683.3248162992652%2C%201684.186038744155%2C%201685.0472611890448%2C%201685.9084836339343%2C%201686.7697060788241%2C%201687.630928523714%2C%201688.4921509686037%2C%201689.3533734134935%2C%201690.2145958583833%2C%201691.075818303273%2C%201691.9370407481629%2C%201692.7982631930527%2C%201693.6594856379425%2C%201694.5207080828322%2C%201695.381930527722%2C%201696.2431529726118%2C%201697.1043754175016%2C%201697.9655978623914%2C%201698.8268203072812%2C%201699.688042752171%2C%201700.5492651970608%2C%201701.4104876419506%2C%201702.2717100868404%2C%201703.1329325317301%2C%201703.99415497662%2C%201704.8553774215097%2C%201705.7165998663993%2C%201706.577822311289%2C%201707.4390447561789%2C%201708.3002672010687%2C%201709.1614896459585%2C%201710.0227120908482%2C%201710.883934535738%2C%201711.7451569806278%2C%201712.6063794255176%2C%201713.4676018704074%2C%201714.3288243152972%2C%201715.190046760187%2C%201716.0512692050768%2C%201716.9124916499666%2C%201717.7737140948564%2C%201718.6349365397461%2C%201719.496158984636%2C%201720.3573814295257%2C%201721.2186038744155%2C%201722.079826319305%2C%201722.9410487641949%2C%201723.8022712090847%2C%201724.6634936539745%2C%201725.5247160988642%2C%201726.385938543754%2C%201727.2471609886438%2C%201728.1083834335336%2C%201728.9696058784234%2C%201729.8308283233132%2C%201730.692050768203%2C%201731.5532732130928%2C%201732.4144956579826%2C%201733.2757181028724%2C%201734.1369405477622%2C%201734.998162992652%2C%201735.8593854375417%2C%201736.7206078824315%2C%201737.5818303273213%2C%201738.443052772211%2C%201739.304275217101%2C%201740.1654976619907%2C%201741.0267201068805%2C%201741.88794255177%2C%201742.7491649966598%2C%201743.6103874415496%2C%201744.4716098864394%2C%201745.3328323313292%2C%201746.194054776219%2C%201747.0552772211088%2C%201747.9164996659986%2C%201748.7777221108884%2C%201749.6389445557782%2C%201750.500167000668%2C%201751.3613894455577%2C%201752.2226118904475%2C%201753.0838343353373%2C%201753.945056780227%2C%201754.806279225117%2C%201755.6675016700067%2C%201756.5287241148965%2C%201757.389946559786%2C%201758.2511690046758%2C%201759.1123914495656%2C%201759.9736138944554%2C%201760.8348363393452%2C%201761.696058784235%2C%201762.5572812291248%2C%201763.4185036740146%2C%201764.2797261189044%2C%201765.1409485637942%2C%201766.002171008684%2C%201766.8633934535737%2C%201767.7246158984635%2C%201768.5858383433533%2C%201769.447060788243%2C%201770.308283233133%2C%201771.1695056780227%2C%201772.0307281229125%2C%201772.8919505678023%2C%201773.753173012692%2C%201774.6143954575818%2C%201775.4756179024716%2C%201776.3368403473614%2C%201777.198062792251%2C%201778.0592852371408%2C%201778.9205076820306%2C%201779.7817301269204%2C%201780.6429525718102%2C%201781.5041750167%2C%201782.3653974615897%2C%201783.2266199064795%2C%201784.0878423513693%2C%201784.949064796259%2C%201785.810287241149%2C%201786.6715096860387%2C%201787.5327321309285%2C%201788.3939545758183%2C%201789.255177020708%2C%201790.1163994655979%2C%201790.9776219104876%2C%201791.8388443553772%2C%201792.700066800267%2C%201793.5612892451568%2C%201794.4225116900466%2C%201795.2837341349364%2C%201796.1449565798262%2C%201797.006179024716%2C%201797.8674014696057%2C%201798.7286239144955%2C%201799.5898463593853%2C%201800.451068804275%2C%201801.312291249165%2C%201802.1735136940547%2C%201803.0347361389445%2C%201803.8959585838343%2C%201804.757181028724%2C%201805.6184034736139%2C%201806.4796259185036%2C%201807.3408483633934%2C%201808.2020708082832%2C%201809.063293253173%2C%201809.9245156980628%2C%201810.7857381429526%2C%201811.6469605878424%2C%201812.5081830327322%2C%201813.369405477622%2C%201814.2306279225115%2C%201815.0918503674013%2C%201815.953072812291%2C%201816.814295257181%2C%201817.6755177020707%2C%201818.5367401469605%2C%201819.3979625918503%2C%201820.25918503674%2C%201821.1204074816299%2C%201821.9816299265196%2C%201822.8428523714094%2C%201823.7040748162992%2C%201824.565297261189%2C%201825.4265197060788%2C%201826.2877421509686%2C%201827.1489645958584%2C%201828.010187040748%2C%201828.8714094856377%2C%201829.7326319305275%2C%201830.5938543754173%2C%201831.455076820307%2C%201832.316299265197%2C%201833.1775217100867%2C%201834.0387441549765%2C%201834.8999665998663%2C%201835.761189044756%2C%201836.6224114896459%2C%201837.4836339345356%2C%201838.3448563794254%2C%201839.2060788243152%2C%201840.067301269205%2C%201840.9285237140948%2C%201841.7897461589846%2C%201842.6509686038744%2C%201843.5121910487642%2C%201844.373413493654%2C%201845.2346359385438%2C%201846.0958583834336%2C%201846.9570808283233%2C%201847.8183032732131%2C%201848.679525718103%2C%201849.5407481629927%2C%201850.4019706078823%2C%201851.263193052772%2C%201852.1244154976619%2C%201852.9856379425516%2C%201853.8468603874414%2C%201854.7080828323312%2C%201855.569305277221%2C%201856.4305277221108%2C%201857.2917501670006%2C%201858.1529726118904%2C%201859.0141950567802%2C%201859.87541750167%2C%201860.7366399465598%2C%201861.5978623914496%2C%201862.4590848363393%2C%201863.3203072812291%2C%201864.1815297261187%2C%201865.0427521710085%2C%201865.9039746158983%2C%201866.765197060788%2C%201867.6264195056779%2C%201868.4876419505676%2C%201869.3488643954574%2C%201870.2100868403472%2C%201871.071309285237%2C%201871.9325317301268%2C%201872.7937541750166%2C%201873.6549766199064%2C%201874.5161990647962%2C%201875.377421509686%2C%201876.2386439545758%2C%201877.0998663994656%2C%201877.9610888443553%2C%201878.8223112892451%2C%201879.683533734135%2C%201880.5447561790247%2C%201881.4059786239145%2C%201882.2672010688043%2C%201883.128423513694%2C%201883.9896459585839%2C%201884.8508684034737%2C%201885.7120908483635%2C%201886.573313293253%2C%201887.4345357381428%2C%201888.2957581830326%2C%201889.1569806279224%2C%201890.0182030728122%2C%201890.879425517702%2C%201891.7406479625918%2C%201892.6018704074816%2C%201893.4630928523713%2C%201894.3243152972611%2C%201895.185537742151%2C%201896.0467601870407%2C%201896.9079826319305%2C%201897.7692050768203%2C%201898.63042752171%2C%201899.4916499665997%2C%201900.3528724114894%2C%201901.2140948563792%2C%201902.075317301269%2C%201902.9365397461588%2C%201903.7977621910486%2C%201904.6589846359384%2C%201905.5202070808282%2C%201906.381429525718%2C%201907.2426519706078%2C%201908.1038744154976%2C%201908.9650968603873%2C%201909.8263193052771%2C%201910.687541750167%2C%201911.5487641950567%2C%201912.4099866399465%2C%201913.2712090848363%2C%201914.132431529726%2C%201914.9936539746159%2C%201915.8548764195057%2C%201916.7160988643955%2C%201917.5773213092853%2C%201918.438543754175%2C%201919.2997661990648%2C%201920.1609886439546%2C%201921.0222110888444%2C%201921.883433533734%2C%201922.7446559786238%2C%201923.6058784235136%2C%201924.4671008684033%2C%201925.3283233132931%2C%201926.189545758183%2C%201927.0507682030727%2C%201927.9119906479625%2C%201928.7732130928523%2C%201929.634435537742%2C%201930.4956579826319%2C%201931.3568804275217%2C%201932.2181028724115%2C%201933.0793253173013%2C%201933.940547762191%2C%201934.8017702070808%2C%201935.6629926519704%2C%201936.5242150968602%2C%201937.38543754175%2C%201938.2466599866398%2C%201939.1078824315296%2C%201939.9691048764194%2C%201940.8303273213091%2C%201941.691549766199%2C%201942.5527722110887%2C%201943.4139946559785%2C%201944.2752171008683%2C%201945.136439545758%2C%201945.9976619906479%2C%201946.8588844355377%2C%201947.7201068804275%2C%201948.5813293253173%2C%201949.442551770207%2C%201950.3037742150968%2C%201951.1649966599866%2C%201952.0262191048764%2C%201952.8874415497662%2C%201953.748663994656%2C%201954.6098864395458%2C%201955.4711088844356%2C%201956.3323313293254%2C%201957.1935537742152%2C%201958.0547762191047%2C%201958.9159986639945%2C%201959.7772211088843%2C%201960.638443553774%2C%201961.4996659986639%2C%201962.3608884435537%2C%201963.2221108884435%2C%201964.0833333333333%5D%29%0A%20%20%20%20%20%20%20%20%20%20%20%20%20%20.range%28%5B%27%23ffffccff%27%2C%20%27%23ffffccff%27%2C%20%27%23ffffccff%27%2C%20%27%23ffffccff%27%2C%20%27%23ffffccff%27%2C%20%27%23ffffccff%27%2C%20%27%23ffffccff%27%2C%20%27%23ffffccff%27%2C%20%27%23ffffccff%27%2C%20%27%23ffffccff%27%2C%20%27%23ffffccff%27%2C%20%27%23ffffccff%27%2C%20%27%23ffffccff%27%2C%20%27%23ffffccff%27%2C%20%27%23ffffccff%27%2C%20%27%23ffffccff%27%2C%20%27%23ffffccff%27%2C%20%27%23ffffccff%27%2C%20%27%23ffffccff%27%2C%20%27%23ffffccff%27%2C%20%27%23ffffccff%27%2C%20%27%23ffffccff%27%2C%20%27%23ffffccff%27%2C%20%27%23ffffccff%27%2C%20%27%23ffffccff%27%2C%20%27%23ffffccff%27%2C%20%27%23ffffccff%27%2C%20%27%23ffffccff%27%2C%20%27%23ffffccff%27%2C%20%27%23ffffccff%27%2C%20%27%23ffffccff%27%2C%20%27%23ffffccff%27%2C%20%27%23ffffccff%27%2C%20%27%23ffffccff%27%2C%20%27%23ffffccff%27%2C%20%27%23ffffccff%27%2C%20%27%23ffffccff%27%2C%20%27%23ffffccff%27%2C%20%27%23ffffccff%27%2C%20%27%23ffffccff%27%2C%20%27%23ffffccff%27%2C%20%27%23ffffccff%27%2C%20%27%23ffffccff%27%2C%20%27%23ffffccff%27%2C%20%27%23ffffccff%27%2C%20%27%23ffffccff%27%2C%20%27%23ffffccff%27%2C%20%27%23ffffccff%27%2C%20%27%23ffffccff%27%2C%20%27%23ffffccff%27%2C%20%27%23ffffccff%27%2C%20%27%23ffffccff%27%2C%20%27%23ffffccff%27%2C%20%27%23ffffccff%27%2C%20%27%23ffffccff%27%2C%20%27%23ffffccff%27%2C%20%27%23ffffccff%27%2C%20%27%23ffffccff%27%2C%20%27%23ffffccff%27%2C%20%27%23ffffccff%27%2C%20%27%23ffffccff%27%2C%20%27%23ffffccff%27%2C%20%27%23ffffccff%27%2C%20%27%23ffffccff%27%2C%20%27%23ffffccff%27%2C%20%27%23ffffccff%27%2C%20%27%23ffffccff%27%2C%20%27%23ffffccff%27%2C%20%27%23ffffccff%27%2C%20%27%23ffffccff%27%2C%20%27%23ffffccff%27%2C%20%27%23ffffccff%27%2C%20%27%23ffffccff%27%2C%20%27%23ffffccff%27%2C%20%27%23ffffccff%27%2C%20%27%23ffffccff%27%2C%20%27%23ffffccff%27%2C%20%27%23ffffccff%27%2C%20%27%23ffffccff%27%2C%20%27%23ffffccff%27%2C%20%27%23ffffccff%27%2C%20%27%23ffffccff%27%2C%20%27%23ffffccff%27%2C%20%27%23ffffccff%27%2C%20%27%23c7e9b4ff%27%2C%20%27%23c7e9b4ff%27%2C%20%27%23c7e9b4ff%27%2C%20%27%23c7e9b4ff%27%2C%20%27%23c7e9b4ff%27%2C%20%27%23c7e9b4ff%27%2C%20%27%23c7e9b4ff%27%2C%20%27%23c7e9b4ff%27%2C%20%27%23c7e9b4ff%27%2C%20%27%23c7e9b4ff%27%2C%20%27%23c7e9b4ff%27%2C%20%27%23c7e9b4ff%27%2C%20%27%23c7e9b4ff%27%2C%20%27%23c7e9b4ff%27%2C%20%27%23c7e9b4ff%27%2C%20%27%23c7e9b4ff%27%2C%20%27%23c7e9b4ff%27%2C%20%27%23c7e9b4ff%27%2C%20%27%23c7e9b4ff%27%2C%20%27%23c7e9b4ff%27%2C%20%27%23c7e9b4ff%27%2C%20%27%23c7e9b4ff%27%2C%20%27%23c7e9b4ff%27%2C%20%27%23c7e9b4ff%27%2C%20%27%23c7e9b4ff%27%2C%20%27%23c7e9b4ff%27%2C%20%27%23c7e9b4ff%27%2C%20%27%23c7e9b4ff%27%2C%20%27%23c7e9b4ff%27%2C%20%27%23c7e9b4ff%27%2C%20%27%23c7e9b4ff%27%2C%20%27%23c7e9b4ff%27%2C%20%27%23c7e9b4ff%27%2C%20%27%23c7e9b4ff%27%2C%20%27%23c7e9b4ff%27%2C%20%27%23c7e9b4ff%27%2C%20%27%23c7e9b4ff%27%2C%20%27%23c7e9b4ff%27%2C%20%27%23c7e9b4ff%27%2C%20%27%23c7e9b4ff%27%2C%20%27%23c7e9b4ff%27%2C%20%27%23c7e9b4ff%27%2C%20%27%23c7e9b4ff%27%2C%20%27%23c7e9b4ff%27%2C%20%27%23c7e9b4ff%27%2C%20%27%23c7e9b4ff%27%2C%20%27%23c7e9b4ff%27%2C%20%27%23c7e9b4ff%27%2C%20%27%23c7e9b4ff%27%2C%20%27%23c7e9b4ff%27%2C%20%27%23c7e9b4ff%27%2C%20%27%23c7e9b4ff%27%2C%20%27%23c7e9b4ff%27%2C%20%27%23c7e9b4ff%27%2C%20%27%23c7e9b4ff%27%2C%20%27%23c7e9b4ff%27%2C%20%27%23c7e9b4ff%27%2C%20%27%23c7e9b4ff%27%2C%20%27%23c7e9b4ff%27%2C%20%27%23c7e9b4ff%27%2C%20%27%23c7e9b4ff%27%2C%20%27%23c7e9b4ff%27%2C%20%27%23c7e9b4ff%27%2C%20%27%23c7e9b4ff%27%2C%20%27%23c7e9b4ff%27%2C%20%27%23c7e9b4ff%27%2C%20%27%23c7e9b4ff%27%2C%20%27%23c7e9b4ff%27%2C%20%27%23c7e9b4ff%27%2C%20%27%23c7e9b4ff%27%2C%20%27%23c7e9b4ff%27%2C%20%27%23c7e9b4ff%27%2C%20%27%23c7e9b4ff%27%2C%20%27%23c7e9b4ff%27%2C%20%27%23c7e9b4ff%27%2C%20%27%23c7e9b4ff%27%2C%20%27%23c7e9b4ff%27%2C%20%27%23c7e9b4ff%27%2C%20%27%23c7e9b4ff%27%2C%20%27%23c7e9b4ff%27%2C%20%27%23c7e9b4ff%27%2C%20%27%23c7e9b4ff%27%2C%20%27%23c7e9b4ff%27%2C%20%27%237fcdbbff%27%2C%20%27%237fcdbbff%27%2C%20%27%237fcdbbff%27%2C%20%27%237fcdbbff%27%2C%20%27%237fcdbbff%27%2C%20%27%237fcdbbff%27%2C%20%27%237fcdbbff%27%2C%20%27%237fcdbbff%27%2C%20%27%237fcdbbff%27%2C%20%27%237fcdbbff%27%2C%20%27%237fcdbbff%27%2C%20%27%237fcdbbff%27%2C%20%27%237fcdbbff%27%2C%20%27%237fcdbbff%27%2C%20%27%237fcdbbff%27%2C%20%27%237fcdbbff%27%2C%20%27%237fcdbbff%27%2C%20%27%237fcdbbff%27%2C%20%27%237fcdbbff%27%2C%20%27%237fcdbbff%27%2C%20%27%237fcdbbff%27%2C%20%27%237fcdbbff%27%2C%20%27%237fcdbbff%27%2C%20%27%237fcdbbff%27%2C%20%27%237fcdbbff%27%2C%20%27%237fcdbbff%27%2C%20%27%237fcdbbff%27%2C%20%27%237fcdbbff%27%2C%20%27%237fcdbbff%27%2C%20%27%237fcdbbff%27%2C%20%27%237fcdbbff%27%2C%20%27%237fcdbbff%27%2C%20%27%237fcdbbff%27%2C%20%27%237fcdbbff%27%2C%20%27%237fcdbbff%27%2C%20%27%237fcdbbff%27%2C%20%27%237fcdbbff%27%2C%20%27%237fcdbbff%27%2C%20%27%237fcdbbff%27%2C%20%27%237fcdbbff%27%2C%20%27%237fcdbbff%27%2C%20%27%237fcdbbff%27%2C%20%27%237fcdbbff%27%2C%20%27%237fcdbbff%27%2C%20%27%237fcdbbff%27%2C%20%27%237fcdbbff%27%2C%20%27%237fcdbbff%27%2C%20%27%237fcdbbff%27%2C%20%27%237fcdbbff%27%2C%20%27%237fcdbbff%27%2C%20%27%237fcdbbff%27%2C%20%27%237fcdbbff%27%2C%20%27%237fcdbbff%27%2C%20%27%237fcdbbff%27%2C%20%27%237fcdbbff%27%2C%20%27%237fcdbbff%27%2C%20%27%237fcdbbff%27%2C%20%27%237fcdbbff%27%2C%20%27%237fcdbbff%27%2C%20%27%237fcdbbff%27%2C%20%27%237fcdbbff%27%2C%20%27%237fcdbbff%27%2C%20%27%237fcdbbff%27%2C%20%27%237fcdbbff%27%2C%20%27%237fcdbbff%27%2C%20%27%237fcdbbff%27%2C%20%27%237fcdbbff%27%2C%20%27%237fcdbbff%27%2C%20%27%237fcdbbff%27%2C%20%27%237fcdbbff%27%2C%20%27%237fcdbbff%27%2C%20%27%237fcdbbff%27%2C%20%27%237fcdbbff%27%2C%20%27%237fcdbbff%27%2C%20%27%237fcdbbff%27%2C%20%27%237fcdbbff%27%2C%20%27%237fcdbbff%27%2C%20%27%237fcdbbff%27%2C%20%27%237fcdbbff%27%2C%20%27%237fcdbbff%27%2C%20%27%237fcdbbff%27%2C%20%27%237fcdbbff%27%2C%20%27%237fcdbbff%27%2C%20%27%2341b6c4ff%27%2C%20%27%2341b6c4ff%27%2C%20%27%2341b6c4ff%27%2C%20%27%2341b6c4ff%27%2C%20%27%2341b6c4ff%27%2C%20%27%2341b6c4ff%27%2C%20%27%2341b6c4ff%27%2C%20%27%2341b6c4ff%27%2C%20%27%2341b6c4ff%27%2C%20%27%2341b6c4ff%27%2C%20%27%2341b6c4ff%27%2C%20%27%2341b6c4ff%27%2C%20%27%2341b6c4ff%27%2C%20%27%2341b6c4ff%27%2C%20%27%2341b6c4ff%27%2C%20%27%2341b6c4ff%27%2C%20%27%2341b6c4ff%27%2C%20%27%2341b6c4ff%27%2C%20%27%2341b6c4ff%27%2C%20%27%2341b6c4ff%27%2C%20%27%2341b6c4ff%27%2C%20%27%2341b6c4ff%27%2C%20%27%2341b6c4ff%27%2C%20%27%2341b6c4ff%27%2C%20%27%2341b6c4ff%27%2C%20%27%2341b6c4ff%27%2C%20%27%2341b6c4ff%27%2C%20%27%2341b6c4ff%27%2C%20%27%2341b6c4ff%27%2C%20%27%2341b6c4ff%27%2C%20%27%2341b6c4ff%27%2C%20%27%2341b6c4ff%27%2C%20%27%2341b6c4ff%27%2C%20%27%2341b6c4ff%27%2C%20%27%2341b6c4ff%27%2C%20%27%2341b6c4ff%27%2C%20%27%2341b6c4ff%27%2C%20%27%2341b6c4ff%27%2C%20%27%2341b6c4ff%27%2C%20%27%2341b6c4ff%27%2C%20%27%2341b6c4ff%27%2C%20%27%2341b6c4ff%27%2C%20%27%2341b6c4ff%27%2C%20%27%2341b6c4ff%27%2C%20%27%2341b6c4ff%27%2C%20%27%2341b6c4ff%27%2C%20%27%2341b6c4ff%27%2C%20%27%2341b6c4ff%27%2C%20%27%2341b6c4ff%27%2C%20%27%2341b6c4ff%27%2C%20%27%2341b6c4ff%27%2C%20%27%2341b6c4ff%27%2C%20%27%2341b6c4ff%27%2C%20%27%2341b6c4ff%27%2C%20%27%2341b6c4ff%27%2C%20%27%2341b6c4ff%27%2C%20%27%2341b6c4ff%27%2C%20%27%2341b6c4ff%27%2C%20%27%2341b6c4ff%27%2C%20%27%2341b6c4ff%27%2C%20%27%2341b6c4ff%27%2C%20%27%2341b6c4ff%27%2C%20%27%2341b6c4ff%27%2C%20%27%2341b6c4ff%27%2C%20%27%2341b6c4ff%27%2C%20%27%2341b6c4ff%27%2C%20%27%2341b6c4ff%27%2C%20%27%2341b6c4ff%27%2C%20%27%2341b6c4ff%27%2C%20%27%2341b6c4ff%27%2C%20%27%2341b6c4ff%27%2C%20%27%2341b6c4ff%27%2C%20%27%2341b6c4ff%27%2C%20%27%2341b6c4ff%27%2C%20%27%2341b6c4ff%27%2C%20%27%2341b6c4ff%27%2C%20%27%2341b6c4ff%27%2C%20%27%2341b6c4ff%27%2C%20%27%2341b6c4ff%27%2C%20%27%2341b6c4ff%27%2C%20%27%2341b6c4ff%27%2C%20%27%2341b6c4ff%27%2C%20%27%2341b6c4ff%27%2C%20%27%232c7fb8ff%27%2C%20%27%232c7fb8ff%27%2C%20%27%232c7fb8ff%27%2C%20%27%232c7fb8ff%27%2C%20%27%232c7fb8ff%27%2C%20%27%232c7fb8ff%27%2C%20%27%232c7fb8ff%27%2C%20%27%232c7fb8ff%27%2C%20%27%232c7fb8ff%27%2C%20%27%232c7fb8ff%27%2C%20%27%232c7fb8ff%27%2C%20%27%232c7fb8ff%27%2C%20%27%232c7fb8ff%27%2C%20%27%232c7fb8ff%27%2C%20%27%232c7fb8ff%27%2C%20%27%232c7fb8ff%27%2C%20%27%232c7fb8ff%27%2C%20%27%232c7fb8ff%27%2C%20%27%232c7fb8ff%27%2C%20%27%232c7fb8ff%27%2C%20%27%232c7fb8ff%27%2C%20%27%232c7fb8ff%27%2C%20%27%232c7fb8ff%27%2C%20%27%232c7fb8ff%27%2C%20%27%232c7fb8ff%27%2C%20%27%232c7fb8ff%27%2C%20%27%232c7fb8ff%27%2C%20%27%232c7fb8ff%27%2C%20%27%232c7fb8ff%27%2C%20%27%232c7fb8ff%27%2C%20%27%232c7fb8ff%27%2C%20%27%232c7fb8ff%27%2C%20%27%232c7fb8ff%27%2C%20%27%232c7fb8ff%27%2C%20%27%232c7fb8ff%27%2C%20%27%232c7fb8ff%27%2C%20%27%232c7fb8ff%27%2C%20%27%232c7fb8ff%27%2C%20%27%232c7fb8ff%27%2C%20%27%232c7fb8ff%27%2C%20%27%232c7fb8ff%27%2C%20%27%232c7fb8ff%27%2C%20%27%232c7fb8ff%27%2C%20%27%232c7fb8ff%27%2C%20%27%232c7fb8ff%27%2C%20%27%232c7fb8ff%27%2C%20%27%232c7fb8ff%27%2C%20%27%232c7fb8ff%27%2C%20%27%232c7fb8ff%27%2C%20%27%232c7fb8ff%27%2C%20%27%232c7fb8ff%27%2C%20%27%232c7fb8ff%27%2C%20%27%232c7fb8ff%27%2C%20%27%232c7fb8ff%27%2C%20%27%232c7fb8ff%27%2C%20%27%232c7fb8ff%27%2C%20%27%232c7fb8ff%27%2C%20%27%232c7fb8ff%27%2C%20%27%232c7fb8ff%27%2C%20%27%232c7fb8ff%27%2C%20%27%232c7fb8ff%27%2C%20%27%232c7fb8ff%27%2C%20%27%232c7fb8ff%27%2C%20%27%232c7fb8ff%27%2C%20%27%232c7fb8ff%27%2C%20%27%232c7fb8ff%27%2C%20%27%232c7fb8ff%27%2C%20%27%232c7fb8ff%27%2C%20%27%232c7fb8ff%27%2C%20%27%232c7fb8ff%27%2C%20%27%232c7fb8ff%27%2C%20%27%232c7fb8ff%27%2C%20%27%232c7fb8ff%27%2C%20%27%232c7fb8ff%27%2C%20%27%232c7fb8ff%27%2C%20%27%232c7fb8ff%27%2C%20%27%232c7fb8ff%27%2C%20%27%232c7fb8ff%27%2C%20%27%232c7fb8ff%27%2C%20%27%232c7fb8ff%27%2C%20%27%232c7fb8ff%27%2C%20%27%232c7fb8ff%27%2C%20%27%232c7fb8ff%27%2C%20%27%23253494ff%27%2C%20%27%23253494ff%27%2C%20%27%23253494ff%27%2C%20%27%23253494ff%27%2C%20%27%23253494ff%27%2C%20%27%23253494ff%27%2C%20%27%23253494ff%27%2C%20%27%23253494ff%27%2C%20%27%23253494ff%27%2C%20%27%23253494ff%27%2C%20%27%23253494ff%27%2C%20%27%23253494ff%27%2C%20%27%23253494ff%27%2C%20%27%23253494ff%27%2C%20%27%23253494ff%27%2C%20%27%23253494ff%27%2C%20%27%23253494ff%27%2C%20%27%23253494ff%27%2C%20%27%23253494ff%27%2C%20%27%23253494ff%27%2C%20%27%23253494ff%27%2C%20%27%23253494ff%27%2C%20%27%23253494ff%27%2C%20%27%23253494ff%27%2C%20%27%23253494ff%27%2C%20%27%23253494ff%27%2C%20%27%23253494ff%27%2C%20%27%23253494ff%27%2C%20%27%23253494ff%27%2C%20%27%23253494ff%27%2C%20%27%23253494ff%27%2C%20%27%23253494ff%27%2C%20%27%23253494ff%27%2C%20%27%23253494ff%27%2C%20%27%23253494ff%27%2C%20%27%23253494ff%27%2C%20%27%23253494ff%27%2C%20%27%23253494ff%27%2C%20%27%23253494ff%27%2C%20%27%23253494ff%27%2C%20%27%23253494ff%27%2C%20%27%23253494ff%27%2C%20%27%23253494ff%27%2C%20%27%23253494ff%27%2C%20%27%23253494ff%27%2C%20%27%23253494ff%27%2C%20%27%23253494ff%27%2C%20%27%23253494ff%27%2C%20%27%23253494ff%27%2C%20%27%23253494ff%27%2C%20%27%23253494ff%27%2C%20%27%23253494ff%27%2C%20%27%23253494ff%27%2C%20%27%23253494ff%27%2C%20%27%23253494ff%27%2C%20%27%23253494ff%27%2C%20%27%23253494ff%27%2C%20%27%23253494ff%27%2C%20%27%23253494ff%27%2C%20%27%23253494ff%27%2C%20%27%23253494ff%27%2C%20%27%23253494ff%27%2C%20%27%23253494ff%27%2C%20%27%23253494ff%27%2C%20%27%23253494ff%27%2C%20%27%23253494ff%27%2C%20%27%23253494ff%27%2C%20%27%23253494ff%27%2C%20%27%23253494ff%27%2C%20%27%23253494ff%27%2C%20%27%23253494ff%27%2C%20%27%23253494ff%27%2C%20%27%23253494ff%27%2C%20%27%23253494ff%27%2C%20%27%23253494ff%27%2C%20%27%23253494ff%27%2C%20%27%23253494ff%27%2C%20%27%23253494ff%27%2C%20%27%23253494ff%27%2C%20%27%23253494ff%27%2C%20%27%23253494ff%27%2C%20%27%23253494ff%27%2C%20%27%23253494ff%27%2C%20%27%23253494ff%27%5D%29%3B%0A%20%20%20%20%0A%0A%20%20%20%20color_map_bd531221a8074daebe30cfd6a5f59b48.x%20%3D%20d3.scale.linear%28%29%0A%20%20%20%20%20%20%20%20%20%20%20%20%20%20.domain%28%5B1534.3333333333333%2C%201964.0833333333333%5D%29%0A%20%20%20%20%20%20%20%20%20%20%20%20%20%20.range%28%5B0%2C%20400%5D%29%3B%0A%0A%20%20%20%20color_map_bd531221a8074daebe30cfd6a5f59b48.legend%20%3D%20L.control%28%7Bposition%3A%20%27topright%27%7D%29%3B%0A%20%20%20%20color_map_bd531221a8074daebe30cfd6a5f59b48.legend.onAdd%20%3D%20function%20%28map%29%20%7Bvar%20div%20%3D%20L.DomUtil.create%28%27div%27%2C%20%27legend%27%29%3B%20return%20div%7D%3B%0A%20%20%20%20color_map_bd531221a8074daebe30cfd6a5f59b48.legend.addTo%28map_a2c588d1607a4a44936ab049efcdaf2d%29%3B%0A%0A%20%20%20%20color_map_bd531221a8074daebe30cfd6a5f59b48.xAxis%20%3D%20d3.svg.axis%28%29%0A%20%20%20%20%20%20%20%20.scale%28color_map_bd531221a8074daebe30cfd6a5f59b48.x%29%0A%20%20%20%20%20%20%20%20.orient%28%22top%22%29%0A%20%20%20%20%20%20%20%20.tickSize%281%29%0A%20%20%20%20%20%20%20%20.tickValues%28%5B1534.3333333333333%2C%201605.9583333333333%2C%201677.5833333333333%2C%201749.2083333333333%2C%201820.8333333333333%2C%201892.4583333333333%2C%201964.0833333333333%5D%29%3B%0A%0A%20%20%20%20color_map_bd531221a8074daebe30cfd6a5f59b48.svg%20%3D%20d3.select%28%22.legend.leaflet-control%22%29.append%28%22svg%22%29%0A%20%20%20%20%20%20%20%20.attr%28%22id%22%2C%20%27legend%27%29%0A%20%20%20%20%20%20%20%20.attr%28%22width%22%2C%20450%29%0A%20%20%20%20%20%20%20%20.attr%28%22height%22%2C%2040%29%3B%0A%0A%20%20%20%20color_map_bd531221a8074daebe30cfd6a5f59b48.g%20%3D%20color_map_bd531221a8074daebe30cfd6a5f59b48.svg.append%28%22g%22%29%0A%20%20%20%20%20%20%20%20.attr%28%22class%22%2C%20%22key%22%29%0A%20%20%20%20%20%20%20%20.attr%28%22transform%22%2C%20%22translate%2825%2C16%29%22%29%3B%0A%0A%20%20%20%20color_map_bd531221a8074daebe30cfd6a5f59b48.g.selectAll%28%22rect%22%29%0A%20%20%20%20%20%20%20%20.data%28color_map_bd531221a8074daebe30cfd6a5f59b48.color.range%28%29.map%28function%28d%2C%20i%29%20%7B%0A%20%20%20%20%20%20%20%20%20%20return%20%7B%0A%20%20%20%20%20%20%20%20%20%20%20%20x0%3A%20i%20%3F%20color_map_bd531221a8074daebe30cfd6a5f59b48.x%28color_map_bd531221a8074daebe30cfd6a5f59b48.color.domain%28%29%5Bi%20-%201%5D%29%20%3A%20color_map_bd531221a8074daebe30cfd6a5f59b48.x.range%28%29%5B0%5D%2C%0A%20%20%20%20%20%20%20%20%20%20%20%20x1%3A%20i%20%3C%20color_map_bd531221a8074daebe30cfd6a5f59b48.color.domain%28%29.length%20%3F%20color_map_bd531221a8074daebe30cfd6a5f59b48.x%28color_map_bd531221a8074daebe30cfd6a5f59b48.color.domain%28%29%5Bi%5D%29%20%3A%20color_map_bd531221a8074daebe30cfd6a5f59b48.x.range%28%29%5B1%5D%2C%0A%20%20%20%20%20%20%20%20%20%20%20%20z%3A%20d%0A%20%20%20%20%20%20%20%20%20%20%7D%3B%0A%20%20%20%20%20%20%20%20%7D%29%29%0A%20%20%20%20%20%20.enter%28%29.append%28%22rect%22%29%0A%20%20%20%20%20%20%20%20.attr%28%22height%22%2C%2010%29%0A%20%20%20%20%20%20%20%20.attr%28%22x%22%2C%20function%28d%29%20%7B%20return%20d.x0%3B%20%7D%29%0A%20%20%20%20%20%20%20%20.attr%28%22width%22%2C%20function%28d%29%20%7B%20return%20d.x1%20-%20d.x0%3B%20%7D%29%0A%20%20%20%20%20%20%20%20.style%28%22fill%22%2C%20function%28d%29%20%7B%20return%20d.z%3B%20%7D%29%3B%0A%0A%20%20%20%20color_map_bd531221a8074daebe30cfd6a5f59b48.g.call%28color_map_bd531221a8074daebe30cfd6a5f59b48.xAxis%29.append%28%22text%22%29%0A%20%20%20%20%20%20%20%20.attr%28%22class%22%2C%20%22caption%22%29%0A%20%20%20%20%20%20%20%20.attr%28%22y%22%2C%2021%29%0A%20%20%20%20%20%20%20%20.text%28%27%27%29%3B%0A%3C/script%3E onload=\"this.contentDocument.open();this.contentDocument.write(    decodeURIComponent(this.getAttribute('data-html')));this.contentDocument.close();\" allowfullscreen webkitallowfullscreen mozallowfullscreen></iframe></div></div>"
            ],
            "text/plain": [
              "<folium.folium.Map at 0x7fd0366ce310>"
            ]
          },
          "metadata": {},
          "execution_count": 39
        }
      ]
    },
    {
      "cell_type": "code",
      "source": [
        "map_sample = folium.Map(location=[45.5236, -122.6750], zoom_start=13)\n",
        "\n",
        "folium.RegularPolygonMarker([45.5012, -122.6655], popup=\"Ross Island Bridge\", fill_color=\"#132b5e\", number_of_sides=3, radius=10).add_to(map_sample)\n",
        "folium.RegularPolygonMarker([45.5132, -122.6708], popup=\"Hawthorne Bridge\", fill_color=\"#45647d\", number_of_sides=4, radius=10).add_to(map_sample)\n",
        "folium.RegularPolygonMarker([45.5275, -122.6692], popup=\"Steel Bridge\", fill_color=\"#769d96\", number_of_sides=6, radius=10).add_to(map_sample)\n",
        "folium.RegularPolygonMarker([45.5318, -122.6745], popup=\"Broadway Bridge\", fill_color=\"#769d96\", number_of_sides=8, radius=10).add_to(map_sample)\n",
        "\n",
        "map_sample"
      ],
      "metadata": {
        "colab": {
          "base_uri": "https://localhost:8080/",
          "height": 663
        },
        "id": "msENCUzvYRe2",
        "outputId": "fdfe75a4-0785-4502-f2b9-72a834f94e26"
      },
      "execution_count": null,
      "outputs": [
        {
          "output_type": "execute_result",
          "data": {
            "text/html": [
              "<div style=\"width:100%;\"><div style=\"position:relative;width:100%;height:0;padding-bottom:60%;\"><span style=\"color:#565656\">Make this Notebook Trusted to load map: File -> Trust Notebook</span><iframe src=\"about:blank\" style=\"position:absolute;width:100%;height:100%;left:0;top:0;border:none !important;\" data-html=%3C%21DOCTYPE%20html%3E%0A%3Chead%3E%20%20%20%20%0A%20%20%20%20%3Cmeta%20http-equiv%3D%22content-type%22%20content%3D%22text/html%3B%20charset%3DUTF-8%22%20/%3E%0A%20%20%20%20%3Cscript%3EL_PREFER_CANVAS%3Dfalse%3B%20L_NO_TOUCH%3Dfalse%3B%20L_DISABLE_3D%3Dfalse%3B%3C/script%3E%0A%20%20%20%20%3Cscript%20src%3D%22https%3A//cdn.jsdelivr.net/npm/leaflet%401.4.0/dist/leaflet.js%22%3E%3C/script%3E%0A%20%20%20%20%3Cscript%20src%3D%22https%3A//code.jquery.com/jquery-1.12.4.min.js%22%3E%3C/script%3E%0A%20%20%20%20%3Cscript%20src%3D%22https%3A//maxcdn.bootstrapcdn.com/bootstrap/3.2.0/js/bootstrap.min.js%22%3E%3C/script%3E%0A%20%20%20%20%3Cscript%20src%3D%22https%3A//cdnjs.cloudflare.com/ajax/libs/Leaflet.awesome-markers/2.0.2/leaflet.awesome-markers.js%22%3E%3C/script%3E%0A%20%20%20%20%3Clink%20rel%3D%22stylesheet%22%20href%3D%22https%3A//cdn.jsdelivr.net/npm/leaflet%401.4.0/dist/leaflet.css%22/%3E%0A%20%20%20%20%3Clink%20rel%3D%22stylesheet%22%20href%3D%22https%3A//maxcdn.bootstrapcdn.com/bootstrap/3.2.0/css/bootstrap.min.css%22/%3E%0A%20%20%20%20%3Clink%20rel%3D%22stylesheet%22%20href%3D%22https%3A//maxcdn.bootstrapcdn.com/bootstrap/3.2.0/css/bootstrap-theme.min.css%22/%3E%0A%20%20%20%20%3Clink%20rel%3D%22stylesheet%22%20href%3D%22https%3A//maxcdn.bootstrapcdn.com/font-awesome/4.6.3/css/font-awesome.min.css%22/%3E%0A%20%20%20%20%3Clink%20rel%3D%22stylesheet%22%20href%3D%22https%3A//cdnjs.cloudflare.com/ajax/libs/Leaflet.awesome-markers/2.0.2/leaflet.awesome-markers.css%22/%3E%0A%20%20%20%20%3Clink%20rel%3D%22stylesheet%22%20href%3D%22https%3A//rawcdn.githack.com/python-visualization/folium/master/folium/templates/leaflet.awesome.rotate.css%22/%3E%0A%20%20%20%20%3Cstyle%3Ehtml%2C%20body%20%7Bwidth%3A%20100%25%3Bheight%3A%20100%25%3Bmargin%3A%200%3Bpadding%3A%200%3B%7D%3C/style%3E%0A%20%20%20%20%3Cstyle%3E%23map%20%7Bposition%3Aabsolute%3Btop%3A0%3Bbottom%3A0%3Bright%3A0%3Bleft%3A0%3B%7D%3C/style%3E%0A%20%20%20%20%0A%20%20%20%20%3Cmeta%20name%3D%22viewport%22%20content%3D%22width%3Ddevice-width%2C%0A%20%20%20%20%20%20%20%20initial-scale%3D1.0%2C%20maximum-scale%3D1.0%2C%20user-scalable%3Dno%22%20/%3E%0A%20%20%20%20%3Cstyle%3E%23map_3f3370ea765548ba9fd344f0e720c3dd%20%7B%0A%20%20%20%20%20%20%20%20position%3A%20relative%3B%0A%20%20%20%20%20%20%20%20width%3A%20100.0%25%3B%0A%20%20%20%20%20%20%20%20height%3A%20100.0%25%3B%0A%20%20%20%20%20%20%20%20left%3A%200.0%25%3B%0A%20%20%20%20%20%20%20%20top%3A%200.0%25%3B%0A%20%20%20%20%20%20%20%20%7D%0A%20%20%20%20%3C/style%3E%0A%20%20%20%20%3Cscript%20src%3D%22https%3A//cdnjs.cloudflare.com/ajax/libs/leaflet-dvf/0.3.0/leaflet-dvf.markers.min.js%22%3E%3C/script%3E%0A%3C/head%3E%0A%3Cbody%3E%20%20%20%20%0A%20%20%20%20%0A%20%20%20%20%3Cdiv%20class%3D%22folium-map%22%20id%3D%22map_3f3370ea765548ba9fd344f0e720c3dd%22%20%3E%3C/div%3E%0A%3C/body%3E%0A%3Cscript%3E%20%20%20%20%0A%20%20%20%20%0A%20%20%20%20%0A%20%20%20%20%20%20%20%20var%20bounds%20%3D%20null%3B%0A%20%20%20%20%0A%0A%20%20%20%20var%20map_3f3370ea765548ba9fd344f0e720c3dd%20%3D%20L.map%28%0A%20%20%20%20%20%20%20%20%27map_3f3370ea765548ba9fd344f0e720c3dd%27%2C%20%7B%0A%20%20%20%20%20%20%20%20center%3A%20%5B45.5236%2C%20-122.675%5D%2C%0A%20%20%20%20%20%20%20%20zoom%3A%2013%2C%0A%20%20%20%20%20%20%20%20maxBounds%3A%20bounds%2C%0A%20%20%20%20%20%20%20%20layers%3A%20%5B%5D%2C%0A%20%20%20%20%20%20%20%20worldCopyJump%3A%20false%2C%0A%20%20%20%20%20%20%20%20crs%3A%20L.CRS.EPSG3857%2C%0A%20%20%20%20%20%20%20%20zoomControl%3A%20true%2C%0A%20%20%20%20%20%20%20%20%7D%29%3B%0A%0A%0A%20%20%20%20%0A%20%20%20%20var%20tile_layer_15dac9088afb479186f3703239e01752%20%3D%20L.tileLayer%28%0A%20%20%20%20%20%20%20%20%27https%3A//%7Bs%7D.tile.openstreetmap.org/%7Bz%7D/%7Bx%7D/%7By%7D.png%27%2C%0A%20%20%20%20%20%20%20%20%7B%0A%20%20%20%20%20%20%20%20%22attribution%22%3A%20null%2C%0A%20%20%20%20%20%20%20%20%22detectRetina%22%3A%20false%2C%0A%20%20%20%20%20%20%20%20%22maxNativeZoom%22%3A%2018%2C%0A%20%20%20%20%20%20%20%20%22maxZoom%22%3A%2018%2C%0A%20%20%20%20%20%20%20%20%22minZoom%22%3A%200%2C%0A%20%20%20%20%20%20%20%20%22noWrap%22%3A%20false%2C%0A%20%20%20%20%20%20%20%20%22opacity%22%3A%201%2C%0A%20%20%20%20%20%20%20%20%22subdomains%22%3A%20%22abc%22%2C%0A%20%20%20%20%20%20%20%20%22tms%22%3A%20false%0A%7D%29.addTo%28map_3f3370ea765548ba9fd344f0e720c3dd%29%3B%0A%20%20%20%20%0A%20%20%20%20%20%20%20%20%20%20%20%20var%20regular_polygon_marker_9555a861dd964e6b9923d0bdedbafdd8%20%3D%20new%20L.RegularPolygonMarker%28%0A%20%20%20%20%20%20%20%20%20%20%20%20%20%20%20%20new%20L.LatLng%2845.5012%2C-122.6655%29%2C%0A%20%20%20%20%20%20%20%20%20%20%20%20%20%20%20%20%7B%0A%20%20%20%20%20%20%20%20%20%20%20%20%20%20%20%20%20%20%20%20icon%20%3A%20new%20L.Icon.Default%28%29%2C%0A%20%20%20%20%20%20%20%20%20%20%20%20%20%20%20%20%20%20%20%20color%3A%20%27black%27%2C%0A%20%20%20%20%20%20%20%20%20%20%20%20%20%20%20%20%20%20%20%20opacity%3A%201%2C%0A%20%20%20%20%20%20%20%20%20%20%20%20%20%20%20%20%20%20%20%20weight%3A%202%2C%0A%20%20%20%20%20%20%20%20%20%20%20%20%20%20%20%20%20%20%20%20fillColor%3A%20%27%23132b5e%27%2C%0A%20%20%20%20%20%20%20%20%20%20%20%20%20%20%20%20%20%20%20%20fillOpacity%3A%201%2C%0A%20%20%20%20%20%20%20%20%20%20%20%20%20%20%20%20%20%20%20%20numberOfSides%3A%203%2C%0A%20%20%20%20%20%20%20%20%20%20%20%20%20%20%20%20%20%20%20%20rotation%3A%200%2C%0A%20%20%20%20%20%20%20%20%20%20%20%20%20%20%20%20%20%20%20%20radius%3A%2010%0A%20%20%20%20%20%20%20%20%20%20%20%20%20%20%20%20%20%20%20%20%7D%0A%20%20%20%20%20%20%20%20%20%20%20%20%20%20%20%20%29.addTo%28map_3f3370ea765548ba9fd344f0e720c3dd%29%3B%0A%20%20%20%20%20%20%20%20%20%20%20%20%0A%20%20%20%20%0A%20%20%20%20%20%20%20%20%20%20%20%20var%20popup_f6fe9cccd0a443daa92b35a48d28d414%20%3D%20L.popup%28%7BmaxWidth%3A%20%27100%25%27%0A%20%20%20%20%20%20%20%20%20%20%20%20%0A%20%20%20%20%20%20%20%20%20%20%20%20%7D%29%3B%0A%0A%20%20%20%20%20%20%20%20%20%20%20%20%0A%20%20%20%20%20%20%20%20%20%20%20%20%20%20%20%20var%20html_f65f4c4e200246b5beedfaa03a9aec97%20%3D%20%24%28%60%3Cdiv%20id%3D%22html_f65f4c4e200246b5beedfaa03a9aec97%22%20style%3D%22width%3A%20100.0%25%3B%20height%3A%20100.0%25%3B%22%3ERoss%20Island%20Bridge%3C/div%3E%60%29%5B0%5D%3B%0A%20%20%20%20%20%20%20%20%20%20%20%20%20%20%20%20popup_f6fe9cccd0a443daa92b35a48d28d414.setContent%28html_f65f4c4e200246b5beedfaa03a9aec97%29%3B%0A%20%20%20%20%20%20%20%20%20%20%20%20%0A%0A%20%20%20%20%20%20%20%20%20%20%20%20regular_polygon_marker_9555a861dd964e6b9923d0bdedbafdd8.bindPopup%28popup_f6fe9cccd0a443daa92b35a48d28d414%29%0A%20%20%20%20%20%20%20%20%20%20%20%20%3B%0A%0A%20%20%20%20%20%20%20%20%20%20%20%20%0A%20%20%20%20%20%20%20%20%0A%20%20%20%20%0A%20%20%20%20%20%20%20%20%20%20%20%20var%20regular_polygon_marker_1e6c70185c2940809b431ef6d3718ef5%20%3D%20new%20L.RegularPolygonMarker%28%0A%20%20%20%20%20%20%20%20%20%20%20%20%20%20%20%20new%20L.LatLng%2845.5132%2C-122.6708%29%2C%0A%20%20%20%20%20%20%20%20%20%20%20%20%20%20%20%20%7B%0A%20%20%20%20%20%20%20%20%20%20%20%20%20%20%20%20%20%20%20%20icon%20%3A%20new%20L.Icon.Default%28%29%2C%0A%20%20%20%20%20%20%20%20%20%20%20%20%20%20%20%20%20%20%20%20color%3A%20%27black%27%2C%0A%20%20%20%20%20%20%20%20%20%20%20%20%20%20%20%20%20%20%20%20opacity%3A%201%2C%0A%20%20%20%20%20%20%20%20%20%20%20%20%20%20%20%20%20%20%20%20weight%3A%202%2C%0A%20%20%20%20%20%20%20%20%20%20%20%20%20%20%20%20%20%20%20%20fillColor%3A%20%27%2345647d%27%2C%0A%20%20%20%20%20%20%20%20%20%20%20%20%20%20%20%20%20%20%20%20fillOpacity%3A%201%2C%0A%20%20%20%20%20%20%20%20%20%20%20%20%20%20%20%20%20%20%20%20numberOfSides%3A%204%2C%0A%20%20%20%20%20%20%20%20%20%20%20%20%20%20%20%20%20%20%20%20rotation%3A%200%2C%0A%20%20%20%20%20%20%20%20%20%20%20%20%20%20%20%20%20%20%20%20radius%3A%2010%0A%20%20%20%20%20%20%20%20%20%20%20%20%20%20%20%20%20%20%20%20%7D%0A%20%20%20%20%20%20%20%20%20%20%20%20%20%20%20%20%29.addTo%28map_3f3370ea765548ba9fd344f0e720c3dd%29%3B%0A%20%20%20%20%20%20%20%20%20%20%20%20%0A%20%20%20%20%0A%20%20%20%20%20%20%20%20%20%20%20%20var%20popup_bcb33d377f2949ef85d6c6e024cbc0ed%20%3D%20L.popup%28%7BmaxWidth%3A%20%27100%25%27%0A%20%20%20%20%20%20%20%20%20%20%20%20%0A%20%20%20%20%20%20%20%20%20%20%20%20%7D%29%3B%0A%0A%20%20%20%20%20%20%20%20%20%20%20%20%0A%20%20%20%20%20%20%20%20%20%20%20%20%20%20%20%20var%20html_b28a3eda66ff4c5fb91395176bb87b10%20%3D%20%24%28%60%3Cdiv%20id%3D%22html_b28a3eda66ff4c5fb91395176bb87b10%22%20style%3D%22width%3A%20100.0%25%3B%20height%3A%20100.0%25%3B%22%3EHawthorne%20Bridge%3C/div%3E%60%29%5B0%5D%3B%0A%20%20%20%20%20%20%20%20%20%20%20%20%20%20%20%20popup_bcb33d377f2949ef85d6c6e024cbc0ed.setContent%28html_b28a3eda66ff4c5fb91395176bb87b10%29%3B%0A%20%20%20%20%20%20%20%20%20%20%20%20%0A%0A%20%20%20%20%20%20%20%20%20%20%20%20regular_polygon_marker_1e6c70185c2940809b431ef6d3718ef5.bindPopup%28popup_bcb33d377f2949ef85d6c6e024cbc0ed%29%0A%20%20%20%20%20%20%20%20%20%20%20%20%3B%0A%0A%20%20%20%20%20%20%20%20%20%20%20%20%0A%20%20%20%20%20%20%20%20%0A%20%20%20%20%0A%20%20%20%20%20%20%20%20%20%20%20%20var%20regular_polygon_marker_26fe3d9cd5d644e4b7fa25fe7f9548cd%20%3D%20new%20L.RegularPolygonMarker%28%0A%20%20%20%20%20%20%20%20%20%20%20%20%20%20%20%20new%20L.LatLng%2845.5275%2C-122.6692%29%2C%0A%20%20%20%20%20%20%20%20%20%20%20%20%20%20%20%20%7B%0A%20%20%20%20%20%20%20%20%20%20%20%20%20%20%20%20%20%20%20%20icon%20%3A%20new%20L.Icon.Default%28%29%2C%0A%20%20%20%20%20%20%20%20%20%20%20%20%20%20%20%20%20%20%20%20color%3A%20%27black%27%2C%0A%20%20%20%20%20%20%20%20%20%20%20%20%20%20%20%20%20%20%20%20opacity%3A%201%2C%0A%20%20%20%20%20%20%20%20%20%20%20%20%20%20%20%20%20%20%20%20weight%3A%202%2C%0A%20%20%20%20%20%20%20%20%20%20%20%20%20%20%20%20%20%20%20%20fillColor%3A%20%27%23769d96%27%2C%0A%20%20%20%20%20%20%20%20%20%20%20%20%20%20%20%20%20%20%20%20fillOpacity%3A%201%2C%0A%20%20%20%20%20%20%20%20%20%20%20%20%20%20%20%20%20%20%20%20numberOfSides%3A%206%2C%0A%20%20%20%20%20%20%20%20%20%20%20%20%20%20%20%20%20%20%20%20rotation%3A%200%2C%0A%20%20%20%20%20%20%20%20%20%20%20%20%20%20%20%20%20%20%20%20radius%3A%2010%0A%20%20%20%20%20%20%20%20%20%20%20%20%20%20%20%20%20%20%20%20%7D%0A%20%20%20%20%20%20%20%20%20%20%20%20%20%20%20%20%29.addTo%28map_3f3370ea765548ba9fd344f0e720c3dd%29%3B%0A%20%20%20%20%20%20%20%20%20%20%20%20%0A%20%20%20%20%0A%20%20%20%20%20%20%20%20%20%20%20%20var%20popup_d6800fd7313842d488b3bb88349e41e6%20%3D%20L.popup%28%7BmaxWidth%3A%20%27100%25%27%0A%20%20%20%20%20%20%20%20%20%20%20%20%0A%20%20%20%20%20%20%20%20%20%20%20%20%7D%29%3B%0A%0A%20%20%20%20%20%20%20%20%20%20%20%20%0A%20%20%20%20%20%20%20%20%20%20%20%20%20%20%20%20var%20html_dee9f891992049fab842d7c88fcf8811%20%3D%20%24%28%60%3Cdiv%20id%3D%22html_dee9f891992049fab842d7c88fcf8811%22%20style%3D%22width%3A%20100.0%25%3B%20height%3A%20100.0%25%3B%22%3ESteel%20Bridge%3C/div%3E%60%29%5B0%5D%3B%0A%20%20%20%20%20%20%20%20%20%20%20%20%20%20%20%20popup_d6800fd7313842d488b3bb88349e41e6.setContent%28html_dee9f891992049fab842d7c88fcf8811%29%3B%0A%20%20%20%20%20%20%20%20%20%20%20%20%0A%0A%20%20%20%20%20%20%20%20%20%20%20%20regular_polygon_marker_26fe3d9cd5d644e4b7fa25fe7f9548cd.bindPopup%28popup_d6800fd7313842d488b3bb88349e41e6%29%0A%20%20%20%20%20%20%20%20%20%20%20%20%3B%0A%0A%20%20%20%20%20%20%20%20%20%20%20%20%0A%20%20%20%20%20%20%20%20%0A%20%20%20%20%0A%20%20%20%20%20%20%20%20%20%20%20%20var%20regular_polygon_marker_5d4c477fb5ab43788f7968aaf09d6878%20%3D%20new%20L.RegularPolygonMarker%28%0A%20%20%20%20%20%20%20%20%20%20%20%20%20%20%20%20new%20L.LatLng%2845.5318%2C-122.6745%29%2C%0A%20%20%20%20%20%20%20%20%20%20%20%20%20%20%20%20%7B%0A%20%20%20%20%20%20%20%20%20%20%20%20%20%20%20%20%20%20%20%20icon%20%3A%20new%20L.Icon.Default%28%29%2C%0A%20%20%20%20%20%20%20%20%20%20%20%20%20%20%20%20%20%20%20%20color%3A%20%27black%27%2C%0A%20%20%20%20%20%20%20%20%20%20%20%20%20%20%20%20%20%20%20%20opacity%3A%201%2C%0A%20%20%20%20%20%20%20%20%20%20%20%20%20%20%20%20%20%20%20%20weight%3A%202%2C%0A%20%20%20%20%20%20%20%20%20%20%20%20%20%20%20%20%20%20%20%20fillColor%3A%20%27%23769d96%27%2C%0A%20%20%20%20%20%20%20%20%20%20%20%20%20%20%20%20%20%20%20%20fillOpacity%3A%201%2C%0A%20%20%20%20%20%20%20%20%20%20%20%20%20%20%20%20%20%20%20%20numberOfSides%3A%208%2C%0A%20%20%20%20%20%20%20%20%20%20%20%20%20%20%20%20%20%20%20%20rotation%3A%200%2C%0A%20%20%20%20%20%20%20%20%20%20%20%20%20%20%20%20%20%20%20%20radius%3A%2010%0A%20%20%20%20%20%20%20%20%20%20%20%20%20%20%20%20%20%20%20%20%7D%0A%20%20%20%20%20%20%20%20%20%20%20%20%20%20%20%20%29.addTo%28map_3f3370ea765548ba9fd344f0e720c3dd%29%3B%0A%20%20%20%20%20%20%20%20%20%20%20%20%0A%20%20%20%20%0A%20%20%20%20%20%20%20%20%20%20%20%20var%20popup_551b43d7f6e143c69ad27a4341373688%20%3D%20L.popup%28%7BmaxWidth%3A%20%27100%25%27%0A%20%20%20%20%20%20%20%20%20%20%20%20%0A%20%20%20%20%20%20%20%20%20%20%20%20%7D%29%3B%0A%0A%20%20%20%20%20%20%20%20%20%20%20%20%0A%20%20%20%20%20%20%20%20%20%20%20%20%20%20%20%20var%20html_c6cd7bbc81b8425484dfc9871c12de98%20%3D%20%24%28%60%3Cdiv%20id%3D%22html_c6cd7bbc81b8425484dfc9871c12de98%22%20style%3D%22width%3A%20100.0%25%3B%20height%3A%20100.0%25%3B%22%3EBroadway%20Bridge%3C/div%3E%60%29%5B0%5D%3B%0A%20%20%20%20%20%20%20%20%20%20%20%20%20%20%20%20popup_551b43d7f6e143c69ad27a4341373688.setContent%28html_c6cd7bbc81b8425484dfc9871c12de98%29%3B%0A%20%20%20%20%20%20%20%20%20%20%20%20%0A%0A%20%20%20%20%20%20%20%20%20%20%20%20regular_polygon_marker_5d4c477fb5ab43788f7968aaf09d6878.bindPopup%28popup_551b43d7f6e143c69ad27a4341373688%29%0A%20%20%20%20%20%20%20%20%20%20%20%20%3B%0A%0A%20%20%20%20%20%20%20%20%20%20%20%20%0A%20%20%20%20%20%20%20%20%0A%3C/script%3E onload=\"this.contentDocument.open();this.contentDocument.write(    decodeURIComponent(this.getAttribute('data-html')));this.contentDocument.close();\" allowfullscreen webkitallowfullscreen mozallowfullscreen></iframe></div></div>"
            ],
            "text/plain": [
              "<folium.folium.Map at 0x7fd036666b10>"
            ]
          },
          "metadata": {},
          "execution_count": 40
        }
      ]
    },
    {
      "cell_type": "markdown",
      "source": [
        "#### 서울시 주유 가격 상하위 10개 주유소 지도에 표기"
      ],
      "metadata": {
        "id": "wZtPKhA3Pgrk"
      }
    },
    {
      "cell_type": "code",
      "source": [
        "# 서울시 주유 가격 상하위 10개 데이터 추출\n",
        "oil_price_top10 = stations.sort_values(by='가격', ascending=False).head(10)\n",
        "oil_price_top10"
      ],
      "metadata": {
        "colab": {
          "base_uri": "https://localhost:8080/",
          "height": 363
        },
        "id": "8a4GqcaNPbfd",
        "outputId": "979ccc8a-fb53-4a29-ea11-0c1711a92242"
      },
      "execution_count": null,
      "outputs": [
        {
          "output_type": "execute_result",
          "data": {
            "text/html": [
              "<div>\n",
              "<style scoped>\n",
              "    .dataframe tbody tr th:only-of-type {\n",
              "        vertical-align: middle;\n",
              "    }\n",
              "\n",
              "    .dataframe tbody tr th {\n",
              "        vertical-align: top;\n",
              "    }\n",
              "\n",
              "    .dataframe thead th {\n",
              "        text-align: right;\n",
              "    }\n",
              "</style>\n",
              "<table border=\"1\" class=\"dataframe\">\n",
              "  <thead>\n",
              "    <tr style=\"text-align: right;\">\n",
              "      <th></th>\n",
              "      <th>Oil_store</th>\n",
              "      <th>주소</th>\n",
              "      <th>가격</th>\n",
              "      <th>셀프</th>\n",
              "      <th>상표</th>\n",
              "      <th>구</th>\n",
              "    </tr>\n",
              "  </thead>\n",
              "  <tbody>\n",
              "    <tr>\n",
              "      <th>396</th>\n",
              "      <td>서남주유소</td>\n",
              "      <td>서울 중구 통일로 30 (봉래동1가)</td>\n",
              "      <td>2132.0</td>\n",
              "      <td>N</td>\n",
              "      <td>SK에너지</td>\n",
              "      <td>중구</td>\n",
              "    </tr>\n",
              "    <tr>\n",
              "      <th>395</th>\n",
              "      <td>장충주유소</td>\n",
              "      <td>서울 중구 장충단로 202 (장충동1가)</td>\n",
              "      <td>2130.0</td>\n",
              "      <td>N</td>\n",
              "      <td>SK에너지</td>\n",
              "      <td>중구</td>\n",
              "    </tr>\n",
              "    <tr>\n",
              "      <th>85</th>\n",
              "      <td>양재주유소</td>\n",
              "      <td>서울 서초구 바우뫼로 178 (양재동)</td>\n",
              "      <td>2128.0</td>\n",
              "      <td>N</td>\n",
              "      <td>SK에너지</td>\n",
              "      <td>서초구</td>\n",
              "    </tr>\n",
              "    <tr>\n",
              "      <th>243</th>\n",
              "      <td>청파주유소</td>\n",
              "      <td>서울특별시 용산구  청파로 311 (청파동1가)</td>\n",
              "      <td>2106.0</td>\n",
              "      <td>N</td>\n",
              "      <td>SK에너지</td>\n",
              "      <td>용산구</td>\n",
              "    </tr>\n",
              "    <tr>\n",
              "      <th>241</th>\n",
              "      <td>강변주유소</td>\n",
              "      <td>서울특별시 용산구  원효로 9 (청암동)</td>\n",
              "      <td>2106.0</td>\n",
              "      <td>N</td>\n",
              "      <td>SK에너지</td>\n",
              "      <td>용산구</td>\n",
              "    </tr>\n",
              "    <tr>\n",
              "      <th>394</th>\n",
              "      <td>통일주유소</td>\n",
              "      <td>서울 중구 동호로 296 (장충동2가)</td>\n",
              "      <td>2106.0</td>\n",
              "      <td>N</td>\n",
              "      <td>SK에너지</td>\n",
              "      <td>중구</td>\n",
              "    </tr>\n",
              "    <tr>\n",
              "      <th>8</th>\n",
              "      <td>재동주유소</td>\n",
              "      <td>서울특별시 종로구  율곡로 58 (경운동)</td>\n",
              "      <td>2106.0</td>\n",
              "      <td>N</td>\n",
              "      <td>SK에너지</td>\n",
              "      <td>종로구</td>\n",
              "    </tr>\n",
              "    <tr>\n",
              "      <th>242</th>\n",
              "      <td>갈월동주유소</td>\n",
              "      <td>서울특별시 용산구  한강대로 322 (갈월동)</td>\n",
              "      <td>2106.0</td>\n",
              "      <td>N</td>\n",
              "      <td>SK에너지</td>\n",
              "      <td>용산구</td>\n",
              "    </tr>\n",
              "    <tr>\n",
              "      <th>240</th>\n",
              "      <td>흥국주유소</td>\n",
              "      <td>서울 용산구 한남대로 204 (한남동)</td>\n",
              "      <td>2105.0</td>\n",
              "      <td>N</td>\n",
              "      <td>SK에너지</td>\n",
              "      <td>용산구</td>\n",
              "    </tr>\n",
              "    <tr>\n",
              "      <th>393</th>\n",
              "      <td>필동주유소</td>\n",
              "      <td>서울특별시 중구  퇴계로 196 (필동2가)</td>\n",
              "      <td>2099.0</td>\n",
              "      <td>N</td>\n",
              "      <td>GS칼텍스</td>\n",
              "      <td>중구</td>\n",
              "    </tr>\n",
              "  </tbody>\n",
              "</table>\n",
              "</div>"
            ],
            "text/plain": [
              "    Oil_store                          주소      가격 셀프     상표    구\n",
              "396     서남주유소        서울 중구 통일로 30 (봉래동1가)  2132.0  N  SK에너지   중구\n",
              "395     장충주유소      서울 중구 장충단로 202 (장충동1가)  2130.0  N  SK에너지   중구\n",
              "85      양재주유소       서울 서초구 바우뫼로 178 (양재동)  2128.0  N  SK에너지  서초구\n",
              "243     청파주유소  서울특별시 용산구  청파로 311 (청파동1가)  2106.0  N  SK에너지  용산구\n",
              "241     강변주유소      서울특별시 용산구  원효로 9 (청암동)  2106.0  N  SK에너지  용산구\n",
              "394     통일주유소       서울 중구 동호로 296 (장충동2가)  2106.0  N  SK에너지   중구\n",
              "8       재동주유소     서울특별시 종로구  율곡로 58 (경운동)  2106.0  N  SK에너지  종로구\n",
              "242    갈월동주유소   서울특별시 용산구  한강대로 322 (갈월동)  2106.0  N  SK에너지  용산구\n",
              "240     흥국주유소       서울 용산구 한남대로 204 (한남동)  2105.0  N  SK에너지  용산구\n",
              "393     필동주유소    서울특별시 중구  퇴계로 196 (필동2가)  2099.0  N  GS칼텍스   중구"
            ]
          },
          "metadata": {},
          "execution_count": 41
        }
      ]
    },
    {
      "cell_type": "code",
      "source": [
        "oil_price_bottom10 = stations.sort_values(by='가격', ascending=False).tail(10)\n",
        "oil_price_bottom10"
      ],
      "metadata": {
        "colab": {
          "base_uri": "https://localhost:8080/",
          "height": 363
        },
        "id": "eKcqUXGvP3xe",
        "outputId": "0f7ba723-2a14-4533-edb2-67863c727a43"
      },
      "execution_count": null,
      "outputs": [
        {
          "output_type": "execute_result",
          "data": {
            "text/html": [
              "<div>\n",
              "<style scoped>\n",
              "    .dataframe tbody tr th:only-of-type {\n",
              "        vertical-align: middle;\n",
              "    }\n",
              "\n",
              "    .dataframe tbody tr th {\n",
              "        vertical-align: top;\n",
              "    }\n",
              "\n",
              "    .dataframe thead th {\n",
              "        text-align: right;\n",
              "    }\n",
              "</style>\n",
              "<table border=\"1\" class=\"dataframe\">\n",
              "  <thead>\n",
              "    <tr style=\"text-align: right;\">\n",
              "      <th></th>\n",
              "      <th>Oil_store</th>\n",
              "      <th>주소</th>\n",
              "      <th>가격</th>\n",
              "      <th>셀프</th>\n",
              "      <th>상표</th>\n",
              "      <th>구</th>\n",
              "    </tr>\n",
              "  </thead>\n",
              "  <tbody>\n",
              "    <tr>\n",
              "      <th>148</th>\n",
              "      <td>(주)대청에너지 대청주유소</td>\n",
              "      <td>서울 영등포구 가마산로 328 (대림동)</td>\n",
              "      <td>1499.0</td>\n",
              "      <td>N</td>\n",
              "      <td>GS칼텍스</td>\n",
              "      <td>영등포구</td>\n",
              "    </tr>\n",
              "    <tr>\n",
              "      <th>465</th>\n",
              "      <td>풀페이주유소</td>\n",
              "      <td>서울특별시 구로구 경인로 41 (온수동)</td>\n",
              "      <td>1499.0</td>\n",
              "      <td>N</td>\n",
              "      <td>SK에너지</td>\n",
              "      <td>구로구</td>\n",
              "    </tr>\n",
              "    <tr>\n",
              "      <th>32</th>\n",
              "      <td>서경주유소</td>\n",
              "      <td>서울 동작구 대림로 46 (신대방동)</td>\n",
              "      <td>1499.0</td>\n",
              "      <td>N</td>\n",
              "      <td>현대오일뱅크</td>\n",
              "      <td>동작구</td>\n",
              "    </tr>\n",
              "    <tr>\n",
              "      <th>149</th>\n",
              "      <td>(주)강서오일</td>\n",
              "      <td>서울 영등포구 도신로 151 (도림동)</td>\n",
              "      <td>1499.0</td>\n",
              "      <td>N</td>\n",
              "      <td>현대오일뱅크</td>\n",
              "      <td>영등포구</td>\n",
              "    </tr>\n",
              "    <tr>\n",
              "      <th>330</th>\n",
              "      <td>신일셀프주유소</td>\n",
              "      <td>서울 중랑구 상봉로 58 (망우동)</td>\n",
              "      <td>1499.0</td>\n",
              "      <td>Y</td>\n",
              "      <td>SK에너지</td>\n",
              "      <td>중랑구</td>\n",
              "    </tr>\n",
              "    <tr>\n",
              "      <th>147</th>\n",
              "      <td>도림주유소</td>\n",
              "      <td>서울 영등포구 도림로 343 (도림동)</td>\n",
              "      <td>1499.0</td>\n",
              "      <td>Y</td>\n",
              "      <td>알뜰주유소</td>\n",
              "      <td>영등포구</td>\n",
              "    </tr>\n",
              "    <tr>\n",
              "      <th>216</th>\n",
              "      <td>수유동주유소</td>\n",
              "      <td>서울특별시 강북구  도봉로 395 (수유동)</td>\n",
              "      <td>1498.0</td>\n",
              "      <td>Y</td>\n",
              "      <td>GS칼텍스</td>\n",
              "      <td>강북구</td>\n",
              "    </tr>\n",
              "    <tr>\n",
              "      <th>86</th>\n",
              "      <td>강서오곡셀프주유소</td>\n",
              "      <td>서울특별시 강서구 벌말로 254 (오곡동)</td>\n",
              "      <td>1497.0</td>\n",
              "      <td>Y</td>\n",
              "      <td>SK에너지</td>\n",
              "      <td>강서구</td>\n",
              "    </tr>\n",
              "    <tr>\n",
              "      <th>431</th>\n",
              "      <td>태릉솔밭주유소</td>\n",
              "      <td>서울특별시 노원구 노원로 49 (공릉동)</td>\n",
              "      <td>1497.0</td>\n",
              "      <td>Y</td>\n",
              "      <td>S-OIL</td>\n",
              "      <td>노원구</td>\n",
              "    </tr>\n",
              "    <tr>\n",
              "      <th>44</th>\n",
              "      <td>만남의광장주유소</td>\n",
              "      <td>서울 서초구 양재대로12길 73-71 (원지동)</td>\n",
              "      <td>1490.0</td>\n",
              "      <td>N</td>\n",
              "      <td>알뜰(ex)</td>\n",
              "      <td>서초구</td>\n",
              "    </tr>\n",
              "  </tbody>\n",
              "</table>\n",
              "</div>"
            ],
            "text/plain": [
              "          Oil_store                          주소      가격 셀프      상표     구\n",
              "148  (주)대청에너지 대청주유소      서울 영등포구 가마산로 328 (대림동)  1499.0  N   GS칼텍스  영등포구\n",
              "465          풀페이주유소      서울특별시 구로구 경인로 41 (온수동)  1499.0  N   SK에너지   구로구\n",
              "32            서경주유소        서울 동작구 대림로 46 (신대방동)  1499.0  N  현대오일뱅크   동작구\n",
              "149         (주)강서오일       서울 영등포구 도신로 151 (도림동)  1499.0  N  현대오일뱅크  영등포구\n",
              "330         신일셀프주유소         서울 중랑구 상봉로 58 (망우동)  1499.0  Y   SK에너지   중랑구\n",
              "147           도림주유소       서울 영등포구 도림로 343 (도림동)  1499.0  Y   알뜰주유소  영등포구\n",
              "216          수유동주유소    서울특별시 강북구  도봉로 395 (수유동)  1498.0  Y   GS칼텍스   강북구\n",
              "86        강서오곡셀프주유소     서울특별시 강서구 벌말로 254 (오곡동)  1497.0  Y   SK에너지   강서구\n",
              "431         태릉솔밭주유소      서울특별시 노원구 노원로 49 (공릉동)  1497.0  Y   S-OIL   노원구\n",
              "44         만남의광장주유소  서울 서초구 양재대로12길 73-71 (원지동)  1490.0  N  알뜰(ex)   서초구"
            ]
          },
          "metadata": {},
          "execution_count": 42
        }
      ]
    },
    {
      "cell_type": "code",
      "source": [
        "# 반복문 실행에 대한 진행율 표시(Console) %\n",
        "# from tqdm import tqdm_notebook\n",
        "\n",
        "# 구글 맵 API Key\n",
        "gmap_key = \"API KEY\" \n",
        "gmaps = googlemaps.Client(key=gmap_key)"
      ],
      "metadata": {
        "id": "pIYtC8UQP9N3"
      },
      "execution_count": null,
      "outputs": []
    },
    {
      "cell_type": "code",
      "source": [
        "# 상위 10개 주유소 주소를 이용하여 위도/경도를 추출\n",
        "lat = []\n",
        "lng = []"
      ],
      "metadata": {
        "id": "r4CExTsYQZ2t"
      },
      "execution_count": null,
      "outputs": []
    },
    {
      "cell_type": "code",
      "source": [
        "for n in tqdm_notebook(oil_price_top10.index):\n",
        "    try:\n",
        "        tmp_add = str(oil_price_top10['주소'][n]).split('(')[0]\n",
        "        tmp_map = gmaps.geocode(tmp_add)\n",
        "\n",
        "        tmp_loc = tmp_map[0].get('geometry')\n",
        "        lat.append(tmp_loc['location']['lat'])\n",
        "        lng.append(tmp_loc['location']['lng'])  \n",
        "    except:\n",
        "        lat.append(np.nan)\n",
        "        lng.append(np.nan)\n",
        "        print(\"Here is nan !\")"
      ],
      "metadata": {
        "colab": {
          "base_uri": "https://localhost:8080/",
          "height": 49,
          "referenced_widgets": [
            "cf39fe72a95543ffb6437d34169cad85",
            "0c054fcc791b4f75a96921ee7a68ca29",
            "3e6828ff2fb444fea86905222fff04aa",
            "a807a739baed492ba8cb6a3016cf6a64",
            "8af58bbea1b8407c83069330d83cd470",
            "84cbfb9391b047d188ee2b2b2d6a0e42",
            "25f07ac9df7a4bdeb0d7b5f36d8e1e94",
            "6aaaa24f26e843b5838f7b652f1461af",
            "2319032b4cce4b87b0c03cbd3876ced4",
            "e9e15eb8f4344a8d82dc8b1ba88e6684",
            "4298b727066249be82c3110d34727da0"
          ]
        },
        "id": "WTjV7aoWQa8N",
        "outputId": "e80927ba-c738-4189-a821-a44395c4e408"
      },
      "execution_count": null,
      "outputs": [
        {
          "output_type": "display_data",
          "data": {
            "application/vnd.jupyter.widget-view+json": {
              "model_id": "cf39fe72a95543ffb6437d34169cad85",
              "version_minor": 0,
              "version_major": 2
            },
            "text/plain": [
              "  0%|          | 0/10 [00:00<?, ?it/s]"
            ]
          },
          "metadata": {}
        }
      ]
    },
    {
      "cell_type": "code",
      "source": [
        "# 추출된 위도/경도를 데이터 프레임에 추가        \n",
        "oil_price_top10['lat'] = lat\n",
        "oil_price_top10['lng'] = lng\n",
        "oil_price_top10"
      ],
      "metadata": {
        "colab": {
          "base_uri": "https://localhost:8080/",
          "height": 363
        },
        "id": "XBHiXiArQxld",
        "outputId": "bcc15d15-fad0-41f2-f4d8-60dc02669381"
      },
      "execution_count": null,
      "outputs": [
        {
          "output_type": "execute_result",
          "data": {
            "text/html": [
              "<div>\n",
              "<style scoped>\n",
              "    .dataframe tbody tr th:only-of-type {\n",
              "        vertical-align: middle;\n",
              "    }\n",
              "\n",
              "    .dataframe tbody tr th {\n",
              "        vertical-align: top;\n",
              "    }\n",
              "\n",
              "    .dataframe thead th {\n",
              "        text-align: right;\n",
              "    }\n",
              "</style>\n",
              "<table border=\"1\" class=\"dataframe\">\n",
              "  <thead>\n",
              "    <tr style=\"text-align: right;\">\n",
              "      <th></th>\n",
              "      <th>Oil_store</th>\n",
              "      <th>주소</th>\n",
              "      <th>가격</th>\n",
              "      <th>셀프</th>\n",
              "      <th>상표</th>\n",
              "      <th>구</th>\n",
              "      <th>lat</th>\n",
              "      <th>lng</th>\n",
              "    </tr>\n",
              "  </thead>\n",
              "  <tbody>\n",
              "    <tr>\n",
              "      <th>396</th>\n",
              "      <td>서남주유소</td>\n",
              "      <td>서울 중구 통일로 30 (봉래동1가)</td>\n",
              "      <td>2132.0</td>\n",
              "      <td>N</td>\n",
              "      <td>SK에너지</td>\n",
              "      <td>중구</td>\n",
              "      <td>37.558348</td>\n",
              "      <td>126.972090</td>\n",
              "    </tr>\n",
              "    <tr>\n",
              "      <th>395</th>\n",
              "      <td>장충주유소</td>\n",
              "      <td>서울 중구 장충단로 202 (장충동1가)</td>\n",
              "      <td>2130.0</td>\n",
              "      <td>N</td>\n",
              "      <td>SK에너지</td>\n",
              "      <td>중구</td>\n",
              "      <td>37.562719</td>\n",
              "      <td>127.007010</td>\n",
              "    </tr>\n",
              "    <tr>\n",
              "      <th>85</th>\n",
              "      <td>양재주유소</td>\n",
              "      <td>서울 서초구 바우뫼로 178 (양재동)</td>\n",
              "      <td>2128.0</td>\n",
              "      <td>N</td>\n",
              "      <td>SK에너지</td>\n",
              "      <td>서초구</td>\n",
              "      <td>37.478071</td>\n",
              "      <td>127.039610</td>\n",
              "    </tr>\n",
              "    <tr>\n",
              "      <th>243</th>\n",
              "      <td>청파주유소</td>\n",
              "      <td>서울특별시 용산구  청파로 311 (청파동1가)</td>\n",
              "      <td>2106.0</td>\n",
              "      <td>N</td>\n",
              "      <td>SK에너지</td>\n",
              "      <td>용산구</td>\n",
              "      <td>37.547451</td>\n",
              "      <td>126.969904</td>\n",
              "    </tr>\n",
              "    <tr>\n",
              "      <th>241</th>\n",
              "      <td>강변주유소</td>\n",
              "      <td>서울특별시 용산구  원효로 9 (청암동)</td>\n",
              "      <td>2106.0</td>\n",
              "      <td>N</td>\n",
              "      <td>SK에너지</td>\n",
              "      <td>용산구</td>\n",
              "      <td>37.534910</td>\n",
              "      <td>126.945869</td>\n",
              "    </tr>\n",
              "    <tr>\n",
              "      <th>394</th>\n",
              "      <td>통일주유소</td>\n",
              "      <td>서울 중구 동호로 296 (장충동2가)</td>\n",
              "      <td>2106.0</td>\n",
              "      <td>N</td>\n",
              "      <td>SK에너지</td>\n",
              "      <td>중구</td>\n",
              "      <td>37.560714</td>\n",
              "      <td>127.003177</td>\n",
              "    </tr>\n",
              "    <tr>\n",
              "      <th>8</th>\n",
              "      <td>재동주유소</td>\n",
              "      <td>서울특별시 종로구  율곡로 58 (경운동)</td>\n",
              "      <td>2106.0</td>\n",
              "      <td>N</td>\n",
              "      <td>SK에너지</td>\n",
              "      <td>종로구</td>\n",
              "      <td>37.576388</td>\n",
              "      <td>126.985851</td>\n",
              "    </tr>\n",
              "    <tr>\n",
              "      <th>242</th>\n",
              "      <td>갈월동주유소</td>\n",
              "      <td>서울특별시 용산구  한강대로 322 (갈월동)</td>\n",
              "      <td>2106.0</td>\n",
              "      <td>N</td>\n",
              "      <td>SK에너지</td>\n",
              "      <td>용산구</td>\n",
              "      <td>37.546955</td>\n",
              "      <td>126.972218</td>\n",
              "    </tr>\n",
              "    <tr>\n",
              "      <th>240</th>\n",
              "      <td>흥국주유소</td>\n",
              "      <td>서울 용산구 한남대로 204 (한남동)</td>\n",
              "      <td>2105.0</td>\n",
              "      <td>N</td>\n",
              "      <td>SK에너지</td>\n",
              "      <td>용산구</td>\n",
              "      <td>37.545904</td>\n",
              "      <td>127.002858</td>\n",
              "    </tr>\n",
              "    <tr>\n",
              "      <th>393</th>\n",
              "      <td>필동주유소</td>\n",
              "      <td>서울특별시 중구  퇴계로 196 (필동2가)</td>\n",
              "      <td>2099.0</td>\n",
              "      <td>N</td>\n",
              "      <td>GS칼텍스</td>\n",
              "      <td>중구</td>\n",
              "      <td>37.560850</td>\n",
              "      <td>126.993653</td>\n",
              "    </tr>\n",
              "  </tbody>\n",
              "</table>\n",
              "</div>"
            ],
            "text/plain": [
              "    Oil_store                          주소      가격  ...    구        lat         lng\n",
              "396     서남주유소        서울 중구 통일로 30 (봉래동1가)  2132.0  ...   중구  37.558348  126.972090\n",
              "395     장충주유소      서울 중구 장충단로 202 (장충동1가)  2130.0  ...   중구  37.562719  127.007010\n",
              "85      양재주유소       서울 서초구 바우뫼로 178 (양재동)  2128.0  ...  서초구  37.478071  127.039610\n",
              "243     청파주유소  서울특별시 용산구  청파로 311 (청파동1가)  2106.0  ...  용산구  37.547451  126.969904\n",
              "241     강변주유소      서울특별시 용산구  원효로 9 (청암동)  2106.0  ...  용산구  37.534910  126.945869\n",
              "394     통일주유소       서울 중구 동호로 296 (장충동2가)  2106.0  ...   중구  37.560714  127.003177\n",
              "8       재동주유소     서울특별시 종로구  율곡로 58 (경운동)  2106.0  ...  종로구  37.576388  126.985851\n",
              "242    갈월동주유소   서울특별시 용산구  한강대로 322 (갈월동)  2106.0  ...  용산구  37.546955  126.972218\n",
              "240     흥국주유소       서울 용산구 한남대로 204 (한남동)  2105.0  ...  용산구  37.545904  127.002858\n",
              "393     필동주유소    서울특별시 중구  퇴계로 196 (필동2가)  2099.0  ...   중구  37.560850  126.993653\n",
              "\n",
              "[10 rows x 8 columns]"
            ]
          },
          "metadata": {},
          "execution_count": 46
        }
      ]
    },
    {
      "cell_type": "code",
      "source": [
        "# 하위 10개 주유소 주소를 이용하여 위도/경도를 추출\n",
        "lat = []\n",
        "lng = []\n",
        "\n",
        "for n in tqdm_notebook(oil_price_bottom10.index):\n",
        "    try:\n",
        "        tmp_add = oil_price_bottom10['주소'][n].split('(')[0]\n",
        "        tmp_map = gmaps.geocode(tmp_add)\n",
        "\n",
        "        tmp_loc = tmp_map[0]['geometry']\n",
        "        lat.append(tmp_loc['location']['lat'])\n",
        "        lng.append(tmp_loc['location']['lng'])\n",
        "        \n",
        "    except:\n",
        "        lat.append(np.nan)\n",
        "        lng.append(np.nan)\n",
        "        print(\"Here is nan !\")\n",
        "  \n",
        "# 추출된 위도/경도를 데이터 프레임에 추가   \n",
        "oil_price_bottom10['lat'] = lat\n",
        "oil_price_bottom10['lng'] = lng\n",
        "oil_price_bottom10"
      ],
      "metadata": {
        "colab": {
          "base_uri": "https://localhost:8080/",
          "height": 395,
          "referenced_widgets": [
            "cbf7cdcb0d4946b2b9900aa65af29a6b",
            "3d3c6456279840379cdf12ef70c53596",
            "c8e247067f924fee8cff203243c71d54",
            "3685070c34fb46c3a631a2e0e9cc2da6",
            "210e9c6a9ed4478aa7793f927e823981",
            "313e2be53c2f42f881d1e9310ad0571e",
            "e1ccff9970fa44e1886203d8e2af6579",
            "2da79c514d824e7a9f6e20237b582aa0",
            "0fe22ef97a0d473eb1d52edab30a6fba",
            "7529c19e36a6499a930b380e714eadaf",
            "0398cf8edcd745b88df2ece408c96e47"
          ]
        },
        "id": "xGIcWyQIRGTN",
        "outputId": "831b9331-f144-48b5-eaaf-dee5b3416a1b"
      },
      "execution_count": null,
      "outputs": [
        {
          "output_type": "display_data",
          "data": {
            "application/vnd.jupyter.widget-view+json": {
              "model_id": "cbf7cdcb0d4946b2b9900aa65af29a6b",
              "version_minor": 0,
              "version_major": 2
            },
            "text/plain": [
              "  0%|          | 0/10 [00:00<?, ?it/s]"
            ]
          },
          "metadata": {}
        },
        {
          "output_type": "execute_result",
          "data": {
            "text/html": [
              "<div>\n",
              "<style scoped>\n",
              "    .dataframe tbody tr th:only-of-type {\n",
              "        vertical-align: middle;\n",
              "    }\n",
              "\n",
              "    .dataframe tbody tr th {\n",
              "        vertical-align: top;\n",
              "    }\n",
              "\n",
              "    .dataframe thead th {\n",
              "        text-align: right;\n",
              "    }\n",
              "</style>\n",
              "<table border=\"1\" class=\"dataframe\">\n",
              "  <thead>\n",
              "    <tr style=\"text-align: right;\">\n",
              "      <th></th>\n",
              "      <th>Oil_store</th>\n",
              "      <th>주소</th>\n",
              "      <th>가격</th>\n",
              "      <th>셀프</th>\n",
              "      <th>상표</th>\n",
              "      <th>구</th>\n",
              "      <th>lat</th>\n",
              "      <th>lng</th>\n",
              "    </tr>\n",
              "  </thead>\n",
              "  <tbody>\n",
              "    <tr>\n",
              "      <th>148</th>\n",
              "      <td>(주)대청에너지 대청주유소</td>\n",
              "      <td>서울 영등포구 가마산로 328 (대림동)</td>\n",
              "      <td>1499.0</td>\n",
              "      <td>N</td>\n",
              "      <td>GS칼텍스</td>\n",
              "      <td>영등포구</td>\n",
              "      <td>37.498556</td>\n",
              "      <td>126.895791</td>\n",
              "    </tr>\n",
              "    <tr>\n",
              "      <th>465</th>\n",
              "      <td>풀페이주유소</td>\n",
              "      <td>서울특별시 구로구 경인로 41 (온수동)</td>\n",
              "      <td>1499.0</td>\n",
              "      <td>N</td>\n",
              "      <td>SK에너지</td>\n",
              "      <td>구로구</td>\n",
              "      <td>37.491009</td>\n",
              "      <td>126.826675</td>\n",
              "    </tr>\n",
              "    <tr>\n",
              "      <th>32</th>\n",
              "      <td>서경주유소</td>\n",
              "      <td>서울 동작구 대림로 46 (신대방동)</td>\n",
              "      <td>1499.0</td>\n",
              "      <td>N</td>\n",
              "      <td>현대오일뱅크</td>\n",
              "      <td>동작구</td>\n",
              "      <td>37.487947</td>\n",
              "      <td>126.908240</td>\n",
              "    </tr>\n",
              "    <tr>\n",
              "      <th>149</th>\n",
              "      <td>(주)강서오일</td>\n",
              "      <td>서울 영등포구 도신로 151 (도림동)</td>\n",
              "      <td>1499.0</td>\n",
              "      <td>N</td>\n",
              "      <td>현대오일뱅크</td>\n",
              "      <td>영등포구</td>\n",
              "      <td>37.509969</td>\n",
              "      <td>126.908231</td>\n",
              "    </tr>\n",
              "    <tr>\n",
              "      <th>330</th>\n",
              "      <td>신일셀프주유소</td>\n",
              "      <td>서울 중랑구 상봉로 58 (망우동)</td>\n",
              "      <td>1499.0</td>\n",
              "      <td>Y</td>\n",
              "      <td>SK에너지</td>\n",
              "      <td>중랑구</td>\n",
              "      <td>37.590907</td>\n",
              "      <td>127.093834</td>\n",
              "    </tr>\n",
              "    <tr>\n",
              "      <th>147</th>\n",
              "      <td>도림주유소</td>\n",
              "      <td>서울 영등포구 도림로 343 (도림동)</td>\n",
              "      <td>1499.0</td>\n",
              "      <td>Y</td>\n",
              "      <td>알뜰주유소</td>\n",
              "      <td>영등포구</td>\n",
              "      <td>37.507656</td>\n",
              "      <td>126.900191</td>\n",
              "    </tr>\n",
              "    <tr>\n",
              "      <th>216</th>\n",
              "      <td>수유동주유소</td>\n",
              "      <td>서울특별시 강북구  도봉로 395 (수유동)</td>\n",
              "      <td>1498.0</td>\n",
              "      <td>Y</td>\n",
              "      <td>GS칼텍스</td>\n",
              "      <td>강북구</td>\n",
              "      <td>37.642140</td>\n",
              "      <td>127.029568</td>\n",
              "    </tr>\n",
              "    <tr>\n",
              "      <th>86</th>\n",
              "      <td>강서오곡셀프주유소</td>\n",
              "      <td>서울특별시 강서구 벌말로 254 (오곡동)</td>\n",
              "      <td>1497.0</td>\n",
              "      <td>Y</td>\n",
              "      <td>SK에너지</td>\n",
              "      <td>강서구</td>\n",
              "      <td>37.555284</td>\n",
              "      <td>126.768567</td>\n",
              "    </tr>\n",
              "    <tr>\n",
              "      <th>431</th>\n",
              "      <td>태릉솔밭주유소</td>\n",
              "      <td>서울특별시 노원구 노원로 49 (공릉동)</td>\n",
              "      <td>1497.0</td>\n",
              "      <td>Y</td>\n",
              "      <td>S-OIL</td>\n",
              "      <td>노원구</td>\n",
              "      <td>37.625918</td>\n",
              "      <td>127.085533</td>\n",
              "    </tr>\n",
              "    <tr>\n",
              "      <th>44</th>\n",
              "      <td>만남의광장주유소</td>\n",
              "      <td>서울 서초구 양재대로12길 73-71 (원지동)</td>\n",
              "      <td>1490.0</td>\n",
              "      <td>N</td>\n",
              "      <td>알뜰(ex)</td>\n",
              "      <td>서초구</td>\n",
              "      <td>37.459906</td>\n",
              "      <td>127.042060</td>\n",
              "    </tr>\n",
              "  </tbody>\n",
              "</table>\n",
              "</div>"
            ],
            "text/plain": [
              "          Oil_store                          주소  ...        lat         lng\n",
              "148  (주)대청에너지 대청주유소      서울 영등포구 가마산로 328 (대림동)  ...  37.498556  126.895791\n",
              "465          풀페이주유소      서울특별시 구로구 경인로 41 (온수동)  ...  37.491009  126.826675\n",
              "32            서경주유소        서울 동작구 대림로 46 (신대방동)  ...  37.487947  126.908240\n",
              "149         (주)강서오일       서울 영등포구 도신로 151 (도림동)  ...  37.509969  126.908231\n",
              "330         신일셀프주유소         서울 중랑구 상봉로 58 (망우동)  ...  37.590907  127.093834\n",
              "147           도림주유소       서울 영등포구 도림로 343 (도림동)  ...  37.507656  126.900191\n",
              "216          수유동주유소    서울특별시 강북구  도봉로 395 (수유동)  ...  37.642140  127.029568\n",
              "86        강서오곡셀프주유소     서울특별시 강서구 벌말로 254 (오곡동)  ...  37.555284  126.768567\n",
              "431         태릉솔밭주유소      서울특별시 노원구 노원로 49 (공릉동)  ...  37.625918  127.085533\n",
              "44         만남의광장주유소  서울 서초구 양재대로12길 73-71 (원지동)  ...  37.459906  127.042060\n",
              "\n",
              "[10 rows x 8 columns]"
            ]
          },
          "metadata": {},
          "execution_count": 47
        }
      ]
    },
    {
      "cell_type": "code",
      "source": [
        "# folium 을 이용하여 지도위에 주유소 위치 marking\n",
        "map = folium.Map(location=[37.5202, 126.975], zoom_start=10.5)\n",
        "\n",
        "for n in oil_price_top10.index:\n",
        "    if pd.notnull(oil_price_top10['lat'][n]):\n",
        "        folium.CircleMarker([oil_price_top10['lat'][n], oil_price_top10['lng'][n]], \n",
        "                                  radius=15, color='#CD3181', \n",
        "                                  fill_color='#CD3181',\n",
        "                                  fill=True).add_to(map)\n",
        "    \n",
        "for n in oil_price_bottom10.index:\n",
        "    if pd.notnull(oil_price_bottom10['lat'][n]): \n",
        "        folium.CircleMarker([oil_price_bottom10['lat'][n], \n",
        "                                  oil_price_bottom10['lng'][n]], \n",
        "                                  radius=15, color='#3186cc', \n",
        "                                  fill_color='#3186cc',\n",
        "                                  fill=True).add_to(map)"
      ],
      "metadata": {
        "id": "AMMnRvTWRJA0"
      },
      "execution_count": null,
      "outputs": []
    },
    {
      "cell_type": "code",
      "source": [
        "map"
      ],
      "metadata": {
        "colab": {
          "base_uri": "https://localhost:8080/",
          "height": 663
        },
        "id": "CAZPAwRYRKFW",
        "outputId": "e2a58e01-f7c2-4558-c4fc-1e9b4ef45a2f"
      },
      "execution_count": null,
      "outputs": [
        {
          "output_type": "execute_result",
          "data": {
            "text/html": [
              "<div style=\"width:100%;\"><div style=\"position:relative;width:100%;height:0;padding-bottom:60%;\"><span style=\"color:#565656\">Make this Notebook Trusted to load map: File -> Trust Notebook</span><iframe src=\"about:blank\" style=\"position:absolute;width:100%;height:100%;left:0;top:0;border:none !important;\" data-html=%3C%21DOCTYPE%20html%3E%0A%3Chead%3E%20%20%20%20%0A%20%20%20%20%3Cmeta%20http-equiv%3D%22content-type%22%20content%3D%22text/html%3B%20charset%3DUTF-8%22%20/%3E%0A%20%20%20%20%3Cscript%3EL_PREFER_CANVAS%3Dfalse%3B%20L_NO_TOUCH%3Dfalse%3B%20L_DISABLE_3D%3Dfalse%3B%3C/script%3E%0A%20%20%20%20%3Cscript%20src%3D%22https%3A//cdn.jsdelivr.net/npm/leaflet%401.4.0/dist/leaflet.js%22%3E%3C/script%3E%0A%20%20%20%20%3Cscript%20src%3D%22https%3A//code.jquery.com/jquery-1.12.4.min.js%22%3E%3C/script%3E%0A%20%20%20%20%3Cscript%20src%3D%22https%3A//maxcdn.bootstrapcdn.com/bootstrap/3.2.0/js/bootstrap.min.js%22%3E%3C/script%3E%0A%20%20%20%20%3Cscript%20src%3D%22https%3A//cdnjs.cloudflare.com/ajax/libs/Leaflet.awesome-markers/2.0.2/leaflet.awesome-markers.js%22%3E%3C/script%3E%0A%20%20%20%20%3Clink%20rel%3D%22stylesheet%22%20href%3D%22https%3A//cdn.jsdelivr.net/npm/leaflet%401.4.0/dist/leaflet.css%22/%3E%0A%20%20%20%20%3Clink%20rel%3D%22stylesheet%22%20href%3D%22https%3A//maxcdn.bootstrapcdn.com/bootstrap/3.2.0/css/bootstrap.min.css%22/%3E%0A%20%20%20%20%3Clink%20rel%3D%22stylesheet%22%20href%3D%22https%3A//maxcdn.bootstrapcdn.com/bootstrap/3.2.0/css/bootstrap-theme.min.css%22/%3E%0A%20%20%20%20%3Clink%20rel%3D%22stylesheet%22%20href%3D%22https%3A//maxcdn.bootstrapcdn.com/font-awesome/4.6.3/css/font-awesome.min.css%22/%3E%0A%20%20%20%20%3Clink%20rel%3D%22stylesheet%22%20href%3D%22https%3A//cdnjs.cloudflare.com/ajax/libs/Leaflet.awesome-markers/2.0.2/leaflet.awesome-markers.css%22/%3E%0A%20%20%20%20%3Clink%20rel%3D%22stylesheet%22%20href%3D%22https%3A//rawcdn.githack.com/python-visualization/folium/master/folium/templates/leaflet.awesome.rotate.css%22/%3E%0A%20%20%20%20%3Cstyle%3Ehtml%2C%20body%20%7Bwidth%3A%20100%25%3Bheight%3A%20100%25%3Bmargin%3A%200%3Bpadding%3A%200%3B%7D%3C/style%3E%0A%20%20%20%20%3Cstyle%3E%23map%20%7Bposition%3Aabsolute%3Btop%3A0%3Bbottom%3A0%3Bright%3A0%3Bleft%3A0%3B%7D%3C/style%3E%0A%20%20%20%20%0A%20%20%20%20%3Cmeta%20name%3D%22viewport%22%20content%3D%22width%3Ddevice-width%2C%0A%20%20%20%20%20%20%20%20initial-scale%3D1.0%2C%20maximum-scale%3D1.0%2C%20user-scalable%3Dno%22%20/%3E%0A%20%20%20%20%3Cstyle%3E%23map_b858c690ac354926baf9c670ffa924eb%20%7B%0A%20%20%20%20%20%20%20%20position%3A%20relative%3B%0A%20%20%20%20%20%20%20%20width%3A%20100.0%25%3B%0A%20%20%20%20%20%20%20%20height%3A%20100.0%25%3B%0A%20%20%20%20%20%20%20%20left%3A%200.0%25%3B%0A%20%20%20%20%20%20%20%20top%3A%200.0%25%3B%0A%20%20%20%20%20%20%20%20%7D%0A%20%20%20%20%3C/style%3E%0A%3C/head%3E%0A%3Cbody%3E%20%20%20%20%0A%20%20%20%20%0A%20%20%20%20%3Cdiv%20class%3D%22folium-map%22%20id%3D%22map_b858c690ac354926baf9c670ffa924eb%22%20%3E%3C/div%3E%0A%3C/body%3E%0A%3Cscript%3E%20%20%20%20%0A%20%20%20%20%0A%20%20%20%20%0A%20%20%20%20%20%20%20%20var%20bounds%20%3D%20null%3B%0A%20%20%20%20%0A%0A%20%20%20%20var%20map_b858c690ac354926baf9c670ffa924eb%20%3D%20L.map%28%0A%20%20%20%20%20%20%20%20%27map_b858c690ac354926baf9c670ffa924eb%27%2C%20%7B%0A%20%20%20%20%20%20%20%20center%3A%20%5B37.5202%2C%20126.975%5D%2C%0A%20%20%20%20%20%20%20%20zoom%3A%2010.5%2C%0A%20%20%20%20%20%20%20%20maxBounds%3A%20bounds%2C%0A%20%20%20%20%20%20%20%20layers%3A%20%5B%5D%2C%0A%20%20%20%20%20%20%20%20worldCopyJump%3A%20false%2C%0A%20%20%20%20%20%20%20%20crs%3A%20L.CRS.EPSG3857%2C%0A%20%20%20%20%20%20%20%20zoomControl%3A%20true%2C%0A%20%20%20%20%20%20%20%20%7D%29%3B%0A%0A%0A%20%20%20%20%0A%20%20%20%20var%20tile_layer_9639e66d7e06406ba7ba66a0893344a0%20%3D%20L.tileLayer%28%0A%20%20%20%20%20%20%20%20%27https%3A//%7Bs%7D.tile.openstreetmap.org/%7Bz%7D/%7Bx%7D/%7By%7D.png%27%2C%0A%20%20%20%20%20%20%20%20%7B%0A%20%20%20%20%20%20%20%20%22attribution%22%3A%20null%2C%0A%20%20%20%20%20%20%20%20%22detectRetina%22%3A%20false%2C%0A%20%20%20%20%20%20%20%20%22maxNativeZoom%22%3A%2018%2C%0A%20%20%20%20%20%20%20%20%22maxZoom%22%3A%2018%2C%0A%20%20%20%20%20%20%20%20%22minZoom%22%3A%200%2C%0A%20%20%20%20%20%20%20%20%22noWrap%22%3A%20false%2C%0A%20%20%20%20%20%20%20%20%22opacity%22%3A%201%2C%0A%20%20%20%20%20%20%20%20%22subdomains%22%3A%20%22abc%22%2C%0A%20%20%20%20%20%20%20%20%22tms%22%3A%20false%0A%7D%29.addTo%28map_b858c690ac354926baf9c670ffa924eb%29%3B%0A%20%20%20%20%0A%20%20%20%20%20%20%20%20%20%20%20%20var%20circle_marker_bebf2274e90a48d497124bf05f397e7a%20%3D%20L.circleMarker%28%0A%20%20%20%20%20%20%20%20%20%20%20%20%20%20%20%20%5B37.5583477%2C%20126.9720901%5D%2C%0A%20%20%20%20%20%20%20%20%20%20%20%20%20%20%20%20%7B%0A%20%20%22bubblingMouseEvents%22%3A%20true%2C%0A%20%20%22color%22%3A%20%22%23CD3181%22%2C%0A%20%20%22dashArray%22%3A%20null%2C%0A%20%20%22dashOffset%22%3A%20null%2C%0A%20%20%22fill%22%3A%20true%2C%0A%20%20%22fillColor%22%3A%20%22%23CD3181%22%2C%0A%20%20%22fillOpacity%22%3A%200.2%2C%0A%20%20%22fillRule%22%3A%20%22evenodd%22%2C%0A%20%20%22lineCap%22%3A%20%22round%22%2C%0A%20%20%22lineJoin%22%3A%20%22round%22%2C%0A%20%20%22opacity%22%3A%201.0%2C%0A%20%20%22radius%22%3A%2015%2C%0A%20%20%22stroke%22%3A%20true%2C%0A%20%20%22weight%22%3A%203%0A%7D%0A%20%20%20%20%20%20%20%20%20%20%20%20%20%20%20%20%29%0A%20%20%20%20%20%20%20%20%20%20%20%20%20%20%20%20.addTo%28map_b858c690ac354926baf9c670ffa924eb%29%3B%0A%20%20%20%20%20%20%20%20%20%20%20%20%0A%20%20%20%20%0A%20%20%20%20%20%20%20%20%20%20%20%20var%20circle_marker_88d059052de1477f9c63255478a29d33%20%3D%20L.circleMarker%28%0A%20%20%20%20%20%20%20%20%20%20%20%20%20%20%20%20%5B37.5627192%2C%20127.0070101%5D%2C%0A%20%20%20%20%20%20%20%20%20%20%20%20%20%20%20%20%7B%0A%20%20%22bubblingMouseEvents%22%3A%20true%2C%0A%20%20%22color%22%3A%20%22%23CD3181%22%2C%0A%20%20%22dashArray%22%3A%20null%2C%0A%20%20%22dashOffset%22%3A%20null%2C%0A%20%20%22fill%22%3A%20true%2C%0A%20%20%22fillColor%22%3A%20%22%23CD3181%22%2C%0A%20%20%22fillOpacity%22%3A%200.2%2C%0A%20%20%22fillRule%22%3A%20%22evenodd%22%2C%0A%20%20%22lineCap%22%3A%20%22round%22%2C%0A%20%20%22lineJoin%22%3A%20%22round%22%2C%0A%20%20%22opacity%22%3A%201.0%2C%0A%20%20%22radius%22%3A%2015%2C%0A%20%20%22stroke%22%3A%20true%2C%0A%20%20%22weight%22%3A%203%0A%7D%0A%20%20%20%20%20%20%20%20%20%20%20%20%20%20%20%20%29%0A%20%20%20%20%20%20%20%20%20%20%20%20%20%20%20%20.addTo%28map_b858c690ac354926baf9c670ffa924eb%29%3B%0A%20%20%20%20%20%20%20%20%20%20%20%20%0A%20%20%20%20%0A%20%20%20%20%20%20%20%20%20%20%20%20var%20circle_marker_fb54ac8ba66a4de5b75a57a8d4afc93a%20%3D%20L.circleMarker%28%0A%20%20%20%20%20%20%20%20%20%20%20%20%20%20%20%20%5B37.4780706%2C%20127.03961%5D%2C%0A%20%20%20%20%20%20%20%20%20%20%20%20%20%20%20%20%7B%0A%20%20%22bubblingMouseEvents%22%3A%20true%2C%0A%20%20%22color%22%3A%20%22%23CD3181%22%2C%0A%20%20%22dashArray%22%3A%20null%2C%0A%20%20%22dashOffset%22%3A%20null%2C%0A%20%20%22fill%22%3A%20true%2C%0A%20%20%22fillColor%22%3A%20%22%23CD3181%22%2C%0A%20%20%22fillOpacity%22%3A%200.2%2C%0A%20%20%22fillRule%22%3A%20%22evenodd%22%2C%0A%20%20%22lineCap%22%3A%20%22round%22%2C%0A%20%20%22lineJoin%22%3A%20%22round%22%2C%0A%20%20%22opacity%22%3A%201.0%2C%0A%20%20%22radius%22%3A%2015%2C%0A%20%20%22stroke%22%3A%20true%2C%0A%20%20%22weight%22%3A%203%0A%7D%0A%20%20%20%20%20%20%20%20%20%20%20%20%20%20%20%20%29%0A%20%20%20%20%20%20%20%20%20%20%20%20%20%20%20%20.addTo%28map_b858c690ac354926baf9c670ffa924eb%29%3B%0A%20%20%20%20%20%20%20%20%20%20%20%20%0A%20%20%20%20%0A%20%20%20%20%20%20%20%20%20%20%20%20var%20circle_marker_d02cbea0a6184cf2a34fa3aa8710614b%20%3D%20L.circleMarker%28%0A%20%20%20%20%20%20%20%20%20%20%20%20%20%20%20%20%5B37.54745130000001%2C%20126.969904%5D%2C%0A%20%20%20%20%20%20%20%20%20%20%20%20%20%20%20%20%7B%0A%20%20%22bubblingMouseEvents%22%3A%20true%2C%0A%20%20%22color%22%3A%20%22%23CD3181%22%2C%0A%20%20%22dashArray%22%3A%20null%2C%0A%20%20%22dashOffset%22%3A%20null%2C%0A%20%20%22fill%22%3A%20true%2C%0A%20%20%22fillColor%22%3A%20%22%23CD3181%22%2C%0A%20%20%22fillOpacity%22%3A%200.2%2C%0A%20%20%22fillRule%22%3A%20%22evenodd%22%2C%0A%20%20%22lineCap%22%3A%20%22round%22%2C%0A%20%20%22lineJoin%22%3A%20%22round%22%2C%0A%20%20%22opacity%22%3A%201.0%2C%0A%20%20%22radius%22%3A%2015%2C%0A%20%20%22stroke%22%3A%20true%2C%0A%20%20%22weight%22%3A%203%0A%7D%0A%20%20%20%20%20%20%20%20%20%20%20%20%20%20%20%20%29%0A%20%20%20%20%20%20%20%20%20%20%20%20%20%20%20%20.addTo%28map_b858c690ac354926baf9c670ffa924eb%29%3B%0A%20%20%20%20%20%20%20%20%20%20%20%20%0A%20%20%20%20%0A%20%20%20%20%20%20%20%20%20%20%20%20var%20circle_marker_b34674e1880b4fefb518e631d609c025%20%3D%20L.circleMarker%28%0A%20%20%20%20%20%20%20%20%20%20%20%20%20%20%20%20%5B37.5349103%2C%20126.9458687%5D%2C%0A%20%20%20%20%20%20%20%20%20%20%20%20%20%20%20%20%7B%0A%20%20%22bubblingMouseEvents%22%3A%20true%2C%0A%20%20%22color%22%3A%20%22%23CD3181%22%2C%0A%20%20%22dashArray%22%3A%20null%2C%0A%20%20%22dashOffset%22%3A%20null%2C%0A%20%20%22fill%22%3A%20true%2C%0A%20%20%22fillColor%22%3A%20%22%23CD3181%22%2C%0A%20%20%22fillOpacity%22%3A%200.2%2C%0A%20%20%22fillRule%22%3A%20%22evenodd%22%2C%0A%20%20%22lineCap%22%3A%20%22round%22%2C%0A%20%20%22lineJoin%22%3A%20%22round%22%2C%0A%20%20%22opacity%22%3A%201.0%2C%0A%20%20%22radius%22%3A%2015%2C%0A%20%20%22stroke%22%3A%20true%2C%0A%20%20%22weight%22%3A%203%0A%7D%0A%20%20%20%20%20%20%20%20%20%20%20%20%20%20%20%20%29%0A%20%20%20%20%20%20%20%20%20%20%20%20%20%20%20%20.addTo%28map_b858c690ac354926baf9c670ffa924eb%29%3B%0A%20%20%20%20%20%20%20%20%20%20%20%20%0A%20%20%20%20%0A%20%20%20%20%20%20%20%20%20%20%20%20var%20circle_marker_c32df23566b54357b6841b653b2efbd6%20%3D%20L.circleMarker%28%0A%20%20%20%20%20%20%20%20%20%20%20%20%20%20%20%20%5B37.5607136%2C%20127.0031771%5D%2C%0A%20%20%20%20%20%20%20%20%20%20%20%20%20%20%20%20%7B%0A%20%20%22bubblingMouseEvents%22%3A%20true%2C%0A%20%20%22color%22%3A%20%22%23CD3181%22%2C%0A%20%20%22dashArray%22%3A%20null%2C%0A%20%20%22dashOffset%22%3A%20null%2C%0A%20%20%22fill%22%3A%20true%2C%0A%20%20%22fillColor%22%3A%20%22%23CD3181%22%2C%0A%20%20%22fillOpacity%22%3A%200.2%2C%0A%20%20%22fillRule%22%3A%20%22evenodd%22%2C%0A%20%20%22lineCap%22%3A%20%22round%22%2C%0A%20%20%22lineJoin%22%3A%20%22round%22%2C%0A%20%20%22opacity%22%3A%201.0%2C%0A%20%20%22radius%22%3A%2015%2C%0A%20%20%22stroke%22%3A%20true%2C%0A%20%20%22weight%22%3A%203%0A%7D%0A%20%20%20%20%20%20%20%20%20%20%20%20%20%20%20%20%29%0A%20%20%20%20%20%20%20%20%20%20%20%20%20%20%20%20.addTo%28map_b858c690ac354926baf9c670ffa924eb%29%3B%0A%20%20%20%20%20%20%20%20%20%20%20%20%0A%20%20%20%20%0A%20%20%20%20%20%20%20%20%20%20%20%20var%20circle_marker_34d82890b8c24d37b375802e1fb1dd5c%20%3D%20L.circleMarker%28%0A%20%20%20%20%20%20%20%20%20%20%20%20%20%20%20%20%5B37.5763883%2C%20126.9858508%5D%2C%0A%20%20%20%20%20%20%20%20%20%20%20%20%20%20%20%20%7B%0A%20%20%22bubblingMouseEvents%22%3A%20true%2C%0A%20%20%22color%22%3A%20%22%23CD3181%22%2C%0A%20%20%22dashArray%22%3A%20null%2C%0A%20%20%22dashOffset%22%3A%20null%2C%0A%20%20%22fill%22%3A%20true%2C%0A%20%20%22fillColor%22%3A%20%22%23CD3181%22%2C%0A%20%20%22fillOpacity%22%3A%200.2%2C%0A%20%20%22fillRule%22%3A%20%22evenodd%22%2C%0A%20%20%22lineCap%22%3A%20%22round%22%2C%0A%20%20%22lineJoin%22%3A%20%22round%22%2C%0A%20%20%22opacity%22%3A%201.0%2C%0A%20%20%22radius%22%3A%2015%2C%0A%20%20%22stroke%22%3A%20true%2C%0A%20%20%22weight%22%3A%203%0A%7D%0A%20%20%20%20%20%20%20%20%20%20%20%20%20%20%20%20%29%0A%20%20%20%20%20%20%20%20%20%20%20%20%20%20%20%20.addTo%28map_b858c690ac354926baf9c670ffa924eb%29%3B%0A%20%20%20%20%20%20%20%20%20%20%20%20%0A%20%20%20%20%0A%20%20%20%20%20%20%20%20%20%20%20%20var%20circle_marker_69a2da8bcd5a46eba4767b0f5edde5fe%20%3D%20L.circleMarker%28%0A%20%20%20%20%20%20%20%20%20%20%20%20%20%20%20%20%5B37.5469552%2C%20126.9722183%5D%2C%0A%20%20%20%20%20%20%20%20%20%20%20%20%20%20%20%20%7B%0A%20%20%22bubblingMouseEvents%22%3A%20true%2C%0A%20%20%22color%22%3A%20%22%23CD3181%22%2C%0A%20%20%22dashArray%22%3A%20null%2C%0A%20%20%22dashOffset%22%3A%20null%2C%0A%20%20%22fill%22%3A%20true%2C%0A%20%20%22fillColor%22%3A%20%22%23CD3181%22%2C%0A%20%20%22fillOpacity%22%3A%200.2%2C%0A%20%20%22fillRule%22%3A%20%22evenodd%22%2C%0A%20%20%22lineCap%22%3A%20%22round%22%2C%0A%20%20%22lineJoin%22%3A%20%22round%22%2C%0A%20%20%22opacity%22%3A%201.0%2C%0A%20%20%22radius%22%3A%2015%2C%0A%20%20%22stroke%22%3A%20true%2C%0A%20%20%22weight%22%3A%203%0A%7D%0A%20%20%20%20%20%20%20%20%20%20%20%20%20%20%20%20%29%0A%20%20%20%20%20%20%20%20%20%20%20%20%20%20%20%20.addTo%28map_b858c690ac354926baf9c670ffa924eb%29%3B%0A%20%20%20%20%20%20%20%20%20%20%20%20%0A%20%20%20%20%0A%20%20%20%20%20%20%20%20%20%20%20%20var%20circle_marker_c85c66b5b0394d538c3e867af8fcf37e%20%3D%20L.circleMarker%28%0A%20%20%20%20%20%20%20%20%20%20%20%20%20%20%20%20%5B37.5459042%2C%20127.0028583%5D%2C%0A%20%20%20%20%20%20%20%20%20%20%20%20%20%20%20%20%7B%0A%20%20%22bubblingMouseEvents%22%3A%20true%2C%0A%20%20%22color%22%3A%20%22%23CD3181%22%2C%0A%20%20%22dashArray%22%3A%20null%2C%0A%20%20%22dashOffset%22%3A%20null%2C%0A%20%20%22fill%22%3A%20true%2C%0A%20%20%22fillColor%22%3A%20%22%23CD3181%22%2C%0A%20%20%22fillOpacity%22%3A%200.2%2C%0A%20%20%22fillRule%22%3A%20%22evenodd%22%2C%0A%20%20%22lineCap%22%3A%20%22round%22%2C%0A%20%20%22lineJoin%22%3A%20%22round%22%2C%0A%20%20%22opacity%22%3A%201.0%2C%0A%20%20%22radius%22%3A%2015%2C%0A%20%20%22stroke%22%3A%20true%2C%0A%20%20%22weight%22%3A%203%0A%7D%0A%20%20%20%20%20%20%20%20%20%20%20%20%20%20%20%20%29%0A%20%20%20%20%20%20%20%20%20%20%20%20%20%20%20%20.addTo%28map_b858c690ac354926baf9c670ffa924eb%29%3B%0A%20%20%20%20%20%20%20%20%20%20%20%20%0A%20%20%20%20%0A%20%20%20%20%20%20%20%20%20%20%20%20var%20circle_marker_281842d535d44c45ac090a791de19d27%20%3D%20L.circleMarker%28%0A%20%20%20%20%20%20%20%20%20%20%20%20%20%20%20%20%5B37.56084999999999%2C%20126.9936529%5D%2C%0A%20%20%20%20%20%20%20%20%20%20%20%20%20%20%20%20%7B%0A%20%20%22bubblingMouseEvents%22%3A%20true%2C%0A%20%20%22color%22%3A%20%22%23CD3181%22%2C%0A%20%20%22dashArray%22%3A%20null%2C%0A%20%20%22dashOffset%22%3A%20null%2C%0A%20%20%22fill%22%3A%20true%2C%0A%20%20%22fillColor%22%3A%20%22%23CD3181%22%2C%0A%20%20%22fillOpacity%22%3A%200.2%2C%0A%20%20%22fillRule%22%3A%20%22evenodd%22%2C%0A%20%20%22lineCap%22%3A%20%22round%22%2C%0A%20%20%22lineJoin%22%3A%20%22round%22%2C%0A%20%20%22opacity%22%3A%201.0%2C%0A%20%20%22radius%22%3A%2015%2C%0A%20%20%22stroke%22%3A%20true%2C%0A%20%20%22weight%22%3A%203%0A%7D%0A%20%20%20%20%20%20%20%20%20%20%20%20%20%20%20%20%29%0A%20%20%20%20%20%20%20%20%20%20%20%20%20%20%20%20.addTo%28map_b858c690ac354926baf9c670ffa924eb%29%3B%0A%20%20%20%20%20%20%20%20%20%20%20%20%0A%20%20%20%20%0A%20%20%20%20%20%20%20%20%20%20%20%20var%20circle_marker_3a5bd2bd1b794e4995f608d993cc29a7%20%3D%20L.circleMarker%28%0A%20%20%20%20%20%20%20%20%20%20%20%20%20%20%20%20%5B37.4985562%2C%20126.8957906%5D%2C%0A%20%20%20%20%20%20%20%20%20%20%20%20%20%20%20%20%7B%0A%20%20%22bubblingMouseEvents%22%3A%20true%2C%0A%20%20%22color%22%3A%20%22%233186cc%22%2C%0A%20%20%22dashArray%22%3A%20null%2C%0A%20%20%22dashOffset%22%3A%20null%2C%0A%20%20%22fill%22%3A%20true%2C%0A%20%20%22fillColor%22%3A%20%22%233186cc%22%2C%0A%20%20%22fillOpacity%22%3A%200.2%2C%0A%20%20%22fillRule%22%3A%20%22evenodd%22%2C%0A%20%20%22lineCap%22%3A%20%22round%22%2C%0A%20%20%22lineJoin%22%3A%20%22round%22%2C%0A%20%20%22opacity%22%3A%201.0%2C%0A%20%20%22radius%22%3A%2015%2C%0A%20%20%22stroke%22%3A%20true%2C%0A%20%20%22weight%22%3A%203%0A%7D%0A%20%20%20%20%20%20%20%20%20%20%20%20%20%20%20%20%29%0A%20%20%20%20%20%20%20%20%20%20%20%20%20%20%20%20.addTo%28map_b858c690ac354926baf9c670ffa924eb%29%3B%0A%20%20%20%20%20%20%20%20%20%20%20%20%0A%20%20%20%20%0A%20%20%20%20%20%20%20%20%20%20%20%20var%20circle_marker_7300d95e62364c0cacb70a8a4a553663%20%3D%20L.circleMarker%28%0A%20%20%20%20%20%20%20%20%20%20%20%20%20%20%20%20%5B37.4910087%2C%20126.8266753%5D%2C%0A%20%20%20%20%20%20%20%20%20%20%20%20%20%20%20%20%7B%0A%20%20%22bubblingMouseEvents%22%3A%20true%2C%0A%20%20%22color%22%3A%20%22%233186cc%22%2C%0A%20%20%22dashArray%22%3A%20null%2C%0A%20%20%22dashOffset%22%3A%20null%2C%0A%20%20%22fill%22%3A%20true%2C%0A%20%20%22fillColor%22%3A%20%22%233186cc%22%2C%0A%20%20%22fillOpacity%22%3A%200.2%2C%0A%20%20%22fillRule%22%3A%20%22evenodd%22%2C%0A%20%20%22lineCap%22%3A%20%22round%22%2C%0A%20%20%22lineJoin%22%3A%20%22round%22%2C%0A%20%20%22opacity%22%3A%201.0%2C%0A%20%20%22radius%22%3A%2015%2C%0A%20%20%22stroke%22%3A%20true%2C%0A%20%20%22weight%22%3A%203%0A%7D%0A%20%20%20%20%20%20%20%20%20%20%20%20%20%20%20%20%29%0A%20%20%20%20%20%20%20%20%20%20%20%20%20%20%20%20.addTo%28map_b858c690ac354926baf9c670ffa924eb%29%3B%0A%20%20%20%20%20%20%20%20%20%20%20%20%0A%20%20%20%20%0A%20%20%20%20%20%20%20%20%20%20%20%20var%20circle_marker_1a5616faf024407c893b59517bc877e9%20%3D%20L.circleMarker%28%0A%20%20%20%20%20%20%20%20%20%20%20%20%20%20%20%20%5B37.4879468%2C%20126.9082404%5D%2C%0A%20%20%20%20%20%20%20%20%20%20%20%20%20%20%20%20%7B%0A%20%20%22bubblingMouseEvents%22%3A%20true%2C%0A%20%20%22color%22%3A%20%22%233186cc%22%2C%0A%20%20%22dashArray%22%3A%20null%2C%0A%20%20%22dashOffset%22%3A%20null%2C%0A%20%20%22fill%22%3A%20true%2C%0A%20%20%22fillColor%22%3A%20%22%233186cc%22%2C%0A%20%20%22fillOpacity%22%3A%200.2%2C%0A%20%20%22fillRule%22%3A%20%22evenodd%22%2C%0A%20%20%22lineCap%22%3A%20%22round%22%2C%0A%20%20%22lineJoin%22%3A%20%22round%22%2C%0A%20%20%22opacity%22%3A%201.0%2C%0A%20%20%22radius%22%3A%2015%2C%0A%20%20%22stroke%22%3A%20true%2C%0A%20%20%22weight%22%3A%203%0A%7D%0A%20%20%20%20%20%20%20%20%20%20%20%20%20%20%20%20%29%0A%20%20%20%20%20%20%20%20%20%20%20%20%20%20%20%20.addTo%28map_b858c690ac354926baf9c670ffa924eb%29%3B%0A%20%20%20%20%20%20%20%20%20%20%20%20%0A%20%20%20%20%0A%20%20%20%20%20%20%20%20%20%20%20%20var%20circle_marker_c41d5e410d074500ad06d507879c7926%20%3D%20L.circleMarker%28%0A%20%20%20%20%20%20%20%20%20%20%20%20%20%20%20%20%5B37.5099691%2C%20126.9082307%5D%2C%0A%20%20%20%20%20%20%20%20%20%20%20%20%20%20%20%20%7B%0A%20%20%22bubblingMouseEvents%22%3A%20true%2C%0A%20%20%22color%22%3A%20%22%233186cc%22%2C%0A%20%20%22dashArray%22%3A%20null%2C%0A%20%20%22dashOffset%22%3A%20null%2C%0A%20%20%22fill%22%3A%20true%2C%0A%20%20%22fillColor%22%3A%20%22%233186cc%22%2C%0A%20%20%22fillOpacity%22%3A%200.2%2C%0A%20%20%22fillRule%22%3A%20%22evenodd%22%2C%0A%20%20%22lineCap%22%3A%20%22round%22%2C%0A%20%20%22lineJoin%22%3A%20%22round%22%2C%0A%20%20%22opacity%22%3A%201.0%2C%0A%20%20%22radius%22%3A%2015%2C%0A%20%20%22stroke%22%3A%20true%2C%0A%20%20%22weight%22%3A%203%0A%7D%0A%20%20%20%20%20%20%20%20%20%20%20%20%20%20%20%20%29%0A%20%20%20%20%20%20%20%20%20%20%20%20%20%20%20%20.addTo%28map_b858c690ac354926baf9c670ffa924eb%29%3B%0A%20%20%20%20%20%20%20%20%20%20%20%20%0A%20%20%20%20%0A%20%20%20%20%20%20%20%20%20%20%20%20var%20circle_marker_51bad5f7315a44d2aca6bbb6f29b6fc0%20%3D%20L.circleMarker%28%0A%20%20%20%20%20%20%20%20%20%20%20%20%20%20%20%20%5B37.5909065%2C%20127.093834%5D%2C%0A%20%20%20%20%20%20%20%20%20%20%20%20%20%20%20%20%7B%0A%20%20%22bubblingMouseEvents%22%3A%20true%2C%0A%20%20%22color%22%3A%20%22%233186cc%22%2C%0A%20%20%22dashArray%22%3A%20null%2C%0A%20%20%22dashOffset%22%3A%20null%2C%0A%20%20%22fill%22%3A%20true%2C%0A%20%20%22fillColor%22%3A%20%22%233186cc%22%2C%0A%20%20%22fillOpacity%22%3A%200.2%2C%0A%20%20%22fillRule%22%3A%20%22evenodd%22%2C%0A%20%20%22lineCap%22%3A%20%22round%22%2C%0A%20%20%22lineJoin%22%3A%20%22round%22%2C%0A%20%20%22opacity%22%3A%201.0%2C%0A%20%20%22radius%22%3A%2015%2C%0A%20%20%22stroke%22%3A%20true%2C%0A%20%20%22weight%22%3A%203%0A%7D%0A%20%20%20%20%20%20%20%20%20%20%20%20%20%20%20%20%29%0A%20%20%20%20%20%20%20%20%20%20%20%20%20%20%20%20.addTo%28map_b858c690ac354926baf9c670ffa924eb%29%3B%0A%20%20%20%20%20%20%20%20%20%20%20%20%0A%20%20%20%20%0A%20%20%20%20%20%20%20%20%20%20%20%20var%20circle_marker_511f11d93ec941ea920f4b56e1b0e2cd%20%3D%20L.circleMarker%28%0A%20%20%20%20%20%20%20%20%20%20%20%20%20%20%20%20%5B37.5076563%2C%20126.900191%5D%2C%0A%20%20%20%20%20%20%20%20%20%20%20%20%20%20%20%20%7B%0A%20%20%22bubblingMouseEvents%22%3A%20true%2C%0A%20%20%22color%22%3A%20%22%233186cc%22%2C%0A%20%20%22dashArray%22%3A%20null%2C%0A%20%20%22dashOffset%22%3A%20null%2C%0A%20%20%22fill%22%3A%20true%2C%0A%20%20%22fillColor%22%3A%20%22%233186cc%22%2C%0A%20%20%22fillOpacity%22%3A%200.2%2C%0A%20%20%22fillRule%22%3A%20%22evenodd%22%2C%0A%20%20%22lineCap%22%3A%20%22round%22%2C%0A%20%20%22lineJoin%22%3A%20%22round%22%2C%0A%20%20%22opacity%22%3A%201.0%2C%0A%20%20%22radius%22%3A%2015%2C%0A%20%20%22stroke%22%3A%20true%2C%0A%20%20%22weight%22%3A%203%0A%7D%0A%20%20%20%20%20%20%20%20%20%20%20%20%20%20%20%20%29%0A%20%20%20%20%20%20%20%20%20%20%20%20%20%20%20%20.addTo%28map_b858c690ac354926baf9c670ffa924eb%29%3B%0A%20%20%20%20%20%20%20%20%20%20%20%20%0A%20%20%20%20%0A%20%20%20%20%20%20%20%20%20%20%20%20var%20circle_marker_cdc41fe3971146778721c0c596ec1c89%20%3D%20L.circleMarker%28%0A%20%20%20%20%20%20%20%20%20%20%20%20%20%20%20%20%5B37.6421401%2C%20127.0295678%5D%2C%0A%20%20%20%20%20%20%20%20%20%20%20%20%20%20%20%20%7B%0A%20%20%22bubblingMouseEvents%22%3A%20true%2C%0A%20%20%22color%22%3A%20%22%233186cc%22%2C%0A%20%20%22dashArray%22%3A%20null%2C%0A%20%20%22dashOffset%22%3A%20null%2C%0A%20%20%22fill%22%3A%20true%2C%0A%20%20%22fillColor%22%3A%20%22%233186cc%22%2C%0A%20%20%22fillOpacity%22%3A%200.2%2C%0A%20%20%22fillRule%22%3A%20%22evenodd%22%2C%0A%20%20%22lineCap%22%3A%20%22round%22%2C%0A%20%20%22lineJoin%22%3A%20%22round%22%2C%0A%20%20%22opacity%22%3A%201.0%2C%0A%20%20%22radius%22%3A%2015%2C%0A%20%20%22stroke%22%3A%20true%2C%0A%20%20%22weight%22%3A%203%0A%7D%0A%20%20%20%20%20%20%20%20%20%20%20%20%20%20%20%20%29%0A%20%20%20%20%20%20%20%20%20%20%20%20%20%20%20%20.addTo%28map_b858c690ac354926baf9c670ffa924eb%29%3B%0A%20%20%20%20%20%20%20%20%20%20%20%20%0A%20%20%20%20%0A%20%20%20%20%20%20%20%20%20%20%20%20var%20circle_marker_4a9a19ae490e4c748471ce9806dec29f%20%3D%20L.circleMarker%28%0A%20%20%20%20%20%20%20%20%20%20%20%20%20%20%20%20%5B37.5552839%2C%20126.7685674%5D%2C%0A%20%20%20%20%20%20%20%20%20%20%20%20%20%20%20%20%7B%0A%20%20%22bubblingMouseEvents%22%3A%20true%2C%0A%20%20%22color%22%3A%20%22%233186cc%22%2C%0A%20%20%22dashArray%22%3A%20null%2C%0A%20%20%22dashOffset%22%3A%20null%2C%0A%20%20%22fill%22%3A%20true%2C%0A%20%20%22fillColor%22%3A%20%22%233186cc%22%2C%0A%20%20%22fillOpacity%22%3A%200.2%2C%0A%20%20%22fillRule%22%3A%20%22evenodd%22%2C%0A%20%20%22lineCap%22%3A%20%22round%22%2C%0A%20%20%22lineJoin%22%3A%20%22round%22%2C%0A%20%20%22opacity%22%3A%201.0%2C%0A%20%20%22radius%22%3A%2015%2C%0A%20%20%22stroke%22%3A%20true%2C%0A%20%20%22weight%22%3A%203%0A%7D%0A%20%20%20%20%20%20%20%20%20%20%20%20%20%20%20%20%29%0A%20%20%20%20%20%20%20%20%20%20%20%20%20%20%20%20.addTo%28map_b858c690ac354926baf9c670ffa924eb%29%3B%0A%20%20%20%20%20%20%20%20%20%20%20%20%0A%20%20%20%20%0A%20%20%20%20%20%20%20%20%20%20%20%20var%20circle_marker_d2b52b0b69df48e08e9d5e68cb930556%20%3D%20L.circleMarker%28%0A%20%20%20%20%20%20%20%20%20%20%20%20%20%20%20%20%5B37.6259181%2C%20127.0855335%5D%2C%0A%20%20%20%20%20%20%20%20%20%20%20%20%20%20%20%20%7B%0A%20%20%22bubblingMouseEvents%22%3A%20true%2C%0A%20%20%22color%22%3A%20%22%233186cc%22%2C%0A%20%20%22dashArray%22%3A%20null%2C%0A%20%20%22dashOffset%22%3A%20null%2C%0A%20%20%22fill%22%3A%20true%2C%0A%20%20%22fillColor%22%3A%20%22%233186cc%22%2C%0A%20%20%22fillOpacity%22%3A%200.2%2C%0A%20%20%22fillRule%22%3A%20%22evenodd%22%2C%0A%20%20%22lineCap%22%3A%20%22round%22%2C%0A%20%20%22lineJoin%22%3A%20%22round%22%2C%0A%20%20%22opacity%22%3A%201.0%2C%0A%20%20%22radius%22%3A%2015%2C%0A%20%20%22stroke%22%3A%20true%2C%0A%20%20%22weight%22%3A%203%0A%7D%0A%20%20%20%20%20%20%20%20%20%20%20%20%20%20%20%20%29%0A%20%20%20%20%20%20%20%20%20%20%20%20%20%20%20%20.addTo%28map_b858c690ac354926baf9c670ffa924eb%29%3B%0A%20%20%20%20%20%20%20%20%20%20%20%20%0A%20%20%20%20%0A%20%20%20%20%20%20%20%20%20%20%20%20var%20circle_marker_13ce019d2b5846d090e61114cee4bb9e%20%3D%20L.circleMarker%28%0A%20%20%20%20%20%20%20%20%20%20%20%20%20%20%20%20%5B37.4599063%2C%20127.0420601%5D%2C%0A%20%20%20%20%20%20%20%20%20%20%20%20%20%20%20%20%7B%0A%20%20%22bubblingMouseEvents%22%3A%20true%2C%0A%20%20%22color%22%3A%20%22%233186cc%22%2C%0A%20%20%22dashArray%22%3A%20null%2C%0A%20%20%22dashOffset%22%3A%20null%2C%0A%20%20%22fill%22%3A%20true%2C%0A%20%20%22fillColor%22%3A%20%22%233186cc%22%2C%0A%20%20%22fillOpacity%22%3A%200.2%2C%0A%20%20%22fillRule%22%3A%20%22evenodd%22%2C%0A%20%20%22lineCap%22%3A%20%22round%22%2C%0A%20%20%22lineJoin%22%3A%20%22round%22%2C%0A%20%20%22opacity%22%3A%201.0%2C%0A%20%20%22radius%22%3A%2015%2C%0A%20%20%22stroke%22%3A%20true%2C%0A%20%20%22weight%22%3A%203%0A%7D%0A%20%20%20%20%20%20%20%20%20%20%20%20%20%20%20%20%29%0A%20%20%20%20%20%20%20%20%20%20%20%20%20%20%20%20.addTo%28map_b858c690ac354926baf9c670ffa924eb%29%3B%0A%20%20%20%20%20%20%20%20%20%20%20%20%0A%3C/script%3E onload=\"this.contentDocument.open();this.contentDocument.write(    decodeURIComponent(this.getAttribute('data-html')));this.contentDocument.close();\" allowfullscreen webkitallowfullscreen mozallowfullscreen></iframe></div></div>"
            ],
            "text/plain": [
              "<folium.folium.Map at 0x7fd035bed090>"
            ]
          },
          "metadata": {},
          "execution_count": 49
        }
      ]
    },
    {
      "cell_type": "code",
      "source": [
        "# map.save('./result/주유소 위치.html')\n",
        "\n",
        "# import webbrowser\n",
        "# webbrowser.open_new('./result/주유소 위치.html')"
      ],
      "metadata": {
        "id": "5irlA1njRQK8"
      },
      "execution_count": null,
      "outputs": []
    }
  ]
}